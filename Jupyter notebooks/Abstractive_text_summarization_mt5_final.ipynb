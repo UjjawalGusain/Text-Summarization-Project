{
  "nbformat": 4,
  "nbformat_minor": 0,
  "metadata": {
    "colab": {
      "provenance": [],
      "gpuType": "T4"
    },
    "kernelspec": {
      "name": "python3",
      "display_name": "Python 3"
    },
    "language_info": {
      "name": "python"
    },
    "accelerator": "GPU",
    "widgets": {
      "application/vnd.jupyter.widget-state+json": {
        "84f4913e8bdc44cc90267d20c8607dbc": {
          "model_module": "@jupyter-widgets/controls",
          "model_name": "HBoxModel",
          "model_module_version": "1.5.0",
          "state": {
            "_dom_classes": [],
            "_model_module": "@jupyter-widgets/controls",
            "_model_module_version": "1.5.0",
            "_model_name": "HBoxModel",
            "_view_count": null,
            "_view_module": "@jupyter-widgets/controls",
            "_view_module_version": "1.5.0",
            "_view_name": "HBoxView",
            "box_style": "",
            "children": [
              "IPY_MODEL_a4e8684c8ace4979aba5fa0978554d95",
              "IPY_MODEL_ae840febd10e45e99c1d0959b7b40cf5",
              "IPY_MODEL_b4d174e546fa4634ba73802a6845c303"
            ],
            "layout": "IPY_MODEL_9a6678168de14b4c905b4bc75474b794"
          }
        },
        "a4e8684c8ace4979aba5fa0978554d95": {
          "model_module": "@jupyter-widgets/controls",
          "model_name": "HTMLModel",
          "model_module_version": "1.5.0",
          "state": {
            "_dom_classes": [],
            "_model_module": "@jupyter-widgets/controls",
            "_model_module_version": "1.5.0",
            "_model_name": "HTMLModel",
            "_view_count": null,
            "_view_module": "@jupyter-widgets/controls",
            "_view_module_version": "1.5.0",
            "_view_name": "HTMLView",
            "description": "",
            "description_tooltip": null,
            "layout": "IPY_MODEL_b7dd193093354fde945ee107a80ddc4e",
            "placeholder": "​",
            "style": "IPY_MODEL_95bcc3279d534de3b56760c0d2359b41",
            "value": "Generating train split: "
          }
        },
        "ae840febd10e45e99c1d0959b7b40cf5": {
          "model_module": "@jupyter-widgets/controls",
          "model_name": "FloatProgressModel",
          "model_module_version": "1.5.0",
          "state": {
            "_dom_classes": [],
            "_model_module": "@jupyter-widgets/controls",
            "_model_module_version": "1.5.0",
            "_model_name": "FloatProgressModel",
            "_view_count": null,
            "_view_module": "@jupyter-widgets/controls",
            "_view_module_version": "1.5.0",
            "_view_name": "ProgressView",
            "bar_style": "success",
            "description": "",
            "description_tooltip": null,
            "layout": "IPY_MODEL_54a6bc6300a643e6addb6094407dfb4c",
            "max": 1,
            "min": 0,
            "orientation": "horizontal",
            "style": "IPY_MODEL_bf7542ebbcb94d85ac7800fcfd9d58ad",
            "value": 1
          }
        },
        "b4d174e546fa4634ba73802a6845c303": {
          "model_module": "@jupyter-widgets/controls",
          "model_name": "HTMLModel",
          "model_module_version": "1.5.0",
          "state": {
            "_dom_classes": [],
            "_model_module": "@jupyter-widgets/controls",
            "_model_module_version": "1.5.0",
            "_model_name": "HTMLModel",
            "_view_count": null,
            "_view_module": "@jupyter-widgets/controls",
            "_view_module_version": "1.5.0",
            "_view_name": "HTMLView",
            "description": "",
            "description_tooltip": null,
            "layout": "IPY_MODEL_dd434fea67104454b929380f35322e07",
            "placeholder": "​",
            "style": "IPY_MODEL_89bceb80f23c4ea98f2205b1b14b1c08",
            "value": " 4113/0 [00:00&lt;00:00, 7121.21 examples/s]"
          }
        },
        "9a6678168de14b4c905b4bc75474b794": {
          "model_module": "@jupyter-widgets/base",
          "model_name": "LayoutModel",
          "model_module_version": "1.2.0",
          "state": {
            "_model_module": "@jupyter-widgets/base",
            "_model_module_version": "1.2.0",
            "_model_name": "LayoutModel",
            "_view_count": null,
            "_view_module": "@jupyter-widgets/base",
            "_view_module_version": "1.2.0",
            "_view_name": "LayoutView",
            "align_content": null,
            "align_items": null,
            "align_self": null,
            "border": null,
            "bottom": null,
            "display": null,
            "flex": null,
            "flex_flow": null,
            "grid_area": null,
            "grid_auto_columns": null,
            "grid_auto_flow": null,
            "grid_auto_rows": null,
            "grid_column": null,
            "grid_gap": null,
            "grid_row": null,
            "grid_template_areas": null,
            "grid_template_columns": null,
            "grid_template_rows": null,
            "height": null,
            "justify_content": null,
            "justify_items": null,
            "left": null,
            "margin": null,
            "max_height": null,
            "max_width": null,
            "min_height": null,
            "min_width": null,
            "object_fit": null,
            "object_position": null,
            "order": null,
            "overflow": null,
            "overflow_x": null,
            "overflow_y": null,
            "padding": null,
            "right": null,
            "top": null,
            "visibility": null,
            "width": null
          }
        },
        "b7dd193093354fde945ee107a80ddc4e": {
          "model_module": "@jupyter-widgets/base",
          "model_name": "LayoutModel",
          "model_module_version": "1.2.0",
          "state": {
            "_model_module": "@jupyter-widgets/base",
            "_model_module_version": "1.2.0",
            "_model_name": "LayoutModel",
            "_view_count": null,
            "_view_module": "@jupyter-widgets/base",
            "_view_module_version": "1.2.0",
            "_view_name": "LayoutView",
            "align_content": null,
            "align_items": null,
            "align_self": null,
            "border": null,
            "bottom": null,
            "display": null,
            "flex": null,
            "flex_flow": null,
            "grid_area": null,
            "grid_auto_columns": null,
            "grid_auto_flow": null,
            "grid_auto_rows": null,
            "grid_column": null,
            "grid_gap": null,
            "grid_row": null,
            "grid_template_areas": null,
            "grid_template_columns": null,
            "grid_template_rows": null,
            "height": null,
            "justify_content": null,
            "justify_items": null,
            "left": null,
            "margin": null,
            "max_height": null,
            "max_width": null,
            "min_height": null,
            "min_width": null,
            "object_fit": null,
            "object_position": null,
            "order": null,
            "overflow": null,
            "overflow_x": null,
            "overflow_y": null,
            "padding": null,
            "right": null,
            "top": null,
            "visibility": null,
            "width": null
          }
        },
        "95bcc3279d534de3b56760c0d2359b41": {
          "model_module": "@jupyter-widgets/controls",
          "model_name": "DescriptionStyleModel",
          "model_module_version": "1.5.0",
          "state": {
            "_model_module": "@jupyter-widgets/controls",
            "_model_module_version": "1.5.0",
            "_model_name": "DescriptionStyleModel",
            "_view_count": null,
            "_view_module": "@jupyter-widgets/base",
            "_view_module_version": "1.2.0",
            "_view_name": "StyleView",
            "description_width": ""
          }
        },
        "54a6bc6300a643e6addb6094407dfb4c": {
          "model_module": "@jupyter-widgets/base",
          "model_name": "LayoutModel",
          "model_module_version": "1.2.0",
          "state": {
            "_model_module": "@jupyter-widgets/base",
            "_model_module_version": "1.2.0",
            "_model_name": "LayoutModel",
            "_view_count": null,
            "_view_module": "@jupyter-widgets/base",
            "_view_module_version": "1.2.0",
            "_view_name": "LayoutView",
            "align_content": null,
            "align_items": null,
            "align_self": null,
            "border": null,
            "bottom": null,
            "display": null,
            "flex": null,
            "flex_flow": null,
            "grid_area": null,
            "grid_auto_columns": null,
            "grid_auto_flow": null,
            "grid_auto_rows": null,
            "grid_column": null,
            "grid_gap": null,
            "grid_row": null,
            "grid_template_areas": null,
            "grid_template_columns": null,
            "grid_template_rows": null,
            "height": null,
            "justify_content": null,
            "justify_items": null,
            "left": null,
            "margin": null,
            "max_height": null,
            "max_width": null,
            "min_height": null,
            "min_width": null,
            "object_fit": null,
            "object_position": null,
            "order": null,
            "overflow": null,
            "overflow_x": null,
            "overflow_y": null,
            "padding": null,
            "right": null,
            "top": null,
            "visibility": null,
            "width": "20px"
          }
        },
        "bf7542ebbcb94d85ac7800fcfd9d58ad": {
          "model_module": "@jupyter-widgets/controls",
          "model_name": "ProgressStyleModel",
          "model_module_version": "1.5.0",
          "state": {
            "_model_module": "@jupyter-widgets/controls",
            "_model_module_version": "1.5.0",
            "_model_name": "ProgressStyleModel",
            "_view_count": null,
            "_view_module": "@jupyter-widgets/base",
            "_view_module_version": "1.2.0",
            "_view_name": "StyleView",
            "bar_color": null,
            "description_width": ""
          }
        },
        "dd434fea67104454b929380f35322e07": {
          "model_module": "@jupyter-widgets/base",
          "model_name": "LayoutModel",
          "model_module_version": "1.2.0",
          "state": {
            "_model_module": "@jupyter-widgets/base",
            "_model_module_version": "1.2.0",
            "_model_name": "LayoutModel",
            "_view_count": null,
            "_view_module": "@jupyter-widgets/base",
            "_view_module_version": "1.2.0",
            "_view_name": "LayoutView",
            "align_content": null,
            "align_items": null,
            "align_self": null,
            "border": null,
            "bottom": null,
            "display": null,
            "flex": null,
            "flex_flow": null,
            "grid_area": null,
            "grid_auto_columns": null,
            "grid_auto_flow": null,
            "grid_auto_rows": null,
            "grid_column": null,
            "grid_gap": null,
            "grid_row": null,
            "grid_template_areas": null,
            "grid_template_columns": null,
            "grid_template_rows": null,
            "height": null,
            "justify_content": null,
            "justify_items": null,
            "left": null,
            "margin": null,
            "max_height": null,
            "max_width": null,
            "min_height": null,
            "min_width": null,
            "object_fit": null,
            "object_position": null,
            "order": null,
            "overflow": null,
            "overflow_x": null,
            "overflow_y": null,
            "padding": null,
            "right": null,
            "top": null,
            "visibility": null,
            "width": null
          }
        },
        "89bceb80f23c4ea98f2205b1b14b1c08": {
          "model_module": "@jupyter-widgets/controls",
          "model_name": "DescriptionStyleModel",
          "model_module_version": "1.5.0",
          "state": {
            "_model_module": "@jupyter-widgets/controls",
            "_model_module_version": "1.5.0",
            "_model_name": "DescriptionStyleModel",
            "_view_count": null,
            "_view_module": "@jupyter-widgets/base",
            "_view_module_version": "1.2.0",
            "_view_name": "StyleView",
            "description_width": ""
          }
        },
        "10a89b642643408d8d8a7e6d83d1b172": {
          "model_module": "@jupyter-widgets/controls",
          "model_name": "HBoxModel",
          "model_module_version": "1.5.0",
          "state": {
            "_dom_classes": [],
            "_model_module": "@jupyter-widgets/controls",
            "_model_module_version": "1.5.0",
            "_model_name": "HBoxModel",
            "_view_count": null,
            "_view_module": "@jupyter-widgets/controls",
            "_view_module_version": "1.5.0",
            "_view_name": "HBoxView",
            "box_style": "",
            "children": [
              "IPY_MODEL_08ec9e5a6b4d4decaa500f547be5e1cb",
              "IPY_MODEL_aa16830429914a1dbdb31ac0eac2768a",
              "IPY_MODEL_927bc776280445b4986e70e83b959bb6"
            ],
            "layout": "IPY_MODEL_47dd868922a84e92b65a7d847677d7be"
          }
        },
        "08ec9e5a6b4d4decaa500f547be5e1cb": {
          "model_module": "@jupyter-widgets/controls",
          "model_name": "HTMLModel",
          "model_module_version": "1.5.0",
          "state": {
            "_dom_classes": [],
            "_model_module": "@jupyter-widgets/controls",
            "_model_module_version": "1.5.0",
            "_model_name": "HTMLModel",
            "_view_count": null,
            "_view_module": "@jupyter-widgets/controls",
            "_view_module_version": "1.5.0",
            "_view_name": "HTMLView",
            "description": "",
            "description_tooltip": null,
            "layout": "IPY_MODEL_ff19f461a3904191925608b9ee4f76f8",
            "placeholder": "​",
            "style": "IPY_MODEL_ff2a3a6f13c64854b29fec5ada317d7b",
            "value": "Generating validation split: "
          }
        },
        "aa16830429914a1dbdb31ac0eac2768a": {
          "model_module": "@jupyter-widgets/controls",
          "model_name": "FloatProgressModel",
          "model_module_version": "1.5.0",
          "state": {
            "_dom_classes": [],
            "_model_module": "@jupyter-widgets/controls",
            "_model_module_version": "1.5.0",
            "_model_name": "FloatProgressModel",
            "_view_count": null,
            "_view_module": "@jupyter-widgets/controls",
            "_view_module_version": "1.5.0",
            "_view_name": "ProgressView",
            "bar_style": "success",
            "description": "",
            "description_tooltip": null,
            "layout": "IPY_MODEL_51b9a29c34c54f2e933a1d9aac05680b",
            "max": 1,
            "min": 0,
            "orientation": "horizontal",
            "style": "IPY_MODEL_df7a4981cdcd4baca27da325db6c492c",
            "value": 1
          }
        },
        "927bc776280445b4986e70e83b959bb6": {
          "model_module": "@jupyter-widgets/controls",
          "model_name": "HTMLModel",
          "model_module_version": "1.5.0",
          "state": {
            "_dom_classes": [],
            "_model_module": "@jupyter-widgets/controls",
            "_model_module_version": "1.5.0",
            "_model_name": "HTMLModel",
            "_view_count": null,
            "_view_module": "@jupyter-widgets/controls",
            "_view_module_version": "1.5.0",
            "_view_name": "HTMLView",
            "description": "",
            "description_tooltip": null,
            "layout": "IPY_MODEL_3a35fb7c464843069b2db335c1a21191",
            "placeholder": "​",
            "style": "IPY_MODEL_da7722ea55d14d92829aaa7ac61c0be7",
            "value": " 457/0 [00:00&lt;00:00, 5068.71 examples/s]"
          }
        },
        "47dd868922a84e92b65a7d847677d7be": {
          "model_module": "@jupyter-widgets/base",
          "model_name": "LayoutModel",
          "model_module_version": "1.2.0",
          "state": {
            "_model_module": "@jupyter-widgets/base",
            "_model_module_version": "1.2.0",
            "_model_name": "LayoutModel",
            "_view_count": null,
            "_view_module": "@jupyter-widgets/base",
            "_view_module_version": "1.2.0",
            "_view_name": "LayoutView",
            "align_content": null,
            "align_items": null,
            "align_self": null,
            "border": null,
            "bottom": null,
            "display": null,
            "flex": null,
            "flex_flow": null,
            "grid_area": null,
            "grid_auto_columns": null,
            "grid_auto_flow": null,
            "grid_auto_rows": null,
            "grid_column": null,
            "grid_gap": null,
            "grid_row": null,
            "grid_template_areas": null,
            "grid_template_columns": null,
            "grid_template_rows": null,
            "height": null,
            "justify_content": null,
            "justify_items": null,
            "left": null,
            "margin": null,
            "max_height": null,
            "max_width": null,
            "min_height": null,
            "min_width": null,
            "object_fit": null,
            "object_position": null,
            "order": null,
            "overflow": null,
            "overflow_x": null,
            "overflow_y": null,
            "padding": null,
            "right": null,
            "top": null,
            "visibility": null,
            "width": null
          }
        },
        "ff19f461a3904191925608b9ee4f76f8": {
          "model_module": "@jupyter-widgets/base",
          "model_name": "LayoutModel",
          "model_module_version": "1.2.0",
          "state": {
            "_model_module": "@jupyter-widgets/base",
            "_model_module_version": "1.2.0",
            "_model_name": "LayoutModel",
            "_view_count": null,
            "_view_module": "@jupyter-widgets/base",
            "_view_module_version": "1.2.0",
            "_view_name": "LayoutView",
            "align_content": null,
            "align_items": null,
            "align_self": null,
            "border": null,
            "bottom": null,
            "display": null,
            "flex": null,
            "flex_flow": null,
            "grid_area": null,
            "grid_auto_columns": null,
            "grid_auto_flow": null,
            "grid_auto_rows": null,
            "grid_column": null,
            "grid_gap": null,
            "grid_row": null,
            "grid_template_areas": null,
            "grid_template_columns": null,
            "grid_template_rows": null,
            "height": null,
            "justify_content": null,
            "justify_items": null,
            "left": null,
            "margin": null,
            "max_height": null,
            "max_width": null,
            "min_height": null,
            "min_width": null,
            "object_fit": null,
            "object_position": null,
            "order": null,
            "overflow": null,
            "overflow_x": null,
            "overflow_y": null,
            "padding": null,
            "right": null,
            "top": null,
            "visibility": null,
            "width": null
          }
        },
        "ff2a3a6f13c64854b29fec5ada317d7b": {
          "model_module": "@jupyter-widgets/controls",
          "model_name": "DescriptionStyleModel",
          "model_module_version": "1.5.0",
          "state": {
            "_model_module": "@jupyter-widgets/controls",
            "_model_module_version": "1.5.0",
            "_model_name": "DescriptionStyleModel",
            "_view_count": null,
            "_view_module": "@jupyter-widgets/base",
            "_view_module_version": "1.2.0",
            "_view_name": "StyleView",
            "description_width": ""
          }
        },
        "51b9a29c34c54f2e933a1d9aac05680b": {
          "model_module": "@jupyter-widgets/base",
          "model_name": "LayoutModel",
          "model_module_version": "1.2.0",
          "state": {
            "_model_module": "@jupyter-widgets/base",
            "_model_module_version": "1.2.0",
            "_model_name": "LayoutModel",
            "_view_count": null,
            "_view_module": "@jupyter-widgets/base",
            "_view_module_version": "1.2.0",
            "_view_name": "LayoutView",
            "align_content": null,
            "align_items": null,
            "align_self": null,
            "border": null,
            "bottom": null,
            "display": null,
            "flex": null,
            "flex_flow": null,
            "grid_area": null,
            "grid_auto_columns": null,
            "grid_auto_flow": null,
            "grid_auto_rows": null,
            "grid_column": null,
            "grid_gap": null,
            "grid_row": null,
            "grid_template_areas": null,
            "grid_template_columns": null,
            "grid_template_rows": null,
            "height": null,
            "justify_content": null,
            "justify_items": null,
            "left": null,
            "margin": null,
            "max_height": null,
            "max_width": null,
            "min_height": null,
            "min_width": null,
            "object_fit": null,
            "object_position": null,
            "order": null,
            "overflow": null,
            "overflow_x": null,
            "overflow_y": null,
            "padding": null,
            "right": null,
            "top": null,
            "visibility": null,
            "width": "20px"
          }
        },
        "df7a4981cdcd4baca27da325db6c492c": {
          "model_module": "@jupyter-widgets/controls",
          "model_name": "ProgressStyleModel",
          "model_module_version": "1.5.0",
          "state": {
            "_model_module": "@jupyter-widgets/controls",
            "_model_module_version": "1.5.0",
            "_model_name": "ProgressStyleModel",
            "_view_count": null,
            "_view_module": "@jupyter-widgets/base",
            "_view_module_version": "1.2.0",
            "_view_name": "StyleView",
            "bar_color": null,
            "description_width": ""
          }
        },
        "3a35fb7c464843069b2db335c1a21191": {
          "model_module": "@jupyter-widgets/base",
          "model_name": "LayoutModel",
          "model_module_version": "1.2.0",
          "state": {
            "_model_module": "@jupyter-widgets/base",
            "_model_module_version": "1.2.0",
            "_model_name": "LayoutModel",
            "_view_count": null,
            "_view_module": "@jupyter-widgets/base",
            "_view_module_version": "1.2.0",
            "_view_name": "LayoutView",
            "align_content": null,
            "align_items": null,
            "align_self": null,
            "border": null,
            "bottom": null,
            "display": null,
            "flex": null,
            "flex_flow": null,
            "grid_area": null,
            "grid_auto_columns": null,
            "grid_auto_flow": null,
            "grid_auto_rows": null,
            "grid_column": null,
            "grid_gap": null,
            "grid_row": null,
            "grid_template_areas": null,
            "grid_template_columns": null,
            "grid_template_rows": null,
            "height": null,
            "justify_content": null,
            "justify_items": null,
            "left": null,
            "margin": null,
            "max_height": null,
            "max_width": null,
            "min_height": null,
            "min_width": null,
            "object_fit": null,
            "object_position": null,
            "order": null,
            "overflow": null,
            "overflow_x": null,
            "overflow_y": null,
            "padding": null,
            "right": null,
            "top": null,
            "visibility": null,
            "width": null
          }
        },
        "da7722ea55d14d92829aaa7ac61c0be7": {
          "model_module": "@jupyter-widgets/controls",
          "model_name": "DescriptionStyleModel",
          "model_module_version": "1.5.0",
          "state": {
            "_model_module": "@jupyter-widgets/controls",
            "_model_module_version": "1.5.0",
            "_model_name": "DescriptionStyleModel",
            "_view_count": null,
            "_view_module": "@jupyter-widgets/base",
            "_view_module_version": "1.2.0",
            "_view_name": "StyleView",
            "description_width": ""
          }
        },
        "c312edb61bc4422b94f4967f60614e95": {
          "model_module": "@jupyter-widgets/controls",
          "model_name": "HBoxModel",
          "model_module_version": "1.5.0",
          "state": {
            "_dom_classes": [],
            "_model_module": "@jupyter-widgets/controls",
            "_model_module_version": "1.5.0",
            "_model_name": "HBoxModel",
            "_view_count": null,
            "_view_module": "@jupyter-widgets/controls",
            "_view_module_version": "1.5.0",
            "_view_name": "HBoxView",
            "box_style": "",
            "children": [
              "IPY_MODEL_6213ddcb6107438494bceb352ccf6b6c",
              "IPY_MODEL_eae5de1ab931421c91947fd9ca0bf438",
              "IPY_MODEL_1fb4d46cf2b2472bb0cbc6992b00808c"
            ],
            "layout": "IPY_MODEL_59b81ab6d7fb40789211b12edac99a61"
          }
        },
        "6213ddcb6107438494bceb352ccf6b6c": {
          "model_module": "@jupyter-widgets/controls",
          "model_name": "HTMLModel",
          "model_module_version": "1.5.0",
          "state": {
            "_dom_classes": [],
            "_model_module": "@jupyter-widgets/controls",
            "_model_module_version": "1.5.0",
            "_model_name": "HTMLModel",
            "_view_count": null,
            "_view_module": "@jupyter-widgets/controls",
            "_view_module_version": "1.5.0",
            "_view_name": "HTMLView",
            "description": "",
            "description_tooltip": null,
            "layout": "IPY_MODEL_8f50854340f24f86a580bc9c8ee659a2",
            "placeholder": "​",
            "style": "IPY_MODEL_121774736e2d4630b04d94414bfc8492",
            "value": "Map: 100%"
          }
        },
        "eae5de1ab931421c91947fd9ca0bf438": {
          "model_module": "@jupyter-widgets/controls",
          "model_name": "FloatProgressModel",
          "model_module_version": "1.5.0",
          "state": {
            "_dom_classes": [],
            "_model_module": "@jupyter-widgets/controls",
            "_model_module_version": "1.5.0",
            "_model_name": "FloatProgressModel",
            "_view_count": null,
            "_view_module": "@jupyter-widgets/controls",
            "_view_module_version": "1.5.0",
            "_view_name": "ProgressView",
            "bar_style": "success",
            "description": "",
            "description_tooltip": null,
            "layout": "IPY_MODEL_43e00f0d344145629f880be594f40461",
            "max": 4113,
            "min": 0,
            "orientation": "horizontal",
            "style": "IPY_MODEL_b737918ec38b4651a7e78e1fe1c23d80",
            "value": 4113
          }
        },
        "1fb4d46cf2b2472bb0cbc6992b00808c": {
          "model_module": "@jupyter-widgets/controls",
          "model_name": "HTMLModel",
          "model_module_version": "1.5.0",
          "state": {
            "_dom_classes": [],
            "_model_module": "@jupyter-widgets/controls",
            "_model_module_version": "1.5.0",
            "_model_name": "HTMLModel",
            "_view_count": null,
            "_view_module": "@jupyter-widgets/controls",
            "_view_module_version": "1.5.0",
            "_view_name": "HTMLView",
            "description": "",
            "description_tooltip": null,
            "layout": "IPY_MODEL_a5ef86b7d72a48c88a6ce8c510da6f6e",
            "placeholder": "​",
            "style": "IPY_MODEL_034673bf8b02435c84dc926a2f0bcc5d",
            "value": " 4113/4113 [00:09&lt;00:00, 456.20 examples/s]"
          }
        },
        "59b81ab6d7fb40789211b12edac99a61": {
          "model_module": "@jupyter-widgets/base",
          "model_name": "LayoutModel",
          "model_module_version": "1.2.0",
          "state": {
            "_model_module": "@jupyter-widgets/base",
            "_model_module_version": "1.2.0",
            "_model_name": "LayoutModel",
            "_view_count": null,
            "_view_module": "@jupyter-widgets/base",
            "_view_module_version": "1.2.0",
            "_view_name": "LayoutView",
            "align_content": null,
            "align_items": null,
            "align_self": null,
            "border": null,
            "bottom": null,
            "display": null,
            "flex": null,
            "flex_flow": null,
            "grid_area": null,
            "grid_auto_columns": null,
            "grid_auto_flow": null,
            "grid_auto_rows": null,
            "grid_column": null,
            "grid_gap": null,
            "grid_row": null,
            "grid_template_areas": null,
            "grid_template_columns": null,
            "grid_template_rows": null,
            "height": null,
            "justify_content": null,
            "justify_items": null,
            "left": null,
            "margin": null,
            "max_height": null,
            "max_width": null,
            "min_height": null,
            "min_width": null,
            "object_fit": null,
            "object_position": null,
            "order": null,
            "overflow": null,
            "overflow_x": null,
            "overflow_y": null,
            "padding": null,
            "right": null,
            "top": null,
            "visibility": null,
            "width": null
          }
        },
        "8f50854340f24f86a580bc9c8ee659a2": {
          "model_module": "@jupyter-widgets/base",
          "model_name": "LayoutModel",
          "model_module_version": "1.2.0",
          "state": {
            "_model_module": "@jupyter-widgets/base",
            "_model_module_version": "1.2.0",
            "_model_name": "LayoutModel",
            "_view_count": null,
            "_view_module": "@jupyter-widgets/base",
            "_view_module_version": "1.2.0",
            "_view_name": "LayoutView",
            "align_content": null,
            "align_items": null,
            "align_self": null,
            "border": null,
            "bottom": null,
            "display": null,
            "flex": null,
            "flex_flow": null,
            "grid_area": null,
            "grid_auto_columns": null,
            "grid_auto_flow": null,
            "grid_auto_rows": null,
            "grid_column": null,
            "grid_gap": null,
            "grid_row": null,
            "grid_template_areas": null,
            "grid_template_columns": null,
            "grid_template_rows": null,
            "height": null,
            "justify_content": null,
            "justify_items": null,
            "left": null,
            "margin": null,
            "max_height": null,
            "max_width": null,
            "min_height": null,
            "min_width": null,
            "object_fit": null,
            "object_position": null,
            "order": null,
            "overflow": null,
            "overflow_x": null,
            "overflow_y": null,
            "padding": null,
            "right": null,
            "top": null,
            "visibility": null,
            "width": null
          }
        },
        "121774736e2d4630b04d94414bfc8492": {
          "model_module": "@jupyter-widgets/controls",
          "model_name": "DescriptionStyleModel",
          "model_module_version": "1.5.0",
          "state": {
            "_model_module": "@jupyter-widgets/controls",
            "_model_module_version": "1.5.0",
            "_model_name": "DescriptionStyleModel",
            "_view_count": null,
            "_view_module": "@jupyter-widgets/base",
            "_view_module_version": "1.2.0",
            "_view_name": "StyleView",
            "description_width": ""
          }
        },
        "43e00f0d344145629f880be594f40461": {
          "model_module": "@jupyter-widgets/base",
          "model_name": "LayoutModel",
          "model_module_version": "1.2.0",
          "state": {
            "_model_module": "@jupyter-widgets/base",
            "_model_module_version": "1.2.0",
            "_model_name": "LayoutModel",
            "_view_count": null,
            "_view_module": "@jupyter-widgets/base",
            "_view_module_version": "1.2.0",
            "_view_name": "LayoutView",
            "align_content": null,
            "align_items": null,
            "align_self": null,
            "border": null,
            "bottom": null,
            "display": null,
            "flex": null,
            "flex_flow": null,
            "grid_area": null,
            "grid_auto_columns": null,
            "grid_auto_flow": null,
            "grid_auto_rows": null,
            "grid_column": null,
            "grid_gap": null,
            "grid_row": null,
            "grid_template_areas": null,
            "grid_template_columns": null,
            "grid_template_rows": null,
            "height": null,
            "justify_content": null,
            "justify_items": null,
            "left": null,
            "margin": null,
            "max_height": null,
            "max_width": null,
            "min_height": null,
            "min_width": null,
            "object_fit": null,
            "object_position": null,
            "order": null,
            "overflow": null,
            "overflow_x": null,
            "overflow_y": null,
            "padding": null,
            "right": null,
            "top": null,
            "visibility": null,
            "width": null
          }
        },
        "b737918ec38b4651a7e78e1fe1c23d80": {
          "model_module": "@jupyter-widgets/controls",
          "model_name": "ProgressStyleModel",
          "model_module_version": "1.5.0",
          "state": {
            "_model_module": "@jupyter-widgets/controls",
            "_model_module_version": "1.5.0",
            "_model_name": "ProgressStyleModel",
            "_view_count": null,
            "_view_module": "@jupyter-widgets/base",
            "_view_module_version": "1.2.0",
            "_view_name": "StyleView",
            "bar_color": null,
            "description_width": ""
          }
        },
        "a5ef86b7d72a48c88a6ce8c510da6f6e": {
          "model_module": "@jupyter-widgets/base",
          "model_name": "LayoutModel",
          "model_module_version": "1.2.0",
          "state": {
            "_model_module": "@jupyter-widgets/base",
            "_model_module_version": "1.2.0",
            "_model_name": "LayoutModel",
            "_view_count": null,
            "_view_module": "@jupyter-widgets/base",
            "_view_module_version": "1.2.0",
            "_view_name": "LayoutView",
            "align_content": null,
            "align_items": null,
            "align_self": null,
            "border": null,
            "bottom": null,
            "display": null,
            "flex": null,
            "flex_flow": null,
            "grid_area": null,
            "grid_auto_columns": null,
            "grid_auto_flow": null,
            "grid_auto_rows": null,
            "grid_column": null,
            "grid_gap": null,
            "grid_row": null,
            "grid_template_areas": null,
            "grid_template_columns": null,
            "grid_template_rows": null,
            "height": null,
            "justify_content": null,
            "justify_items": null,
            "left": null,
            "margin": null,
            "max_height": null,
            "max_width": null,
            "min_height": null,
            "min_width": null,
            "object_fit": null,
            "object_position": null,
            "order": null,
            "overflow": null,
            "overflow_x": null,
            "overflow_y": null,
            "padding": null,
            "right": null,
            "top": null,
            "visibility": null,
            "width": null
          }
        },
        "034673bf8b02435c84dc926a2f0bcc5d": {
          "model_module": "@jupyter-widgets/controls",
          "model_name": "DescriptionStyleModel",
          "model_module_version": "1.5.0",
          "state": {
            "_model_module": "@jupyter-widgets/controls",
            "_model_module_version": "1.5.0",
            "_model_name": "DescriptionStyleModel",
            "_view_count": null,
            "_view_module": "@jupyter-widgets/base",
            "_view_module_version": "1.2.0",
            "_view_name": "StyleView",
            "description_width": ""
          }
        },
        "440a163a0e7a4a228b52fe4a803122cb": {
          "model_module": "@jupyter-widgets/controls",
          "model_name": "HBoxModel",
          "model_module_version": "1.5.0",
          "state": {
            "_dom_classes": [],
            "_model_module": "@jupyter-widgets/controls",
            "_model_module_version": "1.5.0",
            "_model_name": "HBoxModel",
            "_view_count": null,
            "_view_module": "@jupyter-widgets/controls",
            "_view_module_version": "1.5.0",
            "_view_name": "HBoxView",
            "box_style": "",
            "children": [
              "IPY_MODEL_9a2593bdd77f4791ab33c325a88e16e1",
              "IPY_MODEL_2de6c84eab5b4e86971e0204534b96a2",
              "IPY_MODEL_a8b62b5d1d964f12805be18b163d36a4"
            ],
            "layout": "IPY_MODEL_92dc3edfac9e44c68aa352db54963941"
          }
        },
        "9a2593bdd77f4791ab33c325a88e16e1": {
          "model_module": "@jupyter-widgets/controls",
          "model_name": "HTMLModel",
          "model_module_version": "1.5.0",
          "state": {
            "_dom_classes": [],
            "_model_module": "@jupyter-widgets/controls",
            "_model_module_version": "1.5.0",
            "_model_name": "HTMLModel",
            "_view_count": null,
            "_view_module": "@jupyter-widgets/controls",
            "_view_module_version": "1.5.0",
            "_view_name": "HTMLView",
            "description": "",
            "description_tooltip": null,
            "layout": "IPY_MODEL_b0f9c8e79e104e249d30774306a21add",
            "placeholder": "​",
            "style": "IPY_MODEL_c783dfbfc6354d4da0d9ea7184f2687b",
            "value": "Map: 100%"
          }
        },
        "2de6c84eab5b4e86971e0204534b96a2": {
          "model_module": "@jupyter-widgets/controls",
          "model_name": "FloatProgressModel",
          "model_module_version": "1.5.0",
          "state": {
            "_dom_classes": [],
            "_model_module": "@jupyter-widgets/controls",
            "_model_module_version": "1.5.0",
            "_model_name": "FloatProgressModel",
            "_view_count": null,
            "_view_module": "@jupyter-widgets/controls",
            "_view_module_version": "1.5.0",
            "_view_name": "ProgressView",
            "bar_style": "success",
            "description": "",
            "description_tooltip": null,
            "layout": "IPY_MODEL_9ab8b2f7651e4282814b09d73e5481c3",
            "max": 457,
            "min": 0,
            "orientation": "horizontal",
            "style": "IPY_MODEL_eed3536290ad488b9201e501625a5ba0",
            "value": 457
          }
        },
        "a8b62b5d1d964f12805be18b163d36a4": {
          "model_module": "@jupyter-widgets/controls",
          "model_name": "HTMLModel",
          "model_module_version": "1.5.0",
          "state": {
            "_dom_classes": [],
            "_model_module": "@jupyter-widgets/controls",
            "_model_module_version": "1.5.0",
            "_model_name": "HTMLModel",
            "_view_count": null,
            "_view_module": "@jupyter-widgets/controls",
            "_view_module_version": "1.5.0",
            "_view_name": "HTMLView",
            "description": "",
            "description_tooltip": null,
            "layout": "IPY_MODEL_26f1af5ca8c540e7afe9cd34f73586a8",
            "placeholder": "​",
            "style": "IPY_MODEL_e84b5b08722848ee9c19b400599d519b",
            "value": " 457/457 [00:00&lt;00:00, 522.76 examples/s]"
          }
        },
        "92dc3edfac9e44c68aa352db54963941": {
          "model_module": "@jupyter-widgets/base",
          "model_name": "LayoutModel",
          "model_module_version": "1.2.0",
          "state": {
            "_model_module": "@jupyter-widgets/base",
            "_model_module_version": "1.2.0",
            "_model_name": "LayoutModel",
            "_view_count": null,
            "_view_module": "@jupyter-widgets/base",
            "_view_module_version": "1.2.0",
            "_view_name": "LayoutView",
            "align_content": null,
            "align_items": null,
            "align_self": null,
            "border": null,
            "bottom": null,
            "display": null,
            "flex": null,
            "flex_flow": null,
            "grid_area": null,
            "grid_auto_columns": null,
            "grid_auto_flow": null,
            "grid_auto_rows": null,
            "grid_column": null,
            "grid_gap": null,
            "grid_row": null,
            "grid_template_areas": null,
            "grid_template_columns": null,
            "grid_template_rows": null,
            "height": null,
            "justify_content": null,
            "justify_items": null,
            "left": null,
            "margin": null,
            "max_height": null,
            "max_width": null,
            "min_height": null,
            "min_width": null,
            "object_fit": null,
            "object_position": null,
            "order": null,
            "overflow": null,
            "overflow_x": null,
            "overflow_y": null,
            "padding": null,
            "right": null,
            "top": null,
            "visibility": null,
            "width": null
          }
        },
        "b0f9c8e79e104e249d30774306a21add": {
          "model_module": "@jupyter-widgets/base",
          "model_name": "LayoutModel",
          "model_module_version": "1.2.0",
          "state": {
            "_model_module": "@jupyter-widgets/base",
            "_model_module_version": "1.2.0",
            "_model_name": "LayoutModel",
            "_view_count": null,
            "_view_module": "@jupyter-widgets/base",
            "_view_module_version": "1.2.0",
            "_view_name": "LayoutView",
            "align_content": null,
            "align_items": null,
            "align_self": null,
            "border": null,
            "bottom": null,
            "display": null,
            "flex": null,
            "flex_flow": null,
            "grid_area": null,
            "grid_auto_columns": null,
            "grid_auto_flow": null,
            "grid_auto_rows": null,
            "grid_column": null,
            "grid_gap": null,
            "grid_row": null,
            "grid_template_areas": null,
            "grid_template_columns": null,
            "grid_template_rows": null,
            "height": null,
            "justify_content": null,
            "justify_items": null,
            "left": null,
            "margin": null,
            "max_height": null,
            "max_width": null,
            "min_height": null,
            "min_width": null,
            "object_fit": null,
            "object_position": null,
            "order": null,
            "overflow": null,
            "overflow_x": null,
            "overflow_y": null,
            "padding": null,
            "right": null,
            "top": null,
            "visibility": null,
            "width": null
          }
        },
        "c783dfbfc6354d4da0d9ea7184f2687b": {
          "model_module": "@jupyter-widgets/controls",
          "model_name": "DescriptionStyleModel",
          "model_module_version": "1.5.0",
          "state": {
            "_model_module": "@jupyter-widgets/controls",
            "_model_module_version": "1.5.0",
            "_model_name": "DescriptionStyleModel",
            "_view_count": null,
            "_view_module": "@jupyter-widgets/base",
            "_view_module_version": "1.2.0",
            "_view_name": "StyleView",
            "description_width": ""
          }
        },
        "9ab8b2f7651e4282814b09d73e5481c3": {
          "model_module": "@jupyter-widgets/base",
          "model_name": "LayoutModel",
          "model_module_version": "1.2.0",
          "state": {
            "_model_module": "@jupyter-widgets/base",
            "_model_module_version": "1.2.0",
            "_model_name": "LayoutModel",
            "_view_count": null,
            "_view_module": "@jupyter-widgets/base",
            "_view_module_version": "1.2.0",
            "_view_name": "LayoutView",
            "align_content": null,
            "align_items": null,
            "align_self": null,
            "border": null,
            "bottom": null,
            "display": null,
            "flex": null,
            "flex_flow": null,
            "grid_area": null,
            "grid_auto_columns": null,
            "grid_auto_flow": null,
            "grid_auto_rows": null,
            "grid_column": null,
            "grid_gap": null,
            "grid_row": null,
            "grid_template_areas": null,
            "grid_template_columns": null,
            "grid_template_rows": null,
            "height": null,
            "justify_content": null,
            "justify_items": null,
            "left": null,
            "margin": null,
            "max_height": null,
            "max_width": null,
            "min_height": null,
            "min_width": null,
            "object_fit": null,
            "object_position": null,
            "order": null,
            "overflow": null,
            "overflow_x": null,
            "overflow_y": null,
            "padding": null,
            "right": null,
            "top": null,
            "visibility": null,
            "width": null
          }
        },
        "eed3536290ad488b9201e501625a5ba0": {
          "model_module": "@jupyter-widgets/controls",
          "model_name": "ProgressStyleModel",
          "model_module_version": "1.5.0",
          "state": {
            "_model_module": "@jupyter-widgets/controls",
            "_model_module_version": "1.5.0",
            "_model_name": "ProgressStyleModel",
            "_view_count": null,
            "_view_module": "@jupyter-widgets/base",
            "_view_module_version": "1.2.0",
            "_view_name": "StyleView",
            "bar_color": null,
            "description_width": ""
          }
        },
        "26f1af5ca8c540e7afe9cd34f73586a8": {
          "model_module": "@jupyter-widgets/base",
          "model_name": "LayoutModel",
          "model_module_version": "1.2.0",
          "state": {
            "_model_module": "@jupyter-widgets/base",
            "_model_module_version": "1.2.0",
            "_model_name": "LayoutModel",
            "_view_count": null,
            "_view_module": "@jupyter-widgets/base",
            "_view_module_version": "1.2.0",
            "_view_name": "LayoutView",
            "align_content": null,
            "align_items": null,
            "align_self": null,
            "border": null,
            "bottom": null,
            "display": null,
            "flex": null,
            "flex_flow": null,
            "grid_area": null,
            "grid_auto_columns": null,
            "grid_auto_flow": null,
            "grid_auto_rows": null,
            "grid_column": null,
            "grid_gap": null,
            "grid_row": null,
            "grid_template_areas": null,
            "grid_template_columns": null,
            "grid_template_rows": null,
            "height": null,
            "justify_content": null,
            "justify_items": null,
            "left": null,
            "margin": null,
            "max_height": null,
            "max_width": null,
            "min_height": null,
            "min_width": null,
            "object_fit": null,
            "object_position": null,
            "order": null,
            "overflow": null,
            "overflow_x": null,
            "overflow_y": null,
            "padding": null,
            "right": null,
            "top": null,
            "visibility": null,
            "width": null
          }
        },
        "e84b5b08722848ee9c19b400599d519b": {
          "model_module": "@jupyter-widgets/controls",
          "model_name": "DescriptionStyleModel",
          "model_module_version": "1.5.0",
          "state": {
            "_model_module": "@jupyter-widgets/controls",
            "_model_module_version": "1.5.0",
            "_model_name": "DescriptionStyleModel",
            "_view_count": null,
            "_view_module": "@jupyter-widgets/base",
            "_view_module_version": "1.2.0",
            "_view_name": "StyleView",
            "description_width": ""
          }
        }
      }
    }
  },
  "cells": [
    {
      "cell_type": "code",
      "source": [
        "!nvidia-smi"
      ],
      "metadata": {
        "colab": {
          "base_uri": "https://localhost:8080/"
        },
        "id": "f0gC5rQZX1qn",
        "outputId": "f48e284b-3c8f-4017-aac3-630dea078242"
      },
      "execution_count": null,
      "outputs": [
        {
          "output_type": "stream",
          "name": "stdout",
          "text": [
            "Fri Jul 12 14:51:56 2024       \n",
            "+---------------------------------------------------------------------------------------+\n",
            "| NVIDIA-SMI 535.104.05             Driver Version: 535.104.05   CUDA Version: 12.2     |\n",
            "|-----------------------------------------+----------------------+----------------------+\n",
            "| GPU  Name                 Persistence-M | Bus-Id        Disp.A | Volatile Uncorr. ECC |\n",
            "| Fan  Temp   Perf          Pwr:Usage/Cap |         Memory-Usage | GPU-Util  Compute M. |\n",
            "|                                         |                      |               MIG M. |\n",
            "|=========================================+======================+======================|\n",
            "|   0  Tesla T4                       Off | 00000000:00:04.0 Off |                    0 |\n",
            "| N/A   48C    P0              28W /  70W |   8423MiB / 15360MiB |      0%      Default |\n",
            "|                                         |                      |                  N/A |\n",
            "+-----------------------------------------+----------------------+----------------------+\n",
            "                                                                                         \n",
            "+---------------------------------------------------------------------------------------+\n",
            "| Processes:                                                                            |\n",
            "|  GPU   GI   CI        PID   Type   Process name                            GPU Memory |\n",
            "|        ID   ID                                                             Usage      |\n",
            "|=======================================================================================|\n",
            "+---------------------------------------------------------------------------------------+\n"
          ]
        }
      ]
    },
    {
      "cell_type": "code",
      "execution_count": null,
      "metadata": {
        "colab": {
          "base_uri": "https://localhost:8080/"
        },
        "id": "7tTkxHdsXLJs",
        "outputId": "bb0f394c-fe8d-42d6-c5ad-2a971db3224d"
      },
      "outputs": [
        {
          "output_type": "stream",
          "name": "stdout",
          "text": [
            "Drive already mounted at /content/drive; to attempt to forcibly remount, call drive.mount(\"/content/drive\", force_remount=True).\n"
          ]
        }
      ],
      "source": [
        "from google.colab import drive\n",
        "drive.mount('/content/drive')"
      ]
    },
    {
      "cell_type": "code",
      "source": [
        "import numpy as np\n",
        "import pandas as pd"
      ],
      "metadata": {
        "id": "83vhR1aQXPwh"
      },
      "execution_count": null,
      "outputs": []
    },
    {
      "cell_type": "code",
      "source": [
        "dataset = pd.read_csv('/content/drive/MyDrive/train_10000.csv')\n",
        "\n",
        "# Reduce the dataset to only 1000 rows\n",
        "# dataset = dataset.head(1000)\n",
        "\n",
        "dataset.shape"
      ],
      "metadata": {
        "colab": {
          "base_uri": "https://localhost:8080/"
        },
        "id": "bGaibB6sXV_a",
        "outputId": "31cdbc07-3b24-4224-d07f-5d448fe646c4"
      },
      "execution_count": null,
      "outputs": [
        {
          "output_type": "execute_result",
          "data": {
            "text/plain": [
              "(10000, 3)"
            ]
          },
          "metadata": {},
          "execution_count": 40
        }
      ]
    },
    {
      "cell_type": "code",
      "source": [
        "dataset.head()"
      ],
      "metadata": {
        "colab": {
          "base_uri": "https://localhost:8080/",
          "height": 293
        },
        "id": "7uoYFTAGXXoS",
        "outputId": "9df0d7c7-31b9-4166-d53b-de5d45cc4599"
      },
      "execution_count": null,
      "outputs": [
        {
          "output_type": "execute_result",
          "data": {
            "text/plain": [
              "                                            headline  \\\n",
              "0  उत्तर भारत में शीत लहर जारी, लेह में पारा सात ...   \n",
              "1  यमन : विद्रोहियों के कब्जे वाले ताएज शहर के नि...   \n",
              "2  केन्या में आतंकियों ने बस को अगवा कर 28 लोगों ...   \n",
              "3           रिम करेगा दो हजार कर्मचारियों की छंटनी     \n",
              "4  Puducherry: उपराज्यपाल किरण बेदी से हुआ विवाद ...   \n",
              "\n",
              "                                             summary  \\\n",
              "0                                                NaN   \n",
              "1                                                NaN   \n",
              "2                                                NaN   \n",
              "3  ब्लैकबेरी हैंडसेट बनाने वाली कनाडा की कंपनी रि...   \n",
              "4                                                NaN   \n",
              "\n",
              "                                             article  \n",
              "0  उत्तर भारत में शीत लहर जारी है और पहाड़ी क्षेत...  \n",
              "1  यमन सरकार के समर्थक बलों के विद्रोहियों के कब्...  \n",
              "2  केन्या के उत्तर में, सोमालिया के अल-शबाब गुट क...  \n",
              "3  ब्लैकबेरी हैंडसेट बनाने वाली कनाडा की कंपनी रि...  \n",
              "4  केंद्र शासित प्रदेश पुडुचेरी के मुख्यमंत्री  व...  "
            ],
            "text/html": [
              "\n",
              "  <div id=\"df-d88a3a1d-ff81-4a5b-96c5-c9e7e0b7d531\" class=\"colab-df-container\">\n",
              "    <div>\n",
              "<style scoped>\n",
              "    .dataframe tbody tr th:only-of-type {\n",
              "        vertical-align: middle;\n",
              "    }\n",
              "\n",
              "    .dataframe tbody tr th {\n",
              "        vertical-align: top;\n",
              "    }\n",
              "\n",
              "    .dataframe thead th {\n",
              "        text-align: right;\n",
              "    }\n",
              "</style>\n",
              "<table border=\"1\" class=\"dataframe\">\n",
              "  <thead>\n",
              "    <tr style=\"text-align: right;\">\n",
              "      <th></th>\n",
              "      <th>headline</th>\n",
              "      <th>summary</th>\n",
              "      <th>article</th>\n",
              "    </tr>\n",
              "  </thead>\n",
              "  <tbody>\n",
              "    <tr>\n",
              "      <th>0</th>\n",
              "      <td>उत्तर भारत में शीत लहर जारी, लेह में पारा सात ...</td>\n",
              "      <td>NaN</td>\n",
              "      <td>उत्तर भारत में शीत लहर जारी है और पहाड़ी क्षेत...</td>\n",
              "    </tr>\n",
              "    <tr>\n",
              "      <th>1</th>\n",
              "      <td>यमन : विद्रोहियों के कब्जे वाले ताएज शहर के नि...</td>\n",
              "      <td>NaN</td>\n",
              "      <td>यमन सरकार के समर्थक बलों के विद्रोहियों के कब्...</td>\n",
              "    </tr>\n",
              "    <tr>\n",
              "      <th>2</th>\n",
              "      <td>केन्या में आतंकियों ने बस को अगवा कर 28 लोगों ...</td>\n",
              "      <td>NaN</td>\n",
              "      <td>केन्या के उत्तर में, सोमालिया के अल-शबाब गुट क...</td>\n",
              "    </tr>\n",
              "    <tr>\n",
              "      <th>3</th>\n",
              "      <td>रिम करेगा दो हजार कर्मचारियों की छंटनी</td>\n",
              "      <td>ब्लैकबेरी हैंडसेट बनाने वाली कनाडा की कंपनी रि...</td>\n",
              "      <td>ब्लैकबेरी हैंडसेट बनाने वाली कनाडा की कंपनी रि...</td>\n",
              "    </tr>\n",
              "    <tr>\n",
              "      <th>4</th>\n",
              "      <td>Puducherry: उपराज्यपाल किरण बेदी से हुआ विवाद ...</td>\n",
              "      <td>NaN</td>\n",
              "      <td>केंद्र शासित प्रदेश पुडुचेरी के मुख्यमंत्री  व...</td>\n",
              "    </tr>\n",
              "  </tbody>\n",
              "</table>\n",
              "</div>\n",
              "    <div class=\"colab-df-buttons\">\n",
              "\n",
              "  <div class=\"colab-df-container\">\n",
              "    <button class=\"colab-df-convert\" onclick=\"convertToInteractive('df-d88a3a1d-ff81-4a5b-96c5-c9e7e0b7d531')\"\n",
              "            title=\"Convert this dataframe to an interactive table.\"\n",
              "            style=\"display:none;\">\n",
              "\n",
              "  <svg xmlns=\"http://www.w3.org/2000/svg\" height=\"24px\" viewBox=\"0 -960 960 960\">\n",
              "    <path d=\"M120-120v-720h720v720H120Zm60-500h600v-160H180v160Zm220 220h160v-160H400v160Zm0 220h160v-160H400v160ZM180-400h160v-160H180v160Zm440 0h160v-160H620v160ZM180-180h160v-160H180v160Zm440 0h160v-160H620v160Z\"/>\n",
              "  </svg>\n",
              "    </button>\n",
              "\n",
              "  <style>\n",
              "    .colab-df-container {\n",
              "      display:flex;\n",
              "      gap: 12px;\n",
              "    }\n",
              "\n",
              "    .colab-df-convert {\n",
              "      background-color: #E8F0FE;\n",
              "      border: none;\n",
              "      border-radius: 50%;\n",
              "      cursor: pointer;\n",
              "      display: none;\n",
              "      fill: #1967D2;\n",
              "      height: 32px;\n",
              "      padding: 0 0 0 0;\n",
              "      width: 32px;\n",
              "    }\n",
              "\n",
              "    .colab-df-convert:hover {\n",
              "      background-color: #E2EBFA;\n",
              "      box-shadow: 0px 1px 2px rgba(60, 64, 67, 0.3), 0px 1px 3px 1px rgba(60, 64, 67, 0.15);\n",
              "      fill: #174EA6;\n",
              "    }\n",
              "\n",
              "    .colab-df-buttons div {\n",
              "      margin-bottom: 4px;\n",
              "    }\n",
              "\n",
              "    [theme=dark] .colab-df-convert {\n",
              "      background-color: #3B4455;\n",
              "      fill: #D2E3FC;\n",
              "    }\n",
              "\n",
              "    [theme=dark] .colab-df-convert:hover {\n",
              "      background-color: #434B5C;\n",
              "      box-shadow: 0px 1px 3px 1px rgba(0, 0, 0, 0.15);\n",
              "      filter: drop-shadow(0px 1px 2px rgba(0, 0, 0, 0.3));\n",
              "      fill: #FFFFFF;\n",
              "    }\n",
              "  </style>\n",
              "\n",
              "    <script>\n",
              "      const buttonEl =\n",
              "        document.querySelector('#df-d88a3a1d-ff81-4a5b-96c5-c9e7e0b7d531 button.colab-df-convert');\n",
              "      buttonEl.style.display =\n",
              "        google.colab.kernel.accessAllowed ? 'block' : 'none';\n",
              "\n",
              "      async function convertToInteractive(key) {\n",
              "        const element = document.querySelector('#df-d88a3a1d-ff81-4a5b-96c5-c9e7e0b7d531');\n",
              "        const dataTable =\n",
              "          await google.colab.kernel.invokeFunction('convertToInteractive',\n",
              "                                                    [key], {});\n",
              "        if (!dataTable) return;\n",
              "\n",
              "        const docLinkHtml = 'Like what you see? Visit the ' +\n",
              "          '<a target=\"_blank\" href=https://colab.research.google.com/notebooks/data_table.ipynb>data table notebook</a>'\n",
              "          + ' to learn more about interactive tables.';\n",
              "        element.innerHTML = '';\n",
              "        dataTable['output_type'] = 'display_data';\n",
              "        await google.colab.output.renderOutput(dataTable, element);\n",
              "        const docLink = document.createElement('div');\n",
              "        docLink.innerHTML = docLinkHtml;\n",
              "        element.appendChild(docLink);\n",
              "      }\n",
              "    </script>\n",
              "  </div>\n",
              "\n",
              "\n",
              "<div id=\"df-508b092c-c734-4bd3-9557-34b6a5fc4fa7\">\n",
              "  <button class=\"colab-df-quickchart\" onclick=\"quickchart('df-508b092c-c734-4bd3-9557-34b6a5fc4fa7')\"\n",
              "            title=\"Suggest charts\"\n",
              "            style=\"display:none;\">\n",
              "\n",
              "<svg xmlns=\"http://www.w3.org/2000/svg\" height=\"24px\"viewBox=\"0 0 24 24\"\n",
              "     width=\"24px\">\n",
              "    <g>\n",
              "        <path d=\"M19 3H5c-1.1 0-2 .9-2 2v14c0 1.1.9 2 2 2h14c1.1 0 2-.9 2-2V5c0-1.1-.9-2-2-2zM9 17H7v-7h2v7zm4 0h-2V7h2v10zm4 0h-2v-4h2v4z\"/>\n",
              "    </g>\n",
              "</svg>\n",
              "  </button>\n",
              "\n",
              "<style>\n",
              "  .colab-df-quickchart {\n",
              "      --bg-color: #E8F0FE;\n",
              "      --fill-color: #1967D2;\n",
              "      --hover-bg-color: #E2EBFA;\n",
              "      --hover-fill-color: #174EA6;\n",
              "      --disabled-fill-color: #AAA;\n",
              "      --disabled-bg-color: #DDD;\n",
              "  }\n",
              "\n",
              "  [theme=dark] .colab-df-quickchart {\n",
              "      --bg-color: #3B4455;\n",
              "      --fill-color: #D2E3FC;\n",
              "      --hover-bg-color: #434B5C;\n",
              "      --hover-fill-color: #FFFFFF;\n",
              "      --disabled-bg-color: #3B4455;\n",
              "      --disabled-fill-color: #666;\n",
              "  }\n",
              "\n",
              "  .colab-df-quickchart {\n",
              "    background-color: var(--bg-color);\n",
              "    border: none;\n",
              "    border-radius: 50%;\n",
              "    cursor: pointer;\n",
              "    display: none;\n",
              "    fill: var(--fill-color);\n",
              "    height: 32px;\n",
              "    padding: 0;\n",
              "    width: 32px;\n",
              "  }\n",
              "\n",
              "  .colab-df-quickchart:hover {\n",
              "    background-color: var(--hover-bg-color);\n",
              "    box-shadow: 0 1px 2px rgba(60, 64, 67, 0.3), 0 1px 3px 1px rgba(60, 64, 67, 0.15);\n",
              "    fill: var(--button-hover-fill-color);\n",
              "  }\n",
              "\n",
              "  .colab-df-quickchart-complete:disabled,\n",
              "  .colab-df-quickchart-complete:disabled:hover {\n",
              "    background-color: var(--disabled-bg-color);\n",
              "    fill: var(--disabled-fill-color);\n",
              "    box-shadow: none;\n",
              "  }\n",
              "\n",
              "  .colab-df-spinner {\n",
              "    border: 2px solid var(--fill-color);\n",
              "    border-color: transparent;\n",
              "    border-bottom-color: var(--fill-color);\n",
              "    animation:\n",
              "      spin 1s steps(1) infinite;\n",
              "  }\n",
              "\n",
              "  @keyframes spin {\n",
              "    0% {\n",
              "      border-color: transparent;\n",
              "      border-bottom-color: var(--fill-color);\n",
              "      border-left-color: var(--fill-color);\n",
              "    }\n",
              "    20% {\n",
              "      border-color: transparent;\n",
              "      border-left-color: var(--fill-color);\n",
              "      border-top-color: var(--fill-color);\n",
              "    }\n",
              "    30% {\n",
              "      border-color: transparent;\n",
              "      border-left-color: var(--fill-color);\n",
              "      border-top-color: var(--fill-color);\n",
              "      border-right-color: var(--fill-color);\n",
              "    }\n",
              "    40% {\n",
              "      border-color: transparent;\n",
              "      border-right-color: var(--fill-color);\n",
              "      border-top-color: var(--fill-color);\n",
              "    }\n",
              "    60% {\n",
              "      border-color: transparent;\n",
              "      border-right-color: var(--fill-color);\n",
              "    }\n",
              "    80% {\n",
              "      border-color: transparent;\n",
              "      border-right-color: var(--fill-color);\n",
              "      border-bottom-color: var(--fill-color);\n",
              "    }\n",
              "    90% {\n",
              "      border-color: transparent;\n",
              "      border-bottom-color: var(--fill-color);\n",
              "    }\n",
              "  }\n",
              "</style>\n",
              "\n",
              "  <script>\n",
              "    async function quickchart(key) {\n",
              "      const quickchartButtonEl =\n",
              "        document.querySelector('#' + key + ' button');\n",
              "      quickchartButtonEl.disabled = true;  // To prevent multiple clicks.\n",
              "      quickchartButtonEl.classList.add('colab-df-spinner');\n",
              "      try {\n",
              "        const charts = await google.colab.kernel.invokeFunction(\n",
              "            'suggestCharts', [key], {});\n",
              "      } catch (error) {\n",
              "        console.error('Error during call to suggestCharts:', error);\n",
              "      }\n",
              "      quickchartButtonEl.classList.remove('colab-df-spinner');\n",
              "      quickchartButtonEl.classList.add('colab-df-quickchart-complete');\n",
              "    }\n",
              "    (() => {\n",
              "      let quickchartButtonEl =\n",
              "        document.querySelector('#df-508b092c-c734-4bd3-9557-34b6a5fc4fa7 button');\n",
              "      quickchartButtonEl.style.display =\n",
              "        google.colab.kernel.accessAllowed ? 'block' : 'none';\n",
              "    })();\n",
              "  </script>\n",
              "</div>\n",
              "\n",
              "    </div>\n",
              "  </div>\n"
            ],
            "application/vnd.google.colaboratory.intrinsic+json": {
              "type": "dataframe",
              "variable_name": "dataset",
              "summary": "{\n  \"name\": \"dataset\",\n  \"rows\": 10000,\n  \"fields\": [\n    {\n      \"column\": \"headline\",\n      \"properties\": {\n        \"dtype\": \"string\",\n        \"num_unique_values\": 9657,\n        \"samples\": [\n          \"BCCI \\u0928\\u0947 \\u0927\\u094b\\u0928\\u0940-\\u0938\\u0939\\u0935\\u093e\\u0917 \\u0915\\u094b \\u090f\\u0915\\u091c\\u0941\\u091f \\u0939\\u094b\\u0915\\u0930 \\u0916\\u0947\\u0932\\u0928\\u0947 \\u0915\\u0940 \\u0924\\u093e\\u0915\\u0940\\u0926 \\u0915\\u0940  \",\n          \"\\u0915\\u094b\\u0932\\u0915\\u093e\\u0924\\u093e \\u092e\\u0947\\u0902 \\u0926\\u0941\\u0930\\u094d\\u0917\\u093e \\u092a\\u0942\\u091c\\u093e \\u092a\\u0902\\u0921\\u093e\\u0932 \\u0915\\u093e \\u0909\\u0926\\u094d\\u0918\\u093e\\u091f\\u0928 \\u0915\\u0930\\u0947\\u0902\\u0917\\u0947 \\u0905\\u0930\\u094d\\u091c\\u0947\\u0902\\u091f\\u0940\\u0928\\u093e \\u0915\\u0947 \\u092e\\u0939\\u093e\\u0928 \\u092b\\u0941\\u091f\\u092c\\u0949\\u0932\\u0930 \\u092e\\u093e\\u0930\\u093e\\u0921\\u094b\\u0928\\u093e  \",\n          \"TikTok \\u092a\\u0930 \\u0935\\u093e\\u092f\\u0930\\u0932 \\u0939\\u0941\\u090f '\\u0905\\u0902\\u0915\\u0932-\\u0906\\u0902\\u091f\\u0940', \\u092a\\u0924\\u093f \\u0915\\u094b \\u0915\\u0939\\u093e- '\\u0924\\u0942 \\u0915\\u0902\\u091c\\u0942\\u0938 \\u0939\\u0948, \\u092a\\u0942\\u0930\\u093e \\u092e\\u0915\\u094d\\u0916\\u0940\\u091a\\u0942\\u0938 \\u0939\\u0948...' \\u0926\\u0947\\u0916\\u0947\\u0902 Videos  \"\n        ],\n        \"semantic_type\": \"\",\n        \"description\": \"\"\n      }\n    },\n    {\n      \"column\": \"summary\",\n      \"properties\": {\n        \"dtype\": \"category\",\n        \"num_unique_values\": 4523,\n        \"samples\": [\n          \"\\u0938\\u094d\\u0915\\u0942\\u0932 \\u091b\\u093e\\u0924\\u094d\\u0930 \\u0928\\u0947 \\u092a\\u0940\\u090f\\u092e \\u0915\\u0940 \\u0930\\u0948\\u0932\\u0940 \\u0915\\u0947 \\u0932\\u093f\\u090f \\u0938\\u094d\\u0915\\u0942\\u0932 \\u092c\\u0938 \\u0932\\u0947 \\u0932\\u093f\\u090f \\u091c\\u093e\\u0928\\u0947 \\u092a\\u0930 \\u0928\\u093e\\u0930\\u093e\\u091c\\u093c\\u0917\\u0940 \\u091c\\u0924\\u093e\\u0908\\r\\n\\u092c\\u091a\\u094d\\u091a\\u0947 \\u0928\\u0947 \\u0932\\u093f\\u0916\\u093e, \\\"\\u0915\\u094d\\u092f\\u093e \\u0906\\u092a\\u0915\\u0940 \\u0938\\u092d\\u093e \\u092e\\u0947\\u0930\\u0947 \\u0938\\u094d\\u0915\\u0942\\u0932 \\u0938\\u0947 \\u091c\\u093c\\u094d\\u092f\\u093e\\u0926\\u093e \\u092e\\u0939\\u0924\\u094d\\u0935\\u092a\\u0942\\u0930\\u094d\\u0923 \\u0939\\u0948...?\\\"\\r\\n\\u092a\\u094d\\u0930\\u0936\\u093e\\u0938\\u0928 \\u0928\\u0947 \\u0938\\u094d\\u0915\\u0942\\u0932 \\u092c\\u0938\\u094b\\u0902 \\u0915\\u094b \\u092d\\u0947\\u091c\\u0928\\u0947 \\u0915\\u093e \\u0906\\u0926\\u0947\\u0936 \\u0935\\u093e\\u092a\\u0938 \\u0932\\u0947 \\u0932\\u093f\\u092f\\u093e \\u0939\\u0948\",\n          \"\\u092a\\u0940\\u090f\\u092e \\u092e\\u094b\\u0926\\u0940 \\u0915\\u093e \\u0930\\u093e\\u0937\\u094d\\u091f\\u094d\\u0930 \\u0915\\u0947 \\u0928\\u093e\\u092e \\u0938\\u0902\\u092c\\u094b\\u0927\\u0928\\r\\n\\u091c\\u092e\\u094d\\u092e\\u0942-\\u0915\\u0936\\u094d\\u092e\\u0940\\u0930 \\u0915\\u0947 \\u0932\\u094b\\u0917\\u094b\\u0902 \\u0915\\u094b \\u0926\\u093f\\u092f\\u093e \\u0906\\u0936\\u094d\\u0935\\u093e\\u0938\\u0928\\r\\n\\u0908\\u0926 \\u0915\\u0940 \\u092d\\u0940 \\u0926\\u0940 \\u0936\\u0941\\u092d\\u0915\\u093e\\u092e\\u0928\\u093e\\u090f\\u0902\",\n          \"\\u092f\\u0942\\u092a\\u0940 \\u0938\\u0930\\u0915\\u093e\\u0930 \\u0928\\u0947 \\u092e\\u0928\\u0930\\u0947\\u0917\\u093e \\u092e\\u0947\\u0902 \\u0917\\u095c\\u092c\\u095c\\u0940 \\u0915\\u0947 \\u0906\\u0930\\u094b\\u092a\\u094b\\u0902 \\u0938\\u0947 \\u0907\\u0928\\u0915\\u093e\\u0930 \\u0915\\u093f\\u092f\\u093e \\u0939\\u0948 \\u0914\\u0930 \\u0915\\u0939\\u093e \\u0939\\u0948 \\u0915\\u093f \\u0915\\u0947\\u0928\\u094d\\u0926\\u094d\\u0930 \\u0938\\u0930\\u0915\\u093e\\u0930 \\u0907\\u0938 \\u092e\\u093e\\u092e\\u0932\\u0947 \\u092e\\u0947\\u0902 \\u0930\\u093e\\u091c\\u0928\\u0940\\u0924\\u093f \\u0915\\u0930 \\u0930\\u0939\\u0940 \\u0939\\u0948\\u0964\"\n        ],\n        \"semantic_type\": \"\",\n        \"description\": \"\"\n      }\n    },\n    {\n      \"column\": \"article\",\n      \"properties\": {\n        \"dtype\": \"string\",\n        \"num_unique_values\": 9206,\n        \"samples\": [\n          \"\\u0935\\u093f\\u092f\\u0924\\u0928\\u093e\\u092e \\u092e\\u0947\\u0902 \\u092f\\u0941\\u0926\\u094d\\u0927 \\u0915\\u0947 \\u0938\\u092e\\u092f \\u0915\\u0947 \\u092c\\u092e \\u0915\\u0947 \\u0938\\u093e\\u0925 \\u0916\\u0947\\u0932 \\u0930\\u0939\\u0947 \\u091a\\u093e\\u0930 \\u092c\\u091a\\u094d\\u091a\\u094b\\u0902 \\u0915\\u0940 \\u092c\\u092e \\u092b\\u091f \\u091c\\u093e\\u0928\\u0947 \\u0938\\u0947 \\u092e\\u094c\\u0924 \\u0939\\u094b \\u0917\\u0908\\u0964 \\u0938\\u092e\\u093e\\u091a\\u093e\\u0930 \\u090f\\u091c\\u0947\\u0902\\u0938\\u0940 \\u0908\\u090f\\u092b\\u0908 \\u0915\\u0947 \\u092e\\u0941\\u0924\\u093e\\u092c\\u093f\\u0915, \\u092f\\u0939 \\u0926\\u0941\\u0930\\u094d\\u0918\\u091f\\u0928\\u093e \\u0930\\u0935\\u093f\\u0935\\u093e\\u0930 \\u0915\\u094b \\u0935\\u093f\\u0928\\u094d\\u0939 \\u0932\\u093e\\u0902\\u0917 \\u092a\\u094d\\u0930\\u093e\\u0902\\u0924 \\u092e\\u0947\\u0902 \\u0939\\u0941\\u0908\\u0964 \\u0935\\u0941\\u0902\\u0917 \\u0932\\u0940\\u092e \\u091c\\u093f\\u0932\\u0947 \\u0915\\u0947 \\u092a\\u0941\\u0932\\u093f\\u0938 \\u0935\\u093f\\u092d\\u093e\\u0917 \\u0928\\u0947 \\u092c\\u0924\\u093e\\u092f\\u093e \\u0915\\u093f \\u092c\\u092e \\u0905\\u091a\\u093e\\u0928\\u0915 \\u092b\\u091f \\u091c\\u093e\\u0928\\u0947 \\u0938\\u0947 \\u091a\\u093e\\u0930 \\u0938\\u093e\\u0932 \\u0915\\u0940 \\u090f\\u0915 \\u092c\\u091a\\u094d\\u091a\\u0940 \\u0938\\u0939\\u093f\\u0924 \\u091b\\u0939 \\u0914\\u0930 \\u090f\\u0915 \\u0938\\u093e\\u0932 \\u0915\\u0947 \\u0926\\u094b \\u092c\\u091a\\u094d\\u091a\\u094b\\u0902 \\u0915\\u0940 \\u0918\\u091f\\u0928\\u093e\\u0938\\u094d\\u0925\\u0932 \\u092a\\u0930 \\u0939\\u0940 \\u092e\\u094c\\u0924 \\u0939\\u094b \\u0917\\u0908, \\u091c\\u092c\\u0915\\u093f \\u091b\\u0939 \\u0938\\u093e\\u0932 \\u0915\\u0947 \\u090f\\u0915 \\u0905\\u0928\\u094d\\u092f \\u092c\\u091a\\u094d\\u091a\\u0947 \\u0928\\u0947 \\u0909\\u092a\\u091a\\u093e\\u0930 \\u0915\\u0947 \\u0926\\u094c\\u0930\\u093e\\u0928 \\u0905\\u0938\\u094d\\u092a\\u0924\\u093e\\u0932 \\u092e\\u0947\\u0902 \\u0926\\u092e \\u0924\\u094b\\u0921\\u093c \\u0926\\u093f\\u092f\\u093e\\u0964\\r\\u0907\\u0938 \\u0918\\u091f\\u0928\\u093e \\u092e\\u0947\\u0902 \\u0926\\u094b \\u0935\\u092f\\u0938\\u094d\\u0915 \\u0928\\u093e\\u0917\\u0930\\u093f\\u0915 \\u0917\\u092e\\u094d\\u092d\\u0940\\u0930 \\u0930\\u0942\\u092a \\u0938\\u0947 \\u091c\\u0932 \\u0917\\u090f, \\u091c\\u093f\\u0928\\u094d\\u0939\\u0947\\u0902 \\u0905\\u0938\\u094d\\u092a\\u0924\\u093e\\u0932 \\u092e\\u0947\\u0902 \\u092d\\u0930\\u094d\\u0924\\u0940 \\u0915\\u0930\\u093e\\u092f\\u093e \\u0917\\u092f\\u093e \\u0939\\u0948\\u0964 \\u092b\\u094d\\u0930\\u093e\\u0902\\u0938 \\u0914\\u0930 \\u0905\\u092e\\u0947\\u0930\\u093f\\u0915\\u093e \\u0915\\u0947 \\u0938\\u093e\\u0925 \\u0939\\u0941\\u090f \\u092f\\u0941\\u0926\\u094d\\u0927\\u094b\\u0902 \\u0915\\u0947 \\u0938\\u092e\\u092f \\u0935\\u093f\\u092f\\u0924\\u0928\\u093e\\u092e \\u0915\\u0947 \\u0915\\u092e\\u094d\\u092f\\u0941\\u0928\\u093f\\u0938\\u094d\\u091f\\u094b\\u0902 \\u0928\\u0947 \\u0907\\u0938\\u0940 \\u0907\\u0932\\u093e\\u0915\\u0947 \\u092e\\u0947\\u0902 \\u0921\\u0947\\u0930\\u093e \\u0921\\u093e\\u0932\\u093e \\u0925\\u093e\\u0964    \\n\\r\\u0907\\u0938 \\u0918\\u091f\\u0928\\u093e \\u092e\\u0947\\u0902 \\u0926\\u094b \\u0935\\u092f\\u0938\\u094d\\u0915 \\u0928\\u093e\\u0917\\u0930\\u093f\\u0915 \\u0917\\u092e\\u094d\\u092d\\u0940\\u0930 \\u0930\\u0942\\u092a \\u0938\\u0947 \\u091c\\u0932 \\u0917\\u090f, \\u091c\\u093f\\u0928\\u094d\\u0939\\u0947\\u0902 \\u0905\\u0938\\u094d\\u092a\\u0924\\u093e\\u0932 \\u092e\\u0947\\u0902 \\u092d\\u0930\\u094d\\u0924\\u0940 \\u0915\\u0930\\u093e\\u092f\\u093e \\u0917\\u092f\\u093e \\u0939\\u0948\\u0964 \\u092b\\u094d\\u0930\\u093e\\u0902\\u0938 \\u0914\\u0930 \\u0905\\u092e\\u0947\\u0930\\u093f\\u0915\\u093e \\u0915\\u0947 \\u0938\\u093e\\u0925 \\u0939\\u0941\\u090f \\u092f\\u0941\\u0926\\u094d\\u0927\\u094b\\u0902 \\u0915\\u0947 \\u0938\\u092e\\u092f \\u0935\\u093f\\u092f\\u0924\\u0928\\u093e\\u092e \\u0915\\u0947 \\u0915\\u092e\\u094d\\u092f\\u0941\\u0928\\u093f\\u0938\\u094d\\u091f\\u094b\\u0902 \\u0928\\u0947 \\u0907\\u0938\\u0940 \\u0907\\u0932\\u093e\\u0915\\u0947 \\u092e\\u0947\\u0902 \\u0921\\u0947\\u0930\\u093e \\u0921\\u093e\\u0932\\u093e \\u0925\\u093e\\u0964\",\n          \"\\u092e\\u0939\\u093e\\u0928 \\u0915\\u094d\\u0930\\u093f\\u0915\\u0947\\u091f\\u0930 \\u0907\\u092f\\u093e\\u0928 \\u092c\\u0949\\u0925\\u092e \\u0928\\u0947 \\u0915\\u0939\\u093e \\u0915\\u093f \\u0907\\u0902\\u0917\\u094d\\u0932\\u0948\\u0902\\u0921 \\u0915\\u0940 \\u0938\\u0930\\u091c\\u092e\\u0940\\u0902 \\u092a\\u0930 \\u0909\\u0938\\u0915\\u0947 \\u0916\\u093f\\u0932\\u093e\\u092b \\u0906\\u0917\\u093e\\u092e\\u0940 \\u0936\\u0943\\u0902\\u0916\\u0932\\u093e \\u0939\\u0940 \\u092d\\u093e\\u0930\\u0924\\u0940\\u092f \\u091f\\u0940\\u092e \\u0915\\u0947 \\u0932\\u093f\\u090f \\u0905\\u0938\\u0932\\u0940 \\u091f\\u0947\\u0938\\u094d\\u091f \\u092a\\u0930\\u0940\\u0915\\u094d\\u0937\\u093e \\u0939\\u094b\\u0917\\u0940\\u0964 \\u091f\\u0940\\u092e \\u0907\\u0902\\u0921\\u093f\\u092f\\u093e \\u0928\\u0947 \\u0918\\u0930\\u0947\\u0932\\u0942 \\u0936\\u0943\\u0902\\u0916\\u0932\\u093e \\u092e\\u0947\\u0902 \\u091c\\u0940\\u0924 \\u0915\\u0940 \\u092c\\u0926\\u094c\\u0932\\u0924 \\u091f\\u0947\\u0938\\u094d\\u091f \\u0930\\u0948\\u0902\\u0915\\u093f\\u0902\\u0917 \\u092e\\u0947\\u0902 \\u092a\\u0939\\u0932\\u093e \\u0938\\u094d\\u0925\\u093e\\u0928 \\u0939\\u093e\\u0938\\u093f\\u0932 \\u0915\\u093f\\u092f\\u093e \\u0925\\u093e\\u0964  \\u092c\\u0949\\u0925\\u092e \\u0928\\u0947 \\u090f\\u0915 \\u0905\\u0916\\u092c\\u093e\\u0930 \\u092e\\u0947\\u0902 \\u0905\\u092a\\u0928\\u0947 \\u0915\\u0949\\u0932\\u092e \\u092e\\u0947\\u0902 \\u0932\\u093f\\u0916\\u093e, \\u092d\\u093e\\u0930\\u0924\\u0940\\u092f \\u091f\\u0940\\u092e \\u092e\\u094c\\u091c\\u0942\\u0926\\u093e \\u0938\\u092e\\u092f \\u092e\\u0947\\u0902 \\u0926\\u0941\\u0928\\u093f\\u092f\\u093e \\u0915\\u0940 \\u0928\\u0902\\u092c\\u0930 \\u090f\\u0915 \\u091f\\u0947\\u0938\\u094d\\u091f \\u091f\\u0940\\u092e \\u0939\\u0948 \\u0914\\u0930 \\u0935\\u0939 \\u0905\\u092a\\u0928\\u0940 \\u0938\\u0930\\u091c\\u092e\\u0940\\u0902 \\u092a\\u0930 \\u0936\\u0943\\u0902\\u0916\\u0932\\u093e \\u091c\\u0940\\u0924\\u0928\\u0947 \\u0938\\u0947 \\u0907\\u0938 \\u092e\\u0941\\u0915\\u093e\\u092e \\u092a\\u0930 \\u092a\\u0939\\u0941\\u0902\\u091a\\u0940\\u0964 \\u0932\\u0947\\u0915\\u093f\\u0928 \\u0905\\u0917\\u0930 \\u0906\\u092a \\u0926\\u0947\\u0916\\u0947\\u0902, \\u0924\\u094b \\u0909\\u0928\\u094d\\u0939\\u094b\\u0902\\u0928\\u0947 \\u0905\\u092a\\u0928\\u0947 \\u0935\\u093f\\u0926\\u0947\\u0936\\u0940 \\u0926\\u094c\\u0930\\u094b\\u0902 \\u092a\\u0930 \\u0938\\u093f\\u0930\\u094d\\u092b \\u092c\\u093e\\u0902\\u0917\\u094d\\u0932\\u093e\\u0926\\u0947\\u0936 \\u0914\\u0930 \\u0928\\u094d\\u092f\\u0942\\u091c\\u0940\\u0932\\u0948\\u0902\\u0921 \\u0915\\u094b \\u0939\\u0940 \\u0939\\u0930\\u093e\\u092f\\u093e \\u0939\\u0948, \\u0906\\u092a \\u092e\\u0939\\u0938\\u0942\\u0938 \\u0915\\u0930 \\u0938\\u0915\\u0924\\u0947 \\u0939\\u0948\\u0902 \\u0915\\u093f \\u0909\\u0928\\u094d\\u0939\\u0947\\u0902 \\u0905\\u092a\\u0928\\u0940 \\u0915\\u093e\\u092c\\u093f\\u0932\\u093f\\u092f\\u0924 \\u0907\\u0938 \\u0926\\u094c\\u0930\\u0947 \\u092a\\u0930 \\u0939\\u0940 \\u0938\\u093e\\u092c\\u093f\\u0924 \\u0915\\u0930\\u0928\\u0940 \\u0939\\u094b\\u0917\\u0940\\u0964  \\u0935\\u093f\\u0936\\u094d\\u0935 \\u0915\\u0940 \\u0928\\u0902\\u092c\\u0930 \\u090f\\u0915 \\u092d\\u093e\\u0930\\u0924\\u0940\\u092f \\u091f\\u0940\\u092e \\u091c\\u0941\\u0932\\u093e\\u0908 \\u0938\\u0947 \\u0924\\u0940\\u0938\\u0930\\u0947 \\u0938\\u094d\\u0925\\u093e\\u0928 \\u092a\\u0930 \\u0915\\u093e\\u092c\\u093f\\u091c \\u0907\\u0902\\u0917\\u094d\\u0932\\u0948\\u0902\\u0921 \\u0938\\u0947 \\u091a\\u093e\\u0930 \\u092e\\u0948\\u091a\\u094b\\u0902 \\u0915\\u0940 \\u091f\\u0947\\u0938\\u094d\\u091f \\u0936\\u0943\\u0902\\u0916\\u0932\\u093e \\u0916\\u0947\\u0932\\u0947\\u0917\\u0940, \\u0924\\u092d\\u0940 \\u092c\\u093e\\u0926\\u0936\\u093e\\u0939\\u0924 \\u0915\\u093e \\u0905\\u0938\\u0932\\u0940 \\u0926\\u094d\\u0935\\u0902\\u0926\\u094d\\u0935 \\u0936\\u0941\\u0930\\u0942 \\u0939\\u094b\\u0917\\u093e\\u0964 \\u0907\\u0938 \\u0926\\u094c\\u0930\\u0947 \\u092a\\u0930 \\u092d\\u093e\\u0930\\u0924\\u0940\\u092f \\u091f\\u0940\\u092e \\u091a\\u093e\\u0930 \\u091f\\u0947\\u0938\\u094d\\u091f \\u092e\\u0948\\u091a \\u0915\\u0947 \\u0905\\u0932\\u093e\\u0935\\u093e \\u092a\\u093e\\u0902\\u091a \\u0935\\u0928\\u0921\\u0947 \\u0914\\u0930 \\u090f\\u0915 \\u091f\\u094d\\u0935\\u0947\\u0902\\u091f\\u0940-20 \\u092e\\u0948\\u091a \\u0916\\u0947\\u0932\\u0947\\u0917\\u0940\\u0964 \\u092a\\u0939\\u0932\\u093e \\u091f\\u0947\\u0938\\u094d\\u091f 21 \\u091c\\u0941\\u0932\\u093e\\u0908 \\u0938\\u0947 \\u0932\\u0949\\u0930\\u094d\\u0921\\u094d\\u0938 \\u092a\\u0930 \\u0936\\u0941\\u0930\\u0942 \\u0939\\u094b\\u0917\\u093e\\u0964 \\u092c\\u0949\\u0925\\u092e \\u0939\\u093e\\u0932\\u093e\\u0902\\u0915\\u093f \\u0906\\u0908\\u0938\\u0940\\u0938\\u0940 \\u0930\\u0948\\u0902\\u0915\\u093f\\u0902\\u0917 \\u092a\\u094d\\u0930\\u0923\\u093e\\u0932\\u0940 \\u0915\\u094b \\u0924\\u0935\\u091c\\u094d\\u091c\\u094b \\u0928\\u0939\\u0940\\u0902 \\u0926\\u0947\\u0924\\u0947 \\u0914\\u0930 \\u0935\\u0939 \\u092e\\u093e\\u0928\\u0924\\u0947 \\u0939\\u0948\\u0902 \\u0915\\u093f \\u092e\\u094c\\u091c\\u0942\\u0926\\u093e \\u0938\\u092e\\u092f \\u092e\\u0947\\u0902 \\u0907\\u0902\\u0917\\u094d\\u0932\\u0948\\u0902\\u0921 \\u0915\\u0940 \\u091f\\u0940\\u092e \\u0939\\u0940 \\u0907\\u0938 \\u0932\\u0902\\u092c\\u0947 \\u092a\\u094d\\u0930\\u093e\\u0930\\u0942\\u092a \\u092e\\u0947\\u0902 \\u0938\\u0930\\u094d\\u0935\\u0936\\u094d\\u0930\\u0947\\u0937\\u094d\\u0920 \\u0939\\u0948\\u0964\",\n          \"\\u0907\\u0938 \\u092f\\u094b\\u091c\\u0928\\u093e \\u0915\\u094b \\u0938\\u092b\\u0932 \\u092c\\u0928\\u093e\\u0928\\u0947 \\u0915\\u0947 \\u0932\\u093f\\u090f \\u091c\\u093f\\u0932\\u093e \\u092a\\u0902\\u091a\\u093e\\u092f\\u0924 \\u0930\\u093e\\u091c \\u0905\\u0927\\u093f\\u0915\\u093e\\u0930\\u0940 \\u0928\\u0947 \\u0938\\u092d\\u0940 \\u0938\\u0939\\u093e\\u092f\\u0915 \\u0935\\u093f\\u0915\\u093e\\u0938 \\u0905\\u0927\\u093f\\u0915\\u093e\\u0930\\u093f\\u092f\\u094b\\u0902 \\u0915\\u094b \\u0938\\u0930\\u094d\\u0915\\u0941\\u0932\\u0930 \\u091c\\u093e\\u0930\\u0940 \\u0915\\u0930 \\u0928\\u093f\\u0930\\u094d\\u0926\\u0947\\u0936 \\u0926\\u093f\\u090f \\u0939\\u0948\\u0902 \\u0915\\u093f \\u0935\\u0947 \\u0905\\u092a\\u0928\\u0947 \\u0915\\u094d\\u0937\\u0947\\u0924\\u094d\\u0930 \\u092e\\u0947\\u0902 \\u0935\\u094d\\u092f\\u093e\\u092a\\u0915 \\u092a\\u094d\\u0930\\u091a\\u093e\\u0930 \\u092a\\u094d\\u0930\\u0938\\u093e\\u0930 \\u0915\\u0930\\u093e\\u090f\\u0902 \\u0914\\u0930 \\u0905\\u092a\\u0928\\u0947 \\u092c\\u094d\\u0932\\u0949\\u0915 \\u0915\\u0947 \\u0910\\u0938\\u0947 \\u092d\\u093e\\u0907\\u092f\\u094b\\u0902 \\u0915\\u0940 \\u0938\\u0942\\u091a\\u0940 \\u0924\\u0940\\u0928 \\u0926\\u093f\\u0928 \\u092e\\u0947\\u0902 \\u091c\\u093f\\u0932\\u093e \\u092a\\u0902\\u091a\\u093e\\u092f\\u0924 \\u0915\\u093e\\u0930\\u094d\\u092f\\u093e\\u0932\\u092f \\u092d\\u093f\\u091c\\u0935\\u093e\\u090f\\u0902 \\u091c\\u094b \\u0930\\u0915\\u094d\\u0937\\u093e\\u092c\\u0928\\u094d\\u0927\\u0928 \\u0915\\u0947 \\u0926\\u093f\\u0928 \\u092c\\u0939\\u0928 \\u0915\\u094b \\u0909\\u092a\\u0939\\u093e\\u0930 \\u0938\\u094d\\u0935\\u0930\\u0942\\u092a \\u0936\\u094c\\u091a\\u093e\\u0932\\u092f \\u0928\\u093f\\u0930\\u094d\\u092e\\u093e\\u0923 \\u0915\\u0930\\u093e\\u0915\\u0930 \\u092d\\u0947\\u0902\\u091f \\u0915\\u0930\\u0928\\u0947 \\u0915\\u094b \\u0924\\u0948\\u092f\\u093e\\u0930 \\u0939\\u094b\\u0902\\u0964\"\n        ],\n        \"semantic_type\": \"\",\n        \"description\": \"\"\n      }\n    }\n  ]\n}"
            }
          },
          "metadata": {},
          "execution_count": 41
        }
      ]
    },
    {
      "cell_type": "code",
      "source": [
        "dataset['summary'].isnull().sum()"
      ],
      "metadata": {
        "colab": {
          "base_uri": "https://localhost:8080/"
        },
        "id": "uo4ZrULLXZR_",
        "outputId": "29a39529-82b4-405f-e805-96b819995f60"
      },
      "execution_count": null,
      "outputs": [
        {
          "output_type": "execute_result",
          "data": {
            "text/plain": [
              "5290"
            ]
          },
          "metadata": {},
          "execution_count": 42
        }
      ]
    },
    {
      "cell_type": "code",
      "source": [
        "dataset_cleaned = dataset[dataset['summary'].notnull()]\n",
        "dataset_cleaned = dataset_cleaned[dataset_cleaned['article'].notnull()]\n",
        "dataset_cleaned = dataset_cleaned[dataset_cleaned['headline'].notnull()]\n",
        "dataset_cleaned.head()"
      ],
      "metadata": {
        "colab": {
          "base_uri": "https://localhost:8080/",
          "height": 293
        },
        "id": "UqN1ySVuXapq",
        "outputId": "d8083c71-3b22-4e99-96af-82bbacf7daa8"
      },
      "execution_count": null,
      "outputs": [
        {
          "output_type": "execute_result",
          "data": {
            "text/plain": [
              "                                             headline  \\\n",
              "3            रिम करेगा दो हजार कर्मचारियों की छंटनी     \n",
              "7   अमेरिका : राष्ट्रपति पद की उम्मीदवार हिलेरी क्...   \n",
              "8   देश के सर्वश्रेष्ठ स्पिनरों में से एक है हरभजन...   \n",
              "9   इंडिगो के स्टाफ ने दिल्ली एयरपोर्ट पर पैसेंजर ...   \n",
              "10  नव्या नवेली के साथ दोस्ती पर जावेद जाफरी के बे...   \n",
              "\n",
              "                                              summary  \\\n",
              "3   ब्लैकबेरी हैंडसेट बनाने वाली कनाडा की कंपनी रि...   \n",
              "7   श्रद्धांजलि सभा के दौरान अचानक खराब हुई हिलेरी...   \n",
              "8   पूर्व भारतीय कप्तान अनिल कुंबले का मानना है कि...   \n",
              "9   इंडिगो के ग्राउंड स्टाफ ने यात्री से की हाथापा...   \n",
              "10  मीजान जाफरी ने किया खुलासा\\r\\nनव्या नंदा को बत...   \n",
              "\n",
              "                                              article  \n",
              "3   ब्लैकबेरी हैंडसेट बनाने वाली कनाडा की कंपनी रि...  \n",
              "7   अमेरिका में राष्ट्रपति पद के लिए डेमोक्रेटिक प...  \n",
              "8   पूर्व भारतीय क्रिकेट कप्तान अनिल कुंबले का मान...  \n",
              "9   इंडिगो एयरलाइन के प्रेसीडेंट और डायरेक्टर आदित...  \n",
              "10  संजय लीला भंसाली की फिल्म 'मलाल' से बॉलीवुड मे...  "
            ],
            "text/html": [
              "\n",
              "  <div id=\"df-3d898aaa-0718-4c80-8324-4cb566533d84\" class=\"colab-df-container\">\n",
              "    <div>\n",
              "<style scoped>\n",
              "    .dataframe tbody tr th:only-of-type {\n",
              "        vertical-align: middle;\n",
              "    }\n",
              "\n",
              "    .dataframe tbody tr th {\n",
              "        vertical-align: top;\n",
              "    }\n",
              "\n",
              "    .dataframe thead th {\n",
              "        text-align: right;\n",
              "    }\n",
              "</style>\n",
              "<table border=\"1\" class=\"dataframe\">\n",
              "  <thead>\n",
              "    <tr style=\"text-align: right;\">\n",
              "      <th></th>\n",
              "      <th>headline</th>\n",
              "      <th>summary</th>\n",
              "      <th>article</th>\n",
              "    </tr>\n",
              "  </thead>\n",
              "  <tbody>\n",
              "    <tr>\n",
              "      <th>3</th>\n",
              "      <td>रिम करेगा दो हजार कर्मचारियों की छंटनी</td>\n",
              "      <td>ब्लैकबेरी हैंडसेट बनाने वाली कनाडा की कंपनी रि...</td>\n",
              "      <td>ब्लैकबेरी हैंडसेट बनाने वाली कनाडा की कंपनी रि...</td>\n",
              "    </tr>\n",
              "    <tr>\n",
              "      <th>7</th>\n",
              "      <td>अमेरिका : राष्ट्रपति पद की उम्मीदवार हिलेरी क्...</td>\n",
              "      <td>श्रद्धांजलि सभा के दौरान अचानक खराब हुई हिलेरी...</td>\n",
              "      <td>अमेरिका में राष्ट्रपति पद के लिए डेमोक्रेटिक प...</td>\n",
              "    </tr>\n",
              "    <tr>\n",
              "      <th>8</th>\n",
              "      <td>देश के सर्वश्रेष्ठ स्पिनरों में से एक है हरभजन...</td>\n",
              "      <td>पूर्व भारतीय कप्तान अनिल कुंबले का मानना है कि...</td>\n",
              "      <td>पूर्व भारतीय क्रिकेट कप्तान अनिल कुंबले का मान...</td>\n",
              "    </tr>\n",
              "    <tr>\n",
              "      <th>9</th>\n",
              "      <td>इंडिगो के स्टाफ ने दिल्ली एयरपोर्ट पर पैसेंजर ...</td>\n",
              "      <td>इंडिगो के ग्राउंड स्टाफ ने यात्री से की हाथापा...</td>\n",
              "      <td>इंडिगो एयरलाइन के प्रेसीडेंट और डायरेक्टर आदित...</td>\n",
              "    </tr>\n",
              "    <tr>\n",
              "      <th>10</th>\n",
              "      <td>नव्या नवेली के साथ दोस्ती पर जावेद जाफरी के बे...</td>\n",
              "      <td>मीजान जाफरी ने किया खुलासा\\r\\nनव्या नंदा को बत...</td>\n",
              "      <td>संजय लीला भंसाली की फिल्म 'मलाल' से बॉलीवुड मे...</td>\n",
              "    </tr>\n",
              "  </tbody>\n",
              "</table>\n",
              "</div>\n",
              "    <div class=\"colab-df-buttons\">\n",
              "\n",
              "  <div class=\"colab-df-container\">\n",
              "    <button class=\"colab-df-convert\" onclick=\"convertToInteractive('df-3d898aaa-0718-4c80-8324-4cb566533d84')\"\n",
              "            title=\"Convert this dataframe to an interactive table.\"\n",
              "            style=\"display:none;\">\n",
              "\n",
              "  <svg xmlns=\"http://www.w3.org/2000/svg\" height=\"24px\" viewBox=\"0 -960 960 960\">\n",
              "    <path d=\"M120-120v-720h720v720H120Zm60-500h600v-160H180v160Zm220 220h160v-160H400v160Zm0 220h160v-160H400v160ZM180-400h160v-160H180v160Zm440 0h160v-160H620v160ZM180-180h160v-160H180v160Zm440 0h160v-160H620v160Z\"/>\n",
              "  </svg>\n",
              "    </button>\n",
              "\n",
              "  <style>\n",
              "    .colab-df-container {\n",
              "      display:flex;\n",
              "      gap: 12px;\n",
              "    }\n",
              "\n",
              "    .colab-df-convert {\n",
              "      background-color: #E8F0FE;\n",
              "      border: none;\n",
              "      border-radius: 50%;\n",
              "      cursor: pointer;\n",
              "      display: none;\n",
              "      fill: #1967D2;\n",
              "      height: 32px;\n",
              "      padding: 0 0 0 0;\n",
              "      width: 32px;\n",
              "    }\n",
              "\n",
              "    .colab-df-convert:hover {\n",
              "      background-color: #E2EBFA;\n",
              "      box-shadow: 0px 1px 2px rgba(60, 64, 67, 0.3), 0px 1px 3px 1px rgba(60, 64, 67, 0.15);\n",
              "      fill: #174EA6;\n",
              "    }\n",
              "\n",
              "    .colab-df-buttons div {\n",
              "      margin-bottom: 4px;\n",
              "    }\n",
              "\n",
              "    [theme=dark] .colab-df-convert {\n",
              "      background-color: #3B4455;\n",
              "      fill: #D2E3FC;\n",
              "    }\n",
              "\n",
              "    [theme=dark] .colab-df-convert:hover {\n",
              "      background-color: #434B5C;\n",
              "      box-shadow: 0px 1px 3px 1px rgba(0, 0, 0, 0.15);\n",
              "      filter: drop-shadow(0px 1px 2px rgba(0, 0, 0, 0.3));\n",
              "      fill: #FFFFFF;\n",
              "    }\n",
              "  </style>\n",
              "\n",
              "    <script>\n",
              "      const buttonEl =\n",
              "        document.querySelector('#df-3d898aaa-0718-4c80-8324-4cb566533d84 button.colab-df-convert');\n",
              "      buttonEl.style.display =\n",
              "        google.colab.kernel.accessAllowed ? 'block' : 'none';\n",
              "\n",
              "      async function convertToInteractive(key) {\n",
              "        const element = document.querySelector('#df-3d898aaa-0718-4c80-8324-4cb566533d84');\n",
              "        const dataTable =\n",
              "          await google.colab.kernel.invokeFunction('convertToInteractive',\n",
              "                                                    [key], {});\n",
              "        if (!dataTable) return;\n",
              "\n",
              "        const docLinkHtml = 'Like what you see? Visit the ' +\n",
              "          '<a target=\"_blank\" href=https://colab.research.google.com/notebooks/data_table.ipynb>data table notebook</a>'\n",
              "          + ' to learn more about interactive tables.';\n",
              "        element.innerHTML = '';\n",
              "        dataTable['output_type'] = 'display_data';\n",
              "        await google.colab.output.renderOutput(dataTable, element);\n",
              "        const docLink = document.createElement('div');\n",
              "        docLink.innerHTML = docLinkHtml;\n",
              "        element.appendChild(docLink);\n",
              "      }\n",
              "    </script>\n",
              "  </div>\n",
              "\n",
              "\n",
              "<div id=\"df-4be22889-0825-45e0-b2f2-871708d31d66\">\n",
              "  <button class=\"colab-df-quickchart\" onclick=\"quickchart('df-4be22889-0825-45e0-b2f2-871708d31d66')\"\n",
              "            title=\"Suggest charts\"\n",
              "            style=\"display:none;\">\n",
              "\n",
              "<svg xmlns=\"http://www.w3.org/2000/svg\" height=\"24px\"viewBox=\"0 0 24 24\"\n",
              "     width=\"24px\">\n",
              "    <g>\n",
              "        <path d=\"M19 3H5c-1.1 0-2 .9-2 2v14c0 1.1.9 2 2 2h14c1.1 0 2-.9 2-2V5c0-1.1-.9-2-2-2zM9 17H7v-7h2v7zm4 0h-2V7h2v10zm4 0h-2v-4h2v4z\"/>\n",
              "    </g>\n",
              "</svg>\n",
              "  </button>\n",
              "\n",
              "<style>\n",
              "  .colab-df-quickchart {\n",
              "      --bg-color: #E8F0FE;\n",
              "      --fill-color: #1967D2;\n",
              "      --hover-bg-color: #E2EBFA;\n",
              "      --hover-fill-color: #174EA6;\n",
              "      --disabled-fill-color: #AAA;\n",
              "      --disabled-bg-color: #DDD;\n",
              "  }\n",
              "\n",
              "  [theme=dark] .colab-df-quickchart {\n",
              "      --bg-color: #3B4455;\n",
              "      --fill-color: #D2E3FC;\n",
              "      --hover-bg-color: #434B5C;\n",
              "      --hover-fill-color: #FFFFFF;\n",
              "      --disabled-bg-color: #3B4455;\n",
              "      --disabled-fill-color: #666;\n",
              "  }\n",
              "\n",
              "  .colab-df-quickchart {\n",
              "    background-color: var(--bg-color);\n",
              "    border: none;\n",
              "    border-radius: 50%;\n",
              "    cursor: pointer;\n",
              "    display: none;\n",
              "    fill: var(--fill-color);\n",
              "    height: 32px;\n",
              "    padding: 0;\n",
              "    width: 32px;\n",
              "  }\n",
              "\n",
              "  .colab-df-quickchart:hover {\n",
              "    background-color: var(--hover-bg-color);\n",
              "    box-shadow: 0 1px 2px rgba(60, 64, 67, 0.3), 0 1px 3px 1px rgba(60, 64, 67, 0.15);\n",
              "    fill: var(--button-hover-fill-color);\n",
              "  }\n",
              "\n",
              "  .colab-df-quickchart-complete:disabled,\n",
              "  .colab-df-quickchart-complete:disabled:hover {\n",
              "    background-color: var(--disabled-bg-color);\n",
              "    fill: var(--disabled-fill-color);\n",
              "    box-shadow: none;\n",
              "  }\n",
              "\n",
              "  .colab-df-spinner {\n",
              "    border: 2px solid var(--fill-color);\n",
              "    border-color: transparent;\n",
              "    border-bottom-color: var(--fill-color);\n",
              "    animation:\n",
              "      spin 1s steps(1) infinite;\n",
              "  }\n",
              "\n",
              "  @keyframes spin {\n",
              "    0% {\n",
              "      border-color: transparent;\n",
              "      border-bottom-color: var(--fill-color);\n",
              "      border-left-color: var(--fill-color);\n",
              "    }\n",
              "    20% {\n",
              "      border-color: transparent;\n",
              "      border-left-color: var(--fill-color);\n",
              "      border-top-color: var(--fill-color);\n",
              "    }\n",
              "    30% {\n",
              "      border-color: transparent;\n",
              "      border-left-color: var(--fill-color);\n",
              "      border-top-color: var(--fill-color);\n",
              "      border-right-color: var(--fill-color);\n",
              "    }\n",
              "    40% {\n",
              "      border-color: transparent;\n",
              "      border-right-color: var(--fill-color);\n",
              "      border-top-color: var(--fill-color);\n",
              "    }\n",
              "    60% {\n",
              "      border-color: transparent;\n",
              "      border-right-color: var(--fill-color);\n",
              "    }\n",
              "    80% {\n",
              "      border-color: transparent;\n",
              "      border-right-color: var(--fill-color);\n",
              "      border-bottom-color: var(--fill-color);\n",
              "    }\n",
              "    90% {\n",
              "      border-color: transparent;\n",
              "      border-bottom-color: var(--fill-color);\n",
              "    }\n",
              "  }\n",
              "</style>\n",
              "\n",
              "  <script>\n",
              "    async function quickchart(key) {\n",
              "      const quickchartButtonEl =\n",
              "        document.querySelector('#' + key + ' button');\n",
              "      quickchartButtonEl.disabled = true;  // To prevent multiple clicks.\n",
              "      quickchartButtonEl.classList.add('colab-df-spinner');\n",
              "      try {\n",
              "        const charts = await google.colab.kernel.invokeFunction(\n",
              "            'suggestCharts', [key], {});\n",
              "      } catch (error) {\n",
              "        console.error('Error during call to suggestCharts:', error);\n",
              "      }\n",
              "      quickchartButtonEl.classList.remove('colab-df-spinner');\n",
              "      quickchartButtonEl.classList.add('colab-df-quickchart-complete');\n",
              "    }\n",
              "    (() => {\n",
              "      let quickchartButtonEl =\n",
              "        document.querySelector('#df-4be22889-0825-45e0-b2f2-871708d31d66 button');\n",
              "      quickchartButtonEl.style.display =\n",
              "        google.colab.kernel.accessAllowed ? 'block' : 'none';\n",
              "    })();\n",
              "  </script>\n",
              "</div>\n",
              "\n",
              "    </div>\n",
              "  </div>\n"
            ],
            "application/vnd.google.colaboratory.intrinsic+json": {
              "type": "dataframe",
              "variable_name": "dataset_cleaned",
              "summary": "{\n  \"name\": \"dataset_cleaned\",\n  \"rows\": 4570,\n  \"fields\": [\n    {\n      \"column\": \"headline\",\n      \"properties\": {\n        \"dtype\": \"string\",\n        \"num_unique_values\": 4506,\n        \"samples\": [\n          \"BJP \\u0905\\u0927\\u094d\\u092f\\u0915\\u094d\\u0937 \\u0905\\u092e\\u093f\\u0924 \\u0936\\u093e\\u0939 \\u0915\\u094b \\u0939\\u0941\\u0906 \\u0938\\u094d\\u0935\\u093e\\u0907\\u0928 \\u092b\\u094d\\u0932\\u0942, AIIMS \\u092e\\u0947\\u0902 \\u092d\\u0930\\u094d\\u0924\\u0940  \",\n          \"Ayodhya Verdict: \\u0905\\u092f\\u094b\\u0927\\u094d\\u092f\\u093e \\u092a\\u0930 \\u0938\\u0941\\u092a\\u094d\\u0930\\u0940\\u092e \\u0915\\u094b\\u0930\\u094d\\u091f \\u0915\\u0947 \\u092b\\u0948\\u0938\\u0932\\u0947 \\u0915\\u0947 \\u092c\\u093e\\u0926 \\u0915\\u0941\\u092e\\u093e\\u0930 \\u0935\\u093f\\u0936\\u094d\\u0935\\u093e\\u0938 \\u092c\\u094b\\u0932\\u0947- \\u092e\\u0947\\u0930\\u0947 \\u0930\\u093e\\u092e, \\u0915\\u0941\\u091b \\u092c\\u094b\\u0932 \\u0928\\u0939\\u0940\\u0902...  \",\n          \"\\u0928\\u0940\\u0932\\u093e\\u092e\\u0940 \\u0939\\u0940 \\u092a\\u094d\\u0930\\u093e\\u0915\\u0943\\u0924\\u093f\\u0915 \\u0938\\u0902\\u0938\\u093e\\u0927\\u0928\\u094b\\u0902 \\u0915\\u0947 \\u0906\\u0935\\u0902\\u091f\\u0928 \\u0915\\u093e \\u090f\\u0915\\u092e\\u093e\\u0924\\u094d\\u0930 \\u0924\\u0930\\u0940\\u0915\\u093e \\u0928\\u0939\\u0940\\u0902 : \\u0938\\u0941\\u092a\\u094d\\u0930\\u0940\\u092e \\u0915\\u094b\\u0930\\u094d\\u091f  \"\n        ],\n        \"semantic_type\": \"\",\n        \"description\": \"\"\n      }\n    },\n    {\n      \"column\": \"summary\",\n      \"properties\": {\n        \"dtype\": \"string\",\n        \"num_unique_values\": 4507,\n        \"samples\": [\n          \"\\u0907\\u0938 \\u092d\\u092f\\u093e\\u0935\\u0939 \\u0939\\u093e\\u0926\\u0938\\u0947 \\u0915\\u0940 \\u0936\\u0942\\u091f\\u093f\\u0902\\u0917 \\u0915\\u0930\\u0928\\u0947 \\u0935\\u093e\\u0932\\u0947 \\u0938\\u093f\\u0932\\u094d\\u0935\\u093e \\u0928\\u0947 \\u0915\\u0939\\u093e, \\u0939\\u0930 \\u0924\\u0930\\u092b \\u0916\\u0942\\u0928 \\u092b\\u0948\\u0932\\u093e \\u0939\\u0941\\u0906 \\u0925\\u093e, \\u092a\\u0940\\u0921\\u093c\\u093f\\u0924\\u094b\\u0902 \\u0915\\u094b \\u0938\\u094d\\u091f\\u094d\\u0930\\u0947\\u091a\\u0930 \\u0938\\u0947 \\u0932\\u0947 \\u091c\\u093e\\u092f\\u093e \\u091c\\u093e \\u0930\\u0939\\u093e \\u0925\\u093e\\u0964 \\u092e\\u0948\\u0902\\u0928\\u0947 \\u0926\\u0947\\u0916\\u093e \\u0915\\u093f \\u092a\\u0948\\u0930 \\u0909\\u0928\\u0915\\u0947 \\u0936\\u0930\\u0940\\u0930 \\u0938\\u0947 \\u0905\\u0932\\u0917 \\u0939\\u094b \\u0917\\u090f \\u0925\\u0947\\u0964 \\u0932\\u094b\\u0917 \\u091a\\u0940\\u0916-\\u092a\\u0941\\u0915\\u093e\\u0930 \\u0915\\u0930 \\u0930\\u0939\\u0947 \\u0925\\u0947\\u0964 \\u0932\\u094b\\u0917 \\u092d\\u094d\\u0930\\u092e \\u0915\\u0940 \\u0905\\u0935\\u0938\\u094d\\u0925\\u093e \\u092e\\u0947\\u0902 \\u0925\\u0947\\u0964\",\n          \"\\u091c\\u0928\\u0939\\u093f\\u0924 \\u092e\\u094b\\u0930\\u094d\\u091a\\u093e \\u0928\\u0947 \\u091f\\u094b\\u0932 \\u0915\\u0947 \\u0916\\u093f\\u0932\\u093e\\u092b \\u0905\\u0928\\u093f\\u0936\\u094d\\u091a\\u093f\\u0924\\u0915\\u093e\\u0932\\u0940\\u0928 \\u0935\\u093f\\u0930\\u094b\\u0927 \\u092a\\u094d\\u0930\\u0926\\u0930\\u094d\\u0936\\u0928 \\u0915\\u0940 \\u0918\\u094b\\u0937\\u0923\\u093e \\u0915\\u0940 \\u0939\\u0948\\r\\n\\u0909\\u0928\\u0915\\u093e \\u0906\\u0930\\u094b\\u092a \\u0939\\u0948 \\u0915\\u093f \\u0932\\u093e\\u0917\\u0924 \\u0935\\u0938\\u0942\\u0932 \\u0939\\u094b \\u091c\\u093e\\u0928\\u0947 \\u0915\\u0947 \\u092c\\u093e\\u0926 \\u092d\\u0940 \\u091f\\u094b\\u0932 \\u0935\\u0938\\u0942\\u0932\\u093e \\u091c\\u093e \\u0930\\u0939\\u093e \\u0939\\u0948\\r\\n\\u0907\\u0938\\u0940 \\u0915\\u0947 \\u0935\\u093f\\u0930\\u094b\\u0927 \\u092e\\u0947\\u0902 \\u092a\\u094d\\u0930\\u0926\\u0930\\u094d\\u0936\\u0928\\u0915\\u093e\\u0930\\u093f\\u092f\\u094b\\u0902 \\u0928\\u0947 DND \\u092a\\u0930 \\u0921\\u0947\\u0930\\u093e \\u0921\\u093e\\u0932 \\u091f\\u094b\\u0932 \\u0935\\u0938\\u0942\\u0932\\u0940 \\u0930\\u0941\\u0915\\u0935\\u093e \\u0926\\u0940\",\n          \"\\u0935\\u093f\\u0936\\u094d\\u0935 \\u0939\\u093f\\u0902\\u0926\\u0942 \\u092a\\u0930\\u093f\\u0937\\u0926 \\u0915\\u0947 \\u0905\\u0902\\u0924\\u0930\\u0930\\u093e\\u0937\\u094d\\u091f\\u094d\\u0930\\u0940\\u092f \\u0915\\u093e\\u0930\\u094d\\u092f\\u0915\\u093e\\u0930\\u0940 \\u0905\\u0927\\u094d\\u092f\\u0915\\u094d\\u0937 \\u092a\\u094d\\u0930\\u0935\\u0940\\u0923 \\u0924\\u094b\\u0917\\u0921\\u093c\\u093f\\u092f\\u093e \\u0928\\u0947 \\u0915\\u093f \\u0917\\u0941\\u091c\\u0930\\u093e\\u0924 \\u0915\\u0947 \\u092e\\u0941\\u0916\\u094d\\u092f\\u092e\\u0902\\u0924\\u094d\\u0930\\u0940 \\u0928\\u0930\\u0947\\u0928\\u094d\\u0926\\u094d\\u0930 \\u092e\\u094b\\u0926\\u0940 \\u0938\\u0947 \\u0909\\u0928\\u094d\\u0939\\u0947\\u0902 \\u0928 \\u0924\\u094b \\u0932\\u0917\\u093e\\u0935 \\u0939\\u0948 \\u0914\\u0930 \\u0928 \\u0939\\u0940 \\u0915\\u094b\\u0908 \\u092a\\u0930\\u0939\\u0947\\u091c, \\u0935\\u0939 \\u0924\\u094b \\u0915\\u0947\\u0935\\u0932 100 \\u0915\\u0930\\u094b\\u0921\\u093c \\u0939\\u093f\\u0902\\u0926\\u0941\\u0913\\u0902 \\u0915\\u0947 \\u092a\\u094d\\u0930\\u0924\\u093f \\u0938\\u092e\\u0930\\u094d\\u092a\\u093f\\u0924 \\u0939\\u0948\\u0902\\u0964\"\n        ],\n        \"semantic_type\": \"\",\n        \"description\": \"\"\n      }\n    },\n    {\n      \"column\": \"article\",\n      \"properties\": {\n        \"dtype\": \"string\",\n        \"num_unique_values\": 4430,\n        \"samples\": [\n          \"\\u0935\\u0948\\u0938\\u0947 \\u092a\\u093e\\u0930\\u094d\\u091f\\u0940 \\u0915\\u0940 \\u0938\\u0940\\u091f\\u0947\\u0902 \\u0907\\u0938 \\u092c\\u093e\\u0930 16 \\u0915\\u092e \\u0939\\u094b \\u0917\\u0908\\u0902. \\u0909\\u0938\\u0928\\u0947 2012 \\u092e\\u0947\\u0902 115 \\u0938\\u0940\\u091f\\u0947\\u0902 \\u0939\\u093e\\u0938\\u093f\\u0932 \\u0915\\u0940 \\u0925\\u0940\\u0902. \\u092d\\u093e\\u091c\\u092a\\u093e \\u0928\\u0947 \\u0917\\u0941\\u091c\\u0930\\u093e\\u0924 \\u092e\\u0947\\u0902 \\u0932\\u0917\\u093e\\u0924\\u093e\\u0930 \\u091b\\u0920\\u0940 \\u092c\\u093e\\u0930 \\u0935\\u093f\\u0927\\u093e\\u0928\\u0938\\u092d\\u093e \\u091a\\u0941\\u0928\\u093e\\u0935 \\u091c\\u0940\\u0924\\u093e \\u0939\\u0948. \\u0935\\u093f\\u092a\\u0915\\u094d\\u0937\\u0940 \\u0915\\u093e\\u0902\\u0917\\u094d\\u0930\\u0947\\u0938 \\u0905\\u092a\\u0928\\u0940 \\u0938\\u0940\\u091f\\u0947\\u0902 \\u092c\\u0922\\u093c\\u093e\\u0928\\u0947 \\u092e\\u0947\\u0902 \\u0915\\u093e\\u092e\\u092f\\u093e\\u092c \\u0930\\u0939\\u0940 \\u0939\\u0948. \\u0909\\u0938\\u0947 2012 \\u092e\\u0947\\u0902 61 \\u0938\\u0940\\u091f\\u0947\\u0902 \\u092e\\u093f\\u0932\\u0940 \\u0925\\u0940\\u0902, \\u0907\\u0938 \\u092c\\u093e\\u0930 \\u0909\\u0938\\u0928\\u0947 77 \\u0938\\u0940\\u091f\\u0947\\u0902 \\u091c\\u0940\\u0924\\u0940 \\u0939\\u0948\\u0902. \\u0938\\u0939\\u092f\\u094b\\u0917\\u093f\\u092f\\u094b\\u0902 \\u0915\\u0947 \\u0938\\u093e\\u0925 \\u092e\\u093f\\u0932\\u0915\\u0930 \\u0935\\u093f\\u0927\\u093e\\u0928\\u0938\\u092d\\u093e \\u092e\\u0947\\u0902 \\u0909\\u0938\\u0915\\u0947 \\u092a\\u093e\\u0938 \\u0915\\u0941\\u0932 80 \\u0938\\u0940\\u091f\\u0947\\u0902 \\u0939\\u094b \\u0917\\u0908 \\u0939\\u0948\\u0902.\\r(\\u0907\\u0928\\u092a\\u0941\\u091f \\u092d\\u093e\\u0937\\u093e \\u0938\\u0947 \\u092d\\u0940)\",\n          \"\\u0915\\u0949\\u092e\\u0947\\u0921\\u093f\\u092f\\u0928 \\u0915\\u092a\\u093f\\u0932 \\u0936\\u0930\\u094d\\u092e\\u093e (Kapil Sharma) \\u0928\\u0947 \\u0905\\u092a\\u0928\\u0940 \\u092a\\u0924\\u094d\\u0928\\u0940 \\u0917\\u093f\\u0928\\u094d\\u0928\\u0940 \\u091a\\u0924\\u0930\\u0925 (Ginni Chatrath) \\u0938\\u0902\\u0917 \\u090f\\u0915 \\u0938\\u0947\\u0932\\u094d\\u092b\\u0940 \\u0932\\u0940 \\u0914\\u0930 \\u092b\\u0948\\u0928\\u094d\\u0938 \\u0915\\u094b \\u0915\\u0941\\u091b \\u0905\\u0932\\u0917 \\u0905\\u0902\\u0926\\u093e\\u091c \\u092e\\u0947\\u0902 \\u0928\\u094d\\u092f\\u0942 \\u0908\\u092f\\u0930 \\u0935\\u093f\\u0936 \\u0915\\u093f\\u092f\\u093e. \\u0915\\u092a\\u093f\\u0932 \\u0936\\u0930\\u094d\\u092e\\u093e \\u0928\\u0947 \\u0905\\u092a\\u0928\\u0947 \\u0911\\u092b\\u093f\\u0936\\u093f\\u092f\\u0932 \\u0907\\u0902\\u0938\\u094d\\u091f\\u093e\\u0917\\u094d\\u0930\\u093e\\u092e \\u0905\\u0915\\u093e\\u0909\\u0902\\u091f \\u092a\\u0930 \\u0907\\u0938 \\u092b\\u094b\\u091f\\u094b \\u0915\\u094b \\u0936\\u0947\\u092f\\u0930 \\u0915\\u0930\\u0924\\u0947 \\u0939\\u0941\\u090f \\u0932\\u093f\\u0916\\u093e, ''\\u0906\\u092a\\u0915\\u0947 \\u092a\\u094d\\u092f\\u093e\\u0930 \\u0915\\u0947 \\u0932\\u093f\\u090f \\u092c\\u0939\\u0941\\u0924 \\u092c\\u0939\\u0941\\u0924 \\u0927\\u0928\\u094d\\u092f\\u0935\\u093e\\u0926 \\u0914\\u0930 \\u0936\\u0941\\u092d\\u0915\\u093e\\u092e\\u0928\\u093e\\u090f\\u0902. \\u092e\\u0947\\u0930\\u0947 \\u0914\\u0930 \\u092e\\u0947\\u0930\\u0940 \\u092a\\u0924\\u094d\\u0928\\u0940 \\u0917\\u093f\\u0928\\u094d\\u0928\\u0940 \\u091a\\u0924\\u0930\\u0925 \\u0915\\u0940 \\u0924\\u0930\\u092b \\u0938\\u0947 \\u0938\\u092d\\u0940 \\u0915\\u094b \\u0928\\u090f \\u0938\\u093e\\u0932 \\u0915\\u0940 \\u0922\\u0947\\u0930 \\u0938\\u093e\\u0930\\u0940 \\u092e\\u0941\\u092c\\u093e\\u0930\\u0915. \\u0938\\u092d\\u0940 \\u0915\\u094b \\u092a\\u094d\\u092f\\u093e\\u0930''. \\u0907\\u0938 \\u092b\\u094b\\u091f\\u094b \\u092e\\u0947\\u0902 \\u091c\\u0939\\u093e\\u0902 \\u0915\\u092a\\u093f\\u0932 \\u0936\\u0930\\u094d\\u092e\\u093e \\u0914\\u0930 \\u0917\\u093f\\u0928\\u094d\\u0928\\u0940 \\u091a\\u0924\\u0930\\u0925 \\u0928\\u0947 \\u0938\\u0928\\u0917\\u094d\\u0932\\u093e\\u0938 \\u0932\\u0917\\u093e \\u0930\\u0916\\u093e \\u0939\\u0948 \\u0924\\u094b \\u0935\\u0939\\u0940\\u0902 \\u090f\\u0921\\u093f\\u091f\\u093f\\u0902\\u0917 \\u0915\\u0947 \\u091c\\u0930\\u093f\\u090f \\u092b\\u094b\\u091f\\u094b \\u092a\\u0930 '2019' \\u0932\\u093f\\u0916\\u093e \\u0939\\u0948. \\u092c\\u0924\\u093e \\u0926\\u0947\\u0902, '\\u0926 \\u0915\\u092a\\u093f\\u0932 \\u0936\\u0930\\u094d\\u092e\\u093e \\u0936\\u094b' (The Kapil Sharma Show) \\u092c\\u0940\\u0924\\u0947 \\u0939\\u092b\\u094d\\u0924\\u0947 \\u0938\\u0947 \\u0936\\u0941\\u0930\\u0942 \\u0939\\u0941\\u0906. \\u0907\\u0938 \\u0936\\u094b \\u092e\\u0947\\u0902 \\u092a\\u0939\\u0932\\u0947 \\u092e\\u0947\\u0939\\u092e\\u093e\\u0928 \\u0915\\u0947 \\u0924\\u094c\\u0930 \\u092a\\u0930 '\\u0938\\u093f\\u0902\\u092c\\u093e' (Simmba) \\u092b\\u093f\\u0932\\u094d\\u092e \\u0915\\u093e \\u092a\\u094d\\u0930\\u092e\\u094b\\u0936\\u0928 \\u0915\\u0930\\u0928\\u0947 \\u0915\\u0947 \\u0932\\u093f\\u090f \\u0930\\u0923\\u0935\\u0940\\u0930 \\u0938\\u093f\\u0902\\u0939, \\u0938\\u093e\\u0930\\u093e \\u0905\\u0932\\u0940 \\u0916\\u093e\\u0928, \\u0930\\u094b\\u0939\\u093f\\u0924 \\u0936\\u0947\\u091f\\u094d\\u091f\\u0940 \\u0914\\u0930 \\u0938\\u094b\\u0928\\u0942 \\u0938\\u0942\\u0926 \\u092a\\u0939\\u0941\\u0902\\u091a\\u0947 \\u0925\\u0947.\\n\\u00a0\\nA post shared by Kapil Sharma (@kapilsharma) on Dec 31, 2018 at 3:58am PST\\n\\u00a0\\n\\u0936\\u094b \\u092e\\u0947\\u0902 \\u0915\\u092a\\u093f\\u0932 \\u0936\\u0930\\u094d\\u092e\\u093e \\u0915\\u0947 \\u0905\\u0932\\u093e\\u0935\\u093e \\u0909\\u0928\\u0915\\u0947 \\u0926\\u094b\\u0938\\u094d\\u0924 \\u091a\\u0902\\u0926\\u0928, \\u0915\\u0940\\u0915\\u0942 \\u0936\\u093e\\u0930\\u0926\\u093e, \\u092d\\u093e\\u0930\\u0924\\u0940 \\u0938\\u093f\\u0902\\u0939, \\u0915\\u0943\\u0937\\u094d\\u0923\\u093e \\u0905\\u092d\\u093f\\u0937\\u0947\\u0915 \\u0914\\u0930 \\u0938\\u0941\\u092e\\u094b\\u0928\\u093e \\u091a\\u0915\\u094d\\u0930\\u0935\\u0930\\u094d\\u0924\\u0940 \\u092d\\u0940 \\u0928\\u091c\\u0930 \\u0906\\u090f. \\u0915\\u0940\\u0915\\u0942 \\u0936\\u093e\\u0930\\u0926\\u093e \\u091c\\u0939\\u093e\\u0902 \\u092c\\u091a\\u094d\\u091a\\u093e \\u092f\\u093e\\u0926\\u0935 \\u0915\\u0947 \\u0915\\u093f\\u0930\\u0926\\u093e\\u0930 \\u092e\\u0947\\u0902 \\u0939\\u0948\\u0902, \\u0935\\u0939\\u0940\\u0902 \\u092d\\u093e\\u0930\\u0924\\u0940 \\u0938\\u093f\\u0902\\u0939 \\u0909\\u0928\\u0915\\u0940 \\u092a\\u0924\\u094d\\u0928\\u0940 \\u092c\\u0928\\u0940 \\u0939\\u0941\\u0908 \\u0939\\u0948\\u0902. \\u091c\\u092c\\u0915\\u093f \\u0938\\u0941\\u092e\\u094b\\u0928\\u093e; \\u092d\\u093e\\u0930\\u0924\\u0940 \\u0915\\u0940 \\u092c\\u0939\\u0928 '\\u092d\\u0942\\u0930\\u0940' \\u0915\\u0947 \\u0930\\u094b\\u0932 \\u092e\\u0947\\u0902 \\u0928\\u091c\\u0930 \\u0906\\u0908\\u0902. \\u0915\\u0943\\u0937\\u094d\\u0923\\u093e \\u091c\\u092c \\u0938\\u094d\\u091f\\u0947\\u091c \\u092a\\u0930 \\u092c\\u0948\\u0917 \\u0932\\u0947\\u0915\\u0930 \\u0906\\u090f \\u0924\\u094b \\u0909\\u0928\\u094d\\u0939\\u094b\\u0902\\u0928\\u0947 \\u092a\\u0941\\u0930\\u093e\\u0928\\u0940 \\u092c\\u093e\\u0924\\u094b\\u0902 \\u0915\\u093e \\u092e\\u091c\\u093e\\u0915 \\u092c\\u0928\\u093e\\u092f\\u093e. \\u092b\\u093f\\u0932\\u0939\\u093e\\u0932 \\u0915\\u092a\\u093f\\u0932 \\u0914\\u0930 \\u0917\\u093f\\u0928\\u094d\\u0928\\u0940 \\u0928\\u0947 \\u0907\\u0938\\u0940 \\u092e\\u0939\\u0940\\u0928\\u0947 12 \\u0926\\u093f\\u0938\\u0902\\u092c\\u0930 \\u0915\\u094b \\u091c\\u093e\\u0932\\u0902\\u0927\\u0930 \\u092e\\u0947\\u0902 \\u0936\\u093e\\u0926\\u0940 \\u0915\\u0940 \\u0925\\u0940.\\n\\u00a0\\nA post shared by Kapil Sharma (@kapilsharma) on Dec 23, 2018 at 10:33am PST\\n\\u00a0\\nA post shared by Kapil Sharma (@kapilsharma) on Dec 13, 2018 at 9:45am PST\\n\\u092e\\u0941\\u0902\\u092c\\u0908 \\u0915\\u0947 \\u0907\\u0938 \\u0930\\u093f\\u0938\\u0947\\u092a\\u094d\\u0936\\u0928 \\u092e\\u0947\\u0902 \\u0926\\u0940\\u092a\\u093f\\u0915\\u093e \\u092a\\u093e\\u0926\\u0941\\u0915\\u094b\\u0923, \\u0930\\u0923\\u0935\\u0940\\u0930 \\u0938\\u093f\\u0902\\u0939, \\u0915\\u0930\\u0923 \\u091c\\u094c\\u0939\\u0930, \\u0915\\u093e\\u0930\\u094d\\u0924\\u093f\\u0915 \\u0906\\u0930\\u094d\\u092f\\u0928, \\u0915\\u0943\\u0924\\u093f \\u0938\\u0947\\u0928\\u0928, \\u0930\\u0947\\u0916\\u093e, \\u0905\\u0928\\u093f\\u0932 \\u0915\\u092a\\u0942\\u0930, \\u092b\\u0930\\u093e\\u0939 \\u0916\\u093e\\u0928, \\u0938\\u094b\\u0928\\u0942 \\u0938\\u0942\\u0926, \\u0930\\u0923\\u0935\\u0940\\u0930 \\u091f\\u0902\\u0921\\u0928, \\u0927\\u0930\\u094d\\u092e\\u0947\\u0902\\u0926\\u094d\\u0930, \\u091c\\u0940\\u0924\\u0947\\u0902\\u0926\\u094d\\u0930, \\u0938\\u094b\\u0939\\u0947\\u0932 \\u0916\\u093e\\u0928, \\u0938\\u0932\\u0940\\u092e \\u0916\\u093e\\u0928, \\u091f\\u0947\\u0928\\u093f\\u0938 \\u0938\\u094d\\u091f\\u093e\\u0930 \\u0938\\u093e\\u0907\\u0928\\u093e \\u0928\\u0947\\u0939\\u0935\\u093e\\u0932 \\u0914\\u0930 \\u0905\\u0928\\u094d\\u092f \\u0938\\u0947\\u0932\\u0947\\u092c\\u094d\\u0938 \\u092d\\u0940 \\u092f\\u0939\\u093e\\u0902 \\u092e\\u094c\\u091c\\u0942\\u0926 \\u0930\\u0939\\u0947.\\n\\u0915\\u092a\\u093f\\u0932 \\u0936\\u0930\\u094d\\u092e\\u093e (Kapil Sharma) \\u0915\\u0947 \\u0915\\u0949\\u092e\\u0947\\u0921\\u093f\\u092f\\u0928 \\u0926\\u094b\\u0938\\u094d\\u0924, \\u091f\\u0940\\u0935\\u0940 \\u0915\\u0947 \\u0915\\u0932\\u093e\\u0915\\u093e\\u0930 \\u0938\\u0941\\u092e\\u094b\\u0928\\u093e \\u091a\\u0915\\u094d\\u0930\\u0935\\u0930\\u094d\\u0924\\u0940, \\u092d\\u093e\\u0930\\u0924\\u0940 \\u0938\\u093f\\u0902\\u0939 \\u0935 \\u00a0\\u0909\\u0928\\u0915\\u0947 \\u092a\\u0924\\u093f \\u0939\\u0930\\u094d\\u0937 \\u0932\\u093f\\u0902\\u092c\\u091a\\u093f\\u092f\\u093e, \\u0915\\u0936\\u094d\\u092e\\u0940\\u0930\\u093e \\u0914\\u0930 \\u0915\\u0943\\u0937\\u094d\\u0923\\u093e \\u0905\\u092d\\u093f\\u0937\\u0947\\u0915, \\u091c\\u092f \\u092d\\u093e\\u0928\\u0941\\u0936\\u093e\\u0932\\u0940 \\u0914\\u0930 \\u092e\\u093e\\u0939\\u0940 \\u0935\\u093f\\u091c \\u092d\\u0940 \\u0930\\u093f\\u0938\\u0947\\u092a\\u094d\\u0936\\u0928 \\u092e\\u0947\\u0902 \\u092a\\u0939\\u0941\\u0902\\u091a\\u0947. \\u0915\\u092a\\u093f\\u0932 \\u0936\\u0930\\u094d\\u092e\\u093e \\u0914\\u0930 \\u0917\\u093f\\u0928\\u094d\\u0928\\u0940 \\u091a\\u0924\\u0930\\u0925 (Kapil Sharma and Ginni Chatrath) \\u0928\\u0947 \\u0926\\u094b \\u0939\\u093f\\u0938\\u094d\\u0938\\u094b\\u0902 \\u092e\\u0947\\u0902 \\u0936\\u093e\\u0926\\u0940 \\u0915\\u0940. \\u0939\\u093f\\u0902\\u0926\\u0942 \\u0938\\u0947\\u0930\\u0947\\u092e\\u0928\\u0940 \\u0915\\u0947 \\u092c\\u093e\\u0926 \\u0909\\u0928\\u094d\\u0939\\u094b\\u0902\\u0928\\u0947 \\u0938\\u093f\\u0916 \\u0927\\u0930\\u094d\\u092e \\u0915\\u0947 \\u0930\\u0940\\u0924\\u093f \\u0930\\u093f\\u0935\\u093e\\u091c \\u0938\\u0947 \\u092d\\u0940 \\u0936\\u093e\\u0926\\u0940 \\u0915\\u0940 \\u0925\\u0940. \\u092e\\u0941\\u0902\\u092c\\u0908 \\u0930\\u093f\\u0938\\u0947\\u092a\\u094d\\u0936\\u0928 \\u0938\\u0947 \\u092a\\u0939\\u0932\\u0947 \\u0905\\u092e\\u0943\\u0924\\u0938\\u0930 \\u092e\\u0947\\u0902 14 \\u0926\\u093f\\u0938\\u0902\\u092c\\u0930 \\u0915\\u094b \\u0930\\u093f\\u0938\\u0947\\u092a\\u094d\\u0936\\u0928 \\u0926\\u093f\\u092f\\u093e \\u0917\\u092f\\u093e \\u0925\\u093e, \\u091c\\u093f\\u0938\\u092e\\u0947\\u0902 \\u0909\\u0928\\u0915\\u0947 \\u092a\\u0930\\u093f\\u0935\\u093e\\u0930\\u0935\\u093e\\u0932\\u0947 \\u0914\\u0930 \\u0915\\u0930\\u0940\\u092c\\u0940 \\u0926\\u094b\\u0938\\u094d\\u0924 \\u0939\\u0940 \\u0936\\u093e\\u092e\\u093f\\u0932 \\u0939\\u0941\\u090f \\u0925\\u0947.\",\n          \"\\u0909\\u091a\\u094d\\u091a\\u0924\\u092e \\u0928\\u094d\\u092f\\u093e\\u092f\\u093e\\u0932\\u092f \\u0928\\u0947 \\u092e\\u0902\\u0917\\u0932\\u0935\\u093e\\u0930 \\u0938\\u094d\\u0935\\u0940\\u0915\\u093e\\u0930 \\u0915\\u093f\\u092f\\u093e \\u0915\\u093f \\u0935\\u094d\\u092f\\u0935\\u0938\\u094d\\u0925\\u093e \\u092e\\u0947\\u0902 \\u092d\\u094d\\u0930\\u0937\\u094d\\u091f\\u093e\\u091a\\u093e\\u0930 \\u0915\\u094b \\u0909\\u091c\\u093e\\u0917\\u0930 \\u0915\\u0930\\u0928\\u0947 \\u092e\\u0947\\u0902 \\u092e\\u0940\\u0921\\u093f\\u092f\\u093e \\u0915\\u0940 \\u0905\\u0939\\u092e \\u092d\\u0942\\u092e\\u093f\\u0915\\u093e \\u092a\\u0930 \\u0905\\u0935\\u092e\\u093e\\u0928\\u0928\\u093e \\u0915\\u0940 \\u091b\\u093e\\u092f\\u093e \\u0939\\u094b\\u0924\\u0940 \\u0939\\u0948\\u0964\\r\\u092a\\u094d\\u0930\\u0927\\u093e\\u0928 \\u0928\\u094d\\u092f\\u093e\\u092f\\u093e\\u0927\\u0940\\u0936 \\u090f\\u0938\\u090f\\u091a \\u0915\\u092a\\u093e\\u0921\\u093c\\u093f\\u092f\\u093e \\u0915\\u0940 \\u0905\\u0927\\u094d\\u092f\\u0915\\u094d\\u0937\\u0924\\u093e \\u0935\\u093e\\u0932\\u0940 \\u092a\\u093e\\u0902\\u091a \\u0928\\u094d\\u092f\\u093e\\u092f\\u093e\\u0927\\u0940\\u0936\\u094b\\u0902 \\u0915\\u0940 \\u0938\\u0902\\u0935\\u093f\\u0927\\u093e\\u0928 \\u092a\\u0940\\u0920 \\u0928\\u0947 \\u0915\\u0939\\u093e, \\u2018\\u090f\\u0915 \\u092a\\u0939\\u0932\\u0942 \\u0909\\u091c\\u093e\\u0917\\u0930 \\u0915\\u0930\\u0928\\u0947 \\u0915\\u0940 \\u091c\\u0930\\u0942\\u0930\\u0924 \\u0939\\u0948\\u0964 \\u0905\\u0935\\u092e\\u093e\\u0928\\u0928\\u093e \\u0915\\u093e\\u0928\\u0942\\u0928 \\u0915\\u0940 \\u091b\\u093e\\u092f\\u093e \\u0939\\u092e\\u093e\\u0930\\u0947 \\u0928\\u094d\\u092f\\u093e\\u092f\\u0936\\u093e\\u0938\\u094d\\u0924\\u094d\\u0930 \\u092a\\u0930 \\u092a\\u0921\\u093c\\u0924\\u0940 \\u0939\\u0948\\u0964 \\u092d\\u093e\\u0930\\u0924 \\u092e\\u0947\\u0902 \\u0905\\u0928\\u0947\\u0915 \\u092e\\u093e\\u092e\\u0932\\u094b\\u0902 \\u092e\\u0947\\u0902 \\u0936\\u093e\\u0938\\u0928 \\u092e\\u0947\\u0902 \\u0915\\u092e\\u0940, \\u0935\\u094d\\u092f\\u0935\\u0938\\u094d\\u0925\\u093e \\u092e\\u0947\\u0902 \\u092d\\u094d\\u0930\\u0937\\u094d\\u091f\\u093e\\u091a\\u093e\\u0930 \\u0914\\u0930 \\u0916\\u093e\\u092e\\u093f\\u092f\\u093e\\u0902 \\u091c\\u0948\\u0938\\u0947 \\u0938\\u093e\\u0930\\u094d\\u0935\\u091c\\u0928\\u093f\\u0915 \\u092e\\u0939\\u0924\\u094d\\u0935 \\u0915\\u0947 \\u0935\\u093f\\u0937\\u092f\\u094b\\u0902 \\u0915\\u094b \\u0905\\u0926\\u093e\\u0932\\u0924 \\u0915\\u0947 \\u0938\\u0902\\u091c\\u094d\\u091e\\u093e\\u0928 \\u092e\\u0947\\u0902 \\u0932\\u093e\\u0928\\u0947 \\u0915\\u0947 \\u0932\\u093f\\u0939\\u093e\\u091c \\u0938\\u0947 \\u0915\\u0947\\u0935\\u0932 \\u092e\\u0940\\u0921\\u093f\\u092f\\u093e \\u091c\\u0928\\u0924\\u093e \\u0915\\u0947 \\u092a\\u094d\\u0930\\u0924\\u093f\\u0928\\u093f\\u0927\\u093f \\u0915\\u0940 \\u092d\\u0942\\u092e\\u093f\\u0915\\u093e \\u0905\\u0926\\u093e \\u0915\\u0930\\u0924\\u093e \\u0939\\u0948\\u0964\\u2019\\r\\u092a\\u0940\\u0920 \\u0928\\u0947 \\u0915\\u0939\\u093e \\u0915\\u093f \\u092e\\u0940\\u0921\\u093f\\u092f\\u093e \\u0915\\u0940 \\u0905\\u0939\\u092e \\u092d\\u0942\\u092e\\u093f\\u0915\\u093e \\u0915\\u094b \\u0927\\u094d\\u092f\\u093e\\u0928 \\u092e\\u0947\\u0902 \\u0930\\u0916\\u0924\\u0947 \\u0939\\u0941\\u090f \\u0905\\u0926\\u093e\\u0932\\u0924\\u094b\\u0902 \\u0928\\u0947 \\u092e\\u093e\\u092e\\u0932\\u094b\\u0902 \\u0915\\u094b \\u0938\\u094d\\u0925\\u0917\\u093f\\u0924 \\u0915\\u0930\\u0928\\u0947 \\u0915\\u0947 \\u0906\\u0926\\u0947\\u0936 \\u0938\\u092e\\u0947\\u0924 \\u0905\\u0928\\u0947\\u0915 \\u0924\\u0915\\u0928\\u0940\\u0915\\u0947\\u0902 \\u0935\\u093f\\u0915\\u0938\\u093f\\u0924 \\u0915\\u0940 \\u0939\\u0948\\u0902\\u0964\\r\\u092a\\u0940\\u0920 \\u0928\\u0947 \\u0915\\u0939\\u093e, \\u2018\\u0907\\u0938 \\u0924\\u0930\\u0939 \\u0915\\u0947 \\u0906\\u0926\\u0947\\u0936 \\u092e\\u0940\\u0921\\u093f\\u092f\\u093e \\u0915\\u093e \\u0927\\u094d\\u092f\\u093e\\u0928 \\u0938\\u0902\\u092d\\u093e\\u0935\\u093f\\u0924 \\u0905\\u0935\\u092e\\u093e\\u0928\\u0928\\u093e \\u0915\\u0940 \\u0913\\u0930 \\u092d\\u0940 \\u0916\\u0940\\u0902\\u091a\\u0947\\u0902\\u0917\\u0947\\u0964 \\u0939\\u093e\\u0932\\u093e\\u0902\\u0915\\u093f \\u0909\\u091a\\u093f\\u0924 \\u0915\\u093e\\u0930\\u094d\\u092f\\u0935\\u093e\\u0939\\u0940 \\u092e\\u0947\\u0902 \\u0907\\u0938 \\u0924\\u0930\\u0939 \\u0915\\u0947 \\u0906\\u0926\\u0947\\u0936\\u094b\\u0902 \\u0915\\u094b \\u091a\\u0941\\u0928\\u094c\\u0924\\u0940 \\u0926\\u0947\\u0928\\u0947 \\u0915\\u093e \\u0935\\u093f\\u0915\\u0932\\u094d\\u092a \\u092e\\u0940\\u0921\\u093f\\u092f\\u093e \\u0915\\u0947 \\u0932\\u093f\\u090f \\u0916\\u0941\\u0932\\u093e \\u0939\\u094b\\u0917\\u093e\\u0964\\u2019    \\u091f\\u093f\\u092a\\u094d\\u092a\\u0923\\u093f\\u092f\\u093e\\u0902\\r\\u092a\\u0940\\u0920 \\u0915\\u0947 \\u0905\\u0928\\u0941\\u0938\\u093e\\u0930, \\u2018\\u0905\\u0935\\u092e\\u093e\\u0928\\u0928\\u093e \\u0905\\u092a\\u0928\\u0947 \\u0906\\u092a \\u092e\\u0947\\u0902 \\u090f\\u0915 \\u0935\\u093f\\u091a\\u093f\\u0924\\u094d\\u0930 \\u0905\\u092a\\u0930\\u093e\\u0927 \\u0939\\u0948\\u0964 \\u0905\\u0935\\u092e\\u093e\\u0928\\u0928\\u093e \\u0915\\u093e\\u0928\\u0942\\u0928 \\u0915\\u093e \\u0909\\u0926\\u094d\\u0926\\u0947\\u0936\\u094d\\u092f \\u0915\\u0947\\u0935\\u0932 \\u0926\\u0902\\u0921\\u093f\\u0924 \\u0915\\u0930\\u0928\\u093e \\u0928\\u0939\\u0940\\u0902 \\u0939\\u0948\\u0964\\u2019\\r\\u092a\\u0940\\u0920 \\u0928\\u0947 \\u092f\\u0939 \\u092d\\u0940 \\u0915\\u0939\\u093e,\\u2018\\u0907\\u0938\\u0915\\u093e \\u0909\\u0926\\u094d\\u0926\\u0947\\u0936\\u094d\\u092f \\u0928\\u094d\\u092f\\u093e\\u092f\\u092a\\u094d\\u0930\\u0923\\u093e\\u0932\\u0940 \\u0915\\u0940 \\u092a\\u0935\\u093f\\u0924\\u094d\\u0930\\u0924\\u093e \\u0914\\u0930 \\u0932\\u0902\\u092c\\u093f\\u0924 \\u092e\\u093e\\u092e\\u0932\\u094b\\u0902 \\u0915\\u0940 \\u0938\\u0924\\u094d\\u092f\\u0924\\u093e \\u0915\\u094b \\u092c\\u0928\\u093e\\u090f \\u0930\\u0916\\u0928\\u093e \\u0939\\u0948\\u0964 \\u0907\\u0938 \\u0924\\u0930\\u0939 \\u0938\\u094d\\u0925\\u0917\\u093f\\u0924 \\u0915\\u0930\\u0928\\u0947 \\u0915\\u093e \\u0913\\u0926\\u0936 \\u0926\\u0902\\u0921\\u093e\\u0924\\u094d\\u092e\\u0915 \\u0915\\u093e\\u0930\\u094d\\u092f\\u0935\\u093e\\u0939\\u0940 \\u0928\\u0939\\u0940\\u0902 \\u092c\\u0932\\u094d\\u0915\\u093f \\u0928\\u093f\\u0930\\u094b\\u0927\\u0915 \\u0915\\u0926\\u092e \\u0939\\u0948\\u0964\\u2019\\n\\r\\u092a\\u094d\\u0930\\u0927\\u093e\\u0928 \\u0928\\u094d\\u092f\\u093e\\u092f\\u093e\\u0927\\u0940\\u0936 \\u090f\\u0938\\u090f\\u091a \\u0915\\u092a\\u093e\\u0921\\u093c\\u093f\\u092f\\u093e \\u0915\\u0940 \\u0905\\u0927\\u094d\\u092f\\u0915\\u094d\\u0937\\u0924\\u093e \\u0935\\u093e\\u0932\\u0940 \\u092a\\u093e\\u0902\\u091a \\u0928\\u094d\\u092f\\u093e\\u092f\\u093e\\u0927\\u0940\\u0936\\u094b\\u0902 \\u0915\\u0940 \\u0938\\u0902\\u0935\\u093f\\u0927\\u093e\\u0928 \\u092a\\u0940\\u0920 \\u0928\\u0947 \\u0915\\u0939\\u093e, \\u2018\\u090f\\u0915 \\u092a\\u0939\\u0932\\u0942 \\u0909\\u091c\\u093e\\u0917\\u0930 \\u0915\\u0930\\u0928\\u0947 \\u0915\\u0940 \\u091c\\u0930\\u0942\\u0930\\u0924 \\u0939\\u0948\\u0964 \\u0905\\u0935\\u092e\\u093e\\u0928\\u0928\\u093e \\u0915\\u093e\\u0928\\u0942\\u0928 \\u0915\\u0940 \\u091b\\u093e\\u092f\\u093e \\u0939\\u092e\\u093e\\u0930\\u0947 \\u0928\\u094d\\u092f\\u093e\\u092f\\u0936\\u093e\\u0938\\u094d\\u0924\\u094d\\u0930 \\u092a\\u0930 \\u092a\\u0921\\u093c\\u0924\\u0940 \\u0939\\u0948\\u0964 \\u092d\\u093e\\u0930\\u0924 \\u092e\\u0947\\u0902 \\u0905\\u0928\\u0947\\u0915 \\u092e\\u093e\\u092e\\u0932\\u094b\\u0902 \\u092e\\u0947\\u0902 \\u0936\\u093e\\u0938\\u0928 \\u092e\\u0947\\u0902 \\u0915\\u092e\\u0940, \\u0935\\u094d\\u092f\\u0935\\u0938\\u094d\\u0925\\u093e \\u092e\\u0947\\u0902 \\u092d\\u094d\\u0930\\u0937\\u094d\\u091f\\u093e\\u091a\\u093e\\u0930 \\u0914\\u0930 \\u0916\\u093e\\u092e\\u093f\\u092f\\u093e\\u0902 \\u091c\\u0948\\u0938\\u0947 \\u0938\\u093e\\u0930\\u094d\\u0935\\u091c\\u0928\\u093f\\u0915 \\u092e\\u0939\\u0924\\u094d\\u0935 \\u0915\\u0947 \\u0935\\u093f\\u0937\\u092f\\u094b\\u0902 \\u0915\\u094b \\u0905\\u0926\\u093e\\u0932\\u0924 \\u0915\\u0947 \\u0938\\u0902\\u091c\\u094d\\u091e\\u093e\\u0928 \\u092e\\u0947\\u0902 \\u0932\\u093e\\u0928\\u0947 \\u0915\\u0947 \\u0932\\u093f\\u0939\\u093e\\u091c \\u0938\\u0947 \\u0915\\u0947\\u0935\\u0932 \\u092e\\u0940\\u0921\\u093f\\u092f\\u093e \\u091c\\u0928\\u0924\\u093e \\u0915\\u0947 \\u092a\\u094d\\u0930\\u0924\\u093f\\u0928\\u093f\\u0927\\u093f \\u0915\\u0940 \\u092d\\u0942\\u092e\\u093f\\u0915\\u093e \\u0905\\u0926\\u093e \\u0915\\u0930\\u0924\\u093e \\u0939\\u0948\\u0964\\u2019\\r\\u092a\\u0940\\u0920 \\u0928\\u0947 \\u0915\\u0939\\u093e \\u0915\\u093f \\u092e\\u0940\\u0921\\u093f\\u092f\\u093e \\u0915\\u0940 \\u0905\\u0939\\u092e \\u092d\\u0942\\u092e\\u093f\\u0915\\u093e \\u0915\\u094b \\u0927\\u094d\\u092f\\u093e\\u0928 \\u092e\\u0947\\u0902 \\u0930\\u0916\\u0924\\u0947 \\u0939\\u0941\\u090f \\u0905\\u0926\\u093e\\u0932\\u0924\\u094b\\u0902 \\u0928\\u0947 \\u092e\\u093e\\u092e\\u0932\\u094b\\u0902 \\u0915\\u094b \\u0938\\u094d\\u0925\\u0917\\u093f\\u0924 \\u0915\\u0930\\u0928\\u0947 \\u0915\\u0947 \\u0906\\u0926\\u0947\\u0936 \\u0938\\u092e\\u0947\\u0924 \\u0905\\u0928\\u0947\\u0915 \\u0924\\u0915\\u0928\\u0940\\u0915\\u0947\\u0902 \\u0935\\u093f\\u0915\\u0938\\u093f\\u0924 \\u0915\\u0940 \\u0939\\u0948\\u0902\\u0964\\r\\u092a\\u0940\\u0920 \\u0928\\u0947 \\u0915\\u0939\\u093e, \\u2018\\u0907\\u0938 \\u0924\\u0930\\u0939 \\u0915\\u0947 \\u0906\\u0926\\u0947\\u0936 \\u092e\\u0940\\u0921\\u093f\\u092f\\u093e \\u0915\\u093e \\u0927\\u094d\\u092f\\u093e\\u0928 \\u0938\\u0902\\u092d\\u093e\\u0935\\u093f\\u0924 \\u0905\\u0935\\u092e\\u093e\\u0928\\u0928\\u093e \\u0915\\u0940 \\u0913\\u0930 \\u092d\\u0940 \\u0916\\u0940\\u0902\\u091a\\u0947\\u0902\\u0917\\u0947\\u0964 \\u0939\\u093e\\u0932\\u093e\\u0902\\u0915\\u093f \\u0909\\u091a\\u093f\\u0924 \\u0915\\u093e\\u0930\\u094d\\u092f\\u0935\\u093e\\u0939\\u0940 \\u092e\\u0947\\u0902 \\u0907\\u0938 \\u0924\\u0930\\u0939 \\u0915\\u0947 \\u0906\\u0926\\u0947\\u0936\\u094b\\u0902 \\u0915\\u094b \\u091a\\u0941\\u0928\\u094c\\u0924\\u0940 \\u0926\\u0947\\u0928\\u0947 \\u0915\\u093e \\u0935\\u093f\\u0915\\u0932\\u094d\\u092a \\u092e\\u0940\\u0921\\u093f\\u092f\\u093e \\u0915\\u0947 \\u0932\\u093f\\u090f \\u0916\\u0941\\u0932\\u093e \\u0939\\u094b\\u0917\\u093e\\u0964\\u2019    \\u091f\\u093f\\u092a\\u094d\\u092a\\u0923\\u093f\\u092f\\u093e\\u0902\\r\\u092a\\u0940\\u0920 \\u0915\\u0947 \\u0905\\u0928\\u0941\\u0938\\u093e\\u0930, \\u2018\\u0905\\u0935\\u092e\\u093e\\u0928\\u0928\\u093e \\u0905\\u092a\\u0928\\u0947 \\u0906\\u092a \\u092e\\u0947\\u0902 \\u090f\\u0915 \\u0935\\u093f\\u091a\\u093f\\u0924\\u094d\\u0930 \\u0905\\u092a\\u0930\\u093e\\u0927 \\u0939\\u0948\\u0964 \\u0905\\u0935\\u092e\\u093e\\u0928\\u0928\\u093e \\u0915\\u093e\\u0928\\u0942\\u0928 \\u0915\\u093e \\u0909\\u0926\\u094d\\u0926\\u0947\\u0936\\u094d\\u092f \\u0915\\u0947\\u0935\\u0932 \\u0926\\u0902\\u0921\\u093f\\u0924 \\u0915\\u0930\\u0928\\u093e \\u0928\\u0939\\u0940\\u0902 \\u0939\\u0948\\u0964\\u2019\\r\\u092a\\u0940\\u0920 \\u0928\\u0947 \\u092f\\u0939 \\u092d\\u0940 \\u0915\\u0939\\u093e,\\u2018\\u0907\\u0938\\u0915\\u093e \\u0909\\u0926\\u094d\\u0926\\u0947\\u0936\\u094d\\u092f \\u0928\\u094d\\u092f\\u093e\\u092f\\u092a\\u094d\\u0930\\u0923\\u093e\\u0932\\u0940 \\u0915\\u0940 \\u092a\\u0935\\u093f\\u0924\\u094d\\u0930\\u0924\\u093e \\u0914\\u0930 \\u0932\\u0902\\u092c\\u093f\\u0924 \\u092e\\u093e\\u092e\\u0932\\u094b\\u0902 \\u0915\\u0940 \\u0938\\u0924\\u094d\\u092f\\u0924\\u093e \\u0915\\u094b \\u092c\\u0928\\u093e\\u090f \\u0930\\u0916\\u0928\\u093e \\u0939\\u0948\\u0964 \\u0907\\u0938 \\u0924\\u0930\\u0939 \\u0938\\u094d\\u0925\\u0917\\u093f\\u0924 \\u0915\\u0930\\u0928\\u0947 \\u0915\\u093e \\u0913\\u0926\\u0936 \\u0926\\u0902\\u0921\\u093e\\u0924\\u094d\\u092e\\u0915 \\u0915\\u093e\\u0930\\u094d\\u092f\\u0935\\u093e\\u0939\\u0940 \\u0928\\u0939\\u0940\\u0902 \\u092c\\u0932\\u094d\\u0915\\u093f \\u0928\\u093f\\u0930\\u094b\\u0927\\u0915 \\u0915\\u0926\\u092e \\u0939\\u0948\\u0964\\u2019\\n\\r\\u092a\\u0940\\u0920 \\u0928\\u0947 \\u0915\\u0939\\u093e \\u0915\\u093f \\u092e\\u0940\\u0921\\u093f\\u092f\\u093e \\u0915\\u0940 \\u0905\\u0939\\u092e \\u092d\\u0942\\u092e\\u093f\\u0915\\u093e \\u0915\\u094b \\u0927\\u094d\\u092f\\u093e\\u0928 \\u092e\\u0947\\u0902 \\u0930\\u0916\\u0924\\u0947 \\u0939\\u0941\\u090f \\u0905\\u0926\\u093e\\u0932\\u0924\\u094b\\u0902 \\u0928\\u0947 \\u092e\\u093e\\u092e\\u0932\\u094b\\u0902 \\u0915\\u094b \\u0938\\u094d\\u0925\\u0917\\u093f\\u0924 \\u0915\\u0930\\u0928\\u0947 \\u0915\\u0947 \\u0906\\u0926\\u0947\\u0936 \\u0938\\u092e\\u0947\\u0924 \\u0905\\u0928\\u0947\\u0915 \\u0924\\u0915\\u0928\\u0940\\u0915\\u0947\\u0902 \\u0935\\u093f\\u0915\\u0938\\u093f\\u0924 \\u0915\\u0940 \\u0939\\u0948\\u0902\\u0964\\r\\u092a\\u0940\\u0920 \\u0928\\u0947 \\u0915\\u0939\\u093e, \\u2018\\u0907\\u0938 \\u0924\\u0930\\u0939 \\u0915\\u0947 \\u0906\\u0926\\u0947\\u0936 \\u092e\\u0940\\u0921\\u093f\\u092f\\u093e \\u0915\\u093e \\u0927\\u094d\\u092f\\u093e\\u0928 \\u0938\\u0902\\u092d\\u093e\\u0935\\u093f\\u0924 \\u0905\\u0935\\u092e\\u093e\\u0928\\u0928\\u093e \\u0915\\u0940 \\u0913\\u0930 \\u092d\\u0940 \\u0916\\u0940\\u0902\\u091a\\u0947\\u0902\\u0917\\u0947\\u0964 \\u0939\\u093e\\u0932\\u093e\\u0902\\u0915\\u093f \\u0909\\u091a\\u093f\\u0924 \\u0915\\u093e\\u0930\\u094d\\u092f\\u0935\\u093e\\u0939\\u0940 \\u092e\\u0947\\u0902 \\u0907\\u0938 \\u0924\\u0930\\u0939 \\u0915\\u0947 \\u0906\\u0926\\u0947\\u0936\\u094b\\u0902 \\u0915\\u094b \\u091a\\u0941\\u0928\\u094c\\u0924\\u0940 \\u0926\\u0947\\u0928\\u0947 \\u0915\\u093e \\u0935\\u093f\\u0915\\u0932\\u094d\\u092a \\u092e\\u0940\\u0921\\u093f\\u092f\\u093e \\u0915\\u0947 \\u0932\\u093f\\u090f \\u0916\\u0941\\u0932\\u093e \\u0939\\u094b\\u0917\\u093e\\u0964\\u2019    \\u091f\\u093f\\u092a\\u094d\\u092a\\u0923\\u093f\\u092f\\u093e\\u0902\\r\\u092a\\u0940\\u0920 \\u0915\\u0947 \\u0905\\u0928\\u0941\\u0938\\u093e\\u0930, \\u2018\\u0905\\u0935\\u092e\\u093e\\u0928\\u0928\\u093e \\u0905\\u092a\\u0928\\u0947 \\u0906\\u092a \\u092e\\u0947\\u0902 \\u090f\\u0915 \\u0935\\u093f\\u091a\\u093f\\u0924\\u094d\\u0930 \\u0905\\u092a\\u0930\\u093e\\u0927 \\u0939\\u0948\\u0964 \\u0905\\u0935\\u092e\\u093e\\u0928\\u0928\\u093e \\u0915\\u093e\\u0928\\u0942\\u0928 \\u0915\\u093e \\u0909\\u0926\\u094d\\u0926\\u0947\\u0936\\u094d\\u092f \\u0915\\u0947\\u0935\\u0932 \\u0926\\u0902\\u0921\\u093f\\u0924 \\u0915\\u0930\\u0928\\u093e \\u0928\\u0939\\u0940\\u0902 \\u0939\\u0948\\u0964\\u2019\\r\\u092a\\u0940\\u0920 \\u0928\\u0947 \\u092f\\u0939 \\u092d\\u0940 \\u0915\\u0939\\u093e,\\u2018\\u0907\\u0938\\u0915\\u093e \\u0909\\u0926\\u094d\\u0926\\u0947\\u0936\\u094d\\u092f \\u0928\\u094d\\u092f\\u093e\\u092f\\u092a\\u094d\\u0930\\u0923\\u093e\\u0932\\u0940 \\u0915\\u0940 \\u092a\\u0935\\u093f\\u0924\\u094d\\u0930\\u0924\\u093e \\u0914\\u0930 \\u0932\\u0902\\u092c\\u093f\\u0924 \\u092e\\u093e\\u092e\\u0932\\u094b\\u0902 \\u0915\\u0940 \\u0938\\u0924\\u094d\\u092f\\u0924\\u093e \\u0915\\u094b \\u092c\\u0928\\u093e\\u090f \\u0930\\u0916\\u0928\\u093e \\u0939\\u0948\\u0964 \\u0907\\u0938 \\u0924\\u0930\\u0939 \\u0938\\u094d\\u0925\\u0917\\u093f\\u0924 \\u0915\\u0930\\u0928\\u0947 \\u0915\\u093e \\u0913\\u0926\\u0936 \\u0926\\u0902\\u0921\\u093e\\u0924\\u094d\\u092e\\u0915 \\u0915\\u093e\\u0930\\u094d\\u092f\\u0935\\u093e\\u0939\\u0940 \\u0928\\u0939\\u0940\\u0902 \\u092c\\u0932\\u094d\\u0915\\u093f \\u0928\\u093f\\u0930\\u094b\\u0927\\u0915 \\u0915\\u0926\\u092e \\u0939\\u0948\\u0964\\u2019\\n\\r\\u092a\\u0940\\u0920 \\u0928\\u0947 \\u0915\\u0939\\u093e, \\u2018\\u0907\\u0938 \\u0924\\u0930\\u0939 \\u0915\\u0947 \\u0906\\u0926\\u0947\\u0936 \\u092e\\u0940\\u0921\\u093f\\u092f\\u093e \\u0915\\u093e \\u0927\\u094d\\u092f\\u093e\\u0928 \\u0938\\u0902\\u092d\\u093e\\u0935\\u093f\\u0924 \\u0905\\u0935\\u092e\\u093e\\u0928\\u0928\\u093e \\u0915\\u0940 \\u0913\\u0930 \\u092d\\u0940 \\u0916\\u0940\\u0902\\u091a\\u0947\\u0902\\u0917\\u0947\\u0964 \\u0939\\u093e\\u0932\\u093e\\u0902\\u0915\\u093f \\u0909\\u091a\\u093f\\u0924 \\u0915\\u093e\\u0930\\u094d\\u092f\\u0935\\u093e\\u0939\\u0940 \\u092e\\u0947\\u0902 \\u0907\\u0938 \\u0924\\u0930\\u0939 \\u0915\\u0947 \\u0906\\u0926\\u0947\\u0936\\u094b\\u0902 \\u0915\\u094b \\u091a\\u0941\\u0928\\u094c\\u0924\\u0940 \\u0926\\u0947\\u0928\\u0947 \\u0915\\u093e \\u0935\\u093f\\u0915\\u0932\\u094d\\u092a \\u092e\\u0940\\u0921\\u093f\\u092f\\u093e \\u0915\\u0947 \\u0932\\u093f\\u090f \\u0916\\u0941\\u0932\\u093e \\u0939\\u094b\\u0917\\u093e\\u0964\\u2019    \\u091f\\u093f\\u092a\\u094d\\u092a\\u0923\\u093f\\u092f\\u093e\\u0902\\r\\u092a\\u0940\\u0920 \\u0915\\u0947 \\u0905\\u0928\\u0941\\u0938\\u093e\\u0930, \\u2018\\u0905\\u0935\\u092e\\u093e\\u0928\\u0928\\u093e \\u0905\\u092a\\u0928\\u0947 \\u0906\\u092a \\u092e\\u0947\\u0902 \\u090f\\u0915 \\u0935\\u093f\\u091a\\u093f\\u0924\\u094d\\u0930 \\u0905\\u092a\\u0930\\u093e\\u0927 \\u0939\\u0948\\u0964 \\u0905\\u0935\\u092e\\u093e\\u0928\\u0928\\u093e \\u0915\\u093e\\u0928\\u0942\\u0928 \\u0915\\u093e \\u0909\\u0926\\u094d\\u0926\\u0947\\u0936\\u094d\\u092f \\u0915\\u0947\\u0935\\u0932 \\u0926\\u0902\\u0921\\u093f\\u0924 \\u0915\\u0930\\u0928\\u093e \\u0928\\u0939\\u0940\\u0902 \\u0939\\u0948\\u0964\\u2019\\r\\u092a\\u0940\\u0920 \\u0928\\u0947 \\u092f\\u0939 \\u092d\\u0940 \\u0915\\u0939\\u093e,\\u2018\\u0907\\u0938\\u0915\\u093e \\u0909\\u0926\\u094d\\u0926\\u0947\\u0936\\u094d\\u092f \\u0928\\u094d\\u092f\\u093e\\u092f\\u092a\\u094d\\u0930\\u0923\\u093e\\u0932\\u0940 \\u0915\\u0940 \\u092a\\u0935\\u093f\\u0924\\u094d\\u0930\\u0924\\u093e \\u0914\\u0930 \\u0932\\u0902\\u092c\\u093f\\u0924 \\u092e\\u093e\\u092e\\u0932\\u094b\\u0902 \\u0915\\u0940 \\u0938\\u0924\\u094d\\u092f\\u0924\\u093e \\u0915\\u094b \\u092c\\u0928\\u093e\\u090f \\u0930\\u0916\\u0928\\u093e \\u0939\\u0948\\u0964 \\u0907\\u0938 \\u0924\\u0930\\u0939 \\u0938\\u094d\\u0925\\u0917\\u093f\\u0924 \\u0915\\u0930\\u0928\\u0947 \\u0915\\u093e \\u0913\\u0926\\u0936 \\u0926\\u0902\\u0921\\u093e\\u0924\\u094d\\u092e\\u0915 \\u0915\\u093e\\u0930\\u094d\\u092f\\u0935\\u093e\\u0939\\u0940 \\u0928\\u0939\\u0940\\u0902 \\u092c\\u0932\\u094d\\u0915\\u093f \\u0928\\u093f\\u0930\\u094b\\u0927\\u0915 \\u0915\\u0926\\u092e \\u0939\\u0948\\u0964\\u2019\\n\\r\\u092a\\u0940\\u0920 \\u0915\\u0947 \\u0905\\u0928\\u0941\\u0938\\u093e\\u0930, \\u2018\\u0905\\u0935\\u092e\\u093e\\u0928\\u0928\\u093e \\u0905\\u092a\\u0928\\u0947 \\u0906\\u092a \\u092e\\u0947\\u0902 \\u090f\\u0915 \\u0935\\u093f\\u091a\\u093f\\u0924\\u094d\\u0930 \\u0905\\u092a\\u0930\\u093e\\u0927 \\u0939\\u0948\\u0964 \\u0905\\u0935\\u092e\\u093e\\u0928\\u0928\\u093e \\u0915\\u093e\\u0928\\u0942\\u0928 \\u0915\\u093e \\u0909\\u0926\\u094d\\u0926\\u0947\\u0936\\u094d\\u092f \\u0915\\u0947\\u0935\\u0932 \\u0926\\u0902\\u0921\\u093f\\u0924 \\u0915\\u0930\\u0928\\u093e \\u0928\\u0939\\u0940\\u0902 \\u0939\\u0948\\u0964\\u2019\\r\\u092a\\u0940\\u0920 \\u0928\\u0947 \\u092f\\u0939 \\u092d\\u0940 \\u0915\\u0939\\u093e,\\u2018\\u0907\\u0938\\u0915\\u093e \\u0909\\u0926\\u094d\\u0926\\u0947\\u0936\\u094d\\u092f \\u0928\\u094d\\u092f\\u093e\\u092f\\u092a\\u094d\\u0930\\u0923\\u093e\\u0932\\u0940 \\u0915\\u0940 \\u092a\\u0935\\u093f\\u0924\\u094d\\u0930\\u0924\\u093e \\u0914\\u0930 \\u0932\\u0902\\u092c\\u093f\\u0924 \\u092e\\u093e\\u092e\\u0932\\u094b\\u0902 \\u0915\\u0940 \\u0938\\u0924\\u094d\\u092f\\u0924\\u093e \\u0915\\u094b \\u092c\\u0928\\u093e\\u090f \\u0930\\u0916\\u0928\\u093e \\u0939\\u0948\\u0964 \\u0907\\u0938 \\u0924\\u0930\\u0939 \\u0938\\u094d\\u0925\\u0917\\u093f\\u0924 \\u0915\\u0930\\u0928\\u0947 \\u0915\\u093e \\u0913\\u0926\\u0936 \\u0926\\u0902\\u0921\\u093e\\u0924\\u094d\\u092e\\u0915 \\u0915\\u093e\\u0930\\u094d\\u092f\\u0935\\u093e\\u0939\\u0940 \\u0928\\u0939\\u0940\\u0902 \\u092c\\u0932\\u094d\\u0915\\u093f \\u0928\\u093f\\u0930\\u094b\\u0927\\u0915 \\u0915\\u0926\\u092e \\u0939\\u0948\\u0964\\u2019\\n\\r\\u092a\\u0940\\u0920 \\u0928\\u0947 \\u092f\\u0939 \\u092d\\u0940 \\u0915\\u0939\\u093e,\\u2018\\u0907\\u0938\\u0915\\u093e \\u0909\\u0926\\u094d\\u0926\\u0947\\u0936\\u094d\\u092f \\u0928\\u094d\\u092f\\u093e\\u092f\\u092a\\u094d\\u0930\\u0923\\u093e\\u0932\\u0940 \\u0915\\u0940 \\u092a\\u0935\\u093f\\u0924\\u094d\\u0930\\u0924\\u093e \\u0914\\u0930 \\u0932\\u0902\\u092c\\u093f\\u0924 \\u092e\\u093e\\u092e\\u0932\\u094b\\u0902 \\u0915\\u0940 \\u0938\\u0924\\u094d\\u092f\\u0924\\u093e \\u0915\\u094b \\u092c\\u0928\\u093e\\u090f \\u0930\\u0916\\u0928\\u093e \\u0939\\u0948\\u0964 \\u0907\\u0938 \\u0924\\u0930\\u0939 \\u0938\\u094d\\u0925\\u0917\\u093f\\u0924 \\u0915\\u0930\\u0928\\u0947 \\u0915\\u093e \\u0913\\u0926\\u0936 \\u0926\\u0902\\u0921\\u093e\\u0924\\u094d\\u092e\\u0915 \\u0915\\u093e\\u0930\\u094d\\u092f\\u0935\\u093e\\u0939\\u0940 \\u0928\\u0939\\u0940\\u0902 \\u092c\\u0932\\u094d\\u0915\\u093f \\u0928\\u093f\\u0930\\u094b\\u0927\\u0915 \\u0915\\u0926\\u092e \\u0939\\u0948\\u0964\\u2019\"\n        ],\n        \"semantic_type\": \"\",\n        \"description\": \"\"\n      }\n    }\n  ]\n}"
            }
          },
          "metadata": {},
          "execution_count": 43
        }
      ]
    },
    {
      "cell_type": "code",
      "source": [
        "dataset_cleaned.shape"
      ],
      "metadata": {
        "colab": {
          "base_uri": "https://localhost:8080/"
        },
        "id": "wNOmkI2OXcJi",
        "outputId": "15ec29d6-19c2-457e-8969-7a8f8f8f0198"
      },
      "execution_count": null,
      "outputs": [
        {
          "output_type": "execute_result",
          "data": {
            "text/plain": [
              "(4570, 3)"
            ]
          },
          "metadata": {},
          "execution_count": 44
        }
      ]
    },
    {
      "cell_type": "code",
      "source": [
        "dataset_cleaned['summary'].isnull().sum()"
      ],
      "metadata": {
        "colab": {
          "base_uri": "https://localhost:8080/"
        },
        "id": "9mL8lBR4XeQ6",
        "outputId": "2dcb468c-a593-4bcd-b7e8-1a65a797d6e1"
      },
      "execution_count": null,
      "outputs": [
        {
          "output_type": "execute_result",
          "data": {
            "text/plain": [
              "0"
            ]
          },
          "metadata": {},
          "execution_count": 45
        }
      ]
    },
    {
      "cell_type": "code",
      "source": [
        "dataset_cleaned['article'].isnull().sum()"
      ],
      "metadata": {
        "colab": {
          "base_uri": "https://localhost:8080/"
        },
        "id": "ElIedtJNXgYa",
        "outputId": "642f20d5-4566-44fc-aa47-dd530a11f2cf"
      },
      "execution_count": null,
      "outputs": [
        {
          "output_type": "execute_result",
          "data": {
            "text/plain": [
              "0"
            ]
          },
          "metadata": {},
          "execution_count": 46
        }
      ]
    },
    {
      "cell_type": "code",
      "source": [
        "dataset_cleaned['headline'].isnull().sum()"
      ],
      "metadata": {
        "colab": {
          "base_uri": "https://localhost:8080/"
        },
        "id": "_C0cd_BiXhbM",
        "outputId": "9afb751d-3332-4a87-88bd-74b9989b55fc"
      },
      "execution_count": null,
      "outputs": [
        {
          "output_type": "execute_result",
          "data": {
            "text/plain": [
              "0"
            ]
          },
          "metadata": {},
          "execution_count": 47
        }
      ]
    },
    {
      "cell_type": "code",
      "source": [
        "articles = list(dataset_cleaned['article'])\n",
        "summaries = list(dataset_cleaned['summary'])\n",
        "headlines = list(dataset_cleaned['headline'])"
      ],
      "metadata": {
        "id": "Wrnt3ygPXi7N"
      },
      "execution_count": null,
      "outputs": []
    },
    {
      "cell_type": "code",
      "source": [
        "from spacy.lang.hi import STOP_WORDS as STOP_WORDS_HI"
      ],
      "metadata": {
        "id": "XMXjljn1XmZu"
      },
      "execution_count": null,
      "outputs": []
    },
    {
      "cell_type": "code",
      "source": [
        "import re\n",
        "hindi_pattern = r'[\\u0965\\u002E\\u002C\\u0021\\u003F\\u003B\\u003A\\u0027\\u0022\\u2018\\u2019\\u201C\\u201D\\u002D\\u0028\\u0029]'\n",
        "purna_viram_pattern = r'[\\u0964]'\n",
        "english_pattern = r'[^\\w\\s\\u0900-\\u097F]'\n",
        "pattern = hindi_pattern + '|' + english_pattern\n",
        "article_corpus = []\n",
        "summary_corpus = []\n",
        "headline_corpus = []"
      ],
      "metadata": {
        "id": "383srSwWXn7M"
      },
      "execution_count": null,
      "outputs": []
    },
    {
      "cell_type": "code",
      "source": [
        "for i in range(len(articles)):\n",
        "  sentence = re.sub(pattern, ' ', articles[i])\n",
        "  sentence = re.sub(purna_viram_pattern, '.', sentence)\n",
        "  sentence = sentence.split()\n",
        "  sentence = [word for word in sentence if not word in STOP_WORDS_HI]\n",
        "  sentence = ' '.join(sentence)\n",
        "  article_corpus.append(sentence)\n",
        "\n",
        "for i in range(len(summaries)):\n",
        "  sentence = re.sub(pattern, ' ', summaries[i])\n",
        "  sentence = re.sub(purna_viram_pattern, '.', sentence)\n",
        "  sentence = sentence.split()\n",
        "  sentence = [word for word in sentence] # Not removing stopwords from the summary\n",
        "  sentence = ' '.join(sentence)\n",
        "  summary_corpus.append(sentence)\n",
        "\n",
        "for i in range(len(headlines)):\n",
        "  sentence = re.sub(pattern, ' ', headlines[i])\n",
        "  sentence = re.sub(purna_viram_pattern, '.', sentence)\n",
        "  sentence = sentence.split()\n",
        "  sentence = [word for word in sentence if not word in STOP_WORDS_HI]\n",
        "  sentence = ' '.join(sentence)\n",
        "  headline_corpus.append(sentence)"
      ],
      "metadata": {
        "id": "EsJqLEPCXpOa"
      },
      "execution_count": null,
      "outputs": []
    },
    {
      "cell_type": "code",
      "source": [
        "import pandas as pd\n",
        "\n",
        "preprocessed_df = pd.DataFrame({\n",
        "    'article': article_corpus,\n",
        "    'summary': summary_corpus,\n",
        "    'headline': headline_corpus\n",
        "})\n",
        "\n",
        "preprocessed_df.head()"
      ],
      "metadata": {
        "colab": {
          "base_uri": "https://localhost:8080/",
          "height": 293
        },
        "id": "WVVyR8ioXrEF",
        "outputId": "b0e0527d-24ca-4207-cea3-d133cf81a5fe"
      },
      "execution_count": null,
      "outputs": [
        {
          "output_type": "execute_result",
          "data": {
            "text/plain": [
              "                                             article  \\\n",
              "0  ब्लैकबेरी हैंडसेट बनाने वाली कनाडा कंपनी रिसर्...   \n",
              "1  अमेरिका राष्ट्रपति पद डेमोक्रेटिक पार्टी उम्मी...   \n",
              "2  पूर्व भारतीय क्रिकेट कप्तान अनिल कुंबले मानना ...   \n",
              "3  इंडिगो एयरलाइन प्रेसीडेंट डायरेक्टर आदित्य घोष...   \n",
              "4  संजय लीला भंसाली फिल्म मलाल बॉलीवुड कदम रखने म...   \n",
              "\n",
              "                                             summary  \\\n",
              "0  ब्लैकबेरी हैंडसेट बनाने वाली कनाडा की कंपनी रि...   \n",
              "1  श्रद्धांजलि सभा के दौरान अचानक खराब हुई हिलेरी...   \n",
              "2  पूर्व भारतीय कप्तान अनिल कुंबले का मानना है कि...   \n",
              "3  इंडिगो के ग्राउंड स्टाफ ने यात्री से की हाथापा...   \n",
              "4  मीजान जाफरी ने किया खुलासा नव्या नंदा को बताया...   \n",
              "\n",
              "                                            headline  \n",
              "0                   रिम करेगा हजार कर्मचारियों छंटनी  \n",
              "1  अमेरिका राष्ट्रपति पद उम्मीदवार हिलेरी क्लिंटन...  \n",
              "2    देश सर्वश्रेष्ठ स्पिनरों हरभजन सिंह अनिल कुंबले  \n",
              "3  इंडिगो स्टाफ दिल्ली एयरपोर्ट पैसेंजर मारपीट एय...  \n",
              "4  नव्या नवेली दोस्ती जावेद जाफरी बेटे खुलासा कही...  "
            ],
            "text/html": [
              "\n",
              "  <div id=\"df-4f5e4b20-c4a5-49f7-a111-42b272dec8fe\" class=\"colab-df-container\">\n",
              "    <div>\n",
              "<style scoped>\n",
              "    .dataframe tbody tr th:only-of-type {\n",
              "        vertical-align: middle;\n",
              "    }\n",
              "\n",
              "    .dataframe tbody tr th {\n",
              "        vertical-align: top;\n",
              "    }\n",
              "\n",
              "    .dataframe thead th {\n",
              "        text-align: right;\n",
              "    }\n",
              "</style>\n",
              "<table border=\"1\" class=\"dataframe\">\n",
              "  <thead>\n",
              "    <tr style=\"text-align: right;\">\n",
              "      <th></th>\n",
              "      <th>article</th>\n",
              "      <th>summary</th>\n",
              "      <th>headline</th>\n",
              "    </tr>\n",
              "  </thead>\n",
              "  <tbody>\n",
              "    <tr>\n",
              "      <th>0</th>\n",
              "      <td>ब्लैकबेरी हैंडसेट बनाने वाली कनाडा कंपनी रिसर्...</td>\n",
              "      <td>ब्लैकबेरी हैंडसेट बनाने वाली कनाडा की कंपनी रि...</td>\n",
              "      <td>रिम करेगा हजार कर्मचारियों छंटनी</td>\n",
              "    </tr>\n",
              "    <tr>\n",
              "      <th>1</th>\n",
              "      <td>अमेरिका राष्ट्रपति पद डेमोक्रेटिक पार्टी उम्मी...</td>\n",
              "      <td>श्रद्धांजलि सभा के दौरान अचानक खराब हुई हिलेरी...</td>\n",
              "      <td>अमेरिका राष्ट्रपति पद उम्मीदवार हिलेरी क्लिंटन...</td>\n",
              "    </tr>\n",
              "    <tr>\n",
              "      <th>2</th>\n",
              "      <td>पूर्व भारतीय क्रिकेट कप्तान अनिल कुंबले मानना ...</td>\n",
              "      <td>पूर्व भारतीय कप्तान अनिल कुंबले का मानना है कि...</td>\n",
              "      <td>देश सर्वश्रेष्ठ स्पिनरों हरभजन सिंह अनिल कुंबले</td>\n",
              "    </tr>\n",
              "    <tr>\n",
              "      <th>3</th>\n",
              "      <td>इंडिगो एयरलाइन प्रेसीडेंट डायरेक्टर आदित्य घोष...</td>\n",
              "      <td>इंडिगो के ग्राउंड स्टाफ ने यात्री से की हाथापा...</td>\n",
              "      <td>इंडिगो स्टाफ दिल्ली एयरपोर्ट पैसेंजर मारपीट एय...</td>\n",
              "    </tr>\n",
              "    <tr>\n",
              "      <th>4</th>\n",
              "      <td>संजय लीला भंसाली फिल्म मलाल बॉलीवुड कदम रखने म...</td>\n",
              "      <td>मीजान जाफरी ने किया खुलासा नव्या नंदा को बताया...</td>\n",
              "      <td>नव्या नवेली दोस्ती जावेद जाफरी बेटे खुलासा कही...</td>\n",
              "    </tr>\n",
              "  </tbody>\n",
              "</table>\n",
              "</div>\n",
              "    <div class=\"colab-df-buttons\">\n",
              "\n",
              "  <div class=\"colab-df-container\">\n",
              "    <button class=\"colab-df-convert\" onclick=\"convertToInteractive('df-4f5e4b20-c4a5-49f7-a111-42b272dec8fe')\"\n",
              "            title=\"Convert this dataframe to an interactive table.\"\n",
              "            style=\"display:none;\">\n",
              "\n",
              "  <svg xmlns=\"http://www.w3.org/2000/svg\" height=\"24px\" viewBox=\"0 -960 960 960\">\n",
              "    <path d=\"M120-120v-720h720v720H120Zm60-500h600v-160H180v160Zm220 220h160v-160H400v160Zm0 220h160v-160H400v160ZM180-400h160v-160H180v160Zm440 0h160v-160H620v160ZM180-180h160v-160H180v160Zm440 0h160v-160H620v160Z\"/>\n",
              "  </svg>\n",
              "    </button>\n",
              "\n",
              "  <style>\n",
              "    .colab-df-container {\n",
              "      display:flex;\n",
              "      gap: 12px;\n",
              "    }\n",
              "\n",
              "    .colab-df-convert {\n",
              "      background-color: #E8F0FE;\n",
              "      border: none;\n",
              "      border-radius: 50%;\n",
              "      cursor: pointer;\n",
              "      display: none;\n",
              "      fill: #1967D2;\n",
              "      height: 32px;\n",
              "      padding: 0 0 0 0;\n",
              "      width: 32px;\n",
              "    }\n",
              "\n",
              "    .colab-df-convert:hover {\n",
              "      background-color: #E2EBFA;\n",
              "      box-shadow: 0px 1px 2px rgba(60, 64, 67, 0.3), 0px 1px 3px 1px rgba(60, 64, 67, 0.15);\n",
              "      fill: #174EA6;\n",
              "    }\n",
              "\n",
              "    .colab-df-buttons div {\n",
              "      margin-bottom: 4px;\n",
              "    }\n",
              "\n",
              "    [theme=dark] .colab-df-convert {\n",
              "      background-color: #3B4455;\n",
              "      fill: #D2E3FC;\n",
              "    }\n",
              "\n",
              "    [theme=dark] .colab-df-convert:hover {\n",
              "      background-color: #434B5C;\n",
              "      box-shadow: 0px 1px 3px 1px rgba(0, 0, 0, 0.15);\n",
              "      filter: drop-shadow(0px 1px 2px rgba(0, 0, 0, 0.3));\n",
              "      fill: #FFFFFF;\n",
              "    }\n",
              "  </style>\n",
              "\n",
              "    <script>\n",
              "      const buttonEl =\n",
              "        document.querySelector('#df-4f5e4b20-c4a5-49f7-a111-42b272dec8fe button.colab-df-convert');\n",
              "      buttonEl.style.display =\n",
              "        google.colab.kernel.accessAllowed ? 'block' : 'none';\n",
              "\n",
              "      async function convertToInteractive(key) {\n",
              "        const element = document.querySelector('#df-4f5e4b20-c4a5-49f7-a111-42b272dec8fe');\n",
              "        const dataTable =\n",
              "          await google.colab.kernel.invokeFunction('convertToInteractive',\n",
              "                                                    [key], {});\n",
              "        if (!dataTable) return;\n",
              "\n",
              "        const docLinkHtml = 'Like what you see? Visit the ' +\n",
              "          '<a target=\"_blank\" href=https://colab.research.google.com/notebooks/data_table.ipynb>data table notebook</a>'\n",
              "          + ' to learn more about interactive tables.';\n",
              "        element.innerHTML = '';\n",
              "        dataTable['output_type'] = 'display_data';\n",
              "        await google.colab.output.renderOutput(dataTable, element);\n",
              "        const docLink = document.createElement('div');\n",
              "        docLink.innerHTML = docLinkHtml;\n",
              "        element.appendChild(docLink);\n",
              "      }\n",
              "    </script>\n",
              "  </div>\n",
              "\n",
              "\n",
              "<div id=\"df-c42432bb-4586-4b40-966e-d023d9802a15\">\n",
              "  <button class=\"colab-df-quickchart\" onclick=\"quickchart('df-c42432bb-4586-4b40-966e-d023d9802a15')\"\n",
              "            title=\"Suggest charts\"\n",
              "            style=\"display:none;\">\n",
              "\n",
              "<svg xmlns=\"http://www.w3.org/2000/svg\" height=\"24px\"viewBox=\"0 0 24 24\"\n",
              "     width=\"24px\">\n",
              "    <g>\n",
              "        <path d=\"M19 3H5c-1.1 0-2 .9-2 2v14c0 1.1.9 2 2 2h14c1.1 0 2-.9 2-2V5c0-1.1-.9-2-2-2zM9 17H7v-7h2v7zm4 0h-2V7h2v10zm4 0h-2v-4h2v4z\"/>\n",
              "    </g>\n",
              "</svg>\n",
              "  </button>\n",
              "\n",
              "<style>\n",
              "  .colab-df-quickchart {\n",
              "      --bg-color: #E8F0FE;\n",
              "      --fill-color: #1967D2;\n",
              "      --hover-bg-color: #E2EBFA;\n",
              "      --hover-fill-color: #174EA6;\n",
              "      --disabled-fill-color: #AAA;\n",
              "      --disabled-bg-color: #DDD;\n",
              "  }\n",
              "\n",
              "  [theme=dark] .colab-df-quickchart {\n",
              "      --bg-color: #3B4455;\n",
              "      --fill-color: #D2E3FC;\n",
              "      --hover-bg-color: #434B5C;\n",
              "      --hover-fill-color: #FFFFFF;\n",
              "      --disabled-bg-color: #3B4455;\n",
              "      --disabled-fill-color: #666;\n",
              "  }\n",
              "\n",
              "  .colab-df-quickchart {\n",
              "    background-color: var(--bg-color);\n",
              "    border: none;\n",
              "    border-radius: 50%;\n",
              "    cursor: pointer;\n",
              "    display: none;\n",
              "    fill: var(--fill-color);\n",
              "    height: 32px;\n",
              "    padding: 0;\n",
              "    width: 32px;\n",
              "  }\n",
              "\n",
              "  .colab-df-quickchart:hover {\n",
              "    background-color: var(--hover-bg-color);\n",
              "    box-shadow: 0 1px 2px rgba(60, 64, 67, 0.3), 0 1px 3px 1px rgba(60, 64, 67, 0.15);\n",
              "    fill: var(--button-hover-fill-color);\n",
              "  }\n",
              "\n",
              "  .colab-df-quickchart-complete:disabled,\n",
              "  .colab-df-quickchart-complete:disabled:hover {\n",
              "    background-color: var(--disabled-bg-color);\n",
              "    fill: var(--disabled-fill-color);\n",
              "    box-shadow: none;\n",
              "  }\n",
              "\n",
              "  .colab-df-spinner {\n",
              "    border: 2px solid var(--fill-color);\n",
              "    border-color: transparent;\n",
              "    border-bottom-color: var(--fill-color);\n",
              "    animation:\n",
              "      spin 1s steps(1) infinite;\n",
              "  }\n",
              "\n",
              "  @keyframes spin {\n",
              "    0% {\n",
              "      border-color: transparent;\n",
              "      border-bottom-color: var(--fill-color);\n",
              "      border-left-color: var(--fill-color);\n",
              "    }\n",
              "    20% {\n",
              "      border-color: transparent;\n",
              "      border-left-color: var(--fill-color);\n",
              "      border-top-color: var(--fill-color);\n",
              "    }\n",
              "    30% {\n",
              "      border-color: transparent;\n",
              "      border-left-color: var(--fill-color);\n",
              "      border-top-color: var(--fill-color);\n",
              "      border-right-color: var(--fill-color);\n",
              "    }\n",
              "    40% {\n",
              "      border-color: transparent;\n",
              "      border-right-color: var(--fill-color);\n",
              "      border-top-color: var(--fill-color);\n",
              "    }\n",
              "    60% {\n",
              "      border-color: transparent;\n",
              "      border-right-color: var(--fill-color);\n",
              "    }\n",
              "    80% {\n",
              "      border-color: transparent;\n",
              "      border-right-color: var(--fill-color);\n",
              "      border-bottom-color: var(--fill-color);\n",
              "    }\n",
              "    90% {\n",
              "      border-color: transparent;\n",
              "      border-bottom-color: var(--fill-color);\n",
              "    }\n",
              "  }\n",
              "</style>\n",
              "\n",
              "  <script>\n",
              "    async function quickchart(key) {\n",
              "      const quickchartButtonEl =\n",
              "        document.querySelector('#' + key + ' button');\n",
              "      quickchartButtonEl.disabled = true;  // To prevent multiple clicks.\n",
              "      quickchartButtonEl.classList.add('colab-df-spinner');\n",
              "      try {\n",
              "        const charts = await google.colab.kernel.invokeFunction(\n",
              "            'suggestCharts', [key], {});\n",
              "      } catch (error) {\n",
              "        console.error('Error during call to suggestCharts:', error);\n",
              "      }\n",
              "      quickchartButtonEl.classList.remove('colab-df-spinner');\n",
              "      quickchartButtonEl.classList.add('colab-df-quickchart-complete');\n",
              "    }\n",
              "    (() => {\n",
              "      let quickchartButtonEl =\n",
              "        document.querySelector('#df-c42432bb-4586-4b40-966e-d023d9802a15 button');\n",
              "      quickchartButtonEl.style.display =\n",
              "        google.colab.kernel.accessAllowed ? 'block' : 'none';\n",
              "    })();\n",
              "  </script>\n",
              "</div>\n",
              "\n",
              "    </div>\n",
              "  </div>\n"
            ],
            "application/vnd.google.colaboratory.intrinsic+json": {
              "type": "dataframe",
              "variable_name": "preprocessed_df",
              "summary": "{\n  \"name\": \"preprocessed_df\",\n  \"rows\": 4570,\n  \"fields\": [\n    {\n      \"column\": \"article\",\n      \"properties\": {\n        \"dtype\": \"string\",\n        \"num_unique_values\": 4430,\n        \"samples\": [\n          \"\\u0935\\u0948\\u0938\\u0947 \\u092a\\u093e\\u0930\\u094d\\u091f\\u0940 \\u0938\\u0940\\u091f\\u0947\\u0902 \\u092c\\u093e\\u0930 16 \\u0915\\u092e \\u0917\\u0908\\u0902 \\u0909\\u0938\\u0928\\u0947 2012 115 \\u0938\\u0940\\u091f\\u0947\\u0902 \\u0939\\u093e\\u0938\\u093f\\u0932 \\u0925\\u0940\\u0902 \\u092d\\u093e\\u091c\\u092a\\u093e \\u0917\\u0941\\u091c\\u0930\\u093e\\u0924 \\u0932\\u0917\\u093e\\u0924\\u093e\\u0930 \\u091b\\u0920\\u0940 \\u092c\\u093e\\u0930 \\u0935\\u093f\\u0927\\u093e\\u0928\\u0938\\u092d\\u093e \\u091a\\u0941\\u0928\\u093e\\u0935 \\u091c\\u0940\\u0924\\u093e \\u0935\\u093f\\u092a\\u0915\\u094d\\u0937\\u0940 \\u0915\\u093e\\u0902\\u0917\\u094d\\u0930\\u0947\\u0938 \\u0938\\u0940\\u091f\\u0947\\u0902 \\u092c\\u0922\\u093c\\u093e\\u0928\\u0947 \\u0915\\u093e\\u092e\\u092f\\u093e\\u092c \\u0930\\u0939\\u0940 2012 61 \\u0938\\u0940\\u091f\\u0947\\u0902 \\u092e\\u093f\\u0932\\u0940 \\u0925\\u0940\\u0902 \\u092c\\u093e\\u0930 \\u0909\\u0938\\u0928\\u0947 77 \\u0938\\u0940\\u091f\\u0947\\u0902 \\u091c\\u0940\\u0924\\u0940 \\u0938\\u0939\\u092f\\u094b\\u0917\\u093f\\u092f\\u094b\\u0902 \\u092e\\u093f\\u0932\\u0915\\u0930 \\u0935\\u093f\\u0927\\u093e\\u0928\\u0938\\u092d\\u093e \\u092a\\u093e\\u0938 80 \\u0938\\u0940\\u091f\\u0947\\u0902 \\u0917\\u0908 \\u0907\\u0928\\u092a\\u0941\\u091f \\u092d\\u093e\\u0937\\u093e\",\n          \"\\u0915\\u0949\\u092e\\u0947\\u0921\\u093f\\u092f\\u0928 \\u0915\\u092a\\u093f\\u0932 \\u0936\\u0930\\u094d\\u092e\\u093e Kapil Sharma \\u092a\\u0924\\u094d\\u0928\\u0940 \\u0917\\u093f\\u0928\\u094d\\u0928\\u0940 \\u091a\\u0924\\u0930\\u0925 Ginni Chatrath \\u0938\\u0947\\u0932\\u094d\\u092b\\u0940 \\u0932\\u0940 \\u092b\\u0948\\u0928\\u094d\\u0938 \\u0905\\u0932\\u0917 \\u0905\\u0902\\u0926\\u093e\\u091c \\u0928\\u094d\\u092f\\u0942 \\u0908\\u092f\\u0930 \\u0935\\u093f\\u0936 \\u0915\\u092a\\u093f\\u0932 \\u0936\\u0930\\u094d\\u092e\\u093e \\u0911\\u092b\\u093f\\u0936\\u093f\\u092f\\u0932 \\u0907\\u0902\\u0938\\u094d\\u091f\\u093e\\u0917\\u094d\\u0930\\u093e\\u092e \\u0905\\u0915\\u093e\\u0909\\u0902\\u091f \\u092b\\u094b\\u091f\\u094b \\u0936\\u0947\\u092f\\u0930 \\u0932\\u093f\\u0916\\u093e \\u0906\\u092a\\u0915\\u0947 \\u092a\\u094d\\u092f\\u093e\\u0930 \\u0927\\u0928\\u094d\\u092f\\u0935\\u093e\\u0926 \\u0936\\u0941\\u092d\\u0915\\u093e\\u092e\\u0928\\u093e\\u090f\\u0902 \\u092e\\u0947\\u0930\\u0947 \\u092e\\u0947\\u0930\\u0940 \\u092a\\u0924\\u094d\\u0928\\u0940 \\u0917\\u093f\\u0928\\u094d\\u0928\\u0940 \\u091a\\u0924\\u0930\\u0925 \\u0924\\u0930\\u092b \\u0928\\u090f \\u0938\\u093e\\u0932 \\u0922\\u0947\\u0930 \\u0938\\u093e\\u0930\\u0940 \\u092e\\u0941\\u092c\\u093e\\u0930\\u0915 \\u092a\\u094d\\u092f\\u093e\\u0930 \\u092b\\u094b\\u091f\\u094b \\u0915\\u092a\\u093f\\u0932 \\u0936\\u0930\\u094d\\u092e\\u093e \\u0917\\u093f\\u0928\\u094d\\u0928\\u0940 \\u091a\\u0924\\u0930\\u0925 \\u0938\\u0928\\u0917\\u094d\\u0932\\u093e\\u0938 \\u0932\\u0917\\u093e \\u0930\\u0916\\u093e \\u090f\\u0921\\u093f\\u091f\\u093f\\u0902\\u0917 \\u091c\\u0930\\u093f\\u090f \\u092b\\u094b\\u091f\\u094b 2019 \\u0932\\u093f\\u0916\\u093e \\u092c\\u0924\\u093e \\u0926\\u0947\\u0902 \\u0926 \\u0915\\u092a\\u093f\\u0932 \\u0936\\u0930\\u094d\\u092e\\u093e \\u0936\\u094b The Kapil Sharma Show \\u092c\\u0940\\u0924\\u0947 \\u0939\\u092b\\u094d\\u0924\\u0947 \\u0936\\u0941\\u0930\\u0942 \\u0936\\u094b \\u092e\\u0947\\u0939\\u092e\\u093e\\u0928 \\u0924\\u094c\\u0930 \\u0938\\u093f\\u0902\\u092c\\u093e Simmba \\u092b\\u093f\\u0932\\u094d\\u092e \\u092a\\u094d\\u0930\\u092e\\u094b\\u0936\\u0928 \\u0930\\u0923\\u0935\\u0940\\u0930 \\u0938\\u093f\\u0902\\u0939 \\u0905\\u0932\\u0940 \\u0916\\u093e\\u0928 \\u0930\\u094b\\u0939\\u093f\\u0924 \\u0936\\u0947\\u091f\\u094d\\u091f\\u0940 \\u0938\\u094b\\u0928\\u0942 \\u0938\\u0942\\u0926 \\u092a\\u0939\\u0941\\u0902\\u091a\\u0947 A post shared by Kapil Sharma kapilsharma on Dec 31 2018 at 3 58am PST \\u0936\\u094b \\u0915\\u092a\\u093f\\u0932 \\u0936\\u0930\\u094d\\u092e\\u093e \\u0905\\u0932\\u093e\\u0935\\u093e \\u0926\\u094b\\u0938\\u094d\\u0924 \\u091a\\u0902\\u0926\\u0928 \\u0915\\u0940\\u0915\\u0942 \\u0936\\u093e\\u0930\\u0926\\u093e \\u092d\\u093e\\u0930\\u0924\\u0940 \\u0938\\u093f\\u0902\\u0939 \\u0915\\u0943\\u0937\\u094d\\u0923\\u093e \\u0905\\u092d\\u093f\\u0937\\u0947\\u0915 \\u0938\\u0941\\u092e\\u094b\\u0928\\u093e \\u091a\\u0915\\u094d\\u0930\\u0935\\u0930\\u094d\\u0924\\u0940 \\u0928\\u091c\\u0930 \\u0906\\u090f \\u0915\\u0940\\u0915\\u0942 \\u0936\\u093e\\u0930\\u0926\\u093e \\u092c\\u091a\\u094d\\u091a\\u093e \\u092f\\u093e\\u0926\\u0935 \\u0915\\u093f\\u0930\\u0926\\u093e\\u0930 \\u092d\\u093e\\u0930\\u0924\\u0940 \\u0938\\u093f\\u0902\\u0939 \\u092a\\u0924\\u094d\\u0928\\u0940 \\u091c\\u092c\\u0915\\u093f \\u0938\\u0941\\u092e\\u094b\\u0928\\u093e \\u092d\\u093e\\u0930\\u0924\\u0940 \\u092c\\u0939\\u0928 \\u092d\\u0942\\u0930\\u0940 \\u0930\\u094b\\u0932 \\u0928\\u091c\\u0930 \\u0906\\u0908\\u0902 \\u0915\\u0943\\u0937\\u094d\\u0923\\u093e \\u0938\\u094d\\u091f\\u0947\\u091c \\u092c\\u0948\\u0917 \\u0932\\u0947\\u0915\\u0930 \\u0906\\u090f \\u0909\\u0928\\u094d\\u0939\\u094b\\u0902\\u0928\\u0947 \\u092a\\u0941\\u0930\\u093e\\u0928\\u0940 \\u092c\\u093e\\u0924\\u094b\\u0902 \\u092e\\u091c\\u093e\\u0915 \\u092c\\u0928\\u093e\\u092f\\u093e \\u092b\\u093f\\u0932\\u0939\\u093e\\u0932 \\u0915\\u092a\\u093f\\u0932 \\u0917\\u093f\\u0928\\u094d\\u0928\\u0940 \\u092e\\u0939\\u0940\\u0928\\u0947 12 \\u0926\\u093f\\u0938\\u0902\\u092c\\u0930 \\u091c\\u093e\\u0932\\u0902\\u0927\\u0930 \\u0936\\u093e\\u0926\\u0940 A post shared by Kapil Sharma kapilsharma on Dec 23 2018 at 10 33am PST A post shared by Kapil Sharma kapilsharma on Dec 13 2018 at 9 45am PST \\u092e\\u0941\\u0902\\u092c\\u0908 \\u0930\\u093f\\u0938\\u0947\\u092a\\u094d\\u0936\\u0928 \\u0926\\u0940\\u092a\\u093f\\u0915\\u093e \\u092a\\u093e\\u0926\\u0941\\u0915\\u094b\\u0923 \\u0930\\u0923\\u0935\\u0940\\u0930 \\u0938\\u093f\\u0902\\u0939 \\u0915\\u0930\\u0923 \\u091c\\u094c\\u0939\\u0930 \\u0915\\u093e\\u0930\\u094d\\u0924\\u093f\\u0915 \\u0906\\u0930\\u094d\\u092f\\u0928 \\u0915\\u0943\\u0924\\u093f \\u0938\\u0947\\u0928\\u0928 \\u0930\\u0947\\u0916\\u093e \\u0905\\u0928\\u093f\\u0932 \\u0915\\u092a\\u0942\\u0930 \\u092b\\u0930\\u093e\\u0939 \\u0916\\u093e\\u0928 \\u0938\\u094b\\u0928\\u0942 \\u0938\\u0942\\u0926 \\u0930\\u0923\\u0935\\u0940\\u0930 \\u091f\\u0902\\u0921\\u0928 \\u0927\\u0930\\u094d\\u092e\\u0947\\u0902\\u0926\\u094d\\u0930 \\u091c\\u0940\\u0924\\u0947\\u0902\\u0926\\u094d\\u0930 \\u0938\\u094b\\u0939\\u0947\\u0932 \\u0916\\u093e\\u0928 \\u0938\\u0932\\u0940\\u092e \\u0916\\u093e\\u0928 \\u091f\\u0947\\u0928\\u093f\\u0938 \\u0938\\u094d\\u091f\\u093e\\u0930 \\u0938\\u093e\\u0907\\u0928\\u093e \\u0928\\u0947\\u0939\\u0935\\u093e\\u0932 \\u0905\\u0928\\u094d\\u092f \\u0938\\u0947\\u0932\\u0947\\u092c\\u094d\\u0938 \\u092e\\u094c\\u091c\\u0942\\u0926 \\u0915\\u092a\\u093f\\u0932 \\u0936\\u0930\\u094d\\u092e\\u093e Kapil Sharma \\u0915\\u0949\\u092e\\u0947\\u0921\\u093f\\u092f\\u0928 \\u0926\\u094b\\u0938\\u094d\\u0924 \\u091f\\u0940\\u0935\\u0940 \\u0915\\u0932\\u093e\\u0915\\u093e\\u0930 \\u0938\\u0941\\u092e\\u094b\\u0928\\u093e \\u091a\\u0915\\u094d\\u0930\\u0935\\u0930\\u094d\\u0924\\u0940 \\u092d\\u093e\\u0930\\u0924\\u0940 \\u0938\\u093f\\u0902\\u0939 \\u092a\\u0924\\u093f \\u0939\\u0930\\u094d\\u0937 \\u0932\\u093f\\u0902\\u092c\\u091a\\u093f\\u092f\\u093e \\u0915\\u0936\\u094d\\u092e\\u0940\\u0930\\u093e \\u0915\\u0943\\u0937\\u094d\\u0923\\u093e \\u0905\\u092d\\u093f\\u0937\\u0947\\u0915 \\u091c\\u092f \\u092d\\u093e\\u0928\\u0941\\u0936\\u093e\\u0932\\u0940 \\u092e\\u093e\\u0939\\u0940 \\u0935\\u093f\\u091c \\u0930\\u093f\\u0938\\u0947\\u092a\\u094d\\u0936\\u0928 \\u092a\\u0939\\u0941\\u0902\\u091a\\u0947 \\u0915\\u092a\\u093f\\u0932 \\u0936\\u0930\\u094d\\u092e\\u093e \\u0917\\u093f\\u0928\\u094d\\u0928\\u0940 \\u091a\\u0924\\u0930\\u0925 Kapil Sharma and Ginni Chatrath \\u0939\\u093f\\u0938\\u094d\\u0938\\u094b\\u0902 \\u0936\\u093e\\u0926\\u0940 \\u0939\\u093f\\u0902\\u0926\\u0942 \\u0938\\u0947\\u0930\\u0947\\u092e\\u0928\\u0940 \\u0909\\u0928\\u094d\\u0939\\u094b\\u0902\\u0928\\u0947 \\u0938\\u093f\\u0916 \\u0927\\u0930\\u094d\\u092e \\u0930\\u0940\\u0924\\u093f \\u0930\\u093f\\u0935\\u093e\\u091c \\u0936\\u093e\\u0926\\u0940 \\u092e\\u0941\\u0902\\u092c\\u0908 \\u0930\\u093f\\u0938\\u0947\\u092a\\u094d\\u0936\\u0928 \\u0905\\u092e\\u0943\\u0924\\u0938\\u0930 14 \\u0926\\u093f\\u0938\\u0902\\u092c\\u0930 \\u0930\\u093f\\u0938\\u0947\\u092a\\u094d\\u0936\\u0928 \\u091c\\u093f\\u0938\\u092e\\u0947\\u0902 \\u092a\\u0930\\u093f\\u0935\\u093e\\u0930\\u0935\\u093e\\u0932\\u0947 \\u0915\\u0930\\u0940\\u092c\\u0940 \\u0926\\u094b\\u0938\\u094d\\u0924 \\u0936\\u093e\\u092e\\u093f\\u0932\",\n          \"\\u0909\\u091a\\u094d\\u091a\\u0924\\u092e \\u0928\\u094d\\u092f\\u093e\\u092f\\u093e\\u0932\\u092f \\u092e\\u0902\\u0917\\u0932\\u0935\\u093e\\u0930 \\u0938\\u094d\\u0935\\u0940\\u0915\\u093e\\u0930 \\u0935\\u094d\\u092f\\u0935\\u0938\\u094d\\u0925\\u093e \\u092d\\u094d\\u0930\\u0937\\u094d\\u091f\\u093e\\u091a\\u093e\\u0930 \\u0909\\u091c\\u093e\\u0917\\u0930 \\u092e\\u0940\\u0921\\u093f\\u092f\\u093e \\u0905\\u0939\\u092e \\u092d\\u0942\\u092e\\u093f\\u0915\\u093e \\u0905\\u0935\\u092e\\u093e\\u0928\\u0928\\u093e \\u091b\\u093e\\u092f\\u093e \\u0939\\u0948. \\u092a\\u094d\\u0930\\u0927\\u093e\\u0928 \\u0928\\u094d\\u092f\\u093e\\u092f\\u093e\\u0927\\u0940\\u0936 \\u090f\\u0938\\u090f\\u091a \\u0915\\u092a\\u093e\\u0921\\u093c\\u093f\\u092f\\u093e \\u0905\\u0927\\u094d\\u092f\\u0915\\u094d\\u0937\\u0924\\u093e \\u0935\\u093e\\u0932\\u0940 \\u092a\\u093e\\u0902\\u091a \\u0928\\u094d\\u092f\\u093e\\u092f\\u093e\\u0927\\u0940\\u0936\\u094b\\u0902 \\u0938\\u0902\\u0935\\u093f\\u0927\\u093e\\u0928 \\u092a\\u0940\\u0920 \\u092a\\u0939\\u0932\\u0942 \\u0909\\u091c\\u093e\\u0917\\u0930 \\u091c\\u0930\\u0942\\u0930\\u0924 \\u0939\\u0948. \\u0905\\u0935\\u092e\\u093e\\u0928\\u0928\\u093e \\u0915\\u093e\\u0928\\u0942\\u0928 \\u091b\\u093e\\u092f\\u093e \\u0939\\u092e\\u093e\\u0930\\u0947 \\u0928\\u094d\\u092f\\u093e\\u092f\\u0936\\u093e\\u0938\\u094d\\u0924\\u094d\\u0930 \\u092a\\u0921\\u093c\\u0924\\u0940 \\u0939\\u0948. \\u092d\\u093e\\u0930\\u0924 \\u0905\\u0928\\u0947\\u0915 \\u092e\\u093e\\u092e\\u0932\\u094b\\u0902 \\u0936\\u093e\\u0938\\u0928 \\u0915\\u092e\\u0940 \\u0935\\u094d\\u092f\\u0935\\u0938\\u094d\\u0925\\u093e \\u092d\\u094d\\u0930\\u0937\\u094d\\u091f\\u093e\\u091a\\u093e\\u0930 \\u0916\\u093e\\u092e\\u093f\\u092f\\u093e\\u0902 \\u0938\\u093e\\u0930\\u094d\\u0935\\u091c\\u0928\\u093f\\u0915 \\u092e\\u0939\\u0924\\u094d\\u0935 \\u0935\\u093f\\u0937\\u092f\\u094b\\u0902 \\u0905\\u0926\\u093e\\u0932\\u0924 \\u0938\\u0902\\u091c\\u094d\\u091e\\u093e\\u0928 \\u0932\\u093e\\u0928\\u0947 \\u0932\\u093f\\u0939\\u093e\\u091c \\u0915\\u0947\\u0935\\u0932 \\u092e\\u0940\\u0921\\u093f\\u092f\\u093e \\u091c\\u0928\\u0924\\u093e \\u092a\\u094d\\u0930\\u0924\\u093f\\u0928\\u093f\\u0927\\u093f \\u092d\\u0942\\u092e\\u093f\\u0915\\u093e \\u0905\\u0926\\u093e \\u0939\\u0948. \\u092a\\u0940\\u0920 \\u092e\\u0940\\u0921\\u093f\\u092f\\u093e \\u0905\\u0939\\u092e \\u092d\\u0942\\u092e\\u093f\\u0915\\u093e \\u0927\\u094d\\u092f\\u093e\\u0928 \\u0930\\u0916\\u0924\\u0947 \\u0905\\u0926\\u093e\\u0932\\u0924\\u094b\\u0902 \\u092e\\u093e\\u092e\\u0932\\u094b\\u0902 \\u0938\\u094d\\u0925\\u0917\\u093f\\u0924 \\u0906\\u0926\\u0947\\u0936 \\u0938\\u092e\\u0947\\u0924 \\u0905\\u0928\\u0947\\u0915 \\u0924\\u0915\\u0928\\u0940\\u0915\\u0947\\u0902 \\u0935\\u093f\\u0915\\u0938\\u093f\\u0924 \\u0939\\u0948\\u0902. \\u092a\\u0940\\u0920 \\u0906\\u0926\\u0947\\u0936 \\u092e\\u0940\\u0921\\u093f\\u092f\\u093e \\u0927\\u094d\\u092f\\u093e\\u0928 \\u0938\\u0902\\u092d\\u093e\\u0935\\u093f\\u0924 \\u0905\\u0935\\u092e\\u093e\\u0928\\u0928\\u093e \\u0916\\u0940\\u0902\\u091a\\u0947\\u0902\\u0917\\u0947. \\u0939\\u093e\\u0932\\u093e\\u0902\\u0915\\u093f \\u0909\\u091a\\u093f\\u0924 \\u0915\\u093e\\u0930\\u094d\\u092f\\u0935\\u093e\\u0939\\u0940 \\u0906\\u0926\\u0947\\u0936\\u094b\\u0902 \\u091a\\u0941\\u0928\\u094c\\u0924\\u0940 \\u0926\\u0947\\u0928\\u0947 \\u0935\\u093f\\u0915\\u0932\\u094d\\u092a \\u092e\\u0940\\u0921\\u093f\\u092f\\u093e \\u0916\\u0941\\u0932\\u093e \\u0939\\u094b\\u0917\\u093e. \\u091f\\u093f\\u092a\\u094d\\u092a\\u0923\\u093f\\u092f\\u093e\\u0902 \\u092a\\u0940\\u0920 \\u0905\\u0928\\u0941\\u0938\\u093e\\u0930 \\u0905\\u0935\\u092e\\u093e\\u0928\\u0928\\u093e \\u0935\\u093f\\u091a\\u093f\\u0924\\u094d\\u0930 \\u0905\\u092a\\u0930\\u093e\\u0927 \\u0939\\u0948. \\u0905\\u0935\\u092e\\u093e\\u0928\\u0928\\u093e \\u0915\\u093e\\u0928\\u0942\\u0928 \\u0909\\u0926\\u094d\\u0926\\u0947\\u0936\\u094d\\u092f \\u0915\\u0947\\u0935\\u0932 \\u0926\\u0902\\u0921\\u093f\\u0924 \\u0939\\u0948. \\u092a\\u0940\\u0920 \\u0909\\u0926\\u094d\\u0926\\u0947\\u0936\\u094d\\u092f \\u0928\\u094d\\u092f\\u093e\\u092f\\u092a\\u094d\\u0930\\u0923\\u093e\\u0932\\u0940 \\u092a\\u0935\\u093f\\u0924\\u094d\\u0930\\u0924\\u093e \\u0932\\u0902\\u092c\\u093f\\u0924 \\u092e\\u093e\\u092e\\u0932\\u094b\\u0902 \\u0938\\u0924\\u094d\\u092f\\u0924\\u093e \\u092c\\u0928\\u093e\\u090f \\u0930\\u0916\\u0928\\u093e \\u0939\\u0948. \\u0938\\u094d\\u0925\\u0917\\u093f\\u0924 \\u0913\\u0926\\u0936 \\u0926\\u0902\\u0921\\u093e\\u0924\\u094d\\u092e\\u0915 \\u0915\\u093e\\u0930\\u094d\\u092f\\u0935\\u093e\\u0939\\u0940 \\u092c\\u0932\\u094d\\u0915\\u093f \\u0928\\u093f\\u0930\\u094b\\u0927\\u0915 \\u0915\\u0926\\u092e \\u0939\\u0948. \\u092a\\u094d\\u0930\\u0927\\u093e\\u0928 \\u0928\\u094d\\u092f\\u093e\\u092f\\u093e\\u0927\\u0940\\u0936 \\u090f\\u0938\\u090f\\u091a \\u0915\\u092a\\u093e\\u0921\\u093c\\u093f\\u092f\\u093e \\u0905\\u0927\\u094d\\u092f\\u0915\\u094d\\u0937\\u0924\\u093e \\u0935\\u093e\\u0932\\u0940 \\u092a\\u093e\\u0902\\u091a \\u0928\\u094d\\u092f\\u093e\\u092f\\u093e\\u0927\\u0940\\u0936\\u094b\\u0902 \\u0938\\u0902\\u0935\\u093f\\u0927\\u093e\\u0928 \\u092a\\u0940\\u0920 \\u092a\\u0939\\u0932\\u0942 \\u0909\\u091c\\u093e\\u0917\\u0930 \\u091c\\u0930\\u0942\\u0930\\u0924 \\u0939\\u0948. \\u0905\\u0935\\u092e\\u093e\\u0928\\u0928\\u093e \\u0915\\u093e\\u0928\\u0942\\u0928 \\u091b\\u093e\\u092f\\u093e \\u0939\\u092e\\u093e\\u0930\\u0947 \\u0928\\u094d\\u092f\\u093e\\u092f\\u0936\\u093e\\u0938\\u094d\\u0924\\u094d\\u0930 \\u092a\\u0921\\u093c\\u0924\\u0940 \\u0939\\u0948. \\u092d\\u093e\\u0930\\u0924 \\u0905\\u0928\\u0947\\u0915 \\u092e\\u093e\\u092e\\u0932\\u094b\\u0902 \\u0936\\u093e\\u0938\\u0928 \\u0915\\u092e\\u0940 \\u0935\\u094d\\u092f\\u0935\\u0938\\u094d\\u0925\\u093e \\u092d\\u094d\\u0930\\u0937\\u094d\\u091f\\u093e\\u091a\\u093e\\u0930 \\u0916\\u093e\\u092e\\u093f\\u092f\\u093e\\u0902 \\u0938\\u093e\\u0930\\u094d\\u0935\\u091c\\u0928\\u093f\\u0915 \\u092e\\u0939\\u0924\\u094d\\u0935 \\u0935\\u093f\\u0937\\u092f\\u094b\\u0902 \\u0905\\u0926\\u093e\\u0932\\u0924 \\u0938\\u0902\\u091c\\u094d\\u091e\\u093e\\u0928 \\u0932\\u093e\\u0928\\u0947 \\u0932\\u093f\\u0939\\u093e\\u091c \\u0915\\u0947\\u0935\\u0932 \\u092e\\u0940\\u0921\\u093f\\u092f\\u093e \\u091c\\u0928\\u0924\\u093e \\u092a\\u094d\\u0930\\u0924\\u093f\\u0928\\u093f\\u0927\\u093f \\u092d\\u0942\\u092e\\u093f\\u0915\\u093e \\u0905\\u0926\\u093e \\u0939\\u0948. \\u092a\\u0940\\u0920 \\u092e\\u0940\\u0921\\u093f\\u092f\\u093e \\u0905\\u0939\\u092e \\u092d\\u0942\\u092e\\u093f\\u0915\\u093e \\u0927\\u094d\\u092f\\u093e\\u0928 \\u0930\\u0916\\u0924\\u0947 \\u0905\\u0926\\u093e\\u0932\\u0924\\u094b\\u0902 \\u092e\\u093e\\u092e\\u0932\\u094b\\u0902 \\u0938\\u094d\\u0925\\u0917\\u093f\\u0924 \\u0906\\u0926\\u0947\\u0936 \\u0938\\u092e\\u0947\\u0924 \\u0905\\u0928\\u0947\\u0915 \\u0924\\u0915\\u0928\\u0940\\u0915\\u0947\\u0902 \\u0935\\u093f\\u0915\\u0938\\u093f\\u0924 \\u0939\\u0948\\u0902. \\u092a\\u0940\\u0920 \\u0906\\u0926\\u0947\\u0936 \\u092e\\u0940\\u0921\\u093f\\u092f\\u093e \\u0927\\u094d\\u092f\\u093e\\u0928 \\u0938\\u0902\\u092d\\u093e\\u0935\\u093f\\u0924 \\u0905\\u0935\\u092e\\u093e\\u0928\\u0928\\u093e \\u0916\\u0940\\u0902\\u091a\\u0947\\u0902\\u0917\\u0947. \\u0939\\u093e\\u0932\\u093e\\u0902\\u0915\\u093f \\u0909\\u091a\\u093f\\u0924 \\u0915\\u093e\\u0930\\u094d\\u092f\\u0935\\u093e\\u0939\\u0940 \\u0906\\u0926\\u0947\\u0936\\u094b\\u0902 \\u091a\\u0941\\u0928\\u094c\\u0924\\u0940 \\u0926\\u0947\\u0928\\u0947 \\u0935\\u093f\\u0915\\u0932\\u094d\\u092a \\u092e\\u0940\\u0921\\u093f\\u092f\\u093e \\u0916\\u0941\\u0932\\u093e \\u0939\\u094b\\u0917\\u093e. \\u091f\\u093f\\u092a\\u094d\\u092a\\u0923\\u093f\\u092f\\u093e\\u0902 \\u092a\\u0940\\u0920 \\u0905\\u0928\\u0941\\u0938\\u093e\\u0930 \\u0905\\u0935\\u092e\\u093e\\u0928\\u0928\\u093e \\u0935\\u093f\\u091a\\u093f\\u0924\\u094d\\u0930 \\u0905\\u092a\\u0930\\u093e\\u0927 \\u0939\\u0948. \\u0905\\u0935\\u092e\\u093e\\u0928\\u0928\\u093e \\u0915\\u093e\\u0928\\u0942\\u0928 \\u0909\\u0926\\u094d\\u0926\\u0947\\u0936\\u094d\\u092f \\u0915\\u0947\\u0935\\u0932 \\u0926\\u0902\\u0921\\u093f\\u0924 \\u0939\\u0948. \\u092a\\u0940\\u0920 \\u0909\\u0926\\u094d\\u0926\\u0947\\u0936\\u094d\\u092f \\u0928\\u094d\\u092f\\u093e\\u092f\\u092a\\u094d\\u0930\\u0923\\u093e\\u0932\\u0940 \\u092a\\u0935\\u093f\\u0924\\u094d\\u0930\\u0924\\u093e \\u0932\\u0902\\u092c\\u093f\\u0924 \\u092e\\u093e\\u092e\\u0932\\u094b\\u0902 \\u0938\\u0924\\u094d\\u092f\\u0924\\u093e \\u092c\\u0928\\u093e\\u090f \\u0930\\u0916\\u0928\\u093e \\u0939\\u0948. \\u0938\\u094d\\u0925\\u0917\\u093f\\u0924 \\u0913\\u0926\\u0936 \\u0926\\u0902\\u0921\\u093e\\u0924\\u094d\\u092e\\u0915 \\u0915\\u093e\\u0930\\u094d\\u092f\\u0935\\u093e\\u0939\\u0940 \\u092c\\u0932\\u094d\\u0915\\u093f \\u0928\\u093f\\u0930\\u094b\\u0927\\u0915 \\u0915\\u0926\\u092e \\u0939\\u0948. \\u092a\\u0940\\u0920 \\u092e\\u0940\\u0921\\u093f\\u092f\\u093e \\u0905\\u0939\\u092e \\u092d\\u0942\\u092e\\u093f\\u0915\\u093e \\u0927\\u094d\\u092f\\u093e\\u0928 \\u0930\\u0916\\u0924\\u0947 \\u0905\\u0926\\u093e\\u0932\\u0924\\u094b\\u0902 \\u092e\\u093e\\u092e\\u0932\\u094b\\u0902 \\u0938\\u094d\\u0925\\u0917\\u093f\\u0924 \\u0906\\u0926\\u0947\\u0936 \\u0938\\u092e\\u0947\\u0924 \\u0905\\u0928\\u0947\\u0915 \\u0924\\u0915\\u0928\\u0940\\u0915\\u0947\\u0902 \\u0935\\u093f\\u0915\\u0938\\u093f\\u0924 \\u0939\\u0948\\u0902. \\u092a\\u0940\\u0920 \\u0906\\u0926\\u0947\\u0936 \\u092e\\u0940\\u0921\\u093f\\u092f\\u093e \\u0927\\u094d\\u092f\\u093e\\u0928 \\u0938\\u0902\\u092d\\u093e\\u0935\\u093f\\u0924 \\u0905\\u0935\\u092e\\u093e\\u0928\\u0928\\u093e \\u0916\\u0940\\u0902\\u091a\\u0947\\u0902\\u0917\\u0947. \\u0939\\u093e\\u0932\\u093e\\u0902\\u0915\\u093f \\u0909\\u091a\\u093f\\u0924 \\u0915\\u093e\\u0930\\u094d\\u092f\\u0935\\u093e\\u0939\\u0940 \\u0906\\u0926\\u0947\\u0936\\u094b\\u0902 \\u091a\\u0941\\u0928\\u094c\\u0924\\u0940 \\u0926\\u0947\\u0928\\u0947 \\u0935\\u093f\\u0915\\u0932\\u094d\\u092a \\u092e\\u0940\\u0921\\u093f\\u092f\\u093e \\u0916\\u0941\\u0932\\u093e \\u0939\\u094b\\u0917\\u093e. \\u091f\\u093f\\u092a\\u094d\\u092a\\u0923\\u093f\\u092f\\u093e\\u0902 \\u092a\\u0940\\u0920 \\u0905\\u0928\\u0941\\u0938\\u093e\\u0930 \\u0905\\u0935\\u092e\\u093e\\u0928\\u0928\\u093e \\u0935\\u093f\\u091a\\u093f\\u0924\\u094d\\u0930 \\u0905\\u092a\\u0930\\u093e\\u0927 \\u0939\\u0948. \\u0905\\u0935\\u092e\\u093e\\u0928\\u0928\\u093e \\u0915\\u093e\\u0928\\u0942\\u0928 \\u0909\\u0926\\u094d\\u0926\\u0947\\u0936\\u094d\\u092f \\u0915\\u0947\\u0935\\u0932 \\u0926\\u0902\\u0921\\u093f\\u0924 \\u0939\\u0948. \\u092a\\u0940\\u0920 \\u0909\\u0926\\u094d\\u0926\\u0947\\u0936\\u094d\\u092f \\u0928\\u094d\\u092f\\u093e\\u092f\\u092a\\u094d\\u0930\\u0923\\u093e\\u0932\\u0940 \\u092a\\u0935\\u093f\\u0924\\u094d\\u0930\\u0924\\u093e \\u0932\\u0902\\u092c\\u093f\\u0924 \\u092e\\u093e\\u092e\\u0932\\u094b\\u0902 \\u0938\\u0924\\u094d\\u092f\\u0924\\u093e \\u092c\\u0928\\u093e\\u090f \\u0930\\u0916\\u0928\\u093e \\u0939\\u0948. \\u0938\\u094d\\u0925\\u0917\\u093f\\u0924 \\u0913\\u0926\\u0936 \\u0926\\u0902\\u0921\\u093e\\u0924\\u094d\\u092e\\u0915 \\u0915\\u093e\\u0930\\u094d\\u092f\\u0935\\u093e\\u0939\\u0940 \\u092c\\u0932\\u094d\\u0915\\u093f \\u0928\\u093f\\u0930\\u094b\\u0927\\u0915 \\u0915\\u0926\\u092e \\u0939\\u0948. \\u092a\\u0940\\u0920 \\u0906\\u0926\\u0947\\u0936 \\u092e\\u0940\\u0921\\u093f\\u092f\\u093e \\u0927\\u094d\\u092f\\u093e\\u0928 \\u0938\\u0902\\u092d\\u093e\\u0935\\u093f\\u0924 \\u0905\\u0935\\u092e\\u093e\\u0928\\u0928\\u093e \\u0916\\u0940\\u0902\\u091a\\u0947\\u0902\\u0917\\u0947. \\u0939\\u093e\\u0932\\u093e\\u0902\\u0915\\u093f \\u0909\\u091a\\u093f\\u0924 \\u0915\\u093e\\u0930\\u094d\\u092f\\u0935\\u093e\\u0939\\u0940 \\u0906\\u0926\\u0947\\u0936\\u094b\\u0902 \\u091a\\u0941\\u0928\\u094c\\u0924\\u0940 \\u0926\\u0947\\u0928\\u0947 \\u0935\\u093f\\u0915\\u0932\\u094d\\u092a \\u092e\\u0940\\u0921\\u093f\\u092f\\u093e \\u0916\\u0941\\u0932\\u093e \\u0939\\u094b\\u0917\\u093e. \\u091f\\u093f\\u092a\\u094d\\u092a\\u0923\\u093f\\u092f\\u093e\\u0902 \\u092a\\u0940\\u0920 \\u0905\\u0928\\u0941\\u0938\\u093e\\u0930 \\u0905\\u0935\\u092e\\u093e\\u0928\\u0928\\u093e \\u0935\\u093f\\u091a\\u093f\\u0924\\u094d\\u0930 \\u0905\\u092a\\u0930\\u093e\\u0927 \\u0939\\u0948. \\u0905\\u0935\\u092e\\u093e\\u0928\\u0928\\u093e \\u0915\\u093e\\u0928\\u0942\\u0928 \\u0909\\u0926\\u094d\\u0926\\u0947\\u0936\\u094d\\u092f \\u0915\\u0947\\u0935\\u0932 \\u0926\\u0902\\u0921\\u093f\\u0924 \\u0939\\u0948. \\u092a\\u0940\\u0920 \\u0909\\u0926\\u094d\\u0926\\u0947\\u0936\\u094d\\u092f \\u0928\\u094d\\u092f\\u093e\\u092f\\u092a\\u094d\\u0930\\u0923\\u093e\\u0932\\u0940 \\u092a\\u0935\\u093f\\u0924\\u094d\\u0930\\u0924\\u093e \\u0932\\u0902\\u092c\\u093f\\u0924 \\u092e\\u093e\\u092e\\u0932\\u094b\\u0902 \\u0938\\u0924\\u094d\\u092f\\u0924\\u093e \\u092c\\u0928\\u093e\\u090f \\u0930\\u0916\\u0928\\u093e \\u0939\\u0948. \\u0938\\u094d\\u0925\\u0917\\u093f\\u0924 \\u0913\\u0926\\u0936 \\u0926\\u0902\\u0921\\u093e\\u0924\\u094d\\u092e\\u0915 \\u0915\\u093e\\u0930\\u094d\\u092f\\u0935\\u093e\\u0939\\u0940 \\u092c\\u0932\\u094d\\u0915\\u093f \\u0928\\u093f\\u0930\\u094b\\u0927\\u0915 \\u0915\\u0926\\u092e \\u0939\\u0948. \\u092a\\u0940\\u0920 \\u0905\\u0928\\u0941\\u0938\\u093e\\u0930 \\u0905\\u0935\\u092e\\u093e\\u0928\\u0928\\u093e \\u0935\\u093f\\u091a\\u093f\\u0924\\u094d\\u0930 \\u0905\\u092a\\u0930\\u093e\\u0927 \\u0939\\u0948. \\u0905\\u0935\\u092e\\u093e\\u0928\\u0928\\u093e \\u0915\\u093e\\u0928\\u0942\\u0928 \\u0909\\u0926\\u094d\\u0926\\u0947\\u0936\\u094d\\u092f \\u0915\\u0947\\u0935\\u0932 \\u0926\\u0902\\u0921\\u093f\\u0924 \\u0939\\u0948. \\u092a\\u0940\\u0920 \\u0909\\u0926\\u094d\\u0926\\u0947\\u0936\\u094d\\u092f \\u0928\\u094d\\u092f\\u093e\\u092f\\u092a\\u094d\\u0930\\u0923\\u093e\\u0932\\u0940 \\u092a\\u0935\\u093f\\u0924\\u094d\\u0930\\u0924\\u093e \\u0932\\u0902\\u092c\\u093f\\u0924 \\u092e\\u093e\\u092e\\u0932\\u094b\\u0902 \\u0938\\u0924\\u094d\\u092f\\u0924\\u093e \\u092c\\u0928\\u093e\\u090f \\u0930\\u0916\\u0928\\u093e \\u0939\\u0948. \\u0938\\u094d\\u0925\\u0917\\u093f\\u0924 \\u0913\\u0926\\u0936 \\u0926\\u0902\\u0921\\u093e\\u0924\\u094d\\u092e\\u0915 \\u0915\\u093e\\u0930\\u094d\\u092f\\u0935\\u093e\\u0939\\u0940 \\u092c\\u0932\\u094d\\u0915\\u093f \\u0928\\u093f\\u0930\\u094b\\u0927\\u0915 \\u0915\\u0926\\u092e \\u0939\\u0948. \\u092a\\u0940\\u0920 \\u0909\\u0926\\u094d\\u0926\\u0947\\u0936\\u094d\\u092f \\u0928\\u094d\\u092f\\u093e\\u092f\\u092a\\u094d\\u0930\\u0923\\u093e\\u0932\\u0940 \\u092a\\u0935\\u093f\\u0924\\u094d\\u0930\\u0924\\u093e \\u0932\\u0902\\u092c\\u093f\\u0924 \\u092e\\u093e\\u092e\\u0932\\u094b\\u0902 \\u0938\\u0924\\u094d\\u092f\\u0924\\u093e \\u092c\\u0928\\u093e\\u090f \\u0930\\u0916\\u0928\\u093e \\u0939\\u0948. \\u0938\\u094d\\u0925\\u0917\\u093f\\u0924 \\u0913\\u0926\\u0936 \\u0926\\u0902\\u0921\\u093e\\u0924\\u094d\\u092e\\u0915 \\u0915\\u093e\\u0930\\u094d\\u092f\\u0935\\u093e\\u0939\\u0940 \\u092c\\u0932\\u094d\\u0915\\u093f \\u0928\\u093f\\u0930\\u094b\\u0927\\u0915 \\u0915\\u0926\\u092e \\u0939\\u0948.\"\n        ],\n        \"semantic_type\": \"\",\n        \"description\": \"\"\n      }\n    },\n    {\n      \"column\": \"summary\",\n      \"properties\": {\n        \"dtype\": \"string\",\n        \"num_unique_values\": 4507,\n        \"samples\": [\n          \"\\u0907\\u0938 \\u092d\\u092f\\u093e\\u0935\\u0939 \\u0939\\u093e\\u0926\\u0938\\u0947 \\u0915\\u0940 \\u0936\\u0942\\u091f\\u093f\\u0902\\u0917 \\u0915\\u0930\\u0928\\u0947 \\u0935\\u093e\\u0932\\u0947 \\u0938\\u093f\\u0932\\u094d\\u0935\\u093e \\u0928\\u0947 \\u0915\\u0939\\u093e \\u0939\\u0930 \\u0924\\u0930\\u092b \\u0916\\u0942\\u0928 \\u092b\\u0948\\u0932\\u093e \\u0939\\u0941\\u0906 \\u0925\\u093e \\u092a\\u0940\\u0921\\u093c\\u093f\\u0924\\u094b\\u0902 \\u0915\\u094b \\u0938\\u094d\\u091f\\u094d\\u0930\\u0947\\u091a\\u0930 \\u0938\\u0947 \\u0932\\u0947 \\u091c\\u093e\\u092f\\u093e \\u091c\\u093e \\u0930\\u0939\\u093e \\u0925\\u093e. \\u092e\\u0948\\u0902\\u0928\\u0947 \\u0926\\u0947\\u0916\\u093e \\u0915\\u093f \\u092a\\u0948\\u0930 \\u0909\\u0928\\u0915\\u0947 \\u0936\\u0930\\u0940\\u0930 \\u0938\\u0947 \\u0905\\u0932\\u0917 \\u0939\\u094b \\u0917\\u090f \\u0925\\u0947. \\u0932\\u094b\\u0917 \\u091a\\u0940\\u0916 \\u092a\\u0941\\u0915\\u093e\\u0930 \\u0915\\u0930 \\u0930\\u0939\\u0947 \\u0925\\u0947. \\u0932\\u094b\\u0917 \\u092d\\u094d\\u0930\\u092e \\u0915\\u0940 \\u0905\\u0935\\u0938\\u094d\\u0925\\u093e \\u092e\\u0947\\u0902 \\u0925\\u0947.\",\n          \"\\u091c\\u0928\\u0939\\u093f\\u0924 \\u092e\\u094b\\u0930\\u094d\\u091a\\u093e \\u0928\\u0947 \\u091f\\u094b\\u0932 \\u0915\\u0947 \\u0916\\u093f\\u0932\\u093e\\u092b \\u0905\\u0928\\u093f\\u0936\\u094d\\u091a\\u093f\\u0924\\u0915\\u093e\\u0932\\u0940\\u0928 \\u0935\\u093f\\u0930\\u094b\\u0927 \\u092a\\u094d\\u0930\\u0926\\u0930\\u094d\\u0936\\u0928 \\u0915\\u0940 \\u0918\\u094b\\u0937\\u0923\\u093e \\u0915\\u0940 \\u0939\\u0948 \\u0909\\u0928\\u0915\\u093e \\u0906\\u0930\\u094b\\u092a \\u0939\\u0948 \\u0915\\u093f \\u0932\\u093e\\u0917\\u0924 \\u0935\\u0938\\u0942\\u0932 \\u0939\\u094b \\u091c\\u093e\\u0928\\u0947 \\u0915\\u0947 \\u092c\\u093e\\u0926 \\u092d\\u0940 \\u091f\\u094b\\u0932 \\u0935\\u0938\\u0942\\u0932\\u093e \\u091c\\u093e \\u0930\\u0939\\u093e \\u0939\\u0948 \\u0907\\u0938\\u0940 \\u0915\\u0947 \\u0935\\u093f\\u0930\\u094b\\u0927 \\u092e\\u0947\\u0902 \\u092a\\u094d\\u0930\\u0926\\u0930\\u094d\\u0936\\u0928\\u0915\\u093e\\u0930\\u093f\\u092f\\u094b\\u0902 \\u0928\\u0947 DND \\u092a\\u0930 \\u0921\\u0947\\u0930\\u093e \\u0921\\u093e\\u0932 \\u091f\\u094b\\u0932 \\u0935\\u0938\\u0942\\u0932\\u0940 \\u0930\\u0941\\u0915\\u0935\\u093e \\u0926\\u0940\",\n          \"\\u0935\\u093f\\u0936\\u094d\\u0935 \\u0939\\u093f\\u0902\\u0926\\u0942 \\u092a\\u0930\\u093f\\u0937\\u0926 \\u0915\\u0947 \\u0905\\u0902\\u0924\\u0930\\u0930\\u093e\\u0937\\u094d\\u091f\\u094d\\u0930\\u0940\\u092f \\u0915\\u093e\\u0930\\u094d\\u092f\\u0915\\u093e\\u0930\\u0940 \\u0905\\u0927\\u094d\\u092f\\u0915\\u094d\\u0937 \\u092a\\u094d\\u0930\\u0935\\u0940\\u0923 \\u0924\\u094b\\u0917\\u0921\\u093c\\u093f\\u092f\\u093e \\u0928\\u0947 \\u0915\\u093f \\u0917\\u0941\\u091c\\u0930\\u093e\\u0924 \\u0915\\u0947 \\u092e\\u0941\\u0916\\u094d\\u092f\\u092e\\u0902\\u0924\\u094d\\u0930\\u0940 \\u0928\\u0930\\u0947\\u0928\\u094d\\u0926\\u094d\\u0930 \\u092e\\u094b\\u0926\\u0940 \\u0938\\u0947 \\u0909\\u0928\\u094d\\u0939\\u0947\\u0902 \\u0928 \\u0924\\u094b \\u0932\\u0917\\u093e\\u0935 \\u0939\\u0948 \\u0914\\u0930 \\u0928 \\u0939\\u0940 \\u0915\\u094b\\u0908 \\u092a\\u0930\\u0939\\u0947\\u091c \\u0935\\u0939 \\u0924\\u094b \\u0915\\u0947\\u0935\\u0932 100 \\u0915\\u0930\\u094b\\u0921\\u093c \\u0939\\u093f\\u0902\\u0926\\u0941\\u0913\\u0902 \\u0915\\u0947 \\u092a\\u094d\\u0930\\u0924\\u093f \\u0938\\u092e\\u0930\\u094d\\u092a\\u093f\\u0924 \\u0939\\u0948\\u0902.\"\n        ],\n        \"semantic_type\": \"\",\n        \"description\": \"\"\n      }\n    },\n    {\n      \"column\": \"headline\",\n      \"properties\": {\n        \"dtype\": \"string\",\n        \"num_unique_values\": 4506,\n        \"samples\": [\n          \"BJP \\u0905\\u0927\\u094d\\u092f\\u0915\\u094d\\u0937 \\u0905\\u092e\\u093f\\u0924 \\u0936\\u093e\\u0939 \\u0938\\u094d\\u0935\\u093e\\u0907\\u0928 \\u092b\\u094d\\u0932\\u0942 AIIMS \\u092d\\u0930\\u094d\\u0924\\u0940\",\n          \"Ayodhya Verdict \\u0905\\u092f\\u094b\\u0927\\u094d\\u092f\\u093e \\u0938\\u0941\\u092a\\u094d\\u0930\\u0940\\u092e \\u0915\\u094b\\u0930\\u094d\\u091f \\u092b\\u0948\\u0938\\u0932\\u0947 \\u0915\\u0941\\u092e\\u093e\\u0930 \\u0935\\u093f\\u0936\\u094d\\u0935\\u093e\\u0938 \\u092c\\u094b\\u0932\\u0947 \\u092e\\u0947\\u0930\\u0947 \\u0930\\u093e\\u092e \\u092c\\u094b\\u0932\",\n          \"\\u0928\\u0940\\u0932\\u093e\\u092e\\u0940 \\u092a\\u094d\\u0930\\u093e\\u0915\\u0943\\u0924\\u093f\\u0915 \\u0938\\u0902\\u0938\\u093e\\u0927\\u0928\\u094b\\u0902 \\u0906\\u0935\\u0902\\u091f\\u0928 \\u090f\\u0915\\u092e\\u093e\\u0924\\u094d\\u0930 \\u0924\\u0930\\u0940\\u0915\\u093e \\u0938\\u0941\\u092a\\u094d\\u0930\\u0940\\u092e \\u0915\\u094b\\u0930\\u094d\\u091f\"\n        ],\n        \"semantic_type\": \"\",\n        \"description\": \"\"\n      }\n    }\n  ]\n}"
            }
          },
          "metadata": {},
          "execution_count": 52
        }
      ]
    },
    {
      "cell_type": "code",
      "source": [
        "preprocessed_df.shape"
      ],
      "metadata": {
        "colab": {
          "base_uri": "https://localhost:8080/"
        },
        "id": "NDmh7qeVXs_t",
        "outputId": "6aecfbca-8d02-466a-b1d6-01db7c06af7e"
      },
      "execution_count": null,
      "outputs": [
        {
          "output_type": "execute_result",
          "data": {
            "text/plain": [
              "(4570, 3)"
            ]
          },
          "metadata": {},
          "execution_count": 53
        }
      ]
    },
    {
      "cell_type": "markdown",
      "source": [
        "## **Model Importing and Fine-Tuning**"
      ],
      "metadata": {
        "id": "K3ZaT0M1YMIb"
      }
    },
    {
      "cell_type": "code",
      "source": [
        "# !pip install transformers\n",
        "# !pip install tensorflow\n",
        "# !pip install datasets\n",
        "# !pip install pandas"
      ],
      "metadata": {
        "id": "gLJUl4yPYLp8"
      },
      "execution_count": null,
      "outputs": []
    },
    {
      "cell_type": "code",
      "source": [
        "import pandas as pd\n",
        "from sklearn.model_selection import train_test_split"
      ],
      "metadata": {
        "id": "zhHvkH05Ymwx"
      },
      "execution_count": null,
      "outputs": []
    },
    {
      "cell_type": "code",
      "source": [
        "# Split the dataset into training and validation sets\n",
        "train_df, val_df = train_test_split(preprocessed_df, test_size=0.1)\n",
        "\n",
        "# Save the splits to new CSV files\n",
        "train_df.to_csv('train.csv', index=False)\n",
        "val_df.to_csv('val.csv', index=False)"
      ],
      "metadata": {
        "id": "FipIYE5DYLmj"
      },
      "execution_count": null,
      "outputs": []
    },
    {
      "cell_type": "code",
      "source": [
        "# !pip install datasets"
      ],
      "metadata": {
        "id": "cLyihmT6YVe8"
      },
      "execution_count": null,
      "outputs": []
    },
    {
      "cell_type": "code",
      "source": [
        "from datasets import load_dataset\n",
        "from transformers import AutoTokenizer\n",
        "\n",
        "# Load the dataset\n",
        "data_files = {\"train\": \"train.csv\", \"validation\": \"val.csv\"}\n",
        "datasets = load_dataset('csv', data_files=data_files)\n",
        "\n",
        "# Load the tokenizer\n",
        "tokenizer = AutoTokenizer.from_pretrained(\"google/mt5-small\")"
      ],
      "metadata": {
        "colab": {
          "base_uri": "https://localhost:8080/",
          "height": 137,
          "referenced_widgets": [
            "84f4913e8bdc44cc90267d20c8607dbc",
            "a4e8684c8ace4979aba5fa0978554d95",
            "ae840febd10e45e99c1d0959b7b40cf5",
            "b4d174e546fa4634ba73802a6845c303",
            "9a6678168de14b4c905b4bc75474b794",
            "b7dd193093354fde945ee107a80ddc4e",
            "95bcc3279d534de3b56760c0d2359b41",
            "54a6bc6300a643e6addb6094407dfb4c",
            "bf7542ebbcb94d85ac7800fcfd9d58ad",
            "dd434fea67104454b929380f35322e07",
            "89bceb80f23c4ea98f2205b1b14b1c08",
            "10a89b642643408d8d8a7e6d83d1b172",
            "08ec9e5a6b4d4decaa500f547be5e1cb",
            "aa16830429914a1dbdb31ac0eac2768a",
            "927bc776280445b4986e70e83b959bb6",
            "47dd868922a84e92b65a7d847677d7be",
            "ff19f461a3904191925608b9ee4f76f8",
            "ff2a3a6f13c64854b29fec5ada317d7b",
            "51b9a29c34c54f2e933a1d9aac05680b",
            "df7a4981cdcd4baca27da325db6c492c",
            "3a35fb7c464843069b2db335c1a21191",
            "da7722ea55d14d92829aaa7ac61c0be7"
          ]
        },
        "id": "2DPL50uTYLj0",
        "outputId": "c546e2eb-39b4-4b53-f62f-140fb5ece134"
      },
      "execution_count": null,
      "outputs": [
        {
          "output_type": "display_data",
          "data": {
            "text/plain": [
              "Generating train split: 0 examples [00:00, ? examples/s]"
            ],
            "application/vnd.jupyter.widget-view+json": {
              "version_major": 2,
              "version_minor": 0,
              "model_id": "84f4913e8bdc44cc90267d20c8607dbc"
            }
          },
          "metadata": {}
        },
        {
          "output_type": "display_data",
          "data": {
            "text/plain": [
              "Generating validation split: 0 examples [00:00, ? examples/s]"
            ],
            "application/vnd.jupyter.widget-view+json": {
              "version_major": 2,
              "version_minor": 0,
              "model_id": "10a89b642643408d8d8a7e6d83d1b172"
            }
          },
          "metadata": {}
        },
        {
          "output_type": "stream",
          "name": "stderr",
          "text": [
            "/usr/local/lib/python3.10/dist-packages/transformers/convert_slow_tokenizer.py:560: UserWarning: The sentencepiece tokenizer that you are converting to a fast tokenizer uses the byte fallback option which is not implemented in the fast tokenizers. In practice this means that the fast version of the tokenizer can produce unknown tokens whereas the sentencepiece version would have converted these unknown tokens into a sequence of byte tokens matching the original piece of text.\n",
            "  warnings.warn(\n"
          ]
        }
      ]
    },
    {
      "cell_type": "code",
      "source": [
        "from datasets import load_dataset\n",
        "from transformers import AutoTokenizer\n",
        "\n",
        "# Load the dataset\n",
        "data_files = {\"train\": \"train.csv\", \"validation\": \"val.csv\"}\n",
        "datasets = load_dataset('csv', data_files=data_files)\n",
        "\n",
        "# Load the tokenizer\n",
        "tokenizer = AutoTokenizer.from_pretrained(\"google/mt5-small\")\n",
        "\n",
        "def preprocess_data(examples):\n",
        "    inputs = [\"summarize: \" + doc for doc in examples[\"article\"]]\n",
        "    model_inputs = tokenizer(inputs, max_length=512, truncation=True)\n",
        "\n",
        "    # Setup the tokenizer for targets\n",
        "    with tokenizer.as_target_tokenizer():\n",
        "        labels = tokenizer(examples[\"summary\"], max_length=150, truncation=True)\n",
        "\n",
        "    model_inputs[\"labels\"] = labels[\"input_ids\"]\n",
        "    return model_inputs\n",
        "\n",
        "# Tokenize the datasets\n",
        "tokenized_datasets = datasets.map(preprocess_data, batched=True)"
      ],
      "metadata": {
        "colab": {
          "base_uri": "https://localhost:8080/",
          "height": 137,
          "referenced_widgets": [
            "c312edb61bc4422b94f4967f60614e95",
            "6213ddcb6107438494bceb352ccf6b6c",
            "eae5de1ab931421c91947fd9ca0bf438",
            "1fb4d46cf2b2472bb0cbc6992b00808c",
            "59b81ab6d7fb40789211b12edac99a61",
            "8f50854340f24f86a580bc9c8ee659a2",
            "121774736e2d4630b04d94414bfc8492",
            "43e00f0d344145629f880be594f40461",
            "b737918ec38b4651a7e78e1fe1c23d80",
            "a5ef86b7d72a48c88a6ce8c510da6f6e",
            "034673bf8b02435c84dc926a2f0bcc5d",
            "440a163a0e7a4a228b52fe4a803122cb",
            "9a2593bdd77f4791ab33c325a88e16e1",
            "2de6c84eab5b4e86971e0204534b96a2",
            "a8b62b5d1d964f12805be18b163d36a4",
            "92dc3edfac9e44c68aa352db54963941",
            "b0f9c8e79e104e249d30774306a21add",
            "c783dfbfc6354d4da0d9ea7184f2687b",
            "9ab8b2f7651e4282814b09d73e5481c3",
            "eed3536290ad488b9201e501625a5ba0",
            "26f1af5ca8c540e7afe9cd34f73586a8",
            "e84b5b08722848ee9c19b400599d519b"
          ]
        },
        "id": "AHpP7n30Xwp2",
        "outputId": "be8e42fd-df2f-48b3-eda8-159067db98aa"
      },
      "execution_count": null,
      "outputs": [
        {
          "output_type": "display_data",
          "data": {
            "text/plain": [
              "Map:   0%|          | 0/4113 [00:00<?, ? examples/s]"
            ],
            "application/vnd.jupyter.widget-view+json": {
              "version_major": 2,
              "version_minor": 0,
              "model_id": "c312edb61bc4422b94f4967f60614e95"
            }
          },
          "metadata": {}
        },
        {
          "output_type": "stream",
          "name": "stderr",
          "text": [
            "/usr/local/lib/python3.10/dist-packages/transformers/tokenization_utils_base.py:3946: UserWarning: `as_target_tokenizer` is deprecated and will be removed in v5 of Transformers. You can tokenize your labels by using the argument `text_target` of the regular `__call__` method (either in the same call as your input texts if you use the same keyword arguments, or in a separate call.\n",
            "  warnings.warn(\n"
          ]
        },
        {
          "output_type": "display_data",
          "data": {
            "text/plain": [
              "Map:   0%|          | 0/457 [00:00<?, ? examples/s]"
            ],
            "application/vnd.jupyter.widget-view+json": {
              "version_major": 2,
              "version_minor": 0,
              "model_id": "440a163a0e7a4a228b52fe4a803122cb"
            }
          },
          "metadata": {}
        }
      ]
    },
    {
      "cell_type": "code",
      "source": [
        "import tensorflow as tf\n",
        "from transformers import TFAutoModelForSeq2SeqLM\n",
        "\n",
        "# Load the model\n",
        "model = TFAutoModelForSeq2SeqLM.from_pretrained(\"google/mt5-small\")\n",
        "\n",
        "# Define the data collator\n",
        "def data_collator(features):\n",
        "    input_ids = [feature['input_ids'] for feature in features]\n",
        "    attention_mask = [feature['attention_mask'] for feature in features]\n",
        "    labels = [feature['labels'] for feature in features]\n",
        "    return {\n",
        "        'input_ids': tf.ragged.constant(input_ids).to_tensor(default_value=0),\n",
        "        'attention_mask': tf.ragged.constant(attention_mask).to_tensor(default_value=0),\n",
        "        'labels': tf.ragged.constant(labels).to_tensor(default_value=-100)\n",
        "    }\n",
        "\n",
        "# Prepare the datasets\n",
        "train_dataset = tokenized_datasets['train'].to_tf_dataset(\n",
        "    columns=['input_ids', 'attention_mask', 'labels'],\n",
        "    shuffle=True,\n",
        "    batch_size=4,\n",
        "    collate_fn=data_collator,\n",
        ")\n",
        "\n",
        "val_dataset = tokenized_datasets['validation'].to_tf_dataset(\n",
        "    columns=['input_ids', 'attention_mask', 'labels'],\n",
        "    shuffle=False,\n",
        "    batch_size=4,\n",
        "    collate_fn=data_collator,\n",
        ")"
      ],
      "metadata": {
        "colab": {
          "base_uri": "https://localhost:8080/"
        },
        "id": "KKsem0ftZYhZ",
        "outputId": "e66d7558-62ea-411b-a89b-8a21b917aa9b"
      },
      "execution_count": null,
      "outputs": [
        {
          "output_type": "stream",
          "name": "stderr",
          "text": [
            "/usr/local/lib/python3.10/dist-packages/tf_keras/src/initializers/initializers.py:121: UserWarning: The initializer RandomNormal is unseeded and being called multiple times, which will return identical values each time (even if the initializer is unseeded). Please update your code to provide a seed to the initializer, or avoid using the same initializer instance more than once.\n",
            "  warnings.warn(\n",
            "All model checkpoint layers were used when initializing TFMT5ForConditionalGeneration.\n",
            "\n",
            "All the layers of TFMT5ForConditionalGeneration were initialized from the model checkpoint at google/mt5-small.\n",
            "If your task is similar to the task the model of the checkpoint was trained on, you can already use TFMT5ForConditionalGeneration for predictions without further training.\n"
          ]
        }
      ]
    },
    {
      "cell_type": "code",
      "source": [
        "# Compile the model\n",
        "optimizer = tf.keras.optimizers.Adam(learning_rate=2e-5)\n",
        "model.compile(optimizer=optimizer)"
      ],
      "metadata": {
        "id": "PS8baQhxZfyW"
      },
      "execution_count": null,
      "outputs": []
    },
    {
      "cell_type": "code",
      "source": [
        "hist = model.fit(train_dataset, validation_data=val_dataset, epochs=3)"
      ],
      "metadata": {
        "id": "aqS1W87247JQ"
      },
      "execution_count": null,
      "outputs": []
    },
    {
      "cell_type": "code",
      "source": [
        "# Train the model\n",
        "hist = model.fit(train_dataset, validation_data=val_dataset, epochs=2)"
      ],
      "metadata": {
        "colab": {
          "base_uri": "https://localhost:8080/"
        },
        "id": "-FWszLJ2ZhsJ",
        "outputId": "efa8aa10-d34f-4f9c-830b-f3b77cf17394"
      },
      "execution_count": null,
      "outputs": [
        {
          "output_type": "stream",
          "name": "stdout",
          "text": [
            "Epoch 1/2\n",
            "1029/1029 [==============================] - 378s 368ms/step - loss: 4.4256 - val_loss: 2.4837\n",
            "Epoch 2/2\n",
            "1029/1029 [==============================] - 386s 375ms/step - loss: 4.0697 - val_loss: 2.3747\n"
          ]
        }
      ]
    },
    {
      "cell_type": "code",
      "source": [
        "model.summary()"
      ],
      "metadata": {
        "colab": {
          "base_uri": "https://localhost:8080/"
        },
        "id": "Hy6vfGfE_1Ip",
        "outputId": "f02993ad-ee40-466d-c7f8-ca7631f77a5a"
      },
      "execution_count": null,
      "outputs": [
        {
          "output_type": "stream",
          "name": "stdout",
          "text": [
            "Model: \"tfmt5_for_conditional_generation_4\"\n",
            "_________________________________________________________________\n",
            " Layer (type)                Output Shape              Param #   \n",
            "=================================================================\n",
            " shared (Embedding)          multiple                  128057344 \n",
            "                                                                 \n",
            " encoder (TFT5MainLayer)     multiple                  146940608 \n",
            "                                                                 \n",
            " decoder (TFT5MainLayer)     multiple                  153236160 \n",
            "                                                                 \n",
            " lm_head (Dense)             multiple                  128057344 \n",
            "                                                                 \n",
            "=================================================================\n",
            "Total params: 300176768 (1.12 GB)\n",
            "Trainable params: 300176768 (1.12 GB)\n",
            "Non-trainable params: 0 (0.00 Byte)\n",
            "_________________________________________________________________\n"
          ]
        }
      ]
    },
    {
      "cell_type": "code",
      "source": [
        "def summarize_text(text, max_length=150, min_length=40, num_beams=4):\n",
        "    # Prepend the task prefix \"summarize: \" to the input text\n",
        "    input_text = \"summarize: \" + text\n",
        "\n",
        "    # Tokenize the input text\n",
        "    input_ids = tokenizer.encode(input_text, return_tensors=\"tf\", max_length=512, truncation=True)\n",
        "\n",
        "    # Generate the summary\n",
        "    summary_ids = model.generate(input_ids, max_length=max_length, min_length=min_length, num_beams=num_beams, length_penalty=2.0, early_stopping=True)\n",
        "\n",
        "    # Decode the summary and return it\n",
        "    summary = tokenizer.decode(summary_ids[0], skip_special_tokens=True)\n",
        "    return summary"
      ],
      "metadata": {
        "id": "cFfDJz_Dkta2"
      },
      "execution_count": null,
      "outputs": []
    },
    {
      "cell_type": "code",
      "source": [
        "hindi_text = \"भारत, आधिकारिक रूप से भारत गणराज्य, दक्षिण एशिया का एक देश है। यह क्षेत्रफल के आधार पर सातवां सबसे बड़ा देश है, और जनसंख्या के आधार पर दूसरा सबसे बड़ा देश है। भारत का इतिहास बहुत पुराना है, जो सिंधु घाटी सभ्यता से शुरू होता है। भारतीय संस्कृति, धर्म, दर्शन, कला और विज्ञान के क्षेत्र में भारत का महत्वपूर्ण योगदान है। भारत एक बहुभाषी, बहुजातीय और बहुधार्मिक समाज है, जिसमें हिंदू धर्म, इस्लाम, ईसाई धर्म, सिख धर्म, बौद्ध धर्म, जैन धर्म और कई अन्य धार्मिक परंपराएं विद्यमान हैं। भारत की राजधानी नई दिल्ली है, और इसकी आधिकारिक भाषाएँ हिंदी और अंग्रेजी हैं। भारत की अर्थव्यवस्था दुनिया की सबसे तेज़ी से बढ़ती हुई अर्थव्यवस्थाओं में से एक है। कृषि, उद्योग और सेवाओं में इसकी विविधता और मजबूती इसे विश्व के प्रमुख आर्थिक केंद्रों में शामिल करती है। भारत के प्रमुख शहरों में मुंबई, दिल्ली, बेंगलुरु, चेन्नई, कोलकाता और हैदराबाद शामिल हैं। भारतीय समाज में परिवार, शिक्षा, और संस्कृति को अत्यधिक महत्व दिया जाता है। भारत के त्योहार, जैसे दिवाली, होली, ईद, क्रिसमस, और बैसाखी, राष्ट्रीय और सांस्कृतिक एकता को दर्शाते हैं। विभिन्न भाषाओं, धार्मिक परंपराओं, और सांस्कृतिक विरासतों के बावजूद, भारत एकता में विविधता का जीवंत उदाहरण है।\"\n",
        "\n",
        "# Generate summary\n",
        "summary = summarize_text(hindi_text)\n",
        "print(\"Summary:\", summary)"
      ],
      "metadata": {
        "colab": {
          "base_uri": "https://localhost:8080/"
        },
        "id": "qbHf_vZpkyco",
        "outputId": "f914c799-32e1-4b4c-bbbf-9cd1b99d60b0"
      },
      "execution_count": null,
      "outputs": [
        {
          "output_type": "stream",
          "name": "stdout",
          "text": [
            "Summary: सांस्कृतिक परंपराओं में शामिल हैं और राष्ट्रीय और सांस्कृतिक परंपराओं में शामिल हैं और इसके प्रमुख शहरों में शामिल हैं और भारत के प्रमुख शहरों में शामिल हैं और इसके प्रमुख शहरों में शामिल हैं और इसके प्रमुख शहरों में शामिल हैं और राष्ट्रीय और सांस्कृतिक परंपराओं में शामिल हैं।\n"
          ]
        }
      ]
    },
    {
      "cell_type": "code",
      "source": [
        "# !pip install rouge-score"
      ],
      "metadata": {
        "id": "EKQPjtD9sF5T"
      },
      "execution_count": null,
      "outputs": []
    },
    {
      "cell_type": "code",
      "source": [
        "# Define the path where you want to save the model in Google Drive\n",
        "model_save_path = '/content/drive/MyDrive/fine_tuned_model_epoch_5'\n",
        "\n",
        "# Save the model to the local filesystem\n",
        "model.save_pretrained(\"./fine_tuned_model_epoch_5\")\n",
        "tokenizer.save_pretrained(\"./fine_tuned_model_epoch_5\")\n",
        "\n",
        "# Copy the model files to Google Drive\n",
        "!cp -r ./fine_tuned_model_epoch_5 /content/drive/MyDrive/"
      ],
      "metadata": {
        "id": "yaI21ALHyKo2"
      },
      "execution_count": null,
      "outputs": []
    },
    {
      "cell_type": "code",
      "source": [
        "# !pip install sacrebleu"
      ],
      "metadata": {
        "colab": {
          "base_uri": "https://localhost:8080/"
        },
        "id": "ukbwHQGcze1J",
        "outputId": "8d794ce3-b793-4d08-9d0b-a8453b90e058"
      },
      "execution_count": null,
      "outputs": [
        {
          "output_type": "stream",
          "name": "stdout",
          "text": [
            "Collecting sacrebleu\n",
            "  Downloading sacrebleu-2.4.2-py3-none-any.whl (106 kB)\n",
            "\u001b[2K     \u001b[90m━━━━━━━━━━━━━━━━━━━━━━━━━━━━━━━━━━━━━━━━\u001b[0m \u001b[32m106.7/106.7 kB\u001b[0m \u001b[31m1.4 MB/s\u001b[0m eta \u001b[36m0:00:00\u001b[0m\n",
            "\u001b[?25hCollecting portalocker (from sacrebleu)\n",
            "  Downloading portalocker-2.10.0-py3-none-any.whl (18 kB)\n",
            "Requirement already satisfied: regex in /usr/local/lib/python3.10/dist-packages (from sacrebleu) (2024.5.15)\n",
            "Requirement already satisfied: tabulate>=0.8.9 in /usr/local/lib/python3.10/dist-packages (from sacrebleu) (0.9.0)\n",
            "Requirement already satisfied: numpy>=1.17 in /usr/local/lib/python3.10/dist-packages (from sacrebleu) (1.25.2)\n",
            "Collecting colorama (from sacrebleu)\n",
            "  Downloading colorama-0.4.6-py2.py3-none-any.whl (25 kB)\n",
            "Requirement already satisfied: lxml in /usr/local/lib/python3.10/dist-packages (from sacrebleu) (4.9.4)\n",
            "Installing collected packages: portalocker, colorama, sacrebleu\n",
            "Successfully installed colorama-0.4.6 portalocker-2.10.0 sacrebleu-2.4.2\n"
          ]
        }
      ]
    },
    {
      "cell_type": "code",
      "source": [
        "from nltk.translate.bleu_score import sentence_bleu, SmoothingFunction"
      ],
      "metadata": {
        "id": "PWEcLoyZzgkZ"
      },
      "execution_count": null,
      "outputs": []
    },
    {
      "cell_type": "code",
      "source": [
        "sampled_val_df = val_df.sample(frac=0.05, random_state=42)"
      ],
      "metadata": {
        "id": "05tFxmAZ0PMO"
      },
      "execution_count": null,
      "outputs": []
    },
    {
      "cell_type": "code",
      "source": [
        "# Load the model and tokenizer from the saved directory\n",
        "model = TFAutoModelForSeq2SeqLM.from_pretrained(\"./fine_tuned_model_epoch_5\")\n",
        "tokenizer = AutoTokenizer.from_pretrained(\"./fine_tuned_model_epoch_5\")"
      ],
      "metadata": {
        "colab": {
          "base_uri": "https://localhost:8080/"
        },
        "id": "Zf1Y4olK7rJG",
        "outputId": "18e560e8-6f0a-4e42-bbd9-17a309204e24"
      },
      "execution_count": null,
      "outputs": [
        {
          "output_type": "stream",
          "name": "stderr",
          "text": [
            "/usr/local/lib/python3.10/dist-packages/tf_keras/src/initializers/initializers.py:121: UserWarning: The initializer RandomNormal is unseeded and being called multiple times, which will return identical values each time (even if the initializer is unseeded). Please update your code to provide a seed to the initializer, or avoid using the same initializer instance more than once.\n",
            "  warnings.warn(\n",
            "All model checkpoint layers were used when initializing TFMT5ForConditionalGeneration.\n",
            "\n",
            "All the layers of TFMT5ForConditionalGeneration were initialized from the model checkpoint at ./fine_tuned_model_epoch_5.\n",
            "If your task is similar to the task the model of the checkpoint was trained on, you can already use TFMT5ForConditionalGeneration for predictions without further training.\n",
            "/usr/local/lib/python3.10/dist-packages/transformers/convert_slow_tokenizer.py:560: UserWarning: The sentencepiece tokenizer that you are converting to a fast tokenizer uses the byte fallback option which is not implemented in the fast tokenizers. In practice this means that the fast version of the tokenizer can produce unknown tokens whereas the sentencepiece version would have converted these unknown tokens into a sequence of byte tokens matching the original piece of text.\n",
            "  warnings.warn(\n"
          ]
        }
      ]
    },
    {
      "cell_type": "code",
      "source": [
        "# Sample 5% of the validation dataset\n",
        "sampled_val_df = val_df.sample(frac=0.05, random_state=42)\n",
        "\n",
        "def summarize_text(text, max_length=150, min_length=40, num_beams=4):\n",
        "    # Prepend the task prefix \"summarize: \" to the input text\n",
        "    input_text = \"summarize: \" + text\n",
        "\n",
        "    # Tokenize the input text\n",
        "    input_ids = tokenizer.encode(input_text, return_tensors=\"tf\", max_length=512, truncation=True)\n",
        "\n",
        "    # Generate the summary\n",
        "    summary_ids = model.generate(input_ids, max_length=max_length, min_length=min_length, num_beams=num_beams, length_penalty=2.0, early_stopping=True)\n",
        "\n",
        "    # Decode the summary and return it\n",
        "    summary = tokenizer.decode(summary_ids[0], skip_special_tokens=True)\n",
        "    return summary\n",
        "\n",
        "# Generate summaries for the sampled validation dataset\n",
        "generated_summaries = []\n",
        "for article in sampled_val_df['article']:\n",
        "    generated_summary = summarize_text(article)\n",
        "    generated_summaries.append(generated_summary)\n",
        "\n",
        "\n",
        "# Add generated summaries to the sampled validation dataset DataFrame\n",
        "sampled_val_df['generated_summary'] = generated_summaries\n",
        "\n",
        "# Initialize BLEU scorer\n",
        "smoothie = SmoothingFunction().method4\n",
        "\n",
        "# Initialize ROUGE scorer\n",
        "rouge_scorer = rouge_scorer.RougeScorer(['rouge1', 'rouge2', 'rougeL'], use_stemmer=True)\n",
        "\n",
        "# Calculate BLEU and ROUGE scores for each pair of summaries\n",
        "bleu_scores = []\n",
        "rouge1_scores = []\n",
        "rouge2_scores = []\n",
        "rougeL_scores = []\n",
        "\n",
        "for index, row in sampled_val_df.iterrows():\n",
        "    generated_summary = row['generated_summary']\n",
        "    reference_summary = row['summary']\n",
        "\n",
        "    # Calculate BLEU score\n",
        "    bleu_score = sentence_bleu([reference_summary.split()], generated_summary.split(), smoothing_function=smoothie)\n",
        "    bleu_scores.append(bleu_score)\n",
        "\n",
        "    # Calculate ROUGE scores\n",
        "    rouge_score = rouge_scorer.score(reference_summary, generated_summary)\n",
        "    rouge1_scores.append(rouge_score['rouge1'].fmeasure)\n",
        "    rouge2_scores.append(rouge_score['rouge2'].fmeasure)\n",
        "    rougeL_scores.append(rouge_score['rougeL'].fmeasure)\n",
        "\n",
        "# Convert lists of scores to DataFrames\n",
        "bleu_scores_df = pd.DataFrame(bleu_scores, columns=['bleu_score'])\n",
        "rouge_scores_df = pd.DataFrame({\n",
        "    'rouge1_fmeasure': rouge1_scores,\n",
        "    'rouge2_fmeasure': rouge2_scores,\n",
        "    'rougeL_fmeasure': rougeL_scores\n",
        "})\n",
        "\n",
        "# Print average BLEU and ROUGE scores\n",
        "average_bleu_score = bleu_scores_df['bleu_score'].mean()\n",
        "average_rouge1_fmeasure = rouge_scores_df['rouge1_fmeasure'].mean()\n",
        "average_rouge2_fmeasure = rouge_scores_df['rouge2_fmeasure'].mean()\n",
        "average_rougeL_fmeasure = rouge_scores_df['rougeL_fmeasure'].mean()\n",
        "\n",
        "print(f'Average BLEU Score: {average_bleu_score:.4f}')\n",
        "print(f'Average ROUGE-1 F-measure: {average_rouge1_fmeasure:.4f}')\n",
        "print(f'Average ROUGE-2 F-measure: {average_rouge2_fmeasure:.4f}')\n",
        "print(f'Average ROUGE-L F-measure: {average_rougeL_fmeasure:.4f}')"
      ],
      "metadata": {
        "colab": {
          "base_uri": "https://localhost:8080/"
        },
        "id": "uezZCVnh0Qz2",
        "outputId": "1097b0d3-4b0a-4a47-a042-345a19bcce34"
      },
      "execution_count": null,
      "outputs": [
        {
          "output_type": "stream",
          "name": "stdout",
          "text": [
            "Average BLEU Score: 0.0435\n",
            "Average ROUGE-1 F-measure: 0.1391\n",
            "Average ROUGE-2 F-measure: 0.0435\n",
            "Average ROUGE-L F-measure: 0.1391\n"
          ]
        }
      ]
    },
    {
      "cell_type": "code",
      "source": [
        "for i in range(10):\n",
        "  print(\"1: \", article_corpus[i])\n",
        "  print(\"Summary: \", summarize_text(article_corpus[i]))"
      ],
      "metadata": {
        "colab": {
          "base_uri": "https://localhost:8080/"
        },
        "id": "M1jw-UE1CJwi",
        "outputId": "cd79574b-d1b6-4f20-f493-9e4c547ecdd9"
      },
      "execution_count": null,
      "outputs": [
        {
          "output_type": "stream",
          "name": "stdout",
          "text": [
            "1:  ब्लैकबेरी हैंडसेट बनाने वाली कनाडा कंपनी रिसर्च मोशन रिम पुनर्गठन योजना तहत अगले सप्ताह वैश्विक स्तर 2 000 कर्मचारियों छंटनी करेगी. द ग्लोब एंड मेल कंपनी नजदीकी सूत्रों हवाले प्रकाशित खबर रिम वैश्विक स्तर बड़े पुनर्गठन तैयारी रही है. अगले सप्ताह वैश्विक स्तर 2 000 नौकरियों कटौती करेगी. रिपोर्ट छंटनी आंकड़ा इससे बड़ा है. द ग्लोब एंड मेल कंपनी नजदीकी सूत्रों हवाले प्रकाशित खबर रिम वैश्विक स्तर बड़े पुनर्गठन तैयारी रही है. अगले सप्ताह वैश्विक स्तर 2 000 नौकरियों कटौती करेगी. रिपोर्ट छंटनी आंकड़ा इससे बड़ा है.\n",
            "Summary:  करेगी. अगले सप्ताह वैश्विक स्तर 2 000 नौकरियों कटौती करेगी. रिपोर्ट छंटनी आंकड़ा इससे बड़ा है.\n",
            "1:  अमेरिका राष्ट्रपति पद डेमोक्रेटिक पार्टी उम्मीदवार हिलेरी क्लिंटन निमोनिया पीड़ित पाई गई आराम सलाह दी गई इससे घंटे हिलेरी अस्वस्थ महसूस कारण 9 11 हमलों स्मृति सभा बीच चली गई थीं हिलेरी चिकित्सक लीसा बरडाक बयान पूर्व विदेश मंत्री एलर्जी कारण खांसी रही उन्होंने लंबे समय खांसी रही संबंधी जांच निमोनिया पीड़ित पाया एंटीबॉयोटिक दवाएं देने अलावा आराम कार्यक्रम बदलाव सलाह दी गई चिकित्सक बताया हिलेरी कल तड़के मैनहट्टन ग्राउंड जीरो स्मारक 9 11 हमलों 15 साल पूरे अवसर आयोजित स्मृति सभा बुखार शरीर पानी कमी गई लीसा बताया उन्होंने हिलेरी जांच शरीर पानी कमी दूर गई स्वास्थ्य सुधार हिलेरी 9 11 हमलों स्मारक आतंकवादी हमले पीड़ितों श्रद्धांजलि अर्पित गई थीं टिप्पणियां हिलेरी प्रचार टीम बताया कार्यक्रम दौरान अस्वस्थ गईं बेटी चेल्सी अपार्टमेंट रवाना गईं शहर पॉश फ्लैटीरोन हेडलाइन अलावा खबर एनडीटीवी टीम संपादित सिंडीकेट फीड सीधे प्रकाशित गई है. उन्होंने लंबे समय खांसी रही संबंधी जांच निमोनिया पीड़ित पाया एंटीबॉयोटिक दवाएं देने अलावा आराम कार्यक्रम बदलाव सलाह दी गई चिकित्सक बताया हिलेरी कल तड़के मैनहट्टन ग्राउंड जीरो स्मारक 9 11 हमलों 15 साल पूरे अवसर आयोजित स्मृति सभा बुखार शरीर पानी कमी गई लीसा बताया उन्होंने हिलेरी जांच शरीर पानी कमी दूर गई स्वास्थ्य सुधार हिलेरी 9 11 हमलों स्मारक आतंकवादी हमले पीड़ितों श्रद्धांजलि अर्पित गई थीं टिप्पणियां हिलेरी प्रचार टीम बताया कार्यक्रम दौरान अस्वस्थ गईं बेटी चेल्सी अपार्टमेंट रवाना गईं शहर पॉश फ्लैटीरोन हेडलाइन अलावा खबर एनडीटीवी टीम संपादित सिंडीकेट फीड सीधे प्रकाशित गई है. चिकित्सक बताया हिलेरी कल तड़के मैनहट्टन ग्राउंड जीरो स्मारक 9 11 हमलों 15 साल पूरे अवसर आयोजित स्मृति सभा बुखार शरीर पानी कमी गई लीसा बताया उन्होंने हिलेरी जांच शरीर पानी कमी दूर गई स्वास्थ्य सुधार हिलेरी 9 11 हमलों स्मारक आतंकवादी हमले पीड़ितों श्रद्धांजलि अर्पित गई थीं टिप्पणियां हिलेरी प्रचार टीम बताया कार्यक्रम दौरान अस्वस्थ गईं बेटी चेल्सी अपार्टमेंट रवाना गईं शहर पॉश फ्लैटीरोन हेडलाइन अलावा खबर एनडीटीवी टीम संपादित सिंडीकेट फीड सीधे प्रकाशित गई है. लीसा बताया उन्होंने हिलेरी जांच शरीर पानी कमी दूर गई स्वास्थ्य सुधार हिलेरी 9 11 हमलों स्मारक आतंकवादी हमले पीड़ितों श्रद्धांजलि अर्पित गई थीं टिप्पणियां हिलेरी प्रचार टीम बताया कार्यक्रम दौरान अस्वस्थ गईं बेटी चेल्सी अपार्टमेंट रवाना गईं शहर पॉश फ्लैटीरोन हेडलाइन अलावा खबर एनडीटीवी टीम संपादित सिंडीकेट फीड सीधे प्रकाशित गई है. हिलेरी प्रचार टीम बताया कार्यक्रम दौरान अस्वस्थ गईं बेटी चेल्सी अपार्टमेंट रवाना गईं शहर पॉश फ्लैटीरोन हेडलाइन अलावा खबर एनडीटीवी टीम संपादित सिंडीकेट फीड सीधे प्रकाशित गई है. हेडलाइन अलावा खबर एनडीटीवी टीम संपादित सिंडीकेट फीड सीधे प्रकाशित गई है.\n",
            "Summary:  साउंड जीरो स्मारक 9 11 हमलों स्मारक आतंकवादी हमले पीड़ितों श्रद्धांजलि अर्पित गई थीं टिप्पणियां हिलेरी ने हिलेरी चिकित्सक लीसा बरडाक बयान\n",
            "1:  पूर्व भारतीय क्रिकेट कप्तान अनिल कुंबले मानना भारत स्पिन विभाग स्तरीय गेंदबाजों भरा उन्होंने टीम वापसी ऑफ स्पिनर हरभजन सिंह देश सर्वश्रेष्ठ स्पिनरों करार दिया. श्रीलंका चल रही आईसीसी टी 20 विश्वकप दौरान टीम वापसी हरभजन सिंह गैर मौजूदगी रविचंद्रन अश्विन प्रज्ञान ओझा अच्छी भूमिका निभाई. हरभजन खराब फॉर्म कारण लम्बे समय टीम बाहर रहना पड़ा था. टेस्ट क्रिकेट 619 विकेट दुनिया तीसरे सफलतम गेंदबाज कुंबले हरभजन सिंह बेहतरीन गेंदबाज है. उन्होंने अश्विन काफी धैर्यवान गेंदबाज दबाव प्रदर्शन अहम है. पूर्व कप्तान कुंबले मानना लेग स्पिनर अमित मिश्रा राहुल शर्मा पीयूष चावला पर्याप्त मौके मिलने चाहिए. देश प्रमुख स्पिनरों बारे बात कुंबले अश्विन हरभजन ओझा स्पिन गेंदबाजी आक्रमण काफी मजबूत है. कुंबले स्पिनर पर्याप्त मौके दोगे आपको उसकी असली क्षमता बारे कभी पता चलेगा. फिलहाल स्पिन विभाग काफी मजबूत क्योंकि स्पिनर अश्विन ओझा मौजूद मैदान अच्छा प्रदर्शन हैं. कुंबले बीसीसीआई आधिकारिक वेबसाइट हरभजन सिंह मौजूद 400 टेस्ट विकेट हासिल अनुभव काफी प्रतिस्पर्धी है. सर्वश्रेष्ठ फॉर्म लौटेगा आपके पास टीम तीन अच्छे स्पिनर जाएंगे अलावा तीन लेग स्पिनर टीम जगह बनाने कोशिश हैं. कुंबले हरभजन अब राष्ट्रीय टीम काफी योगदान दे हैं. उन्होंने बेहतरीन है. उसने थोड़ा आत्मविश्वास खो हासिल एकमात्र तरीका टीम हिस्सा अधिक अधिक मैच खेले. उसने ऐसा मुझे कारण नजर आता दोबारा ऐसा सकता. निश्चित तौर मुझे लगता भज्जी अब भारत सर्वश्रेष्ठ स्पिनरों समय सर्वश्रेष्ठ गेंदबाजी लगेगा. कुंबले बताया आखिर क्यों जाना चाहिए हरभजन हाल टेस्ट क्रिकेट खराब प्रदर्शन है. उन्होंने मुझे लगता टेस्ट मैचों उसने खराब प्रदर्शन है. दरअसल उसने काफी मैच भारत बाहर खेले. भारत बाहर स्पिनर हमेशा आक्रमण विकल्प होता. उसकी भूमिका बदलती विशेषकर पहली पारी में. हां एकदिवसीय मैचों उसका प्रदर्शन मिश्रित रहा. उसने अब ऊंचे स्तर स्थापित किए उसमें खरा उतरा इसलिए लोगों लगा उसने अच्छा प्रदर्शन किया.टिप्पणियां कुंबले मुताबिक अश्विन काफी समझार गेंदबाज दबाव काफी धैर्यवान रहता है. पूर्व भारतीय कप्तान अनुसार ओझा गेंदबाजी सटीकता अश्विन गेंदबाजी अच्छा लगता है. कुंबले हालांकि ओझा सुझाव देते आर्म गेंद थोड़ा काम जरूरत क्योंकि उसने गेंद काफी विकेट हासिल किए हैं. कुंबले देश लेग स्पिनरों बारे राहुल शर्मा पीयूष चावला अमित मिश्रा दौड़ आगे टेस्ट प्रारूप अधिक अनुकूल हैं. श्रीलंका चल रही आईसीसी टी 20 विश्वकप दौरान टीम वापसी हरभजन सिंह गैर मौजूदगी रविचंद्रन अश्विन प्रज्ञान ओझा अच्छी भूमिका निभाई. हरभजन खराब फॉर्म कारण लम्बे समय टीम बाहर रहना पड़ा था. टेस्ट क्रिकेट 619 विकेट दुनिया तीसरे सफलतम गेंदबाज कुंबले हरभजन सिंह बेहतरीन गेंदबाज है. उन्होंने अश्विन काफी धैर्यवान गेंदबाज दबाव प्रदर्शन अहम है. पूर्व कप्तान कुंबले मानना लेग स्पिनर अमित मिश्रा राहुल शर्मा पीयूष चावला पर्याप्त मौके मिलने चाहिए. देश प्रमुख स्पिनरों बारे बात कुंबले अश्विन हरभजन ओझा स्पिन गेंदबाजी आक्रमण काफी मजबूत है. कुंबले स्पिनर पर्याप्त मौके दोगे आपको उसकी असली क्षमता बारे कभी पता चलेगा. फिलहाल स्पिन विभाग काफी मजबूत क्योंकि स्पिनर अश्विन ओझा मौजूद मैदान अच्छा प्रदर्शन हैं. कुंबले बीसीसीआई आधिकारिक वेबसाइट हरभजन सिंह मौजूद 400 टेस्ट विकेट हासिल अनुभव काफी प्रतिस्पर्धी है. सर्वश्रेष्ठ फॉर्म लौटेगा आपके पास टीम तीन अच्छे स्पिनर जाएंगे अलावा तीन लेग स्पिनर टीम जगह बनाने कोशिश हैं. कुंबले हरभजन अब राष्ट्रीय टीम काफी योगदान दे हैं. उन्होंने बेहतरीन है. उसने थोड़ा आत्मविश्वास खो हासिल एकमात्र तरीका टीम हिस्सा अधिक अधिक मैच खेले. उसने ऐसा मुझे कारण नजर आता दोबारा ऐसा सकता. निश्चित तौर मुझे लगता भज्जी अब भारत सर्वश्रेष्ठ स्पिनरों समय सर्वश्रेष्ठ गेंदबाजी लगेगा. कुंबले बताया आखिर क्यों जाना चाहिए हरभजन हाल टेस्ट क्रिकेट खराब प्रदर्शन है. उन्होंने मुझे लगता टेस्ट मैचों उसने खराब प्रदर्शन है. दरअसल उसने काफी मैच भारत बाहर खेले. भारत बाहर स्पिनर हमेशा आक्रमण विकल्प होता. उसकी भूमिका बदलती विशेषकर पहली पारी में. हां एकदिवसीय मैचों उसका प्रदर्शन मिश्रित रहा. उसने अब ऊंचे स्तर स्थापित किए उसमें खरा उतरा इसलिए लोगों लगा उसने अच्छा प्रदर्शन किया.टिप्पणियां कुंबले मुताबिक अश्विन काफी समझार गेंदबाज दबाव काफी धैर्यवान रहता है. पूर्व भारतीय कप्तान अनुसार ओझा गेंदबाजी सटीकता अश्विन गेंदबाजी अच्छा लगता है. कुंबले हालांकि ओझा सुझाव देते आर्म गेंद थोड़ा काम जरूरत क्योंकि उसने गेंद काफी विकेट हासिल किए हैं. कुंबले देश लेग स्पिनरों बारे राहुल शर्मा पीयूष चावला अमित मिश्रा दौड़ आगे टेस्ट प्रारूप अधिक अनुकूल हैं. टेस्ट क्रिकेट 619 विकेट दुनिया तीसरे सफलतम गेंदबाज कुंबले हरभजन सिंह बेहतरीन गेंदबाज है. उन्होंने अश्विन काफी धैर्यवान गेंदबाज दबाव प्रदर्शन अहम है. पूर्व कप्तान कुंबले मानना लेग स्पिनर अमित मिश्रा राहुल शर्मा पीयूष चावला पर्याप्त मौके मिलने चाहिए. देश प्रमुख स्पिनरों बारे बात कुंबले अश्विन हरभजन ओझा स्पिन गेंदबाजी आक्रमण काफी मजबूत है. कुंबले स्पिनर पर्याप्त मौके दोगे आपको उसकी असली क्षमता बारे कभी पता चलेगा. फिलहाल स्पिन विभाग काफी मजबूत क्योंकि स्पिनर अश्विन ओझा मौजूद मैदान अच्छा प्रदर्शन हैं. कुंबले बीसीसीआई आधिकारिक वेबसाइट हरभजन सिंह मौजूद 400 टेस्ट विकेट हासिल अनुभव काफी प्रतिस्पर्धी है. सर्वश्रेष्ठ फॉर्म लौटेगा आपके पास टीम तीन अच्छे स्पिनर जाएंगे अलावा तीन लेग स्पिनर टीम जगह बनाने कोशिश हैं. कुंबले हरभजन अब राष्ट्रीय टीम काफी योगदान दे हैं. उन्होंने बेहतरीन है. उसने थोड़ा आत्मविश्वास खो हासिल एकमात्र तरीका टीम हिस्सा अधिक अधिक मैच खेले. उसने ऐसा मुझे कारण नजर आता दोबारा ऐसा सकता. निश्चित तौर मुझे लगता भज्जी अब भारत सर्वश्रेष्ठ स्पिनरों समय सर्वश्रेष्ठ गेंदबाजी लगेगा. कुंबले बताया आखिर क्यों जाना चाहिए हरभजन हाल टेस्ट क्रिकेट खराब प्रदर्शन है. उन्होंने मुझे लगता टेस्ट मैचों उसने खराब प्रदर्शन है. दरअसल उसने काफी मैच भारत बाहर खेले. भारत बाहर स्पिनर हमेशा आक्रमण विकल्प होता. उसकी भूमिका बदलती विशेषकर पहली पारी में. हां एकदिवसीय मैचों उसका प्रदर्शन मिश्रित रहा. उसने अब ऊंचे स्तर स्थापित किए उसमें खरा उतरा इसलिए लोगों लगा उसने अच्छा प्रदर्शन किया.टिप्पणियां कुंबले मुताबिक अश्विन काफी समझार गेंदबाज दबाव काफी धैर्यवान रहता है. पूर्व भारतीय कप्तान अनुसार ओझा गेंदबाजी सटीकता अश्विन गेंदबाजी अच्छा लगता है. कुंबले हालांकि ओझा सुझाव देते आर्म गेंद थोड़ा काम जरूरत क्योंकि उसने गेंद काफी विकेट हासिल किए हैं. कुंबले देश लेग स्पिनरों बारे राहुल शर्मा पीयूष चावला अमित मिश्रा दौड़ आगे टेस्ट प्रारूप अधिक अनुकूल हैं. पूर्व कप्तान कुंबले मानना लेग स्पिनर अमित मिश्रा राहुल शर्मा पीयूष चावला पर्याप्त मौके मिलने चाहिए. देश प्रमुख स्पिनरों बारे बात कुंबले अश्विन हरभजन ओझा स्पिन गेंदबाजी आक्रमण काफी मजबूत है. कुंबले स्पिनर पर्याप्त मौके दोगे आपको उसकी असली क्षमता बारे कभी पता चलेगा. फिलहाल स्पिन विभाग काफी मजबूत क्योंकि स्पिनर अश्विन ओझा मौजूद मैदान अच्छा प्रदर्शन हैं. कुंबले बीसीसीआई आधिकारिक वेबसाइट हरभजन सिंह मौजूद 400 टेस्ट विकेट हासिल अनुभव काफी प्रतिस्पर्धी है. सर्वश्रेष्ठ फॉर्म लौटेगा आपके पास टीम तीन अच्छे स्पिनर जाएंगे अलावा तीन लेग स्पिनर टीम जगह बनाने कोशिश हैं. कुंबले हरभजन अब राष्ट्रीय टीम काफी योगदान दे हैं. उन्होंने बेहतरीन है. उसने थोड़ा आत्मविश्वास खो हासिल एकमात्र तरीका टीम हिस्सा अधिक अधिक मैच खेले. उसने ऐसा मुझे कारण नजर आता दोबारा ऐसा सकता. निश्चित तौर मुझे लगता भज्जी अब भारत सर्वश्रेष्ठ स्पिनरों समय सर्वश्रेष्ठ गेंदबाजी लगेगा. कुंबले बताया आखिर क्यों जाना चाहिए हरभजन हाल टेस्ट क्रिकेट खराब प्रदर्शन है. उन्होंने मुझे लगता टेस्ट मैचों उसने खराब प्रदर्शन है. दरअसल उसने काफी मैच भारत बाहर खेले. भारत बाहर स्पिनर हमेशा आक्रमण विकल्प होता. उसकी भूमिका बदलती विशेषकर पहली पारी में. हां एकदिवसीय मैचों उसका प्रदर्शन मिश्रित रहा. उसने अब ऊंचे स्तर स्थापित किए उसमें खरा उतरा इसलिए लोगों लगा उसने अच्छा प्रदर्शन किया.टिप्पणियां कुंबले मुताबिक अश्विन काफी समझार गेंदबाज दबाव काफी धैर्यवान रहता है. पूर्व भारतीय कप्तान अनुसार ओझा गेंदबाजी सटीकता अश्विन गेंदबाजी अच्छा लगता है. कुंबले हालांकि ओझा सुझाव देते आर्म गेंद थोड़ा काम जरूरत क्योंकि उसने गेंद काफी विकेट हासिल किए हैं. कुंबले देश लेग स्पिनरों बारे राहुल शर्मा पीयूष चावला अमित मिश्रा दौड़ आगे टेस्ट प्रारूप अधिक अनुकूल हैं. कुंबले स्पिनर पर्याप्त मौके दोगे आपको उसकी असली क्षमता बारे कभी पता चलेगा. फिलहाल स्पिन विभाग काफी मजबूत क्योंकि स्पिनर अश्विन ओझा मौजूद मैदान अच्छा प्रदर्शन हैं. कुंबले बीसीसीआई आधिकारिक वेबसाइट हरभजन सिंह मौजूद 400 टेस्ट विकेट हासिल अनुभव काफी प्रतिस्पर्धी है. सर्वश्रेष्ठ फॉर्म लौटेगा आपके पास टीम तीन अच्छे स्पिनर जाएंगे अलावा तीन लेग स्पिनर टीम जगह बनाने कोशिश हैं. कुंबले हरभजन अब राष्ट्रीय टीम काफी योगदान दे हैं. उन्होंने बेहतरीन है. उसने थोड़ा आत्मविश्वास खो हासिल एकमात्र तरीका टीम हिस्सा अधिक अधिक मैच खेले. उसने ऐसा मुझे कारण नजर आता दोबारा ऐसा सकता. निश्चित तौर मुझे लगता भज्जी अब भारत सर्वश्रेष्ठ स्पिनरों समय सर्वश्रेष्ठ गेंदबाजी लगेगा. कुंबले बताया आखिर क्यों जाना चाहिए हरभजन हाल टेस्ट क्रिकेट खराब प्रदर्शन है. उन्होंने मुझे लगता टेस्ट मैचों उसने खराब प्रदर्शन है. दरअसल उसने काफी मैच भारत बाहर खेले. भारत बाहर स्पिनर हमेशा आक्रमण विकल्प होता. उसकी भूमिका बदलती विशेषकर पहली पारी में. हां एकदिवसीय मैचों उसका प्रदर्शन मिश्रित रहा. उसने अब ऊंचे स्तर स्थापित किए उसमें खरा उतरा इसलिए लोगों लगा उसने अच्छा प्रदर्शन किया.टिप्पणियां कुंबले मुताबिक अश्विन काफी समझार गेंदबाज दबाव काफी धैर्यवान रहता है. पूर्व भारतीय कप्तान अनुसार ओझा गेंदबाजी सटीकता अश्विन गेंदबाजी अच्छा लगता है. कुंबले हालांकि ओझा सुझाव देते आर्म गेंद थोड़ा काम जरूरत क्योंकि उसने गेंद काफी विकेट हासिल किए हैं. कुंबले देश लेग स्पिनरों बारे राहुल शर्मा पीयूष चावला अमित मिश्रा दौड़ आगे टेस्ट प्रारूप अधिक अनुकूल हैं. कुंबले बीसीसीआई आधिकारिक वेबसाइट हरभजन सिंह मौजूद 400 टेस्ट विकेट हासिल अनुभव काफी प्रतिस्पर्धी है. सर्वश्रेष्ठ फॉर्म लौटेगा आपके पास टीम तीन अच्छे स्पिनर जाएंगे अलावा तीन लेग स्पिनर टीम जगह बनाने कोशिश हैं. कुंबले हरभजन अब राष्ट्रीय टीम काफी योगदान दे हैं. उन्होंने बेहतरीन है. उसने थोड़ा आत्मविश्वास खो हासिल एकमात्र तरीका टीम हिस्सा अधिक अधिक मैच खेले. उसने ऐसा मुझे कारण नजर आता दोबारा ऐसा सकता. निश्चित तौर मुझे लगता भज्जी अब भारत सर्वश्रेष्ठ स्पिनरों समय सर्वश्रेष्ठ गेंदबाजी लगेगा. कुंबले बताया आखिर क्यों जाना चाहिए हरभजन हाल टेस्ट क्रिकेट खराब प्रदर्शन है. उन्होंने मुझे लगता टेस्ट मैचों उसने खराब प्रदर्शन है. दरअसल उसने काफी मैच भारत बाहर खेले. भारत बाहर स्पिनर हमेशा आक्रमण विकल्प होता. उसकी भूमिका बदलती विशेषकर पहली पारी में. हां एकदिवसीय मैचों उसका प्रदर्शन मिश्रित रहा. उसने अब ऊंचे स्तर स्थापित किए उसमें खरा उतरा इसलिए लोगों लगा उसने अच्छा प्रदर्शन किया.टिप्पणियां कुंबले मुताबिक अश्विन काफी समझार गेंदबाज दबाव काफी धैर्यवान रहता है. पूर्व भारतीय कप्तान अनुसार ओझा गेंदबाजी सटीकता अश्विन गेंदबाजी अच्छा लगता है. कुंबले हालांकि ओझा सुझाव देते आर्म गेंद थोड़ा काम जरूरत क्योंकि उसने गेंद काफी विकेट हासिल किए हैं. कुंबले देश लेग स्पिनरों बारे राहुल शर्मा पीयूष चावला अमित मिश्रा दौड़ आगे टेस्ट प्रारूप अधिक अनुकूल हैं. कुंबले हरभजन अब राष्ट्रीय टीम काफी योगदान दे हैं. उन्होंने बेहतरीन है. उसने थोड़ा आत्मविश्वास खो हासिल एकमात्र तरीका टीम हिस्सा अधिक अधिक मैच खेले. उसने ऐसा मुझे कारण नजर आता दोबारा ऐसा सकता. निश्चित तौर मुझे लगता भज्जी अब भारत सर्वश्रेष्ठ स्पिनरों समय सर्वश्रेष्ठ गेंदबाजी लगेगा. कुंबले बताया आखिर क्यों जाना चाहिए हरभजन हाल टेस्ट क्रिकेट खराब प्रदर्शन है. उन्होंने मुझे लगता टेस्ट मैचों उसने खराब प्रदर्शन है. दरअसल उसने काफी मैच भारत बाहर खेले. भारत बाहर स्पिनर हमेशा आक्रमण विकल्प होता. उसकी भूमिका बदलती विशेषकर पहली पारी में. हां एकदिवसीय मैचों उसका प्रदर्शन मिश्रित रहा. उसने अब ऊंचे स्तर स्थापित किए उसमें खरा उतरा इसलिए लोगों लगा उसने अच्छा प्रदर्शन किया.टिप्पणियां कुंबले मुताबिक अश्विन काफी समझार गेंदबाज दबाव काफी धैर्यवान रहता है. पूर्व भारतीय कप्तान अनुसार ओझा गेंदबाजी सटीकता अश्विन गेंदबाजी अच्छा लगता है. कुंबले हालांकि ओझा सुझाव देते आर्म गेंद थोड़ा काम जरूरत क्योंकि उसने गेंद काफी विकेट हासिल किए हैं. कुंबले देश लेग स्पिनरों बारे राहुल शर्मा पीयूष चावला अमित मिश्रा दौड़ आगे टेस्ट प्रारूप अधिक अनुकूल हैं. उन्होंने मुझे लगता टेस्ट मैचों उसने खराब प्रदर्शन है. दरअसल उसने काफी मैच भारत बाहर खेले. भारत बाहर स्पिनर हमेशा आक्रमण विकल्प होता. उसकी भूमिका बदलती विशेषकर पहली पारी में. हां एकदिवसीय मैचों उसका प्रदर्शन मिश्रित रहा. उसने अब ऊंचे स्तर स्थापित किए उसमें खरा उतरा इसलिए लोगों लगा उसने अच्छा प्रदर्शन किया.टिप्पणियां कुंबले मुताबिक अश्विन काफी समझार गेंदबाज दबाव काफी धैर्यवान रहता है. पूर्व भारतीय कप्तान अनुसार ओझा गेंदबाजी सटीकता अश्विन गेंदबाजी अच्छा लगता है. कुंबले हालांकि ओझा सुझाव देते आर्म गेंद थोड़ा काम जरूरत क्योंकि उसने गेंद काफी विकेट हासिल किए हैं. कुंबले देश लेग स्पिनरों बारे राहुल शर्मा पीयूष चावला अमित मिश्रा दौड़ आगे टेस्ट प्रारूप अधिक अनुकूल हैं. कुंबले मुताबिक अश्विन काफी समझार गेंदबाज दबाव काफी धैर्यवान रहता है. पूर्व भारतीय कप्तान अनुसार ओझा गेंदबाजी सटीकता अश्विन गेंदबाजी अच्छा लगता है. कुंबले हालांकि ओझा सुझाव देते आर्म गेंद थोड़ा काम जरूरत क्योंकि उसने गेंद काफी विकेट हासिल किए हैं. कुंबले देश लेग स्पिनरों बारे राहुल शर्मा पीयूष चावला अमित मिश्रा दौड़ आगे टेस्ट प्रारूप अधिक अनुकूल हैं. कुंबले देश लेग स्पिनरों बारे राहुल शर्मा पीयूष चावला अमित मिश्रा दौड़ आगे टेस्ट प्रारूप अधिक अनुकूल हैं.\n",
            "Summary:  सामान्य स्पिनर अश्विन ओझा ने टीम वापसी ऑफ स्पिनर हरभजन सिंह के लिए मौजूदगी के लिए मौजूदगी के लिए मौजूदगी रविचंद्रन अश्विन ओझा\n",
            "1:  इंडिगो एयरलाइन प्रेसीडेंट डायरेक्टर आदित्य घोष दिल्ली दिल्ली एयरपोर्ट हमारे स्टाफ यात्री दुर्व्यवहार स्वीकार हूं मैंने व्यक्तिगत तौर यात्री बात माफी मांगी घटना प्रतिक्रिया देते नागरिक उड्डयन मंत्री अशोक गजपति राजू मैंने नागरिक उड्डयन मंत्रालय निगरानी एजेंसी डीजीसीए मामले रिपोर्ट देने हिंसा दुखद घटना प्रतिक्रिया देते नागरिक उड्डयन मंत्री अशोक गजपति राजू मैंने नागरिक उड्डयन मंत्रालय निगरानी एजेंसी डीजीसीए मामले रिपोर्ट देने हिंसा दुखद\n",
            "Summary:  करते नागरिक उड्डयन मंत्रालय निगरानी एजेंसी डीजीसीए मामले रिपोर्ट देने हिंसा दुखद घटना प्रतिक्रिया देते नागरिक उड्डयन मंत्रालय निगरानी एजेंसी डीजीसीए मामले रिपोर्ट देने हिंसा दुखद घटना प्रतिक्रिया देते नागरिक उड्डयन मंत्रालय निगरानी एजेंसी डीजीसीए मामले रिपोर्ट देने हिंसा दुखद घटना प्रतिक्रिया देते नागरिक उड्डयन मंत्रालय निगरानी एजेंसी डीजीसीए मामले\n",
            "1:  संजय लीला भंसाली फिल्म मलाल बॉलीवुड कदम रखने मीजान जाफरी Meezaan Jaffery दिनों काफी चर्चा फिल्म अलावा मीजान जाफरी Meezaan Jaffery नव्या नवेली नंदा Navya Naveli Nanda दोस्ती लेकर सोशल मीडिया छाए दिनों वायरल फोटोज नव्या नवेली नंदा Navya Naveli Nanda एक्टर मीजान जाफरी Meezaan Jaffery दिखाई दी थीं मीजान जाफरी Meezaan Jaffery नव्या नवेली नंदा Navya Naveli Nanda दोस्ती लेकर सोशल मीडिया चर्चा लगी हालांकि मीजान जाफरी Meezaan Jaffery मीडिया दिए इंटरव्यू नव्या नवेली नंदा Navya Naveli Nanda दोस्ती खुलासा Blur But Beautiful meezaanj and navyananda meezaan navyanavelinanda sanjayleelabhansali vimalfilmfareawards2019 zeecineawards bollywood debutante malaal malal slb inshallah salmankhan aliabhatt A post shared by meezaan s world meezaan_jaffery on Mar 26 2019 at 4 37am PDT मुंबई मिरर हाल बॉलीवुड एक्टर मीजान जाफरी Meezaan Jaffery इंटरव्यू लिया जिसमें उनसे नव्या नवेली नन्दा Navya Naveli Nanda दोस्ती बारे पूछा मीजान जाफरी Meezaan Jaffery हम केवल अच्छे दोस्त मीडिया बातचीत दौरान मीजान जाफरी नव्या नवेली सेम फ्रेंड सर्कल नव्या मेरी बहन बेस्टी मेरी काफी अच्छी दोस्त रिलेशनशिप हूं इंटरव्यू दौरान मीजान जाफरी बताया बहन अलाविया जाफरी Alaviaa Jaaferi काफी अच्छी दोस्त सेम फ्रेंड सर्कल कारण दोनों खुद अच्छे दोस्त A post shared by Alaviaa Jaaferi alaviaajaaferi on Oct 13 2018 at 1 18pm PDT बता दें बॉलीवुड एक्टर जावेद जाफरी बेटे मीजान जाफरी Meezaan Jaffery हाल संजय लीला भंसाली फिल्म मलाल Malaal लीड रोल नजर आएंगे मीजान जाफरी Meezaan Jaffery फिल्म 5 जुलाई दुनियाभर रिलीज होगी इनके फिल्म शर्मिन सेगल मुख्य भूमिका दिखाई देंगी फिल्म मलाल संजय लीला भंसाली भूषण कुमार कृष्म कुमार प्रोड्यूस नव्या नवेली नंदा Navya Naveli Nanda बात उन्होंने इंग्लैंड सेवन ओक्स स्कूल शुरुआती पढ़ाई समय हाईअर स्टडीज न्यूयॉर्क फोरडैम यूनिवर्सिटी पढ़ाई रही नव्या नवेली नंदा अक्सर शाहरुख खान बेटे आर्यन खान दोस्ती लेकर चर्चा रहती आर्यन खान नव्या नवेली नंदा स्कूल पढ़ाई\n",
            "Summary:  सारी नंदा Navya Naveli Nanda दोस्ती लेकर सोशल मीडिया में वायरल फोटोज में वायरल फोटोज में वायरल फोटोज में वायरल फोटोज\n",
            "1:  पूरे मामले जांच उत्तर प्रदेश सरकार गठित एसआईटी रही एसआईटी जांच आधार मामले पुलिस आरोपी विधायक कुलदीप सिंह सेंगर खिलाफ मामला दर्ज सकती\n",
            "Summary:  में एसआईटी जांच जांच के आधार मामले जांच के आरोपी विधायक कुलदीप सिंह सेंगर खिलाफ मामला दर्ज सकती हैं एसआईटी जांच के लिए जांच के लिए जांच\n",
            "1:  विवादित इस्लामिक प्रचारक ज़ाकिर नाइक गैर सरकारी संगठन इस्लामिक रिसर्च फाउंडेशन आईआरएफ भारत सरकार शिकंजा कसता नाइक पुछताछ एनआईए पुख्ता सबूत जुटा जल्द समन भेजे जाएंगे एनआईए दावा इस्लामिक उपदेशक एनजीओ रियल एस्टेट करीब 100 करोड़ रुपये निवेश निवेश मुंबई आसपास इलाकों जांच एजेंसी बताया ज़ाकिर 78 बैंक खातों नज़र रखी रही एजेंसी कहना पूरे मामले जांच जारी महीने जांच पूरी लेगी जांच खत्म ज़ाकिर पेश समन भेजा जाएगा बता दें बीते साल नाइक ठिकानों छापेमारी एनआईए नाइक इस्लामिक रिसर्च फाउंडेशन आईआरएफ वेबसाइट्स ब्लॉक अलावा फाउंडेशन खिलाफ दर्ज मामले 10 स्थानों छापेमारी गई टिप्पणियां गृह मंत्रालय मानना नाइक भाषण भारत अनेकता एकता सोच विरुद्ध विचारों समाज बांटने कोशिश मुस्लिम युवाओं विदेशी युवाओं आतंकी बनने प्रेरणा दे फिलहाल प्रवर्तन निदेशालय ईडी ख़िलाफ़ मामला दर्ज एनआईए दावा इस्लामिक उपदेशक एनजीओ रियल एस्टेट करीब 100 करोड़ रुपये निवेश निवेश मुंबई आसपास इलाकों जांच एजेंसी बताया ज़ाकिर 78 बैंक खातों नज़र रखी रही एजेंसी कहना पूरे मामले जांच जारी महीने जांच पूरी लेगी जांच खत्म ज़ाकिर पेश समन भेजा जाएगा बता दें बीते साल नाइक ठिकानों छापेमारी एनआईए नाइक इस्लामिक रिसर्च फाउंडेशन आईआरएफ वेबसाइट्स ब्लॉक अलावा फाउंडेशन खिलाफ दर्ज मामले 10 स्थानों छापेमारी गई टिप्पणियां गृह मंत्रालय मानना नाइक भाषण भारत अनेकता एकता सोच विरुद्ध विचारों समाज बांटने कोशिश मुस्लिम युवाओं विदेशी युवाओं आतंकी बनने प्रेरणा दे फिलहाल प्रवर्तन निदेशालय ईडी ख़िलाफ़ मामला दर्ज बता दें बीते साल नाइक ठिकानों छापेमारी एनआईए नाइक इस्लामिक रिसर्च फाउंडेशन आईआरएफ वेबसाइट्स ब्लॉक अलावा फाउंडेशन खिलाफ दर्ज मामले 10 स्थानों छापेमारी गई टिप्पणियां गृह मंत्रालय मानना नाइक भाषण भारत अनेकता एकता सोच विरुद्ध विचारों समाज बांटने कोशिश मुस्लिम युवाओं विदेशी युवाओं आतंकी बनने प्रेरणा दे फिलहाल प्रवर्तन निदेशालय ईडी ख़िलाफ़ मामला दर्ज गृह मंत्रालय मानना नाइक भाषण भारत अनेकता एकता सोच विरुद्ध विचारों समाज बांटने कोशिश मुस्लिम युवाओं विदेशी युवाओं आतंकी बनने प्रेरणा दे फिलहाल प्रवर्तन निदेशालय ईडी ख़िलाफ़ मामला दर्ज\n",
            "Summary:  करीब 100 करोड़ रुपये निवेश निवेश मुंबई आसपास इलाकों जांच एजेंसी बताया ज़ाकिर नाइक ने कहा ज़ाकिर नाइक\n",
            "1:  राष्ट्रपति प्रतिभा पाटील रविवार सुबह सेशेल्स दक्षिण अफ्रीका नौ दिवसीय दौरे रवाना हुईं. दोनों देशों समकक्षों द्विपक्षीय क्षेत्रीय अंतरराष्ट्रीय मुद्दों विचार विमर्श करेंगी. राष्ट्रपति सेशेल्स दक्षिण अफ्रीका यात्रा पहली बार रही हैं. सेशेल्स राजधानी विक्टोरिया पहुंचेंगी. दौरे दोनों अफ्रीकी देशों द्विपक्षीय व्यापारिक सम्बंधों मजबूत एजेंडे मुख्य रूप शामिल होगा.टिप्पणियां दौरे संचार सूचना प्रौद्योगिकी राज्यमंत्री सचिन पायलट सांसद प्रभा ठाकुर तथा संजय शामराव धोत्रे वरिष्ठ अधिकारी व्यापारियों शिष्टमंडल राष्ट्रपति है. राष्ट्रपति पाटील सेशेल्स मंगलवार दक्षिण अफ्रीका रवाना होंगी. राष्ट्रपति सेशेल्स दक्षिण अफ्रीका यात्रा पहली बार रही हैं. सेशेल्स राजधानी विक्टोरिया पहुंचेंगी. दौरे दोनों अफ्रीकी देशों द्विपक्षीय व्यापारिक सम्बंधों मजबूत एजेंडे मुख्य रूप शामिल होगा.टिप्पणियां दौरे संचार सूचना प्रौद्योगिकी राज्यमंत्री सचिन पायलट सांसद प्रभा ठाकुर तथा संजय शामराव धोत्रे वरिष्ठ अधिकारी व्यापारियों शिष्टमंडल राष्ट्रपति है. राष्ट्रपति पाटील सेशेल्स मंगलवार दक्षिण अफ्रीका रवाना होंगी. दौरे दोनों अफ्रीकी देशों द्विपक्षीय व्यापारिक सम्बंधों मजबूत एजेंडे मुख्य रूप शामिल होगा.टिप्पणियां दौरे संचार सूचना प्रौद्योगिकी राज्यमंत्री सचिन पायलट सांसद प्रभा ठाकुर तथा संजय शामराव धोत्रे वरिष्ठ अधिकारी व्यापारियों शिष्टमंडल राष्ट्रपति है. राष्ट्रपति पाटील सेशेल्स मंगलवार दक्षिण अफ्रीका रवाना होंगी. दौरे संचार सूचना प्रौद्योगिकी राज्यमंत्री सचिन पायलट सांसद प्रभा ठाकुर तथा संजय शामराव धोत्रे वरिष्ठ अधिकारी व्यापारियों शिष्टमंडल राष्ट्रपति है. राष्ट्रपति पाटील सेशेल्स मंगलवार दक्षिण अफ्रीका रवाना होंगी. राष्ट्रपति पाटील सेशेल्स मंगलवार दक्षिण अफ्रीका रवाना होंगी.\n",
            "Summary:  साचिन पायलट सांसद प्रभा ठाकुर तथा संजय शामराव धोत्रे वरिष्ठ अधिकारी व्यापारियों शिष्टमंडल राष्ट्रपति है. दौरे दोनों अफ्रीकी देशों द्विपक्षीय व्यापारिक सम्बंधों मजबूत एजेंडे मुख्य रूप शामिल होगा.\n",
            "1:  उन्होंने क्षेत्रों समस्याओं लेकर केंद्रीय मंत्रियों अधिकारियों मुलाकात समस्याओं समाधान केंद्र सरकार गरीब कल्याण योजनाओं पार्टी कार्यकर्ताओं मिलकर गरीब जनता उसका लाभ ज़्यादा ज़्यादा मिले काम पीएम मोदी सांसदों समय समय क्षेत्र कार्यकर्ताओं मिलकर पार्टी कार्यक्रम रहें प्रधानमंत्री नरेंद्र मोदी आने दिनो प्रकार एससी एसटी महिला युवा सांसदों अलग अलग समूहों मुलाकात करेंगे पीएम मोदी 16वीं लोकसभा दौरान तीन तीन राज्यों लोकसभा राज्यसभा सांसदों मुलाकात\n",
            "Summary:  करेंगे पीएम मोदी ने केंद्रीय मंत्रियों अधिकारियों को मुलाकात करेंगे पीएम मोदी ने केंद्र सरकार के अधिकारियों को मुलाकात करेंगे पीएम मोदी को मुलाकात करेंगे पीएम मोदी\n",
            "1:  Jitne safed baal mere sar aur dhaadi mein hain usse kahin zyada rangeen meri zindagi rahi hain Bharat Bharat_TheFilm aliabbaszafar atulreellife itsBhushanKumar KatrinaKaif Tabu bindasbhidu DishPatani WhoSunilGrover nikhilnamit ReelLifeProdn SKFilmsOfficial TSeriespic twitter com kHaz7kzkXu सलमान खान Salman Khan तस्वीर ट्वीट लिखा जितने सफेद बाल मेरे सिर दाढ़ी उससे ज्यादा कहीं ज्यादा रंगीन मेरी जिंदगी रही सलमान खान कैप्शन तस्वीर शेयर ती तस्वीर अब सोशल मीडिया खूब धूम मचा रही उन्होंने तस्वीर शेयर कैटरीना कैफ दिशा पटानी सुनील ग्रोवर तब्बू अली जफर सितारों टैग इससे फिल्म छोटा सा टीजर रिलीज लोगों खूब पसंद सलमान खान Salman Khan अलावा फिल्म कैटरीना कैफ Katrina Kaif दिशा पटानी Disha Patani सुनील ग्रोवर Sunil Grover तब्बू Tabu सितारें मुख्य भूमिका फिल्म भारत Bharat अली अब्बास जफर डायरेक्ट फेवरिट डायरेक्टर दोनों सुपरहिट फिल्में देते आए बार दोनों नया कोशिश फिल्म लेकर मीडिया रिपोर्ट्स दावा भारत कोरियन फिल् म Ode To My Father हिंदी रीमेक\n",
            "Summary:  साफ तस्वीर शेयर ती तस्वीर शेयर ती तस्वीर शेयर ती तस्वीर शेयर ती तस्वीर शेयर ती तस्वीर शेयर ती तस्वीर ट्वीट लिखा\n"
          ]
        }
      ]
    },
    {
      "cell_type": "code",
      "source": [
        "# Save the model to the local filesystem\n",
        "model.save_pretrained(\"./fine_tuned_model_epoch_5_final\")\n",
        "tokenizer.save_pretrained(\"./fine_tuned_model_epoch_5_final\")\n",
        "\n",
        "# Copy the model files to Google Drive\n",
        "!cp -r ./fine_tuned_model_epoch_5_final /content/drive/MyDrive/"
      ],
      "metadata": {
        "id": "BMs7KmRGDLDM"
      },
      "execution_count": null,
      "outputs": []
    }
  ]
}