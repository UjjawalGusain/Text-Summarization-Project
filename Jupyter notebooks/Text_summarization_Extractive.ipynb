{
  "nbformat": 4,
  "nbformat_minor": 0,
  "metadata": {
    "colab": {
      "provenance": []
    },
    "kernelspec": {
      "name": "python3",
      "display_name": "Python 3"
    },
    "language_info": {
      "name": "python"
    },
    "widgets": {
      "application/vnd.jupyter.widget-state+json": {
        "72112c9148f74861b00c1ed8c1857c2b": {
          "model_module": "@jupyter-widgets/controls",
          "model_name": "HBoxModel",
          "model_module_version": "1.5.0",
          "state": {
            "_dom_classes": [],
            "_model_module": "@jupyter-widgets/controls",
            "_model_module_version": "1.5.0",
            "_model_name": "HBoxModel",
            "_view_count": null,
            "_view_module": "@jupyter-widgets/controls",
            "_view_module_version": "1.5.0",
            "_view_name": "HBoxView",
            "box_style": "",
            "children": [
              "IPY_MODEL_cc8b75f6627d4d4891294fe8dd4b5ee1",
              "IPY_MODEL_39b8eaa1f4434d138d4f1e1783035941",
              "IPY_MODEL_1f040646876742deb8c16a3284bb6469"
            ],
            "layout": "IPY_MODEL_2994cde2a083499a908676c52349f357"
          }
        },
        "cc8b75f6627d4d4891294fe8dd4b5ee1": {
          "model_module": "@jupyter-widgets/controls",
          "model_name": "HTMLModel",
          "model_module_version": "1.5.0",
          "state": {
            "_dom_classes": [],
            "_model_module": "@jupyter-widgets/controls",
            "_model_module_version": "1.5.0",
            "_model_name": "HTMLModel",
            "_view_count": null,
            "_view_module": "@jupyter-widgets/controls",
            "_view_module_version": "1.5.0",
            "_view_name": "HTMLView",
            "description": "",
            "description_tooltip": null,
            "layout": "IPY_MODEL_049bfc0493d543c493e74f40e4c5c160",
            "placeholder": "​",
            "style": "IPY_MODEL_1db67e79291243a2a73c5851b38c246b",
            "value": "tokenizer_config.json: 100%"
          }
        },
        "39b8eaa1f4434d138d4f1e1783035941": {
          "model_module": "@jupyter-widgets/controls",
          "model_name": "FloatProgressModel",
          "model_module_version": "1.5.0",
          "state": {
            "_dom_classes": [],
            "_model_module": "@jupyter-widgets/controls",
            "_model_module_version": "1.5.0",
            "_model_name": "FloatProgressModel",
            "_view_count": null,
            "_view_module": "@jupyter-widgets/controls",
            "_view_module_version": "1.5.0",
            "_view_name": "ProgressView",
            "bar_style": "success",
            "description": "",
            "description_tooltip": null,
            "layout": "IPY_MODEL_449e5f916d8a42ba8506968bc1257a7e",
            "max": 82,
            "min": 0,
            "orientation": "horizontal",
            "style": "IPY_MODEL_d258963364e141ee9c779d7c0b8dbfea",
            "value": 82
          }
        },
        "1f040646876742deb8c16a3284bb6469": {
          "model_module": "@jupyter-widgets/controls",
          "model_name": "HTMLModel",
          "model_module_version": "1.5.0",
          "state": {
            "_dom_classes": [],
            "_model_module": "@jupyter-widgets/controls",
            "_model_module_version": "1.5.0",
            "_model_name": "HTMLModel",
            "_view_count": null,
            "_view_module": "@jupyter-widgets/controls",
            "_view_module_version": "1.5.0",
            "_view_name": "HTMLView",
            "description": "",
            "description_tooltip": null,
            "layout": "IPY_MODEL_1250d2f2cf4c409f9aa904a47a25678b",
            "placeholder": "​",
            "style": "IPY_MODEL_2ea06b17d10842faba6916b4069d734e",
            "value": " 82.0/82.0 [00:00&lt;00:00, 3.09kB/s]"
          }
        },
        "2994cde2a083499a908676c52349f357": {
          "model_module": "@jupyter-widgets/base",
          "model_name": "LayoutModel",
          "model_module_version": "1.2.0",
          "state": {
            "_model_module": "@jupyter-widgets/base",
            "_model_module_version": "1.2.0",
            "_model_name": "LayoutModel",
            "_view_count": null,
            "_view_module": "@jupyter-widgets/base",
            "_view_module_version": "1.2.0",
            "_view_name": "LayoutView",
            "align_content": null,
            "align_items": null,
            "align_self": null,
            "border": null,
            "bottom": null,
            "display": null,
            "flex": null,
            "flex_flow": null,
            "grid_area": null,
            "grid_auto_columns": null,
            "grid_auto_flow": null,
            "grid_auto_rows": null,
            "grid_column": null,
            "grid_gap": null,
            "grid_row": null,
            "grid_template_areas": null,
            "grid_template_columns": null,
            "grid_template_rows": null,
            "height": null,
            "justify_content": null,
            "justify_items": null,
            "left": null,
            "margin": null,
            "max_height": null,
            "max_width": null,
            "min_height": null,
            "min_width": null,
            "object_fit": null,
            "object_position": null,
            "order": null,
            "overflow": null,
            "overflow_x": null,
            "overflow_y": null,
            "padding": null,
            "right": null,
            "top": null,
            "visibility": null,
            "width": null
          }
        },
        "049bfc0493d543c493e74f40e4c5c160": {
          "model_module": "@jupyter-widgets/base",
          "model_name": "LayoutModel",
          "model_module_version": "1.2.0",
          "state": {
            "_model_module": "@jupyter-widgets/base",
            "_model_module_version": "1.2.0",
            "_model_name": "LayoutModel",
            "_view_count": null,
            "_view_module": "@jupyter-widgets/base",
            "_view_module_version": "1.2.0",
            "_view_name": "LayoutView",
            "align_content": null,
            "align_items": null,
            "align_self": null,
            "border": null,
            "bottom": null,
            "display": null,
            "flex": null,
            "flex_flow": null,
            "grid_area": null,
            "grid_auto_columns": null,
            "grid_auto_flow": null,
            "grid_auto_rows": null,
            "grid_column": null,
            "grid_gap": null,
            "grid_row": null,
            "grid_template_areas": null,
            "grid_template_columns": null,
            "grid_template_rows": null,
            "height": null,
            "justify_content": null,
            "justify_items": null,
            "left": null,
            "margin": null,
            "max_height": null,
            "max_width": null,
            "min_height": null,
            "min_width": null,
            "object_fit": null,
            "object_position": null,
            "order": null,
            "overflow": null,
            "overflow_x": null,
            "overflow_y": null,
            "padding": null,
            "right": null,
            "top": null,
            "visibility": null,
            "width": null
          }
        },
        "1db67e79291243a2a73c5851b38c246b": {
          "model_module": "@jupyter-widgets/controls",
          "model_name": "DescriptionStyleModel",
          "model_module_version": "1.5.0",
          "state": {
            "_model_module": "@jupyter-widgets/controls",
            "_model_module_version": "1.5.0",
            "_model_name": "DescriptionStyleModel",
            "_view_count": null,
            "_view_module": "@jupyter-widgets/base",
            "_view_module_version": "1.2.0",
            "_view_name": "StyleView",
            "description_width": ""
          }
        },
        "449e5f916d8a42ba8506968bc1257a7e": {
          "model_module": "@jupyter-widgets/base",
          "model_name": "LayoutModel",
          "model_module_version": "1.2.0",
          "state": {
            "_model_module": "@jupyter-widgets/base",
            "_model_module_version": "1.2.0",
            "_model_name": "LayoutModel",
            "_view_count": null,
            "_view_module": "@jupyter-widgets/base",
            "_view_module_version": "1.2.0",
            "_view_name": "LayoutView",
            "align_content": null,
            "align_items": null,
            "align_self": null,
            "border": null,
            "bottom": null,
            "display": null,
            "flex": null,
            "flex_flow": null,
            "grid_area": null,
            "grid_auto_columns": null,
            "grid_auto_flow": null,
            "grid_auto_rows": null,
            "grid_column": null,
            "grid_gap": null,
            "grid_row": null,
            "grid_template_areas": null,
            "grid_template_columns": null,
            "grid_template_rows": null,
            "height": null,
            "justify_content": null,
            "justify_items": null,
            "left": null,
            "margin": null,
            "max_height": null,
            "max_width": null,
            "min_height": null,
            "min_width": null,
            "object_fit": null,
            "object_position": null,
            "order": null,
            "overflow": null,
            "overflow_x": null,
            "overflow_y": null,
            "padding": null,
            "right": null,
            "top": null,
            "visibility": null,
            "width": null
          }
        },
        "d258963364e141ee9c779d7c0b8dbfea": {
          "model_module": "@jupyter-widgets/controls",
          "model_name": "ProgressStyleModel",
          "model_module_version": "1.5.0",
          "state": {
            "_model_module": "@jupyter-widgets/controls",
            "_model_module_version": "1.5.0",
            "_model_name": "ProgressStyleModel",
            "_view_count": null,
            "_view_module": "@jupyter-widgets/base",
            "_view_module_version": "1.2.0",
            "_view_name": "StyleView",
            "bar_color": null,
            "description_width": ""
          }
        },
        "1250d2f2cf4c409f9aa904a47a25678b": {
          "model_module": "@jupyter-widgets/base",
          "model_name": "LayoutModel",
          "model_module_version": "1.2.0",
          "state": {
            "_model_module": "@jupyter-widgets/base",
            "_model_module_version": "1.2.0",
            "_model_name": "LayoutModel",
            "_view_count": null,
            "_view_module": "@jupyter-widgets/base",
            "_view_module_version": "1.2.0",
            "_view_name": "LayoutView",
            "align_content": null,
            "align_items": null,
            "align_self": null,
            "border": null,
            "bottom": null,
            "display": null,
            "flex": null,
            "flex_flow": null,
            "grid_area": null,
            "grid_auto_columns": null,
            "grid_auto_flow": null,
            "grid_auto_rows": null,
            "grid_column": null,
            "grid_gap": null,
            "grid_row": null,
            "grid_template_areas": null,
            "grid_template_columns": null,
            "grid_template_rows": null,
            "height": null,
            "justify_content": null,
            "justify_items": null,
            "left": null,
            "margin": null,
            "max_height": null,
            "max_width": null,
            "min_height": null,
            "min_width": null,
            "object_fit": null,
            "object_position": null,
            "order": null,
            "overflow": null,
            "overflow_x": null,
            "overflow_y": null,
            "padding": null,
            "right": null,
            "top": null,
            "visibility": null,
            "width": null
          }
        },
        "2ea06b17d10842faba6916b4069d734e": {
          "model_module": "@jupyter-widgets/controls",
          "model_name": "DescriptionStyleModel",
          "model_module_version": "1.5.0",
          "state": {
            "_model_module": "@jupyter-widgets/controls",
            "_model_module_version": "1.5.0",
            "_model_name": "DescriptionStyleModel",
            "_view_count": null,
            "_view_module": "@jupyter-widgets/base",
            "_view_module_version": "1.2.0",
            "_view_name": "StyleView",
            "description_width": ""
          }
        },
        "fd0bd66f25804b44965556f384d9f271": {
          "model_module": "@jupyter-widgets/controls",
          "model_name": "HBoxModel",
          "model_module_version": "1.5.0",
          "state": {
            "_dom_classes": [],
            "_model_module": "@jupyter-widgets/controls",
            "_model_module_version": "1.5.0",
            "_model_name": "HBoxModel",
            "_view_count": null,
            "_view_module": "@jupyter-widgets/controls",
            "_view_module_version": "1.5.0",
            "_view_name": "HBoxView",
            "box_style": "",
            "children": [
              "IPY_MODEL_1547ee6eb1a3460fb9908a6f0e7cb1e2",
              "IPY_MODEL_9583e1ad67ac483dba836e49db14594a",
              "IPY_MODEL_08848ec05e324995b81fc2b793b127de"
            ],
            "layout": "IPY_MODEL_4798186e307046fca185533572021645"
          }
        },
        "1547ee6eb1a3460fb9908a6f0e7cb1e2": {
          "model_module": "@jupyter-widgets/controls",
          "model_name": "HTMLModel",
          "model_module_version": "1.5.0",
          "state": {
            "_dom_classes": [],
            "_model_module": "@jupyter-widgets/controls",
            "_model_module_version": "1.5.0",
            "_model_name": "HTMLModel",
            "_view_count": null,
            "_view_module": "@jupyter-widgets/controls",
            "_view_module_version": "1.5.0",
            "_view_name": "HTMLView",
            "description": "",
            "description_tooltip": null,
            "layout": "IPY_MODEL_b07b5d541d90488ebafbbeb63e749b5d",
            "placeholder": "​",
            "style": "IPY_MODEL_984d2ea68f92445287445b5535952e5a",
            "value": "spiece.model: 100%"
          }
        },
        "9583e1ad67ac483dba836e49db14594a": {
          "model_module": "@jupyter-widgets/controls",
          "model_name": "FloatProgressModel",
          "model_module_version": "1.5.0",
          "state": {
            "_dom_classes": [],
            "_model_module": "@jupyter-widgets/controls",
            "_model_module_version": "1.5.0",
            "_model_name": "FloatProgressModel",
            "_view_count": null,
            "_view_module": "@jupyter-widgets/controls",
            "_view_module_version": "1.5.0",
            "_view_name": "ProgressView",
            "bar_style": "success",
            "description": "",
            "description_tooltip": null,
            "layout": "IPY_MODEL_2eabe437d32e4d8eb1c4e4b7dbef452b",
            "max": 4309802,
            "min": 0,
            "orientation": "horizontal",
            "style": "IPY_MODEL_ac88a795ee18481f8bad37b96903d8aa",
            "value": 4309802
          }
        },
        "08848ec05e324995b81fc2b793b127de": {
          "model_module": "@jupyter-widgets/controls",
          "model_name": "HTMLModel",
          "model_module_version": "1.5.0",
          "state": {
            "_dom_classes": [],
            "_model_module": "@jupyter-widgets/controls",
            "_model_module_version": "1.5.0",
            "_model_name": "HTMLModel",
            "_view_count": null,
            "_view_module": "@jupyter-widgets/controls",
            "_view_module_version": "1.5.0",
            "_view_name": "HTMLView",
            "description": "",
            "description_tooltip": null,
            "layout": "IPY_MODEL_d43c48973a44481bb053e181c611bec8",
            "placeholder": "​",
            "style": "IPY_MODEL_b850148e486341deb189dd867e7ff33b",
            "value": " 4.31M/4.31M [00:00&lt;00:00, 10.3MB/s]"
          }
        },
        "4798186e307046fca185533572021645": {
          "model_module": "@jupyter-widgets/base",
          "model_name": "LayoutModel",
          "model_module_version": "1.2.0",
          "state": {
            "_model_module": "@jupyter-widgets/base",
            "_model_module_version": "1.2.0",
            "_model_name": "LayoutModel",
            "_view_count": null,
            "_view_module": "@jupyter-widgets/base",
            "_view_module_version": "1.2.0",
            "_view_name": "LayoutView",
            "align_content": null,
            "align_items": null,
            "align_self": null,
            "border": null,
            "bottom": null,
            "display": null,
            "flex": null,
            "flex_flow": null,
            "grid_area": null,
            "grid_auto_columns": null,
            "grid_auto_flow": null,
            "grid_auto_rows": null,
            "grid_column": null,
            "grid_gap": null,
            "grid_row": null,
            "grid_template_areas": null,
            "grid_template_columns": null,
            "grid_template_rows": null,
            "height": null,
            "justify_content": null,
            "justify_items": null,
            "left": null,
            "margin": null,
            "max_height": null,
            "max_width": null,
            "min_height": null,
            "min_width": null,
            "object_fit": null,
            "object_position": null,
            "order": null,
            "overflow": null,
            "overflow_x": null,
            "overflow_y": null,
            "padding": null,
            "right": null,
            "top": null,
            "visibility": null,
            "width": null
          }
        },
        "b07b5d541d90488ebafbbeb63e749b5d": {
          "model_module": "@jupyter-widgets/base",
          "model_name": "LayoutModel",
          "model_module_version": "1.2.0",
          "state": {
            "_model_module": "@jupyter-widgets/base",
            "_model_module_version": "1.2.0",
            "_model_name": "LayoutModel",
            "_view_count": null,
            "_view_module": "@jupyter-widgets/base",
            "_view_module_version": "1.2.0",
            "_view_name": "LayoutView",
            "align_content": null,
            "align_items": null,
            "align_self": null,
            "border": null,
            "bottom": null,
            "display": null,
            "flex": null,
            "flex_flow": null,
            "grid_area": null,
            "grid_auto_columns": null,
            "grid_auto_flow": null,
            "grid_auto_rows": null,
            "grid_column": null,
            "grid_gap": null,
            "grid_row": null,
            "grid_template_areas": null,
            "grid_template_columns": null,
            "grid_template_rows": null,
            "height": null,
            "justify_content": null,
            "justify_items": null,
            "left": null,
            "margin": null,
            "max_height": null,
            "max_width": null,
            "min_height": null,
            "min_width": null,
            "object_fit": null,
            "object_position": null,
            "order": null,
            "overflow": null,
            "overflow_x": null,
            "overflow_y": null,
            "padding": null,
            "right": null,
            "top": null,
            "visibility": null,
            "width": null
          }
        },
        "984d2ea68f92445287445b5535952e5a": {
          "model_module": "@jupyter-widgets/controls",
          "model_name": "DescriptionStyleModel",
          "model_module_version": "1.5.0",
          "state": {
            "_model_module": "@jupyter-widgets/controls",
            "_model_module_version": "1.5.0",
            "_model_name": "DescriptionStyleModel",
            "_view_count": null,
            "_view_module": "@jupyter-widgets/base",
            "_view_module_version": "1.2.0",
            "_view_name": "StyleView",
            "description_width": ""
          }
        },
        "2eabe437d32e4d8eb1c4e4b7dbef452b": {
          "model_module": "@jupyter-widgets/base",
          "model_name": "LayoutModel",
          "model_module_version": "1.2.0",
          "state": {
            "_model_module": "@jupyter-widgets/base",
            "_model_module_version": "1.2.0",
            "_model_name": "LayoutModel",
            "_view_count": null,
            "_view_module": "@jupyter-widgets/base",
            "_view_module_version": "1.2.0",
            "_view_name": "LayoutView",
            "align_content": null,
            "align_items": null,
            "align_self": null,
            "border": null,
            "bottom": null,
            "display": null,
            "flex": null,
            "flex_flow": null,
            "grid_area": null,
            "grid_auto_columns": null,
            "grid_auto_flow": null,
            "grid_auto_rows": null,
            "grid_column": null,
            "grid_gap": null,
            "grid_row": null,
            "grid_template_areas": null,
            "grid_template_columns": null,
            "grid_template_rows": null,
            "height": null,
            "justify_content": null,
            "justify_items": null,
            "left": null,
            "margin": null,
            "max_height": null,
            "max_width": null,
            "min_height": null,
            "min_width": null,
            "object_fit": null,
            "object_position": null,
            "order": null,
            "overflow": null,
            "overflow_x": null,
            "overflow_y": null,
            "padding": null,
            "right": null,
            "top": null,
            "visibility": null,
            "width": null
          }
        },
        "ac88a795ee18481f8bad37b96903d8aa": {
          "model_module": "@jupyter-widgets/controls",
          "model_name": "ProgressStyleModel",
          "model_module_version": "1.5.0",
          "state": {
            "_model_module": "@jupyter-widgets/controls",
            "_model_module_version": "1.5.0",
            "_model_name": "ProgressStyleModel",
            "_view_count": null,
            "_view_module": "@jupyter-widgets/base",
            "_view_module_version": "1.2.0",
            "_view_name": "StyleView",
            "bar_color": null,
            "description_width": ""
          }
        },
        "d43c48973a44481bb053e181c611bec8": {
          "model_module": "@jupyter-widgets/base",
          "model_name": "LayoutModel",
          "model_module_version": "1.2.0",
          "state": {
            "_model_module": "@jupyter-widgets/base",
            "_model_module_version": "1.2.0",
            "_model_name": "LayoutModel",
            "_view_count": null,
            "_view_module": "@jupyter-widgets/base",
            "_view_module_version": "1.2.0",
            "_view_name": "LayoutView",
            "align_content": null,
            "align_items": null,
            "align_self": null,
            "border": null,
            "bottom": null,
            "display": null,
            "flex": null,
            "flex_flow": null,
            "grid_area": null,
            "grid_auto_columns": null,
            "grid_auto_flow": null,
            "grid_auto_rows": null,
            "grid_column": null,
            "grid_gap": null,
            "grid_row": null,
            "grid_template_areas": null,
            "grid_template_columns": null,
            "grid_template_rows": null,
            "height": null,
            "justify_content": null,
            "justify_items": null,
            "left": null,
            "margin": null,
            "max_height": null,
            "max_width": null,
            "min_height": null,
            "min_width": null,
            "object_fit": null,
            "object_position": null,
            "order": null,
            "overflow": null,
            "overflow_x": null,
            "overflow_y": null,
            "padding": null,
            "right": null,
            "top": null,
            "visibility": null,
            "width": null
          }
        },
        "b850148e486341deb189dd867e7ff33b": {
          "model_module": "@jupyter-widgets/controls",
          "model_name": "DescriptionStyleModel",
          "model_module_version": "1.5.0",
          "state": {
            "_model_module": "@jupyter-widgets/controls",
            "_model_module_version": "1.5.0",
            "_model_name": "DescriptionStyleModel",
            "_view_count": null,
            "_view_module": "@jupyter-widgets/base",
            "_view_module_version": "1.2.0",
            "_view_name": "StyleView",
            "description_width": ""
          }
        },
        "66dc0a2fd04046f2ba5e53c2196c2b31": {
          "model_module": "@jupyter-widgets/controls",
          "model_name": "HBoxModel",
          "model_module_version": "1.5.0",
          "state": {
            "_dom_classes": [],
            "_model_module": "@jupyter-widgets/controls",
            "_model_module_version": "1.5.0",
            "_model_name": "HBoxModel",
            "_view_count": null,
            "_view_module": "@jupyter-widgets/controls",
            "_view_module_version": "1.5.0",
            "_view_name": "HBoxView",
            "box_style": "",
            "children": [
              "IPY_MODEL_32725718c31742c49c074a3df685c749",
              "IPY_MODEL_da819a795fab490b8ac23b496bbf773f",
              "IPY_MODEL_c45941fedb374b3f8f06344ffd44c4ac"
            ],
            "layout": "IPY_MODEL_9bad222edb2e4a18a29b53feada3b3fc"
          }
        },
        "32725718c31742c49c074a3df685c749": {
          "model_module": "@jupyter-widgets/controls",
          "model_name": "HTMLModel",
          "model_module_version": "1.5.0",
          "state": {
            "_dom_classes": [],
            "_model_module": "@jupyter-widgets/controls",
            "_model_module_version": "1.5.0",
            "_model_name": "HTMLModel",
            "_view_count": null,
            "_view_module": "@jupyter-widgets/controls",
            "_view_module_version": "1.5.0",
            "_view_name": "HTMLView",
            "description": "",
            "description_tooltip": null,
            "layout": "IPY_MODEL_5ce62fd0ab2a4b53a0b098c3868d64d1",
            "placeholder": "​",
            "style": "IPY_MODEL_c74bb1950e684ac1a3aa161246fd18ec",
            "value": "special_tokens_map.json: 100%"
          }
        },
        "da819a795fab490b8ac23b496bbf773f": {
          "model_module": "@jupyter-widgets/controls",
          "model_name": "FloatProgressModel",
          "model_module_version": "1.5.0",
          "state": {
            "_dom_classes": [],
            "_model_module": "@jupyter-widgets/controls",
            "_model_module_version": "1.5.0",
            "_model_name": "FloatProgressModel",
            "_view_count": null,
            "_view_module": "@jupyter-widgets/controls",
            "_view_module_version": "1.5.0",
            "_view_name": "ProgressView",
            "bar_style": "success",
            "description": "",
            "description_tooltip": null,
            "layout": "IPY_MODEL_8f5a0336e6bf4003b14eb87071d2e343",
            "max": 99,
            "min": 0,
            "orientation": "horizontal",
            "style": "IPY_MODEL_099c0bb60298459e9cce807d3ab23edb",
            "value": 99
          }
        },
        "c45941fedb374b3f8f06344ffd44c4ac": {
          "model_module": "@jupyter-widgets/controls",
          "model_name": "HTMLModel",
          "model_module_version": "1.5.0",
          "state": {
            "_dom_classes": [],
            "_model_module": "@jupyter-widgets/controls",
            "_model_module_version": "1.5.0",
            "_model_name": "HTMLModel",
            "_view_count": null,
            "_view_module": "@jupyter-widgets/controls",
            "_view_module_version": "1.5.0",
            "_view_name": "HTMLView",
            "description": "",
            "description_tooltip": null,
            "layout": "IPY_MODEL_5aea9c567b9b4691b3380e070ac7a495",
            "placeholder": "​",
            "style": "IPY_MODEL_07789944a4ff4f59b8ecfa4e32bd1065",
            "value": " 99.0/99.0 [00:00&lt;00:00, 3.72kB/s]"
          }
        },
        "9bad222edb2e4a18a29b53feada3b3fc": {
          "model_module": "@jupyter-widgets/base",
          "model_name": "LayoutModel",
          "model_module_version": "1.2.0",
          "state": {
            "_model_module": "@jupyter-widgets/base",
            "_model_module_version": "1.2.0",
            "_model_name": "LayoutModel",
            "_view_count": null,
            "_view_module": "@jupyter-widgets/base",
            "_view_module_version": "1.2.0",
            "_view_name": "LayoutView",
            "align_content": null,
            "align_items": null,
            "align_self": null,
            "border": null,
            "bottom": null,
            "display": null,
            "flex": null,
            "flex_flow": null,
            "grid_area": null,
            "grid_auto_columns": null,
            "grid_auto_flow": null,
            "grid_auto_rows": null,
            "grid_column": null,
            "grid_gap": null,
            "grid_row": null,
            "grid_template_areas": null,
            "grid_template_columns": null,
            "grid_template_rows": null,
            "height": null,
            "justify_content": null,
            "justify_items": null,
            "left": null,
            "margin": null,
            "max_height": null,
            "max_width": null,
            "min_height": null,
            "min_width": null,
            "object_fit": null,
            "object_position": null,
            "order": null,
            "overflow": null,
            "overflow_x": null,
            "overflow_y": null,
            "padding": null,
            "right": null,
            "top": null,
            "visibility": null,
            "width": null
          }
        },
        "5ce62fd0ab2a4b53a0b098c3868d64d1": {
          "model_module": "@jupyter-widgets/base",
          "model_name": "LayoutModel",
          "model_module_version": "1.2.0",
          "state": {
            "_model_module": "@jupyter-widgets/base",
            "_model_module_version": "1.2.0",
            "_model_name": "LayoutModel",
            "_view_count": null,
            "_view_module": "@jupyter-widgets/base",
            "_view_module_version": "1.2.0",
            "_view_name": "LayoutView",
            "align_content": null,
            "align_items": null,
            "align_self": null,
            "border": null,
            "bottom": null,
            "display": null,
            "flex": null,
            "flex_flow": null,
            "grid_area": null,
            "grid_auto_columns": null,
            "grid_auto_flow": null,
            "grid_auto_rows": null,
            "grid_column": null,
            "grid_gap": null,
            "grid_row": null,
            "grid_template_areas": null,
            "grid_template_columns": null,
            "grid_template_rows": null,
            "height": null,
            "justify_content": null,
            "justify_items": null,
            "left": null,
            "margin": null,
            "max_height": null,
            "max_width": null,
            "min_height": null,
            "min_width": null,
            "object_fit": null,
            "object_position": null,
            "order": null,
            "overflow": null,
            "overflow_x": null,
            "overflow_y": null,
            "padding": null,
            "right": null,
            "top": null,
            "visibility": null,
            "width": null
          }
        },
        "c74bb1950e684ac1a3aa161246fd18ec": {
          "model_module": "@jupyter-widgets/controls",
          "model_name": "DescriptionStyleModel",
          "model_module_version": "1.5.0",
          "state": {
            "_model_module": "@jupyter-widgets/controls",
            "_model_module_version": "1.5.0",
            "_model_name": "DescriptionStyleModel",
            "_view_count": null,
            "_view_module": "@jupyter-widgets/base",
            "_view_module_version": "1.2.0",
            "_view_name": "StyleView",
            "description_width": ""
          }
        },
        "8f5a0336e6bf4003b14eb87071d2e343": {
          "model_module": "@jupyter-widgets/base",
          "model_name": "LayoutModel",
          "model_module_version": "1.2.0",
          "state": {
            "_model_module": "@jupyter-widgets/base",
            "_model_module_version": "1.2.0",
            "_model_name": "LayoutModel",
            "_view_count": null,
            "_view_module": "@jupyter-widgets/base",
            "_view_module_version": "1.2.0",
            "_view_name": "LayoutView",
            "align_content": null,
            "align_items": null,
            "align_self": null,
            "border": null,
            "bottom": null,
            "display": null,
            "flex": null,
            "flex_flow": null,
            "grid_area": null,
            "grid_auto_columns": null,
            "grid_auto_flow": null,
            "grid_auto_rows": null,
            "grid_column": null,
            "grid_gap": null,
            "grid_row": null,
            "grid_template_areas": null,
            "grid_template_columns": null,
            "grid_template_rows": null,
            "height": null,
            "justify_content": null,
            "justify_items": null,
            "left": null,
            "margin": null,
            "max_height": null,
            "max_width": null,
            "min_height": null,
            "min_width": null,
            "object_fit": null,
            "object_position": null,
            "order": null,
            "overflow": null,
            "overflow_x": null,
            "overflow_y": null,
            "padding": null,
            "right": null,
            "top": null,
            "visibility": null,
            "width": null
          }
        },
        "099c0bb60298459e9cce807d3ab23edb": {
          "model_module": "@jupyter-widgets/controls",
          "model_name": "ProgressStyleModel",
          "model_module_version": "1.5.0",
          "state": {
            "_model_module": "@jupyter-widgets/controls",
            "_model_module_version": "1.5.0",
            "_model_name": "ProgressStyleModel",
            "_view_count": null,
            "_view_module": "@jupyter-widgets/base",
            "_view_module_version": "1.2.0",
            "_view_name": "StyleView",
            "bar_color": null,
            "description_width": ""
          }
        },
        "5aea9c567b9b4691b3380e070ac7a495": {
          "model_module": "@jupyter-widgets/base",
          "model_name": "LayoutModel",
          "model_module_version": "1.2.0",
          "state": {
            "_model_module": "@jupyter-widgets/base",
            "_model_module_version": "1.2.0",
            "_model_name": "LayoutModel",
            "_view_count": null,
            "_view_module": "@jupyter-widgets/base",
            "_view_module_version": "1.2.0",
            "_view_name": "LayoutView",
            "align_content": null,
            "align_items": null,
            "align_self": null,
            "border": null,
            "bottom": null,
            "display": null,
            "flex": null,
            "flex_flow": null,
            "grid_area": null,
            "grid_auto_columns": null,
            "grid_auto_flow": null,
            "grid_auto_rows": null,
            "grid_column": null,
            "grid_gap": null,
            "grid_row": null,
            "grid_template_areas": null,
            "grid_template_columns": null,
            "grid_template_rows": null,
            "height": null,
            "justify_content": null,
            "justify_items": null,
            "left": null,
            "margin": null,
            "max_height": null,
            "max_width": null,
            "min_height": null,
            "min_width": null,
            "object_fit": null,
            "object_position": null,
            "order": null,
            "overflow": null,
            "overflow_x": null,
            "overflow_y": null,
            "padding": null,
            "right": null,
            "top": null,
            "visibility": null,
            "width": null
          }
        },
        "07789944a4ff4f59b8ecfa4e32bd1065": {
          "model_module": "@jupyter-widgets/controls",
          "model_name": "DescriptionStyleModel",
          "model_module_version": "1.5.0",
          "state": {
            "_model_module": "@jupyter-widgets/controls",
            "_model_module_version": "1.5.0",
            "_model_name": "DescriptionStyleModel",
            "_view_count": null,
            "_view_module": "@jupyter-widgets/base",
            "_view_module_version": "1.2.0",
            "_view_name": "StyleView",
            "description_width": ""
          }
        },
        "920691db051b46e6b1ee73787d7a9acf": {
          "model_module": "@jupyter-widgets/controls",
          "model_name": "HBoxModel",
          "model_module_version": "1.5.0",
          "state": {
            "_dom_classes": [],
            "_model_module": "@jupyter-widgets/controls",
            "_model_module_version": "1.5.0",
            "_model_name": "HBoxModel",
            "_view_count": null,
            "_view_module": "@jupyter-widgets/controls",
            "_view_module_version": "1.5.0",
            "_view_name": "HBoxView",
            "box_style": "",
            "children": [
              "IPY_MODEL_edf46f9e5a144e038532960ac94bbbed",
              "IPY_MODEL_f9b0829c06f9430b8ad30d91fcde3f26",
              "IPY_MODEL_7946d0adcaf448868ac577e25bf8a09a"
            ],
            "layout": "IPY_MODEL_dcc3d183a7514ef2a67800f987909837"
          }
        },
        "edf46f9e5a144e038532960ac94bbbed": {
          "model_module": "@jupyter-widgets/controls",
          "model_name": "HTMLModel",
          "model_module_version": "1.5.0",
          "state": {
            "_dom_classes": [],
            "_model_module": "@jupyter-widgets/controls",
            "_model_module_version": "1.5.0",
            "_model_name": "HTMLModel",
            "_view_count": null,
            "_view_module": "@jupyter-widgets/controls",
            "_view_module_version": "1.5.0",
            "_view_name": "HTMLView",
            "description": "",
            "description_tooltip": null,
            "layout": "IPY_MODEL_866b6727f0f844c1822742c6cac19add",
            "placeholder": "​",
            "style": "IPY_MODEL_185cea9a346745a69d69e97520527fdd",
            "value": "config.json: 100%"
          }
        },
        "f9b0829c06f9430b8ad30d91fcde3f26": {
          "model_module": "@jupyter-widgets/controls",
          "model_name": "FloatProgressModel",
          "model_module_version": "1.5.0",
          "state": {
            "_dom_classes": [],
            "_model_module": "@jupyter-widgets/controls",
            "_model_module_version": "1.5.0",
            "_model_name": "FloatProgressModel",
            "_view_count": null,
            "_view_module": "@jupyter-widgets/controls",
            "_view_module_version": "1.5.0",
            "_view_name": "ProgressView",
            "bar_style": "success",
            "description": "",
            "description_tooltip": null,
            "layout": "IPY_MODEL_088bffc0e8034f08b4a484837c3a3456",
            "max": 553,
            "min": 0,
            "orientation": "horizontal",
            "style": "IPY_MODEL_d6fdf3568b54463c8b67e6db70090ded",
            "value": 553
          }
        },
        "7946d0adcaf448868ac577e25bf8a09a": {
          "model_module": "@jupyter-widgets/controls",
          "model_name": "HTMLModel",
          "model_module_version": "1.5.0",
          "state": {
            "_dom_classes": [],
            "_model_module": "@jupyter-widgets/controls",
            "_model_module_version": "1.5.0",
            "_model_name": "HTMLModel",
            "_view_count": null,
            "_view_module": "@jupyter-widgets/controls",
            "_view_module_version": "1.5.0",
            "_view_name": "HTMLView",
            "description": "",
            "description_tooltip": null,
            "layout": "IPY_MODEL_87fd438fefac4f349c991642b79f978e",
            "placeholder": "​",
            "style": "IPY_MODEL_12d20043176c4badb7611f96fe57999d",
            "value": " 553/553 [00:00&lt;00:00, 12.5kB/s]"
          }
        },
        "dcc3d183a7514ef2a67800f987909837": {
          "model_module": "@jupyter-widgets/base",
          "model_name": "LayoutModel",
          "model_module_version": "1.2.0",
          "state": {
            "_model_module": "@jupyter-widgets/base",
            "_model_module_version": "1.2.0",
            "_model_name": "LayoutModel",
            "_view_count": null,
            "_view_module": "@jupyter-widgets/base",
            "_view_module_version": "1.2.0",
            "_view_name": "LayoutView",
            "align_content": null,
            "align_items": null,
            "align_self": null,
            "border": null,
            "bottom": null,
            "display": null,
            "flex": null,
            "flex_flow": null,
            "grid_area": null,
            "grid_auto_columns": null,
            "grid_auto_flow": null,
            "grid_auto_rows": null,
            "grid_column": null,
            "grid_gap": null,
            "grid_row": null,
            "grid_template_areas": null,
            "grid_template_columns": null,
            "grid_template_rows": null,
            "height": null,
            "justify_content": null,
            "justify_items": null,
            "left": null,
            "margin": null,
            "max_height": null,
            "max_width": null,
            "min_height": null,
            "min_width": null,
            "object_fit": null,
            "object_position": null,
            "order": null,
            "overflow": null,
            "overflow_x": null,
            "overflow_y": null,
            "padding": null,
            "right": null,
            "top": null,
            "visibility": null,
            "width": null
          }
        },
        "866b6727f0f844c1822742c6cac19add": {
          "model_module": "@jupyter-widgets/base",
          "model_name": "LayoutModel",
          "model_module_version": "1.2.0",
          "state": {
            "_model_module": "@jupyter-widgets/base",
            "_model_module_version": "1.2.0",
            "_model_name": "LayoutModel",
            "_view_count": null,
            "_view_module": "@jupyter-widgets/base",
            "_view_module_version": "1.2.0",
            "_view_name": "LayoutView",
            "align_content": null,
            "align_items": null,
            "align_self": null,
            "border": null,
            "bottom": null,
            "display": null,
            "flex": null,
            "flex_flow": null,
            "grid_area": null,
            "grid_auto_columns": null,
            "grid_auto_flow": null,
            "grid_auto_rows": null,
            "grid_column": null,
            "grid_gap": null,
            "grid_row": null,
            "grid_template_areas": null,
            "grid_template_columns": null,
            "grid_template_rows": null,
            "height": null,
            "justify_content": null,
            "justify_items": null,
            "left": null,
            "margin": null,
            "max_height": null,
            "max_width": null,
            "min_height": null,
            "min_width": null,
            "object_fit": null,
            "object_position": null,
            "order": null,
            "overflow": null,
            "overflow_x": null,
            "overflow_y": null,
            "padding": null,
            "right": null,
            "top": null,
            "visibility": null,
            "width": null
          }
        },
        "185cea9a346745a69d69e97520527fdd": {
          "model_module": "@jupyter-widgets/controls",
          "model_name": "DescriptionStyleModel",
          "model_module_version": "1.5.0",
          "state": {
            "_model_module": "@jupyter-widgets/controls",
            "_model_module_version": "1.5.0",
            "_model_name": "DescriptionStyleModel",
            "_view_count": null,
            "_view_module": "@jupyter-widgets/base",
            "_view_module_version": "1.2.0",
            "_view_name": "StyleView",
            "description_width": ""
          }
        },
        "088bffc0e8034f08b4a484837c3a3456": {
          "model_module": "@jupyter-widgets/base",
          "model_name": "LayoutModel",
          "model_module_version": "1.2.0",
          "state": {
            "_model_module": "@jupyter-widgets/base",
            "_model_module_version": "1.2.0",
            "_model_name": "LayoutModel",
            "_view_count": null,
            "_view_module": "@jupyter-widgets/base",
            "_view_module_version": "1.2.0",
            "_view_name": "LayoutView",
            "align_content": null,
            "align_items": null,
            "align_self": null,
            "border": null,
            "bottom": null,
            "display": null,
            "flex": null,
            "flex_flow": null,
            "grid_area": null,
            "grid_auto_columns": null,
            "grid_auto_flow": null,
            "grid_auto_rows": null,
            "grid_column": null,
            "grid_gap": null,
            "grid_row": null,
            "grid_template_areas": null,
            "grid_template_columns": null,
            "grid_template_rows": null,
            "height": null,
            "justify_content": null,
            "justify_items": null,
            "left": null,
            "margin": null,
            "max_height": null,
            "max_width": null,
            "min_height": null,
            "min_width": null,
            "object_fit": null,
            "object_position": null,
            "order": null,
            "overflow": null,
            "overflow_x": null,
            "overflow_y": null,
            "padding": null,
            "right": null,
            "top": null,
            "visibility": null,
            "width": null
          }
        },
        "d6fdf3568b54463c8b67e6db70090ded": {
          "model_module": "@jupyter-widgets/controls",
          "model_name": "ProgressStyleModel",
          "model_module_version": "1.5.0",
          "state": {
            "_model_module": "@jupyter-widgets/controls",
            "_model_module_version": "1.5.0",
            "_model_name": "ProgressStyleModel",
            "_view_count": null,
            "_view_module": "@jupyter-widgets/base",
            "_view_module_version": "1.2.0",
            "_view_name": "StyleView",
            "bar_color": null,
            "description_width": ""
          }
        },
        "87fd438fefac4f349c991642b79f978e": {
          "model_module": "@jupyter-widgets/base",
          "model_name": "LayoutModel",
          "model_module_version": "1.2.0",
          "state": {
            "_model_module": "@jupyter-widgets/base",
            "_model_module_version": "1.2.0",
            "_model_name": "LayoutModel",
            "_view_count": null,
            "_view_module": "@jupyter-widgets/base",
            "_view_module_version": "1.2.0",
            "_view_name": "LayoutView",
            "align_content": null,
            "align_items": null,
            "align_self": null,
            "border": null,
            "bottom": null,
            "display": null,
            "flex": null,
            "flex_flow": null,
            "grid_area": null,
            "grid_auto_columns": null,
            "grid_auto_flow": null,
            "grid_auto_rows": null,
            "grid_column": null,
            "grid_gap": null,
            "grid_row": null,
            "grid_template_areas": null,
            "grid_template_columns": null,
            "grid_template_rows": null,
            "height": null,
            "justify_content": null,
            "justify_items": null,
            "left": null,
            "margin": null,
            "max_height": null,
            "max_width": null,
            "min_height": null,
            "min_width": null,
            "object_fit": null,
            "object_position": null,
            "order": null,
            "overflow": null,
            "overflow_x": null,
            "overflow_y": null,
            "padding": null,
            "right": null,
            "top": null,
            "visibility": null,
            "width": null
          }
        },
        "12d20043176c4badb7611f96fe57999d": {
          "model_module": "@jupyter-widgets/controls",
          "model_name": "DescriptionStyleModel",
          "model_module_version": "1.5.0",
          "state": {
            "_model_module": "@jupyter-widgets/controls",
            "_model_module_version": "1.5.0",
            "_model_name": "DescriptionStyleModel",
            "_view_count": null,
            "_view_module": "@jupyter-widgets/base",
            "_view_module_version": "1.2.0",
            "_view_name": "StyleView",
            "description_width": ""
          }
        },
        "c0726bdd4d084207b1df5a50b27cecbd": {
          "model_module": "@jupyter-widgets/controls",
          "model_name": "HBoxModel",
          "model_module_version": "1.5.0",
          "state": {
            "_dom_classes": [],
            "_model_module": "@jupyter-widgets/controls",
            "_model_module_version": "1.5.0",
            "_model_name": "HBoxModel",
            "_view_count": null,
            "_view_module": "@jupyter-widgets/controls",
            "_view_module_version": "1.5.0",
            "_view_name": "HBoxView",
            "box_style": "",
            "children": [
              "IPY_MODEL_5a279b36c88f4c06aba5bd4b67c15935",
              "IPY_MODEL_18fe229218d9430fa2a784412a865332",
              "IPY_MODEL_38137decec3e46d88b8658a0aef717f2"
            ],
            "layout": "IPY_MODEL_e9bef515fa0a432a80dacd7082b325ed"
          }
        },
        "5a279b36c88f4c06aba5bd4b67c15935": {
          "model_module": "@jupyter-widgets/controls",
          "model_name": "HTMLModel",
          "model_module_version": "1.5.0",
          "state": {
            "_dom_classes": [],
            "_model_module": "@jupyter-widgets/controls",
            "_model_module_version": "1.5.0",
            "_model_name": "HTMLModel",
            "_view_count": null,
            "_view_module": "@jupyter-widgets/controls",
            "_view_module_version": "1.5.0",
            "_view_name": "HTMLView",
            "description": "",
            "description_tooltip": null,
            "layout": "IPY_MODEL_6e5ced90f9ba40c3adee867f8cecf609",
            "placeholder": "​",
            "style": "IPY_MODEL_78ad603054594d858ca34fc22cdf5ee2",
            "value": "pytorch_model.bin: 100%"
          }
        },
        "18fe229218d9430fa2a784412a865332": {
          "model_module": "@jupyter-widgets/controls",
          "model_name": "FloatProgressModel",
          "model_module_version": "1.5.0",
          "state": {
            "_dom_classes": [],
            "_model_module": "@jupyter-widgets/controls",
            "_model_module_version": "1.5.0",
            "_model_name": "FloatProgressModel",
            "_view_count": null,
            "_view_module": "@jupyter-widgets/controls",
            "_view_module_version": "1.5.0",
            "_view_name": "ProgressView",
            "bar_style": "success",
            "description": "",
            "description_tooltip": null,
            "layout": "IPY_MODEL_73b26b629d58438e92f0ebd91f1ae9dd",
            "max": 1200794589,
            "min": 0,
            "orientation": "horizontal",
            "style": "IPY_MODEL_763f66b8b0514271895699984862dfb7",
            "value": 1200794589
          }
        },
        "38137decec3e46d88b8658a0aef717f2": {
          "model_module": "@jupyter-widgets/controls",
          "model_name": "HTMLModel",
          "model_module_version": "1.5.0",
          "state": {
            "_dom_classes": [],
            "_model_module": "@jupyter-widgets/controls",
            "_model_module_version": "1.5.0",
            "_model_name": "HTMLModel",
            "_view_count": null,
            "_view_module": "@jupyter-widgets/controls",
            "_view_module_version": "1.5.0",
            "_view_name": "HTMLView",
            "description": "",
            "description_tooltip": null,
            "layout": "IPY_MODEL_d966bd0c38704787955dbb4f556222d7",
            "placeholder": "​",
            "style": "IPY_MODEL_d028e17f386d468f8d1015ddc833b89a",
            "value": " 1.20G/1.20G [00:14&lt;00:00, 139MB/s]"
          }
        },
        "e9bef515fa0a432a80dacd7082b325ed": {
          "model_module": "@jupyter-widgets/base",
          "model_name": "LayoutModel",
          "model_module_version": "1.2.0",
          "state": {
            "_model_module": "@jupyter-widgets/base",
            "_model_module_version": "1.2.0",
            "_model_name": "LayoutModel",
            "_view_count": null,
            "_view_module": "@jupyter-widgets/base",
            "_view_module_version": "1.2.0",
            "_view_name": "LayoutView",
            "align_content": null,
            "align_items": null,
            "align_self": null,
            "border": null,
            "bottom": null,
            "display": null,
            "flex": null,
            "flex_flow": null,
            "grid_area": null,
            "grid_auto_columns": null,
            "grid_auto_flow": null,
            "grid_auto_rows": null,
            "grid_column": null,
            "grid_gap": null,
            "grid_row": null,
            "grid_template_areas": null,
            "grid_template_columns": null,
            "grid_template_rows": null,
            "height": null,
            "justify_content": null,
            "justify_items": null,
            "left": null,
            "margin": null,
            "max_height": null,
            "max_width": null,
            "min_height": null,
            "min_width": null,
            "object_fit": null,
            "object_position": null,
            "order": null,
            "overflow": null,
            "overflow_x": null,
            "overflow_y": null,
            "padding": null,
            "right": null,
            "top": null,
            "visibility": null,
            "width": null
          }
        },
        "6e5ced90f9ba40c3adee867f8cecf609": {
          "model_module": "@jupyter-widgets/base",
          "model_name": "LayoutModel",
          "model_module_version": "1.2.0",
          "state": {
            "_model_module": "@jupyter-widgets/base",
            "_model_module_version": "1.2.0",
            "_model_name": "LayoutModel",
            "_view_count": null,
            "_view_module": "@jupyter-widgets/base",
            "_view_module_version": "1.2.0",
            "_view_name": "LayoutView",
            "align_content": null,
            "align_items": null,
            "align_self": null,
            "border": null,
            "bottom": null,
            "display": null,
            "flex": null,
            "flex_flow": null,
            "grid_area": null,
            "grid_auto_columns": null,
            "grid_auto_flow": null,
            "grid_auto_rows": null,
            "grid_column": null,
            "grid_gap": null,
            "grid_row": null,
            "grid_template_areas": null,
            "grid_template_columns": null,
            "grid_template_rows": null,
            "height": null,
            "justify_content": null,
            "justify_items": null,
            "left": null,
            "margin": null,
            "max_height": null,
            "max_width": null,
            "min_height": null,
            "min_width": null,
            "object_fit": null,
            "object_position": null,
            "order": null,
            "overflow": null,
            "overflow_x": null,
            "overflow_y": null,
            "padding": null,
            "right": null,
            "top": null,
            "visibility": null,
            "width": null
          }
        },
        "78ad603054594d858ca34fc22cdf5ee2": {
          "model_module": "@jupyter-widgets/controls",
          "model_name": "DescriptionStyleModel",
          "model_module_version": "1.5.0",
          "state": {
            "_model_module": "@jupyter-widgets/controls",
            "_model_module_version": "1.5.0",
            "_model_name": "DescriptionStyleModel",
            "_view_count": null,
            "_view_module": "@jupyter-widgets/base",
            "_view_module_version": "1.2.0",
            "_view_name": "StyleView",
            "description_width": ""
          }
        },
        "73b26b629d58438e92f0ebd91f1ae9dd": {
          "model_module": "@jupyter-widgets/base",
          "model_name": "LayoutModel",
          "model_module_version": "1.2.0",
          "state": {
            "_model_module": "@jupyter-widgets/base",
            "_model_module_version": "1.2.0",
            "_model_name": "LayoutModel",
            "_view_count": null,
            "_view_module": "@jupyter-widgets/base",
            "_view_module_version": "1.2.0",
            "_view_name": "LayoutView",
            "align_content": null,
            "align_items": null,
            "align_self": null,
            "border": null,
            "bottom": null,
            "display": null,
            "flex": null,
            "flex_flow": null,
            "grid_area": null,
            "grid_auto_columns": null,
            "grid_auto_flow": null,
            "grid_auto_rows": null,
            "grid_column": null,
            "grid_gap": null,
            "grid_row": null,
            "grid_template_areas": null,
            "grid_template_columns": null,
            "grid_template_rows": null,
            "height": null,
            "justify_content": null,
            "justify_items": null,
            "left": null,
            "margin": null,
            "max_height": null,
            "max_width": null,
            "min_height": null,
            "min_width": null,
            "object_fit": null,
            "object_position": null,
            "order": null,
            "overflow": null,
            "overflow_x": null,
            "overflow_y": null,
            "padding": null,
            "right": null,
            "top": null,
            "visibility": null,
            "width": null
          }
        },
        "763f66b8b0514271895699984862dfb7": {
          "model_module": "@jupyter-widgets/controls",
          "model_name": "ProgressStyleModel",
          "model_module_version": "1.5.0",
          "state": {
            "_model_module": "@jupyter-widgets/controls",
            "_model_module_version": "1.5.0",
            "_model_name": "ProgressStyleModel",
            "_view_count": null,
            "_view_module": "@jupyter-widgets/base",
            "_view_module_version": "1.2.0",
            "_view_name": "StyleView",
            "bar_color": null,
            "description_width": ""
          }
        },
        "d966bd0c38704787955dbb4f556222d7": {
          "model_module": "@jupyter-widgets/base",
          "model_name": "LayoutModel",
          "model_module_version": "1.2.0",
          "state": {
            "_model_module": "@jupyter-widgets/base",
            "_model_module_version": "1.2.0",
            "_model_name": "LayoutModel",
            "_view_count": null,
            "_view_module": "@jupyter-widgets/base",
            "_view_module_version": "1.2.0",
            "_view_name": "LayoutView",
            "align_content": null,
            "align_items": null,
            "align_self": null,
            "border": null,
            "bottom": null,
            "display": null,
            "flex": null,
            "flex_flow": null,
            "grid_area": null,
            "grid_auto_columns": null,
            "grid_auto_flow": null,
            "grid_auto_rows": null,
            "grid_column": null,
            "grid_gap": null,
            "grid_row": null,
            "grid_template_areas": null,
            "grid_template_columns": null,
            "grid_template_rows": null,
            "height": null,
            "justify_content": null,
            "justify_items": null,
            "left": null,
            "margin": null,
            "max_height": null,
            "max_width": null,
            "min_height": null,
            "min_width": null,
            "object_fit": null,
            "object_position": null,
            "order": null,
            "overflow": null,
            "overflow_x": null,
            "overflow_y": null,
            "padding": null,
            "right": null,
            "top": null,
            "visibility": null,
            "width": null
          }
        },
        "d028e17f386d468f8d1015ddc833b89a": {
          "model_module": "@jupyter-widgets/controls",
          "model_name": "DescriptionStyleModel",
          "model_module_version": "1.5.0",
          "state": {
            "_model_module": "@jupyter-widgets/controls",
            "_model_module_version": "1.5.0",
            "_model_name": "DescriptionStyleModel",
            "_view_count": null,
            "_view_module": "@jupyter-widgets/base",
            "_view_module_version": "1.2.0",
            "_view_name": "StyleView",
            "description_width": ""
          }
        },
        "fdd360a68a1d4af1a6ad8a8f396a36ac": {
          "model_module": "@jupyter-widgets/controls",
          "model_name": "HBoxModel",
          "model_module_version": "1.5.0",
          "state": {
            "_dom_classes": [],
            "_model_module": "@jupyter-widgets/controls",
            "_model_module_version": "1.5.0",
            "_model_name": "HBoxModel",
            "_view_count": null,
            "_view_module": "@jupyter-widgets/controls",
            "_view_module_version": "1.5.0",
            "_view_name": "HBoxView",
            "box_style": "",
            "children": [
              "IPY_MODEL_9c2cb3a3f6bb47f8b59d3b6025596736",
              "IPY_MODEL_3a2819866a854c79a41f8674fb774136",
              "IPY_MODEL_bf64ed6dc6794c3592f759ee254d889a"
            ],
            "layout": "IPY_MODEL_370e893a0f9446a78ad9084dcb5e3d56"
          }
        },
        "9c2cb3a3f6bb47f8b59d3b6025596736": {
          "model_module": "@jupyter-widgets/controls",
          "model_name": "HTMLModel",
          "model_module_version": "1.5.0",
          "state": {
            "_dom_classes": [],
            "_model_module": "@jupyter-widgets/controls",
            "_model_module_version": "1.5.0",
            "_model_name": "HTMLModel",
            "_view_count": null,
            "_view_module": "@jupyter-widgets/controls",
            "_view_module_version": "1.5.0",
            "_view_name": "HTMLView",
            "description": "",
            "description_tooltip": null,
            "layout": "IPY_MODEL_c7607f8228a04e11b6fd271ad55c42eb",
            "placeholder": "​",
            "style": "IPY_MODEL_42005e2aeb454cfcb420e7e637c74d19",
            "value": "generation_config.json: 100%"
          }
        },
        "3a2819866a854c79a41f8674fb774136": {
          "model_module": "@jupyter-widgets/controls",
          "model_name": "FloatProgressModel",
          "model_module_version": "1.5.0",
          "state": {
            "_dom_classes": [],
            "_model_module": "@jupyter-widgets/controls",
            "_model_module_version": "1.5.0",
            "_model_name": "FloatProgressModel",
            "_view_count": null,
            "_view_module": "@jupyter-widgets/controls",
            "_view_module_version": "1.5.0",
            "_view_name": "ProgressView",
            "bar_style": "success",
            "description": "",
            "description_tooltip": null,
            "layout": "IPY_MODEL_7fe78a5c01f44749be96691ccdf4e70e",
            "max": 147,
            "min": 0,
            "orientation": "horizontal",
            "style": "IPY_MODEL_205b762577594e03be242d6a99b10183",
            "value": 147
          }
        },
        "bf64ed6dc6794c3592f759ee254d889a": {
          "model_module": "@jupyter-widgets/controls",
          "model_name": "HTMLModel",
          "model_module_version": "1.5.0",
          "state": {
            "_dom_classes": [],
            "_model_module": "@jupyter-widgets/controls",
            "_model_module_version": "1.5.0",
            "_model_name": "HTMLModel",
            "_view_count": null,
            "_view_module": "@jupyter-widgets/controls",
            "_view_module_version": "1.5.0",
            "_view_name": "HTMLView",
            "description": "",
            "description_tooltip": null,
            "layout": "IPY_MODEL_ae4b0cdf1c1f4f3c9d9d1b253408774b",
            "placeholder": "​",
            "style": "IPY_MODEL_04c2aa1218804bd5a9d0ecfbc6fbb920",
            "value": " 147/147 [00:00&lt;00:00, 5.71kB/s]"
          }
        },
        "370e893a0f9446a78ad9084dcb5e3d56": {
          "model_module": "@jupyter-widgets/base",
          "model_name": "LayoutModel",
          "model_module_version": "1.2.0",
          "state": {
            "_model_module": "@jupyter-widgets/base",
            "_model_module_version": "1.2.0",
            "_model_name": "LayoutModel",
            "_view_count": null,
            "_view_module": "@jupyter-widgets/base",
            "_view_module_version": "1.2.0",
            "_view_name": "LayoutView",
            "align_content": null,
            "align_items": null,
            "align_self": null,
            "border": null,
            "bottom": null,
            "display": null,
            "flex": null,
            "flex_flow": null,
            "grid_area": null,
            "grid_auto_columns": null,
            "grid_auto_flow": null,
            "grid_auto_rows": null,
            "grid_column": null,
            "grid_gap": null,
            "grid_row": null,
            "grid_template_areas": null,
            "grid_template_columns": null,
            "grid_template_rows": null,
            "height": null,
            "justify_content": null,
            "justify_items": null,
            "left": null,
            "margin": null,
            "max_height": null,
            "max_width": null,
            "min_height": null,
            "min_width": null,
            "object_fit": null,
            "object_position": null,
            "order": null,
            "overflow": null,
            "overflow_x": null,
            "overflow_y": null,
            "padding": null,
            "right": null,
            "top": null,
            "visibility": null,
            "width": null
          }
        },
        "c7607f8228a04e11b6fd271ad55c42eb": {
          "model_module": "@jupyter-widgets/base",
          "model_name": "LayoutModel",
          "model_module_version": "1.2.0",
          "state": {
            "_model_module": "@jupyter-widgets/base",
            "_model_module_version": "1.2.0",
            "_model_name": "LayoutModel",
            "_view_count": null,
            "_view_module": "@jupyter-widgets/base",
            "_view_module_version": "1.2.0",
            "_view_name": "LayoutView",
            "align_content": null,
            "align_items": null,
            "align_self": null,
            "border": null,
            "bottom": null,
            "display": null,
            "flex": null,
            "flex_flow": null,
            "grid_area": null,
            "grid_auto_columns": null,
            "grid_auto_flow": null,
            "grid_auto_rows": null,
            "grid_column": null,
            "grid_gap": null,
            "grid_row": null,
            "grid_template_areas": null,
            "grid_template_columns": null,
            "grid_template_rows": null,
            "height": null,
            "justify_content": null,
            "justify_items": null,
            "left": null,
            "margin": null,
            "max_height": null,
            "max_width": null,
            "min_height": null,
            "min_width": null,
            "object_fit": null,
            "object_position": null,
            "order": null,
            "overflow": null,
            "overflow_x": null,
            "overflow_y": null,
            "padding": null,
            "right": null,
            "top": null,
            "visibility": null,
            "width": null
          }
        },
        "42005e2aeb454cfcb420e7e637c74d19": {
          "model_module": "@jupyter-widgets/controls",
          "model_name": "DescriptionStyleModel",
          "model_module_version": "1.5.0",
          "state": {
            "_model_module": "@jupyter-widgets/controls",
            "_model_module_version": "1.5.0",
            "_model_name": "DescriptionStyleModel",
            "_view_count": null,
            "_view_module": "@jupyter-widgets/base",
            "_view_module_version": "1.2.0",
            "_view_name": "StyleView",
            "description_width": ""
          }
        },
        "7fe78a5c01f44749be96691ccdf4e70e": {
          "model_module": "@jupyter-widgets/base",
          "model_name": "LayoutModel",
          "model_module_version": "1.2.0",
          "state": {
            "_model_module": "@jupyter-widgets/base",
            "_model_module_version": "1.2.0",
            "_model_name": "LayoutModel",
            "_view_count": null,
            "_view_module": "@jupyter-widgets/base",
            "_view_module_version": "1.2.0",
            "_view_name": "LayoutView",
            "align_content": null,
            "align_items": null,
            "align_self": null,
            "border": null,
            "bottom": null,
            "display": null,
            "flex": null,
            "flex_flow": null,
            "grid_area": null,
            "grid_auto_columns": null,
            "grid_auto_flow": null,
            "grid_auto_rows": null,
            "grid_column": null,
            "grid_gap": null,
            "grid_row": null,
            "grid_template_areas": null,
            "grid_template_columns": null,
            "grid_template_rows": null,
            "height": null,
            "justify_content": null,
            "justify_items": null,
            "left": null,
            "margin": null,
            "max_height": null,
            "max_width": null,
            "min_height": null,
            "min_width": null,
            "object_fit": null,
            "object_position": null,
            "order": null,
            "overflow": null,
            "overflow_x": null,
            "overflow_y": null,
            "padding": null,
            "right": null,
            "top": null,
            "visibility": null,
            "width": null
          }
        },
        "205b762577594e03be242d6a99b10183": {
          "model_module": "@jupyter-widgets/controls",
          "model_name": "ProgressStyleModel",
          "model_module_version": "1.5.0",
          "state": {
            "_model_module": "@jupyter-widgets/controls",
            "_model_module_version": "1.5.0",
            "_model_name": "ProgressStyleModel",
            "_view_count": null,
            "_view_module": "@jupyter-widgets/base",
            "_view_module_version": "1.2.0",
            "_view_name": "StyleView",
            "bar_color": null,
            "description_width": ""
          }
        },
        "ae4b0cdf1c1f4f3c9d9d1b253408774b": {
          "model_module": "@jupyter-widgets/base",
          "model_name": "LayoutModel",
          "model_module_version": "1.2.0",
          "state": {
            "_model_module": "@jupyter-widgets/base",
            "_model_module_version": "1.2.0",
            "_model_name": "LayoutModel",
            "_view_count": null,
            "_view_module": "@jupyter-widgets/base",
            "_view_module_version": "1.2.0",
            "_view_name": "LayoutView",
            "align_content": null,
            "align_items": null,
            "align_self": null,
            "border": null,
            "bottom": null,
            "display": null,
            "flex": null,
            "flex_flow": null,
            "grid_area": null,
            "grid_auto_columns": null,
            "grid_auto_flow": null,
            "grid_auto_rows": null,
            "grid_column": null,
            "grid_gap": null,
            "grid_row": null,
            "grid_template_areas": null,
            "grid_template_columns": null,
            "grid_template_rows": null,
            "height": null,
            "justify_content": null,
            "justify_items": null,
            "left": null,
            "margin": null,
            "max_height": null,
            "max_width": null,
            "min_height": null,
            "min_width": null,
            "object_fit": null,
            "object_position": null,
            "order": null,
            "overflow": null,
            "overflow_x": null,
            "overflow_y": null,
            "padding": null,
            "right": null,
            "top": null,
            "visibility": null,
            "width": null
          }
        },
        "04c2aa1218804bd5a9d0ecfbc6fbb920": {
          "model_module": "@jupyter-widgets/controls",
          "model_name": "DescriptionStyleModel",
          "model_module_version": "1.5.0",
          "state": {
            "_model_module": "@jupyter-widgets/controls",
            "_model_module_version": "1.5.0",
            "_model_name": "DescriptionStyleModel",
            "_view_count": null,
            "_view_module": "@jupyter-widgets/base",
            "_view_module_version": "1.2.0",
            "_view_name": "StyleView",
            "description_width": ""
          }
        },
        "559bd49a8a8d45ef979d8430b8af8e8c": {
          "model_module": "@jupyter-widgets/controls",
          "model_name": "HBoxModel",
          "model_module_version": "1.5.0",
          "state": {
            "_dom_classes": [],
            "_model_module": "@jupyter-widgets/controls",
            "_model_module_version": "1.5.0",
            "_model_name": "HBoxModel",
            "_view_count": null,
            "_view_module": "@jupyter-widgets/controls",
            "_view_module_version": "1.5.0",
            "_view_name": "HBoxView",
            "box_style": "",
            "children": [
              "IPY_MODEL_d104a41c31374870acb31a54cb8a6867",
              "IPY_MODEL_0fefd2aa3aad498895364a16ee1af685",
              "IPY_MODEL_bff55b4c36cc41ca9cdb1945193d1a51"
            ],
            "layout": "IPY_MODEL_9666b5ce70ab414d9cda4db4f5a016f2"
          }
        },
        "d104a41c31374870acb31a54cb8a6867": {
          "model_module": "@jupyter-widgets/controls",
          "model_name": "HTMLModel",
          "model_module_version": "1.5.0",
          "state": {
            "_dom_classes": [],
            "_model_module": "@jupyter-widgets/controls",
            "_model_module_version": "1.5.0",
            "_model_name": "HTMLModel",
            "_view_count": null,
            "_view_module": "@jupyter-widgets/controls",
            "_view_module_version": "1.5.0",
            "_view_name": "HTMLView",
            "description": "",
            "description_tooltip": null,
            "layout": "IPY_MODEL_fdf80d275201444aba8840562fd66abd",
            "placeholder": "​",
            "style": "IPY_MODEL_a45059aee37f4a9c9983f60619b21422",
            "value": "Map: 100%"
          }
        },
        "0fefd2aa3aad498895364a16ee1af685": {
          "model_module": "@jupyter-widgets/controls",
          "model_name": "FloatProgressModel",
          "model_module_version": "1.5.0",
          "state": {
            "_dom_classes": [],
            "_model_module": "@jupyter-widgets/controls",
            "_model_module_version": "1.5.0",
            "_model_name": "FloatProgressModel",
            "_view_count": null,
            "_view_module": "@jupyter-widgets/controls",
            "_view_module_version": "1.5.0",
            "_view_name": "ProgressView",
            "bar_style": "success",
            "description": "",
            "description_tooltip": null,
            "layout": "IPY_MODEL_967c6315568b48d8a641d5156ce4ea40",
            "max": 4570,
            "min": 0,
            "orientation": "horizontal",
            "style": "IPY_MODEL_34e0dc1f76a34c04a8d45bb38c3aad68",
            "value": 4570
          }
        },
        "bff55b4c36cc41ca9cdb1945193d1a51": {
          "model_module": "@jupyter-widgets/controls",
          "model_name": "HTMLModel",
          "model_module_version": "1.5.0",
          "state": {
            "_dom_classes": [],
            "_model_module": "@jupyter-widgets/controls",
            "_model_module_version": "1.5.0",
            "_model_name": "HTMLModel",
            "_view_count": null,
            "_view_module": "@jupyter-widgets/controls",
            "_view_module_version": "1.5.0",
            "_view_name": "HTMLView",
            "description": "",
            "description_tooltip": null,
            "layout": "IPY_MODEL_8621c8d6f5d44c6fa6bc84bd2fef0324",
            "placeholder": "​",
            "style": "IPY_MODEL_f999ecc339eb4374b0cfb15c2c6f74fd",
            "value": " 4570/4570 [00:56&lt;00:00, 99.31 examples/s]"
          }
        },
        "9666b5ce70ab414d9cda4db4f5a016f2": {
          "model_module": "@jupyter-widgets/base",
          "model_name": "LayoutModel",
          "model_module_version": "1.2.0",
          "state": {
            "_model_module": "@jupyter-widgets/base",
            "_model_module_version": "1.2.0",
            "_model_name": "LayoutModel",
            "_view_count": null,
            "_view_module": "@jupyter-widgets/base",
            "_view_module_version": "1.2.0",
            "_view_name": "LayoutView",
            "align_content": null,
            "align_items": null,
            "align_self": null,
            "border": null,
            "bottom": null,
            "display": null,
            "flex": null,
            "flex_flow": null,
            "grid_area": null,
            "grid_auto_columns": null,
            "grid_auto_flow": null,
            "grid_auto_rows": null,
            "grid_column": null,
            "grid_gap": null,
            "grid_row": null,
            "grid_template_areas": null,
            "grid_template_columns": null,
            "grid_template_rows": null,
            "height": null,
            "justify_content": null,
            "justify_items": null,
            "left": null,
            "margin": null,
            "max_height": null,
            "max_width": null,
            "min_height": null,
            "min_width": null,
            "object_fit": null,
            "object_position": null,
            "order": null,
            "overflow": null,
            "overflow_x": null,
            "overflow_y": null,
            "padding": null,
            "right": null,
            "top": null,
            "visibility": null,
            "width": null
          }
        },
        "fdf80d275201444aba8840562fd66abd": {
          "model_module": "@jupyter-widgets/base",
          "model_name": "LayoutModel",
          "model_module_version": "1.2.0",
          "state": {
            "_model_module": "@jupyter-widgets/base",
            "_model_module_version": "1.2.0",
            "_model_name": "LayoutModel",
            "_view_count": null,
            "_view_module": "@jupyter-widgets/base",
            "_view_module_version": "1.2.0",
            "_view_name": "LayoutView",
            "align_content": null,
            "align_items": null,
            "align_self": null,
            "border": null,
            "bottom": null,
            "display": null,
            "flex": null,
            "flex_flow": null,
            "grid_area": null,
            "grid_auto_columns": null,
            "grid_auto_flow": null,
            "grid_auto_rows": null,
            "grid_column": null,
            "grid_gap": null,
            "grid_row": null,
            "grid_template_areas": null,
            "grid_template_columns": null,
            "grid_template_rows": null,
            "height": null,
            "justify_content": null,
            "justify_items": null,
            "left": null,
            "margin": null,
            "max_height": null,
            "max_width": null,
            "min_height": null,
            "min_width": null,
            "object_fit": null,
            "object_position": null,
            "order": null,
            "overflow": null,
            "overflow_x": null,
            "overflow_y": null,
            "padding": null,
            "right": null,
            "top": null,
            "visibility": null,
            "width": null
          }
        },
        "a45059aee37f4a9c9983f60619b21422": {
          "model_module": "@jupyter-widgets/controls",
          "model_name": "DescriptionStyleModel",
          "model_module_version": "1.5.0",
          "state": {
            "_model_module": "@jupyter-widgets/controls",
            "_model_module_version": "1.5.0",
            "_model_name": "DescriptionStyleModel",
            "_view_count": null,
            "_view_module": "@jupyter-widgets/base",
            "_view_module_version": "1.2.0",
            "_view_name": "StyleView",
            "description_width": ""
          }
        },
        "967c6315568b48d8a641d5156ce4ea40": {
          "model_module": "@jupyter-widgets/base",
          "model_name": "LayoutModel",
          "model_module_version": "1.2.0",
          "state": {
            "_model_module": "@jupyter-widgets/base",
            "_model_module_version": "1.2.0",
            "_model_name": "LayoutModel",
            "_view_count": null,
            "_view_module": "@jupyter-widgets/base",
            "_view_module_version": "1.2.0",
            "_view_name": "LayoutView",
            "align_content": null,
            "align_items": null,
            "align_self": null,
            "border": null,
            "bottom": null,
            "display": null,
            "flex": null,
            "flex_flow": null,
            "grid_area": null,
            "grid_auto_columns": null,
            "grid_auto_flow": null,
            "grid_auto_rows": null,
            "grid_column": null,
            "grid_gap": null,
            "grid_row": null,
            "grid_template_areas": null,
            "grid_template_columns": null,
            "grid_template_rows": null,
            "height": null,
            "justify_content": null,
            "justify_items": null,
            "left": null,
            "margin": null,
            "max_height": null,
            "max_width": null,
            "min_height": null,
            "min_width": null,
            "object_fit": null,
            "object_position": null,
            "order": null,
            "overflow": null,
            "overflow_x": null,
            "overflow_y": null,
            "padding": null,
            "right": null,
            "top": null,
            "visibility": null,
            "width": null
          }
        },
        "34e0dc1f76a34c04a8d45bb38c3aad68": {
          "model_module": "@jupyter-widgets/controls",
          "model_name": "ProgressStyleModel",
          "model_module_version": "1.5.0",
          "state": {
            "_model_module": "@jupyter-widgets/controls",
            "_model_module_version": "1.5.0",
            "_model_name": "ProgressStyleModel",
            "_view_count": null,
            "_view_module": "@jupyter-widgets/base",
            "_view_module_version": "1.2.0",
            "_view_name": "StyleView",
            "bar_color": null,
            "description_width": ""
          }
        },
        "8621c8d6f5d44c6fa6bc84bd2fef0324": {
          "model_module": "@jupyter-widgets/base",
          "model_name": "LayoutModel",
          "model_module_version": "1.2.0",
          "state": {
            "_model_module": "@jupyter-widgets/base",
            "_model_module_version": "1.2.0",
            "_model_name": "LayoutModel",
            "_view_count": null,
            "_view_module": "@jupyter-widgets/base",
            "_view_module_version": "1.2.0",
            "_view_name": "LayoutView",
            "align_content": null,
            "align_items": null,
            "align_self": null,
            "border": null,
            "bottom": null,
            "display": null,
            "flex": null,
            "flex_flow": null,
            "grid_area": null,
            "grid_auto_columns": null,
            "grid_auto_flow": null,
            "grid_auto_rows": null,
            "grid_column": null,
            "grid_gap": null,
            "grid_row": null,
            "grid_template_areas": null,
            "grid_template_columns": null,
            "grid_template_rows": null,
            "height": null,
            "justify_content": null,
            "justify_items": null,
            "left": null,
            "margin": null,
            "max_height": null,
            "max_width": null,
            "min_height": null,
            "min_width": null,
            "object_fit": null,
            "object_position": null,
            "order": null,
            "overflow": null,
            "overflow_x": null,
            "overflow_y": null,
            "padding": null,
            "right": null,
            "top": null,
            "visibility": null,
            "width": null
          }
        },
        "f999ecc339eb4374b0cfb15c2c6f74fd": {
          "model_module": "@jupyter-widgets/controls",
          "model_name": "DescriptionStyleModel",
          "model_module_version": "1.5.0",
          "state": {
            "_model_module": "@jupyter-widgets/controls",
            "_model_module_version": "1.5.0",
            "_model_name": "DescriptionStyleModel",
            "_view_count": null,
            "_view_module": "@jupyter-widgets/base",
            "_view_module_version": "1.2.0",
            "_view_name": "StyleView",
            "description_width": ""
          }
        }
      }
    }
  },
  "cells": [
    {
      "cell_type": "code",
      "execution_count": null,
      "metadata": {
        "id": "zOBt04AMgNUr"
      },
      "outputs": [],
      "source": [
        "import numpy as np\n",
        "import pandas as pd"
      ]
    },
    {
      "cell_type": "code",
      "source": [
        "from google.colab import drive\n",
        "drive.mount('/content/drive')"
      ],
      "metadata": {
        "colab": {
          "base_uri": "https://localhost:8080/"
        },
        "id": "bhrsSMrHpqON",
        "outputId": "75c063b9-83e7-46b3-c83b-0c9eab98aa06"
      },
      "execution_count": null,
      "outputs": [
        {
          "output_type": "stream",
          "name": "stdout",
          "text": [
            "Mounted at /content/drive\n"
          ]
        }
      ]
    },
    {
      "cell_type": "code",
      "source": [
        "dataset = pd.read_csv('/content/drive/MyDrive/train_10000.csv')\n",
        "dataset.shape"
      ],
      "metadata": {
        "colab": {
          "base_uri": "https://localhost:8080/"
        },
        "id": "NvelCUsjjOhq",
        "outputId": "f2647c00-0100-4c40-cebf-99af79ae2eb4"
      },
      "execution_count": null,
      "outputs": [
        {
          "output_type": "execute_result",
          "data": {
            "text/plain": [
              "(10000, 3)"
            ]
          },
          "metadata": {},
          "execution_count": 6
        }
      ]
    },
    {
      "cell_type": "code",
      "source": [
        "dataset.head()"
      ],
      "metadata": {
        "colab": {
          "base_uri": "https://localhost:8080/",
          "height": 293
        },
        "id": "DBM9URBKjYh8",
        "outputId": "d9e17b99-b9c6-40e8-c29a-4a3435a2a9d5"
      },
      "execution_count": null,
      "outputs": [
        {
          "output_type": "execute_result",
          "data": {
            "text/plain": [
              "                                            headline  \\\n",
              "0  उत्तर भारत में शीत लहर जारी, लेह में पारा सात ...   \n",
              "1  यमन : विद्रोहियों के कब्जे वाले ताएज शहर के नि...   \n",
              "2  केन्या में आतंकियों ने बस को अगवा कर 28 लोगों ...   \n",
              "3           रिम करेगा दो हजार कर्मचारियों की छंटनी     \n",
              "4  Puducherry: उपराज्यपाल किरण बेदी से हुआ विवाद ...   \n",
              "\n",
              "                                             summary  \\\n",
              "0                                                NaN   \n",
              "1                                                NaN   \n",
              "2                                                NaN   \n",
              "3  ब्लैकबेरी हैंडसेट बनाने वाली कनाडा की कंपनी रि...   \n",
              "4                                                NaN   \n",
              "\n",
              "                                             article  \n",
              "0  उत्तर भारत में शीत लहर जारी है और पहाड़ी क्षेत...  \n",
              "1  यमन सरकार के समर्थक बलों के विद्रोहियों के कब्...  \n",
              "2  केन्या के उत्तर में, सोमालिया के अल-शबाब गुट क...  \n",
              "3  ब्लैकबेरी हैंडसेट बनाने वाली कनाडा की कंपनी रि...  \n",
              "4  केंद्र शासित प्रदेश पुडुचेरी के मुख्यमंत्री  व...  "
            ],
            "text/html": [
              "\n",
              "  <div id=\"df-5fbb7711-f35b-4f8e-8cc2-5bcf1e0abeb1\" class=\"colab-df-container\">\n",
              "    <div>\n",
              "<style scoped>\n",
              "    .dataframe tbody tr th:only-of-type {\n",
              "        vertical-align: middle;\n",
              "    }\n",
              "\n",
              "    .dataframe tbody tr th {\n",
              "        vertical-align: top;\n",
              "    }\n",
              "\n",
              "    .dataframe thead th {\n",
              "        text-align: right;\n",
              "    }\n",
              "</style>\n",
              "<table border=\"1\" class=\"dataframe\">\n",
              "  <thead>\n",
              "    <tr style=\"text-align: right;\">\n",
              "      <th></th>\n",
              "      <th>headline</th>\n",
              "      <th>summary</th>\n",
              "      <th>article</th>\n",
              "    </tr>\n",
              "  </thead>\n",
              "  <tbody>\n",
              "    <tr>\n",
              "      <th>0</th>\n",
              "      <td>उत्तर भारत में शीत लहर जारी, लेह में पारा सात ...</td>\n",
              "      <td>NaN</td>\n",
              "      <td>उत्तर भारत में शीत लहर जारी है और पहाड़ी क्षेत...</td>\n",
              "    </tr>\n",
              "    <tr>\n",
              "      <th>1</th>\n",
              "      <td>यमन : विद्रोहियों के कब्जे वाले ताएज शहर के नि...</td>\n",
              "      <td>NaN</td>\n",
              "      <td>यमन सरकार के समर्थक बलों के विद्रोहियों के कब्...</td>\n",
              "    </tr>\n",
              "    <tr>\n",
              "      <th>2</th>\n",
              "      <td>केन्या में आतंकियों ने बस को अगवा कर 28 लोगों ...</td>\n",
              "      <td>NaN</td>\n",
              "      <td>केन्या के उत्तर में, सोमालिया के अल-शबाब गुट क...</td>\n",
              "    </tr>\n",
              "    <tr>\n",
              "      <th>3</th>\n",
              "      <td>रिम करेगा दो हजार कर्मचारियों की छंटनी</td>\n",
              "      <td>ब्लैकबेरी हैंडसेट बनाने वाली कनाडा की कंपनी रि...</td>\n",
              "      <td>ब्लैकबेरी हैंडसेट बनाने वाली कनाडा की कंपनी रि...</td>\n",
              "    </tr>\n",
              "    <tr>\n",
              "      <th>4</th>\n",
              "      <td>Puducherry: उपराज्यपाल किरण बेदी से हुआ विवाद ...</td>\n",
              "      <td>NaN</td>\n",
              "      <td>केंद्र शासित प्रदेश पुडुचेरी के मुख्यमंत्री  व...</td>\n",
              "    </tr>\n",
              "  </tbody>\n",
              "</table>\n",
              "</div>\n",
              "    <div class=\"colab-df-buttons\">\n",
              "\n",
              "  <div class=\"colab-df-container\">\n",
              "    <button class=\"colab-df-convert\" onclick=\"convertToInteractive('df-5fbb7711-f35b-4f8e-8cc2-5bcf1e0abeb1')\"\n",
              "            title=\"Convert this dataframe to an interactive table.\"\n",
              "            style=\"display:none;\">\n",
              "\n",
              "  <svg xmlns=\"http://www.w3.org/2000/svg\" height=\"24px\" viewBox=\"0 -960 960 960\">\n",
              "    <path d=\"M120-120v-720h720v720H120Zm60-500h600v-160H180v160Zm220 220h160v-160H400v160Zm0 220h160v-160H400v160ZM180-400h160v-160H180v160Zm440 0h160v-160H620v160ZM180-180h160v-160H180v160Zm440 0h160v-160H620v160Z\"/>\n",
              "  </svg>\n",
              "    </button>\n",
              "\n",
              "  <style>\n",
              "    .colab-df-container {\n",
              "      display:flex;\n",
              "      gap: 12px;\n",
              "    }\n",
              "\n",
              "    .colab-df-convert {\n",
              "      background-color: #E8F0FE;\n",
              "      border: none;\n",
              "      border-radius: 50%;\n",
              "      cursor: pointer;\n",
              "      display: none;\n",
              "      fill: #1967D2;\n",
              "      height: 32px;\n",
              "      padding: 0 0 0 0;\n",
              "      width: 32px;\n",
              "    }\n",
              "\n",
              "    .colab-df-convert:hover {\n",
              "      background-color: #E2EBFA;\n",
              "      box-shadow: 0px 1px 2px rgba(60, 64, 67, 0.3), 0px 1px 3px 1px rgba(60, 64, 67, 0.15);\n",
              "      fill: #174EA6;\n",
              "    }\n",
              "\n",
              "    .colab-df-buttons div {\n",
              "      margin-bottom: 4px;\n",
              "    }\n",
              "\n",
              "    [theme=dark] .colab-df-convert {\n",
              "      background-color: #3B4455;\n",
              "      fill: #D2E3FC;\n",
              "    }\n",
              "\n",
              "    [theme=dark] .colab-df-convert:hover {\n",
              "      background-color: #434B5C;\n",
              "      box-shadow: 0px 1px 3px 1px rgba(0, 0, 0, 0.15);\n",
              "      filter: drop-shadow(0px 1px 2px rgba(0, 0, 0, 0.3));\n",
              "      fill: #FFFFFF;\n",
              "    }\n",
              "  </style>\n",
              "\n",
              "    <script>\n",
              "      const buttonEl =\n",
              "        document.querySelector('#df-5fbb7711-f35b-4f8e-8cc2-5bcf1e0abeb1 button.colab-df-convert');\n",
              "      buttonEl.style.display =\n",
              "        google.colab.kernel.accessAllowed ? 'block' : 'none';\n",
              "\n",
              "      async function convertToInteractive(key) {\n",
              "        const element = document.querySelector('#df-5fbb7711-f35b-4f8e-8cc2-5bcf1e0abeb1');\n",
              "        const dataTable =\n",
              "          await google.colab.kernel.invokeFunction('convertToInteractive',\n",
              "                                                    [key], {});\n",
              "        if (!dataTable) return;\n",
              "\n",
              "        const docLinkHtml = 'Like what you see? Visit the ' +\n",
              "          '<a target=\"_blank\" href=https://colab.research.google.com/notebooks/data_table.ipynb>data table notebook</a>'\n",
              "          + ' to learn more about interactive tables.';\n",
              "        element.innerHTML = '';\n",
              "        dataTable['output_type'] = 'display_data';\n",
              "        await google.colab.output.renderOutput(dataTable, element);\n",
              "        const docLink = document.createElement('div');\n",
              "        docLink.innerHTML = docLinkHtml;\n",
              "        element.appendChild(docLink);\n",
              "      }\n",
              "    </script>\n",
              "  </div>\n",
              "\n",
              "\n",
              "<div id=\"df-6fe0143f-ec14-4696-b6ad-d5cbf3d94070\">\n",
              "  <button class=\"colab-df-quickchart\" onclick=\"quickchart('df-6fe0143f-ec14-4696-b6ad-d5cbf3d94070')\"\n",
              "            title=\"Suggest charts\"\n",
              "            style=\"display:none;\">\n",
              "\n",
              "<svg xmlns=\"http://www.w3.org/2000/svg\" height=\"24px\"viewBox=\"0 0 24 24\"\n",
              "     width=\"24px\">\n",
              "    <g>\n",
              "        <path d=\"M19 3H5c-1.1 0-2 .9-2 2v14c0 1.1.9 2 2 2h14c1.1 0 2-.9 2-2V5c0-1.1-.9-2-2-2zM9 17H7v-7h2v7zm4 0h-2V7h2v10zm4 0h-2v-4h2v4z\"/>\n",
              "    </g>\n",
              "</svg>\n",
              "  </button>\n",
              "\n",
              "<style>\n",
              "  .colab-df-quickchart {\n",
              "      --bg-color: #E8F0FE;\n",
              "      --fill-color: #1967D2;\n",
              "      --hover-bg-color: #E2EBFA;\n",
              "      --hover-fill-color: #174EA6;\n",
              "      --disabled-fill-color: #AAA;\n",
              "      --disabled-bg-color: #DDD;\n",
              "  }\n",
              "\n",
              "  [theme=dark] .colab-df-quickchart {\n",
              "      --bg-color: #3B4455;\n",
              "      --fill-color: #D2E3FC;\n",
              "      --hover-bg-color: #434B5C;\n",
              "      --hover-fill-color: #FFFFFF;\n",
              "      --disabled-bg-color: #3B4455;\n",
              "      --disabled-fill-color: #666;\n",
              "  }\n",
              "\n",
              "  .colab-df-quickchart {\n",
              "    background-color: var(--bg-color);\n",
              "    border: none;\n",
              "    border-radius: 50%;\n",
              "    cursor: pointer;\n",
              "    display: none;\n",
              "    fill: var(--fill-color);\n",
              "    height: 32px;\n",
              "    padding: 0;\n",
              "    width: 32px;\n",
              "  }\n",
              "\n",
              "  .colab-df-quickchart:hover {\n",
              "    background-color: var(--hover-bg-color);\n",
              "    box-shadow: 0 1px 2px rgba(60, 64, 67, 0.3), 0 1px 3px 1px rgba(60, 64, 67, 0.15);\n",
              "    fill: var(--button-hover-fill-color);\n",
              "  }\n",
              "\n",
              "  .colab-df-quickchart-complete:disabled,\n",
              "  .colab-df-quickchart-complete:disabled:hover {\n",
              "    background-color: var(--disabled-bg-color);\n",
              "    fill: var(--disabled-fill-color);\n",
              "    box-shadow: none;\n",
              "  }\n",
              "\n",
              "  .colab-df-spinner {\n",
              "    border: 2px solid var(--fill-color);\n",
              "    border-color: transparent;\n",
              "    border-bottom-color: var(--fill-color);\n",
              "    animation:\n",
              "      spin 1s steps(1) infinite;\n",
              "  }\n",
              "\n",
              "  @keyframes spin {\n",
              "    0% {\n",
              "      border-color: transparent;\n",
              "      border-bottom-color: var(--fill-color);\n",
              "      border-left-color: var(--fill-color);\n",
              "    }\n",
              "    20% {\n",
              "      border-color: transparent;\n",
              "      border-left-color: var(--fill-color);\n",
              "      border-top-color: var(--fill-color);\n",
              "    }\n",
              "    30% {\n",
              "      border-color: transparent;\n",
              "      border-left-color: var(--fill-color);\n",
              "      border-top-color: var(--fill-color);\n",
              "      border-right-color: var(--fill-color);\n",
              "    }\n",
              "    40% {\n",
              "      border-color: transparent;\n",
              "      border-right-color: var(--fill-color);\n",
              "      border-top-color: var(--fill-color);\n",
              "    }\n",
              "    60% {\n",
              "      border-color: transparent;\n",
              "      border-right-color: var(--fill-color);\n",
              "    }\n",
              "    80% {\n",
              "      border-color: transparent;\n",
              "      border-right-color: var(--fill-color);\n",
              "      border-bottom-color: var(--fill-color);\n",
              "    }\n",
              "    90% {\n",
              "      border-color: transparent;\n",
              "      border-bottom-color: var(--fill-color);\n",
              "    }\n",
              "  }\n",
              "</style>\n",
              "\n",
              "  <script>\n",
              "    async function quickchart(key) {\n",
              "      const quickchartButtonEl =\n",
              "        document.querySelector('#' + key + ' button');\n",
              "      quickchartButtonEl.disabled = true;  // To prevent multiple clicks.\n",
              "      quickchartButtonEl.classList.add('colab-df-spinner');\n",
              "      try {\n",
              "        const charts = await google.colab.kernel.invokeFunction(\n",
              "            'suggestCharts', [key], {});\n",
              "      } catch (error) {\n",
              "        console.error('Error during call to suggestCharts:', error);\n",
              "      }\n",
              "      quickchartButtonEl.classList.remove('colab-df-spinner');\n",
              "      quickchartButtonEl.classList.add('colab-df-quickchart-complete');\n",
              "    }\n",
              "    (() => {\n",
              "      let quickchartButtonEl =\n",
              "        document.querySelector('#df-6fe0143f-ec14-4696-b6ad-d5cbf3d94070 button');\n",
              "      quickchartButtonEl.style.display =\n",
              "        google.colab.kernel.accessAllowed ? 'block' : 'none';\n",
              "    })();\n",
              "  </script>\n",
              "</div>\n",
              "\n",
              "    </div>\n",
              "  </div>\n"
            ],
            "application/vnd.google.colaboratory.intrinsic+json": {
              "type": "dataframe",
              "variable_name": "dataset",
              "summary": "{\n  \"name\": \"dataset\",\n  \"rows\": 10000,\n  \"fields\": [\n    {\n      \"column\": \"headline\",\n      \"properties\": {\n        \"dtype\": \"string\",\n        \"num_unique_values\": 9657,\n        \"samples\": [\n          \"BCCI \\u0928\\u0947 \\u0927\\u094b\\u0928\\u0940-\\u0938\\u0939\\u0935\\u093e\\u0917 \\u0915\\u094b \\u090f\\u0915\\u091c\\u0941\\u091f \\u0939\\u094b\\u0915\\u0930 \\u0916\\u0947\\u0932\\u0928\\u0947 \\u0915\\u0940 \\u0924\\u093e\\u0915\\u0940\\u0926 \\u0915\\u0940  \",\n          \"\\u0915\\u094b\\u0932\\u0915\\u093e\\u0924\\u093e \\u092e\\u0947\\u0902 \\u0926\\u0941\\u0930\\u094d\\u0917\\u093e \\u092a\\u0942\\u091c\\u093e \\u092a\\u0902\\u0921\\u093e\\u0932 \\u0915\\u093e \\u0909\\u0926\\u094d\\u0918\\u093e\\u091f\\u0928 \\u0915\\u0930\\u0947\\u0902\\u0917\\u0947 \\u0905\\u0930\\u094d\\u091c\\u0947\\u0902\\u091f\\u0940\\u0928\\u093e \\u0915\\u0947 \\u092e\\u0939\\u093e\\u0928 \\u092b\\u0941\\u091f\\u092c\\u0949\\u0932\\u0930 \\u092e\\u093e\\u0930\\u093e\\u0921\\u094b\\u0928\\u093e  \",\n          \"TikTok \\u092a\\u0930 \\u0935\\u093e\\u092f\\u0930\\u0932 \\u0939\\u0941\\u090f '\\u0905\\u0902\\u0915\\u0932-\\u0906\\u0902\\u091f\\u0940', \\u092a\\u0924\\u093f \\u0915\\u094b \\u0915\\u0939\\u093e- '\\u0924\\u0942 \\u0915\\u0902\\u091c\\u0942\\u0938 \\u0939\\u0948, \\u092a\\u0942\\u0930\\u093e \\u092e\\u0915\\u094d\\u0916\\u0940\\u091a\\u0942\\u0938 \\u0939\\u0948...' \\u0926\\u0947\\u0916\\u0947\\u0902 Videos  \"\n        ],\n        \"semantic_type\": \"\",\n        \"description\": \"\"\n      }\n    },\n    {\n      \"column\": \"summary\",\n      \"properties\": {\n        \"dtype\": \"category\",\n        \"num_unique_values\": 4523,\n        \"samples\": [\n          \"\\u0938\\u094d\\u0915\\u0942\\u0932 \\u091b\\u093e\\u0924\\u094d\\u0930 \\u0928\\u0947 \\u092a\\u0940\\u090f\\u092e \\u0915\\u0940 \\u0930\\u0948\\u0932\\u0940 \\u0915\\u0947 \\u0932\\u093f\\u090f \\u0938\\u094d\\u0915\\u0942\\u0932 \\u092c\\u0938 \\u0932\\u0947 \\u0932\\u093f\\u090f \\u091c\\u093e\\u0928\\u0947 \\u092a\\u0930 \\u0928\\u093e\\u0930\\u093e\\u091c\\u093c\\u0917\\u0940 \\u091c\\u0924\\u093e\\u0908\\r\\n\\u092c\\u091a\\u094d\\u091a\\u0947 \\u0928\\u0947 \\u0932\\u093f\\u0916\\u093e, \\\"\\u0915\\u094d\\u092f\\u093e \\u0906\\u092a\\u0915\\u0940 \\u0938\\u092d\\u093e \\u092e\\u0947\\u0930\\u0947 \\u0938\\u094d\\u0915\\u0942\\u0932 \\u0938\\u0947 \\u091c\\u093c\\u094d\\u092f\\u093e\\u0926\\u093e \\u092e\\u0939\\u0924\\u094d\\u0935\\u092a\\u0942\\u0930\\u094d\\u0923 \\u0939\\u0948...?\\\"\\r\\n\\u092a\\u094d\\u0930\\u0936\\u093e\\u0938\\u0928 \\u0928\\u0947 \\u0938\\u094d\\u0915\\u0942\\u0932 \\u092c\\u0938\\u094b\\u0902 \\u0915\\u094b \\u092d\\u0947\\u091c\\u0928\\u0947 \\u0915\\u093e \\u0906\\u0926\\u0947\\u0936 \\u0935\\u093e\\u092a\\u0938 \\u0932\\u0947 \\u0932\\u093f\\u092f\\u093e \\u0939\\u0948\",\n          \"\\u092a\\u0940\\u090f\\u092e \\u092e\\u094b\\u0926\\u0940 \\u0915\\u093e \\u0930\\u093e\\u0937\\u094d\\u091f\\u094d\\u0930 \\u0915\\u0947 \\u0928\\u093e\\u092e \\u0938\\u0902\\u092c\\u094b\\u0927\\u0928\\r\\n\\u091c\\u092e\\u094d\\u092e\\u0942-\\u0915\\u0936\\u094d\\u092e\\u0940\\u0930 \\u0915\\u0947 \\u0932\\u094b\\u0917\\u094b\\u0902 \\u0915\\u094b \\u0926\\u093f\\u092f\\u093e \\u0906\\u0936\\u094d\\u0935\\u093e\\u0938\\u0928\\r\\n\\u0908\\u0926 \\u0915\\u0940 \\u092d\\u0940 \\u0926\\u0940 \\u0936\\u0941\\u092d\\u0915\\u093e\\u092e\\u0928\\u093e\\u090f\\u0902\",\n          \"\\u092f\\u0942\\u092a\\u0940 \\u0938\\u0930\\u0915\\u093e\\u0930 \\u0928\\u0947 \\u092e\\u0928\\u0930\\u0947\\u0917\\u093e \\u092e\\u0947\\u0902 \\u0917\\u095c\\u092c\\u095c\\u0940 \\u0915\\u0947 \\u0906\\u0930\\u094b\\u092a\\u094b\\u0902 \\u0938\\u0947 \\u0907\\u0928\\u0915\\u093e\\u0930 \\u0915\\u093f\\u092f\\u093e \\u0939\\u0948 \\u0914\\u0930 \\u0915\\u0939\\u093e \\u0939\\u0948 \\u0915\\u093f \\u0915\\u0947\\u0928\\u094d\\u0926\\u094d\\u0930 \\u0938\\u0930\\u0915\\u093e\\u0930 \\u0907\\u0938 \\u092e\\u093e\\u092e\\u0932\\u0947 \\u092e\\u0947\\u0902 \\u0930\\u093e\\u091c\\u0928\\u0940\\u0924\\u093f \\u0915\\u0930 \\u0930\\u0939\\u0940 \\u0939\\u0948\\u0964\"\n        ],\n        \"semantic_type\": \"\",\n        \"description\": \"\"\n      }\n    },\n    {\n      \"column\": \"article\",\n      \"properties\": {\n        \"dtype\": \"string\",\n        \"num_unique_values\": 9206,\n        \"samples\": [\n          \"\\u0935\\u093f\\u092f\\u0924\\u0928\\u093e\\u092e \\u092e\\u0947\\u0902 \\u092f\\u0941\\u0926\\u094d\\u0927 \\u0915\\u0947 \\u0938\\u092e\\u092f \\u0915\\u0947 \\u092c\\u092e \\u0915\\u0947 \\u0938\\u093e\\u0925 \\u0916\\u0947\\u0932 \\u0930\\u0939\\u0947 \\u091a\\u093e\\u0930 \\u092c\\u091a\\u094d\\u091a\\u094b\\u0902 \\u0915\\u0940 \\u092c\\u092e \\u092b\\u091f \\u091c\\u093e\\u0928\\u0947 \\u0938\\u0947 \\u092e\\u094c\\u0924 \\u0939\\u094b \\u0917\\u0908\\u0964 \\u0938\\u092e\\u093e\\u091a\\u093e\\u0930 \\u090f\\u091c\\u0947\\u0902\\u0938\\u0940 \\u0908\\u090f\\u092b\\u0908 \\u0915\\u0947 \\u092e\\u0941\\u0924\\u093e\\u092c\\u093f\\u0915, \\u092f\\u0939 \\u0926\\u0941\\u0930\\u094d\\u0918\\u091f\\u0928\\u093e \\u0930\\u0935\\u093f\\u0935\\u093e\\u0930 \\u0915\\u094b \\u0935\\u093f\\u0928\\u094d\\u0939 \\u0932\\u093e\\u0902\\u0917 \\u092a\\u094d\\u0930\\u093e\\u0902\\u0924 \\u092e\\u0947\\u0902 \\u0939\\u0941\\u0908\\u0964 \\u0935\\u0941\\u0902\\u0917 \\u0932\\u0940\\u092e \\u091c\\u093f\\u0932\\u0947 \\u0915\\u0947 \\u092a\\u0941\\u0932\\u093f\\u0938 \\u0935\\u093f\\u092d\\u093e\\u0917 \\u0928\\u0947 \\u092c\\u0924\\u093e\\u092f\\u093e \\u0915\\u093f \\u092c\\u092e \\u0905\\u091a\\u093e\\u0928\\u0915 \\u092b\\u091f \\u091c\\u093e\\u0928\\u0947 \\u0938\\u0947 \\u091a\\u093e\\u0930 \\u0938\\u093e\\u0932 \\u0915\\u0940 \\u090f\\u0915 \\u092c\\u091a\\u094d\\u091a\\u0940 \\u0938\\u0939\\u093f\\u0924 \\u091b\\u0939 \\u0914\\u0930 \\u090f\\u0915 \\u0938\\u093e\\u0932 \\u0915\\u0947 \\u0926\\u094b \\u092c\\u091a\\u094d\\u091a\\u094b\\u0902 \\u0915\\u0940 \\u0918\\u091f\\u0928\\u093e\\u0938\\u094d\\u0925\\u0932 \\u092a\\u0930 \\u0939\\u0940 \\u092e\\u094c\\u0924 \\u0939\\u094b \\u0917\\u0908, \\u091c\\u092c\\u0915\\u093f \\u091b\\u0939 \\u0938\\u093e\\u0932 \\u0915\\u0947 \\u090f\\u0915 \\u0905\\u0928\\u094d\\u092f \\u092c\\u091a\\u094d\\u091a\\u0947 \\u0928\\u0947 \\u0909\\u092a\\u091a\\u093e\\u0930 \\u0915\\u0947 \\u0926\\u094c\\u0930\\u093e\\u0928 \\u0905\\u0938\\u094d\\u092a\\u0924\\u093e\\u0932 \\u092e\\u0947\\u0902 \\u0926\\u092e \\u0924\\u094b\\u0921\\u093c \\u0926\\u093f\\u092f\\u093e\\u0964\\r\\u0907\\u0938 \\u0918\\u091f\\u0928\\u093e \\u092e\\u0947\\u0902 \\u0926\\u094b \\u0935\\u092f\\u0938\\u094d\\u0915 \\u0928\\u093e\\u0917\\u0930\\u093f\\u0915 \\u0917\\u092e\\u094d\\u092d\\u0940\\u0930 \\u0930\\u0942\\u092a \\u0938\\u0947 \\u091c\\u0932 \\u0917\\u090f, \\u091c\\u093f\\u0928\\u094d\\u0939\\u0947\\u0902 \\u0905\\u0938\\u094d\\u092a\\u0924\\u093e\\u0932 \\u092e\\u0947\\u0902 \\u092d\\u0930\\u094d\\u0924\\u0940 \\u0915\\u0930\\u093e\\u092f\\u093e \\u0917\\u092f\\u093e \\u0939\\u0948\\u0964 \\u092b\\u094d\\u0930\\u093e\\u0902\\u0938 \\u0914\\u0930 \\u0905\\u092e\\u0947\\u0930\\u093f\\u0915\\u093e \\u0915\\u0947 \\u0938\\u093e\\u0925 \\u0939\\u0941\\u090f \\u092f\\u0941\\u0926\\u094d\\u0927\\u094b\\u0902 \\u0915\\u0947 \\u0938\\u092e\\u092f \\u0935\\u093f\\u092f\\u0924\\u0928\\u093e\\u092e \\u0915\\u0947 \\u0915\\u092e\\u094d\\u092f\\u0941\\u0928\\u093f\\u0938\\u094d\\u091f\\u094b\\u0902 \\u0928\\u0947 \\u0907\\u0938\\u0940 \\u0907\\u0932\\u093e\\u0915\\u0947 \\u092e\\u0947\\u0902 \\u0921\\u0947\\u0930\\u093e \\u0921\\u093e\\u0932\\u093e \\u0925\\u093e\\u0964    \\n\\r\\u0907\\u0938 \\u0918\\u091f\\u0928\\u093e \\u092e\\u0947\\u0902 \\u0926\\u094b \\u0935\\u092f\\u0938\\u094d\\u0915 \\u0928\\u093e\\u0917\\u0930\\u093f\\u0915 \\u0917\\u092e\\u094d\\u092d\\u0940\\u0930 \\u0930\\u0942\\u092a \\u0938\\u0947 \\u091c\\u0932 \\u0917\\u090f, \\u091c\\u093f\\u0928\\u094d\\u0939\\u0947\\u0902 \\u0905\\u0938\\u094d\\u092a\\u0924\\u093e\\u0932 \\u092e\\u0947\\u0902 \\u092d\\u0930\\u094d\\u0924\\u0940 \\u0915\\u0930\\u093e\\u092f\\u093e \\u0917\\u092f\\u093e \\u0939\\u0948\\u0964 \\u092b\\u094d\\u0930\\u093e\\u0902\\u0938 \\u0914\\u0930 \\u0905\\u092e\\u0947\\u0930\\u093f\\u0915\\u093e \\u0915\\u0947 \\u0938\\u093e\\u0925 \\u0939\\u0941\\u090f \\u092f\\u0941\\u0926\\u094d\\u0927\\u094b\\u0902 \\u0915\\u0947 \\u0938\\u092e\\u092f \\u0935\\u093f\\u092f\\u0924\\u0928\\u093e\\u092e \\u0915\\u0947 \\u0915\\u092e\\u094d\\u092f\\u0941\\u0928\\u093f\\u0938\\u094d\\u091f\\u094b\\u0902 \\u0928\\u0947 \\u0907\\u0938\\u0940 \\u0907\\u0932\\u093e\\u0915\\u0947 \\u092e\\u0947\\u0902 \\u0921\\u0947\\u0930\\u093e \\u0921\\u093e\\u0932\\u093e \\u0925\\u093e\\u0964\",\n          \"\\u092e\\u0939\\u093e\\u0928 \\u0915\\u094d\\u0930\\u093f\\u0915\\u0947\\u091f\\u0930 \\u0907\\u092f\\u093e\\u0928 \\u092c\\u0949\\u0925\\u092e \\u0928\\u0947 \\u0915\\u0939\\u093e \\u0915\\u093f \\u0907\\u0902\\u0917\\u094d\\u0932\\u0948\\u0902\\u0921 \\u0915\\u0940 \\u0938\\u0930\\u091c\\u092e\\u0940\\u0902 \\u092a\\u0930 \\u0909\\u0938\\u0915\\u0947 \\u0916\\u093f\\u0932\\u093e\\u092b \\u0906\\u0917\\u093e\\u092e\\u0940 \\u0936\\u0943\\u0902\\u0916\\u0932\\u093e \\u0939\\u0940 \\u092d\\u093e\\u0930\\u0924\\u0940\\u092f \\u091f\\u0940\\u092e \\u0915\\u0947 \\u0932\\u093f\\u090f \\u0905\\u0938\\u0932\\u0940 \\u091f\\u0947\\u0938\\u094d\\u091f \\u092a\\u0930\\u0940\\u0915\\u094d\\u0937\\u093e \\u0939\\u094b\\u0917\\u0940\\u0964 \\u091f\\u0940\\u092e \\u0907\\u0902\\u0921\\u093f\\u092f\\u093e \\u0928\\u0947 \\u0918\\u0930\\u0947\\u0932\\u0942 \\u0936\\u0943\\u0902\\u0916\\u0932\\u093e \\u092e\\u0947\\u0902 \\u091c\\u0940\\u0924 \\u0915\\u0940 \\u092c\\u0926\\u094c\\u0932\\u0924 \\u091f\\u0947\\u0938\\u094d\\u091f \\u0930\\u0948\\u0902\\u0915\\u093f\\u0902\\u0917 \\u092e\\u0947\\u0902 \\u092a\\u0939\\u0932\\u093e \\u0938\\u094d\\u0925\\u093e\\u0928 \\u0939\\u093e\\u0938\\u093f\\u0932 \\u0915\\u093f\\u092f\\u093e \\u0925\\u093e\\u0964  \\u092c\\u0949\\u0925\\u092e \\u0928\\u0947 \\u090f\\u0915 \\u0905\\u0916\\u092c\\u093e\\u0930 \\u092e\\u0947\\u0902 \\u0905\\u092a\\u0928\\u0947 \\u0915\\u0949\\u0932\\u092e \\u092e\\u0947\\u0902 \\u0932\\u093f\\u0916\\u093e, \\u092d\\u093e\\u0930\\u0924\\u0940\\u092f \\u091f\\u0940\\u092e \\u092e\\u094c\\u091c\\u0942\\u0926\\u093e \\u0938\\u092e\\u092f \\u092e\\u0947\\u0902 \\u0926\\u0941\\u0928\\u093f\\u092f\\u093e \\u0915\\u0940 \\u0928\\u0902\\u092c\\u0930 \\u090f\\u0915 \\u091f\\u0947\\u0938\\u094d\\u091f \\u091f\\u0940\\u092e \\u0939\\u0948 \\u0914\\u0930 \\u0935\\u0939 \\u0905\\u092a\\u0928\\u0940 \\u0938\\u0930\\u091c\\u092e\\u0940\\u0902 \\u092a\\u0930 \\u0936\\u0943\\u0902\\u0916\\u0932\\u093e \\u091c\\u0940\\u0924\\u0928\\u0947 \\u0938\\u0947 \\u0907\\u0938 \\u092e\\u0941\\u0915\\u093e\\u092e \\u092a\\u0930 \\u092a\\u0939\\u0941\\u0902\\u091a\\u0940\\u0964 \\u0932\\u0947\\u0915\\u093f\\u0928 \\u0905\\u0917\\u0930 \\u0906\\u092a \\u0926\\u0947\\u0916\\u0947\\u0902, \\u0924\\u094b \\u0909\\u0928\\u094d\\u0939\\u094b\\u0902\\u0928\\u0947 \\u0905\\u092a\\u0928\\u0947 \\u0935\\u093f\\u0926\\u0947\\u0936\\u0940 \\u0926\\u094c\\u0930\\u094b\\u0902 \\u092a\\u0930 \\u0938\\u093f\\u0930\\u094d\\u092b \\u092c\\u093e\\u0902\\u0917\\u094d\\u0932\\u093e\\u0926\\u0947\\u0936 \\u0914\\u0930 \\u0928\\u094d\\u092f\\u0942\\u091c\\u0940\\u0932\\u0948\\u0902\\u0921 \\u0915\\u094b \\u0939\\u0940 \\u0939\\u0930\\u093e\\u092f\\u093e \\u0939\\u0948, \\u0906\\u092a \\u092e\\u0939\\u0938\\u0942\\u0938 \\u0915\\u0930 \\u0938\\u0915\\u0924\\u0947 \\u0939\\u0948\\u0902 \\u0915\\u093f \\u0909\\u0928\\u094d\\u0939\\u0947\\u0902 \\u0905\\u092a\\u0928\\u0940 \\u0915\\u093e\\u092c\\u093f\\u0932\\u093f\\u092f\\u0924 \\u0907\\u0938 \\u0926\\u094c\\u0930\\u0947 \\u092a\\u0930 \\u0939\\u0940 \\u0938\\u093e\\u092c\\u093f\\u0924 \\u0915\\u0930\\u0928\\u0940 \\u0939\\u094b\\u0917\\u0940\\u0964  \\u0935\\u093f\\u0936\\u094d\\u0935 \\u0915\\u0940 \\u0928\\u0902\\u092c\\u0930 \\u090f\\u0915 \\u092d\\u093e\\u0930\\u0924\\u0940\\u092f \\u091f\\u0940\\u092e \\u091c\\u0941\\u0932\\u093e\\u0908 \\u0938\\u0947 \\u0924\\u0940\\u0938\\u0930\\u0947 \\u0938\\u094d\\u0925\\u093e\\u0928 \\u092a\\u0930 \\u0915\\u093e\\u092c\\u093f\\u091c \\u0907\\u0902\\u0917\\u094d\\u0932\\u0948\\u0902\\u0921 \\u0938\\u0947 \\u091a\\u093e\\u0930 \\u092e\\u0948\\u091a\\u094b\\u0902 \\u0915\\u0940 \\u091f\\u0947\\u0938\\u094d\\u091f \\u0936\\u0943\\u0902\\u0916\\u0932\\u093e \\u0916\\u0947\\u0932\\u0947\\u0917\\u0940, \\u0924\\u092d\\u0940 \\u092c\\u093e\\u0926\\u0936\\u093e\\u0939\\u0924 \\u0915\\u093e \\u0905\\u0938\\u0932\\u0940 \\u0926\\u094d\\u0935\\u0902\\u0926\\u094d\\u0935 \\u0936\\u0941\\u0930\\u0942 \\u0939\\u094b\\u0917\\u093e\\u0964 \\u0907\\u0938 \\u0926\\u094c\\u0930\\u0947 \\u092a\\u0930 \\u092d\\u093e\\u0930\\u0924\\u0940\\u092f \\u091f\\u0940\\u092e \\u091a\\u093e\\u0930 \\u091f\\u0947\\u0938\\u094d\\u091f \\u092e\\u0948\\u091a \\u0915\\u0947 \\u0905\\u0932\\u093e\\u0935\\u093e \\u092a\\u093e\\u0902\\u091a \\u0935\\u0928\\u0921\\u0947 \\u0914\\u0930 \\u090f\\u0915 \\u091f\\u094d\\u0935\\u0947\\u0902\\u091f\\u0940-20 \\u092e\\u0948\\u091a \\u0916\\u0947\\u0932\\u0947\\u0917\\u0940\\u0964 \\u092a\\u0939\\u0932\\u093e \\u091f\\u0947\\u0938\\u094d\\u091f 21 \\u091c\\u0941\\u0932\\u093e\\u0908 \\u0938\\u0947 \\u0932\\u0949\\u0930\\u094d\\u0921\\u094d\\u0938 \\u092a\\u0930 \\u0936\\u0941\\u0930\\u0942 \\u0939\\u094b\\u0917\\u093e\\u0964 \\u092c\\u0949\\u0925\\u092e \\u0939\\u093e\\u0932\\u093e\\u0902\\u0915\\u093f \\u0906\\u0908\\u0938\\u0940\\u0938\\u0940 \\u0930\\u0948\\u0902\\u0915\\u093f\\u0902\\u0917 \\u092a\\u094d\\u0930\\u0923\\u093e\\u0932\\u0940 \\u0915\\u094b \\u0924\\u0935\\u091c\\u094d\\u091c\\u094b \\u0928\\u0939\\u0940\\u0902 \\u0926\\u0947\\u0924\\u0947 \\u0914\\u0930 \\u0935\\u0939 \\u092e\\u093e\\u0928\\u0924\\u0947 \\u0939\\u0948\\u0902 \\u0915\\u093f \\u092e\\u094c\\u091c\\u0942\\u0926\\u093e \\u0938\\u092e\\u092f \\u092e\\u0947\\u0902 \\u0907\\u0902\\u0917\\u094d\\u0932\\u0948\\u0902\\u0921 \\u0915\\u0940 \\u091f\\u0940\\u092e \\u0939\\u0940 \\u0907\\u0938 \\u0932\\u0902\\u092c\\u0947 \\u092a\\u094d\\u0930\\u093e\\u0930\\u0942\\u092a \\u092e\\u0947\\u0902 \\u0938\\u0930\\u094d\\u0935\\u0936\\u094d\\u0930\\u0947\\u0937\\u094d\\u0920 \\u0939\\u0948\\u0964\",\n          \"\\u0907\\u0938 \\u092f\\u094b\\u091c\\u0928\\u093e \\u0915\\u094b \\u0938\\u092b\\u0932 \\u092c\\u0928\\u093e\\u0928\\u0947 \\u0915\\u0947 \\u0932\\u093f\\u090f \\u091c\\u093f\\u0932\\u093e \\u092a\\u0902\\u091a\\u093e\\u092f\\u0924 \\u0930\\u093e\\u091c \\u0905\\u0927\\u093f\\u0915\\u093e\\u0930\\u0940 \\u0928\\u0947 \\u0938\\u092d\\u0940 \\u0938\\u0939\\u093e\\u092f\\u0915 \\u0935\\u093f\\u0915\\u093e\\u0938 \\u0905\\u0927\\u093f\\u0915\\u093e\\u0930\\u093f\\u092f\\u094b\\u0902 \\u0915\\u094b \\u0938\\u0930\\u094d\\u0915\\u0941\\u0932\\u0930 \\u091c\\u093e\\u0930\\u0940 \\u0915\\u0930 \\u0928\\u093f\\u0930\\u094d\\u0926\\u0947\\u0936 \\u0926\\u093f\\u090f \\u0939\\u0948\\u0902 \\u0915\\u093f \\u0935\\u0947 \\u0905\\u092a\\u0928\\u0947 \\u0915\\u094d\\u0937\\u0947\\u0924\\u094d\\u0930 \\u092e\\u0947\\u0902 \\u0935\\u094d\\u092f\\u093e\\u092a\\u0915 \\u092a\\u094d\\u0930\\u091a\\u093e\\u0930 \\u092a\\u094d\\u0930\\u0938\\u093e\\u0930 \\u0915\\u0930\\u093e\\u090f\\u0902 \\u0914\\u0930 \\u0905\\u092a\\u0928\\u0947 \\u092c\\u094d\\u0932\\u0949\\u0915 \\u0915\\u0947 \\u0910\\u0938\\u0947 \\u092d\\u093e\\u0907\\u092f\\u094b\\u0902 \\u0915\\u0940 \\u0938\\u0942\\u091a\\u0940 \\u0924\\u0940\\u0928 \\u0926\\u093f\\u0928 \\u092e\\u0947\\u0902 \\u091c\\u093f\\u0932\\u093e \\u092a\\u0902\\u091a\\u093e\\u092f\\u0924 \\u0915\\u093e\\u0930\\u094d\\u092f\\u093e\\u0932\\u092f \\u092d\\u093f\\u091c\\u0935\\u093e\\u090f\\u0902 \\u091c\\u094b \\u0930\\u0915\\u094d\\u0937\\u093e\\u092c\\u0928\\u094d\\u0927\\u0928 \\u0915\\u0947 \\u0926\\u093f\\u0928 \\u092c\\u0939\\u0928 \\u0915\\u094b \\u0909\\u092a\\u0939\\u093e\\u0930 \\u0938\\u094d\\u0935\\u0930\\u0942\\u092a \\u0936\\u094c\\u091a\\u093e\\u0932\\u092f \\u0928\\u093f\\u0930\\u094d\\u092e\\u093e\\u0923 \\u0915\\u0930\\u093e\\u0915\\u0930 \\u092d\\u0947\\u0902\\u091f \\u0915\\u0930\\u0928\\u0947 \\u0915\\u094b \\u0924\\u0948\\u092f\\u093e\\u0930 \\u0939\\u094b\\u0902\\u0964\"\n        ],\n        \"semantic_type\": \"\",\n        \"description\": \"\"\n      }\n    }\n  ]\n}"
            }
          },
          "metadata": {},
          "execution_count": 4
        }
      ]
    },
    {
      "cell_type": "code",
      "source": [
        "dataset['summary'].isnull().sum()"
      ],
      "metadata": {
        "colab": {
          "base_uri": "https://localhost:8080/"
        },
        "id": "1dF2WRnZpAB2",
        "outputId": "153d3bd9-f309-4323-caea-11c947a7019c"
      },
      "execution_count": null,
      "outputs": [
        {
          "output_type": "execute_result",
          "data": {
            "text/plain": [
              "5290"
            ]
          },
          "metadata": {},
          "execution_count": 5
        }
      ]
    },
    {
      "cell_type": "code",
      "source": [
        "dataset_cleaned = dataset[dataset['summary'].notnull()]\n",
        "dataset_cleaned = dataset_cleaned[dataset_cleaned['article'].notnull()]\n",
        "dataset_cleaned = dataset_cleaned[dataset_cleaned['headline'].notnull()]\n",
        "dataset_cleaned.head()"
      ],
      "metadata": {
        "colab": {
          "base_uri": "https://localhost:8080/",
          "height": 293
        },
        "id": "lJrYiwY9pOM6",
        "outputId": "8a2671af-eca7-499c-fc97-60526b38e607"
      },
      "execution_count": null,
      "outputs": [
        {
          "output_type": "execute_result",
          "data": {
            "text/plain": [
              "                                             headline  \\\n",
              "3            रिम करेगा दो हजार कर्मचारियों की छंटनी     \n",
              "7   अमेरिका : राष्ट्रपति पद की उम्मीदवार हिलेरी क्...   \n",
              "8   देश के सर्वश्रेष्ठ स्पिनरों में से एक है हरभजन...   \n",
              "9   इंडिगो के स्टाफ ने दिल्ली एयरपोर्ट पर पैसेंजर ...   \n",
              "10  नव्या नवेली के साथ दोस्ती पर जावेद जाफरी के बे...   \n",
              "\n",
              "                                              summary  \\\n",
              "3   ब्लैकबेरी हैंडसेट बनाने वाली कनाडा की कंपनी रि...   \n",
              "7   श्रद्धांजलि सभा के दौरान अचानक खराब हुई हिलेरी...   \n",
              "8   पूर्व भारतीय कप्तान अनिल कुंबले का मानना है कि...   \n",
              "9   इंडिगो के ग्राउंड स्टाफ ने यात्री से की हाथापा...   \n",
              "10  मीजान जाफरी ने किया खुलासा\\r\\nनव्या नंदा को बत...   \n",
              "\n",
              "                                              article  \n",
              "3   ब्लैकबेरी हैंडसेट बनाने वाली कनाडा की कंपनी रि...  \n",
              "7   अमेरिका में राष्ट्रपति पद के लिए डेमोक्रेटिक प...  \n",
              "8   पूर्व भारतीय क्रिकेट कप्तान अनिल कुंबले का मान...  \n",
              "9   इंडिगो एयरलाइन के प्रेसीडेंट और डायरेक्टर आदित...  \n",
              "10  संजय लीला भंसाली की फिल्म 'मलाल' से बॉलीवुड मे...  "
            ],
            "text/html": [
              "\n",
              "  <div id=\"df-7df06f56-80ed-427b-89ce-ace3c0676081\" class=\"colab-df-container\">\n",
              "    <div>\n",
              "<style scoped>\n",
              "    .dataframe tbody tr th:only-of-type {\n",
              "        vertical-align: middle;\n",
              "    }\n",
              "\n",
              "    .dataframe tbody tr th {\n",
              "        vertical-align: top;\n",
              "    }\n",
              "\n",
              "    .dataframe thead th {\n",
              "        text-align: right;\n",
              "    }\n",
              "</style>\n",
              "<table border=\"1\" class=\"dataframe\">\n",
              "  <thead>\n",
              "    <tr style=\"text-align: right;\">\n",
              "      <th></th>\n",
              "      <th>headline</th>\n",
              "      <th>summary</th>\n",
              "      <th>article</th>\n",
              "    </tr>\n",
              "  </thead>\n",
              "  <tbody>\n",
              "    <tr>\n",
              "      <th>3</th>\n",
              "      <td>रिम करेगा दो हजार कर्मचारियों की छंटनी</td>\n",
              "      <td>ब्लैकबेरी हैंडसेट बनाने वाली कनाडा की कंपनी रि...</td>\n",
              "      <td>ब्लैकबेरी हैंडसेट बनाने वाली कनाडा की कंपनी रि...</td>\n",
              "    </tr>\n",
              "    <tr>\n",
              "      <th>7</th>\n",
              "      <td>अमेरिका : राष्ट्रपति पद की उम्मीदवार हिलेरी क्...</td>\n",
              "      <td>श्रद्धांजलि सभा के दौरान अचानक खराब हुई हिलेरी...</td>\n",
              "      <td>अमेरिका में राष्ट्रपति पद के लिए डेमोक्रेटिक प...</td>\n",
              "    </tr>\n",
              "    <tr>\n",
              "      <th>8</th>\n",
              "      <td>देश के सर्वश्रेष्ठ स्पिनरों में से एक है हरभजन...</td>\n",
              "      <td>पूर्व भारतीय कप्तान अनिल कुंबले का मानना है कि...</td>\n",
              "      <td>पूर्व भारतीय क्रिकेट कप्तान अनिल कुंबले का मान...</td>\n",
              "    </tr>\n",
              "    <tr>\n",
              "      <th>9</th>\n",
              "      <td>इंडिगो के स्टाफ ने दिल्ली एयरपोर्ट पर पैसेंजर ...</td>\n",
              "      <td>इंडिगो के ग्राउंड स्टाफ ने यात्री से की हाथापा...</td>\n",
              "      <td>इंडिगो एयरलाइन के प्रेसीडेंट और डायरेक्टर आदित...</td>\n",
              "    </tr>\n",
              "    <tr>\n",
              "      <th>10</th>\n",
              "      <td>नव्या नवेली के साथ दोस्ती पर जावेद जाफरी के बे...</td>\n",
              "      <td>मीजान जाफरी ने किया खुलासा\\r\\nनव्या नंदा को बत...</td>\n",
              "      <td>संजय लीला भंसाली की फिल्म 'मलाल' से बॉलीवुड मे...</td>\n",
              "    </tr>\n",
              "  </tbody>\n",
              "</table>\n",
              "</div>\n",
              "    <div class=\"colab-df-buttons\">\n",
              "\n",
              "  <div class=\"colab-df-container\">\n",
              "    <button class=\"colab-df-convert\" onclick=\"convertToInteractive('df-7df06f56-80ed-427b-89ce-ace3c0676081')\"\n",
              "            title=\"Convert this dataframe to an interactive table.\"\n",
              "            style=\"display:none;\">\n",
              "\n",
              "  <svg xmlns=\"http://www.w3.org/2000/svg\" height=\"24px\" viewBox=\"0 -960 960 960\">\n",
              "    <path d=\"M120-120v-720h720v720H120Zm60-500h600v-160H180v160Zm220 220h160v-160H400v160Zm0 220h160v-160H400v160ZM180-400h160v-160H180v160Zm440 0h160v-160H620v160ZM180-180h160v-160H180v160Zm440 0h160v-160H620v160Z\"/>\n",
              "  </svg>\n",
              "    </button>\n",
              "\n",
              "  <style>\n",
              "    .colab-df-container {\n",
              "      display:flex;\n",
              "      gap: 12px;\n",
              "    }\n",
              "\n",
              "    .colab-df-convert {\n",
              "      background-color: #E8F0FE;\n",
              "      border: none;\n",
              "      border-radius: 50%;\n",
              "      cursor: pointer;\n",
              "      display: none;\n",
              "      fill: #1967D2;\n",
              "      height: 32px;\n",
              "      padding: 0 0 0 0;\n",
              "      width: 32px;\n",
              "    }\n",
              "\n",
              "    .colab-df-convert:hover {\n",
              "      background-color: #E2EBFA;\n",
              "      box-shadow: 0px 1px 2px rgba(60, 64, 67, 0.3), 0px 1px 3px 1px rgba(60, 64, 67, 0.15);\n",
              "      fill: #174EA6;\n",
              "    }\n",
              "\n",
              "    .colab-df-buttons div {\n",
              "      margin-bottom: 4px;\n",
              "    }\n",
              "\n",
              "    [theme=dark] .colab-df-convert {\n",
              "      background-color: #3B4455;\n",
              "      fill: #D2E3FC;\n",
              "    }\n",
              "\n",
              "    [theme=dark] .colab-df-convert:hover {\n",
              "      background-color: #434B5C;\n",
              "      box-shadow: 0px 1px 3px 1px rgba(0, 0, 0, 0.15);\n",
              "      filter: drop-shadow(0px 1px 2px rgba(0, 0, 0, 0.3));\n",
              "      fill: #FFFFFF;\n",
              "    }\n",
              "  </style>\n",
              "\n",
              "    <script>\n",
              "      const buttonEl =\n",
              "        document.querySelector('#df-7df06f56-80ed-427b-89ce-ace3c0676081 button.colab-df-convert');\n",
              "      buttonEl.style.display =\n",
              "        google.colab.kernel.accessAllowed ? 'block' : 'none';\n",
              "\n",
              "      async function convertToInteractive(key) {\n",
              "        const element = document.querySelector('#df-7df06f56-80ed-427b-89ce-ace3c0676081');\n",
              "        const dataTable =\n",
              "          await google.colab.kernel.invokeFunction('convertToInteractive',\n",
              "                                                    [key], {});\n",
              "        if (!dataTable) return;\n",
              "\n",
              "        const docLinkHtml = 'Like what you see? Visit the ' +\n",
              "          '<a target=\"_blank\" href=https://colab.research.google.com/notebooks/data_table.ipynb>data table notebook</a>'\n",
              "          + ' to learn more about interactive tables.';\n",
              "        element.innerHTML = '';\n",
              "        dataTable['output_type'] = 'display_data';\n",
              "        await google.colab.output.renderOutput(dataTable, element);\n",
              "        const docLink = document.createElement('div');\n",
              "        docLink.innerHTML = docLinkHtml;\n",
              "        element.appendChild(docLink);\n",
              "      }\n",
              "    </script>\n",
              "  </div>\n",
              "\n",
              "\n",
              "<div id=\"df-1a4b830c-7979-4db4-9997-3954401b0da5\">\n",
              "  <button class=\"colab-df-quickchart\" onclick=\"quickchart('df-1a4b830c-7979-4db4-9997-3954401b0da5')\"\n",
              "            title=\"Suggest charts\"\n",
              "            style=\"display:none;\">\n",
              "\n",
              "<svg xmlns=\"http://www.w3.org/2000/svg\" height=\"24px\"viewBox=\"0 0 24 24\"\n",
              "     width=\"24px\">\n",
              "    <g>\n",
              "        <path d=\"M19 3H5c-1.1 0-2 .9-2 2v14c0 1.1.9 2 2 2h14c1.1 0 2-.9 2-2V5c0-1.1-.9-2-2-2zM9 17H7v-7h2v7zm4 0h-2V7h2v10zm4 0h-2v-4h2v4z\"/>\n",
              "    </g>\n",
              "</svg>\n",
              "  </button>\n",
              "\n",
              "<style>\n",
              "  .colab-df-quickchart {\n",
              "      --bg-color: #E8F0FE;\n",
              "      --fill-color: #1967D2;\n",
              "      --hover-bg-color: #E2EBFA;\n",
              "      --hover-fill-color: #174EA6;\n",
              "      --disabled-fill-color: #AAA;\n",
              "      --disabled-bg-color: #DDD;\n",
              "  }\n",
              "\n",
              "  [theme=dark] .colab-df-quickchart {\n",
              "      --bg-color: #3B4455;\n",
              "      --fill-color: #D2E3FC;\n",
              "      --hover-bg-color: #434B5C;\n",
              "      --hover-fill-color: #FFFFFF;\n",
              "      --disabled-bg-color: #3B4455;\n",
              "      --disabled-fill-color: #666;\n",
              "  }\n",
              "\n",
              "  .colab-df-quickchart {\n",
              "    background-color: var(--bg-color);\n",
              "    border: none;\n",
              "    border-radius: 50%;\n",
              "    cursor: pointer;\n",
              "    display: none;\n",
              "    fill: var(--fill-color);\n",
              "    height: 32px;\n",
              "    padding: 0;\n",
              "    width: 32px;\n",
              "  }\n",
              "\n",
              "  .colab-df-quickchart:hover {\n",
              "    background-color: var(--hover-bg-color);\n",
              "    box-shadow: 0 1px 2px rgba(60, 64, 67, 0.3), 0 1px 3px 1px rgba(60, 64, 67, 0.15);\n",
              "    fill: var(--button-hover-fill-color);\n",
              "  }\n",
              "\n",
              "  .colab-df-quickchart-complete:disabled,\n",
              "  .colab-df-quickchart-complete:disabled:hover {\n",
              "    background-color: var(--disabled-bg-color);\n",
              "    fill: var(--disabled-fill-color);\n",
              "    box-shadow: none;\n",
              "  }\n",
              "\n",
              "  .colab-df-spinner {\n",
              "    border: 2px solid var(--fill-color);\n",
              "    border-color: transparent;\n",
              "    border-bottom-color: var(--fill-color);\n",
              "    animation:\n",
              "      spin 1s steps(1) infinite;\n",
              "  }\n",
              "\n",
              "  @keyframes spin {\n",
              "    0% {\n",
              "      border-color: transparent;\n",
              "      border-bottom-color: var(--fill-color);\n",
              "      border-left-color: var(--fill-color);\n",
              "    }\n",
              "    20% {\n",
              "      border-color: transparent;\n",
              "      border-left-color: var(--fill-color);\n",
              "      border-top-color: var(--fill-color);\n",
              "    }\n",
              "    30% {\n",
              "      border-color: transparent;\n",
              "      border-left-color: var(--fill-color);\n",
              "      border-top-color: var(--fill-color);\n",
              "      border-right-color: var(--fill-color);\n",
              "    }\n",
              "    40% {\n",
              "      border-color: transparent;\n",
              "      border-right-color: var(--fill-color);\n",
              "      border-top-color: var(--fill-color);\n",
              "    }\n",
              "    60% {\n",
              "      border-color: transparent;\n",
              "      border-right-color: var(--fill-color);\n",
              "    }\n",
              "    80% {\n",
              "      border-color: transparent;\n",
              "      border-right-color: var(--fill-color);\n",
              "      border-bottom-color: var(--fill-color);\n",
              "    }\n",
              "    90% {\n",
              "      border-color: transparent;\n",
              "      border-bottom-color: var(--fill-color);\n",
              "    }\n",
              "  }\n",
              "</style>\n",
              "\n",
              "  <script>\n",
              "    async function quickchart(key) {\n",
              "      const quickchartButtonEl =\n",
              "        document.querySelector('#' + key + ' button');\n",
              "      quickchartButtonEl.disabled = true;  // To prevent multiple clicks.\n",
              "      quickchartButtonEl.classList.add('colab-df-spinner');\n",
              "      try {\n",
              "        const charts = await google.colab.kernel.invokeFunction(\n",
              "            'suggestCharts', [key], {});\n",
              "      } catch (error) {\n",
              "        console.error('Error during call to suggestCharts:', error);\n",
              "      }\n",
              "      quickchartButtonEl.classList.remove('colab-df-spinner');\n",
              "      quickchartButtonEl.classList.add('colab-df-quickchart-complete');\n",
              "    }\n",
              "    (() => {\n",
              "      let quickchartButtonEl =\n",
              "        document.querySelector('#df-1a4b830c-7979-4db4-9997-3954401b0da5 button');\n",
              "      quickchartButtonEl.style.display =\n",
              "        google.colab.kernel.accessAllowed ? 'block' : 'none';\n",
              "    })();\n",
              "  </script>\n",
              "</div>\n",
              "\n",
              "    </div>\n",
              "  </div>\n"
            ],
            "application/vnd.google.colaboratory.intrinsic+json": {
              "type": "dataframe",
              "variable_name": "dataset_cleaned",
              "summary": "{\n  \"name\": \"dataset_cleaned\",\n  \"rows\": 4570,\n  \"fields\": [\n    {\n      \"column\": \"headline\",\n      \"properties\": {\n        \"dtype\": \"string\",\n        \"num_unique_values\": 4506,\n        \"samples\": [\n          \"BJP \\u0905\\u0927\\u094d\\u092f\\u0915\\u094d\\u0937 \\u0905\\u092e\\u093f\\u0924 \\u0936\\u093e\\u0939 \\u0915\\u094b \\u0939\\u0941\\u0906 \\u0938\\u094d\\u0935\\u093e\\u0907\\u0928 \\u092b\\u094d\\u0932\\u0942, AIIMS \\u092e\\u0947\\u0902 \\u092d\\u0930\\u094d\\u0924\\u0940  \",\n          \"Ayodhya Verdict: \\u0905\\u092f\\u094b\\u0927\\u094d\\u092f\\u093e \\u092a\\u0930 \\u0938\\u0941\\u092a\\u094d\\u0930\\u0940\\u092e \\u0915\\u094b\\u0930\\u094d\\u091f \\u0915\\u0947 \\u092b\\u0948\\u0938\\u0932\\u0947 \\u0915\\u0947 \\u092c\\u093e\\u0926 \\u0915\\u0941\\u092e\\u093e\\u0930 \\u0935\\u093f\\u0936\\u094d\\u0935\\u093e\\u0938 \\u092c\\u094b\\u0932\\u0947- \\u092e\\u0947\\u0930\\u0947 \\u0930\\u093e\\u092e, \\u0915\\u0941\\u091b \\u092c\\u094b\\u0932 \\u0928\\u0939\\u0940\\u0902...  \",\n          \"\\u0928\\u0940\\u0932\\u093e\\u092e\\u0940 \\u0939\\u0940 \\u092a\\u094d\\u0930\\u093e\\u0915\\u0943\\u0924\\u093f\\u0915 \\u0938\\u0902\\u0938\\u093e\\u0927\\u0928\\u094b\\u0902 \\u0915\\u0947 \\u0906\\u0935\\u0902\\u091f\\u0928 \\u0915\\u093e \\u090f\\u0915\\u092e\\u093e\\u0924\\u094d\\u0930 \\u0924\\u0930\\u0940\\u0915\\u093e \\u0928\\u0939\\u0940\\u0902 : \\u0938\\u0941\\u092a\\u094d\\u0930\\u0940\\u092e \\u0915\\u094b\\u0930\\u094d\\u091f  \"\n        ],\n        \"semantic_type\": \"\",\n        \"description\": \"\"\n      }\n    },\n    {\n      \"column\": \"summary\",\n      \"properties\": {\n        \"dtype\": \"string\",\n        \"num_unique_values\": 4507,\n        \"samples\": [\n          \"\\u0907\\u0938 \\u092d\\u092f\\u093e\\u0935\\u0939 \\u0939\\u093e\\u0926\\u0938\\u0947 \\u0915\\u0940 \\u0936\\u0942\\u091f\\u093f\\u0902\\u0917 \\u0915\\u0930\\u0928\\u0947 \\u0935\\u093e\\u0932\\u0947 \\u0938\\u093f\\u0932\\u094d\\u0935\\u093e \\u0928\\u0947 \\u0915\\u0939\\u093e, \\u0939\\u0930 \\u0924\\u0930\\u092b \\u0916\\u0942\\u0928 \\u092b\\u0948\\u0932\\u093e \\u0939\\u0941\\u0906 \\u0925\\u093e, \\u092a\\u0940\\u0921\\u093c\\u093f\\u0924\\u094b\\u0902 \\u0915\\u094b \\u0938\\u094d\\u091f\\u094d\\u0930\\u0947\\u091a\\u0930 \\u0938\\u0947 \\u0932\\u0947 \\u091c\\u093e\\u092f\\u093e \\u091c\\u093e \\u0930\\u0939\\u093e \\u0925\\u093e\\u0964 \\u092e\\u0948\\u0902\\u0928\\u0947 \\u0926\\u0947\\u0916\\u093e \\u0915\\u093f \\u092a\\u0948\\u0930 \\u0909\\u0928\\u0915\\u0947 \\u0936\\u0930\\u0940\\u0930 \\u0938\\u0947 \\u0905\\u0932\\u0917 \\u0939\\u094b \\u0917\\u090f \\u0925\\u0947\\u0964 \\u0932\\u094b\\u0917 \\u091a\\u0940\\u0916-\\u092a\\u0941\\u0915\\u093e\\u0930 \\u0915\\u0930 \\u0930\\u0939\\u0947 \\u0925\\u0947\\u0964 \\u0932\\u094b\\u0917 \\u092d\\u094d\\u0930\\u092e \\u0915\\u0940 \\u0905\\u0935\\u0938\\u094d\\u0925\\u093e \\u092e\\u0947\\u0902 \\u0925\\u0947\\u0964\",\n          \"\\u091c\\u0928\\u0939\\u093f\\u0924 \\u092e\\u094b\\u0930\\u094d\\u091a\\u093e \\u0928\\u0947 \\u091f\\u094b\\u0932 \\u0915\\u0947 \\u0916\\u093f\\u0932\\u093e\\u092b \\u0905\\u0928\\u093f\\u0936\\u094d\\u091a\\u093f\\u0924\\u0915\\u093e\\u0932\\u0940\\u0928 \\u0935\\u093f\\u0930\\u094b\\u0927 \\u092a\\u094d\\u0930\\u0926\\u0930\\u094d\\u0936\\u0928 \\u0915\\u0940 \\u0918\\u094b\\u0937\\u0923\\u093e \\u0915\\u0940 \\u0939\\u0948\\r\\n\\u0909\\u0928\\u0915\\u093e \\u0906\\u0930\\u094b\\u092a \\u0939\\u0948 \\u0915\\u093f \\u0932\\u093e\\u0917\\u0924 \\u0935\\u0938\\u0942\\u0932 \\u0939\\u094b \\u091c\\u093e\\u0928\\u0947 \\u0915\\u0947 \\u092c\\u093e\\u0926 \\u092d\\u0940 \\u091f\\u094b\\u0932 \\u0935\\u0938\\u0942\\u0932\\u093e \\u091c\\u093e \\u0930\\u0939\\u093e \\u0939\\u0948\\r\\n\\u0907\\u0938\\u0940 \\u0915\\u0947 \\u0935\\u093f\\u0930\\u094b\\u0927 \\u092e\\u0947\\u0902 \\u092a\\u094d\\u0930\\u0926\\u0930\\u094d\\u0936\\u0928\\u0915\\u093e\\u0930\\u093f\\u092f\\u094b\\u0902 \\u0928\\u0947 DND \\u092a\\u0930 \\u0921\\u0947\\u0930\\u093e \\u0921\\u093e\\u0932 \\u091f\\u094b\\u0932 \\u0935\\u0938\\u0942\\u0932\\u0940 \\u0930\\u0941\\u0915\\u0935\\u093e \\u0926\\u0940\",\n          \"\\u0935\\u093f\\u0936\\u094d\\u0935 \\u0939\\u093f\\u0902\\u0926\\u0942 \\u092a\\u0930\\u093f\\u0937\\u0926 \\u0915\\u0947 \\u0905\\u0902\\u0924\\u0930\\u0930\\u093e\\u0937\\u094d\\u091f\\u094d\\u0930\\u0940\\u092f \\u0915\\u093e\\u0930\\u094d\\u092f\\u0915\\u093e\\u0930\\u0940 \\u0905\\u0927\\u094d\\u092f\\u0915\\u094d\\u0937 \\u092a\\u094d\\u0930\\u0935\\u0940\\u0923 \\u0924\\u094b\\u0917\\u0921\\u093c\\u093f\\u092f\\u093e \\u0928\\u0947 \\u0915\\u093f \\u0917\\u0941\\u091c\\u0930\\u093e\\u0924 \\u0915\\u0947 \\u092e\\u0941\\u0916\\u094d\\u092f\\u092e\\u0902\\u0924\\u094d\\u0930\\u0940 \\u0928\\u0930\\u0947\\u0928\\u094d\\u0926\\u094d\\u0930 \\u092e\\u094b\\u0926\\u0940 \\u0938\\u0947 \\u0909\\u0928\\u094d\\u0939\\u0947\\u0902 \\u0928 \\u0924\\u094b \\u0932\\u0917\\u093e\\u0935 \\u0939\\u0948 \\u0914\\u0930 \\u0928 \\u0939\\u0940 \\u0915\\u094b\\u0908 \\u092a\\u0930\\u0939\\u0947\\u091c, \\u0935\\u0939 \\u0924\\u094b \\u0915\\u0947\\u0935\\u0932 100 \\u0915\\u0930\\u094b\\u0921\\u093c \\u0939\\u093f\\u0902\\u0926\\u0941\\u0913\\u0902 \\u0915\\u0947 \\u092a\\u094d\\u0930\\u0924\\u093f \\u0938\\u092e\\u0930\\u094d\\u092a\\u093f\\u0924 \\u0939\\u0948\\u0902\\u0964\"\n        ],\n        \"semantic_type\": \"\",\n        \"description\": \"\"\n      }\n    },\n    {\n      \"column\": \"article\",\n      \"properties\": {\n        \"dtype\": \"string\",\n        \"num_unique_values\": 4430,\n        \"samples\": [\n          \"\\u0935\\u0948\\u0938\\u0947 \\u092a\\u093e\\u0930\\u094d\\u091f\\u0940 \\u0915\\u0940 \\u0938\\u0940\\u091f\\u0947\\u0902 \\u0907\\u0938 \\u092c\\u093e\\u0930 16 \\u0915\\u092e \\u0939\\u094b \\u0917\\u0908\\u0902. \\u0909\\u0938\\u0928\\u0947 2012 \\u092e\\u0947\\u0902 115 \\u0938\\u0940\\u091f\\u0947\\u0902 \\u0939\\u093e\\u0938\\u093f\\u0932 \\u0915\\u0940 \\u0925\\u0940\\u0902. \\u092d\\u093e\\u091c\\u092a\\u093e \\u0928\\u0947 \\u0917\\u0941\\u091c\\u0930\\u093e\\u0924 \\u092e\\u0947\\u0902 \\u0932\\u0917\\u093e\\u0924\\u093e\\u0930 \\u091b\\u0920\\u0940 \\u092c\\u093e\\u0930 \\u0935\\u093f\\u0927\\u093e\\u0928\\u0938\\u092d\\u093e \\u091a\\u0941\\u0928\\u093e\\u0935 \\u091c\\u0940\\u0924\\u093e \\u0939\\u0948. \\u0935\\u093f\\u092a\\u0915\\u094d\\u0937\\u0940 \\u0915\\u093e\\u0902\\u0917\\u094d\\u0930\\u0947\\u0938 \\u0905\\u092a\\u0928\\u0940 \\u0938\\u0940\\u091f\\u0947\\u0902 \\u092c\\u0922\\u093c\\u093e\\u0928\\u0947 \\u092e\\u0947\\u0902 \\u0915\\u093e\\u092e\\u092f\\u093e\\u092c \\u0930\\u0939\\u0940 \\u0939\\u0948. \\u0909\\u0938\\u0947 2012 \\u092e\\u0947\\u0902 61 \\u0938\\u0940\\u091f\\u0947\\u0902 \\u092e\\u093f\\u0932\\u0940 \\u0925\\u0940\\u0902, \\u0907\\u0938 \\u092c\\u093e\\u0930 \\u0909\\u0938\\u0928\\u0947 77 \\u0938\\u0940\\u091f\\u0947\\u0902 \\u091c\\u0940\\u0924\\u0940 \\u0939\\u0948\\u0902. \\u0938\\u0939\\u092f\\u094b\\u0917\\u093f\\u092f\\u094b\\u0902 \\u0915\\u0947 \\u0938\\u093e\\u0925 \\u092e\\u093f\\u0932\\u0915\\u0930 \\u0935\\u093f\\u0927\\u093e\\u0928\\u0938\\u092d\\u093e \\u092e\\u0947\\u0902 \\u0909\\u0938\\u0915\\u0947 \\u092a\\u093e\\u0938 \\u0915\\u0941\\u0932 80 \\u0938\\u0940\\u091f\\u0947\\u0902 \\u0939\\u094b \\u0917\\u0908 \\u0939\\u0948\\u0902.\\r(\\u0907\\u0928\\u092a\\u0941\\u091f \\u092d\\u093e\\u0937\\u093e \\u0938\\u0947 \\u092d\\u0940)\",\n          \"\\u0915\\u0949\\u092e\\u0947\\u0921\\u093f\\u092f\\u0928 \\u0915\\u092a\\u093f\\u0932 \\u0936\\u0930\\u094d\\u092e\\u093e (Kapil Sharma) \\u0928\\u0947 \\u0905\\u092a\\u0928\\u0940 \\u092a\\u0924\\u094d\\u0928\\u0940 \\u0917\\u093f\\u0928\\u094d\\u0928\\u0940 \\u091a\\u0924\\u0930\\u0925 (Ginni Chatrath) \\u0938\\u0902\\u0917 \\u090f\\u0915 \\u0938\\u0947\\u0932\\u094d\\u092b\\u0940 \\u0932\\u0940 \\u0914\\u0930 \\u092b\\u0948\\u0928\\u094d\\u0938 \\u0915\\u094b \\u0915\\u0941\\u091b \\u0905\\u0932\\u0917 \\u0905\\u0902\\u0926\\u093e\\u091c \\u092e\\u0947\\u0902 \\u0928\\u094d\\u092f\\u0942 \\u0908\\u092f\\u0930 \\u0935\\u093f\\u0936 \\u0915\\u093f\\u092f\\u093e. \\u0915\\u092a\\u093f\\u0932 \\u0936\\u0930\\u094d\\u092e\\u093e \\u0928\\u0947 \\u0905\\u092a\\u0928\\u0947 \\u0911\\u092b\\u093f\\u0936\\u093f\\u092f\\u0932 \\u0907\\u0902\\u0938\\u094d\\u091f\\u093e\\u0917\\u094d\\u0930\\u093e\\u092e \\u0905\\u0915\\u093e\\u0909\\u0902\\u091f \\u092a\\u0930 \\u0907\\u0938 \\u092b\\u094b\\u091f\\u094b \\u0915\\u094b \\u0936\\u0947\\u092f\\u0930 \\u0915\\u0930\\u0924\\u0947 \\u0939\\u0941\\u090f \\u0932\\u093f\\u0916\\u093e, ''\\u0906\\u092a\\u0915\\u0947 \\u092a\\u094d\\u092f\\u093e\\u0930 \\u0915\\u0947 \\u0932\\u093f\\u090f \\u092c\\u0939\\u0941\\u0924 \\u092c\\u0939\\u0941\\u0924 \\u0927\\u0928\\u094d\\u092f\\u0935\\u093e\\u0926 \\u0914\\u0930 \\u0936\\u0941\\u092d\\u0915\\u093e\\u092e\\u0928\\u093e\\u090f\\u0902. \\u092e\\u0947\\u0930\\u0947 \\u0914\\u0930 \\u092e\\u0947\\u0930\\u0940 \\u092a\\u0924\\u094d\\u0928\\u0940 \\u0917\\u093f\\u0928\\u094d\\u0928\\u0940 \\u091a\\u0924\\u0930\\u0925 \\u0915\\u0940 \\u0924\\u0930\\u092b \\u0938\\u0947 \\u0938\\u092d\\u0940 \\u0915\\u094b \\u0928\\u090f \\u0938\\u093e\\u0932 \\u0915\\u0940 \\u0922\\u0947\\u0930 \\u0938\\u093e\\u0930\\u0940 \\u092e\\u0941\\u092c\\u093e\\u0930\\u0915. \\u0938\\u092d\\u0940 \\u0915\\u094b \\u092a\\u094d\\u092f\\u093e\\u0930''. \\u0907\\u0938 \\u092b\\u094b\\u091f\\u094b \\u092e\\u0947\\u0902 \\u091c\\u0939\\u093e\\u0902 \\u0915\\u092a\\u093f\\u0932 \\u0936\\u0930\\u094d\\u092e\\u093e \\u0914\\u0930 \\u0917\\u093f\\u0928\\u094d\\u0928\\u0940 \\u091a\\u0924\\u0930\\u0925 \\u0928\\u0947 \\u0938\\u0928\\u0917\\u094d\\u0932\\u093e\\u0938 \\u0932\\u0917\\u093e \\u0930\\u0916\\u093e \\u0939\\u0948 \\u0924\\u094b \\u0935\\u0939\\u0940\\u0902 \\u090f\\u0921\\u093f\\u091f\\u093f\\u0902\\u0917 \\u0915\\u0947 \\u091c\\u0930\\u093f\\u090f \\u092b\\u094b\\u091f\\u094b \\u092a\\u0930 '2019' \\u0932\\u093f\\u0916\\u093e \\u0939\\u0948. \\u092c\\u0924\\u093e \\u0926\\u0947\\u0902, '\\u0926 \\u0915\\u092a\\u093f\\u0932 \\u0936\\u0930\\u094d\\u092e\\u093e \\u0936\\u094b' (The Kapil Sharma Show) \\u092c\\u0940\\u0924\\u0947 \\u0939\\u092b\\u094d\\u0924\\u0947 \\u0938\\u0947 \\u0936\\u0941\\u0930\\u0942 \\u0939\\u0941\\u0906. \\u0907\\u0938 \\u0936\\u094b \\u092e\\u0947\\u0902 \\u092a\\u0939\\u0932\\u0947 \\u092e\\u0947\\u0939\\u092e\\u093e\\u0928 \\u0915\\u0947 \\u0924\\u094c\\u0930 \\u092a\\u0930 '\\u0938\\u093f\\u0902\\u092c\\u093e' (Simmba) \\u092b\\u093f\\u0932\\u094d\\u092e \\u0915\\u093e \\u092a\\u094d\\u0930\\u092e\\u094b\\u0936\\u0928 \\u0915\\u0930\\u0928\\u0947 \\u0915\\u0947 \\u0932\\u093f\\u090f \\u0930\\u0923\\u0935\\u0940\\u0930 \\u0938\\u093f\\u0902\\u0939, \\u0938\\u093e\\u0930\\u093e \\u0905\\u0932\\u0940 \\u0916\\u093e\\u0928, \\u0930\\u094b\\u0939\\u093f\\u0924 \\u0936\\u0947\\u091f\\u094d\\u091f\\u0940 \\u0914\\u0930 \\u0938\\u094b\\u0928\\u0942 \\u0938\\u0942\\u0926 \\u092a\\u0939\\u0941\\u0902\\u091a\\u0947 \\u0925\\u0947.\\n\\u00a0\\nA post shared by Kapil Sharma (@kapilsharma) on Dec 31, 2018 at 3:58am PST\\n\\u00a0\\n\\u0936\\u094b \\u092e\\u0947\\u0902 \\u0915\\u092a\\u093f\\u0932 \\u0936\\u0930\\u094d\\u092e\\u093e \\u0915\\u0947 \\u0905\\u0932\\u093e\\u0935\\u093e \\u0909\\u0928\\u0915\\u0947 \\u0926\\u094b\\u0938\\u094d\\u0924 \\u091a\\u0902\\u0926\\u0928, \\u0915\\u0940\\u0915\\u0942 \\u0936\\u093e\\u0930\\u0926\\u093e, \\u092d\\u093e\\u0930\\u0924\\u0940 \\u0938\\u093f\\u0902\\u0939, \\u0915\\u0943\\u0937\\u094d\\u0923\\u093e \\u0905\\u092d\\u093f\\u0937\\u0947\\u0915 \\u0914\\u0930 \\u0938\\u0941\\u092e\\u094b\\u0928\\u093e \\u091a\\u0915\\u094d\\u0930\\u0935\\u0930\\u094d\\u0924\\u0940 \\u092d\\u0940 \\u0928\\u091c\\u0930 \\u0906\\u090f. \\u0915\\u0940\\u0915\\u0942 \\u0936\\u093e\\u0930\\u0926\\u093e \\u091c\\u0939\\u093e\\u0902 \\u092c\\u091a\\u094d\\u091a\\u093e \\u092f\\u093e\\u0926\\u0935 \\u0915\\u0947 \\u0915\\u093f\\u0930\\u0926\\u093e\\u0930 \\u092e\\u0947\\u0902 \\u0939\\u0948\\u0902, \\u0935\\u0939\\u0940\\u0902 \\u092d\\u093e\\u0930\\u0924\\u0940 \\u0938\\u093f\\u0902\\u0939 \\u0909\\u0928\\u0915\\u0940 \\u092a\\u0924\\u094d\\u0928\\u0940 \\u092c\\u0928\\u0940 \\u0939\\u0941\\u0908 \\u0939\\u0948\\u0902. \\u091c\\u092c\\u0915\\u093f \\u0938\\u0941\\u092e\\u094b\\u0928\\u093e; \\u092d\\u093e\\u0930\\u0924\\u0940 \\u0915\\u0940 \\u092c\\u0939\\u0928 '\\u092d\\u0942\\u0930\\u0940' \\u0915\\u0947 \\u0930\\u094b\\u0932 \\u092e\\u0947\\u0902 \\u0928\\u091c\\u0930 \\u0906\\u0908\\u0902. \\u0915\\u0943\\u0937\\u094d\\u0923\\u093e \\u091c\\u092c \\u0938\\u094d\\u091f\\u0947\\u091c \\u092a\\u0930 \\u092c\\u0948\\u0917 \\u0932\\u0947\\u0915\\u0930 \\u0906\\u090f \\u0924\\u094b \\u0909\\u0928\\u094d\\u0939\\u094b\\u0902\\u0928\\u0947 \\u092a\\u0941\\u0930\\u093e\\u0928\\u0940 \\u092c\\u093e\\u0924\\u094b\\u0902 \\u0915\\u093e \\u092e\\u091c\\u093e\\u0915 \\u092c\\u0928\\u093e\\u092f\\u093e. \\u092b\\u093f\\u0932\\u0939\\u093e\\u0932 \\u0915\\u092a\\u093f\\u0932 \\u0914\\u0930 \\u0917\\u093f\\u0928\\u094d\\u0928\\u0940 \\u0928\\u0947 \\u0907\\u0938\\u0940 \\u092e\\u0939\\u0940\\u0928\\u0947 12 \\u0926\\u093f\\u0938\\u0902\\u092c\\u0930 \\u0915\\u094b \\u091c\\u093e\\u0932\\u0902\\u0927\\u0930 \\u092e\\u0947\\u0902 \\u0936\\u093e\\u0926\\u0940 \\u0915\\u0940 \\u0925\\u0940.\\n\\u00a0\\nA post shared by Kapil Sharma (@kapilsharma) on Dec 23, 2018 at 10:33am PST\\n\\u00a0\\nA post shared by Kapil Sharma (@kapilsharma) on Dec 13, 2018 at 9:45am PST\\n\\u092e\\u0941\\u0902\\u092c\\u0908 \\u0915\\u0947 \\u0907\\u0938 \\u0930\\u093f\\u0938\\u0947\\u092a\\u094d\\u0936\\u0928 \\u092e\\u0947\\u0902 \\u0926\\u0940\\u092a\\u093f\\u0915\\u093e \\u092a\\u093e\\u0926\\u0941\\u0915\\u094b\\u0923, \\u0930\\u0923\\u0935\\u0940\\u0930 \\u0938\\u093f\\u0902\\u0939, \\u0915\\u0930\\u0923 \\u091c\\u094c\\u0939\\u0930, \\u0915\\u093e\\u0930\\u094d\\u0924\\u093f\\u0915 \\u0906\\u0930\\u094d\\u092f\\u0928, \\u0915\\u0943\\u0924\\u093f \\u0938\\u0947\\u0928\\u0928, \\u0930\\u0947\\u0916\\u093e, \\u0905\\u0928\\u093f\\u0932 \\u0915\\u092a\\u0942\\u0930, \\u092b\\u0930\\u093e\\u0939 \\u0916\\u093e\\u0928, \\u0938\\u094b\\u0928\\u0942 \\u0938\\u0942\\u0926, \\u0930\\u0923\\u0935\\u0940\\u0930 \\u091f\\u0902\\u0921\\u0928, \\u0927\\u0930\\u094d\\u092e\\u0947\\u0902\\u0926\\u094d\\u0930, \\u091c\\u0940\\u0924\\u0947\\u0902\\u0926\\u094d\\u0930, \\u0938\\u094b\\u0939\\u0947\\u0932 \\u0916\\u093e\\u0928, \\u0938\\u0932\\u0940\\u092e \\u0916\\u093e\\u0928, \\u091f\\u0947\\u0928\\u093f\\u0938 \\u0938\\u094d\\u091f\\u093e\\u0930 \\u0938\\u093e\\u0907\\u0928\\u093e \\u0928\\u0947\\u0939\\u0935\\u093e\\u0932 \\u0914\\u0930 \\u0905\\u0928\\u094d\\u092f \\u0938\\u0947\\u0932\\u0947\\u092c\\u094d\\u0938 \\u092d\\u0940 \\u092f\\u0939\\u093e\\u0902 \\u092e\\u094c\\u091c\\u0942\\u0926 \\u0930\\u0939\\u0947.\\n\\u0915\\u092a\\u093f\\u0932 \\u0936\\u0930\\u094d\\u092e\\u093e (Kapil Sharma) \\u0915\\u0947 \\u0915\\u0949\\u092e\\u0947\\u0921\\u093f\\u092f\\u0928 \\u0926\\u094b\\u0938\\u094d\\u0924, \\u091f\\u0940\\u0935\\u0940 \\u0915\\u0947 \\u0915\\u0932\\u093e\\u0915\\u093e\\u0930 \\u0938\\u0941\\u092e\\u094b\\u0928\\u093e \\u091a\\u0915\\u094d\\u0930\\u0935\\u0930\\u094d\\u0924\\u0940, \\u092d\\u093e\\u0930\\u0924\\u0940 \\u0938\\u093f\\u0902\\u0939 \\u0935 \\u00a0\\u0909\\u0928\\u0915\\u0947 \\u092a\\u0924\\u093f \\u0939\\u0930\\u094d\\u0937 \\u0932\\u093f\\u0902\\u092c\\u091a\\u093f\\u092f\\u093e, \\u0915\\u0936\\u094d\\u092e\\u0940\\u0930\\u093e \\u0914\\u0930 \\u0915\\u0943\\u0937\\u094d\\u0923\\u093e \\u0905\\u092d\\u093f\\u0937\\u0947\\u0915, \\u091c\\u092f \\u092d\\u093e\\u0928\\u0941\\u0936\\u093e\\u0932\\u0940 \\u0914\\u0930 \\u092e\\u093e\\u0939\\u0940 \\u0935\\u093f\\u091c \\u092d\\u0940 \\u0930\\u093f\\u0938\\u0947\\u092a\\u094d\\u0936\\u0928 \\u092e\\u0947\\u0902 \\u092a\\u0939\\u0941\\u0902\\u091a\\u0947. \\u0915\\u092a\\u093f\\u0932 \\u0936\\u0930\\u094d\\u092e\\u093e \\u0914\\u0930 \\u0917\\u093f\\u0928\\u094d\\u0928\\u0940 \\u091a\\u0924\\u0930\\u0925 (Kapil Sharma and Ginni Chatrath) \\u0928\\u0947 \\u0926\\u094b \\u0939\\u093f\\u0938\\u094d\\u0938\\u094b\\u0902 \\u092e\\u0947\\u0902 \\u0936\\u093e\\u0926\\u0940 \\u0915\\u0940. \\u0939\\u093f\\u0902\\u0926\\u0942 \\u0938\\u0947\\u0930\\u0947\\u092e\\u0928\\u0940 \\u0915\\u0947 \\u092c\\u093e\\u0926 \\u0909\\u0928\\u094d\\u0939\\u094b\\u0902\\u0928\\u0947 \\u0938\\u093f\\u0916 \\u0927\\u0930\\u094d\\u092e \\u0915\\u0947 \\u0930\\u0940\\u0924\\u093f \\u0930\\u093f\\u0935\\u093e\\u091c \\u0938\\u0947 \\u092d\\u0940 \\u0936\\u093e\\u0926\\u0940 \\u0915\\u0940 \\u0925\\u0940. \\u092e\\u0941\\u0902\\u092c\\u0908 \\u0930\\u093f\\u0938\\u0947\\u092a\\u094d\\u0936\\u0928 \\u0938\\u0947 \\u092a\\u0939\\u0932\\u0947 \\u0905\\u092e\\u0943\\u0924\\u0938\\u0930 \\u092e\\u0947\\u0902 14 \\u0926\\u093f\\u0938\\u0902\\u092c\\u0930 \\u0915\\u094b \\u0930\\u093f\\u0938\\u0947\\u092a\\u094d\\u0936\\u0928 \\u0926\\u093f\\u092f\\u093e \\u0917\\u092f\\u093e \\u0925\\u093e, \\u091c\\u093f\\u0938\\u092e\\u0947\\u0902 \\u0909\\u0928\\u0915\\u0947 \\u092a\\u0930\\u093f\\u0935\\u093e\\u0930\\u0935\\u093e\\u0932\\u0947 \\u0914\\u0930 \\u0915\\u0930\\u0940\\u092c\\u0940 \\u0926\\u094b\\u0938\\u094d\\u0924 \\u0939\\u0940 \\u0936\\u093e\\u092e\\u093f\\u0932 \\u0939\\u0941\\u090f \\u0925\\u0947.\",\n          \"\\u0909\\u091a\\u094d\\u091a\\u0924\\u092e \\u0928\\u094d\\u092f\\u093e\\u092f\\u093e\\u0932\\u092f \\u0928\\u0947 \\u092e\\u0902\\u0917\\u0932\\u0935\\u093e\\u0930 \\u0938\\u094d\\u0935\\u0940\\u0915\\u093e\\u0930 \\u0915\\u093f\\u092f\\u093e \\u0915\\u093f \\u0935\\u094d\\u092f\\u0935\\u0938\\u094d\\u0925\\u093e \\u092e\\u0947\\u0902 \\u092d\\u094d\\u0930\\u0937\\u094d\\u091f\\u093e\\u091a\\u093e\\u0930 \\u0915\\u094b \\u0909\\u091c\\u093e\\u0917\\u0930 \\u0915\\u0930\\u0928\\u0947 \\u092e\\u0947\\u0902 \\u092e\\u0940\\u0921\\u093f\\u092f\\u093e \\u0915\\u0940 \\u0905\\u0939\\u092e \\u092d\\u0942\\u092e\\u093f\\u0915\\u093e \\u092a\\u0930 \\u0905\\u0935\\u092e\\u093e\\u0928\\u0928\\u093e \\u0915\\u0940 \\u091b\\u093e\\u092f\\u093e \\u0939\\u094b\\u0924\\u0940 \\u0939\\u0948\\u0964\\r\\u092a\\u094d\\u0930\\u0927\\u093e\\u0928 \\u0928\\u094d\\u092f\\u093e\\u092f\\u093e\\u0927\\u0940\\u0936 \\u090f\\u0938\\u090f\\u091a \\u0915\\u092a\\u093e\\u0921\\u093c\\u093f\\u092f\\u093e \\u0915\\u0940 \\u0905\\u0927\\u094d\\u092f\\u0915\\u094d\\u0937\\u0924\\u093e \\u0935\\u093e\\u0932\\u0940 \\u092a\\u093e\\u0902\\u091a \\u0928\\u094d\\u092f\\u093e\\u092f\\u093e\\u0927\\u0940\\u0936\\u094b\\u0902 \\u0915\\u0940 \\u0938\\u0902\\u0935\\u093f\\u0927\\u093e\\u0928 \\u092a\\u0940\\u0920 \\u0928\\u0947 \\u0915\\u0939\\u093e, \\u2018\\u090f\\u0915 \\u092a\\u0939\\u0932\\u0942 \\u0909\\u091c\\u093e\\u0917\\u0930 \\u0915\\u0930\\u0928\\u0947 \\u0915\\u0940 \\u091c\\u0930\\u0942\\u0930\\u0924 \\u0939\\u0948\\u0964 \\u0905\\u0935\\u092e\\u093e\\u0928\\u0928\\u093e \\u0915\\u093e\\u0928\\u0942\\u0928 \\u0915\\u0940 \\u091b\\u093e\\u092f\\u093e \\u0939\\u092e\\u093e\\u0930\\u0947 \\u0928\\u094d\\u092f\\u093e\\u092f\\u0936\\u093e\\u0938\\u094d\\u0924\\u094d\\u0930 \\u092a\\u0930 \\u092a\\u0921\\u093c\\u0924\\u0940 \\u0939\\u0948\\u0964 \\u092d\\u093e\\u0930\\u0924 \\u092e\\u0947\\u0902 \\u0905\\u0928\\u0947\\u0915 \\u092e\\u093e\\u092e\\u0932\\u094b\\u0902 \\u092e\\u0947\\u0902 \\u0936\\u093e\\u0938\\u0928 \\u092e\\u0947\\u0902 \\u0915\\u092e\\u0940, \\u0935\\u094d\\u092f\\u0935\\u0938\\u094d\\u0925\\u093e \\u092e\\u0947\\u0902 \\u092d\\u094d\\u0930\\u0937\\u094d\\u091f\\u093e\\u091a\\u093e\\u0930 \\u0914\\u0930 \\u0916\\u093e\\u092e\\u093f\\u092f\\u093e\\u0902 \\u091c\\u0948\\u0938\\u0947 \\u0938\\u093e\\u0930\\u094d\\u0935\\u091c\\u0928\\u093f\\u0915 \\u092e\\u0939\\u0924\\u094d\\u0935 \\u0915\\u0947 \\u0935\\u093f\\u0937\\u092f\\u094b\\u0902 \\u0915\\u094b \\u0905\\u0926\\u093e\\u0932\\u0924 \\u0915\\u0947 \\u0938\\u0902\\u091c\\u094d\\u091e\\u093e\\u0928 \\u092e\\u0947\\u0902 \\u0932\\u093e\\u0928\\u0947 \\u0915\\u0947 \\u0932\\u093f\\u0939\\u093e\\u091c \\u0938\\u0947 \\u0915\\u0947\\u0935\\u0932 \\u092e\\u0940\\u0921\\u093f\\u092f\\u093e \\u091c\\u0928\\u0924\\u093e \\u0915\\u0947 \\u092a\\u094d\\u0930\\u0924\\u093f\\u0928\\u093f\\u0927\\u093f \\u0915\\u0940 \\u092d\\u0942\\u092e\\u093f\\u0915\\u093e \\u0905\\u0926\\u093e \\u0915\\u0930\\u0924\\u093e \\u0939\\u0948\\u0964\\u2019\\r\\u092a\\u0940\\u0920 \\u0928\\u0947 \\u0915\\u0939\\u093e \\u0915\\u093f \\u092e\\u0940\\u0921\\u093f\\u092f\\u093e \\u0915\\u0940 \\u0905\\u0939\\u092e \\u092d\\u0942\\u092e\\u093f\\u0915\\u093e \\u0915\\u094b \\u0927\\u094d\\u092f\\u093e\\u0928 \\u092e\\u0947\\u0902 \\u0930\\u0916\\u0924\\u0947 \\u0939\\u0941\\u090f \\u0905\\u0926\\u093e\\u0932\\u0924\\u094b\\u0902 \\u0928\\u0947 \\u092e\\u093e\\u092e\\u0932\\u094b\\u0902 \\u0915\\u094b \\u0938\\u094d\\u0925\\u0917\\u093f\\u0924 \\u0915\\u0930\\u0928\\u0947 \\u0915\\u0947 \\u0906\\u0926\\u0947\\u0936 \\u0938\\u092e\\u0947\\u0924 \\u0905\\u0928\\u0947\\u0915 \\u0924\\u0915\\u0928\\u0940\\u0915\\u0947\\u0902 \\u0935\\u093f\\u0915\\u0938\\u093f\\u0924 \\u0915\\u0940 \\u0939\\u0948\\u0902\\u0964\\r\\u092a\\u0940\\u0920 \\u0928\\u0947 \\u0915\\u0939\\u093e, \\u2018\\u0907\\u0938 \\u0924\\u0930\\u0939 \\u0915\\u0947 \\u0906\\u0926\\u0947\\u0936 \\u092e\\u0940\\u0921\\u093f\\u092f\\u093e \\u0915\\u093e \\u0927\\u094d\\u092f\\u093e\\u0928 \\u0938\\u0902\\u092d\\u093e\\u0935\\u093f\\u0924 \\u0905\\u0935\\u092e\\u093e\\u0928\\u0928\\u093e \\u0915\\u0940 \\u0913\\u0930 \\u092d\\u0940 \\u0916\\u0940\\u0902\\u091a\\u0947\\u0902\\u0917\\u0947\\u0964 \\u0939\\u093e\\u0932\\u093e\\u0902\\u0915\\u093f \\u0909\\u091a\\u093f\\u0924 \\u0915\\u093e\\u0930\\u094d\\u092f\\u0935\\u093e\\u0939\\u0940 \\u092e\\u0947\\u0902 \\u0907\\u0938 \\u0924\\u0930\\u0939 \\u0915\\u0947 \\u0906\\u0926\\u0947\\u0936\\u094b\\u0902 \\u0915\\u094b \\u091a\\u0941\\u0928\\u094c\\u0924\\u0940 \\u0926\\u0947\\u0928\\u0947 \\u0915\\u093e \\u0935\\u093f\\u0915\\u0932\\u094d\\u092a \\u092e\\u0940\\u0921\\u093f\\u092f\\u093e \\u0915\\u0947 \\u0932\\u093f\\u090f \\u0916\\u0941\\u0932\\u093e \\u0939\\u094b\\u0917\\u093e\\u0964\\u2019    \\u091f\\u093f\\u092a\\u094d\\u092a\\u0923\\u093f\\u092f\\u093e\\u0902\\r\\u092a\\u0940\\u0920 \\u0915\\u0947 \\u0905\\u0928\\u0941\\u0938\\u093e\\u0930, \\u2018\\u0905\\u0935\\u092e\\u093e\\u0928\\u0928\\u093e \\u0905\\u092a\\u0928\\u0947 \\u0906\\u092a \\u092e\\u0947\\u0902 \\u090f\\u0915 \\u0935\\u093f\\u091a\\u093f\\u0924\\u094d\\u0930 \\u0905\\u092a\\u0930\\u093e\\u0927 \\u0939\\u0948\\u0964 \\u0905\\u0935\\u092e\\u093e\\u0928\\u0928\\u093e \\u0915\\u093e\\u0928\\u0942\\u0928 \\u0915\\u093e \\u0909\\u0926\\u094d\\u0926\\u0947\\u0936\\u094d\\u092f \\u0915\\u0947\\u0935\\u0932 \\u0926\\u0902\\u0921\\u093f\\u0924 \\u0915\\u0930\\u0928\\u093e \\u0928\\u0939\\u0940\\u0902 \\u0939\\u0948\\u0964\\u2019\\r\\u092a\\u0940\\u0920 \\u0928\\u0947 \\u092f\\u0939 \\u092d\\u0940 \\u0915\\u0939\\u093e,\\u2018\\u0907\\u0938\\u0915\\u093e \\u0909\\u0926\\u094d\\u0926\\u0947\\u0936\\u094d\\u092f \\u0928\\u094d\\u092f\\u093e\\u092f\\u092a\\u094d\\u0930\\u0923\\u093e\\u0932\\u0940 \\u0915\\u0940 \\u092a\\u0935\\u093f\\u0924\\u094d\\u0930\\u0924\\u093e \\u0914\\u0930 \\u0932\\u0902\\u092c\\u093f\\u0924 \\u092e\\u093e\\u092e\\u0932\\u094b\\u0902 \\u0915\\u0940 \\u0938\\u0924\\u094d\\u092f\\u0924\\u093e \\u0915\\u094b \\u092c\\u0928\\u093e\\u090f \\u0930\\u0916\\u0928\\u093e \\u0939\\u0948\\u0964 \\u0907\\u0938 \\u0924\\u0930\\u0939 \\u0938\\u094d\\u0925\\u0917\\u093f\\u0924 \\u0915\\u0930\\u0928\\u0947 \\u0915\\u093e \\u0913\\u0926\\u0936 \\u0926\\u0902\\u0921\\u093e\\u0924\\u094d\\u092e\\u0915 \\u0915\\u093e\\u0930\\u094d\\u092f\\u0935\\u093e\\u0939\\u0940 \\u0928\\u0939\\u0940\\u0902 \\u092c\\u0932\\u094d\\u0915\\u093f \\u0928\\u093f\\u0930\\u094b\\u0927\\u0915 \\u0915\\u0926\\u092e \\u0939\\u0948\\u0964\\u2019\\n\\r\\u092a\\u094d\\u0930\\u0927\\u093e\\u0928 \\u0928\\u094d\\u092f\\u093e\\u092f\\u093e\\u0927\\u0940\\u0936 \\u090f\\u0938\\u090f\\u091a \\u0915\\u092a\\u093e\\u0921\\u093c\\u093f\\u092f\\u093e \\u0915\\u0940 \\u0905\\u0927\\u094d\\u092f\\u0915\\u094d\\u0937\\u0924\\u093e \\u0935\\u093e\\u0932\\u0940 \\u092a\\u093e\\u0902\\u091a \\u0928\\u094d\\u092f\\u093e\\u092f\\u093e\\u0927\\u0940\\u0936\\u094b\\u0902 \\u0915\\u0940 \\u0938\\u0902\\u0935\\u093f\\u0927\\u093e\\u0928 \\u092a\\u0940\\u0920 \\u0928\\u0947 \\u0915\\u0939\\u093e, \\u2018\\u090f\\u0915 \\u092a\\u0939\\u0932\\u0942 \\u0909\\u091c\\u093e\\u0917\\u0930 \\u0915\\u0930\\u0928\\u0947 \\u0915\\u0940 \\u091c\\u0930\\u0942\\u0930\\u0924 \\u0939\\u0948\\u0964 \\u0905\\u0935\\u092e\\u093e\\u0928\\u0928\\u093e \\u0915\\u093e\\u0928\\u0942\\u0928 \\u0915\\u0940 \\u091b\\u093e\\u092f\\u093e \\u0939\\u092e\\u093e\\u0930\\u0947 \\u0928\\u094d\\u092f\\u093e\\u092f\\u0936\\u093e\\u0938\\u094d\\u0924\\u094d\\u0930 \\u092a\\u0930 \\u092a\\u0921\\u093c\\u0924\\u0940 \\u0939\\u0948\\u0964 \\u092d\\u093e\\u0930\\u0924 \\u092e\\u0947\\u0902 \\u0905\\u0928\\u0947\\u0915 \\u092e\\u093e\\u092e\\u0932\\u094b\\u0902 \\u092e\\u0947\\u0902 \\u0936\\u093e\\u0938\\u0928 \\u092e\\u0947\\u0902 \\u0915\\u092e\\u0940, \\u0935\\u094d\\u092f\\u0935\\u0938\\u094d\\u0925\\u093e \\u092e\\u0947\\u0902 \\u092d\\u094d\\u0930\\u0937\\u094d\\u091f\\u093e\\u091a\\u093e\\u0930 \\u0914\\u0930 \\u0916\\u093e\\u092e\\u093f\\u092f\\u093e\\u0902 \\u091c\\u0948\\u0938\\u0947 \\u0938\\u093e\\u0930\\u094d\\u0935\\u091c\\u0928\\u093f\\u0915 \\u092e\\u0939\\u0924\\u094d\\u0935 \\u0915\\u0947 \\u0935\\u093f\\u0937\\u092f\\u094b\\u0902 \\u0915\\u094b \\u0905\\u0926\\u093e\\u0932\\u0924 \\u0915\\u0947 \\u0938\\u0902\\u091c\\u094d\\u091e\\u093e\\u0928 \\u092e\\u0947\\u0902 \\u0932\\u093e\\u0928\\u0947 \\u0915\\u0947 \\u0932\\u093f\\u0939\\u093e\\u091c \\u0938\\u0947 \\u0915\\u0947\\u0935\\u0932 \\u092e\\u0940\\u0921\\u093f\\u092f\\u093e \\u091c\\u0928\\u0924\\u093e \\u0915\\u0947 \\u092a\\u094d\\u0930\\u0924\\u093f\\u0928\\u093f\\u0927\\u093f \\u0915\\u0940 \\u092d\\u0942\\u092e\\u093f\\u0915\\u093e \\u0905\\u0926\\u093e \\u0915\\u0930\\u0924\\u093e \\u0939\\u0948\\u0964\\u2019\\r\\u092a\\u0940\\u0920 \\u0928\\u0947 \\u0915\\u0939\\u093e \\u0915\\u093f \\u092e\\u0940\\u0921\\u093f\\u092f\\u093e \\u0915\\u0940 \\u0905\\u0939\\u092e \\u092d\\u0942\\u092e\\u093f\\u0915\\u093e \\u0915\\u094b \\u0927\\u094d\\u092f\\u093e\\u0928 \\u092e\\u0947\\u0902 \\u0930\\u0916\\u0924\\u0947 \\u0939\\u0941\\u090f \\u0905\\u0926\\u093e\\u0932\\u0924\\u094b\\u0902 \\u0928\\u0947 \\u092e\\u093e\\u092e\\u0932\\u094b\\u0902 \\u0915\\u094b \\u0938\\u094d\\u0925\\u0917\\u093f\\u0924 \\u0915\\u0930\\u0928\\u0947 \\u0915\\u0947 \\u0906\\u0926\\u0947\\u0936 \\u0938\\u092e\\u0947\\u0924 \\u0905\\u0928\\u0947\\u0915 \\u0924\\u0915\\u0928\\u0940\\u0915\\u0947\\u0902 \\u0935\\u093f\\u0915\\u0938\\u093f\\u0924 \\u0915\\u0940 \\u0939\\u0948\\u0902\\u0964\\r\\u092a\\u0940\\u0920 \\u0928\\u0947 \\u0915\\u0939\\u093e, \\u2018\\u0907\\u0938 \\u0924\\u0930\\u0939 \\u0915\\u0947 \\u0906\\u0926\\u0947\\u0936 \\u092e\\u0940\\u0921\\u093f\\u092f\\u093e \\u0915\\u093e \\u0927\\u094d\\u092f\\u093e\\u0928 \\u0938\\u0902\\u092d\\u093e\\u0935\\u093f\\u0924 \\u0905\\u0935\\u092e\\u093e\\u0928\\u0928\\u093e \\u0915\\u0940 \\u0913\\u0930 \\u092d\\u0940 \\u0916\\u0940\\u0902\\u091a\\u0947\\u0902\\u0917\\u0947\\u0964 \\u0939\\u093e\\u0932\\u093e\\u0902\\u0915\\u093f \\u0909\\u091a\\u093f\\u0924 \\u0915\\u093e\\u0930\\u094d\\u092f\\u0935\\u093e\\u0939\\u0940 \\u092e\\u0947\\u0902 \\u0907\\u0938 \\u0924\\u0930\\u0939 \\u0915\\u0947 \\u0906\\u0926\\u0947\\u0936\\u094b\\u0902 \\u0915\\u094b \\u091a\\u0941\\u0928\\u094c\\u0924\\u0940 \\u0926\\u0947\\u0928\\u0947 \\u0915\\u093e \\u0935\\u093f\\u0915\\u0932\\u094d\\u092a \\u092e\\u0940\\u0921\\u093f\\u092f\\u093e \\u0915\\u0947 \\u0932\\u093f\\u090f \\u0916\\u0941\\u0932\\u093e \\u0939\\u094b\\u0917\\u093e\\u0964\\u2019    \\u091f\\u093f\\u092a\\u094d\\u092a\\u0923\\u093f\\u092f\\u093e\\u0902\\r\\u092a\\u0940\\u0920 \\u0915\\u0947 \\u0905\\u0928\\u0941\\u0938\\u093e\\u0930, \\u2018\\u0905\\u0935\\u092e\\u093e\\u0928\\u0928\\u093e \\u0905\\u092a\\u0928\\u0947 \\u0906\\u092a \\u092e\\u0947\\u0902 \\u090f\\u0915 \\u0935\\u093f\\u091a\\u093f\\u0924\\u094d\\u0930 \\u0905\\u092a\\u0930\\u093e\\u0927 \\u0939\\u0948\\u0964 \\u0905\\u0935\\u092e\\u093e\\u0928\\u0928\\u093e \\u0915\\u093e\\u0928\\u0942\\u0928 \\u0915\\u093e \\u0909\\u0926\\u094d\\u0926\\u0947\\u0936\\u094d\\u092f \\u0915\\u0947\\u0935\\u0932 \\u0926\\u0902\\u0921\\u093f\\u0924 \\u0915\\u0930\\u0928\\u093e \\u0928\\u0939\\u0940\\u0902 \\u0939\\u0948\\u0964\\u2019\\r\\u092a\\u0940\\u0920 \\u0928\\u0947 \\u092f\\u0939 \\u092d\\u0940 \\u0915\\u0939\\u093e,\\u2018\\u0907\\u0938\\u0915\\u093e \\u0909\\u0926\\u094d\\u0926\\u0947\\u0936\\u094d\\u092f \\u0928\\u094d\\u092f\\u093e\\u092f\\u092a\\u094d\\u0930\\u0923\\u093e\\u0932\\u0940 \\u0915\\u0940 \\u092a\\u0935\\u093f\\u0924\\u094d\\u0930\\u0924\\u093e \\u0914\\u0930 \\u0932\\u0902\\u092c\\u093f\\u0924 \\u092e\\u093e\\u092e\\u0932\\u094b\\u0902 \\u0915\\u0940 \\u0938\\u0924\\u094d\\u092f\\u0924\\u093e \\u0915\\u094b \\u092c\\u0928\\u093e\\u090f \\u0930\\u0916\\u0928\\u093e \\u0939\\u0948\\u0964 \\u0907\\u0938 \\u0924\\u0930\\u0939 \\u0938\\u094d\\u0925\\u0917\\u093f\\u0924 \\u0915\\u0930\\u0928\\u0947 \\u0915\\u093e \\u0913\\u0926\\u0936 \\u0926\\u0902\\u0921\\u093e\\u0924\\u094d\\u092e\\u0915 \\u0915\\u093e\\u0930\\u094d\\u092f\\u0935\\u093e\\u0939\\u0940 \\u0928\\u0939\\u0940\\u0902 \\u092c\\u0932\\u094d\\u0915\\u093f \\u0928\\u093f\\u0930\\u094b\\u0927\\u0915 \\u0915\\u0926\\u092e \\u0939\\u0948\\u0964\\u2019\\n\\r\\u092a\\u0940\\u0920 \\u0928\\u0947 \\u0915\\u0939\\u093e \\u0915\\u093f \\u092e\\u0940\\u0921\\u093f\\u092f\\u093e \\u0915\\u0940 \\u0905\\u0939\\u092e \\u092d\\u0942\\u092e\\u093f\\u0915\\u093e \\u0915\\u094b \\u0927\\u094d\\u092f\\u093e\\u0928 \\u092e\\u0947\\u0902 \\u0930\\u0916\\u0924\\u0947 \\u0939\\u0941\\u090f \\u0905\\u0926\\u093e\\u0932\\u0924\\u094b\\u0902 \\u0928\\u0947 \\u092e\\u093e\\u092e\\u0932\\u094b\\u0902 \\u0915\\u094b \\u0938\\u094d\\u0925\\u0917\\u093f\\u0924 \\u0915\\u0930\\u0928\\u0947 \\u0915\\u0947 \\u0906\\u0926\\u0947\\u0936 \\u0938\\u092e\\u0947\\u0924 \\u0905\\u0928\\u0947\\u0915 \\u0924\\u0915\\u0928\\u0940\\u0915\\u0947\\u0902 \\u0935\\u093f\\u0915\\u0938\\u093f\\u0924 \\u0915\\u0940 \\u0939\\u0948\\u0902\\u0964\\r\\u092a\\u0940\\u0920 \\u0928\\u0947 \\u0915\\u0939\\u093e, \\u2018\\u0907\\u0938 \\u0924\\u0930\\u0939 \\u0915\\u0947 \\u0906\\u0926\\u0947\\u0936 \\u092e\\u0940\\u0921\\u093f\\u092f\\u093e \\u0915\\u093e \\u0927\\u094d\\u092f\\u093e\\u0928 \\u0938\\u0902\\u092d\\u093e\\u0935\\u093f\\u0924 \\u0905\\u0935\\u092e\\u093e\\u0928\\u0928\\u093e \\u0915\\u0940 \\u0913\\u0930 \\u092d\\u0940 \\u0916\\u0940\\u0902\\u091a\\u0947\\u0902\\u0917\\u0947\\u0964 \\u0939\\u093e\\u0932\\u093e\\u0902\\u0915\\u093f \\u0909\\u091a\\u093f\\u0924 \\u0915\\u093e\\u0930\\u094d\\u092f\\u0935\\u093e\\u0939\\u0940 \\u092e\\u0947\\u0902 \\u0907\\u0938 \\u0924\\u0930\\u0939 \\u0915\\u0947 \\u0906\\u0926\\u0947\\u0936\\u094b\\u0902 \\u0915\\u094b \\u091a\\u0941\\u0928\\u094c\\u0924\\u0940 \\u0926\\u0947\\u0928\\u0947 \\u0915\\u093e \\u0935\\u093f\\u0915\\u0932\\u094d\\u092a \\u092e\\u0940\\u0921\\u093f\\u092f\\u093e \\u0915\\u0947 \\u0932\\u093f\\u090f \\u0916\\u0941\\u0932\\u093e \\u0939\\u094b\\u0917\\u093e\\u0964\\u2019    \\u091f\\u093f\\u092a\\u094d\\u092a\\u0923\\u093f\\u092f\\u093e\\u0902\\r\\u092a\\u0940\\u0920 \\u0915\\u0947 \\u0905\\u0928\\u0941\\u0938\\u093e\\u0930, \\u2018\\u0905\\u0935\\u092e\\u093e\\u0928\\u0928\\u093e \\u0905\\u092a\\u0928\\u0947 \\u0906\\u092a \\u092e\\u0947\\u0902 \\u090f\\u0915 \\u0935\\u093f\\u091a\\u093f\\u0924\\u094d\\u0930 \\u0905\\u092a\\u0930\\u093e\\u0927 \\u0939\\u0948\\u0964 \\u0905\\u0935\\u092e\\u093e\\u0928\\u0928\\u093e \\u0915\\u093e\\u0928\\u0942\\u0928 \\u0915\\u093e \\u0909\\u0926\\u094d\\u0926\\u0947\\u0936\\u094d\\u092f \\u0915\\u0947\\u0935\\u0932 \\u0926\\u0902\\u0921\\u093f\\u0924 \\u0915\\u0930\\u0928\\u093e \\u0928\\u0939\\u0940\\u0902 \\u0939\\u0948\\u0964\\u2019\\r\\u092a\\u0940\\u0920 \\u0928\\u0947 \\u092f\\u0939 \\u092d\\u0940 \\u0915\\u0939\\u093e,\\u2018\\u0907\\u0938\\u0915\\u093e \\u0909\\u0926\\u094d\\u0926\\u0947\\u0936\\u094d\\u092f \\u0928\\u094d\\u092f\\u093e\\u092f\\u092a\\u094d\\u0930\\u0923\\u093e\\u0932\\u0940 \\u0915\\u0940 \\u092a\\u0935\\u093f\\u0924\\u094d\\u0930\\u0924\\u093e \\u0914\\u0930 \\u0932\\u0902\\u092c\\u093f\\u0924 \\u092e\\u093e\\u092e\\u0932\\u094b\\u0902 \\u0915\\u0940 \\u0938\\u0924\\u094d\\u092f\\u0924\\u093e \\u0915\\u094b \\u092c\\u0928\\u093e\\u090f \\u0930\\u0916\\u0928\\u093e \\u0939\\u0948\\u0964 \\u0907\\u0938 \\u0924\\u0930\\u0939 \\u0938\\u094d\\u0925\\u0917\\u093f\\u0924 \\u0915\\u0930\\u0928\\u0947 \\u0915\\u093e \\u0913\\u0926\\u0936 \\u0926\\u0902\\u0921\\u093e\\u0924\\u094d\\u092e\\u0915 \\u0915\\u093e\\u0930\\u094d\\u092f\\u0935\\u093e\\u0939\\u0940 \\u0928\\u0939\\u0940\\u0902 \\u092c\\u0932\\u094d\\u0915\\u093f \\u0928\\u093f\\u0930\\u094b\\u0927\\u0915 \\u0915\\u0926\\u092e \\u0939\\u0948\\u0964\\u2019\\n\\r\\u092a\\u0940\\u0920 \\u0928\\u0947 \\u0915\\u0939\\u093e, \\u2018\\u0907\\u0938 \\u0924\\u0930\\u0939 \\u0915\\u0947 \\u0906\\u0926\\u0947\\u0936 \\u092e\\u0940\\u0921\\u093f\\u092f\\u093e \\u0915\\u093e \\u0927\\u094d\\u092f\\u093e\\u0928 \\u0938\\u0902\\u092d\\u093e\\u0935\\u093f\\u0924 \\u0905\\u0935\\u092e\\u093e\\u0928\\u0928\\u093e \\u0915\\u0940 \\u0913\\u0930 \\u092d\\u0940 \\u0916\\u0940\\u0902\\u091a\\u0947\\u0902\\u0917\\u0947\\u0964 \\u0939\\u093e\\u0932\\u093e\\u0902\\u0915\\u093f \\u0909\\u091a\\u093f\\u0924 \\u0915\\u093e\\u0930\\u094d\\u092f\\u0935\\u093e\\u0939\\u0940 \\u092e\\u0947\\u0902 \\u0907\\u0938 \\u0924\\u0930\\u0939 \\u0915\\u0947 \\u0906\\u0926\\u0947\\u0936\\u094b\\u0902 \\u0915\\u094b \\u091a\\u0941\\u0928\\u094c\\u0924\\u0940 \\u0926\\u0947\\u0928\\u0947 \\u0915\\u093e \\u0935\\u093f\\u0915\\u0932\\u094d\\u092a \\u092e\\u0940\\u0921\\u093f\\u092f\\u093e \\u0915\\u0947 \\u0932\\u093f\\u090f \\u0916\\u0941\\u0932\\u093e \\u0939\\u094b\\u0917\\u093e\\u0964\\u2019    \\u091f\\u093f\\u092a\\u094d\\u092a\\u0923\\u093f\\u092f\\u093e\\u0902\\r\\u092a\\u0940\\u0920 \\u0915\\u0947 \\u0905\\u0928\\u0941\\u0938\\u093e\\u0930, \\u2018\\u0905\\u0935\\u092e\\u093e\\u0928\\u0928\\u093e \\u0905\\u092a\\u0928\\u0947 \\u0906\\u092a \\u092e\\u0947\\u0902 \\u090f\\u0915 \\u0935\\u093f\\u091a\\u093f\\u0924\\u094d\\u0930 \\u0905\\u092a\\u0930\\u093e\\u0927 \\u0939\\u0948\\u0964 \\u0905\\u0935\\u092e\\u093e\\u0928\\u0928\\u093e \\u0915\\u093e\\u0928\\u0942\\u0928 \\u0915\\u093e \\u0909\\u0926\\u094d\\u0926\\u0947\\u0936\\u094d\\u092f \\u0915\\u0947\\u0935\\u0932 \\u0926\\u0902\\u0921\\u093f\\u0924 \\u0915\\u0930\\u0928\\u093e \\u0928\\u0939\\u0940\\u0902 \\u0939\\u0948\\u0964\\u2019\\r\\u092a\\u0940\\u0920 \\u0928\\u0947 \\u092f\\u0939 \\u092d\\u0940 \\u0915\\u0939\\u093e,\\u2018\\u0907\\u0938\\u0915\\u093e \\u0909\\u0926\\u094d\\u0926\\u0947\\u0936\\u094d\\u092f \\u0928\\u094d\\u092f\\u093e\\u092f\\u092a\\u094d\\u0930\\u0923\\u093e\\u0932\\u0940 \\u0915\\u0940 \\u092a\\u0935\\u093f\\u0924\\u094d\\u0930\\u0924\\u093e \\u0914\\u0930 \\u0932\\u0902\\u092c\\u093f\\u0924 \\u092e\\u093e\\u092e\\u0932\\u094b\\u0902 \\u0915\\u0940 \\u0938\\u0924\\u094d\\u092f\\u0924\\u093e \\u0915\\u094b \\u092c\\u0928\\u093e\\u090f \\u0930\\u0916\\u0928\\u093e \\u0939\\u0948\\u0964 \\u0907\\u0938 \\u0924\\u0930\\u0939 \\u0938\\u094d\\u0925\\u0917\\u093f\\u0924 \\u0915\\u0930\\u0928\\u0947 \\u0915\\u093e \\u0913\\u0926\\u0936 \\u0926\\u0902\\u0921\\u093e\\u0924\\u094d\\u092e\\u0915 \\u0915\\u093e\\u0930\\u094d\\u092f\\u0935\\u093e\\u0939\\u0940 \\u0928\\u0939\\u0940\\u0902 \\u092c\\u0932\\u094d\\u0915\\u093f \\u0928\\u093f\\u0930\\u094b\\u0927\\u0915 \\u0915\\u0926\\u092e \\u0939\\u0948\\u0964\\u2019\\n\\r\\u092a\\u0940\\u0920 \\u0915\\u0947 \\u0905\\u0928\\u0941\\u0938\\u093e\\u0930, \\u2018\\u0905\\u0935\\u092e\\u093e\\u0928\\u0928\\u093e \\u0905\\u092a\\u0928\\u0947 \\u0906\\u092a \\u092e\\u0947\\u0902 \\u090f\\u0915 \\u0935\\u093f\\u091a\\u093f\\u0924\\u094d\\u0930 \\u0905\\u092a\\u0930\\u093e\\u0927 \\u0939\\u0948\\u0964 \\u0905\\u0935\\u092e\\u093e\\u0928\\u0928\\u093e \\u0915\\u093e\\u0928\\u0942\\u0928 \\u0915\\u093e \\u0909\\u0926\\u094d\\u0926\\u0947\\u0936\\u094d\\u092f \\u0915\\u0947\\u0935\\u0932 \\u0926\\u0902\\u0921\\u093f\\u0924 \\u0915\\u0930\\u0928\\u093e \\u0928\\u0939\\u0940\\u0902 \\u0939\\u0948\\u0964\\u2019\\r\\u092a\\u0940\\u0920 \\u0928\\u0947 \\u092f\\u0939 \\u092d\\u0940 \\u0915\\u0939\\u093e,\\u2018\\u0907\\u0938\\u0915\\u093e \\u0909\\u0926\\u094d\\u0926\\u0947\\u0936\\u094d\\u092f \\u0928\\u094d\\u092f\\u093e\\u092f\\u092a\\u094d\\u0930\\u0923\\u093e\\u0932\\u0940 \\u0915\\u0940 \\u092a\\u0935\\u093f\\u0924\\u094d\\u0930\\u0924\\u093e \\u0914\\u0930 \\u0932\\u0902\\u092c\\u093f\\u0924 \\u092e\\u093e\\u092e\\u0932\\u094b\\u0902 \\u0915\\u0940 \\u0938\\u0924\\u094d\\u092f\\u0924\\u093e \\u0915\\u094b \\u092c\\u0928\\u093e\\u090f \\u0930\\u0916\\u0928\\u093e \\u0939\\u0948\\u0964 \\u0907\\u0938 \\u0924\\u0930\\u0939 \\u0938\\u094d\\u0925\\u0917\\u093f\\u0924 \\u0915\\u0930\\u0928\\u0947 \\u0915\\u093e \\u0913\\u0926\\u0936 \\u0926\\u0902\\u0921\\u093e\\u0924\\u094d\\u092e\\u0915 \\u0915\\u093e\\u0930\\u094d\\u092f\\u0935\\u093e\\u0939\\u0940 \\u0928\\u0939\\u0940\\u0902 \\u092c\\u0932\\u094d\\u0915\\u093f \\u0928\\u093f\\u0930\\u094b\\u0927\\u0915 \\u0915\\u0926\\u092e \\u0939\\u0948\\u0964\\u2019\\n\\r\\u092a\\u0940\\u0920 \\u0928\\u0947 \\u092f\\u0939 \\u092d\\u0940 \\u0915\\u0939\\u093e,\\u2018\\u0907\\u0938\\u0915\\u093e \\u0909\\u0926\\u094d\\u0926\\u0947\\u0936\\u094d\\u092f \\u0928\\u094d\\u092f\\u093e\\u092f\\u092a\\u094d\\u0930\\u0923\\u093e\\u0932\\u0940 \\u0915\\u0940 \\u092a\\u0935\\u093f\\u0924\\u094d\\u0930\\u0924\\u093e \\u0914\\u0930 \\u0932\\u0902\\u092c\\u093f\\u0924 \\u092e\\u093e\\u092e\\u0932\\u094b\\u0902 \\u0915\\u0940 \\u0938\\u0924\\u094d\\u092f\\u0924\\u093e \\u0915\\u094b \\u092c\\u0928\\u093e\\u090f \\u0930\\u0916\\u0928\\u093e \\u0939\\u0948\\u0964 \\u0907\\u0938 \\u0924\\u0930\\u0939 \\u0938\\u094d\\u0925\\u0917\\u093f\\u0924 \\u0915\\u0930\\u0928\\u0947 \\u0915\\u093e \\u0913\\u0926\\u0936 \\u0926\\u0902\\u0921\\u093e\\u0924\\u094d\\u092e\\u0915 \\u0915\\u093e\\u0930\\u094d\\u092f\\u0935\\u093e\\u0939\\u0940 \\u0928\\u0939\\u0940\\u0902 \\u092c\\u0932\\u094d\\u0915\\u093f \\u0928\\u093f\\u0930\\u094b\\u0927\\u0915 \\u0915\\u0926\\u092e \\u0939\\u0948\\u0964\\u2019\"\n        ],\n        \"semantic_type\": \"\",\n        \"description\": \"\"\n      }\n    }\n  ]\n}"
            }
          },
          "metadata": {},
          "execution_count": 7
        }
      ]
    },
    {
      "cell_type": "code",
      "source": [
        "dataset_cleaned.shape"
      ],
      "metadata": {
        "colab": {
          "base_uri": "https://localhost:8080/"
        },
        "id": "5az1N1izqIUS",
        "outputId": "d02ddf0b-669a-464c-c850-dda7fe09bcce"
      },
      "execution_count": null,
      "outputs": [
        {
          "output_type": "execute_result",
          "data": {
            "text/plain": [
              "(4570, 3)"
            ]
          },
          "metadata": {},
          "execution_count": 7
        }
      ]
    },
    {
      "cell_type": "code",
      "source": [
        "dataset_cleaned['summary'].isnull().sum()"
      ],
      "metadata": {
        "colab": {
          "base_uri": "https://localhost:8080/"
        },
        "id": "6NQPBEunq863",
        "outputId": "60107482-910e-404e-fd40-77a43bb9a795"
      },
      "execution_count": null,
      "outputs": [
        {
          "output_type": "execute_result",
          "data": {
            "text/plain": [
              "0"
            ]
          },
          "metadata": {},
          "execution_count": 8
        }
      ]
    },
    {
      "cell_type": "code",
      "source": [
        "dataset_cleaned['article'].isnull().sum()"
      ],
      "metadata": {
        "colab": {
          "base_uri": "https://localhost:8080/"
        },
        "id": "K1UlBmLZrWVJ",
        "outputId": "2f776f25-c6cb-43e5-9cc7-735b7955c308"
      },
      "execution_count": null,
      "outputs": [
        {
          "output_type": "execute_result",
          "data": {
            "text/plain": [
              "0"
            ]
          },
          "metadata": {},
          "execution_count": 9
        }
      ]
    },
    {
      "cell_type": "code",
      "source": [
        "dataset_cleaned['headline'].isnull().sum()"
      ],
      "metadata": {
        "colab": {
          "base_uri": "https://localhost:8080/"
        },
        "id": "lC7spieEBCn9",
        "outputId": "936444b1-29a1-417f-c475-54d71b63fee5"
      },
      "execution_count": null,
      "outputs": [
        {
          "output_type": "execute_result",
          "data": {
            "text/plain": [
              "0"
            ]
          },
          "metadata": {},
          "execution_count": 10
        }
      ]
    },
    {
      "cell_type": "code",
      "source": [
        "articles = list(dataset_cleaned['article'])\n",
        "summaries = list(dataset_cleaned['summary'])\n",
        "headlines = list(dataset_cleaned['headline'])"
      ],
      "metadata": {
        "id": "bMR_VEkgrXiR"
      },
      "execution_count": null,
      "outputs": []
    },
    {
      "cell_type": "code",
      "source": [
        "from spacy.lang.hi import STOP_WORDS as STOP_WORDS_HI"
      ],
      "metadata": {
        "id": "6ti2XMqcrr5y"
      },
      "execution_count": null,
      "outputs": []
    },
    {
      "cell_type": "code",
      "source": [
        "type(STOP_WORDS_HI)"
      ],
      "metadata": {
        "colab": {
          "base_uri": "https://localhost:8080/"
        },
        "id": "dGOjCYTKudrr",
        "outputId": "241c9c69-c79e-45f1-ca3d-19b6b2dd5f1c"
      },
      "execution_count": null,
      "outputs": [
        {
          "output_type": "execute_result",
          "data": {
            "text/plain": [
              "set"
            ]
          },
          "metadata": {},
          "execution_count": 13
        }
      ]
    },
    {
      "cell_type": "code",
      "source": [
        "import re\n",
        "hindi_pattern = r'[\\u0965\\u002E\\u002C\\u0021\\u003F\\u003B\\u003A\\u0027\\u0022\\u2018\\u2019\\u201C\\u201D\\u002D\\u0028\\u0029]'\n",
        "purna_viram_pattern = r'[\\u0964]'\n",
        "english_pattern = r'[^\\w\\s\\u0900-\\u097F]'\n",
        "pattern = hindi_pattern + '|' + english_pattern\n",
        "article_corpus = []\n",
        "summary_corpus = []\n",
        "headline_corpus = []\n",
        "\n",
        "for i in range(len(articles)):\n",
        "  sentence = re.sub(pattern, ' ', articles[i])\n",
        "  sentence = re.sub(purna_viram_pattern, '.', sentence)\n",
        "  sentence = sentence.split()\n",
        "  sentence = [word for word in sentence if not word in STOP_WORDS_HI]\n",
        "  sentence = ' '.join(sentence)\n",
        "  article_corpus.append(sentence)\n",
        "\n",
        "for i in range(len(summaries)):\n",
        "  sentence = re.sub(pattern, ' ', summaries[i])\n",
        "  sentence = re.sub(purna_viram_pattern, '.', sentence)\n",
        "  sentence = sentence.split()\n",
        "  sentence = [word for word in sentence] # Not removing stopwords from the summary\n",
        "  sentence = ' '.join(sentence)\n",
        "  summary_corpus.append(sentence)\n",
        "\n",
        "for i in range(len(headlines)):\n",
        "  sentence = re.sub(pattern, ' ', headlines[i])\n",
        "  sentence = re.sub(purna_viram_pattern, '.', sentence)\n",
        "  sentence = sentence.split()\n",
        "  sentence = [word for word in sentence if not word in STOP_WORDS_HI]\n",
        "  sentence = ' '.join(sentence)\n",
        "  headline_corpus.append(sentence)"
      ],
      "metadata": {
        "id": "ZqAyRHAKBr_3"
      },
      "execution_count": null,
      "outputs": []
    },
    {
      "cell_type": "code",
      "source": [
        "summary_corpus[0]"
      ],
      "metadata": {
        "colab": {
          "base_uri": "https://localhost:8080/",
          "height": 54
        },
        "id": "OOEUIda6Ei78",
        "outputId": "2f9142ba-08e7-44e0-fb42-aaa6b26f3c50"
      },
      "execution_count": null,
      "outputs": [
        {
          "output_type": "execute_result",
          "data": {
            "text/plain": [
              "'ब्लैकबेरी हैंडसेट बनाने वाली कनाडा की कंपनी रिसर्च इन मोशन रिम अपनी पुनर्गठन योजना के तहत अगले कुछ सप्ताह में वैश्विक स्तर पर 2 000 कर्मचारियों की छंटनी करेगी.'"
            ],
            "application/vnd.google.colaboratory.intrinsic+json": {
              "type": "string"
            }
          },
          "metadata": {},
          "execution_count": 15
        }
      ]
    },
    {
      "cell_type": "code",
      "source": [
        "articles[0]"
      ],
      "metadata": {
        "id": "-gQvscFl2T23",
        "outputId": "fdf685c8-2a55-4a45-a3d7-4f0e63f3eb5d",
        "colab": {
          "base_uri": "https://localhost:8080/",
          "height": 163
        }
      },
      "execution_count": null,
      "outputs": [
        {
          "output_type": "execute_result",
          "data": {
            "text/plain": [
              "'ब्लैकबेरी हैंडसेट बनाने वाली कनाडा की कंपनी रिसर्च इन मोशन (रिम) अपनी पुनर्गठन योजना के तहत अगले कुछ सप्ताह में वैश्विक स्तर पर 2,000 कर्मचारियों की छंटनी करेगी।\\r‘द ग्लोब एंड मेल’ ने कंपनी के नजदीकी सूत्रों के हवाले से प्रकाशित खबर में कहा है कि रिम वैश्विक स्तर पर बड़े पुनर्गठन की तैयारी कर रही है। अगले कुछ सप्ताह में वह वैश्विक स्तर पर 2,000 नौकरियों की कटौती करेगी। रिपोर्ट में कहा गया है कि छंटनी का आंकड़ा इससे भी बड़ा हो सकता है।\\n\\r‘द ग्लोब एंड मेल’ ने कंपनी के नजदीकी सूत्रों के हवाले से प्रकाशित खबर में कहा है कि रिम वैश्विक स्तर पर बड़े पुनर्गठन की तैयारी कर रही है। अगले कुछ सप्ताह में वह वैश्विक स्तर पर 2,000 नौकरियों की कटौती करेगी। रिपोर्ट में कहा गया है कि छंटनी का आंकड़ा इससे भी बड़ा हो सकता है।'"
            ],
            "application/vnd.google.colaboratory.intrinsic+json": {
              "type": "string"
            }
          },
          "metadata": {},
          "execution_count": 16
        }
      ]
    },
    {
      "cell_type": "code",
      "source": [
        "article_corpus[0]"
      ],
      "metadata": {
        "colab": {
          "base_uri": "https://localhost:8080/",
          "height": 126
        },
        "id": "kLwBA_AJFv4B",
        "outputId": "25786b98-61f7-4584-a2a4-c10d4ca20797"
      },
      "execution_count": null,
      "outputs": [
        {
          "output_type": "execute_result",
          "data": {
            "text/plain": [
              "'ब्लैकबेरी हैंडसेट बनाने वाली कनाडा कंपनी रिसर्च मोशन रिम पुनर्गठन योजना तहत अगले सप्ताह वैश्विक स्तर 2 000 कर्मचारियों छंटनी करेगी. द ग्लोब एंड मेल कंपनी नजदीकी सूत्रों हवाले प्रकाशित खबर रिम वैश्विक स्तर बड़े पुनर्गठन तैयारी रही है. अगले सप्ताह वैश्विक स्तर 2 000 नौकरियों कटौती करेगी. रिपोर्ट छंटनी आंकड़ा इससे बड़ा है. द ग्लोब एंड मेल कंपनी नजदीकी सूत्रों हवाले प्रकाशित खबर रिम वैश्विक स्तर बड़े पुनर्गठन तैयारी रही है. अगले सप्ताह वैश्विक स्तर 2 000 नौकरियों कटौती करेगी. रिपोर्ट छंटनी आंकड़ा इससे बड़ा है.'"
            ],
            "application/vnd.google.colaboratory.intrinsic+json": {
              "type": "string"
            }
          },
          "metadata": {},
          "execution_count": 17
        }
      ]
    },
    {
      "cell_type": "code",
      "source": [
        "headline_corpus[0]"
      ],
      "metadata": {
        "colab": {
          "base_uri": "https://localhost:8080/",
          "height": 36
        },
        "id": "wHv-uGD3Bqlp",
        "outputId": "3129d341-0113-4aef-a627-5d97cedd9126"
      },
      "execution_count": null,
      "outputs": [
        {
          "output_type": "execute_result",
          "data": {
            "text/plain": [
              "'रिम करेगा हजार कर्मचारियों छंटनी'"
            ],
            "application/vnd.google.colaboratory.intrinsic+json": {
              "type": "string"
            }
          },
          "metadata": {},
          "execution_count": 18
        }
      ]
    },
    {
      "cell_type": "code",
      "source": [
        "import nltk\n",
        "nltk.download('punkt')"
      ],
      "metadata": {
        "colab": {
          "base_uri": "https://localhost:8080/"
        },
        "id": "_FQ5-O9zJwuN",
        "outputId": "5fae0e6c-971f-4c8a-da8d-37ced484cfc5"
      },
      "execution_count": null,
      "outputs": [
        {
          "output_type": "stream",
          "name": "stderr",
          "text": [
            "[nltk_data] Downloading package punkt to /root/nltk_data...\n",
            "[nltk_data]   Unzipping tokenizers/punkt.zip.\n"
          ]
        },
        {
          "output_type": "execute_result",
          "data": {
            "text/plain": [
              "True"
            ]
          },
          "metadata": {},
          "execution_count": 19
        }
      ]
    },
    {
      "cell_type": "code",
      "source": [
        "from nltk.tokenize import WhitespaceTokenizer\n",
        "from nltk.tokenize import sent_tokenize"
      ],
      "metadata": {
        "id": "wWzopXlbCyjZ"
      },
      "execution_count": null,
      "outputs": []
    },
    {
      "cell_type": "code",
      "source": [
        "def get_score_1(article_sentence, headline_sentence):\n",
        "  tokenizer = WhitespaceTokenizer()\n",
        "  article_sentence_tokens = tokenizer.tokenize(article_sentence)\n",
        "  # print(\"Article tokens:\")\n",
        "  # print(article_sentence_tokens)\n",
        "  headline_sentence_tokens = set(tokenizer.tokenize(headline_sentence))\n",
        "  # print(\"Headline_sentence_tokens:\")\n",
        "  # print(headline_sentence_tokens)\n",
        "  common_tokens = set([token for token in article_sentence_tokens if token in headline_sentence_tokens])\n",
        "  # print(\"Common tokens:\")\n",
        "  # print(common_tokens)\n",
        "  return len(common_tokens)/len(headline_sentence_tokens)"
      ],
      "metadata": {
        "id": "7ueVjG2yAiKO"
      },
      "execution_count": null,
      "outputs": []
    },
    {
      "cell_type": "code",
      "source": [
        "get_score_1(article_corpus[0], headline_corpus[0])"
      ],
      "metadata": {
        "colab": {
          "base_uri": "https://localhost:8080/"
        },
        "id": "EsloS_SWERNv",
        "outputId": "3a927231-676a-474c-d840-4e615b5b5763"
      },
      "execution_count": null,
      "outputs": [
        {
          "output_type": "execute_result",
          "data": {
            "text/plain": [
              "0.6"
            ]
          },
          "metadata": {},
          "execution_count": 22
        }
      ]
    },
    {
      "cell_type": "code",
      "source": [
        "def get_score_2(article_sentence, article):\n",
        "  tokenizer = WhitespaceTokenizer()\n",
        "  article_sentence_tokens = tokenizer.tokenize(article_sentence)\n",
        "  # print(\"Article Sentence tokens:\")\n",
        "  # print(article_sentence_tokens)\n",
        "  article_tokens = tokenizer.tokenize(article)\n",
        "  # print(\"Article tokens:\")\n",
        "  # print(article_tokens)\n",
        "  return len(article_sentence_tokens)/len(article_tokens)"
      ],
      "metadata": {
        "id": "t3lFfKEDEYId"
      },
      "execution_count": null,
      "outputs": []
    },
    {
      "cell_type": "code",
      "source": [
        "first_article_sentences = sent_tokenize(article_corpus[0])\n",
        "get_score_2(first_article_sentences[0], article_corpus[0])"
      ],
      "metadata": {
        "colab": {
          "base_uri": "https://localhost:8080/"
        },
        "id": "hamR98n3ItrT",
        "outputId": "5edc6f1b-9929-450b-9c8a-23e7f2c834f2"
      },
      "execution_count": null,
      "outputs": [
        {
          "output_type": "execute_result",
          "data": {
            "text/plain": [
              "0.2413793103448276"
            ]
          },
          "metadata": {},
          "execution_count": 24
        }
      ]
    },
    {
      "cell_type": "code",
      "source": [
        "def get_score_3(article_sentence):\n",
        "  tokenizer = WhitespaceTokenizer()\n",
        "  article_sentence_tokens = tokenizer.tokenize(article_sentence)\n",
        "  english_pattern = r'\\b[a-zA-Z]+\\b'\n",
        "  english_words = re.findall(english_pattern, article_sentence)\n",
        "  return len(english_words)/len(article_sentence_tokens)"
      ],
      "metadata": {
        "id": "W1VC9xnrKCer"
      },
      "execution_count": null,
      "outputs": []
    },
    {
      "cell_type": "code",
      "source": [
        "get_score_3(\"ब्लैकबेरी हैंडसेट बनाने वाली कनाडा कंपनी hindi रिसर्च मोशन रिम पुनर्गठन योजना तहत अगले INDIA सप्ताह वैश्विक स्तर 2000 कर्मचारियों छंटनी करेगी.\")"
      ],
      "metadata": {
        "id": "TtvESYQrMCNB",
        "colab": {
          "base_uri": "https://localhost:8080/"
        },
        "outputId": "90e2e816-163a-47dc-ccb5-9165b51dcdf2"
      },
      "execution_count": null,
      "outputs": [
        {
          "output_type": "execute_result",
          "data": {
            "text/plain": [
              "0.09090909090909091"
            ]
          },
          "metadata": {},
          "execution_count": 26
        }
      ]
    },
    {
      "cell_type": "code",
      "source": [
        "get_score_3(\"ब्लैकबेरी हैंडसेट बनाने वाली कनाडा कंपनी hindi रिसर्च मोशन रिम पुनर्गठन योजना तहत अगले सप्ताह वैश्विक स्तर 2000 कर्मचारियों छंटनी करेगी.\")"
      ],
      "metadata": {
        "colab": {
          "base_uri": "https://localhost:8080/"
        },
        "id": "_xFEEGFFgAyR",
        "outputId": "ebc02cdf-aee5-461c-af3f-8f1356e51b11"
      },
      "execution_count": null,
      "outputs": [
        {
          "output_type": "execute_result",
          "data": {
            "text/plain": [
              "0.047619047619047616"
            ]
          },
          "metadata": {},
          "execution_count": 27
        }
      ]
    },
    {
      "cell_type": "code",
      "source": [
        "def get_score_4(article_sentence):\n",
        "  tokenizer = WhitespaceTokenizer()\n",
        "  article_sentence_tokens = tokenizer.tokenize(article_sentence)\n",
        "  numbers = set(re.findall(r'\\b\\d+\\b', article_sentence))\n",
        "  return len(numbers)/len(article_sentence_tokens)"
      ],
      "metadata": {
        "id": "z2o9JvRGgUoh"
      },
      "execution_count": null,
      "outputs": []
    },
    {
      "cell_type": "code",
      "source": [
        "get_score_4(\"ब्लैकबेरी हैंडसेट बनाने वाली कनाडा कंपनी वैश्विक स्तर 2000 कर्मचारियों छंटनी करेगी.\")"
      ],
      "metadata": {
        "colab": {
          "base_uri": "https://localhost:8080/"
        },
        "id": "pt8r9UkQgeoR",
        "outputId": "2f1710af-1bc9-41f3-b107-e30c61e2bc1a"
      },
      "execution_count": null,
      "outputs": [
        {
          "output_type": "execute_result",
          "data": {
            "text/plain": [
              "0.08333333333333333"
            ]
          },
          "metadata": {},
          "execution_count": 29
        }
      ]
    },
    {
      "cell_type": "code",
      "source": [
        "get_score_4(\"ब्लैकबेरी हैंडसेट बनाने वाली कनाडा कंपनी hindi रिसर्च मोशन रिम पुनर्गठन योजना तहत अगले सप्ताह वैश्विक स्तर कर्मचारियों छंटनी करेगी.\")"
      ],
      "metadata": {
        "colab": {
          "base_uri": "https://localhost:8080/"
        },
        "id": "Lqu72RR2g4vu",
        "outputId": "7e4cbd4c-b602-427a-f4ed-575869198b82"
      },
      "execution_count": null,
      "outputs": [
        {
          "output_type": "execute_result",
          "data": {
            "text/plain": [
              "0.0"
            ]
          },
          "metadata": {},
          "execution_count": 30
        }
      ]
    },
    {
      "cell_type": "code",
      "source": [
        "def get_num_sent_in_summary(article_sentence, compression_ration = 0.3):\n",
        "  sentences = sent_tokenize(article_sentence)\n",
        "  num_sentences = len(sentences)\n",
        "  num_sentences = round(num_sentences * compression_ration)\n",
        "  if num_sentences:\n",
        "    return num_sentences\n",
        "  return 1"
      ],
      "metadata": {
        "id": "kySzLUwQg6Uu"
      },
      "execution_count": null,
      "outputs": []
    },
    {
      "cell_type": "code",
      "source": [
        "get_num_sent_in_summary(article_corpus[0], 0.7)"
      ],
      "metadata": {
        "colab": {
          "base_uri": "https://localhost:8080/"
        },
        "id": "UF_NpaDfhhVR",
        "outputId": "abe81a93-2a58-40e0-949e-960e29b04d4a"
      },
      "execution_count": null,
      "outputs": [
        {
          "output_type": "execute_result",
          "data": {
            "text/plain": [
              "5"
            ]
          },
          "metadata": {},
          "execution_count": 32
        }
      ]
    },
    {
      "cell_type": "code",
      "source": [
        "def get_total_score(sentence, article, headline):\n",
        "  s1 = get_score_1(sentence, headline)\n",
        "  s2 = get_score_2(sentence, article)\n",
        "  s3 = get_score_3(sentence)\n",
        "  s4 = get_score_4(sentence)\n",
        "  return s1+s2+s3+s4"
      ],
      "metadata": {
        "id": "UDLLY92aiIRD"
      },
      "execution_count": null,
      "outputs": []
    },
    {
      "cell_type": "code",
      "source": [
        "get_total_score(first_article_sentences[0], article_corpus[0], headline_corpus[0])"
      ],
      "metadata": {
        "colab": {
          "base_uri": "https://localhost:8080/"
        },
        "id": "zqIWk3jQigi1",
        "outputId": "eccbc2ad-e593-486a-c6d8-fd30074f01ac"
      },
      "execution_count": null,
      "outputs": [
        {
          "output_type": "execute_result",
          "data": {
            "text/plain": [
              "0.9366174055829228"
            ]
          },
          "metadata": {},
          "execution_count": 34
        }
      ]
    },
    {
      "cell_type": "code",
      "source": [
        "get_total_score(first_article_sentences[1], article_corpus[0], headline_corpus[0])"
      ],
      "metadata": {
        "colab": {
          "base_uri": "https://localhost:8080/"
        },
        "id": "1wRuMDpZjVEK",
        "outputId": "5e4c13f8-3d3e-467c-de42-576962adf2d4"
      },
      "execution_count": null,
      "outputs": [
        {
          "output_type": "execute_result",
          "data": {
            "text/plain": [
              "0.40689655172413797"
            ]
          },
          "metadata": {},
          "execution_count": 35
        }
      ]
    },
    {
      "cell_type": "code",
      "source": [
        "get_total_score(first_article_sentences[2], article_corpus[0], headline_corpus[0])"
      ],
      "metadata": {
        "colab": {
          "base_uri": "https://localhost:8080/"
        },
        "id": "sISr7P8rjhpf",
        "outputId": "4ed42e63-cd94-4c87-ce47-8e85ebbe13e9"
      },
      "execution_count": null,
      "outputs": [
        {
          "output_type": "execute_result",
          "data": {
            "text/plain": [
              "0.32567049808429116"
            ]
          },
          "metadata": {},
          "execution_count": 36
        }
      ]
    },
    {
      "cell_type": "code",
      "source": [
        "get_total_score(first_article_sentences[3], article_corpus[0], headline_corpus[0])"
      ],
      "metadata": {
        "colab": {
          "base_uri": "https://localhost:8080/"
        },
        "id": "tI-qjgUejkTG",
        "outputId": "767cfeaf-84ec-4097-9eed-5856b31fb5fe"
      },
      "execution_count": null,
      "outputs": [
        {
          "output_type": "execute_result",
          "data": {
            "text/plain": [
              "0.2689655172413793"
            ]
          },
          "metadata": {},
          "execution_count": 37
        }
      ]
    },
    {
      "cell_type": "code",
      "source": [
        "get_total_score(first_article_sentences[4], article_corpus[0], headline_corpus[0])"
      ],
      "metadata": {
        "colab": {
          "base_uri": "https://localhost:8080/"
        },
        "id": "N2KRSw0BjlzJ",
        "outputId": "806925f0-721f-4569-8438-dad946077690"
      },
      "execution_count": null,
      "outputs": [
        {
          "output_type": "execute_result",
          "data": {
            "text/plain": [
              "0.40689655172413797"
            ]
          },
          "metadata": {},
          "execution_count": 38
        }
      ]
    },
    {
      "cell_type": "code",
      "source": [
        "def score_and_sort(article, headline):\n",
        "  article_sentences = sent_tokenize(article)\n",
        "  sentence_scores = []\n",
        "  for sentence in article_sentences:\n",
        "    sentence_score = get_total_score(sentence, article, headline)\n",
        "    sentence_scores.append((sentence, sentence_score))\n",
        "  sorted_sentences = sorted(sentence_scores, key=lambda x: x[1], reverse=True)\n",
        "  return sorted_sentences"
      ],
      "metadata": {
        "id": "7TCxl4WDjnnf"
      },
      "execution_count": null,
      "outputs": []
    },
    {
      "cell_type": "code",
      "source": [
        "score_and_sort(article_corpus[0], headline_corpus[0])"
      ],
      "metadata": {
        "colab": {
          "base_uri": "https://localhost:8080/"
        },
        "id": "y2vNB2rZkpD7",
        "outputId": "ea190f69-7d9b-452b-b5f4-7c4951c1fe54"
      },
      "execution_count": null,
      "outputs": [
        {
          "output_type": "execute_result",
          "data": {
            "text/plain": [
              "[('ब्लैकबेरी हैंडसेट बनाने वाली कनाडा कंपनी रिसर्च मोशन रिम पुनर्गठन योजना तहत अगले सप्ताह वैश्विक स्तर 2 000 कर्मचारियों छंटनी करेगी.',\n",
              "  0.9366174055829228),\n",
              " ('द ग्लोब एंड मेल कंपनी नजदीकी सूत्रों हवाले प्रकाशित खबर रिम वैश्विक स्तर बड़े पुनर्गठन तैयारी रही है.',\n",
              "  0.40689655172413797),\n",
              " ('द ग्लोब एंड मेल कंपनी नजदीकी सूत्रों हवाले प्रकाशित खबर रिम वैश्विक स्तर बड़े पुनर्गठन तैयारी रही है.',\n",
              "  0.40689655172413797),\n",
              " ('अगले सप्ताह वैश्विक स्तर 2 000 नौकरियों कटौती करेगी.', 0.32567049808429116),\n",
              " ('अगले सप्ताह वैश्विक स्तर 2 000 नौकरियों कटौती करेगी.', 0.32567049808429116),\n",
              " ('रिपोर्ट छंटनी आंकड़ा इससे बड़ा है.', 0.2689655172413793),\n",
              " ('रिपोर्ट छंटनी आंकड़ा इससे बड़ा है.', 0.2689655172413793)]"
            ]
          },
          "metadata": {},
          "execution_count": 40
        }
      ]
    },
    {
      "cell_type": "code",
      "source": [
        "def get_summary(article, headline, compression_ratio=0.3):\n",
        "  num_sentences = get_num_sent_in_summary(article, compression_ratio)\n",
        "  sorted_sentences = score_and_sort(article, headline)\n",
        "  summary_sentences = [sentence for sentence, score in sorted_sentences[:num_sentences]]\n",
        "  summary_paragraph = ' '.join(summary_sentences)\n",
        "  return summary_paragraph"
      ],
      "metadata": {
        "id": "NCKbgoG8kuXV"
      },
      "execution_count": null,
      "outputs": []
    },
    {
      "cell_type": "code",
      "source": [
        "get_summary(article_corpus[0], headline_corpus[0], 0.1)"
      ],
      "metadata": {
        "colab": {
          "base_uri": "https://localhost:8080/",
          "height": 54
        },
        "id": "I8IB7WeVl9km",
        "outputId": "5c377181-e587-4ea0-a1ca-7217a7bede0b"
      },
      "execution_count": null,
      "outputs": [
        {
          "output_type": "execute_result",
          "data": {
            "text/plain": [
              "'ब्लैकबेरी हैंडसेट बनाने वाली कनाडा कंपनी रिसर्च मोशन रिम पुनर्गठन योजना तहत अगले सप्ताह वैश्विक स्तर 2 000 कर्मचारियों छंटनी करेगी.'"
            ],
            "application/vnd.google.colaboratory.intrinsic+json": {
              "type": "string"
            }
          },
          "metadata": {},
          "execution_count": 42
        }
      ]
    },
    {
      "cell_type": "code",
      "source": [
        "summary_corpus[0]"
      ],
      "metadata": {
        "colab": {
          "base_uri": "https://localhost:8080/",
          "height": 54
        },
        "id": "2poElz_dmCwu",
        "outputId": "ad97e070-fc7a-4917-a603-1385b14459c5"
      },
      "execution_count": null,
      "outputs": [
        {
          "output_type": "execute_result",
          "data": {
            "text/plain": [
              "'ब्लैकबेरी हैंडसेट बनाने वाली कनाडा की कंपनी रिसर्च इन मोशन रिम अपनी पुनर्गठन योजना के तहत अगले कुछ सप्ताह में वैश्विक स्तर पर 2 000 कर्मचारियों की छंटनी करेगी.'"
            ],
            "application/vnd.google.colaboratory.intrinsic+json": {
              "type": "string"
            }
          },
          "metadata": {},
          "execution_count": 43
        }
      ]
    },
    {
      "cell_type": "markdown",
      "source": [
        "# Now we can create a class that can do all this"
      ],
      "metadata": {
        "id": "bboX2eIpndbx"
      }
    },
    {
      "cell_type": "code",
      "source": [
        "class Model_Rank:\n",
        "\n",
        "  def __init__(self):\n",
        "    hindi_pattern = r'[\\u0965\\u002E\\u002C\\u0021\\u003F\\u003B\\u003A\\u0027\\u0022\\u2018\\u2019\\u201C\\u201D\\u002D\\u0028\\u0029]'\n",
        "    purna_viram_pattern = r'[\\u0964]'\n",
        "    english_pattern = r'[^\\w\\s\\u0900-\\u097F]'\n",
        "    pattern = hindi_pattern + '|' + english_pattern\n",
        "\n",
        "  def preprocess(self, article):\n",
        "    article_cleaned = re.sub(pattern, ' ', article)\n",
        "    article_cleaned = re.sub(purna_viram_pattern, '.', article_cleaned)\n",
        "    article_cleaned = article_cleaned.split()\n",
        "    article_cleaned = [word for word in article_cleaned if not word in STOP_WORDS_HI]\n",
        "    article_cleaned = ' '.join(article_cleaned)\n",
        "    return article_cleaned\n",
        "\n",
        "  def get_score_1(self, article_sentence, headline_sentence):\n",
        "    if not headline_sentence:\n",
        "      return 0\n",
        "    tokenizer = WhitespaceTokenizer()\n",
        "    article_sentence_tokens = tokenizer.tokenize(article_sentence)\n",
        "    headline_sentence_tokens = set(tokenizer.tokenize(headline_sentence))\n",
        "    common_tokens = set([token for token in article_sentence_tokens if token in headline_sentence_tokens])\n",
        "    if not len(headline_sentence_tokens):\n",
        "      return 0\n",
        "    return len(common_tokens)/len(headline_sentence_tokens)\n",
        "\n",
        "  def get_score_2(self, article_sentence, article):\n",
        "    tokenizer = WhitespaceTokenizer()\n",
        "    article_sentence_tokens = tokenizer.tokenize(article_sentence)\n",
        "    article_tokens = tokenizer.tokenize(article)\n",
        "    return len(article_sentence_tokens)/len(article_tokens)\n",
        "\n",
        "  def get_score_3(self, article_sentence):\n",
        "    tokenizer = WhitespaceTokenizer()\n",
        "    article_sentence_tokens = tokenizer.tokenize(article_sentence)\n",
        "    english_pattern = r'\\b[a-zA-Z]+\\b'\n",
        "    english_words = re.findall(english_pattern, article_sentence)\n",
        "    return len(english_words)/len(article_sentence_tokens)\n",
        "\n",
        "  def get_score_4(self, article_sentence):\n",
        "    tokenizer = WhitespaceTokenizer()\n",
        "    article_sentence_tokens = tokenizer.tokenize(article_sentence)\n",
        "    numbers = set(re.findall(r'\\b\\d+\\b', article_sentence))\n",
        "    return len(numbers)/len(article_sentence_tokens)\n",
        "\n",
        "  def get_num_sent_in_summary(self, article_sentence, compression_ration = 0.3):\n",
        "    sentences = sent_tokenize(article_sentence)\n",
        "    num_sentences = len(sentences)\n",
        "    num_sentences = round(num_sentences * compression_ration)\n",
        "    if num_sentences:\n",
        "      return num_sentences\n",
        "    return 1\n",
        "\n",
        "  def get_total_score(self, sentence, article, headline):\n",
        "    s1 = self.get_score_1(sentence, headline)\n",
        "    s2 = self.get_score_2(sentence, article)\n",
        "    s3 = self.get_score_3(sentence)\n",
        "    s4 = self.get_score_4(sentence)\n",
        "    return s1+s2+s3+s4\n",
        "\n",
        "  def score_and_sort(self, article, headline):\n",
        "    article_sentences = sent_tokenize(article)\n",
        "    sentence_scores = []\n",
        "    for sentence in article_sentences:\n",
        "      sentence_score = self.get_total_score(sentence, article, headline)\n",
        "      sentence_scores.append((sentence, sentence_score))\n",
        "    sorted_sentences = sorted(sentence_scores, key=lambda x: x[1], reverse=True)\n",
        "    return sorted_sentences\n",
        "\n",
        "  def get_summary(self, article, compression_ratio=0.3, headline=\"\"):\n",
        "    num_sentences = self.get_num_sent_in_summary(article, compression_ratio)\n",
        "    sorted_sentences = self.score_and_sort(article, headline)\n",
        "    summary_sentences = [sentence for sentence, score in sorted_sentences[:num_sentences]]\n",
        "    summary_paragraph = ' '.join(summary_sentences)\n",
        "    return summary_paragraph"
      ],
      "metadata": {
        "id": "hPT-ho0PmFSa"
      },
      "execution_count": null,
      "outputs": []
    },
    {
      "cell_type": "code",
      "source": [
        "m = Model_Rank()\n",
        "m.get_summary(article = article_corpus[0], compression_ratio=0.4)"
      ],
      "metadata": {
        "colab": {
          "base_uri": "https://localhost:8080/",
          "height": 72
        },
        "id": "pVMmX47pphKN",
        "outputId": "7d5fc5ac-ff2b-4911-823c-15beb88af879"
      },
      "execution_count": null,
      "outputs": [
        {
          "output_type": "execute_result",
          "data": {
            "text/plain": [
              "'ब्लैकबेरी हैंडसेट बनाने वाली कनाडा कंपनी रिसर्च मोशन रिम पुनर्गठन योजना तहत अगले सप्ताह वैश्विक स्तर 2 000 कर्मचारियों छंटनी करेगी. अगले सप्ताह वैश्विक स्तर 2 000 नौकरियों कटौती करेगी. अगले सप्ताह वैश्विक स्तर 2 000 नौकरियों कटौती करेगी.'"
            ],
            "application/vnd.google.colaboratory.intrinsic+json": {
              "type": "string"
            }
          },
          "metadata": {},
          "execution_count": 45
        }
      ]
    },
    {
      "cell_type": "code",
      "source": [
        "for i in range(50):\n",
        "  true_summary = summary_corpus[i]\n",
        "  predicted_summary = m.get_summary(article = article_corpus[i], headline = headline_corpus[i], compression_ratio = 0.1)\n",
        "  print(\"True Summary: \", true_summary)\n",
        "  print(\"Predicted Summary: \", predicted_summary)"
      ],
      "metadata": {
        "colab": {
          "base_uri": "https://localhost:8080/"
        },
        "id": "b3okbw0_pvyd",
        "outputId": "f281bf6b-952b-46c9-d2df-bd16cf9cd7af"
      },
      "execution_count": null,
      "outputs": [
        {
          "output_type": "stream",
          "name": "stdout",
          "text": [
            "True Summary:  ब्लैकबेरी हैंडसेट बनाने वाली कनाडा की कंपनी रिसर्च इन मोशन रिम अपनी पुनर्गठन योजना के तहत अगले कुछ सप्ताह में वैश्विक स्तर पर 2 000 कर्मचारियों की छंटनी करेगी.\n",
            "Predicted Summary:  ब्लैकबेरी हैंडसेट बनाने वाली कनाडा कंपनी रिसर्च मोशन रिम पुनर्गठन योजना तहत अगले सप्ताह वैश्विक स्तर 2 000 कर्मचारियों छंटनी करेगी.\n",
            "True Summary:  श्रद्धांजलि सभा के दौरान अचानक खराब हुई हिलेरी क्लिंटन की तबीयत डॉक्टरों ने हिलेरी को निमोनिया होने की पुष्टि की है राष्ट्रपति पद के लिए डेमोक्रेटिक उम्मीदवार हैं क्लिंटन\n",
            "Predicted Summary:  अमेरिका राष्ट्रपति पद डेमोक्रेटिक पार्टी उम्मीदवार हिलेरी क्लिंटन निमोनिया पीड़ित पाई गई आराम सलाह दी गई इससे घंटे हिलेरी अस्वस्थ महसूस कारण 9 11 हमलों स्मृति सभा बीच चली गई थीं हिलेरी चिकित्सक लीसा बरडाक बयान पूर्व विदेश मंत्री एलर्जी कारण खांसी रही उन्होंने लंबे समय खांसी रही संबंधी जांच निमोनिया पीड़ित पाया एंटीबॉयोटिक दवाएं देने अलावा आराम कार्यक्रम बदलाव सलाह दी गई चिकित्सक बताया हिलेरी कल तड़के मैनहट्टन ग्राउंड जीरो स्मारक 9 11 हमलों 15 साल पूरे अवसर आयोजित स्मृति सभा बुखार शरीर पानी कमी गई लीसा बताया उन्होंने हिलेरी जांच शरीर पानी कमी दूर गई स्वास्थ्य सुधार हिलेरी 9 11 हमलों स्मारक आतंकवादी हमले पीड़ितों श्रद्धांजलि अर्पित गई थीं टिप्पणियां हिलेरी प्रचार टीम बताया कार्यक्रम दौरान अस्वस्थ गईं बेटी चेल्सी अपार्टमेंट रवाना गईं शहर पॉश फ्लैटीरोन हेडलाइन अलावा खबर एनडीटीवी टीम संपादित सिंडीकेट फीड सीधे प्रकाशित गई है.\n",
            "True Summary:  पूर्व भारतीय कप्तान अनिल कुंबले का मानना है कि भारत का स्पिन विभाग स्तरीय गेंदबाजों से भरा है और उन्होंने टीम में वापसी करने वाले ऑफ स्पिनर हरभजन सिंह को देश के सर्वश्रेष्ठ स्पिनरों में से एक करार दिया.\n",
            "Predicted Summary:  पूर्व भारतीय क्रिकेट कप्तान अनिल कुंबले मानना भारत स्पिन विभाग स्तरीय गेंदबाजों भरा उन्होंने टीम वापसी ऑफ स्पिनर हरभजन सिंह देश सर्वश्रेष्ठ स्पिनरों करार दिया. देश प्रमुख स्पिनरों बारे बात कुंबले अश्विन हरभजन ओझा स्पिन गेंदबाजी आक्रमण काफी मजबूत है. देश प्रमुख स्पिनरों बारे बात कुंबले अश्विन हरभजन ओझा स्पिन गेंदबाजी आक्रमण काफी मजबूत है. देश प्रमुख स्पिनरों बारे बात कुंबले अश्विन हरभजन ओझा स्पिन गेंदबाजी आक्रमण काफी मजबूत है. देश प्रमुख स्पिनरों बारे बात कुंबले अश्विन हरभजन ओझा स्पिन गेंदबाजी आक्रमण काफी मजबूत है. टेस्ट क्रिकेट 619 विकेट दुनिया तीसरे सफलतम गेंदबाज कुंबले हरभजन सिंह बेहतरीन गेंदबाज है. टेस्ट क्रिकेट 619 विकेट दुनिया तीसरे सफलतम गेंदबाज कुंबले हरभजन सिंह बेहतरीन गेंदबाज है. टेस्ट क्रिकेट 619 विकेट दुनिया तीसरे सफलतम गेंदबाज कुंबले हरभजन सिंह बेहतरीन गेंदबाज है. कुंबले बीसीसीआई आधिकारिक वेबसाइट हरभजन सिंह मौजूद 400 टेस्ट विकेट हासिल अनुभव काफी प्रतिस्पर्धी है. कुंबले बीसीसीआई आधिकारिक वेबसाइट हरभजन सिंह मौजूद 400 टेस्ट विकेट हासिल अनुभव काफी प्रतिस्पर्धी है. कुंबले बीसीसीआई आधिकारिक वेबसाइट हरभजन सिंह मौजूद 400 टेस्ट विकेट हासिल अनुभव काफी प्रतिस्पर्धी है. कुंबले बीसीसीआई आधिकारिक वेबसाइट हरभजन सिंह मौजूद 400 टेस्ट विकेट हासिल अनुभव काफी प्रतिस्पर्धी है. कुंबले बीसीसीआई आधिकारिक वेबसाइट हरभजन सिंह मौजूद 400 टेस्ट विकेट हासिल अनुभव काफी प्रतिस्पर्धी है. कुंबले बीसीसीआई आधिकारिक वेबसाइट हरभजन सिंह मौजूद 400 टेस्ट विकेट हासिल अनुभव काफी प्रतिस्पर्धी है. कुंबले देश लेग स्पिनरों बारे राहुल शर्मा पीयूष चावला अमित मिश्रा दौड़ आगे टेस्ट प्रारूप अधिक अनुकूल हैं. कुंबले देश लेग स्पिनरों बारे राहुल शर्मा पीयूष चावला अमित मिश्रा दौड़ आगे टेस्ट प्रारूप अधिक अनुकूल हैं.\n",
            "True Summary:  इंडिगो के ग्राउंड स्टाफ ने यात्री से की हाथापाई इंडिगो एयरलाइन ने इस घटना के लिए माफी मांग ली है 15 अक्टूबर की है ये घटना\n",
            "Predicted Summary:  इंडिगो एयरलाइन प्रेसीडेंट डायरेक्टर आदित्य घोष दिल्ली दिल्ली एयरपोर्ट हमारे स्टाफ यात्री दुर्व्यवहार स्वीकार हूं मैंने व्यक्तिगत तौर यात्री बात माफी मांगी घटना प्रतिक्रिया देते नागरिक उड्डयन मंत्री अशोक गजपति राजू मैंने नागरिक उड्डयन मंत्रालय निगरानी एजेंसी डीजीसीए मामले रिपोर्ट देने हिंसा दुखद घटना प्रतिक्रिया देते नागरिक उड्डयन मंत्री अशोक गजपति राजू मैंने नागरिक उड्डयन मंत्रालय निगरानी एजेंसी डीजीसीए मामले रिपोर्ट देने हिंसा दुखद\n",
            "True Summary:  मीजान जाफरी ने किया खुलासा नव्या नंदा को बताया अच्छा दोस्त फिल्म मलाल से बॉलीवुड में एंट्री करेंगे मीजान जाफरी\n",
            "Predicted Summary:  संजय लीला भंसाली फिल्म मलाल बॉलीवुड कदम रखने मीजान जाफरी Meezaan Jaffery दिनों काफी चर्चा फिल्म अलावा मीजान जाफरी Meezaan Jaffery नव्या नवेली नंदा Navya Naveli Nanda दोस्ती लेकर सोशल मीडिया छाए दिनों वायरल फोटोज नव्या नवेली नंदा Navya Naveli Nanda एक्टर मीजान जाफरी Meezaan Jaffery दिखाई दी थीं मीजान जाफरी Meezaan Jaffery नव्या नवेली नंदा Navya Naveli Nanda दोस्ती लेकर सोशल मीडिया चर्चा लगी हालांकि मीजान जाफरी Meezaan Jaffery मीडिया दिए इंटरव्यू नव्या नवेली नंदा Navya Naveli Nanda दोस्ती खुलासा Blur But Beautiful meezaanj and navyananda meezaan navyanavelinanda sanjayleelabhansali vimalfilmfareawards2019 zeecineawards bollywood debutante malaal malal slb inshallah salmankhan aliabhatt A post shared by meezaan s world meezaan_jaffery on Mar 26 2019 at 4 37am PDT मुंबई मिरर हाल बॉलीवुड एक्टर मीजान जाफरी Meezaan Jaffery इंटरव्यू लिया जिसमें उनसे नव्या नवेली नन्दा Navya Naveli Nanda दोस्ती बारे पूछा मीजान जाफरी Meezaan Jaffery हम केवल अच्छे दोस्त मीडिया बातचीत दौरान मीजान जाफरी नव्या नवेली सेम फ्रेंड सर्कल नव्या मेरी बहन बेस्टी मेरी काफी अच्छी दोस्त रिलेशनशिप हूं इंटरव्यू दौरान मीजान जाफरी बताया बहन अलाविया जाफरी Alaviaa Jaaferi काफी अच्छी दोस्त सेम फ्रेंड सर्कल कारण दोनों खुद अच्छे दोस्त A post shared by Alaviaa Jaaferi alaviaajaaferi on Oct 13 2018 at 1 18pm PDT बता दें बॉलीवुड एक्टर जावेद जाफरी बेटे मीजान जाफरी Meezaan Jaffery हाल संजय लीला भंसाली फिल्म मलाल Malaal लीड रोल नजर आएंगे मीजान जाफरी Meezaan Jaffery फिल्म 5 जुलाई दुनियाभर रिलीज होगी इनके फिल्म शर्मिन सेगल मुख्य भूमिका दिखाई देंगी फिल्म मलाल संजय लीला भंसाली भूषण कुमार कृष्म कुमार प्रोड्यूस नव्या नवेली नंदा Navya Naveli Nanda बात उन्होंने इंग्लैंड सेवन ओक्स स्कूल शुरुआती पढ़ाई समय हाईअर स्टडीज न्यूयॉर्क फोरडैम यूनिवर्सिटी पढ़ाई रही नव्या नवेली नंदा अक्सर शाहरुख खान बेटे आर्यन खान दोस्ती लेकर चर्चा रहती आर्यन खान नव्या नवेली नंदा स्कूल पढ़ाई\n",
            "True Summary:  100 समर्थकों के साथ पुलिस अधिकारी के आवास के बाहर पहुंचे थे विधायक हंगामे के दौरान मीडिया से की बात कुलदीप सेंगर ने कहा मैं कोई भगोड़ा नहीं हूं\n",
            "Predicted Summary:  पूरे मामले जांच उत्तर प्रदेश सरकार गठित एसआईटी रही एसआईटी जांच आधार मामले पुलिस आरोपी विधायक कुलदीप सिंह सेंगर खिलाफ मामला दर्ज सकती\n",
            "True Summary:  ज़ाकिर नाइक के 78 बैंक खातों की एनआईए जांच कर रही है नाइक के एनजीओ से जुड़े 23 लोगों से भी पूछताछ की जा रही है धर्म के नाम पर विदेशी चंदा जुटाने और लोगों को भड़काने का आरोप\n",
            "Predicted Summary:  विवादित इस्लामिक प्रचारक ज़ाकिर नाइक गैर सरकारी संगठन इस्लामिक रिसर्च फाउंडेशन आईआरएफ भारत सरकार शिकंजा कसता नाइक पुछताछ एनआईए पुख्ता सबूत जुटा जल्द समन भेजे जाएंगे एनआईए दावा इस्लामिक उपदेशक एनजीओ रियल एस्टेट करीब 100 करोड़ रुपये निवेश निवेश मुंबई आसपास इलाकों जांच एजेंसी बताया ज़ाकिर 78 बैंक खातों नज़र रखी रही एजेंसी कहना पूरे मामले जांच जारी महीने जांच पूरी लेगी जांच खत्म ज़ाकिर पेश समन भेजा जाएगा बता दें बीते साल नाइक ठिकानों छापेमारी एनआईए नाइक इस्लामिक रिसर्च फाउंडेशन आईआरएफ वेबसाइट्स ब्लॉक अलावा फाउंडेशन खिलाफ दर्ज मामले 10 स्थानों छापेमारी गई टिप्पणियां गृह मंत्रालय मानना नाइक भाषण भारत अनेकता एकता सोच विरुद्ध विचारों समाज बांटने कोशिश मुस्लिम युवाओं विदेशी युवाओं आतंकी बनने प्रेरणा दे फिलहाल प्रवर्तन निदेशालय ईडी ख़िलाफ़ मामला दर्ज एनआईए दावा इस्लामिक उपदेशक एनजीओ रियल एस्टेट करीब 100 करोड़ रुपये निवेश निवेश मुंबई आसपास इलाकों जांच एजेंसी बताया ज़ाकिर 78 बैंक खातों नज़र रखी रही एजेंसी कहना पूरे मामले जांच जारी महीने जांच पूरी लेगी जांच खत्म ज़ाकिर पेश समन भेजा जाएगा बता दें बीते साल नाइक ठिकानों छापेमारी एनआईए नाइक इस्लामिक रिसर्च फाउंडेशन आईआरएफ वेबसाइट्स ब्लॉक अलावा फाउंडेशन खिलाफ दर्ज मामले 10 स्थानों छापेमारी गई टिप्पणियां गृह मंत्रालय मानना नाइक भाषण भारत अनेकता एकता सोच विरुद्ध विचारों समाज बांटने कोशिश मुस्लिम युवाओं विदेशी युवाओं आतंकी बनने प्रेरणा दे फिलहाल प्रवर्तन निदेशालय ईडी ख़िलाफ़ मामला दर्ज बता दें बीते साल नाइक ठिकानों छापेमारी एनआईए नाइक इस्लामिक रिसर्च फाउंडेशन आईआरएफ वेबसाइट्स ब्लॉक अलावा फाउंडेशन खिलाफ दर्ज मामले 10 स्थानों छापेमारी गई टिप्पणियां गृह मंत्रालय मानना नाइक भाषण भारत अनेकता एकता सोच विरुद्ध विचारों समाज बांटने कोशिश मुस्लिम युवाओं विदेशी युवाओं आतंकी बनने प्रेरणा दे फिलहाल प्रवर्तन निदेशालय ईडी ख़िलाफ़ मामला दर्ज गृह मंत्रालय मानना नाइक भाषण भारत अनेकता एकता सोच विरुद्ध विचारों समाज बांटने कोशिश मुस्लिम युवाओं विदेशी युवाओं आतंकी बनने प्रेरणा दे फिलहाल प्रवर्तन निदेशालय ईडी ख़िलाफ़ मामला दर्ज\n",
            "True Summary:  राष्ट्रपति प्रतिभा पाटील रविवार सुबह सेशेल्स और दक्षिण अफ्रीका के नौ दिवसीय दौरे पर रवाना हुईं. वह दोनों देशों में अपने समकक्षों के साथ द्विपक्षीय क्षेत्रीय एवं अंतरराष्ट्रीय मुद्दों पर विचार विमर्श करेंगी.\n",
            "Predicted Summary:  राष्ट्रपति प्रतिभा पाटील रविवार सुबह सेशेल्स दक्षिण अफ्रीका नौ दिवसीय दौरे रवाना हुईं. राष्ट्रपति पाटील सेशेल्स मंगलवार दक्षिण अफ्रीका रवाना होंगी.\n",
            "True Summary:  कहा जब संसद नहीं चल रही हो तो अपने क्षेत्र में लगातार जनता के बीच रहें क्षेत्र की समस्याओं का मंत्रियों और अफसरों से मुलाकात कर समाधान करें क्षेत्र के बीजेपी कार्यकर्ताओं के साथ मिलकर पार्टी के कार्यक्रम करते रहें\n",
            "Predicted Summary:  उन्होंने क्षेत्रों समस्याओं लेकर केंद्रीय मंत्रियों अधिकारियों मुलाकात समस्याओं समाधान केंद्र सरकार गरीब कल्याण योजनाओं पार्टी कार्यकर्ताओं मिलकर गरीब जनता उसका लाभ ज़्यादा ज़्यादा मिले काम पीएम मोदी सांसदों समय समय क्षेत्र कार्यकर्ताओं मिलकर पार्टी कार्यक्रम रहें प्रधानमंत्री नरेंद्र मोदी आने दिनो प्रकार एससी एसटी महिला युवा सांसदों अलग अलग समूहों मुलाकात करेंगे पीएम मोदी 16वीं लोकसभा दौरान तीन तीन राज्यों लोकसभा राज्यसभा सांसदों मुलाकात\n",
            "True Summary:  सलमान खान दिखे बुजुर्ग के गेटअप में उनकी तस्वीर हुई वायरल फिल्म भारत में है उनका यह लुक\n",
            "Predicted Summary:  Jitne safed baal mere sar aur dhaadi mein hain usse kahin zyada rangeen meri zindagi rahi hain Bharat Bharat_TheFilm aliabbaszafar atulreellife itsBhushanKumar KatrinaKaif Tabu bindasbhidu DishPatani WhoSunilGrover nikhilnamit ReelLifeProdn SKFilmsOfficial TSeriespic twitter com kHaz7kzkXu सलमान खान Salman Khan तस्वीर ट्वीट लिखा जितने सफेद बाल मेरे सिर दाढ़ी उससे ज्यादा कहीं ज्यादा रंगीन मेरी जिंदगी रही सलमान खान कैप्शन तस्वीर शेयर ती तस्वीर अब सोशल मीडिया खूब धूम मचा रही उन्होंने तस्वीर शेयर कैटरीना कैफ दिशा पटानी सुनील ग्रोवर तब्बू अली जफर सितारों टैग इससे फिल्म छोटा सा टीजर रिलीज लोगों खूब पसंद सलमान खान Salman Khan अलावा फिल्म कैटरीना कैफ Katrina Kaif दिशा पटानी Disha Patani सुनील ग्रोवर Sunil Grover तब्बू Tabu सितारें मुख्य भूमिका फिल्म भारत Bharat अली अब्बास जफर डायरेक्ट फेवरिट डायरेक्टर दोनों सुपरहिट फिल्में देते आए बार दोनों नया कोशिश फिल्म लेकर मीडिया रिपोर्ट्स दावा भारत कोरियन फिल् म Ode To My Father हिंदी रीमेक\n",
            "True Summary:  फरवरी में इटली के इस जहाज का अपहरण किया गया था जिसमें पांच इटली के रहने वाले और 17 भारतीय थे.\n",
            "Predicted Summary:  रोम सोमालियाई समुद्री लुटेरों इटली तेल भरे जहाज 11 महीने रिहा दिया.\n",
            "True Summary:  पहले अमेरिका भारत पश्चिम तटीय शिखर सम्मेलन में जुटे दोनों देशों के 300 से अधिक प्रमुख उद्योगपतियों ने दोनों देशों के बीच मौजूदा और भावी सहयोग में उपस्थित अपार सम्भावनाओं को रेखांकित किया है.\n",
            "Predicted Summary:  अमेरिका भारत पश्चिम तटीय शिखर सम्मेलन जुटे दोनों देशों 300 अधिक प्रमुख उद्योगपतियों दोनों देशों बीच मौजूदा भावी सहयोग उपस्थित अपार सम्भावनाओं रेखांकित है. यूएसआईबीसी अनुसार बिल्डिंग ब्रिजेज फोस्टरिंग इनोवेशन शीर्षक वाला सम्मेलन भारत अमेरिका सम्बंधों असर डालने अति महत्वपूर्ण राजनीतिक आर्थिक मुद्दों तथा प्रौद्योगिकी उन्नयन नवीकरणीय ऊर्जा तथा व्यापार निवेश केंद्रित था. यूएसआईबीसी अनुसार बिल्डिंग ब्रिजेज फोस्टरिंग इनोवेशन शीर्षक वाला सम्मेलन भारत अमेरिका सम्बंधों असर डालने अति महत्वपूर्ण राजनीतिक आर्थिक मुद्दों तथा प्रौद्योगिकी उन्नयन नवीकरणीय ऊर्जा तथा व्यापार निवेश केंद्रित था. यूएसआईबीसी अनुसार बिल्डिंग ब्रिजेज फोस्टरिंग इनोवेशन शीर्षक वाला सम्मेलन भारत अमेरिका सम्बंधों असर डालने अति महत्वपूर्ण राजनीतिक आर्थिक मुद्दों तथा प्रौद्योगिकी उन्नयन नवीकरणीय ऊर्जा तथा व्यापार निवेश केंद्रित था. अमेरिका भारत व्यापार परिषद यूएसआईबीसी फेडरेशन ऑफ इंडियन चैम्बर्स ऑफ कामर्स एंड इंडस्ट्री फिक्की सप्ताहांत सिलिकॉन वैली आयोजित शिखर सम्मेलन दोनों देशों व्यापार नीति जुड़ी प्रमुख हस्तियों हिस्सा लिया. अमेरिका भारत व्यापार परिषद यूएसआईबीसी फेडरेशन ऑफ इंडियन चैम्बर्स ऑफ कामर्स एंड इंडस्ट्री फिक्की सप्ताहांत सिलिकॉन वैली आयोजित शिखर सम्मेलन दोनों देशों व्यापार नीति जुड़ी प्रमुख हस्तियों हिस्सा लिया.\n",
            "True Summary:  हुंदै मोटर इंडिया अपने वाहनों की कीमत 1 फरवरी से 20 000 रुपये तक बढ़ाएगी. यह वृद्धि कंपनी के सभी मॉडलों के लिए होगी.\n",
            "Predicted Summary:  वृद्धि कंपनी मॉडलों होगी.टिप्पणियां हुंदै मोटर इंडिया उपाध्यक्ष राकेश श्रीवास्तव ब्रिकी मुद्रा उतार चढ़ाव तथा लागत खर्च बढ़ने कारण हम फरवरी 2013 दाम 20 000 रुपये वृद्धि करेंगे.\n",
            "True Summary:  इस अयोजन में राष्ट्रपति भवन सहित कई इमारतों में एक घंटे के लिए बत्तियां बुझा दी जाएंगी. जनता से इस आयोजन को सफल बनाने की अपील की गई है.\n",
            "Predicted Summary:  दुनियाभर शहरों सहित दिल्ली शनिवार शाम अर्थ ऑवर मनाया जाएगा. आपको वास्तव पृथ्वी परवाह ऊर्जा बचाने जलवायु परिवर्तन निपटने चाहते अर्थ ऑवर दौरान रात 8 30 बजे 9 30 बजे बिजली बंद रखें.\n",
            "True Summary:  गुजरात के मुख्यमंत्री नरेंद्र मोदी ने कहा कि उत्तराखंड पर जो प्राकृतिक विपदा आई है वह राष्ट्रीय आपदा जैसी है. उन्होंने कहा हम इस संकट से निबटने में राज्य सरकार को जो भी मदद कर सकते हैं करेंगे.\n",
            "Predicted Summary:  हम संकट निबटने राज्य सरकार मदद करेंगे.टिप्पणियां नरेंद्र मोदी उत्तराखंड प्रभावित क्षेत्रों दौरा पहुंचे हैं. नरेंद्र मोदी उत्तराखंड प्रभावित क्षेत्रों दौरा पहुंचे हैं.\n",
            "True Summary:  पुणे वॉरियर्स के कोच ज्यौफ मार्श ने कहा कि डेक्कन चार्जर्स के खिलाफ मंगलवार को आईपीएल मैच से पहले सौरव गांगुली काफी नर्वस थे.\n",
            "Predicted Summary:  पुणे वॉरियर्स कोच ज्यौफ मार्श डेक्कन चार्जर्स खिलाफ मंगलवार आईपीएल मैच सौरव गांगुली काफी नर्वस थे.\n",
            "True Summary:  संयुक्त राष्ट्र महासचिव बान की मून ने पाक के पश्चिमोत्तर इलाके में स्थित एक सैन्य प्रशिक्षण केंद्र में हुए आत्मघाती हमले की कड़ी निंदा की है.\n",
            "Predicted Summary:  संयुक्त राष्ट्र महासचिव बान मून पाकिस्तान पश्चिमोत्तर इलाके स्थित सैन्य प्रशिक्षण केंद्र गुरुवार आत्मघाती हमले कड़ी निंदा है.\n",
            "True Summary:  बेंगलुरू में नए साल की रात हुई छेड़खानी पर पीड़िता ने सुनाई आपबीती पीड़िता ने छेड़खानी करने वाले को पीटा तो लोगों ने उसका बचाव किया बेंगलुरू की शर्मनाक घटना की हो रही है चारों तरफ कड़ी निंदा\n",
            "Predicted Summary:  वक्त बेंगलुरू शहर नए साल प्रवेश जश्न मना चैताली वासनिक रात लगभग 1 30 बजे दफ्तर लौट रही थीं सी अन्य लड़कियां लौटती रास्ते चैताली देखा पुरुष घूरते सामने दिशा रास्ते आ उसने वही आमतौर लड़कियां करती कोने गई ताकि जाने रास्ता मिल सके मंगलवार रात NDTV बातचीत चैताली बताया मैंने घूरते देखा किनारे तरफ गई मैंने जाने रास्ता दे उनमें मुझे अचानक दबोचा मुझे कतई अदाज़ा ऐसा समझ आया चैताली हिसाब कहीं ज़्यादा अविश्वसनीय चैताली मुझए एहसास क्या करके चला तुरंत पीछे लपकी मारना शुरू ताकि गुस्से बाहर निकाल सकूं देर 15 20 पुरुष इकट्ठे गए उन्होंने छेड़खानी पिटाई मुझे रोकने कोशिश मुझे गुस्सा आया लोग मुझसे छेड़खानी बचा क्यों कह नया साल ऐसा रहता जाने वैसे चैताली पश्चिमी बेंगलुरू इंदिरानगर वही सब शहर शानदार कमर्शियल इलाका माने जाने एमजी रोड सी लड़कियों महिलाओं घटा हज़ारों लोग नए साल जश्न मनाने एकत्र शराब नशे धुत युवकों लड़कियों दबोचा छेड़ा फब्तियां कसीं पीछा 45 सिक्योरिटी कैमरों हरकतें रिकॉर्ड हुईं सोशल मीडिया जारी फुटेज महिलाओं रोते मदद पुकारते देखा तीन दिन जनता आक्रोश समझने पुलिस मंगलवार रात घटनाओं ठोस सबूत हासिल टिप्पणियां बीच जनता गुस्सा कर्नाटक गृहमंत्री जी परमेश्वर बयान ज़्यादा भड़क उठा जिसमें उन्होंने ऐसी बातें रहती उन्होंने सड़कों गश्त रहने 10 000 पुलिस तैनात मुमकिन गृहमंत्री बताया भीड़ नज़र रखने यातायात सुचारु रखने नए साल पूर्व संध्या 1 500 पुलिसकर्मियों तैनात चैताली NDTV बताया हर जगह तलाश रही मुझे पुलिसवाला मिला लगभग पांच 10 पुलिस मौजूद उन्होंने आकर पूछा क्या आपकी समस्या क्या मंगलवार रात NDTV बातचीत चैताली बताया मैंने घूरते देखा किनारे तरफ गई मैंने जाने रास्ता दे उनमें मुझे अचानक दबोचा मुझे कतई अदाज़ा ऐसा समझ आया चैताली हिसाब कहीं ज़्यादा अविश्वसनीय चैताली मुझए एहसास क्या करके चला तुरंत पीछे लपकी मारना शुरू ताकि गुस्से बाहर निकाल सकूं देर 15 20 पुरुष इकट्ठे गए उन्होंने छेड़खानी पिटाई मुझे रोकने कोशिश मुझे गुस्सा आया लोग मुझसे छेड़खानी बचा क्यों कह नया साल ऐसा रहता जाने वैसे चैताली पश्चिमी बेंगलुरू इंदिरानगर वही सब शहर शानदार कमर्शियल इलाका माने जाने एमजी रोड सी लड़कियों महिलाओं घटा हज़ारों लोग नए साल जश्न मनाने एकत्र शराब नशे धुत युवकों लड़कियों दबोचा छेड़ा फब्तियां कसीं पीछा 45 सिक्योरिटी कैमरों हरकतें रिकॉर्ड हुईं सोशल मीडिया जारी फुटेज महिलाओं रोते मदद पुकारते देखा तीन दिन जनता आक्रोश समझने पुलिस मंगलवार रात घटनाओं ठोस सबूत हासिल टिप्पणियां बीच जनता गुस्सा कर्नाटक गृहमंत्री जी परमेश्वर बयान ज़्यादा भड़क उठा जिसमें उन्होंने ऐसी बातें रहती उन्होंने सड़कों गश्त रहने 10 000 पुलिस तैनात मुमकिन गृहमंत्री बताया भीड़ नज़र रखने यातायात सुचारु रखने नए साल पूर्व संध्या 1 500 पुलिसकर्मियों तैनात चैताली NDTV बताया हर जगह तलाश रही मुझे पुलिसवाला मिला लगभग पांच 10 पुलिस मौजूद उन्होंने आकर पूछा क्या आपकी समस्या क्या चैताली हिसाब कहीं ज़्यादा अविश्वसनीय चैताली मुझए एहसास क्या करके चला तुरंत पीछे लपकी मारना शुरू ताकि गुस्से बाहर निकाल सकूं देर 15 20 पुरुष इकट्ठे गए उन्होंने छेड़खानी पिटाई मुझे रोकने कोशिश मुझे गुस्सा आया लोग मुझसे छेड़खानी बचा क्यों कह नया साल ऐसा रहता जाने वैसे चैताली पश्चिमी बेंगलुरू इंदिरानगर वही सब शहर शानदार कमर्शियल इलाका माने जाने एमजी रोड सी लड़कियों महिलाओं घटा हज़ारों लोग नए साल जश्न मनाने एकत्र शराब नशे धुत युवकों लड़कियों दबोचा छेड़ा फब्तियां कसीं पीछा 45 सिक्योरिटी कैमरों हरकतें रिकॉर्ड हुईं सोशल मीडिया जारी फुटेज महिलाओं रोते मदद पुकारते देखा तीन दिन जनता आक्रोश समझने पुलिस मंगलवार रात घटनाओं ठोस सबूत हासिल टिप्पणियां बीच जनता गुस्सा कर्नाटक गृहमंत्री जी परमेश्वर बयान ज़्यादा भड़क उठा जिसमें उन्होंने ऐसी बातें रहती उन्होंने सड़कों गश्त रहने 10 000 पुलिस तैनात मुमकिन गृहमंत्री बताया भीड़ नज़र रखने यातायात सुचारु रखने नए साल पूर्व संध्या 1 500 पुलिसकर्मियों तैनात चैताली NDTV बताया हर जगह तलाश रही मुझे पुलिसवाला मिला लगभग पांच 10 पुलिस मौजूद उन्होंने आकर पूछा क्या आपकी समस्या क्या वैसे चैताली पश्चिमी बेंगलुरू इंदिरानगर वही सब शहर शानदार कमर्शियल इलाका माने जाने एमजी रोड सी लड़कियों महिलाओं घटा हज़ारों लोग नए साल जश्न मनाने एकत्र शराब नशे धुत युवकों लड़कियों दबोचा छेड़ा फब्तियां कसीं पीछा 45 सिक्योरिटी कैमरों हरकतें रिकॉर्ड हुईं सोशल मीडिया जारी फुटेज महिलाओं रोते मदद पुकारते देखा तीन दिन जनता आक्रोश समझने पुलिस मंगलवार रात घटनाओं ठोस सबूत हासिल टिप्पणियां बीच जनता गुस्सा कर्नाटक गृहमंत्री जी परमेश्वर बयान ज़्यादा भड़क उठा जिसमें उन्होंने ऐसी बातें रहती उन्होंने सड़कों गश्त रहने 10 000 पुलिस तैनात मुमकिन गृहमंत्री बताया भीड़ नज़र रखने यातायात सुचारु रखने नए साल पूर्व संध्या 1 500 पुलिसकर्मियों तैनात चैताली NDTV बताया हर जगह तलाश रही मुझे पुलिसवाला मिला लगभग पांच 10 पुलिस मौजूद उन्होंने आकर पूछा क्या आपकी समस्या क्या बीच जनता गुस्सा कर्नाटक गृहमंत्री जी परमेश्वर बयान ज़्यादा भड़क उठा जिसमें उन्होंने ऐसी बातें रहती उन्होंने सड़कों गश्त रहने 10 000 पुलिस तैनात मुमकिन गृहमंत्री बताया भीड़ नज़र रखने यातायात सुचारु रखने नए साल पूर्व संध्या 1 500 पुलिसकर्मियों तैनात चैताली NDTV बताया हर जगह तलाश रही मुझे पुलिसवाला मिला लगभग पांच 10 पुलिस मौजूद उन्होंने आकर पूछा क्या आपकी समस्या क्या चैताली NDTV बताया हर जगह तलाश रही मुझे पुलिसवाला मिला लगभग पांच 10 पुलिस मौजूद उन्होंने आकर पूछा क्या आपकी समस्या क्या\n",
            "True Summary:  फिलहाल इस योजना को 25 गांवों में आज़माया जा चुका है इस प्रोजेक्ट को ब्रसेल्स में हुए इनोवेशन चैलेंज में 82 लाख का इनाम मिला दावा है कि इससे कम खर्चे में 5जी भी इस्तेमाल में लाया जा सकता है\n",
            "Predicted Summary:  देश हर गांव बिना ऑप्टिक फाइबर जाल इंटरनेट पहुंचाने सपना आईआईटी बॉम्बे छात्रों 5 सालों मेहनत भारत गांव ब्रॉडबैंड नेटवर्क जुड़ने सपना देख दुनिया प्रयोग सराहा Mozilla इंटरनेट प्रतियोगिता 27 देशों 100 परियोजनाओं पछाड़ते ग्राम मार्ग नाम प्रोजेक्ट पहला स्थान जीता आईआईटी बॉम्बे कोशिश इंटरनेट जरिये शहर ग्राम मार्ग पहुंचने मेहनत शुरू 2012 फैकल् टी अफेयर्स डीन प्रोफेसर अभय करंदीकर बताया उन्होंने अनुसंधान पाया दूरदर्शन पास टीवी व् हाइट स् पेस स्पेक्ट्रम खाली पड़ा जिसका वो इस्तेमाल स्पेक्ट्रम इस्तेमाल तैयार छोटा सा वाईफाई उपकरण TVWS डिवाइस जिसने सपनों पंख दे दिये डिवाइस IEEE 802 11 a b g वायरलेस बोर्ड आरएफ कार्ड जुड़ा कार्ड 2 4 GHz फ्रीक्वेंसी TV UHF बदल देता TV White Space जोड़ हर गांव बेहद कम खर्च बगैर बड़े तकनीकी तामझाम इंटरनेट पहुंचाया बड़ी बात उपकरणों सोलर पैनल बिजली मिलती परियोजना बड़ी चुनौती ईंधन वजह ऑपरेशनल खर्चों रोकना टिप्पणियां 25 छात्रों टीम दिन रात मेहनत रही फिलहाल योजना 25 गांवों आज़माया चुका दावा इससे कम खर्चे 5जी इस्तेमाल लाया प्रोजेक्ट जुड़े जसप्रीत कहना वो चाहते शोध सस्ता बनाया जाए ताकि हर गांव इंटनरेट लोगों पहुंच परियोजना आई दिक्कतों बारे मेघना फ्रीक्वेंसी बारे जानकारी जुटाना मुश्किल हमने आरटीआई ज़रिये हासिल गांव लोगों समझाना चुनौती प्रोजेक्ट ब्रसेल्स इनोवेशन चैलेंज 82 लाख इनाम मिला टीम रकम परियोजना बेहतर बनाने इस्तेमाल करेगी परियोजना पब्लिक प्राइवेट पंचायत पार्टनरशिप मॉडल तहत डेवलप जाएगा कोशिश देश 6 40 000 गांवों तहत जोड़ने ताकि डिजिटल इंडिया सपने हकीकत बदला सके डिवाइस IEEE 802 11 a b g वायरलेस बोर्ड आरएफ कार्ड जुड़ा कार्ड 2 4 GHz फ्रीक्वेंसी TV UHF बदल देता TV White Space जोड़ हर गांव बेहद कम खर्च बगैर बड़े तकनीकी तामझाम इंटरनेट पहुंचाया बड़ी बात उपकरणों सोलर पैनल बिजली मिलती परियोजना बड़ी चुनौती ईंधन वजह ऑपरेशनल खर्चों रोकना टिप्पणियां 25 छात्रों टीम दिन रात मेहनत रही फिलहाल योजना 25 गांवों आज़माया चुका दावा इससे कम खर्चे 5जी इस्तेमाल लाया प्रोजेक्ट जुड़े जसप्रीत कहना वो चाहते शोध सस्ता बनाया जाए ताकि हर गांव इंटनरेट लोगों पहुंच परियोजना आई दिक्कतों बारे मेघना फ्रीक्वेंसी बारे जानकारी जुटाना मुश्किल हमने आरटीआई ज़रिये हासिल गांव लोगों समझाना चुनौती प्रोजेक्ट ब्रसेल्स इनोवेशन चैलेंज 82 लाख इनाम मिला टीम रकम परियोजना बेहतर बनाने इस्तेमाल करेगी परियोजना पब्लिक प्राइवेट पंचायत पार्टनरशिप मॉडल तहत डेवलप जाएगा कोशिश देश 6 40 000 गांवों तहत जोड़ने ताकि डिजिटल इंडिया सपने हकीकत बदला सके 25 छात्रों टीम दिन रात मेहनत रही फिलहाल योजना 25 गांवों आज़माया चुका दावा इससे कम खर्चे 5जी इस्तेमाल लाया प्रोजेक्ट जुड़े जसप्रीत कहना वो चाहते शोध सस्ता बनाया जाए ताकि हर गांव इंटनरेट लोगों पहुंच परियोजना आई दिक्कतों बारे मेघना फ्रीक्वेंसी बारे जानकारी जुटाना मुश्किल हमने आरटीआई ज़रिये हासिल गांव लोगों समझाना चुनौती प्रोजेक्ट ब्रसेल्स इनोवेशन चैलेंज 82 लाख इनाम मिला टीम रकम परियोजना बेहतर बनाने इस्तेमाल करेगी परियोजना पब्लिक प्राइवेट पंचायत पार्टनरशिप मॉडल तहत डेवलप जाएगा कोशिश देश 6 40 000 गांवों तहत जोड़ने ताकि डिजिटल इंडिया सपने हकीकत बदला सके प्रोजेक्ट ब्रसेल्स इनोवेशन चैलेंज 82 लाख इनाम मिला टीम रकम परियोजना बेहतर बनाने इस्तेमाल करेगी परियोजना पब्लिक प्राइवेट पंचायत पार्टनरशिप मॉडल तहत डेवलप जाएगा कोशिश देश 6 40 000 गांवों तहत जोड़ने ताकि डिजिटल इंडिया सपने हकीकत बदला सके\n",
            "True Summary:  उत्तर भारत में लगातार पारा 40 के पार रहने के कारण लोग भीषण गर्मी का सामना कर रहे हैं. तेज धूप के साथ लू ने लोगों का जीना मुहाल कर दिया है.\n",
            "Predicted Summary:  उत्तर भारत लगातार पारा 40 पार रहने कारण लोग भीषण गर्मी सामना हैं. राजधानी पटना समेत बिहार भीषण लू गर्मी चपेट है. राजधानी पटना समेत बिहार भीषण लू गर्मी चपेट है. राजधानी पटना समेत बिहार भीषण लू गर्मी चपेट है. राजधानी पटना समेत बिहार भीषण लू गर्मी चपेट है. राजधानी पटना समेत बिहार भीषण लू गर्मी चपेट है. राजधानी पटना समेत बिहार भीषण लू गर्मी चपेट है. उत्तर प्रदेश भीषण गर्मी दौर जारी है. उत्तर प्रदेश भीषण गर्मी दौर जारी है. उत्तर प्रदेश भीषण गर्मी दौर जारी है. इधर भीषण गर्मी देखते राजधानी विद्यालय बंद दिये गये हैं.\n",
            "True Summary:  दीवाली धन धना धन ऑफर लेकर आया है रिलायंस जियो कैशबैक वाउचर के रूप में मिलेगा 50 रुपये के 8 वाउचर मिलेंगे जिनका यूज कर सकेंगे\n",
            "Predicted Summary:  रिलायंस जियो Reliance Jio दीवाली ग्राहकों खास तोहफा लेकर आया 399 रुपये रीचार्ज करवाइए 100 फीसदी कैशबैक पाइए कंपनी बाबत सूचना देते ऑफर 12 18 अक्टूबर बीच वैलिड जियो ऑफर दीवाली धन धना धन ऑफर पढ़ें रिलायंस जियो 4जी सिम इस्तेमाल स्पीड बढ़ाने काम डालिए कैशबैक वाउचर रूप मिलेगा रीचार्ज करवाते समय इस्तेमाल गुरुवार यानी आज शुरू ऑफर मियाद दिवाली दिन पूर्व खत्म जाएगी बीच चार्ज करवाने 50 रुपये 8 वाउचर मिलेंगे वाउचर्स फायदा भविष्य 309 रुपये उससे ज्यादा रिचार्ज 91 रुपये उससे ज्यादा डेटा वाला रिचार्ज कराने उठाया बार केवल वाउचर उपयोग 15 नवंबर आपने 50 रुपये वाउचर पाने भविष्य 309 रुपये रिचार्ज आपको केवल 259 रुपये भुगतान होगा जिनकी वैलिडिटी बची प्रयोग 399 रुपये रिचार्ज लाभ चल रिचार्ज वैलिडिटी खत्म मिलेगी ऑफर्स माई जियो ऐप जियो वेबसाइट जियो स्टोर्स रिलायंस डिजिटल स्टोर उपलब्ध कराया बता दें देश दूरसंचार कंपनियों 4जी इंटरनेट सेवाओं डाउनलोड स्पीड हिसाब अगस्त महीने रिलायंस जियो बार अव्वल रही दूरसंचार नियामक ट्राई आंकड़ों अनुसार अगस्त महीने जियो नेटवर्क डाउनलोड स्पीड 18 43 एमबीपीएस रही निकटतम प्रतिद्वद्वियों लगभग दोगुनी ट्राई मायस्पीड ऐप मिले आंकड़ों आधार नेटवर्क स्पीड आकलन टिप्पणियां VIDEO जियो फोन कारणों स्मार्ट फीचर फोन अनुसार अगस्त महीने मोबाइल नेटवर्क डाउनलोड स्पीड हिसाब वोडाफोन 8 99 एमबीपीएस स्थान रही आइडिया नेटवर्क डाउनलोड स्पीड 8 74 एमबीपीएस आंकी गई तीसरे स्थान रही डाउनलोड स्पीड हिसाब एयरटेल चौथे स्थान रही जिसके नेटवर्क डाउनलोड स्पीड घटकर 8 55 एमबीपीएस रह गई पढ़ें रिलायंस जियो 4जी सिम इस्तेमाल स्पीड बढ़ाने काम डालिए कैशबैक वाउचर रूप मिलेगा रीचार्ज करवाते समय इस्तेमाल गुरुवार यानी आज शुरू ऑफर मियाद दिवाली दिन पूर्व खत्म जाएगी बीच चार्ज करवाने 50 रुपये 8 वाउचर मिलेंगे वाउचर्स फायदा भविष्य 309 रुपये उससे ज्यादा रिचार्ज 91 रुपये उससे ज्यादा डेटा वाला रिचार्ज कराने उठाया बार केवल वाउचर उपयोग 15 नवंबर आपने 50 रुपये वाउचर पाने भविष्य 309 रुपये रिचार्ज आपको केवल 259 रुपये भुगतान होगा जिनकी वैलिडिटी बची प्रयोग 399 रुपये रिचार्ज लाभ चल रिचार्ज वैलिडिटी खत्म मिलेगी ऑफर्स माई जियो ऐप जियो वेबसाइट जियो स्टोर्स रिलायंस डिजिटल स्टोर उपलब्ध कराया बता दें देश दूरसंचार कंपनियों 4जी इंटरनेट सेवाओं डाउनलोड स्पीड हिसाब अगस्त महीने रिलायंस जियो बार अव्वल रही दूरसंचार नियामक ट्राई आंकड़ों अनुसार अगस्त महीने जियो नेटवर्क डाउनलोड स्पीड 18 43 एमबीपीएस रही निकटतम प्रतिद्वद्वियों लगभग दोगुनी ट्राई मायस्पीड ऐप मिले आंकड़ों आधार नेटवर्क स्पीड आकलन टिप्पणियां VIDEO जियो फोन कारणों स्मार्ट फीचर फोन अनुसार अगस्त महीने मोबाइल नेटवर्क डाउनलोड स्पीड हिसाब वोडाफोन 8 99 एमबीपीएस स्थान रही आइडिया नेटवर्क डाउनलोड स्पीड 8 74 एमबीपीएस आंकी गई तीसरे स्थान रही डाउनलोड स्पीड हिसाब एयरटेल चौथे स्थान रही जिसके नेटवर्क डाउनलोड स्पीड घटकर 8 55 एमबीपीएस रह गई कैशबैक वाउचर रूप मिलेगा रीचार्ज करवाते समय इस्तेमाल गुरुवार यानी आज शुरू ऑफर मियाद दिवाली दिन पूर्व खत्म जाएगी बीच चार्ज करवाने 50 रुपये 8 वाउचर मिलेंगे वाउचर्स फायदा भविष्य 309 रुपये उससे ज्यादा रिचार्ज 91 रुपये उससे ज्यादा डेटा वाला रिचार्ज कराने उठाया बार केवल वाउचर उपयोग 15 नवंबर आपने 50 रुपये वाउचर पाने भविष्य 309 रुपये रिचार्ज आपको केवल 259 रुपये भुगतान होगा जिनकी वैलिडिटी बची प्रयोग 399 रुपये रिचार्ज लाभ चल रिचार्ज वैलिडिटी खत्म मिलेगी ऑफर्स माई जियो ऐप जियो वेबसाइट जियो स्टोर्स रिलायंस डिजिटल स्टोर उपलब्ध कराया बता दें देश दूरसंचार कंपनियों 4जी इंटरनेट सेवाओं डाउनलोड स्पीड हिसाब अगस्त महीने रिलायंस जियो बार अव्वल रही दूरसंचार नियामक ट्राई आंकड़ों अनुसार अगस्त महीने जियो नेटवर्क डाउनलोड स्पीड 18 43 एमबीपीएस रही निकटतम प्रतिद्वद्वियों लगभग दोगुनी ट्राई मायस्पीड ऐप मिले आंकड़ों आधार नेटवर्क स्पीड आकलन टिप्पणियां VIDEO जियो फोन कारणों स्मार्ट फीचर फोन अनुसार अगस्त महीने मोबाइल नेटवर्क डाउनलोड स्पीड हिसाब वोडाफोन 8 99 एमबीपीएस स्थान रही आइडिया नेटवर्क डाउनलोड स्पीड 8 74 एमबीपीएस आंकी गई तीसरे स्थान रही डाउनलोड स्पीड हिसाब एयरटेल चौथे स्थान रही जिसके नेटवर्क डाउनलोड स्पीड घटकर 8 55 एमबीपीएस रह गई बता दें देश दूरसंचार कंपनियों 4जी इंटरनेट सेवाओं डाउनलोड स्पीड हिसाब अगस्त महीने रिलायंस जियो बार अव्वल रही दूरसंचार नियामक ट्राई आंकड़ों अनुसार अगस्त महीने जियो नेटवर्क डाउनलोड स्पीड 18 43 एमबीपीएस रही निकटतम प्रतिद्वद्वियों लगभग दोगुनी ट्राई मायस्पीड ऐप मिले आंकड़ों आधार नेटवर्क स्पीड आकलन टिप्पणियां VIDEO जियो फोन कारणों स्मार्ट फीचर फोन अनुसार अगस्त महीने मोबाइल नेटवर्क डाउनलोड स्पीड हिसाब वोडाफोन 8 99 एमबीपीएस स्थान रही आइडिया नेटवर्क डाउनलोड स्पीड 8 74 एमबीपीएस आंकी गई तीसरे स्थान रही डाउनलोड स्पीड हिसाब एयरटेल चौथे स्थान रही जिसके नेटवर्क डाउनलोड स्पीड घटकर 8 55 एमबीपीएस रह गई VIDEO जियो फोन कारणों स्मार्ट फीचर फोन अनुसार अगस्त महीने मोबाइल नेटवर्क डाउनलोड स्पीड हिसाब वोडाफोन 8 99 एमबीपीएस स्थान रही आइडिया नेटवर्क डाउनलोड स्पीड 8 74 एमबीपीएस आंकी गई तीसरे स्थान रही डाउनलोड स्पीड हिसाब एयरटेल चौथे स्थान रही जिसके नेटवर्क डाउनलोड स्पीड घटकर 8 55 एमबीपीएस रह गई अनुसार अगस्त महीने मोबाइल नेटवर्क डाउनलोड स्पीड हिसाब वोडाफोन 8 99 एमबीपीएस स्थान रही आइडिया नेटवर्क डाउनलोड स्पीड 8 74 एमबीपीएस आंकी गई तीसरे स्थान रही डाउनलोड स्पीड हिसाब एयरटेल चौथे स्थान रही जिसके नेटवर्क डाउनलोड स्पीड घटकर 8 55 एमबीपीएस रह गई\n",
            "True Summary:  अजहर ने घंटी बजाकर की थी पहले टी20 मैच की शुरुआत मैच फिक्सिंग के आरोप में वे प्रतिबंधित किए जा चुके हैं गंभीर बोले टीम इंडिया जीती पर BCCI COA और CAB हारी\n",
            "Predicted Summary:  India may have won today at Eden but I am sorry bcci CoA CAB lost Looks like the No Tolerance Policy against Corrupt takes a leave on Sundays I know he was allowed to contest HCA polls but then this is shocking The bell is ringing hope the powers that be are listening pic twitter com 0HKbp2Bs9r दूसरी गंभीर वर्ष 2007 टी20 वर्ल् डकप 2011 क्रिकेट वर्ल् डकप 50 ओवर जीतने वाली भारतीय टीम सदस् य रह चुके गौतम गंभीर भारत 58 टेस् ट 147 वनडे 37 टी20 इंटरनेशनल मैच खेल चुके टेस् ट मैच अब उन् होंने 4154 रन 9 शतक सर्वोच् च 206 वनडे इंटरनेशनल मैचों 5238 रन 11 शतक सर्वोच् च नाबाद 150 रन बनाए टी20 इंटरनेशनल गंभीर 932 रन बनाए 65 रन सर्वोच् च स् कोर गंभीर अंतिम इंटरनेशनल मैच टेस् ट रूप नवंबर 2016 खेला\n",
            "True Summary:  शरीफ ने वानी को कश् मीर की मिट्टी का लाल कहा भारत पर युद्ध जैसा माहौल बनाने का लगाया आरोप पाक संसद के संयुक् त सत्र में दिया भाषण\n",
            "Predicted Summary:  पाकिस्तानी प्रधानमंत्री नवाज शरीफ हिजबुल मुजाहिदीन आतंकी बुरहान वानी कश्मीर मिट्टी लाल करार दिए जाने भारत बुधवार निशाना साधते शरीफ बयान आतंकवाद पाकिस्तान लगाव दिखाता सरकार वरिष्ठ सूत्र संसद संयुक्त सत्र शरीफ भाषण दिखाता आतंकवाद प्रति पाकिस्तान लगाव निरंतर बना सरकारी सूत्रों प्रतिक्रिया वक्त आई बुधवार पाकिस्तानी प्रधानमंत्री नवाज शरीफ भारत पाक बीच बढ़ते तनाव मद्देनजर सुरक्षा हालात चर्चा बुलाये गये संसद संयुक्त सत्र संबोधित आरोप लगाया भारत बातचीत बच उरी आतंकी हमले पाकिस्तान जिम्मेदार ठहराकर युद्ध माहौल बना पिछले महीने उरी हमले 19 भारतीय जवान शहीद गये उन्होंने कश्मीर नौजवानों भारत ज्यादतियों खिलाफ आजादी आंदोलन चलाने बीड़ा उठाया कश्मीर मिट्टी लाल बुरहान वानी मौत भारत याद दिलाया कश्मीरियों आत्मनिर्धारण अधिकार दे शरीफ दावा हमने भारत वार्ता मेज लाने सब भारत ऐसा हमारे प्रयासों बार बार नाकाम उन्होंने भारत बिना जांच घंटों हमले पाकिस्तान जिम्मेदार ठहरा शरीफ आरोप लगाया उरी हमले पाकिस्तान जिम्मेदार ठहराने पीछे भारत मकसद जबकि साबित शामिल टिप्पणियां मोदी पिछले महीने भाषण पाकिस्तान गरीबी अन्य सामाजिक बुराइयों समाप्त स्पर्धा चुनौती दी जवाब शरीफ चाहते हम उनसे गरीबी खत्म प्रतिस्पर्धा समझ लेना चाहिए खेतों टैंक चलाकर गरीबी समाप्त सकती खबर एनडीटीवी टीम संपादित सिंडीकेट फीड सीधे प्रकाशित गई है.\n",
            "True Summary:  संजय राउत का बीजेपी पर निशाना शिवसेना को सरकार बनाने का न्यौता कांग्रेस और एनसीपी दे सकती है समर्थन\n",
            "Predicted Summary:  शिवसेना नेता संजय राउत बीजेपी मुख्यमंत्री पद साझा अहंकार कारण मौजूदा स्थिति उत्पन्न उन्होंने बीजेपी अहंकार समझौते बात मानकर विपक्ष बैठने तैयार सरकार बनाने राजी एनडीए रहने सवाल उन्होंने साफ बीजेपी वादा चाहती गठबंधन रहने मतलब उन्होंने बीजेपी सरकार बनाने दावा पेश 72 घंटे मिले हमें 24 घंटे दिए गए कांग्रेस एनसीपी सरकार बनाने सवाल संजय राउत जम्मू कश्मीर पीडीपी हाथ मिला सकती शिवसेना एनसीपी कांग्रेस क्यों राउत कांग्रेस एनसीपी मतभेद भूल महाराष्ट्र हित न्यूनतम साझा कार्यक्रम आना चाहिए आपको बता दें मोदी सरकार शिवसेना एकमात्र मंत्री अरविंद सावंत इस्तीफे ऐलान बीजेपी शिवसेना 30 साल पुरानी दोस्ती टूट गई सरकार बनाने कवायद बीच महाराष्ट्र एनसीपी दिल्ली कांग्रेस बैठक शरद पवार शिवसेना सरकार बनाने फैसला कांग्रेस विचार जाएगा कांग्रेस वरिष्ठ नेता मल्लिकार्जुन खड़गे पार्टी बैठक आलाकमान निर्देश देगा हिसाब फैसला लिया जाएगा आपको बता दें महाराष्ट्र विधानसभा चुनाव बीजेपी 105 शिवसेना 56 एनसीपी 54 कांग्रेस 44 सीटें मिली बीजेपी शिवसेना मिलकर बहुमत 145 आंकड़ा पार लिया शिवसेना 50 50 फॉर्मूले मांग रख दी जिसके मुताबिक ढाई ढाई साल सरकार चलाने मॉडल शिवसेना कहना बीजेपी समझौता फॉर्मूले बीजेपी दावा ऐसा समझौता लेकर मतभेद इतना बढ़ा दोनों पार्टियों 30 साल पुरानी दोस्ती टूट गई\n",
            "True Summary:  मुंबई में एक चार मंजिला इमारत गिरने से चार लोगों की मौत हो गई है. यह हादसा मुंबई के भिंडी बाज़ार इलाक़े में हुआ.\n",
            "Predicted Summary:  मुंबई चार मंजिला इमारत गिरने चार लोगों मौत गई है.\n",
            "True Summary:  ईनामी बदमाश को पुलिस ने मार गिराया इस मुठभेड़ में दारोगा भी गंभीर रूप से जख्मी हो गए बदमाश पर था 50 हजार का ईनाम\n",
            "Predicted Summary:  खबर एनडीटीवी टीम संपादित सिंडीकेट फीड सीधे प्रकाशित गई है.\n",
            "True Summary:  पड़ोसी ने घर में घुसकर किया कथित बलात्कार विरोध करने पर बच्ची के सिर में मारा पत्थर पुलिस ने आरोपी को गिरफ्तार कर लिया है\n",
            "Predicted Summary:  जयपुर करणीविहार थाना क्षेत्र युवक देर रात पड़ोसी घुस रही छह साल बच्ची अगवा कथित रूप बलात्कार पुलिस आरोपी गिरफ्तार लिया करणीविहार थाना पुलिस अनुसार ज्ञानेन्द्र शुक्ला शनिवार रात पड़ोसी मकान घुस रही छह साल बच्ची अगवा सुनसान जगह ले जाकर बलात्कार जेएनयू छात्रा रेप धमकी देने मामला 4आरोपी गिरफ्तारटिप्पणियां बच्ची विरोध उसने पत्थर सिर वार फरार अधिकारी बताया वारदात वक्त आरोपी नशे उन्होंने बच्ची जेके लोन अस्पताल भर्ती करवाया बच्ची परिजनों शिकायत बताए गए हुलिये आधार पुलिस शुक्ला गिरफ्तार लिया पुलिस आरोपी पूछताछ रही हेडलाइन अलावा खबर एनडीटीवी टीम संपादित सिंडीकेट फीड सीधे प्रकाशित गई है.\n",
            "True Summary:  1989 में जनता दल में शामिल होकर किया सियासी आगाज 2006 में समाजवादी पार्टी ने किया निष्कासित 2009 में मुलायम सिंह की बहू डिंपल यादव को हराया चुनाव\n",
            "Predicted Summary:  राज बब्बर कांग्रेस सीनियर नेताओं राजनीति आने फिल्मी दुनिया मंझे अभिनेता तीन बार लोकसभा सदस्य बार राज्यसभा सदस्य सियासत मंझा खिलाड़ी माना जाता राज बब्बर जन्म यूपी आगरा 23 जून 1952 शुरुआती पढ़ाई आगरा फैज ए आम इंटर कॉलेज बब्बर ग्रेजुएशन आगरा कॉलेज नेशनल स्कूल ऑफ ड्रामा छात्र दिल्ली एनएसडी ट्रेनिंग पूरी बब्बर मुंबई चले गए रीना रॉय उन्होंने फिल्मी करियर शुरुआत असली पहचान इंसाफ तराजू फिल्म मिली बब्बर करियर फिल्में कीं उन्होंने निकाह आज आवाज किस्सा कुर्सी तुम दलाल याराना जैसी फिल्मों बेहतरीन अदाकारी परिचय राजबब्बर नादिरा जहीर शादी बच्चे आर्या बब्बर जूही बब्बर उन्होंने स्मिता पाटिल शादी स्मिता राजबब्बर बेटे नाम प्रतीक बब्बर राजबब्बर सिनेमा क्षेत्र मजबूत छाप छोड़ी बावजूद उन्होंने सियासत आने फैसला 1989 वीपी सिंह नेतृत्व जनता दल शामिल गए उन्होंने समाजवादी पार्टी ज्वाइन तीन बार लोकसभा सांसद 1994 1999 बीच राज्यसभा सदस्य 2004 लोकसभा सांसद बने 2006 समाजवादी पार्टी निष्कासित 2008 राजबब्बर कांग्रेस ज्वाइन ली 2009 फिरोजाबाद पूर्व यूपी सीएम अखिलेश यादव पत्नी डिंपल यादव चुनाव हराकर सांसद बने 2014 लोकसभा चुनावों उन्होंने गाजियाबाद चुनाव लड़ा बीजेपी जनरल वीके सिंह चुनाव हार गए यूपी कांग्रेस कमेटी अध्यक्ष बनाया चुनाव फतेहपुर सीकरी मजबूत दावेदारी पेश राजबब्बर पहली बार सियासी तौर चर्चा आए उन्होंने 2013 मुंबई आम आदमी 12 रुपए भरपेट खाना खा उन्होंने भारत गरीब आदमी बार खाना 28 32 रुपए खा हालांकि उन्होंने बयान अफसोस जताया 2013 उन्होंने तत्कालीन गुजरात सीएम नरेंद्र मोदी तुलना एडोल्फ हिटलर\n",
            "True Summary:  रक्षामंत्री एके एंटनी के नेतृत्व में बनाई गई उच्चस्तरीय समिति ने कहा कि उत्तर प्रदेश में पार्टी की बुरी हार के पीछे भ्रष्टाचार को लेकर बनी छवि महंगाई टिकटों का गलत वितरण और विवादित प्रचार मुख्य वजह थे.\n",
            "Predicted Summary:  कांग्रेस उच्चस्तरीय समिति कहना उत्तर प्रदेश पार्टी बुरी हार पीछे भ्रष्टाचार लेकर छवि महंगाई टिकटों गलत वितरण विवादित प्रचार अभियान कमजोर ढांचा मुख्य वजह थे. प्रदेश चुनावों पार्टी चुनावी हार तह जाने एके एंटनी समिति ऐसा माना पड़ताल पूरी ली है.टिप्पणियां सूत्रों बताया रिपोर्ट गुरुवार अंतिम शक्ल दी जाएगी जिसके कांग्रेस अध्यक्ष सोनिया गांधी सौंप जाएगा.\n",
            "True Summary:  18 सितंबर तक जमा कराने हैं पैसे सुप्रीम कोर्ट मुआवजे का मामला बाद में सुनेगा सुपरटेक की 5 करोड़ जमा करने की दलील को ठुकराया\n",
            "Predicted Summary:  गौरतलब सुप्रीम कोर्ट नोएडा एक्सप्रेस इमरेल्ड कोर्ट 40 मंजिली टावरों मामले सुनवाई इलाहाबाद हाईकोर्ट दोनों टावरों अवैध घोषित गिराने आदेश दिए सुप्रीम कोर्ट हाईकोर्ट फैसले रोक लगा दी टावर सील आदेश दिए सुप्रीम कोर्ट 14 फीसदी ब्याज खरीदारों रकम वापस\n",
            "True Summary:  शाहरुख खान के लाइव इंटरव् यू में बीच में आया बेटा अबराम अपने अंगूठे की चोट पापा शाहरुख को दिखाने आ गए अबराम अबराम शाहरुख के हर फोटो का हिस् सा बनना चाहता है\n",
            "Predicted Summary:  किंग खान अच् छे पता खबरों कैसे जाता लगता शाहरुख खान छोटे नवाब यानी अबराम कला सीख ली अबराम हाथ अंगूठे चोट लगी पापा पास चोट शिकायत लेकर पहुंच गए स् टारडम छोड़ शाहरुख अबराम अंगूठे चोट देखी प् यार चूमा अबराम काफी खुश वीडियो साफ स् क्रीन रोमांटिक हीरो किरदार निभाने शाहरुख खान पिता रोल अदा कहीं पीछे रहते वाकया समय शाहरुख खान इंटरव् यू दे तभी बीच अबराम आया टिप्पणियां आने महीनों चार साल वाला अबराम शाहरुख खान छोटा बेटा शाहरुख सोमवार फेसबुक लाइव कए इंटरव् यू इंटरव् यू शाहरुख फिल् म रर्दस बारे बात तभी अबराम घूमता आया उसने शाहरुख शिकायत अंगूठे चोट लग गई शाहरुख रुका उन् होंने अबराम बीच इंटरव् यू बुलाया उसका अंगूठा देखा शाहरुख अबराम इंजेक् शन लगाने एक्टिंग बाय बोलने We got to witness some very adorable moments between the doting dad SRK little AbRam Khan during FB live chat with TheViralFever pic twitter com BxB3LRQ3FR SRK Universe SRKUniverse January 29 2017 हाल शाहरुख खान न् यूज एजेंसी पीटीआई इंटरव् यू बताया अबराम फोटो खिंचवाने शौक मना जाता नाराज जाता शाहरुख बताया दुबई ट्रिप वापस आ लोग फोटो खींच उन् होंने सोचा फोटो खिंचवां जल् दी प् लेन आ जाएंगे अबराम हर फोटो शामिल चाहता मेरे बॉडीगार्ड गोद ले लिया नाराज क् योंकि फोटो आना चाहता googletag cmd push function googletag display adslotNativeVideo हाल रईस मुंबई दिल् ली ट्रेन यात्रा दौरान शाहरुख एनडीटीवी बताया नन् नवाब काफी याद शाहरुख काश अबराम ला पाता यात्रा काफी पसंद पूरी टीम जानता इसलिए सब काफी सहज आने महीनों चार साल वाला अबराम शाहरुख खान छोटा बेटा शाहरुख सोमवार फेसबुक लाइव कए इंटरव् यू इंटरव् यू शाहरुख फिल् म रर्दस बारे बात तभी अबराम घूमता आया उसने शाहरुख शिकायत अंगूठे चोट लग गई शाहरुख रुका उन् होंने अबराम बीच इंटरव् यू बुलाया उसका अंगूठा देखा शाहरुख अबराम इंजेक् शन लगाने एक्टिंग बाय बोलने We got to witness some very adorable moments between the doting dad SRK little AbRam Khan during FB live chat with TheViralFever pic twitter com BxB3LRQ3FR SRK Universe SRKUniverse January 29 2017 हाल शाहरुख खान न् यूज एजेंसी पीटीआई इंटरव् यू बताया अबराम फोटो खिंचवाने शौक मना जाता नाराज जाता शाहरुख बताया दुबई ट्रिप वापस आ लोग फोटो खींच उन् होंने सोचा फोटो खिंचवां जल् दी प् लेन आ जाएंगे अबराम हर फोटो शामिल चाहता मेरे बॉडीगार्ड गोद ले लिया नाराज क् योंकि फोटो आना चाहता हाल रईस मुंबई दिल् ली ट्रेन यात्रा दौरान शाहरुख एनडीटीवी बताया नन् नवाब काफी याद शाहरुख काश अबराम ला पाता यात्रा काफी पसंद पूरी टीम जानता इसलिए सब काफी सहज We got to witness some very adorable moments between the doting dad SRK little AbRam Khan during FB live chat with TheViralFever pic twitter com BxB3LRQ3FR हाल रईस मुंबई दिल् ली ट्रेन यात्रा दौरान शाहरुख एनडीटीवी बताया नन् नवाब काफी याद शाहरुख काश अबराम ला पाता यात्रा काफी पसंद पूरी टीम जानता इसलिए सब काफी सहज\n",
            "True Summary:  महाराष्ट्र विधानसभा में पेश सीएजी की रिपोर्ट ने सरकार को परेशानी में डाल दिया है. सीएजी का कहना है कि प्रोजेक्ट की लागत बेतहाशा बढ़ी है फिर भी 426 प्रोजेक्ट अधूरे हैं.\n",
            "Predicted Summary:  महाराष्ट्र किसान सूखे मार झेल सीएजी रिपोर्ट बार सरकार योजनाओं सवालिया निशान लगा दिए हैं.टिप्पणियां सीएजी रिपोर्ट मुताबिक प्रोजेक्ट लागत बेतहाशा बढ़ी है. 426 242 प्रोजेक्ट बेतहाशा महंगे हैं.\n",
            "True Summary:  पालघर लोकसभा उपचुनाव का मामला चुनाव अधिकारी ने प्रोटोकाल तोड़कर निजी कार का इस्तेमाल किया निर्वाचन अधिकारी के जरिए जांच के आदेश\n",
            "Predicted Summary:  हेडलाइन अलावा खबर एनडीटीवी टीम संपादित सिंडीकेट फीड सीधे प्रकाशित गई है.\n",
            "True Summary:  पूछा मनोज तिवारी पीड़ित मां के साथ या फिर मैक्स प्रशासन के साथ बेहतर स्वास्थ्य सेवाएं देने में निजी अस्पताल भी सिस्टम का अहम हिस्सा नियमों का उल्लंघन होने पर सरकार न्यायसंगत कदम उठाएगी\n",
            "Predicted Summary:  गोपाल राय आम आदमी पार्टी दिल्ली लोगों बेहतर स्वास्थ्य सेवाएं देने प्रतिबद्ध दिल्ली जनता खड़ी क्योंकि आम आदमी पार्टी सरकार दिल्ली जनता सरकार उसका हर फ़ैसला दिल्ली जनता हक़\n",
            "True Summary:  तीन तलाक बिल लोकसभा में पेश किया जाएगा सभी सांसदों को सदन में उपस्थित रहने के लिए व्हिप जारी तीन तलाक को गैरकानूनी और अमान्य करार दिया गया\n",
            "Predicted Summary:  तीन तलाक़ बिल आज लोकसभा पेश किए जाने अटकलें थीं अब बिल अगले हफ्ते लोकसभा पेश जाएगा बीजेपी दौरान सांसदों सदन उपस्थित रहने व्हिप जारी लोकसभा संख्याबल देखते बिल पास कराने सरकार ज़्यादा मुश्किल होगी बता दें लोकसभा पास बिल राज्यसभा जाएगा तीन तलाक़ बिल पिछले हफ़्ते केंद्रीय कैबिनेट मंज़ूरी मिली तीन तलाक पारसी मैरिज डिवोर्स एक्ट परीक्षण करेगा सुप्रीम कोर्ट विधेयक तहत बार तीन तलाक गैरकानूनी अमान्य करार मुताबिक बार तीन तलाक देने पति तीन साल जेल सजा होगी विधेयक प्रावधानों अनुसार पति जुर्माना लगाया जाएगा जुर्माने राशि मजिस्ट्रेट तय करेगा टिप्पणियां महिला अधिकारों पक्षधरों कहना सरकार मंशा तीन तलाक देने अपराध घोषित मुसलमानों मन डर पैदा उच्चतम न्यायालय सायरा बानो तीन तलाक अर्जी पक्ष दखल देने बेबाक कलेक्टिव नामक संगठन आयोजित संवाददाता सम्मेलन कार्यकर्ताओं वकीलों सरकार सभ्य समाज संबंधित पक्षों परामर्श किये बगैर विधेयक क्यों ला रही VIDEO नेशनल रिपोर्टर 3 तलाक़ 3 साल जेल बता दें सरकार पूछा क्या उसने तीन तलाक विधेयक मसौदा तैयार मुस्लिम संगठनों विचार विमर्श कानून राज्य मंत्री पी पी चौधरी जवाब सरकार विधेयक तैयार मुस्लिम संगठनों विचार विमर्श मुद्दा लैंगिक न्याय लैंगिक समानता महिलाओं गरिमा मानवीय अवधारणा जुड़ा जिसमें आस्था धर्म संबंध तीन तलाक पारसी मैरिज डिवोर्स एक्ट परीक्षण करेगा सुप्रीम कोर्ट विधेयक तहत बार तीन तलाक गैरकानूनी अमान्य करार मुताबिक बार तीन तलाक देने पति तीन साल जेल सजा होगी विधेयक प्रावधानों अनुसार पति जुर्माना लगाया जाएगा जुर्माने राशि मजिस्ट्रेट तय करेगा टिप्पणियां महिला अधिकारों पक्षधरों कहना सरकार मंशा तीन तलाक देने अपराध घोषित मुसलमानों मन डर पैदा उच्चतम न्यायालय सायरा बानो तीन तलाक अर्जी पक्ष दखल देने बेबाक कलेक्टिव नामक संगठन आयोजित संवाददाता सम्मेलन कार्यकर्ताओं वकीलों सरकार सभ्य समाज संबंधित पक्षों परामर्श किये बगैर विधेयक क्यों ला रही VIDEO नेशनल रिपोर्टर 3 तलाक़ 3 साल जेल बता दें सरकार पूछा क्या उसने तीन तलाक विधेयक मसौदा तैयार मुस्लिम संगठनों विचार विमर्श कानून राज्य मंत्री पी पी चौधरी जवाब सरकार विधेयक तैयार मुस्लिम संगठनों विचार विमर्श मुद्दा लैंगिक न्याय लैंगिक समानता महिलाओं गरिमा मानवीय अवधारणा जुड़ा जिसमें आस्था धर्म संबंध विधेयक तहत बार तीन तलाक गैरकानूनी अमान्य करार मुताबिक बार तीन तलाक देने पति तीन साल जेल सजा होगी विधेयक प्रावधानों अनुसार पति जुर्माना लगाया जाएगा जुर्माने राशि मजिस्ट्रेट तय करेगा टिप्पणियां महिला अधिकारों पक्षधरों कहना सरकार मंशा तीन तलाक देने अपराध घोषित मुसलमानों मन डर पैदा उच्चतम न्यायालय सायरा बानो तीन तलाक अर्जी पक्ष दखल देने बेबाक कलेक्टिव नामक संगठन आयोजित संवाददाता सम्मेलन कार्यकर्ताओं वकीलों सरकार सभ्य समाज संबंधित पक्षों परामर्श किये बगैर विधेयक क्यों ला रही VIDEO नेशनल रिपोर्टर 3 तलाक़ 3 साल जेल बता दें सरकार पूछा क्या उसने तीन तलाक विधेयक मसौदा तैयार मुस्लिम संगठनों विचार विमर्श कानून राज्य मंत्री पी पी चौधरी जवाब सरकार विधेयक तैयार मुस्लिम संगठनों विचार विमर्श मुद्दा लैंगिक न्याय लैंगिक समानता महिलाओं गरिमा मानवीय अवधारणा जुड़ा जिसमें आस्था धर्म संबंध महिला अधिकारों पक्षधरों कहना सरकार मंशा तीन तलाक देने अपराध घोषित मुसलमानों मन डर पैदा उच्चतम न्यायालय सायरा बानो तीन तलाक अर्जी पक्ष दखल देने बेबाक कलेक्टिव नामक संगठन आयोजित संवाददाता सम्मेलन कार्यकर्ताओं वकीलों सरकार सभ्य समाज संबंधित पक्षों परामर्श किये बगैर विधेयक क्यों ला रही VIDEO नेशनल रिपोर्टर 3 तलाक़ 3 साल जेल बता दें सरकार पूछा क्या उसने तीन तलाक विधेयक मसौदा तैयार मुस्लिम संगठनों विचार विमर्श कानून राज्य मंत्री पी पी चौधरी जवाब सरकार विधेयक तैयार मुस्लिम संगठनों विचार विमर्श मुद्दा लैंगिक न्याय लैंगिक समानता महिलाओं गरिमा मानवीय अवधारणा जुड़ा जिसमें आस्था धर्म संबंध VIDEO नेशनल रिपोर्टर 3 तलाक़ 3 साल जेल बता दें सरकार पूछा क्या उसने तीन तलाक विधेयक मसौदा तैयार मुस्लिम संगठनों विचार विमर्श कानून राज्य मंत्री पी पी चौधरी जवाब सरकार विधेयक तैयार मुस्लिम संगठनों विचार विमर्श मुद्दा लैंगिक न्याय लैंगिक समानता महिलाओं गरिमा मानवीय अवधारणा जुड़ा जिसमें आस्था धर्म संबंध\n",
            "True Summary:  एयर इंडिया ने एक विशेष किराया योजना पेश की जिसके तहत तीन या पांच दिन पहले टिकट बुक करवाने पर टिकटें अपेक्षाकृत सस्ती मिलेंगी.\n",
            "Predicted Summary:  सार्वजनिक विमानन कंपनी एयर इंडिया आगामी छुट्टियों देखते विशेष किराया योजना पेश जिसके तहत तीन पांच दिन टिकट बुक करवाने टिकटें अपेक्षाकृत सस्ती मिलेंगी.\n",
            "True Summary:  पूर्व राष्ट्रपति एपीजे अब्दुल कलाम ने कहा कि क्षेत्रीय स्तर पर शक्ति संतुलन स्थापित करने के लिए भारत को परमाणु हथियार और बैलेस्टिक मिसाइलें विकसित करनी पड़ीं.\n",
            "Predicted Summary:  पूर्व राष्ट्रपति एपीजे अब्दुल कलाम क्षेत्रीय स्तर शक्ति संतुलन स्थापित भारत परमाणु हथियार बैलेस्टिक मिसाइलें विकसित करनी पड़ीं.\n",
            "True Summary:  अभिनेता अक्षय कुमार का कहना है कि वह स्वयं पर लगे खिलाड़ी के लेबल से अलग नहीं होना चाहते. वह अपने बैनर तले बन रही फिल्म खिलाड़ी 786 से एक बार फिर से इस दावे को मजबूत भी कर रहे हैं.\n",
            "Predicted Summary:  इससे अक्षय खिलाड़ी 1992 खिलाड़ी तू अनाड़ी 1994 बड़ा खिलाड़ी 1995 खिलाड़ियों खिलाड़ी 1996 मिस्टर एंड मिसेज खिलाड़ी 1997 इंटरनेशनल खिलाड़ी 1999 खिलाड़ी 420 2000 काम चुके हैं. इससे अक्षय खिलाड़ी 1992 खिलाड़ी तू अनाड़ी 1994 बड़ा खिलाड़ी 1995 खिलाड़ियों खिलाड़ी 1996 मिस्टर एंड मिसेज खिलाड़ी 1997 इंटरनेशनल खिलाड़ी 1999 खिलाड़ी 420 2000 काम चुके हैं. इससे अक्षय खिलाड़ी 1992 खिलाड़ी तू अनाड़ी 1994 बड़ा खिलाड़ी 1995 खिलाड़ियों खिलाड़ी 1996 मिस्टर एंड मिसेज खिलाड़ी 1997 इंटरनेशनल खिलाड़ी 1999 खिलाड़ी 420 2000 काम चुके हैं.\n",
            "True Summary:  फॉर्मूला वन रेस इंडियन ग्रां पी में सचिन तेंदुलकर सहित कई क्रिकेट खिलाड़ियों राजनेताओं फिल्मी सितारों और चर्चित हस्तियों के पहुंचने की उम्मीद है.\n",
            "Predicted Summary:  देश पहली बार बुद्ध इंटरनेशनल सर्किट वाली फॉर्मूला वन एफ 1 रेस इंडियन ग्रां पी रविवार सचिन तेंदुलकर सहित क्रिकेट खिलाड़ियों राजनेताओं फिल्मी सितारों चर्चित हस्तियों पहुंचने उम्मीद है.\n",
            "True Summary:  कर्नाटक में 12 मई को होने वाले विधानसभा चुनाव कर्नाटक चुनाव में कुल मिलाकर 2655 उम्मीदवार मैदान में है कर्नाटक में लगभग साढ़े चार करोड़ मतदाता मतदान करेंगे\n",
            "Predicted Summary:  महिला एम्पावरमेंट पार्टी मौजूदगी बावजूद सिर्फ़ 219 महिलाएं चुनाव लड़ रही जबकि 1155 प्रत्याशी निर्दलीय मुख् यमंत्री सिद्धरमैया लोगों पांच साल शासन क्या सिर्फ राज्य लूटा बार लूटना चाहते ऐसा होगा बार कांग्रेस पूर्ण बहुमत सरकार बनेगी त्रिशंकु विधानसभा होगी दोनों सीटों भारी अंतर जीतूंगा जेडीएस नेता कुमारस्वामी भरोसा चुनावों नतीजों किंगमेकर भूमिका निभाएंगे उधर येद्दियुरप् पा तीसरी बार मुख्यमंत्री बनने सपना देख सिद्धरमैया दूसरी बार हकीकत तीनों मुद्दे तलाश चुनावो नैय्या लगा दे जेडीएस नेता कुमारस्वामी भरोसा चुनावों नतीजों किंगमेकर भूमिका निभाएंगे उधर येद्दियुरप् पा तीसरी बार मुख्यमंत्री बनने सपना देख सिद्धरमैया दूसरी बार हकीकत तीनों मुद्दे तलाश चुनावो नैय्या लगा दे\n",
            "True Summary:  बादशाह के गाने पर शाहरुख खान और काजोल ने किया डांस पागल पर शाहरुख खान और काजोल का वीडियो हुआ वायरल शाहरुख खान और काजोल का यह डांस देखकर रह जाएंगे हैरान\n",
            "Predicted Summary:  बॉलीवुड मशहूर सिंगर रैपर बादशाह Badshah नए सॉन्ग पागल Paagal पूरी म्यूजिक इंडस्ट्री हिला रख पागल Paagal जरिए बादशाह Badshah केवल फैंस खुश बल्कि जबरदस्त विश्व रिकॉर्ड बनाया गाने जरिए बादशाह Badshah कोरियन बैंड बीटीएस पीछे छोड़ हाल बादशाह पागल Paagal सॉन्ग नया एक्सपेरिमेंट एक्सपेरिमेंट बादशाह गाने करण जौहर फिल्म कभी खुशी कभी गम गाने बन्नो सहेली जोड़ा देखने काफी मजेदार लग So we somehow managed to get iamsrk and kajol to do another video for PAAGAL Lol dekho aur bataao kaisa lagaa A post shared by BADSHAH badboyshah on Jul 12 2019 at 3 25am PDT बादशाह Badshah पागल Paagal सॉन्ग एक्सपेरिमेंट सोशल मीडिया एकाउंट जरिए शेयर वीडियो देखकर ऐसा लग शाहरुख खान Shah Rukh Khan काजोल Kajol गाने म्यूजिक लीरिक्स डांस हों पागल सॉन्ग वीडियो सोशल मीडिया हैंडल शेयर बादशाह लिखा पागल वीडियो हमने कैसे काजोल शाहरुख खान मना लिया लॉल देखो बताओ कैसा लगा सबमें खास बात रही बादशाह Badshah वीडियो देखकर खुद करण जौहर काफी जबरदस्त रिएक्शन करण जौहर आंखो हार्ट इमोजी वीडियो प्रतिक्रिया जाहिर बता दें बादशाह Badshah गाने रिलीज दिन विश्व रिकॉर्ड बना लिया इंटरनेशनल बैंड सेलिब्रिटीज पीछे छोड़ बादशाह गाने पागल यू ट्यूब अब करीब 8 करोड़ 75 लाख बार देखा चुका गाने लीरिक्स म्यूजिक नाचने मजबूर हालांकि पागल लीरिक्स लेकर थोड़ा मजाक विरोध गाना बादशाह करियर सुपरहिट गानों\n",
            "True Summary:  उत्तराखंड में बाढ़ पीड़ितों की मदद के लिए जहां कुछ लोग पूरी कोशिश कर रहे हैं और उनकी रक्षा के लिए दुआएं की जा रही हैं वहीं प्राकृतिक आपदा की मार झेल रहे लोगों के प्रति मानव उदासीनता की शर्मनाक खबरें भी सामने आ रही हैं.\n",
            "Predicted Summary:  रेलवे स्टेशन इंतजार अन्य पर्यटक दुकानदार 250 रुपये परांठा 200 रुपये पानी बोतल बेच हैं. रेलवे स्टेशन इंतजार अन्य पर्यटक दुकानदार 250 रुपये परांठा 200 रुपये पानी बोतल बेच हैं. रेलवे स्टेशन इंतजार अन्य पर्यटक दुकानदार 250 रुपये परांठा 200 रुपये पानी बोतल बेच हैं. रेलवे स्टेशन इंतजार अन्य पर्यटक दुकानदार 250 रुपये परांठा 200 रुपये पानी बोतल बेच हैं.\n",
            "True Summary:  दिल्ली में आप कांग्रेस साथ नहीं लड़ेगी चुनाव राहुल गांधी ने गठबंधन नहीं करने की बताई वजह राहुल बोले डीपीसीसी आप से गठबंधन को तैयार नहीं\n",
            "Predicted Summary:  राहुल गांधी सवाल जवाब महाराष्ट्र तमिलनाडु झारखंड हमारा गठबंधन तय दिल्ली हमारी पार्टी गठबंधन खिलाफ इसको लेकर सर्वसम्मति बाकी जगहों मिलाकर गठबंधन बात पटरी कांग्रेस अध्यक्ष बयान दिन दिल्ली प्रदेश कांग्रेस कमेटी वरिष्ठ नेताओं बैठक फैसला अरविंद केजरीवाल पार्टी गठबंधन जाएगा पार्टी सूत्रों मुताबिक कांग्रेस दिल्ली प्रभारी पीसी चाको डीपीसीसी पूर्व अध्यक्ष अजय माकन गठबंधन पक्ष पूर्व मुख्यमंत्री शीला दीक्षित अन्य वरिष्ठ नेताओं विरोध अधिकतर नेताओं राय मद्देनजर राहुल गांधी गठबंधन सहमति जताई महाराष्ट्र राष्ट्रवादी कांग्रेस पार्टी कांग्रेस गठबंधन लगभग तय तमिलनाडु द्रमुक झारखंड झामुमो उसका गठबंधन पक्का चुका\n",
            "True Summary:  केस को सुलझाने के लिए STF की मदद ली जा रही है चारों महिलाओं का मेडिकल हो चुका है बावरिया गैंग का हाथ होने का शक\n",
            "Predicted Summary:  ग्रेटर नोएडा पास जेवर इंसानियत शर्मसार वाला हादसा रात क़रीब डेढ़ बजे बुलंदशहर परिवार छह बदमाशों रोका विरोध शख्स परिवार मुखिया गोली मारी महिलाओं दरिंदगी गई गैंगरेप वारदात वक्त पुलिस 100 नंबर कॉल मदद मांगी गई पुलिस वारदात डेढ़ घंटे पहुंची बदमाश वारदात अंज़ाम दे चुके मामले गंभीरता देखते वारदात पुलिस पूरी मुस्तैद गई चार लोगों हिरासत लिया छह आरोपियों तलाश यूपी पुलिस 7 टीमों गठन केस जल्द सुलझाने पुलिस एसटीएफ़ मदद ले रही चारों पीड़ित महिलाओं मेडिकल चुका रिपोर्ट इंतज़ार कल शाम महिलाओं दावा तीन आरोपियों पहचानती पुलिस शक घटना पीछे बावरिया गैंग हाथ टिप्पणियां आरोप बदमाशों कार सवार परिवार 40 हजार रुपए नकदी मोबाइल फोन गहने लूट लूटपाट बदमाशों महिलाओं दुपट्टों परिवार पुरुषों बांध कार सवार चार महिलाओं खेत ले गए गैंगरेप परिवार मुखिया बदमाशों विरोध बच्चे गोली मारने लगे परिवार मुखिया मिन्नत बदमाशों बच्चे जान बख्श दी गोली मार दी जेवर घटना पिछले साल जुलाई परिवार बुलंदशहर रास्ते लूटपाट मां बेटी गैंरगेप याद दिलाती ग्रेटर नोएडा बुलंदशहर बीच बीते 12 महीनों गाड़ी रोक लूटपाट तीसरा मामला 26 दिसंबर पिछले साल परिवार यमुना एक्सप्रेस रोककर 20 लाख लूटपाट साल 23 जनवरी यमुनाएक्सप्रेसवे बस लूटा पुलिस घटनाओं सबक लिया अपराधियों हौसले इतने बुलंद छह आरोपियों तलाश यूपी पुलिस 7 टीमों गठन केस जल्द सुलझाने पुलिस एसटीएफ़ मदद ले रही चारों पीड़ित महिलाओं मेडिकल चुका रिपोर्ट इंतज़ार कल शाम महिलाओं दावा तीन आरोपियों पहचानती पुलिस शक घटना पीछे बावरिया गैंग हाथ टिप्पणियां आरोप बदमाशों कार सवार परिवार 40 हजार रुपए नकदी मोबाइल फोन गहने लूट लूटपाट बदमाशों महिलाओं दुपट्टों परिवार पुरुषों बांध कार सवार चार महिलाओं खेत ले गए गैंगरेप परिवार मुखिया बदमाशों विरोध बच्चे गोली मारने लगे परिवार मुखिया मिन्नत बदमाशों बच्चे जान बख्श दी गोली मार दी जेवर घटना पिछले साल जुलाई परिवार बुलंदशहर रास्ते लूटपाट मां बेटी गैंरगेप याद दिलाती ग्रेटर नोएडा बुलंदशहर बीच बीते 12 महीनों गाड़ी रोक लूटपाट तीसरा मामला 26 दिसंबर पिछले साल परिवार यमुना एक्सप्रेस रोककर 20 लाख लूटपाट साल 23 जनवरी यमुनाएक्सप्रेसवे बस लूटा पुलिस घटनाओं सबक लिया अपराधियों हौसले इतने बुलंद आरोप बदमाशों कार सवार परिवार 40 हजार रुपए नकदी मोबाइल फोन गहने लूट लूटपाट बदमाशों महिलाओं दुपट्टों परिवार पुरुषों बांध कार सवार चार महिलाओं खेत ले गए गैंगरेप परिवार मुखिया बदमाशों विरोध बच्चे गोली मारने लगे परिवार मुखिया मिन्नत बदमाशों बच्चे जान बख्श दी गोली मार दी जेवर घटना पिछले साल जुलाई परिवार बुलंदशहर रास्ते लूटपाट मां बेटी गैंरगेप याद दिलाती ग्रेटर नोएडा बुलंदशहर बीच बीते 12 महीनों गाड़ी रोक लूटपाट तीसरा मामला 26 दिसंबर पिछले साल परिवार यमुना एक्सप्रेस रोककर 20 लाख लूटपाट साल 23 जनवरी यमुनाएक्सप्रेसवे बस लूटा पुलिस घटनाओं सबक लिया अपराधियों हौसले इतने बुलंद जेवर घटना पिछले साल जुलाई परिवार बुलंदशहर रास्ते लूटपाट मां बेटी गैंरगेप याद दिलाती ग्रेटर नोएडा बुलंदशहर बीच बीते 12 महीनों गाड़ी रोक लूटपाट तीसरा मामला 26 दिसंबर पिछले साल परिवार यमुना एक्सप्रेस रोककर 20 लाख लूटपाट साल 23 जनवरी यमुनाएक्सप्रेसवे बस लूटा पुलिस घटनाओं सबक लिया अपराधियों हौसले इतने बुलंद\n",
            "True Summary:  विवादास्पद सीडी में लगे आरोपों के बाद शांतिभूषण का बचाव करते हुए बिहार के सीएम नीतीश कुमार ने कहा कि उनकी ईमानदारी पर शक नहीं किया जा सकता.\n",
            "Predicted Summary:  लोकपाल विधेयक प्रारूप तैयार संयुक्त समिति सह अध्यक्ष शांतिभूषण खिलाफ जारी कथित विवादास्पद सीडी लगे आरोपों शांतिभूषण बचाव बिहार मुख्यमंत्री नीतीश कुमार ईमानदारी शक सकता.\n",
            "True Summary:  पाकिस्तान पीपुल्स पार्टी के अध्यक्ष बिलावल भुट्टो जरदारी ने कहा है कि उनकी मां और पूर्व प्रधानमंत्री की हत्या के लिए पाकिस्तान के तत्कालीन राष्ट्रपति परवेज मुशर्रफ जिम्मेदार हैं.\n",
            "Predicted Summary:  पाकिस्तान पीपुल्स पार्टी अध्यक्ष बिलावल भुट्टो जरदारी मां पूर्व प्रधानमंत्री हत्या पाकिस्तान तत्कालीन राष्ट्रपति परवेज मुशर्रफ जिम्मेदार हैं. बिलावल सीएनएन दिए साक्षात्कार उन्होंने मुशर्रफ मेरी मां बेनजीर हत्या कराई. बिलावल सीएनएन दिए साक्षात्कार उन्होंने मुशर्रफ मेरी मां बेनजीर हत्या कराई. उन्होंने मुझे विश्वास पाकिस्तानी सरकार मुझे पर्याप्त सुरक्षा मुहैया कराएगी सरकार जिसने पाकिस्तान मेरी मां सुरक्षा छेड़छाड़ थी. उन्होंने मुझे विश्वास पाकिस्तानी सरकार मुझे पर्याप्त सुरक्षा मुहैया कराएगी सरकार जिसने पाकिस्तान मेरी मां सुरक्षा छेड़छाड़ थी. उन्होंने मुझे विश्वास पाकिस्तानी सरकार मुझे पर्याप्त सुरक्षा मुहैया कराएगी सरकार जिसने पाकिस्तान मेरी मां सुरक्षा छेड़छाड़ थी.\n",
            "True Summary:  50 साल के हुए इरफान खान दुनियाभर में कई हजार करोड़ रु का बिजनेस कर चुकीं इरफान की फिल्में 2017 में रिलीज हुईं इरफान की दो हिट फिल्में\n",
            "Predicted Summary:  Thoda aur qarib pic twitter com L3gpsF8h9g\n",
            "True Summary:  सुरेश रैना ने सीनियर खिलाड़ियों के वेस्टइंडीज दौरे पर नहीं आने के उनके फैसले को उचित ठहराते हुए कहा कि वरिष्ठ खिलाड़ी आराम के हकदार हैं.\n",
            "Predicted Summary:  भारत कार्यवाहक क्रिकेट कप्तान सुरेश रैना सचिन तेंदुलकर सहित सीनियर खिलाड़ियों वेस्टइंडीज दौरे आने फैसले उचित ठहराते वरिष्ठ खिलाड़ी आराम हकदार हैं.\n",
            "True Summary:  जायसवाल का कहना है कि कोयला आवंटन की जांच नहीं होगी. उनका यह भी कहना है कि अगर किसी को आपत्ति है तो वह कोर्ट की शरण में जा सकता है.\n",
            "Predicted Summary:  कोल ब्लॉक आवंटन कोयला मंत्री श्रीप्रकाश जायसवाल बुधवार टीम अन्ना प्रधानमंत्री हमले सफाई दी है.टिप्पणियां जायसवाल कहना कोयला आवंटन जांच होगी.\n",
            "True Summary:  पाशा ने चेतावनीभरे लहजे में कहा कि अगर भारत ऐबटाबाद जैसे किसी हमले को अंजाम देता है तो पाकिस्तान की तरफ से भी उपयुक्त कार्रवाई की जाएगी.\n",
            "Predicted Summary:  पाकिस्तानी खुफिया एजेंसी आईएसआई प्रमुख अहमद शुजा पाशा चेतावनीभरे लहजे भारत ऐबटाबाद हमले अंजाम देता पाकिस्तान तरफ उपयुक्त कार्रवाई जाएगी भारत लक्ष्यों पहचान चुकी अभ्यास कार्यक्रमों अंजाम चुका है.\n"
          ]
        }
      ]
    },
    {
      "cell_type": "code",
      "source": [
        "history"
      ],
      "metadata": {
        "id": "bvELsiiKr80i",
        "colab": {
          "base_uri": "https://localhost:8080/"
        },
        "outputId": "434ced08-b3df-43d0-f1ba-6501e78906b5"
      },
      "execution_count": null,
      "outputs": [
        {
          "output_type": "stream",
          "name": "stdout",
          "text": [
            "import numpy as np\n",
            "import pandas as pd\n",
            "from google.colab import drive\n",
            "drive.mount('/content/drive')\n",
            "dataset = pd.read_csv('/content/drive/MyDrive/train_10000.csv')\n",
            "dataset.shape\n",
            "dataset.head()\n",
            "dataset['summary'].isnull().sum()\n",
            "dataset_cleaned = dataset[dataset['summary'].notnull()]\n",
            "dataset_cleaned = dataset_cleaned[dataset_cleaned['article'].notnull()]\n",
            "dataset_cleaned = dataset_cleaned[dataset_cleaned['headline'].notnull()]\n",
            "dataset_cleaned.head()\n",
            "dataset_cleaned.shape\n",
            "dataset_cleaned['summary'].isnull().sum()\n",
            "dataset_cleaned['article'].isnull().sum()\n",
            "dataset_cleaned['headline'].isnull().sum()\n",
            "articles = list(dataset_cleaned['article'])\n",
            "summaries = list(dataset_cleaned['summary'])\n",
            "headlines = list(dataset_cleaned['headline'])\n",
            "from spacy.lang.hi import STOP_WORDS as STOP_WORDS_HI\n",
            "type(STOP_WORDS_HI)\n",
            "import re\n",
            "hindi_pattern = r'[\\u0965\\u002E\\u002C\\u0021\\u003F\\u003B\\u003A\\u0027\\u0022\\u2018\\u2019\\u201C\\u201D\\u002D\\u0028\\u0029]'\n",
            "purna_viram_pattern = r'[\\u0964]'\n",
            "english_pattern = r'[^\\w\\s\\u0900-\\u097F]'\n",
            "pattern = hindi_pattern + '|' + english_pattern\n",
            "article_corpus = []\n",
            "summary_corpus = []\n",
            "headline_corpus = []\n",
            "\n",
            "for i in range(len(articles)):\n",
            "  sentence = re.sub(pattern, ' ', articles[i])\n",
            "  sentence = re.sub(purna_viram_pattern, '.', sentence)\n",
            "  sentence = sentence.split()\n",
            "  sentence = [word for word in sentence if not word in STOP_WORDS_HI]\n",
            "  sentence = ' '.join(sentence)\n",
            "  article_corpus.append(sentence)\n",
            "\n",
            "for i in range(len(summaries)):\n",
            "  sentence = re.sub(pattern, ' ', summaries[i])\n",
            "  sentence = re.sub(purna_viram_pattern, '.', sentence)\n",
            "  sentence = sentence.split()\n",
            "  sentence = [word for word in sentence] # Not removing stopwords from the summary\n",
            "  sentence = ' '.join(sentence)\n",
            "  summary_corpus.append(sentence)\n",
            "\n",
            "for i in range(len(headlines)):\n",
            "  sentence = re.sub(pattern, ' ', headlines[i])\n",
            "  sentence = re.sub(purna_viram_pattern, '.', sentence)\n",
            "  sentence = sentence.split()\n",
            "  sentence = [word for word in sentence if not word in STOP_WORDS_HI]\n",
            "  sentence = ' '.join(sentence)\n",
            "  headline_corpus.append(sentence)\n",
            "summary_corpus[0]\n",
            "articles[0]\n",
            "article_corpus[0]\n",
            "headline_corpus[0]\n",
            "import nltk\n",
            "nltk.download('punkt')\n",
            "from nltk.tokenize import WhitespaceTokenizer\n",
            "from nltk.tokenize import sent_tokenize\n",
            "def get_score_1(article_sentence, headline_sentence):\n",
            "  tokenizer = WhitespaceTokenizer()\n",
            "  article_sentence_tokens = tokenizer.tokenize(article_sentence)\n",
            "  # print(\"Article tokens:\")\n",
            "  # print(article_sentence_tokens)\n",
            "  headline_sentence_tokens = set(tokenizer.tokenize(headline_sentence))\n",
            "  # print(\"Headline_sentence_tokens:\")\n",
            "  # print(headline_sentence_tokens)\n",
            "  common_tokens = set([token for token in article_sentence_tokens if token in headline_sentence_tokens])\n",
            "  # print(\"Common tokens:\")\n",
            "  # print(common_tokens)\n",
            "  return len(common_tokens)/len(headline_sentence_tokens)\n",
            "get_score_1(article_corpus[0], headline_corpus[0])\n",
            "def get_score_2(article_sentence, article):\n",
            "  tokenizer = WhitespaceTokenizer()\n",
            "  article_sentence_tokens = tokenizer.tokenize(article_sentence)\n",
            "  # print(\"Article Sentence tokens:\")\n",
            "  # print(article_sentence_tokens)\n",
            "  article_tokens = tokenizer.tokenize(article)\n",
            "  # print(\"Article tokens:\")\n",
            "  # print(article_tokens)\n",
            "  return len(article_sentence_tokens)/len(article_tokens)\n",
            "first_article_sentences = sent_tokenize(article_corpus[0])\n",
            "get_score_2(first_article_sentences[0], article_corpus[0])\n",
            "def get_score_3(article_sentence):\n",
            "  tokenizer = WhitespaceTokenizer()\n",
            "  article_sentence_tokens = tokenizer.tokenize(article_sentence)\n",
            "  english_pattern = r'\\b[a-zA-Z]+\\b'\n",
            "  english_words = re.findall(english_pattern, article_sentence)\n",
            "  return len(english_words)/len(article_sentence_tokens)\n",
            "get_score_3(\"ब्लैकबेरी हैंडसेट बनाने वाली कनाडा कंपनी hindi रिसर्च मोशन रिम पुनर्गठन योजना तहत अगले INDIA सप्ताह वैश्विक स्तर 2000 कर्मचारियों छंटनी करेगी.\")\n",
            "get_score_3(\"ब्लैकबेरी हैंडसेट बनाने वाली कनाडा कंपनी hindi रिसर्च मोशन रिम पुनर्गठन योजना तहत अगले सप्ताह वैश्विक स्तर 2000 कर्मचारियों छंटनी करेगी.\")\n",
            "def get_score_4(article_sentence):\n",
            "  tokenizer = WhitespaceTokenizer()\n",
            "  article_sentence_tokens = tokenizer.tokenize(article_sentence)\n",
            "  numbers = set(re.findall(r'\\b\\d+\\b', article_sentence))\n",
            "  return len(numbers)/len(article_sentence_tokens)\n",
            "get_score_4(\"ब्लैकबेरी हैंडसेट बनाने वाली कनाडा कंपनी वैश्विक स्तर 2000 कर्मचारियों छंटनी करेगी.\")\n",
            "get_score_4(\"ब्लैकबेरी हैंडसेट बनाने वाली कनाडा कंपनी hindi रिसर्च मोशन रिम पुनर्गठन योजना तहत अगले सप्ताह वैश्विक स्तर कर्मचारियों छंटनी करेगी.\")\n",
            "def get_num_sent_in_summary(article_sentence, compression_ration = 0.3):\n",
            "  sentences = sent_tokenize(article_sentence)\n",
            "  num_sentences = len(sentences)\n",
            "  num_sentences = round(num_sentences * compression_ration)\n",
            "  if num_sentences:\n",
            "    return num_sentences\n",
            "  return 1\n",
            "get_num_sent_in_summary(article_corpus[0], 0.7)\n",
            "def get_total_score(sentence, article, headline):\n",
            "  s1 = get_score_1(sentence, headline)\n",
            "  s2 = get_score_2(sentence, article)\n",
            "  s3 = get_score_3(sentence)\n",
            "  s4 = get_score_4(sentence)\n",
            "  return s1+s2+s3+s4\n",
            "get_total_score(first_article_sentences[0], article_corpus[0], headline_corpus[0])\n",
            "get_total_score(first_article_sentences[1], article_corpus[0], headline_corpus[0])\n",
            "get_total_score(first_article_sentences[2], article_corpus[0], headline_corpus[0])\n",
            "get_total_score(first_article_sentences[3], article_corpus[0], headline_corpus[0])\n",
            "get_total_score(first_article_sentences[4], article_corpus[0], headline_corpus[0])\n",
            "def score_and_sort(article, headline):\n",
            "  article_sentences = sent_tokenize(article)\n",
            "  sentence_scores = []\n",
            "  for sentence in article_sentences:\n",
            "    sentence_score = get_total_score(sentence, article, headline)\n",
            "    sentence_scores.append((sentence, sentence_score))\n",
            "  sorted_sentences = sorted(sentence_scores, key=lambda x: x[1], reverse=True)\n",
            "  return sorted_sentences\n",
            "score_and_sort(article_corpus[0], headline_corpus[0])\n",
            "def get_summary(article, headline, compression_ratio=0.3):\n",
            "  num_sentences = get_num_sent_in_summary(article, compression_ratio)\n",
            "  sorted_sentences = score_and_sort(article, headline)\n",
            "  summary_sentences = [sentence for sentence, score in sorted_sentences[:num_sentences]]\n",
            "  summary_paragraph = ' '.join(summary_sentences)\n",
            "  return summary_paragraph\n",
            "get_summary(article_corpus[0], headline_corpus[0], 0.1)\n",
            "summary_corpus[0]\n",
            "class Model_Rank:\n",
            "\n",
            "  def __init__(self):\n",
            "    hindi_pattern = r'[\\u0965\\u002E\\u002C\\u0021\\u003F\\u003B\\u003A\\u0027\\u0022\\u2018\\u2019\\u201C\\u201D\\u002D\\u0028\\u0029]'\n",
            "    purna_viram_pattern = r'[\\u0964]'\n",
            "    english_pattern = r'[^\\w\\s\\u0900-\\u097F]'\n",
            "    pattern = hindi_pattern + '|' + english_pattern\n",
            "\n",
            "  def preprocess(self, article):\n",
            "    article_cleaned = re.sub(pattern, ' ', article)\n",
            "    article_cleaned = re.sub(purna_viram_pattern, '.', article_cleaned)\n",
            "    article_cleaned = article_cleaned.split()\n",
            "    article_cleaned = [word for word in article_cleaned if not word in STOP_WORDS_HI]\n",
            "    article_cleaned = ' '.join(article_cleaned)\n",
            "    return article_cleaned\n",
            "\n",
            "  def get_score_1(self, article_sentence, headline_sentence):\n",
            "    if not headline_sentence:\n",
            "      return 0\n",
            "    tokenizer = WhitespaceTokenizer()\n",
            "    article_sentence_tokens = tokenizer.tokenize(article_sentence)\n",
            "    headline_sentence_tokens = set(tokenizer.tokenize(headline_sentence))\n",
            "    common_tokens = set([token for token in article_sentence_tokens if token in headline_sentence_tokens])\n",
            "    if not len(headline_sentence_tokens):\n",
            "      return 0\n",
            "    return len(common_tokens)/len(headline_sentence_tokens)\n",
            "\n",
            "  def get_score_2(self, article_sentence, article):\n",
            "    tokenizer = WhitespaceTokenizer()\n",
            "    article_sentence_tokens = tokenizer.tokenize(article_sentence)\n",
            "    article_tokens = tokenizer.tokenize(article)\n",
            "    return len(article_sentence_tokens)/len(article_tokens)\n",
            "\n",
            "  def get_score_3(self, article_sentence):\n",
            "    tokenizer = WhitespaceTokenizer()\n",
            "    article_sentence_tokens = tokenizer.tokenize(article_sentence)\n",
            "    english_pattern = r'\\b[a-zA-Z]+\\b'\n",
            "    english_words = re.findall(english_pattern, article_sentence)\n",
            "    return len(english_words)/len(article_sentence_tokens)\n",
            "\n",
            "  def get_score_4(self, article_sentence):\n",
            "    tokenizer = WhitespaceTokenizer()\n",
            "    article_sentence_tokens = tokenizer.tokenize(article_sentence)\n",
            "    numbers = set(re.findall(r'\\b\\d+\\b', article_sentence))\n",
            "    return len(numbers)/len(article_sentence_tokens)\n",
            "\n",
            "  def get_num_sent_in_summary(self, article_sentence, compression_ration = 0.3):\n",
            "    sentences = sent_tokenize(article_sentence)\n",
            "    num_sentences = len(sentences)\n",
            "    num_sentences = round(num_sentences * compression_ration)\n",
            "    if num_sentences:\n",
            "      return num_sentences\n",
            "    return 1\n",
            "\n",
            "  def get_total_score(self, sentence, article, headline):\n",
            "    s1 = self.get_score_1(sentence, headline)\n",
            "    s2 = self.get_score_2(sentence, article)\n",
            "    s3 = self.get_score_3(sentence)\n",
            "    s4 = self.get_score_4(sentence)\n",
            "    return s1+s2+s3+s4\n",
            "\n",
            "  def score_and_sort(self, article, headline):\n",
            "    article_sentences = sent_tokenize(article)\n",
            "    sentence_scores = []\n",
            "    for sentence in article_sentences:\n",
            "      sentence_score = self.get_total_score(sentence, article, headline)\n",
            "      sentence_scores.append((sentence, sentence_score))\n",
            "    sorted_sentences = sorted(sentence_scores, key=lambda x: x[1], reverse=True)\n",
            "    return sorted_sentences\n",
            "\n",
            "  def get_summary(self, article, compression_ratio=0.3, headline=\"\"):\n",
            "    num_sentences = self.get_num_sent_in_summary(article, compression_ratio)\n",
            "    sorted_sentences = self.score_and_sort(article, headline)\n",
            "    summary_sentences = [sentence for sentence, score in sorted_sentences[:num_sentences]]\n",
            "    summary_paragraph = ' '.join(summary_sentences)\n",
            "    return summary_paragraph\n",
            "m = Model_Rank()\n",
            "m.get_summary(article = article_corpus[0], compression_ratio=0.4)\n",
            "for i in range(50):\n",
            "  true_summary = summary_corpus[i]\n",
            "  predicted_summary = m.get_summary(article = article_corpus[i], headline = headline_corpus[i], compression_ratio = 0.1)\n",
            "  print(\"True Summary: \", true_summary)\n",
            "  print(\"Predicted Summary: \", predicted_summary)\n",
            "history\n"
          ]
        }
      ]
    },
    {
      "cell_type": "code",
      "source": [
        "!pip install rouge-score"
      ],
      "metadata": {
        "colab": {
          "base_uri": "https://localhost:8080/"
        },
        "id": "5erP9fw0g6Pp",
        "outputId": "04213b60-cd34-407c-fec5-5041b8c09d33"
      },
      "execution_count": null,
      "outputs": [
        {
          "output_type": "stream",
          "name": "stdout",
          "text": [
            "Collecting rouge-score\n",
            "  Downloading rouge_score-0.1.2.tar.gz (17 kB)\n",
            "  Preparing metadata (setup.py) ... \u001b[?25l\u001b[?25hdone\n",
            "Requirement already satisfied: absl-py in /usr/local/lib/python3.10/dist-packages (from rouge-score) (1.4.0)\n",
            "Requirement already satisfied: nltk in /usr/local/lib/python3.10/dist-packages (from rouge-score) (3.8.1)\n",
            "Requirement already satisfied: numpy in /usr/local/lib/python3.10/dist-packages (from rouge-score) (1.25.2)\n",
            "Requirement already satisfied: six>=1.14.0 in /usr/local/lib/python3.10/dist-packages (from rouge-score) (1.16.0)\n",
            "Requirement already satisfied: click in /usr/local/lib/python3.10/dist-packages (from nltk->rouge-score) (8.1.7)\n",
            "Requirement already satisfied: joblib in /usr/local/lib/python3.10/dist-packages (from nltk->rouge-score) (1.4.2)\n",
            "Requirement already satisfied: regex>=2021.8.3 in /usr/local/lib/python3.10/dist-packages (from nltk->rouge-score) (2024.5.15)\n",
            "Requirement already satisfied: tqdm in /usr/local/lib/python3.10/dist-packages (from nltk->rouge-score) (4.66.4)\n",
            "Building wheels for collected packages: rouge-score\n",
            "  Building wheel for rouge-score (setup.py) ... \u001b[?25l\u001b[?25hdone\n",
            "  Created wheel for rouge-score: filename=rouge_score-0.1.2-py3-none-any.whl size=24933 sha256=06e6441de768983f4ed2e52a8fd828678e6a8471e1a5b85a1485eb55a4515c3b\n",
            "  Stored in directory: /root/.cache/pip/wheels/5f/dd/89/461065a73be61a532ff8599a28e9beef17985c9e9c31e541b4\n",
            "Successfully built rouge-score\n",
            "Installing collected packages: rouge-score\n",
            "Successfully installed rouge-score-0.1.2\n"
          ]
        }
      ]
    },
    {
      "cell_type": "code",
      "source": [
        "import nltk\n",
        "from nltk.translate.bleu_score import sentence_bleu, SmoothingFunction\n",
        "from rouge_score import rouge_scorer\n",
        "\n",
        "# Define functions to calculate BLEU and ROUGE scores\n",
        "def calculate_bleu(reference, hypothesis):\n",
        "    reference_tokens = [reference.split()]\n",
        "    hypothesis_tokens = hypothesis.split()\n",
        "    smoothie = SmoothingFunction().method4\n",
        "    score = sentence_bleu(reference_tokens, hypothesis_tokens, smoothing_function=smoothie)\n",
        "    return score\n",
        "\n",
        "def calculate_rouge(reference, hypothesis):\n",
        "    scorer = rouge_scorer.RougeScorer(['rouge1', 'rouge2', 'rougeL'], use_stemmer=True)\n",
        "    scores = scorer.score(reference, hypothesis)\n",
        "    return scores\n",
        "\n",
        "# Initialize lists to store BLEU and ROUGE scores\n",
        "bleu_scores = []\n",
        "rouge_scores = []\n",
        "\n",
        "# Loop over the first 50 articles and their summaries\n",
        "for i in range(50):\n",
        "    true_summary = summary_corpus[i]\n",
        "    predicted_summary = m.get_summary(article=article_corpus[i], headline=headline_corpus[i], compression_ratio=0.1)\n",
        "\n",
        "    # Calculate BLEU score\n",
        "    bleu_score = calculate_bleu(true_summary, predicted_summary)\n",
        "    bleu_scores.append(bleu_score)\n",
        "\n",
        "    # Calculate ROUGE scores\n",
        "    rouge_score = calculate_rouge(true_summary, predicted_summary)\n",
        "    rouge_scores.append(rouge_score)\n",
        "\n",
        "    print(f\"True Summary: {true_summary}\")\n",
        "    print(f\"Predicted Summary: {predicted_summary}\")\n",
        "    print(f\"BLEU Score: {bleu_score}\")\n",
        "    print(f\"ROUGE Scores: {rouge_score}\")\n",
        "    print(\"-\" * 50)\n",
        "\n",
        "# Calculate average BLEU score\n",
        "average_bleu = sum(bleu_scores) / len(bleu_scores)\n",
        "print(f\"Average BLEU Score: {average_bleu}\")\n",
        "\n",
        "# Calculate average ROUGE scores\n",
        "average_rouge1 = sum(score['rouge1'].fmeasure for score in rouge_scores) / len(rouge_scores)\n",
        "average_rouge2 = sum(score['rouge2'].fmeasure for score in rouge_scores) / len(rouge_scores)\n",
        "average_rougeL = sum(score['rougeL'].fmeasure for score in rouge_scores) / len(rouge_scores)\n",
        "print(f\"Average ROUGE-1 Score: {average_rouge1}\")\n",
        "print(f\"Average ROUGE-2 Score: {average_rouge2}\")\n",
        "print(f\"Average ROUGE-L Score: {average_rougeL}\")\n"
      ],
      "metadata": {
        "colab": {
          "base_uri": "https://localhost:8080/"
        },
        "id": "RIOl-1JPguCk",
        "outputId": "136ff956-9940-4ad9-b4ff-5e57f0fdb240"
      },
      "execution_count": null,
      "outputs": [
        {
          "output_type": "stream",
          "name": "stdout",
          "text": [
            "True Summary: ब्लैकबेरी हैंडसेट बनाने वाली कनाडा की कंपनी रिसर्च इन मोशन रिम अपनी पुनर्गठन योजना के तहत अगले कुछ सप्ताह में वैश्विक स्तर पर 2 000 कर्मचारियों की छंटनी करेगी.\n",
            "Predicted Summary: ब्लैकबेरी हैंडसेट बनाने वाली कनाडा कंपनी रिसर्च मोशन रिम पुनर्गठन योजना तहत अगले सप्ताह वैश्विक स्तर 2 000 कर्मचारियों छंटनी करेगी.\n",
            "BLEU Score: 0.23515719213781708\n",
            "ROUGE Scores: {'rouge1': Score(precision=1.0, recall=1.0, fmeasure=1.0), 'rouge2': Score(precision=1.0, recall=1.0, fmeasure=1.0), 'rougeL': Score(precision=1.0, recall=1.0, fmeasure=1.0)}\n",
            "--------------------------------------------------\n",
            "True Summary: श्रद्धांजलि सभा के दौरान अचानक खराब हुई हिलेरी क्लिंटन की तबीयत डॉक्टरों ने हिलेरी को निमोनिया होने की पुष्टि की है राष्ट्रपति पद के लिए डेमोक्रेटिक उम्मीदवार हैं क्लिंटन\n",
            "Predicted Summary: अमेरिका राष्ट्रपति पद डेमोक्रेटिक पार्टी उम्मीदवार हिलेरी क्लिंटन निमोनिया पीड़ित पाई गई आराम सलाह दी गई इससे घंटे हिलेरी अस्वस्थ महसूस कारण 9 11 हमलों स्मृति सभा बीच चली गई थीं हिलेरी चिकित्सक लीसा बरडाक बयान पूर्व विदेश मंत्री एलर्जी कारण खांसी रही उन्होंने लंबे समय खांसी रही संबंधी जांच निमोनिया पीड़ित पाया एंटीबॉयोटिक दवाएं देने अलावा आराम कार्यक्रम बदलाव सलाह दी गई चिकित्सक बताया हिलेरी कल तड़के मैनहट्टन ग्राउंड जीरो स्मारक 9 11 हमलों 15 साल पूरे अवसर आयोजित स्मृति सभा बुखार शरीर पानी कमी गई लीसा बताया उन्होंने हिलेरी जांच शरीर पानी कमी दूर गई स्वास्थ्य सुधार हिलेरी 9 11 हमलों स्मारक आतंकवादी हमले पीड़ितों श्रद्धांजलि अर्पित गई थीं टिप्पणियां हिलेरी प्रचार टीम बताया कार्यक्रम दौरान अस्वस्थ गईं बेटी चेल्सी अपार्टमेंट रवाना गईं शहर पॉश फ्लैटीरोन हेडलाइन अलावा खबर एनडीटीवी टीम संपादित सिंडीकेट फीड सीधे प्रकाशित गई है.\n",
            "BLEU Score: 0.009243750338357037\n",
            "ROUGE Scores: {'rouge1': Score(precision=0.0, recall=0.0, fmeasure=0.0), 'rouge2': Score(precision=0.0, recall=0.0, fmeasure=0.0), 'rougeL': Score(precision=0, recall=0, fmeasure=0)}\n",
            "--------------------------------------------------\n",
            "True Summary: पूर्व भारतीय कप्तान अनिल कुंबले का मानना है कि भारत का स्पिन विभाग स्तरीय गेंदबाजों से भरा है और उन्होंने टीम में वापसी करने वाले ऑफ स्पिनर हरभजन सिंह को देश के सर्वश्रेष्ठ स्पिनरों में से एक करार दिया.\n",
            "Predicted Summary: पूर्व भारतीय क्रिकेट कप्तान अनिल कुंबले मानना भारत स्पिन विभाग स्तरीय गेंदबाजों भरा उन्होंने टीम वापसी ऑफ स्पिनर हरभजन सिंह देश सर्वश्रेष्ठ स्पिनरों करार दिया. देश प्रमुख स्पिनरों बारे बात कुंबले अश्विन हरभजन ओझा स्पिन गेंदबाजी आक्रमण काफी मजबूत है. देश प्रमुख स्पिनरों बारे बात कुंबले अश्विन हरभजन ओझा स्पिन गेंदबाजी आक्रमण काफी मजबूत है. देश प्रमुख स्पिनरों बारे बात कुंबले अश्विन हरभजन ओझा स्पिन गेंदबाजी आक्रमण काफी मजबूत है. देश प्रमुख स्पिनरों बारे बात कुंबले अश्विन हरभजन ओझा स्पिन गेंदबाजी आक्रमण काफी मजबूत है. टेस्ट क्रिकेट 619 विकेट दुनिया तीसरे सफलतम गेंदबाज कुंबले हरभजन सिंह बेहतरीन गेंदबाज है. टेस्ट क्रिकेट 619 विकेट दुनिया तीसरे सफलतम गेंदबाज कुंबले हरभजन सिंह बेहतरीन गेंदबाज है. टेस्ट क्रिकेट 619 विकेट दुनिया तीसरे सफलतम गेंदबाज कुंबले हरभजन सिंह बेहतरीन गेंदबाज है. कुंबले बीसीसीआई आधिकारिक वेबसाइट हरभजन सिंह मौजूद 400 टेस्ट विकेट हासिल अनुभव काफी प्रतिस्पर्धी है. कुंबले बीसीसीआई आधिकारिक वेबसाइट हरभजन सिंह मौजूद 400 टेस्ट विकेट हासिल अनुभव काफी प्रतिस्पर्धी है. कुंबले बीसीसीआई आधिकारिक वेबसाइट हरभजन सिंह मौजूद 400 टेस्ट विकेट हासिल अनुभव काफी प्रतिस्पर्धी है. कुंबले बीसीसीआई आधिकारिक वेबसाइट हरभजन सिंह मौजूद 400 टेस्ट विकेट हासिल अनुभव काफी प्रतिस्पर्धी है. कुंबले बीसीसीआई आधिकारिक वेबसाइट हरभजन सिंह मौजूद 400 टेस्ट विकेट हासिल अनुभव काफी प्रतिस्पर्धी है. कुंबले बीसीसीआई आधिकारिक वेबसाइट हरभजन सिंह मौजूद 400 टेस्ट विकेट हासिल अनुभव काफी प्रतिस्पर्धी है. कुंबले देश लेग स्पिनरों बारे राहुल शर्मा पीयूष चावला अमित मिश्रा दौड़ आगे टेस्ट प्रारूप अधिक अनुकूल हैं. कुंबले देश लेग स्पिनरों बारे राहुल शर्मा पीयूष चावला अमित मिश्रा दौड़ आगे टेस्ट प्रारूप अधिक अनुकूल हैं.\n",
            "BLEU Score: 0.02912825204809967\n",
            "ROUGE Scores: {'rouge1': Score(precision=0.0, recall=0.0, fmeasure=0.0), 'rouge2': Score(precision=0.0, recall=0.0, fmeasure=0.0), 'rougeL': Score(precision=0, recall=0, fmeasure=0)}\n",
            "--------------------------------------------------\n",
            "True Summary: इंडिगो के ग्राउंड स्टाफ ने यात्री से की हाथापाई इंडिगो एयरलाइन ने इस घटना के लिए माफी मांग ली है 15 अक्टूबर की है ये घटना\n",
            "Predicted Summary: इंडिगो एयरलाइन प्रेसीडेंट डायरेक्टर आदित्य घोष दिल्ली दिल्ली एयरपोर्ट हमारे स्टाफ यात्री दुर्व्यवहार स्वीकार हूं मैंने व्यक्तिगत तौर यात्री बात माफी मांगी घटना प्रतिक्रिया देते नागरिक उड्डयन मंत्री अशोक गजपति राजू मैंने नागरिक उड्डयन मंत्रालय निगरानी एजेंसी डीजीसीए मामले रिपोर्ट देने हिंसा दुखद घटना प्रतिक्रिया देते नागरिक उड्डयन मंत्री अशोक गजपति राजू मैंने नागरिक उड्डयन मंत्रालय निगरानी एजेंसी डीजीसीए मामले रिपोर्ट देने हिंसा दुखद\n",
            "BLEU Score: 0.014115454121920924\n",
            "ROUGE Scores: {'rouge1': Score(precision=0.0, recall=0.0, fmeasure=0.0), 'rouge2': Score(precision=0.0, recall=0.0, fmeasure=0.0), 'rougeL': Score(precision=0, recall=0, fmeasure=0)}\n",
            "--------------------------------------------------\n",
            "True Summary: मीजान जाफरी ने किया खुलासा नव्या नंदा को बताया अच्छा दोस्त फिल्म मलाल से बॉलीवुड में एंट्री करेंगे मीजान जाफरी\n",
            "Predicted Summary: संजय लीला भंसाली फिल्म मलाल बॉलीवुड कदम रखने मीजान जाफरी Meezaan Jaffery दिनों काफी चर्चा फिल्म अलावा मीजान जाफरी Meezaan Jaffery नव्या नवेली नंदा Navya Naveli Nanda दोस्ती लेकर सोशल मीडिया छाए दिनों वायरल फोटोज नव्या नवेली नंदा Navya Naveli Nanda एक्टर मीजान जाफरी Meezaan Jaffery दिखाई दी थीं मीजान जाफरी Meezaan Jaffery नव्या नवेली नंदा Navya Naveli Nanda दोस्ती लेकर सोशल मीडिया चर्चा लगी हालांकि मीजान जाफरी Meezaan Jaffery मीडिया दिए इंटरव्यू नव्या नवेली नंदा Navya Naveli Nanda दोस्ती खुलासा Blur But Beautiful meezaanj and navyananda meezaan navyanavelinanda sanjayleelabhansali vimalfilmfareawards2019 zeecineawards bollywood debutante malaal malal slb inshallah salmankhan aliabhatt A post shared by meezaan s world meezaan_jaffery on Mar 26 2019 at 4 37am PDT मुंबई मिरर हाल बॉलीवुड एक्टर मीजान जाफरी Meezaan Jaffery इंटरव्यू लिया जिसमें उनसे नव्या नवेली नन्दा Navya Naveli Nanda दोस्ती बारे पूछा मीजान जाफरी Meezaan Jaffery हम केवल अच्छे दोस्त मीडिया बातचीत दौरान मीजान जाफरी नव्या नवेली सेम फ्रेंड सर्कल नव्या मेरी बहन बेस्टी मेरी काफी अच्छी दोस्त रिलेशनशिप हूं इंटरव्यू दौरान मीजान जाफरी बताया बहन अलाविया जाफरी Alaviaa Jaaferi काफी अच्छी दोस्त सेम फ्रेंड सर्कल कारण दोनों खुद अच्छे दोस्त A post shared by Alaviaa Jaaferi alaviaajaaferi on Oct 13 2018 at 1 18pm PDT बता दें बॉलीवुड एक्टर जावेद जाफरी बेटे मीजान जाफरी Meezaan Jaffery हाल संजय लीला भंसाली फिल्म मलाल Malaal लीड रोल नजर आएंगे मीजान जाफरी Meezaan Jaffery फिल्म 5 जुलाई दुनियाभर रिलीज होगी इनके फिल्म शर्मिन सेगल मुख्य भूमिका दिखाई देंगी फिल्म मलाल संजय लीला भंसाली भूषण कुमार कृष्म कुमार प्रोड्यूस नव्या नवेली नंदा Navya Naveli Nanda बात उन्होंने इंग्लैंड सेवन ओक्स स्कूल शुरुआती पढ़ाई समय हाईअर स्टडीज न्यूयॉर्क फोरडैम यूनिवर्सिटी पढ़ाई रही नव्या नवेली नंदा अक्सर शाहरुख खान बेटे आर्यन खान दोस्ती लेकर चर्चा रहती आर्यन खान नव्या नवेली नंदा स्कूल पढ़ाई\n",
            "BLEU Score: 0.005308922777867427\n",
            "ROUGE Scores: {'rouge1': Score(precision=0.0, recall=0.0, fmeasure=0.0), 'rouge2': Score(precision=0.0, recall=0.0, fmeasure=0.0), 'rougeL': Score(precision=0, recall=0, fmeasure=0)}\n",
            "--------------------------------------------------\n",
            "True Summary: 100 समर्थकों के साथ पुलिस अधिकारी के आवास के बाहर पहुंचे थे विधायक हंगामे के दौरान मीडिया से की बात कुलदीप सेंगर ने कहा मैं कोई भगोड़ा नहीं हूं\n",
            "Predicted Summary: पूरे मामले जांच उत्तर प्रदेश सरकार गठित एसआईटी रही एसआईटी जांच आधार मामले पुलिस आरोपी विधायक कुलदीप सिंह सेंगर खिलाफ मामला दर्ज सकती\n",
            "BLEU Score: 0.012642350876107449\n",
            "ROUGE Scores: {'rouge1': Score(precision=0.0, recall=0.0, fmeasure=0.0), 'rouge2': Score(precision=0.0, recall=0.0, fmeasure=0.0), 'rougeL': Score(precision=0, recall=0, fmeasure=0)}\n",
            "--------------------------------------------------\n",
            "True Summary: ज़ाकिर नाइक के 78 बैंक खातों की एनआईए जांच कर रही है नाइक के एनजीओ से जुड़े 23 लोगों से भी पूछताछ की जा रही है धर्म के नाम पर विदेशी चंदा जुटाने और लोगों को भड़काने का आरोप\n",
            "Predicted Summary: विवादित इस्लामिक प्रचारक ज़ाकिर नाइक गैर सरकारी संगठन इस्लामिक रिसर्च फाउंडेशन आईआरएफ भारत सरकार शिकंजा कसता नाइक पुछताछ एनआईए पुख्ता सबूत जुटा जल्द समन भेजे जाएंगे एनआईए दावा इस्लामिक उपदेशक एनजीओ रियल एस्टेट करीब 100 करोड़ रुपये निवेश निवेश मुंबई आसपास इलाकों जांच एजेंसी बताया ज़ाकिर 78 बैंक खातों नज़र रखी रही एजेंसी कहना पूरे मामले जांच जारी महीने जांच पूरी लेगी जांच खत्म ज़ाकिर पेश समन भेजा जाएगा बता दें बीते साल नाइक ठिकानों छापेमारी एनआईए नाइक इस्लामिक रिसर्च फाउंडेशन आईआरएफ वेबसाइट्स ब्लॉक अलावा फाउंडेशन खिलाफ दर्ज मामले 10 स्थानों छापेमारी गई टिप्पणियां गृह मंत्रालय मानना नाइक भाषण भारत अनेकता एकता सोच विरुद्ध विचारों समाज बांटने कोशिश मुस्लिम युवाओं विदेशी युवाओं आतंकी बनने प्रेरणा दे फिलहाल प्रवर्तन निदेशालय ईडी ख़िलाफ़ मामला दर्ज एनआईए दावा इस्लामिक उपदेशक एनजीओ रियल एस्टेट करीब 100 करोड़ रुपये निवेश निवेश मुंबई आसपास इलाकों जांच एजेंसी बताया ज़ाकिर 78 बैंक खातों नज़र रखी रही एजेंसी कहना पूरे मामले जांच जारी महीने जांच पूरी लेगी जांच खत्म ज़ाकिर पेश समन भेजा जाएगा बता दें बीते साल नाइक ठिकानों छापेमारी एनआईए नाइक इस्लामिक रिसर्च फाउंडेशन आईआरएफ वेबसाइट्स ब्लॉक अलावा फाउंडेशन खिलाफ दर्ज मामले 10 स्थानों छापेमारी गई टिप्पणियां गृह मंत्रालय मानना नाइक भाषण भारत अनेकता एकता सोच विरुद्ध विचारों समाज बांटने कोशिश मुस्लिम युवाओं विदेशी युवाओं आतंकी बनने प्रेरणा दे फिलहाल प्रवर्तन निदेशालय ईडी ख़िलाफ़ मामला दर्ज बता दें बीते साल नाइक ठिकानों छापेमारी एनआईए नाइक इस्लामिक रिसर्च फाउंडेशन आईआरएफ वेबसाइट्स ब्लॉक अलावा फाउंडेशन खिलाफ दर्ज मामले 10 स्थानों छापेमारी गई टिप्पणियां गृह मंत्रालय मानना नाइक भाषण भारत अनेकता एकता सोच विरुद्ध विचारों समाज बांटने कोशिश मुस्लिम युवाओं विदेशी युवाओं आतंकी बनने प्रेरणा दे फिलहाल प्रवर्तन निदेशालय ईडी ख़िलाफ़ मामला दर्ज गृह मंत्रालय मानना नाइक भाषण भारत अनेकता एकता सोच विरुद्ध विचारों समाज बांटने कोशिश मुस्लिम युवाओं विदेशी युवाओं आतंकी बनने प्रेरणा दे फिलहाल प्रवर्तन निदेशालय ईडी ख़िलाफ़ मामला दर्ज\n",
            "BLEU Score: 0.0070635215842600185\n",
            "ROUGE Scores: {'rouge1': Score(precision=0.14285714285714285, recall=0.5, fmeasure=0.22222222222222224), 'rouge2': Score(precision=0.0, recall=0.0, fmeasure=0.0), 'rougeL': Score(precision=0.14285714285714285, recall=0.5, fmeasure=0.22222222222222224)}\n",
            "--------------------------------------------------\n",
            "True Summary: राष्ट्रपति प्रतिभा पाटील रविवार सुबह सेशेल्स और दक्षिण अफ्रीका के नौ दिवसीय दौरे पर रवाना हुईं. वह दोनों देशों में अपने समकक्षों के साथ द्विपक्षीय क्षेत्रीय एवं अंतरराष्ट्रीय मुद्दों पर विचार विमर्श करेंगी.\n",
            "Predicted Summary: राष्ट्रपति प्रतिभा पाटील रविवार सुबह सेशेल्स दक्षिण अफ्रीका नौ दिवसीय दौरे रवाना हुईं. राष्ट्रपति पाटील सेशेल्स मंगलवार दक्षिण अफ्रीका रवाना होंगी.\n",
            "BLEU Score: 0.18775095542450115\n",
            "ROUGE Scores: {'rouge1': Score(precision=0.0, recall=0.0, fmeasure=0.0), 'rouge2': Score(precision=0.0, recall=0.0, fmeasure=0.0), 'rougeL': Score(precision=0, recall=0, fmeasure=0)}\n",
            "--------------------------------------------------\n",
            "True Summary: कहा जब संसद नहीं चल रही हो तो अपने क्षेत्र में लगातार जनता के बीच रहें क्षेत्र की समस्याओं का मंत्रियों और अफसरों से मुलाकात कर समाधान करें क्षेत्र के बीजेपी कार्यकर्ताओं के साथ मिलकर पार्टी के कार्यक्रम करते रहें\n",
            "Predicted Summary: उन्होंने क्षेत्रों समस्याओं लेकर केंद्रीय मंत्रियों अधिकारियों मुलाकात समस्याओं समाधान केंद्र सरकार गरीब कल्याण योजनाओं पार्टी कार्यकर्ताओं मिलकर गरीब जनता उसका लाभ ज़्यादा ज़्यादा मिले काम पीएम मोदी सांसदों समय समय क्षेत्र कार्यकर्ताओं मिलकर पार्टी कार्यक्रम रहें प्रधानमंत्री नरेंद्र मोदी आने दिनो प्रकार एससी एसटी महिला युवा सांसदों अलग अलग समूहों मुलाकात करेंगे पीएम मोदी 16वीं लोकसभा दौरान तीन तीन राज्यों लोकसभा राज्यसभा सांसदों मुलाकात\n",
            "BLEU Score: 0.015584061329189653\n",
            "ROUGE Scores: {'rouge1': Score(precision=0.0, recall=0.0, fmeasure=0.0), 'rouge2': Score(precision=0.0, recall=0.0, fmeasure=0.0), 'rougeL': Score(precision=0, recall=0, fmeasure=0)}\n",
            "--------------------------------------------------\n",
            "True Summary: सलमान खान दिखे बुजुर्ग के गेटअप में उनकी तस्वीर हुई वायरल फिल्म भारत में है उनका यह लुक\n",
            "Predicted Summary: Jitne safed baal mere sar aur dhaadi mein hain usse kahin zyada rangeen meri zindagi rahi hain Bharat Bharat_TheFilm aliabbaszafar atulreellife itsBhushanKumar KatrinaKaif Tabu bindasbhidu DishPatani WhoSunilGrover nikhilnamit ReelLifeProdn SKFilmsOfficial TSeriespic twitter com kHaz7kzkXu सलमान खान Salman Khan तस्वीर ट्वीट लिखा जितने सफेद बाल मेरे सिर दाढ़ी उससे ज्यादा कहीं ज्यादा रंगीन मेरी जिंदगी रही सलमान खान कैप्शन तस्वीर शेयर ती तस्वीर अब सोशल मीडिया खूब धूम मचा रही उन्होंने तस्वीर शेयर कैटरीना कैफ दिशा पटानी सुनील ग्रोवर तब्बू अली जफर सितारों टैग इससे फिल्म छोटा सा टीजर रिलीज लोगों खूब पसंद सलमान खान Salman Khan अलावा फिल्म कैटरीना कैफ Katrina Kaif दिशा पटानी Disha Patani सुनील ग्रोवर Sunil Grover तब्बू Tabu सितारें मुख्य भूमिका फिल्म भारत Bharat अली अब्बास जफर डायरेक्ट फेवरिट डायरेक्टर दोनों सुपरहिट फिल्में देते आए बार दोनों नया कोशिश फिल्म लेकर मीडिया रिपोर्ट्स दावा भारत कोरियन फिल् म Ode To My Father हिंदी रीमेक\n",
            "BLEU Score: 0.007215749086116229\n",
            "ROUGE Scores: {'rouge1': Score(precision=0.0, recall=0.0, fmeasure=0.0), 'rouge2': Score(precision=0.0, recall=0.0, fmeasure=0.0), 'rougeL': Score(precision=0, recall=0, fmeasure=0)}\n",
            "--------------------------------------------------\n",
            "True Summary: फरवरी में इटली के इस जहाज का अपहरण किया गया था जिसमें पांच इटली के रहने वाले और 17 भारतीय थे.\n",
            "Predicted Summary: रोम सोमालियाई समुद्री लुटेरों इटली तेल भरे जहाज 11 महीने रिहा दिया.\n",
            "BLEU Score: 0.011260108862655755\n",
            "ROUGE Scores: {'rouge1': Score(precision=0.0, recall=0.0, fmeasure=0.0), 'rouge2': Score(precision=0.0, recall=0.0, fmeasure=0.0), 'rougeL': Score(precision=0.0, recall=0.0, fmeasure=0.0)}\n",
            "--------------------------------------------------\n",
            "True Summary: पहले अमेरिका भारत पश्चिम तटीय शिखर सम्मेलन में जुटे दोनों देशों के 300 से अधिक प्रमुख उद्योगपतियों ने दोनों देशों के बीच मौजूदा और भावी सहयोग में उपस्थित अपार सम्भावनाओं को रेखांकित किया है.\n",
            "Predicted Summary: अमेरिका भारत पश्चिम तटीय शिखर सम्मेलन जुटे दोनों देशों 300 अधिक प्रमुख उद्योगपतियों दोनों देशों बीच मौजूदा भावी सहयोग उपस्थित अपार सम्भावनाओं रेखांकित है. यूएसआईबीसी अनुसार बिल्डिंग ब्रिजेज फोस्टरिंग इनोवेशन शीर्षक वाला सम्मेलन भारत अमेरिका सम्बंधों असर डालने अति महत्वपूर्ण राजनीतिक आर्थिक मुद्दों तथा प्रौद्योगिकी उन्नयन नवीकरणीय ऊर्जा तथा व्यापार निवेश केंद्रित था. यूएसआईबीसी अनुसार बिल्डिंग ब्रिजेज फोस्टरिंग इनोवेशन शीर्षक वाला सम्मेलन भारत अमेरिका सम्बंधों असर डालने अति महत्वपूर्ण राजनीतिक आर्थिक मुद्दों तथा प्रौद्योगिकी उन्नयन नवीकरणीय ऊर्जा तथा व्यापार निवेश केंद्रित था. यूएसआईबीसी अनुसार बिल्डिंग ब्रिजेज फोस्टरिंग इनोवेशन शीर्षक वाला सम्मेलन भारत अमेरिका सम्बंधों असर डालने अति महत्वपूर्ण राजनीतिक आर्थिक मुद्दों तथा प्रौद्योगिकी उन्नयन नवीकरणीय ऊर्जा तथा व्यापार निवेश केंद्रित था. अमेरिका भारत व्यापार परिषद यूएसआईबीसी फेडरेशन ऑफ इंडियन चैम्बर्स ऑफ कामर्स एंड इंडस्ट्री फिक्की सप्ताहांत सिलिकॉन वैली आयोजित शिखर सम्मेलन दोनों देशों व्यापार नीति जुड़ी प्रमुख हस्तियों हिस्सा लिया. अमेरिका भारत व्यापार परिषद यूएसआईबीसी फेडरेशन ऑफ इंडियन चैम्बर्स ऑफ कामर्स एंड इंडस्ट्री फिक्की सप्ताहांत सिलिकॉन वैली आयोजित शिखर सम्मेलन दोनों देशों व्यापार नीति जुड़ी प्रमुख हस्तियों हिस्सा लिया.\n",
            "BLEU Score: 0.05471854070899321\n",
            "ROUGE Scores: {'rouge1': Score(precision=1.0, recall=1.0, fmeasure=1.0), 'rouge2': Score(precision=0.0, recall=0.0, fmeasure=0.0), 'rougeL': Score(precision=1.0, recall=1.0, fmeasure=1.0)}\n",
            "--------------------------------------------------\n",
            "True Summary: हुंदै मोटर इंडिया अपने वाहनों की कीमत 1 फरवरी से 20 000 रुपये तक बढ़ाएगी. यह वृद्धि कंपनी के सभी मॉडलों के लिए होगी.\n",
            "Predicted Summary: वृद्धि कंपनी मॉडलों होगी.टिप्पणियां हुंदै मोटर इंडिया उपाध्यक्ष राकेश श्रीवास्तव ब्रिकी मुद्रा उतार चढ़ाव तथा लागत खर्च बढ़ने कारण हम फरवरी 2013 दाम 20 000 रुपये वृद्धि करेंगे.\n",
            "BLEU Score: 0.09074529648809726\n",
            "ROUGE Scores: {'rouge1': Score(precision=0.6666666666666666, recall=0.6666666666666666, fmeasure=0.6666666666666666), 'rouge2': Score(precision=0.5, recall=0.5, fmeasure=0.5), 'rougeL': Score(precision=0.6666666666666666, recall=0.6666666666666666, fmeasure=0.6666666666666666)}\n",
            "--------------------------------------------------\n",
            "True Summary: इस अयोजन में राष्ट्रपति भवन सहित कई इमारतों में एक घंटे के लिए बत्तियां बुझा दी जाएंगी. जनता से इस आयोजन को सफल बनाने की अपील की गई है.\n",
            "Predicted Summary: दुनियाभर शहरों सहित दिल्ली शनिवार शाम अर्थ ऑवर मनाया जाएगा. आपको वास्तव पृथ्वी परवाह ऊर्जा बचाने जलवायु परिवर्तन निपटने चाहते अर्थ ऑवर दौरान रात 8 30 बजे 9 30 बजे बिजली बंद रखें.\n",
            "BLEU Score: 0.008588486560503192\n",
            "ROUGE Scores: {'rouge1': Score(precision=0.0, recall=0.0, fmeasure=0.0), 'rouge2': Score(precision=0.0, recall=0.0, fmeasure=0.0), 'rougeL': Score(precision=0, recall=0, fmeasure=0)}\n",
            "--------------------------------------------------\n",
            "True Summary: गुजरात के मुख्यमंत्री नरेंद्र मोदी ने कहा कि उत्तराखंड पर जो प्राकृतिक विपदा आई है वह राष्ट्रीय आपदा जैसी है. उन्होंने कहा हम इस संकट से निबटने में राज्य सरकार को जो भी मदद कर सकते हैं करेंगे.\n",
            "Predicted Summary: हम संकट निबटने राज्य सरकार मदद करेंगे.टिप्पणियां नरेंद्र मोदी उत्तराखंड प्रभावित क्षेत्रों दौरा पहुंचे हैं. नरेंद्र मोदी उत्तराखंड प्रभावित क्षेत्रों दौरा पहुंचे हैं.\n",
            "BLEU Score: 0.023530336929484294\n",
            "ROUGE Scores: {'rouge1': Score(precision=0.0, recall=0.0, fmeasure=0.0), 'rouge2': Score(precision=0.0, recall=0.0, fmeasure=0.0), 'rougeL': Score(precision=0, recall=0, fmeasure=0)}\n",
            "--------------------------------------------------\n",
            "True Summary: पुणे वॉरियर्स के कोच ज्यौफ मार्श ने कहा कि डेक्कन चार्जर्स के खिलाफ मंगलवार को आईपीएल मैच से पहले सौरव गांगुली काफी नर्वस थे.\n",
            "Predicted Summary: पुणे वॉरियर्स कोच ज्यौफ मार्श डेक्कन चार्जर्स खिलाफ मंगलवार आईपीएल मैच सौरव गांगुली काफी नर्वस थे.\n",
            "BLEU Score: 0.25094849418027587\n",
            "ROUGE Scores: {'rouge1': Score(precision=0.0, recall=0.0, fmeasure=0.0), 'rouge2': Score(precision=0.0, recall=0.0, fmeasure=0.0), 'rougeL': Score(precision=0, recall=0, fmeasure=0)}\n",
            "--------------------------------------------------\n",
            "True Summary: संयुक्त राष्ट्र महासचिव बान की मून ने पाक के पश्चिमोत्तर इलाके में स्थित एक सैन्य प्रशिक्षण केंद्र में हुए आत्मघाती हमले की कड़ी निंदा की है.\n",
            "Predicted Summary: संयुक्त राष्ट्र महासचिव बान मून पाकिस्तान पश्चिमोत्तर इलाके स्थित सैन्य प्रशिक्षण केंद्र गुरुवार आत्मघाती हमले कड़ी निंदा है.\n",
            "BLEU Score: 0.17241691467157988\n",
            "ROUGE Scores: {'rouge1': Score(precision=0.0, recall=0.0, fmeasure=0.0), 'rouge2': Score(precision=0.0, recall=0.0, fmeasure=0.0), 'rougeL': Score(precision=0, recall=0, fmeasure=0)}\n",
            "--------------------------------------------------\n",
            "True Summary: बेंगलुरू में नए साल की रात हुई छेड़खानी पर पीड़िता ने सुनाई आपबीती पीड़िता ने छेड़खानी करने वाले को पीटा तो लोगों ने उसका बचाव किया बेंगलुरू की शर्मनाक घटना की हो रही है चारों तरफ कड़ी निंदा\n",
            "Predicted Summary: वक्त बेंगलुरू शहर नए साल प्रवेश जश्न मना चैताली वासनिक रात लगभग 1 30 बजे दफ्तर लौट रही थीं सी अन्य लड़कियां लौटती रास्ते चैताली देखा पुरुष घूरते सामने दिशा रास्ते आ उसने वही आमतौर लड़कियां करती कोने गई ताकि जाने रास्ता मिल सके मंगलवार रात NDTV बातचीत चैताली बताया मैंने घूरते देखा किनारे तरफ गई मैंने जाने रास्ता दे उनमें मुझे अचानक दबोचा मुझे कतई अदाज़ा ऐसा समझ आया चैताली हिसाब कहीं ज़्यादा अविश्वसनीय चैताली मुझए एहसास क्या करके चला तुरंत पीछे लपकी मारना शुरू ताकि गुस्से बाहर निकाल सकूं देर 15 20 पुरुष इकट्ठे गए उन्होंने छेड़खानी पिटाई मुझे रोकने कोशिश मुझे गुस्सा आया लोग मुझसे छेड़खानी बचा क्यों कह नया साल ऐसा रहता जाने वैसे चैताली पश्चिमी बेंगलुरू इंदिरानगर वही सब शहर शानदार कमर्शियल इलाका माने जाने एमजी रोड सी लड़कियों महिलाओं घटा हज़ारों लोग नए साल जश्न मनाने एकत्र शराब नशे धुत युवकों लड़कियों दबोचा छेड़ा फब्तियां कसीं पीछा 45 सिक्योरिटी कैमरों हरकतें रिकॉर्ड हुईं सोशल मीडिया जारी फुटेज महिलाओं रोते मदद पुकारते देखा तीन दिन जनता आक्रोश समझने पुलिस मंगलवार रात घटनाओं ठोस सबूत हासिल टिप्पणियां बीच जनता गुस्सा कर्नाटक गृहमंत्री जी परमेश्वर बयान ज़्यादा भड़क उठा जिसमें उन्होंने ऐसी बातें रहती उन्होंने सड़कों गश्त रहने 10 000 पुलिस तैनात मुमकिन गृहमंत्री बताया भीड़ नज़र रखने यातायात सुचारु रखने नए साल पूर्व संध्या 1 500 पुलिसकर्मियों तैनात चैताली NDTV बताया हर जगह तलाश रही मुझे पुलिसवाला मिला लगभग पांच 10 पुलिस मौजूद उन्होंने आकर पूछा क्या आपकी समस्या क्या मंगलवार रात NDTV बातचीत चैताली बताया मैंने घूरते देखा किनारे तरफ गई मैंने जाने रास्ता दे उनमें मुझे अचानक दबोचा मुझे कतई अदाज़ा ऐसा समझ आया चैताली हिसाब कहीं ज़्यादा अविश्वसनीय चैताली मुझए एहसास क्या करके चला तुरंत पीछे लपकी मारना शुरू ताकि गुस्से बाहर निकाल सकूं देर 15 20 पुरुष इकट्ठे गए उन्होंने छेड़खानी पिटाई मुझे रोकने कोशिश मुझे गुस्सा आया लोग मुझसे छेड़खानी बचा क्यों कह नया साल ऐसा रहता जाने वैसे चैताली पश्चिमी बेंगलुरू इंदिरानगर वही सब शहर शानदार कमर्शियल इलाका माने जाने एमजी रोड सी लड़कियों महिलाओं घटा हज़ारों लोग नए साल जश्न मनाने एकत्र शराब नशे धुत युवकों लड़कियों दबोचा छेड़ा फब्तियां कसीं पीछा 45 सिक्योरिटी कैमरों हरकतें रिकॉर्ड हुईं सोशल मीडिया जारी फुटेज महिलाओं रोते मदद पुकारते देखा तीन दिन जनता आक्रोश समझने पुलिस मंगलवार रात घटनाओं ठोस सबूत हासिल टिप्पणियां बीच जनता गुस्सा कर्नाटक गृहमंत्री जी परमेश्वर बयान ज़्यादा भड़क उठा जिसमें उन्होंने ऐसी बातें रहती उन्होंने सड़कों गश्त रहने 10 000 पुलिस तैनात मुमकिन गृहमंत्री बताया भीड़ नज़र रखने यातायात सुचारु रखने नए साल पूर्व संध्या 1 500 पुलिसकर्मियों तैनात चैताली NDTV बताया हर जगह तलाश रही मुझे पुलिसवाला मिला लगभग पांच 10 पुलिस मौजूद उन्होंने आकर पूछा क्या आपकी समस्या क्या चैताली हिसाब कहीं ज़्यादा अविश्वसनीय चैताली मुझए एहसास क्या करके चला तुरंत पीछे लपकी मारना शुरू ताकि गुस्से बाहर निकाल सकूं देर 15 20 पुरुष इकट्ठे गए उन्होंने छेड़खानी पिटाई मुझे रोकने कोशिश मुझे गुस्सा आया लोग मुझसे छेड़खानी बचा क्यों कह नया साल ऐसा रहता जाने वैसे चैताली पश्चिमी बेंगलुरू इंदिरानगर वही सब शहर शानदार कमर्शियल इलाका माने जाने एमजी रोड सी लड़कियों महिलाओं घटा हज़ारों लोग नए साल जश्न मनाने एकत्र शराब नशे धुत युवकों लड़कियों दबोचा छेड़ा फब्तियां कसीं पीछा 45 सिक्योरिटी कैमरों हरकतें रिकॉर्ड हुईं सोशल मीडिया जारी फुटेज महिलाओं रोते मदद पुकारते देखा तीन दिन जनता आक्रोश समझने पुलिस मंगलवार रात घटनाओं ठोस सबूत हासिल टिप्पणियां बीच जनता गुस्सा कर्नाटक गृहमंत्री जी परमेश्वर बयान ज़्यादा भड़क उठा जिसमें उन्होंने ऐसी बातें रहती उन्होंने सड़कों गश्त रहने 10 000 पुलिस तैनात मुमकिन गृहमंत्री बताया भीड़ नज़र रखने यातायात सुचारु रखने नए साल पूर्व संध्या 1 500 पुलिसकर्मियों तैनात चैताली NDTV बताया हर जगह तलाश रही मुझे पुलिसवाला मिला लगभग पांच 10 पुलिस मौजूद उन्होंने आकर पूछा क्या आपकी समस्या क्या वैसे चैताली पश्चिमी बेंगलुरू इंदिरानगर वही सब शहर शानदार कमर्शियल इलाका माने जाने एमजी रोड सी लड़कियों महिलाओं घटा हज़ारों लोग नए साल जश्न मनाने एकत्र शराब नशे धुत युवकों लड़कियों दबोचा छेड़ा फब्तियां कसीं पीछा 45 सिक्योरिटी कैमरों हरकतें रिकॉर्ड हुईं सोशल मीडिया जारी फुटेज महिलाओं रोते मदद पुकारते देखा तीन दिन जनता आक्रोश समझने पुलिस मंगलवार रात घटनाओं ठोस सबूत हासिल टिप्पणियां बीच जनता गुस्सा कर्नाटक गृहमंत्री जी परमेश्वर बयान ज़्यादा भड़क उठा जिसमें उन्होंने ऐसी बातें रहती उन्होंने सड़कों गश्त रहने 10 000 पुलिस तैनात मुमकिन गृहमंत्री बताया भीड़ नज़र रखने यातायात सुचारु रखने नए साल पूर्व संध्या 1 500 पुलिसकर्मियों तैनात चैताली NDTV बताया हर जगह तलाश रही मुझे पुलिसवाला मिला लगभग पांच 10 पुलिस मौजूद उन्होंने आकर पूछा क्या आपकी समस्या क्या बीच जनता गुस्सा कर्नाटक गृहमंत्री जी परमेश्वर बयान ज़्यादा भड़क उठा जिसमें उन्होंने ऐसी बातें रहती उन्होंने सड़कों गश्त रहने 10 000 पुलिस तैनात मुमकिन गृहमंत्री बताया भीड़ नज़र रखने यातायात सुचारु रखने नए साल पूर्व संध्या 1 500 पुलिसकर्मियों तैनात चैताली NDTV बताया हर जगह तलाश रही मुझे पुलिसवाला मिला लगभग पांच 10 पुलिस मौजूद उन्होंने आकर पूछा क्या आपकी समस्या क्या चैताली NDTV बताया हर जगह तलाश रही मुझे पुलिसवाला मिला लगभग पांच 10 पुलिस मौजूद उन्होंने आकर पूछा क्या आपकी समस्या क्या\n",
            "BLEU Score: 0.0014412579379780338\n",
            "ROUGE Scores: {'rouge1': Score(precision=0.0, recall=0.0, fmeasure=0.0), 'rouge2': Score(precision=0.0, recall=0.0, fmeasure=0.0), 'rougeL': Score(precision=0, recall=0, fmeasure=0)}\n",
            "--------------------------------------------------\n",
            "True Summary: फिलहाल इस योजना को 25 गांवों में आज़माया जा चुका है इस प्रोजेक्ट को ब्रसेल्स में हुए इनोवेशन चैलेंज में 82 लाख का इनाम मिला दावा है कि इससे कम खर्चे में 5जी भी इस्तेमाल में लाया जा सकता है\n",
            "Predicted Summary: देश हर गांव बिना ऑप्टिक फाइबर जाल इंटरनेट पहुंचाने सपना आईआईटी बॉम्बे छात्रों 5 सालों मेहनत भारत गांव ब्रॉडबैंड नेटवर्क जुड़ने सपना देख दुनिया प्रयोग सराहा Mozilla इंटरनेट प्रतियोगिता 27 देशों 100 परियोजनाओं पछाड़ते ग्राम मार्ग नाम प्रोजेक्ट पहला स्थान जीता आईआईटी बॉम्बे कोशिश इंटरनेट जरिये शहर ग्राम मार्ग पहुंचने मेहनत शुरू 2012 फैकल् टी अफेयर्स डीन प्रोफेसर अभय करंदीकर बताया उन्होंने अनुसंधान पाया दूरदर्शन पास टीवी व् हाइट स् पेस स्पेक्ट्रम खाली पड़ा जिसका वो इस्तेमाल स्पेक्ट्रम इस्तेमाल तैयार छोटा सा वाईफाई उपकरण TVWS डिवाइस जिसने सपनों पंख दे दिये डिवाइस IEEE 802 11 a b g वायरलेस बोर्ड आरएफ कार्ड जुड़ा कार्ड 2 4 GHz फ्रीक्वेंसी TV UHF बदल देता TV White Space जोड़ हर गांव बेहद कम खर्च बगैर बड़े तकनीकी तामझाम इंटरनेट पहुंचाया बड़ी बात उपकरणों सोलर पैनल बिजली मिलती परियोजना बड़ी चुनौती ईंधन वजह ऑपरेशनल खर्चों रोकना टिप्पणियां 25 छात्रों टीम दिन रात मेहनत रही फिलहाल योजना 25 गांवों आज़माया चुका दावा इससे कम खर्चे 5जी इस्तेमाल लाया प्रोजेक्ट जुड़े जसप्रीत कहना वो चाहते शोध सस्ता बनाया जाए ताकि हर गांव इंटनरेट लोगों पहुंच परियोजना आई दिक्कतों बारे मेघना फ्रीक्वेंसी बारे जानकारी जुटाना मुश्किल हमने आरटीआई ज़रिये हासिल गांव लोगों समझाना चुनौती प्रोजेक्ट ब्रसेल्स इनोवेशन चैलेंज 82 लाख इनाम मिला टीम रकम परियोजना बेहतर बनाने इस्तेमाल करेगी परियोजना पब्लिक प्राइवेट पंचायत पार्टनरशिप मॉडल तहत डेवलप जाएगा कोशिश देश 6 40 000 गांवों तहत जोड़ने ताकि डिजिटल इंडिया सपने हकीकत बदला सके डिवाइस IEEE 802 11 a b g वायरलेस बोर्ड आरएफ कार्ड जुड़ा कार्ड 2 4 GHz फ्रीक्वेंसी TV UHF बदल देता TV White Space जोड़ हर गांव बेहद कम खर्च बगैर बड़े तकनीकी तामझाम इंटरनेट पहुंचाया बड़ी बात उपकरणों सोलर पैनल बिजली मिलती परियोजना बड़ी चुनौती ईंधन वजह ऑपरेशनल खर्चों रोकना टिप्पणियां 25 छात्रों टीम दिन रात मेहनत रही फिलहाल योजना 25 गांवों आज़माया चुका दावा इससे कम खर्चे 5जी इस्तेमाल लाया प्रोजेक्ट जुड़े जसप्रीत कहना वो चाहते शोध सस्ता बनाया जाए ताकि हर गांव इंटनरेट लोगों पहुंच परियोजना आई दिक्कतों बारे मेघना फ्रीक्वेंसी बारे जानकारी जुटाना मुश्किल हमने आरटीआई ज़रिये हासिल गांव लोगों समझाना चुनौती प्रोजेक्ट ब्रसेल्स इनोवेशन चैलेंज 82 लाख इनाम मिला टीम रकम परियोजना बेहतर बनाने इस्तेमाल करेगी परियोजना पब्लिक प्राइवेट पंचायत पार्टनरशिप मॉडल तहत डेवलप जाएगा कोशिश देश 6 40 000 गांवों तहत जोड़ने ताकि डिजिटल इंडिया सपने हकीकत बदला सके 25 छात्रों टीम दिन रात मेहनत रही फिलहाल योजना 25 गांवों आज़माया चुका दावा इससे कम खर्चे 5जी इस्तेमाल लाया प्रोजेक्ट जुड़े जसप्रीत कहना वो चाहते शोध सस्ता बनाया जाए ताकि हर गांव इंटनरेट लोगों पहुंच परियोजना आई दिक्कतों बारे मेघना फ्रीक्वेंसी बारे जानकारी जुटाना मुश्किल हमने आरटीआई ज़रिये हासिल गांव लोगों समझाना चुनौती प्रोजेक्ट ब्रसेल्स इनोवेशन चैलेंज 82 लाख इनाम मिला टीम रकम परियोजना बेहतर बनाने इस्तेमाल करेगी परियोजना पब्लिक प्राइवेट पंचायत पार्टनरशिप मॉडल तहत डेवलप जाएगा कोशिश देश 6 40 000 गांवों तहत जोड़ने ताकि डिजिटल इंडिया सपने हकीकत बदला सके प्रोजेक्ट ब्रसेल्स इनोवेशन चैलेंज 82 लाख इनाम मिला टीम रकम परियोजना बेहतर बनाने इस्तेमाल करेगी परियोजना पब्लिक प्राइवेट पंचायत पार्टनरशिप मॉडल तहत डेवलप जाएगा कोशिश देश 6 40 000 गांवों तहत जोड़ने ताकि डिजिटल इंडिया सपने हकीकत बदला सके\n",
            "BLEU Score: 0.0058216887493847186\n",
            "ROUGE Scores: {'rouge1': Score(precision=0.05084745762711865, recall=1.0, fmeasure=0.0967741935483871), 'rouge2': Score(precision=0.0, recall=0.0, fmeasure=0.0), 'rougeL': Score(precision=0.05084745762711865, recall=1.0, fmeasure=0.0967741935483871)}\n",
            "--------------------------------------------------\n",
            "True Summary: उत्तर भारत में लगातार पारा 40 के पार रहने के कारण लोग भीषण गर्मी का सामना कर रहे हैं. तेज धूप के साथ लू ने लोगों का जीना मुहाल कर दिया है.\n",
            "Predicted Summary: उत्तर भारत लगातार पारा 40 पार रहने कारण लोग भीषण गर्मी सामना हैं. राजधानी पटना समेत बिहार भीषण लू गर्मी चपेट है. राजधानी पटना समेत बिहार भीषण लू गर्मी चपेट है. राजधानी पटना समेत बिहार भीषण लू गर्मी चपेट है. राजधानी पटना समेत बिहार भीषण लू गर्मी चपेट है. राजधानी पटना समेत बिहार भीषण लू गर्मी चपेट है. राजधानी पटना समेत बिहार भीषण लू गर्मी चपेट है. उत्तर प्रदेश भीषण गर्मी दौर जारी है. उत्तर प्रदेश भीषण गर्मी दौर जारी है. उत्तर प्रदेश भीषण गर्मी दौर जारी है. इधर भीषण गर्मी देखते राजधानी विद्यालय बंद दिये गये हैं.\n",
            "BLEU Score: 0.043659572243514626\n",
            "ROUGE Scores: {'rouge1': Score(precision=1.0, recall=1.0, fmeasure=1.0), 'rouge2': Score(precision=0.0, recall=0.0, fmeasure=0.0), 'rougeL': Score(precision=1.0, recall=1.0, fmeasure=1.0)}\n",
            "--------------------------------------------------\n",
            "True Summary: दीवाली धन धना धन ऑफर लेकर आया है रिलायंस जियो कैशबैक वाउचर के रूप में मिलेगा 50 रुपये के 8 वाउचर मिलेंगे जिनका यूज कर सकेंगे\n",
            "Predicted Summary: रिलायंस जियो Reliance Jio दीवाली ग्राहकों खास तोहफा लेकर आया 399 रुपये रीचार्ज करवाइए 100 फीसदी कैशबैक पाइए कंपनी बाबत सूचना देते ऑफर 12 18 अक्टूबर बीच वैलिड जियो ऑफर दीवाली धन धना धन ऑफर पढ़ें रिलायंस जियो 4जी सिम इस्तेमाल स्पीड बढ़ाने काम डालिए कैशबैक वाउचर रूप मिलेगा रीचार्ज करवाते समय इस्तेमाल गुरुवार यानी आज शुरू ऑफर मियाद दिवाली दिन पूर्व खत्म जाएगी बीच चार्ज करवाने 50 रुपये 8 वाउचर मिलेंगे वाउचर्स फायदा भविष्य 309 रुपये उससे ज्यादा रिचार्ज 91 रुपये उससे ज्यादा डेटा वाला रिचार्ज कराने उठाया बार केवल वाउचर उपयोग 15 नवंबर आपने 50 रुपये वाउचर पाने भविष्य 309 रुपये रिचार्ज आपको केवल 259 रुपये भुगतान होगा जिनकी वैलिडिटी बची प्रयोग 399 रुपये रिचार्ज लाभ चल रिचार्ज वैलिडिटी खत्म मिलेगी ऑफर्स माई जियो ऐप जियो वेबसाइट जियो स्टोर्स रिलायंस डिजिटल स्टोर उपलब्ध कराया बता दें देश दूरसंचार कंपनियों 4जी इंटरनेट सेवाओं डाउनलोड स्पीड हिसाब अगस्त महीने रिलायंस जियो बार अव्वल रही दूरसंचार नियामक ट्राई आंकड़ों अनुसार अगस्त महीने जियो नेटवर्क डाउनलोड स्पीड 18 43 एमबीपीएस रही निकटतम प्रतिद्वद्वियों लगभग दोगुनी ट्राई मायस्पीड ऐप मिले आंकड़ों आधार नेटवर्क स्पीड आकलन टिप्पणियां VIDEO जियो फोन कारणों स्मार्ट फीचर फोन अनुसार अगस्त महीने मोबाइल नेटवर्क डाउनलोड स्पीड हिसाब वोडाफोन 8 99 एमबीपीएस स्थान रही आइडिया नेटवर्क डाउनलोड स्पीड 8 74 एमबीपीएस आंकी गई तीसरे स्थान रही डाउनलोड स्पीड हिसाब एयरटेल चौथे स्थान रही जिसके नेटवर्क डाउनलोड स्पीड घटकर 8 55 एमबीपीएस रह गई पढ़ें रिलायंस जियो 4जी सिम इस्तेमाल स्पीड बढ़ाने काम डालिए कैशबैक वाउचर रूप मिलेगा रीचार्ज करवाते समय इस्तेमाल गुरुवार यानी आज शुरू ऑफर मियाद दिवाली दिन पूर्व खत्म जाएगी बीच चार्ज करवाने 50 रुपये 8 वाउचर मिलेंगे वाउचर्स फायदा भविष्य 309 रुपये उससे ज्यादा रिचार्ज 91 रुपये उससे ज्यादा डेटा वाला रिचार्ज कराने उठाया बार केवल वाउचर उपयोग 15 नवंबर आपने 50 रुपये वाउचर पाने भविष्य 309 रुपये रिचार्ज आपको केवल 259 रुपये भुगतान होगा जिनकी वैलिडिटी बची प्रयोग 399 रुपये रिचार्ज लाभ चल रिचार्ज वैलिडिटी खत्म मिलेगी ऑफर्स माई जियो ऐप जियो वेबसाइट जियो स्टोर्स रिलायंस डिजिटल स्टोर उपलब्ध कराया बता दें देश दूरसंचार कंपनियों 4जी इंटरनेट सेवाओं डाउनलोड स्पीड हिसाब अगस्त महीने रिलायंस जियो बार अव्वल रही दूरसंचार नियामक ट्राई आंकड़ों अनुसार अगस्त महीने जियो नेटवर्क डाउनलोड स्पीड 18 43 एमबीपीएस रही निकटतम प्रतिद्वद्वियों लगभग दोगुनी ट्राई मायस्पीड ऐप मिले आंकड़ों आधार नेटवर्क स्पीड आकलन टिप्पणियां VIDEO जियो फोन कारणों स्मार्ट फीचर फोन अनुसार अगस्त महीने मोबाइल नेटवर्क डाउनलोड स्पीड हिसाब वोडाफोन 8 99 एमबीपीएस स्थान रही आइडिया नेटवर्क डाउनलोड स्पीड 8 74 एमबीपीएस आंकी गई तीसरे स्थान रही डाउनलोड स्पीड हिसाब एयरटेल चौथे स्थान रही जिसके नेटवर्क डाउनलोड स्पीड घटकर 8 55 एमबीपीएस रह गई कैशबैक वाउचर रूप मिलेगा रीचार्ज करवाते समय इस्तेमाल गुरुवार यानी आज शुरू ऑफर मियाद दिवाली दिन पूर्व खत्म जाएगी बीच चार्ज करवाने 50 रुपये 8 वाउचर मिलेंगे वाउचर्स फायदा भविष्य 309 रुपये उससे ज्यादा रिचार्ज 91 रुपये उससे ज्यादा डेटा वाला रिचार्ज कराने उठाया बार केवल वाउचर उपयोग 15 नवंबर आपने 50 रुपये वाउचर पाने भविष्य 309 रुपये रिचार्ज आपको केवल 259 रुपये भुगतान होगा जिनकी वैलिडिटी बची प्रयोग 399 रुपये रिचार्ज लाभ चल रिचार्ज वैलिडिटी खत्म मिलेगी ऑफर्स माई जियो ऐप जियो वेबसाइट जियो स्टोर्स रिलायंस डिजिटल स्टोर उपलब्ध कराया बता दें देश दूरसंचार कंपनियों 4जी इंटरनेट सेवाओं डाउनलोड स्पीड हिसाब अगस्त महीने रिलायंस जियो बार अव्वल रही दूरसंचार नियामक ट्राई आंकड़ों अनुसार अगस्त महीने जियो नेटवर्क डाउनलोड स्पीड 18 43 एमबीपीएस रही निकटतम प्रतिद्वद्वियों लगभग दोगुनी ट्राई मायस्पीड ऐप मिले आंकड़ों आधार नेटवर्क स्पीड आकलन टिप्पणियां VIDEO जियो फोन कारणों स्मार्ट फीचर फोन अनुसार अगस्त महीने मोबाइल नेटवर्क डाउनलोड स्पीड हिसाब वोडाफोन 8 99 एमबीपीएस स्थान रही आइडिया नेटवर्क डाउनलोड स्पीड 8 74 एमबीपीएस आंकी गई तीसरे स्थान रही डाउनलोड स्पीड हिसाब एयरटेल चौथे स्थान रही जिसके नेटवर्क डाउनलोड स्पीड घटकर 8 55 एमबीपीएस रह गई बता दें देश दूरसंचार कंपनियों 4जी इंटरनेट सेवाओं डाउनलोड स्पीड हिसाब अगस्त महीने रिलायंस जियो बार अव्वल रही दूरसंचार नियामक ट्राई आंकड़ों अनुसार अगस्त महीने जियो नेटवर्क डाउनलोड स्पीड 18 43 एमबीपीएस रही निकटतम प्रतिद्वद्वियों लगभग दोगुनी ट्राई मायस्पीड ऐप मिले आंकड़ों आधार नेटवर्क स्पीड आकलन टिप्पणियां VIDEO जियो फोन कारणों स्मार्ट फीचर फोन अनुसार अगस्त महीने मोबाइल नेटवर्क डाउनलोड स्पीड हिसाब वोडाफोन 8 99 एमबीपीएस स्थान रही आइडिया नेटवर्क डाउनलोड स्पीड 8 74 एमबीपीएस आंकी गई तीसरे स्थान रही डाउनलोड स्पीड हिसाब एयरटेल चौथे स्थान रही जिसके नेटवर्क डाउनलोड स्पीड घटकर 8 55 एमबीपीएस रह गई VIDEO जियो फोन कारणों स्मार्ट फीचर फोन अनुसार अगस्त महीने मोबाइल नेटवर्क डाउनलोड स्पीड हिसाब वोडाफोन 8 99 एमबीपीएस स्थान रही आइडिया नेटवर्क डाउनलोड स्पीड 8 74 एमबीपीएस आंकी गई तीसरे स्थान रही डाउनलोड स्पीड हिसाब एयरटेल चौथे स्थान रही जिसके नेटवर्क डाउनलोड स्पीड घटकर 8 55 एमबीपीएस रह गई अनुसार अगस्त महीने मोबाइल नेटवर्क डाउनलोड स्पीड हिसाब वोडाफोन 8 99 एमबीपीएस स्थान रही आइडिया नेटवर्क डाउनलोड स्पीड 8 74 एमबीपीएस आंकी गई तीसरे स्थान रही डाउनलोड स्पीड हिसाब एयरटेल चौथे स्थान रही जिसके नेटवर्क डाउनलोड स्पीड घटकर 8 55 एमबीपीएस रह गई\n",
            "BLEU Score: 0.00762866437278946\n",
            "ROUGE Scores: {'rouge1': Score(precision=0.022727272727272728, recall=1.0, fmeasure=0.044444444444444446), 'rouge2': Score(precision=0.011494252873563218, recall=1.0, fmeasure=0.022727272727272724), 'rougeL': Score(precision=0.022727272727272728, recall=1.0, fmeasure=0.044444444444444446)}\n",
            "--------------------------------------------------\n",
            "True Summary: अजहर ने घंटी बजाकर की थी पहले टी20 मैच की शुरुआत मैच फिक्सिंग के आरोप में वे प्रतिबंधित किए जा चुके हैं गंभीर बोले टीम इंडिया जीती पर BCCI COA और CAB हारी\n",
            "Predicted Summary: India may have won today at Eden but I am sorry bcci CoA CAB lost Looks like the No Tolerance Policy against Corrupt takes a leave on Sundays I know he was allowed to contest HCA polls but then this is shocking The bell is ringing hope the powers that be are listening pic twitter com 0HKbp2Bs9r दूसरी गंभीर वर्ष 2007 टी20 वर्ल् डकप 2011 क्रिकेट वर्ल् डकप 50 ओवर जीतने वाली भारतीय टीम सदस् य रह चुके गौतम गंभीर भारत 58 टेस् ट 147 वनडे 37 टी20 इंटरनेशनल मैच खेल चुके टेस् ट मैच अब उन् होंने 4154 रन 9 शतक सर्वोच् च 206 वनडे इंटरनेशनल मैचों 5238 रन 11 शतक सर्वोच् च नाबाद 150 रन बनाए टी20 इंटरनेशनल गंभीर 932 रन बनाए 65 रन सर्वोच् च स् कोर गंभीर अंतिम इंटरनेशनल मैच टेस् ट रूप नवंबर 2016 खेला\n",
            "BLEU Score: 0.004115947990731807\n",
            "ROUGE Scores: {'rouge1': Score(precision=0.05333333333333334, recall=1.0, fmeasure=0.10126582278481014), 'rouge2': Score(precision=0.02702702702702703, recall=0.6666666666666666, fmeasure=0.051948051948051945), 'rougeL': Score(precision=0.04, recall=0.75, fmeasure=0.07594936708860758)}\n",
            "--------------------------------------------------\n",
            "True Summary: शरीफ ने वानी को कश् मीर की मिट्टी का लाल कहा भारत पर युद्ध जैसा माहौल बनाने का लगाया आरोप पाक संसद के संयुक् त सत्र में दिया भाषण\n",
            "Predicted Summary: पाकिस्तानी प्रधानमंत्री नवाज शरीफ हिजबुल मुजाहिदीन आतंकी बुरहान वानी कश्मीर मिट्टी लाल करार दिए जाने भारत बुधवार निशाना साधते शरीफ बयान आतंकवाद पाकिस्तान लगाव दिखाता सरकार वरिष्ठ सूत्र संसद संयुक्त सत्र शरीफ भाषण दिखाता आतंकवाद प्रति पाकिस्तान लगाव निरंतर बना सरकारी सूत्रों प्रतिक्रिया वक्त आई बुधवार पाकिस्तानी प्रधानमंत्री नवाज शरीफ भारत पाक बीच बढ़ते तनाव मद्देनजर सुरक्षा हालात चर्चा बुलाये गये संसद संयुक्त सत्र संबोधित आरोप लगाया भारत बातचीत बच उरी आतंकी हमले पाकिस्तान जिम्मेदार ठहराकर युद्ध माहौल बना पिछले महीने उरी हमले 19 भारतीय जवान शहीद गये उन्होंने कश्मीर नौजवानों भारत ज्यादतियों खिलाफ आजादी आंदोलन चलाने बीड़ा उठाया कश्मीर मिट्टी लाल बुरहान वानी मौत भारत याद दिलाया कश्मीरियों आत्मनिर्धारण अधिकार दे शरीफ दावा हमने भारत वार्ता मेज लाने सब भारत ऐसा हमारे प्रयासों बार बार नाकाम उन्होंने भारत बिना जांच घंटों हमले पाकिस्तान जिम्मेदार ठहरा शरीफ आरोप लगाया उरी हमले पाकिस्तान जिम्मेदार ठहराने पीछे भारत मकसद जबकि साबित शामिल टिप्पणियां मोदी पिछले महीने भाषण पाकिस्तान गरीबी अन्य सामाजिक बुराइयों समाप्त स्पर्धा चुनौती दी जवाब शरीफ चाहते हम उनसे गरीबी खत्म प्रतिस्पर्धा समझ लेना चाहिए खेतों टैंक चलाकर गरीबी समाप्त सकती खबर एनडीटीवी टीम संपादित सिंडीकेट फीड सीधे प्रकाशित गई है.\n",
            "BLEU Score: 0.003675971885152269\n",
            "ROUGE Scores: {'rouge1': Score(precision=0.0, recall=0.0, fmeasure=0.0), 'rouge2': Score(precision=0.0, recall=0.0, fmeasure=0.0), 'rougeL': Score(precision=0, recall=0, fmeasure=0)}\n",
            "--------------------------------------------------\n",
            "True Summary: संजय राउत का बीजेपी पर निशाना शिवसेना को सरकार बनाने का न्यौता कांग्रेस और एनसीपी दे सकती है समर्थन\n",
            "Predicted Summary: शिवसेना नेता संजय राउत बीजेपी मुख्यमंत्री पद साझा अहंकार कारण मौजूदा स्थिति उत्पन्न उन्होंने बीजेपी अहंकार समझौते बात मानकर विपक्ष बैठने तैयार सरकार बनाने राजी एनडीए रहने सवाल उन्होंने साफ बीजेपी वादा चाहती गठबंधन रहने मतलब उन्होंने बीजेपी सरकार बनाने दावा पेश 72 घंटे मिले हमें 24 घंटे दिए गए कांग्रेस एनसीपी सरकार बनाने सवाल संजय राउत जम्मू कश्मीर पीडीपी हाथ मिला सकती शिवसेना एनसीपी कांग्रेस क्यों राउत कांग्रेस एनसीपी मतभेद भूल महाराष्ट्र हित न्यूनतम साझा कार्यक्रम आना चाहिए आपको बता दें मोदी सरकार शिवसेना एकमात्र मंत्री अरविंद सावंत इस्तीफे ऐलान बीजेपी शिवसेना 30 साल पुरानी दोस्ती टूट गई सरकार बनाने कवायद बीच महाराष्ट्र एनसीपी दिल्ली कांग्रेस बैठक शरद पवार शिवसेना सरकार बनाने फैसला कांग्रेस विचार जाएगा कांग्रेस वरिष्ठ नेता मल्लिकार्जुन खड़गे पार्टी बैठक आलाकमान निर्देश देगा हिसाब फैसला लिया जाएगा आपको बता दें महाराष्ट्र विधानसभा चुनाव बीजेपी 105 शिवसेना 56 एनसीपी 54 कांग्रेस 44 सीटें मिली बीजेपी शिवसेना मिलकर बहुमत 145 आंकड़ा पार लिया शिवसेना 50 50 फॉर्मूले मांग रख दी जिसके मुताबिक ढाई ढाई साल सरकार चलाने मॉडल शिवसेना कहना बीजेपी समझौता फॉर्मूले बीजेपी दावा ऐसा समझौता लेकर मतभेद इतना बढ़ा दोनों पार्टियों 30 साल पुरानी दोस्ती टूट गई\n",
            "BLEU Score: 0.006624187783818288\n",
            "ROUGE Scores: {'rouge1': Score(precision=0.0, recall=0.0, fmeasure=0.0), 'rouge2': Score(precision=0.0, recall=0.0, fmeasure=0.0), 'rougeL': Score(precision=0, recall=0, fmeasure=0)}\n",
            "--------------------------------------------------\n",
            "True Summary: मुंबई में एक चार मंजिला इमारत गिरने से चार लोगों की मौत हो गई है. यह हादसा मुंबई के भिंडी बाज़ार इलाक़े में हुआ.\n",
            "Predicted Summary: मुंबई चार मंजिला इमारत गिरने चार लोगों मौत गई है.\n",
            "BLEU Score: 0.09255078169849108\n",
            "ROUGE Scores: {'rouge1': Score(precision=0.0, recall=0.0, fmeasure=0.0), 'rouge2': Score(precision=0.0, recall=0.0, fmeasure=0.0), 'rougeL': Score(precision=0, recall=0, fmeasure=0)}\n",
            "--------------------------------------------------\n",
            "True Summary: ईनामी बदमाश को पुलिस ने मार गिराया इस मुठभेड़ में दारोगा भी गंभीर रूप से जख्मी हो गए बदमाश पर था 50 हजार का ईनाम\n",
            "Predicted Summary: खबर एनडीटीवी टीम संपादित सिंडीकेट फीड सीधे प्रकाशित गई है.\n",
            "BLEU Score: 0\n",
            "ROUGE Scores: {'rouge1': Score(precision=0.0, recall=0.0, fmeasure=0.0), 'rouge2': Score(precision=0.0, recall=0.0, fmeasure=0.0), 'rougeL': Score(precision=0, recall=0, fmeasure=0)}\n",
            "--------------------------------------------------\n",
            "True Summary: पड़ोसी ने घर में घुसकर किया कथित बलात्कार विरोध करने पर बच्ची के सिर में मारा पत्थर पुलिस ने आरोपी को गिरफ्तार कर लिया है\n",
            "Predicted Summary: जयपुर करणीविहार थाना क्षेत्र युवक देर रात पड़ोसी घुस रही छह साल बच्ची अगवा कथित रूप बलात्कार पुलिस आरोपी गिरफ्तार लिया करणीविहार थाना पुलिस अनुसार ज्ञानेन्द्र शुक्ला शनिवार रात पड़ोसी मकान घुस रही छह साल बच्ची अगवा सुनसान जगह ले जाकर बलात्कार जेएनयू छात्रा रेप धमकी देने मामला 4आरोपी गिरफ्तारटिप्पणियां बच्ची विरोध उसने पत्थर सिर वार फरार अधिकारी बताया वारदात वक्त आरोपी नशे उन्होंने बच्ची जेके लोन अस्पताल भर्ती करवाया बच्ची परिजनों शिकायत बताए गए हुलिये आधार पुलिस शुक्ला गिरफ्तार लिया पुलिस आरोपी पूछताछ रही हेडलाइन अलावा खबर एनडीटीवी टीम संपादित सिंडीकेट फीड सीधे प्रकाशित गई है.\n",
            "BLEU Score: 0.006307754963754396\n",
            "ROUGE Scores: {'rouge1': Score(precision=0.0, recall=0.0, fmeasure=0.0), 'rouge2': Score(precision=0.0, recall=0.0, fmeasure=0.0), 'rougeL': Score(precision=0, recall=0, fmeasure=0)}\n",
            "--------------------------------------------------\n",
            "True Summary: 1989 में जनता दल में शामिल होकर किया सियासी आगाज 2006 में समाजवादी पार्टी ने किया निष्कासित 2009 में मुलायम सिंह की बहू डिंपल यादव को हराया चुनाव\n",
            "Predicted Summary: राज बब्बर कांग्रेस सीनियर नेताओं राजनीति आने फिल्मी दुनिया मंझे अभिनेता तीन बार लोकसभा सदस्य बार राज्यसभा सदस्य सियासत मंझा खिलाड़ी माना जाता राज बब्बर जन्म यूपी आगरा 23 जून 1952 शुरुआती पढ़ाई आगरा फैज ए आम इंटर कॉलेज बब्बर ग्रेजुएशन आगरा कॉलेज नेशनल स्कूल ऑफ ड्रामा छात्र दिल्ली एनएसडी ट्रेनिंग पूरी बब्बर मुंबई चले गए रीना रॉय उन्होंने फिल्मी करियर शुरुआत असली पहचान इंसाफ तराजू फिल्म मिली बब्बर करियर फिल्में कीं उन्होंने निकाह आज आवाज किस्सा कुर्सी तुम दलाल याराना जैसी फिल्मों बेहतरीन अदाकारी परिचय राजबब्बर नादिरा जहीर शादी बच्चे आर्या बब्बर जूही बब्बर उन्होंने स्मिता पाटिल शादी स्मिता राजबब्बर बेटे नाम प्रतीक बब्बर राजबब्बर सिनेमा क्षेत्र मजबूत छाप छोड़ी बावजूद उन्होंने सियासत आने फैसला 1989 वीपी सिंह नेतृत्व जनता दल शामिल गए उन्होंने समाजवादी पार्टी ज्वाइन तीन बार लोकसभा सांसद 1994 1999 बीच राज्यसभा सदस्य 2004 लोकसभा सांसद बने 2006 समाजवादी पार्टी निष्कासित 2008 राजबब्बर कांग्रेस ज्वाइन ली 2009 फिरोजाबाद पूर्व यूपी सीएम अखिलेश यादव पत्नी डिंपल यादव चुनाव हराकर सांसद बने 2014 लोकसभा चुनावों उन्होंने गाजियाबाद चुनाव लड़ा बीजेपी जनरल वीके सिंह चुनाव हार गए यूपी कांग्रेस कमेटी अध्यक्ष बनाया चुनाव फतेहपुर सीकरी मजबूत दावेदारी पेश राजबब्बर पहली बार सियासी तौर चर्चा आए उन्होंने 2013 मुंबई आम आदमी 12 रुपए भरपेट खाना खा उन्होंने भारत गरीब आदमी बार खाना 28 32 रुपए खा हालांकि उन्होंने बयान अफसोस जताया 2013 उन्होंने तत्कालीन गुजरात सीएम नरेंद्र मोदी तुलना एडोल्फ हिटलर\n",
            "BLEU Score: 0.006881343272864789\n",
            "ROUGE Scores: {'rouge1': Score(precision=0.2, recall=1.0, fmeasure=0.33333333333333337), 'rouge2': Score(precision=0.0, recall=0.0, fmeasure=0.0), 'rougeL': Score(precision=0.2, recall=1.0, fmeasure=0.33333333333333337)}\n",
            "--------------------------------------------------\n",
            "True Summary: रक्षामंत्री एके एंटनी के नेतृत्व में बनाई गई उच्चस्तरीय समिति ने कहा कि उत्तर प्रदेश में पार्टी की बुरी हार के पीछे भ्रष्टाचार को लेकर बनी छवि महंगाई टिकटों का गलत वितरण और विवादित प्रचार मुख्य वजह थे.\n",
            "Predicted Summary: कांग्रेस उच्चस्तरीय समिति कहना उत्तर प्रदेश पार्टी बुरी हार पीछे भ्रष्टाचार लेकर छवि महंगाई टिकटों गलत वितरण विवादित प्रचार अभियान कमजोर ढांचा मुख्य वजह थे. प्रदेश चुनावों पार्टी चुनावी हार तह जाने एके एंटनी समिति ऐसा माना पड़ताल पूरी ली है.टिप्पणियां सूत्रों बताया रिपोर्ट गुरुवार अंतिम शक्ल दी जाएगी जिसके कांग्रेस अध्यक्ष सोनिया गांधी सौंप जाएगा.\n",
            "BLEU Score: 0.06856574694078107\n",
            "ROUGE Scores: {'rouge1': Score(precision=0.0, recall=0.0, fmeasure=0.0), 'rouge2': Score(precision=0.0, recall=0.0, fmeasure=0.0), 'rougeL': Score(precision=0, recall=0, fmeasure=0)}\n",
            "--------------------------------------------------\n",
            "True Summary: 18 सितंबर तक जमा कराने हैं पैसे सुप्रीम कोर्ट मुआवजे का मामला बाद में सुनेगा सुपरटेक की 5 करोड़ जमा करने की दलील को ठुकराया\n",
            "Predicted Summary: गौरतलब सुप्रीम कोर्ट नोएडा एक्सप्रेस इमरेल्ड कोर्ट 40 मंजिली टावरों मामले सुनवाई इलाहाबाद हाईकोर्ट दोनों टावरों अवैध घोषित गिराने आदेश दिए सुप्रीम कोर्ट हाईकोर्ट फैसले रोक लगा दी टावर सील आदेश दिए सुप्रीम कोर्ट 14 फीसदी ब्याज खरीदारों रकम वापस\n",
            "BLEU Score: 0.015782280286300628\n",
            "ROUGE Scores: {'rouge1': Score(precision=0.0, recall=0.0, fmeasure=0.0), 'rouge2': Score(precision=0.0, recall=0.0, fmeasure=0.0), 'rougeL': Score(precision=0.0, recall=0.0, fmeasure=0.0)}\n",
            "--------------------------------------------------\n",
            "True Summary: शाहरुख खान के लाइव इंटरव् यू में बीच में आया बेटा अबराम अपने अंगूठे की चोट पापा शाहरुख को दिखाने आ गए अबराम अबराम शाहरुख के हर फोटो का हिस् सा बनना चाहता है\n",
            "Predicted Summary: किंग खान अच् छे पता खबरों कैसे जाता लगता शाहरुख खान छोटे नवाब यानी अबराम कला सीख ली अबराम हाथ अंगूठे चोट लगी पापा पास चोट शिकायत लेकर पहुंच गए स् टारडम छोड़ शाहरुख अबराम अंगूठे चोट देखी प् यार चूमा अबराम काफी खुश वीडियो साफ स् क्रीन रोमांटिक हीरो किरदार निभाने शाहरुख खान पिता रोल अदा कहीं पीछे रहते वाकया समय शाहरुख खान इंटरव् यू दे तभी बीच अबराम आया टिप्पणियां आने महीनों चार साल वाला अबराम शाहरुख खान छोटा बेटा शाहरुख सोमवार फेसबुक लाइव कए इंटरव् यू इंटरव् यू शाहरुख फिल् म रर्दस बारे बात तभी अबराम घूमता आया उसने शाहरुख शिकायत अंगूठे चोट लग गई शाहरुख रुका उन् होंने अबराम बीच इंटरव् यू बुलाया उसका अंगूठा देखा शाहरुख अबराम इंजेक् शन लगाने एक्टिंग बाय बोलने We got to witness some very adorable moments between the doting dad SRK little AbRam Khan during FB live chat with TheViralFever pic twitter com BxB3LRQ3FR SRK Universe SRKUniverse January 29 2017 हाल शाहरुख खान न् यूज एजेंसी पीटीआई इंटरव् यू बताया अबराम फोटो खिंचवाने शौक मना जाता नाराज जाता शाहरुख बताया दुबई ट्रिप वापस आ लोग फोटो खींच उन् होंने सोचा फोटो खिंचवां जल् दी प् लेन आ जाएंगे अबराम हर फोटो शामिल चाहता मेरे बॉडीगार्ड गोद ले लिया नाराज क् योंकि फोटो आना चाहता googletag cmd push function googletag display adslotNativeVideo हाल रईस मुंबई दिल् ली ट्रेन यात्रा दौरान शाहरुख एनडीटीवी बताया नन् नवाब काफी याद शाहरुख काश अबराम ला पाता यात्रा काफी पसंद पूरी टीम जानता इसलिए सब काफी सहज आने महीनों चार साल वाला अबराम शाहरुख खान छोटा बेटा शाहरुख सोमवार फेसबुक लाइव कए इंटरव् यू इंटरव् यू शाहरुख फिल् म रर्दस बारे बात तभी अबराम घूमता आया उसने शाहरुख शिकायत अंगूठे चोट लग गई शाहरुख रुका उन् होंने अबराम बीच इंटरव् यू बुलाया उसका अंगूठा देखा शाहरुख अबराम इंजेक् शन लगाने एक्टिंग बाय बोलने We got to witness some very adorable moments between the doting dad SRK little AbRam Khan during FB live chat with TheViralFever pic twitter com BxB3LRQ3FR SRK Universe SRKUniverse January 29 2017 हाल शाहरुख खान न् यूज एजेंसी पीटीआई इंटरव् यू बताया अबराम फोटो खिंचवाने शौक मना जाता नाराज जाता शाहरुख बताया दुबई ट्रिप वापस आ लोग फोटो खींच उन् होंने सोचा फोटो खिंचवां जल् दी प् लेन आ जाएंगे अबराम हर फोटो शामिल चाहता मेरे बॉडीगार्ड गोद ले लिया नाराज क् योंकि फोटो आना चाहता हाल रईस मुंबई दिल् ली ट्रेन यात्रा दौरान शाहरुख एनडीटीवी बताया नन् नवाब काफी याद शाहरुख काश अबराम ला पाता यात्रा काफी पसंद पूरी टीम जानता इसलिए सब काफी सहज We got to witness some very adorable moments between the doting dad SRK little AbRam Khan during FB live chat with TheViralFever pic twitter com BxB3LRQ3FR हाल रईस मुंबई दिल् ली ट्रेन यात्रा दौरान शाहरुख एनडीटीवी बताया नन् नवाब काफी याद शाहरुख काश अबराम ला पाता यात्रा काफी पसंद पूरी टीम जानता इसलिए सब काफी सहज\n",
            "BLEU Score: 0.004188346098248246\n",
            "ROUGE Scores: {'rouge1': Score(precision=0.0, recall=0.0, fmeasure=0.0), 'rouge2': Score(precision=0.0, recall=0.0, fmeasure=0.0), 'rougeL': Score(precision=0, recall=0, fmeasure=0)}\n",
            "--------------------------------------------------\n",
            "True Summary: महाराष्ट्र विधानसभा में पेश सीएजी की रिपोर्ट ने सरकार को परेशानी में डाल दिया है. सीएजी का कहना है कि प्रोजेक्ट की लागत बेतहाशा बढ़ी है फिर भी 426 प्रोजेक्ट अधूरे हैं.\n",
            "Predicted Summary: महाराष्ट्र किसान सूखे मार झेल सीएजी रिपोर्ट बार सरकार योजनाओं सवालिया निशान लगा दिए हैं.टिप्पणियां सीएजी रिपोर्ट मुताबिक प्रोजेक्ट लागत बेतहाशा बढ़ी है. 426 242 प्रोजेक्ट बेतहाशा महंगे हैं.\n",
            "BLEU Score: 0.029804246603735998\n",
            "ROUGE Scores: {'rouge1': Score(precision=0.5, recall=1.0, fmeasure=0.6666666666666666), 'rouge2': Score(precision=0.0, recall=0.0, fmeasure=0.0), 'rougeL': Score(precision=0.5, recall=1.0, fmeasure=0.6666666666666666)}\n",
            "--------------------------------------------------\n",
            "True Summary: पालघर लोकसभा उपचुनाव का मामला चुनाव अधिकारी ने प्रोटोकाल तोड़कर निजी कार का इस्तेमाल किया निर्वाचन अधिकारी के जरिए जांच के आदेश\n",
            "Predicted Summary: हेडलाइन अलावा खबर एनडीटीवी टीम संपादित सिंडीकेट फीड सीधे प्रकाशित गई है.\n",
            "BLEU Score: 0\n",
            "ROUGE Scores: {'rouge1': Score(precision=0.0, recall=0.0, fmeasure=0.0), 'rouge2': Score(precision=0.0, recall=0.0, fmeasure=0.0), 'rougeL': Score(precision=0, recall=0, fmeasure=0)}\n",
            "--------------------------------------------------\n",
            "True Summary: पूछा मनोज तिवारी पीड़ित मां के साथ या फिर मैक्स प्रशासन के साथ बेहतर स्वास्थ्य सेवाएं देने में निजी अस्पताल भी सिस्टम का अहम हिस्सा नियमों का उल्लंघन होने पर सरकार न्यायसंगत कदम उठाएगी\n",
            "Predicted Summary: गोपाल राय आम आदमी पार्टी दिल्ली लोगों बेहतर स्वास्थ्य सेवाएं देने प्रतिबद्ध दिल्ली जनता खड़ी क्योंकि आम आदमी पार्टी सरकार दिल्ली जनता सरकार उसका हर फ़ैसला दिल्ली जनता हक़\n",
            "BLEU Score: 0.07168506269208137\n",
            "ROUGE Scores: {'rouge1': Score(precision=0.0, recall=0.0, fmeasure=0.0), 'rouge2': Score(precision=0.0, recall=0.0, fmeasure=0.0), 'rougeL': Score(precision=0, recall=0, fmeasure=0)}\n",
            "--------------------------------------------------\n",
            "True Summary: तीन तलाक बिल लोकसभा में पेश किया जाएगा सभी सांसदों को सदन में उपस्थित रहने के लिए व्हिप जारी तीन तलाक को गैरकानूनी और अमान्य करार दिया गया\n",
            "Predicted Summary: तीन तलाक़ बिल आज लोकसभा पेश किए जाने अटकलें थीं अब बिल अगले हफ्ते लोकसभा पेश जाएगा बीजेपी दौरान सांसदों सदन उपस्थित रहने व्हिप जारी लोकसभा संख्याबल देखते बिल पास कराने सरकार ज़्यादा मुश्किल होगी बता दें लोकसभा पास बिल राज्यसभा जाएगा तीन तलाक़ बिल पिछले हफ़्ते केंद्रीय कैबिनेट मंज़ूरी मिली तीन तलाक पारसी मैरिज डिवोर्स एक्ट परीक्षण करेगा सुप्रीम कोर्ट विधेयक तहत बार तीन तलाक गैरकानूनी अमान्य करार मुताबिक बार तीन तलाक देने पति तीन साल जेल सजा होगी विधेयक प्रावधानों अनुसार पति जुर्माना लगाया जाएगा जुर्माने राशि मजिस्ट्रेट तय करेगा टिप्पणियां महिला अधिकारों पक्षधरों कहना सरकार मंशा तीन तलाक देने अपराध घोषित मुसलमानों मन डर पैदा उच्चतम न्यायालय सायरा बानो तीन तलाक अर्जी पक्ष दखल देने बेबाक कलेक्टिव नामक संगठन आयोजित संवाददाता सम्मेलन कार्यकर्ताओं वकीलों सरकार सभ्य समाज संबंधित पक्षों परामर्श किये बगैर विधेयक क्यों ला रही VIDEO नेशनल रिपोर्टर 3 तलाक़ 3 साल जेल बता दें सरकार पूछा क्या उसने तीन तलाक विधेयक मसौदा तैयार मुस्लिम संगठनों विचार विमर्श कानून राज्य मंत्री पी पी चौधरी जवाब सरकार विधेयक तैयार मुस्लिम संगठनों विचार विमर्श मुद्दा लैंगिक न्याय लैंगिक समानता महिलाओं गरिमा मानवीय अवधारणा जुड़ा जिसमें आस्था धर्म संबंध तीन तलाक पारसी मैरिज डिवोर्स एक्ट परीक्षण करेगा सुप्रीम कोर्ट विधेयक तहत बार तीन तलाक गैरकानूनी अमान्य करार मुताबिक बार तीन तलाक देने पति तीन साल जेल सजा होगी विधेयक प्रावधानों अनुसार पति जुर्माना लगाया जाएगा जुर्माने राशि मजिस्ट्रेट तय करेगा टिप्पणियां महिला अधिकारों पक्षधरों कहना सरकार मंशा तीन तलाक देने अपराध घोषित मुसलमानों मन डर पैदा उच्चतम न्यायालय सायरा बानो तीन तलाक अर्जी पक्ष दखल देने बेबाक कलेक्टिव नामक संगठन आयोजित संवाददाता सम्मेलन कार्यकर्ताओं वकीलों सरकार सभ्य समाज संबंधित पक्षों परामर्श किये बगैर विधेयक क्यों ला रही VIDEO नेशनल रिपोर्टर 3 तलाक़ 3 साल जेल बता दें सरकार पूछा क्या उसने तीन तलाक विधेयक मसौदा तैयार मुस्लिम संगठनों विचार विमर्श कानून राज्य मंत्री पी पी चौधरी जवाब सरकार विधेयक तैयार मुस्लिम संगठनों विचार विमर्श मुद्दा लैंगिक न्याय लैंगिक समानता महिलाओं गरिमा मानवीय अवधारणा जुड़ा जिसमें आस्था धर्म संबंध विधेयक तहत बार तीन तलाक गैरकानूनी अमान्य करार मुताबिक बार तीन तलाक देने पति तीन साल जेल सजा होगी विधेयक प्रावधानों अनुसार पति जुर्माना लगाया जाएगा जुर्माने राशि मजिस्ट्रेट तय करेगा टिप्पणियां महिला अधिकारों पक्षधरों कहना सरकार मंशा तीन तलाक देने अपराध घोषित मुसलमानों मन डर पैदा उच्चतम न्यायालय सायरा बानो तीन तलाक अर्जी पक्ष दखल देने बेबाक कलेक्टिव नामक संगठन आयोजित संवाददाता सम्मेलन कार्यकर्ताओं वकीलों सरकार सभ्य समाज संबंधित पक्षों परामर्श किये बगैर विधेयक क्यों ला रही VIDEO नेशनल रिपोर्टर 3 तलाक़ 3 साल जेल बता दें सरकार पूछा क्या उसने तीन तलाक विधेयक मसौदा तैयार मुस्लिम संगठनों विचार विमर्श कानून राज्य मंत्री पी पी चौधरी जवाब सरकार विधेयक तैयार मुस्लिम संगठनों विचार विमर्श मुद्दा लैंगिक न्याय लैंगिक समानता महिलाओं गरिमा मानवीय अवधारणा जुड़ा जिसमें आस्था धर्म संबंध महिला अधिकारों पक्षधरों कहना सरकार मंशा तीन तलाक देने अपराध घोषित मुसलमानों मन डर पैदा उच्चतम न्यायालय सायरा बानो तीन तलाक अर्जी पक्ष दखल देने बेबाक कलेक्टिव नामक संगठन आयोजित संवाददाता सम्मेलन कार्यकर्ताओं वकीलों सरकार सभ्य समाज संबंधित पक्षों परामर्श किये बगैर विधेयक क्यों ला रही VIDEO नेशनल रिपोर्टर 3 तलाक़ 3 साल जेल बता दें सरकार पूछा क्या उसने तीन तलाक विधेयक मसौदा तैयार मुस्लिम संगठनों विचार विमर्श कानून राज्य मंत्री पी पी चौधरी जवाब सरकार विधेयक तैयार मुस्लिम संगठनों विचार विमर्श मुद्दा लैंगिक न्याय लैंगिक समानता महिलाओं गरिमा मानवीय अवधारणा जुड़ा जिसमें आस्था धर्म संबंध VIDEO नेशनल रिपोर्टर 3 तलाक़ 3 साल जेल बता दें सरकार पूछा क्या उसने तीन तलाक विधेयक मसौदा तैयार मुस्लिम संगठनों विचार विमर्श कानून राज्य मंत्री पी पी चौधरी जवाब सरकार विधेयक तैयार मुस्लिम संगठनों विचार विमर्श मुद्दा लैंगिक न्याय लैंगिक समानता महिलाओं गरिमा मानवीय अवधारणा जुड़ा जिसमें आस्था धर्म संबंध\n",
            "BLEU Score: 0.003380842697386072\n",
            "ROUGE Scores: {'rouge1': Score(precision=0.0, recall=0.0, fmeasure=0.0), 'rouge2': Score(precision=0.0, recall=0.0, fmeasure=0.0), 'rougeL': Score(precision=0, recall=0, fmeasure=0)}\n",
            "--------------------------------------------------\n",
            "True Summary: एयर इंडिया ने एक विशेष किराया योजना पेश की जिसके तहत तीन या पांच दिन पहले टिकट बुक करवाने पर टिकटें अपेक्षाकृत सस्ती मिलेंगी.\n",
            "Predicted Summary: सार्वजनिक विमानन कंपनी एयर इंडिया आगामी छुट्टियों देखते विशेष किराया योजना पेश जिसके तहत तीन पांच दिन टिकट बुक करवाने टिकटें अपेक्षाकृत सस्ती मिलेंगी.\n",
            "BLEU Score: 0.31751444361869974\n",
            "ROUGE Scores: {'rouge1': Score(precision=0.0, recall=0.0, fmeasure=0.0), 'rouge2': Score(precision=0.0, recall=0.0, fmeasure=0.0), 'rougeL': Score(precision=0, recall=0, fmeasure=0)}\n",
            "--------------------------------------------------\n",
            "True Summary: पूर्व राष्ट्रपति एपीजे अब्दुल कलाम ने कहा कि क्षेत्रीय स्तर पर शक्ति संतुलन स्थापित करने के लिए भारत को परमाणु हथियार और बैलेस्टिक मिसाइलें विकसित करनी पड़ीं.\n",
            "Predicted Summary: पूर्व राष्ट्रपति एपीजे अब्दुल कलाम क्षेत्रीय स्तर शक्ति संतुलन स्थापित भारत परमाणु हथियार बैलेस्टिक मिसाइलें विकसित करनी पड़ीं.\n",
            "BLEU Score: 0.3249170770135382\n",
            "ROUGE Scores: {'rouge1': Score(precision=0.0, recall=0.0, fmeasure=0.0), 'rouge2': Score(precision=0.0, recall=0.0, fmeasure=0.0), 'rougeL': Score(precision=0, recall=0, fmeasure=0)}\n",
            "--------------------------------------------------\n",
            "True Summary: अभिनेता अक्षय कुमार का कहना है कि वह स्वयं पर लगे खिलाड़ी के लेबल से अलग नहीं होना चाहते. वह अपने बैनर तले बन रही फिल्म खिलाड़ी 786 से एक बार फिर से इस दावे को मजबूत भी कर रहे हैं.\n",
            "Predicted Summary: इससे अक्षय खिलाड़ी 1992 खिलाड़ी तू अनाड़ी 1994 बड़ा खिलाड़ी 1995 खिलाड़ियों खिलाड़ी 1996 मिस्टर एंड मिसेज खिलाड़ी 1997 इंटरनेशनल खिलाड़ी 1999 खिलाड़ी 420 2000 काम चुके हैं. इससे अक्षय खिलाड़ी 1992 खिलाड़ी तू अनाड़ी 1994 बड़ा खिलाड़ी 1995 खिलाड़ियों खिलाड़ी 1996 मिस्टर एंड मिसेज खिलाड़ी 1997 इंटरनेशनल खिलाड़ी 1999 खिलाड़ी 420 2000 काम चुके हैं. इससे अक्षय खिलाड़ी 1992 खिलाड़ी तू अनाड़ी 1994 बड़ा खिलाड़ी 1995 खिलाड़ियों खिलाड़ी 1996 मिस्टर एंड मिसेज खिलाड़ी 1997 इंटरनेशनल खिलाड़ी 1999 खिलाड़ी 420 2000 काम चुके हैं.\n",
            "BLEU Score: 0.005535938845040663\n",
            "ROUGE Scores: {'rouge1': Score(precision=0.0, recall=0.0, fmeasure=0.0), 'rouge2': Score(precision=0.0, recall=0.0, fmeasure=0.0), 'rougeL': Score(precision=0.0, recall=0.0, fmeasure=0.0)}\n",
            "--------------------------------------------------\n",
            "True Summary: फॉर्मूला वन रेस इंडियन ग्रां पी में सचिन तेंदुलकर सहित कई क्रिकेट खिलाड़ियों राजनेताओं फिल्मी सितारों और चर्चित हस्तियों के पहुंचने की उम्मीद है.\n",
            "Predicted Summary: देश पहली बार बुद्ध इंटरनेशनल सर्किट वाली फॉर्मूला वन एफ 1 रेस इंडियन ग्रां पी रविवार सचिन तेंदुलकर सहित क्रिकेट खिलाड़ियों राजनेताओं फिल्मी सितारों चर्चित हस्तियों पहुंचने उम्मीद है.\n",
            "BLEU Score: 0.2912919968412614\n",
            "ROUGE Scores: {'rouge1': Score(precision=0.0, recall=0.0, fmeasure=0.0), 'rouge2': Score(precision=0.0, recall=0.0, fmeasure=0.0), 'rougeL': Score(precision=0, recall=0, fmeasure=0)}\n",
            "--------------------------------------------------\n",
            "True Summary: कर्नाटक में 12 मई को होने वाले विधानसभा चुनाव कर्नाटक चुनाव में कुल मिलाकर 2655 उम्मीदवार मैदान में है कर्नाटक में लगभग साढ़े चार करोड़ मतदाता मतदान करेंगे\n",
            "Predicted Summary: महिला एम्पावरमेंट पार्टी मौजूदगी बावजूद सिर्फ़ 219 महिलाएं चुनाव लड़ रही जबकि 1155 प्रत्याशी निर्दलीय मुख् यमंत्री सिद्धरमैया लोगों पांच साल शासन क्या सिर्फ राज्य लूटा बार लूटना चाहते ऐसा होगा बार कांग्रेस पूर्ण बहुमत सरकार बनेगी त्रिशंकु विधानसभा होगी दोनों सीटों भारी अंतर जीतूंगा जेडीएस नेता कुमारस्वामी भरोसा चुनावों नतीजों किंगमेकर भूमिका निभाएंगे उधर येद्दियुरप् पा तीसरी बार मुख्यमंत्री बनने सपना देख सिद्धरमैया दूसरी बार हकीकत तीनों मुद्दे तलाश चुनावो नैय्या लगा दे जेडीएस नेता कुमारस्वामी भरोसा चुनावों नतीजों किंगमेकर भूमिका निभाएंगे उधर येद्दियुरप् पा तीसरी बार मुख्यमंत्री बनने सपना देख सिद्धरमैया दूसरी बार हकीकत तीनों मुद्दे तलाश चुनावो नैय्या लगा दे\n",
            "BLEU Score: 0.00391348404685342\n",
            "ROUGE Scores: {'rouge1': Score(precision=0.0, recall=0.0, fmeasure=0.0), 'rouge2': Score(precision=0.0, recall=0.0, fmeasure=0.0), 'rougeL': Score(precision=0.0, recall=0.0, fmeasure=0.0)}\n",
            "--------------------------------------------------\n",
            "True Summary: बादशाह के गाने पर शाहरुख खान और काजोल ने किया डांस पागल पर शाहरुख खान और काजोल का वीडियो हुआ वायरल शाहरुख खान और काजोल का यह डांस देखकर रह जाएंगे हैरान\n",
            "Predicted Summary: बॉलीवुड मशहूर सिंगर रैपर बादशाह Badshah नए सॉन्ग पागल Paagal पूरी म्यूजिक इंडस्ट्री हिला रख पागल Paagal जरिए बादशाह Badshah केवल फैंस खुश बल्कि जबरदस्त विश्व रिकॉर्ड बनाया गाने जरिए बादशाह Badshah कोरियन बैंड बीटीएस पीछे छोड़ हाल बादशाह पागल Paagal सॉन्ग नया एक्सपेरिमेंट एक्सपेरिमेंट बादशाह गाने करण जौहर फिल्म कभी खुशी कभी गम गाने बन्नो सहेली जोड़ा देखने काफी मजेदार लग So we somehow managed to get iamsrk and kajol to do another video for PAAGAL Lol dekho aur bataao kaisa lagaa A post shared by BADSHAH badboyshah on Jul 12 2019 at 3 25am PDT बादशाह Badshah पागल Paagal सॉन्ग एक्सपेरिमेंट सोशल मीडिया एकाउंट जरिए शेयर वीडियो देखकर ऐसा लग शाहरुख खान Shah Rukh Khan काजोल Kajol गाने म्यूजिक लीरिक्स डांस हों पागल सॉन्ग वीडियो सोशल मीडिया हैंडल शेयर बादशाह लिखा पागल वीडियो हमने कैसे काजोल शाहरुख खान मना लिया लॉल देखो बताओ कैसा लगा सबमें खास बात रही बादशाह Badshah वीडियो देखकर खुद करण जौहर काफी जबरदस्त रिएक्शन करण जौहर आंखो हार्ट इमोजी वीडियो प्रतिक्रिया जाहिर बता दें बादशाह Badshah गाने रिलीज दिन विश्व रिकॉर्ड बना लिया इंटरनेशनल बैंड सेलिब्रिटीज पीछे छोड़ बादशाह गाने पागल यू ट्यूब अब करीब 8 करोड़ 75 लाख बार देखा चुका गाने लीरिक्स म्यूजिक नाचने मजबूर हालांकि पागल लीरिक्स लेकर थोड़ा मजाक विरोध गाना बादशाह करियर सुपरहिट गानों\n",
            "BLEU Score: 0.006361717738284841\n",
            "ROUGE Scores: {'rouge1': Score(precision=0.0, recall=0.0, fmeasure=0.0), 'rouge2': Score(precision=0.0, recall=0.0, fmeasure=0.0), 'rougeL': Score(precision=0, recall=0, fmeasure=0)}\n",
            "--------------------------------------------------\n",
            "True Summary: उत्तराखंड में बाढ़ पीड़ितों की मदद के लिए जहां कुछ लोग पूरी कोशिश कर रहे हैं और उनकी रक्षा के लिए दुआएं की जा रही हैं वहीं प्राकृतिक आपदा की मार झेल रहे लोगों के प्रति मानव उदासीनता की शर्मनाक खबरें भी सामने आ रही हैं.\n",
            "Predicted Summary: रेलवे स्टेशन इंतजार अन्य पर्यटक दुकानदार 250 रुपये परांठा 200 रुपये पानी बोतल बेच हैं. रेलवे स्टेशन इंतजार अन्य पर्यटक दुकानदार 250 रुपये परांठा 200 रुपये पानी बोतल बेच हैं. रेलवे स्टेशन इंतजार अन्य पर्यटक दुकानदार 250 रुपये परांठा 200 रुपये पानी बोतल बेच हैं. रेलवे स्टेशन इंतजार अन्य पर्यटक दुकानदार 250 रुपये परांठा 200 रुपये पानी बोतल बेच हैं.\n",
            "BLEU Score: 0.005203424609196104\n",
            "ROUGE Scores: {'rouge1': Score(precision=0.0, recall=0.0, fmeasure=0.0), 'rouge2': Score(precision=0.0, recall=0.0, fmeasure=0.0), 'rougeL': Score(precision=0, recall=0, fmeasure=0)}\n",
            "--------------------------------------------------\n",
            "True Summary: दिल्ली में आप कांग्रेस साथ नहीं लड़ेगी चुनाव राहुल गांधी ने गठबंधन नहीं करने की बताई वजह राहुल बोले डीपीसीसी आप से गठबंधन को तैयार नहीं\n",
            "Predicted Summary: राहुल गांधी सवाल जवाब महाराष्ट्र तमिलनाडु झारखंड हमारा गठबंधन तय दिल्ली हमारी पार्टी गठबंधन खिलाफ इसको लेकर सर्वसम्मति बाकी जगहों मिलाकर गठबंधन बात पटरी कांग्रेस अध्यक्ष बयान दिन दिल्ली प्रदेश कांग्रेस कमेटी वरिष्ठ नेताओं बैठक फैसला अरविंद केजरीवाल पार्टी गठबंधन जाएगा पार्टी सूत्रों मुताबिक कांग्रेस दिल्ली प्रभारी पीसी चाको डीपीसीसी पूर्व अध्यक्ष अजय माकन गठबंधन पक्ष पूर्व मुख्यमंत्री शीला दीक्षित अन्य वरिष्ठ नेताओं विरोध अधिकतर नेताओं राय मद्देनजर राहुल गांधी गठबंधन सहमति जताई महाराष्ट्र राष्ट्रवादी कांग्रेस पार्टी कांग्रेस गठबंधन लगभग तय तमिलनाडु द्रमुक झारखंड झामुमो उसका गठबंधन पक्का चुका\n",
            "BLEU Score: 0.010829280780439645\n",
            "ROUGE Scores: {'rouge1': Score(precision=0.0, recall=0.0, fmeasure=0.0), 'rouge2': Score(precision=0.0, recall=0.0, fmeasure=0.0), 'rougeL': Score(precision=0, recall=0, fmeasure=0)}\n",
            "--------------------------------------------------\n",
            "True Summary: केस को सुलझाने के लिए STF की मदद ली जा रही है चारों महिलाओं का मेडिकल हो चुका है बावरिया गैंग का हाथ होने का शक\n",
            "Predicted Summary: ग्रेटर नोएडा पास जेवर इंसानियत शर्मसार वाला हादसा रात क़रीब डेढ़ बजे बुलंदशहर परिवार छह बदमाशों रोका विरोध शख्स परिवार मुखिया गोली मारी महिलाओं दरिंदगी गई गैंगरेप वारदात वक्त पुलिस 100 नंबर कॉल मदद मांगी गई पुलिस वारदात डेढ़ घंटे पहुंची बदमाश वारदात अंज़ाम दे चुके मामले गंभीरता देखते वारदात पुलिस पूरी मुस्तैद गई चार लोगों हिरासत लिया छह आरोपियों तलाश यूपी पुलिस 7 टीमों गठन केस जल्द सुलझाने पुलिस एसटीएफ़ मदद ले रही चारों पीड़ित महिलाओं मेडिकल चुका रिपोर्ट इंतज़ार कल शाम महिलाओं दावा तीन आरोपियों पहचानती पुलिस शक घटना पीछे बावरिया गैंग हाथ टिप्पणियां आरोप बदमाशों कार सवार परिवार 40 हजार रुपए नकदी मोबाइल फोन गहने लूट लूटपाट बदमाशों महिलाओं दुपट्टों परिवार पुरुषों बांध कार सवार चार महिलाओं खेत ले गए गैंगरेप परिवार मुखिया बदमाशों विरोध बच्चे गोली मारने लगे परिवार मुखिया मिन्नत बदमाशों बच्चे जान बख्श दी गोली मार दी जेवर घटना पिछले साल जुलाई परिवार बुलंदशहर रास्ते लूटपाट मां बेटी गैंरगेप याद दिलाती ग्रेटर नोएडा बुलंदशहर बीच बीते 12 महीनों गाड़ी रोक लूटपाट तीसरा मामला 26 दिसंबर पिछले साल परिवार यमुना एक्सप्रेस रोककर 20 लाख लूटपाट साल 23 जनवरी यमुनाएक्सप्रेसवे बस लूटा पुलिस घटनाओं सबक लिया अपराधियों हौसले इतने बुलंद छह आरोपियों तलाश यूपी पुलिस 7 टीमों गठन केस जल्द सुलझाने पुलिस एसटीएफ़ मदद ले रही चारों पीड़ित महिलाओं मेडिकल चुका रिपोर्ट इंतज़ार कल शाम महिलाओं दावा तीन आरोपियों पहचानती पुलिस शक घटना पीछे बावरिया गैंग हाथ टिप्पणियां आरोप बदमाशों कार सवार परिवार 40 हजार रुपए नकदी मोबाइल फोन गहने लूट लूटपाट बदमाशों महिलाओं दुपट्टों परिवार पुरुषों बांध कार सवार चार महिलाओं खेत ले गए गैंगरेप परिवार मुखिया बदमाशों विरोध बच्चे गोली मारने लगे परिवार मुखिया मिन्नत बदमाशों बच्चे जान बख्श दी गोली मार दी जेवर घटना पिछले साल जुलाई परिवार बुलंदशहर रास्ते लूटपाट मां बेटी गैंरगेप याद दिलाती ग्रेटर नोएडा बुलंदशहर बीच बीते 12 महीनों गाड़ी रोक लूटपाट तीसरा मामला 26 दिसंबर पिछले साल परिवार यमुना एक्सप्रेस रोककर 20 लाख लूटपाट साल 23 जनवरी यमुनाएक्सप्रेसवे बस लूटा पुलिस घटनाओं सबक लिया अपराधियों हौसले इतने बुलंद आरोप बदमाशों कार सवार परिवार 40 हजार रुपए नकदी मोबाइल फोन गहने लूट लूटपाट बदमाशों महिलाओं दुपट्टों परिवार पुरुषों बांध कार सवार चार महिलाओं खेत ले गए गैंगरेप परिवार मुखिया बदमाशों विरोध बच्चे गोली मारने लगे परिवार मुखिया मिन्नत बदमाशों बच्चे जान बख्श दी गोली मार दी जेवर घटना पिछले साल जुलाई परिवार बुलंदशहर रास्ते लूटपाट मां बेटी गैंरगेप याद दिलाती ग्रेटर नोएडा बुलंदशहर बीच बीते 12 महीनों गाड़ी रोक लूटपाट तीसरा मामला 26 दिसंबर पिछले साल परिवार यमुना एक्सप्रेस रोककर 20 लाख लूटपाट साल 23 जनवरी यमुनाएक्सप्रेसवे बस लूटा पुलिस घटनाओं सबक लिया अपराधियों हौसले इतने बुलंद जेवर घटना पिछले साल जुलाई परिवार बुलंदशहर रास्ते लूटपाट मां बेटी गैंरगेप याद दिलाती ग्रेटर नोएडा बुलंदशहर बीच बीते 12 महीनों गाड़ी रोक लूटपाट तीसरा मामला 26 दिसंबर पिछले साल परिवार यमुना एक्सप्रेस रोककर 20 लाख लूटपाट साल 23 जनवरी यमुनाएक्सप्रेसवे बस लूटा पुलिस घटनाओं सबक लिया अपराधियों हौसले इतने बुलंद\n",
            "BLEU Score: 0.002574945561662673\n",
            "ROUGE Scores: {'rouge1': Score(precision=0.0, recall=0.0, fmeasure=0.0), 'rouge2': Score(precision=0.0, recall=0.0, fmeasure=0.0), 'rougeL': Score(precision=0.0, recall=0.0, fmeasure=0.0)}\n",
            "--------------------------------------------------\n",
            "True Summary: विवादास्पद सीडी में लगे आरोपों के बाद शांतिभूषण का बचाव करते हुए बिहार के सीएम नीतीश कुमार ने कहा कि उनकी ईमानदारी पर शक नहीं किया जा सकता.\n",
            "Predicted Summary: लोकपाल विधेयक प्रारूप तैयार संयुक्त समिति सह अध्यक्ष शांतिभूषण खिलाफ जारी कथित विवादास्पद सीडी लगे आरोपों शांतिभूषण बचाव बिहार मुख्यमंत्री नीतीश कुमार ईमानदारी शक सकता.\n",
            "BLEU Score: 0.04415495619190405\n",
            "ROUGE Scores: {'rouge1': Score(precision=0.0, recall=0.0, fmeasure=0.0), 'rouge2': Score(precision=0.0, recall=0.0, fmeasure=0.0), 'rougeL': Score(precision=0, recall=0, fmeasure=0)}\n",
            "--------------------------------------------------\n",
            "True Summary: पाकिस्तान पीपुल्स पार्टी के अध्यक्ष बिलावल भुट्टो जरदारी ने कहा है कि उनकी मां और पूर्व प्रधानमंत्री की हत्या के लिए पाकिस्तान के तत्कालीन राष्ट्रपति परवेज मुशर्रफ जिम्मेदार हैं.\n",
            "Predicted Summary: पाकिस्तान पीपुल्स पार्टी अध्यक्ष बिलावल भुट्टो जरदारी मां पूर्व प्रधानमंत्री हत्या पाकिस्तान तत्कालीन राष्ट्रपति परवेज मुशर्रफ जिम्मेदार हैं. बिलावल सीएनएन दिए साक्षात्कार उन्होंने मुशर्रफ मेरी मां बेनजीर हत्या कराई. बिलावल सीएनएन दिए साक्षात्कार उन्होंने मुशर्रफ मेरी मां बेनजीर हत्या कराई. उन्होंने मुझे विश्वास पाकिस्तानी सरकार मुझे पर्याप्त सुरक्षा मुहैया कराएगी सरकार जिसने पाकिस्तान मेरी मां सुरक्षा छेड़छाड़ थी. उन्होंने मुझे विश्वास पाकिस्तानी सरकार मुझे पर्याप्त सुरक्षा मुहैया कराएगी सरकार जिसने पाकिस्तान मेरी मां सुरक्षा छेड़छाड़ थी. उन्होंने मुझे विश्वास पाकिस्तानी सरकार मुझे पर्याप्त सुरक्षा मुहैया कराएगी सरकार जिसने पाकिस्तान मेरी मां सुरक्षा छेड़छाड़ थी.\n",
            "BLEU Score: 0.09329229995144538\n",
            "ROUGE Scores: {'rouge1': Score(precision=0.0, recall=0.0, fmeasure=0.0), 'rouge2': Score(precision=0.0, recall=0.0, fmeasure=0.0), 'rougeL': Score(precision=0, recall=0, fmeasure=0)}\n",
            "--------------------------------------------------\n",
            "True Summary: 50 साल के हुए इरफान खान दुनियाभर में कई हजार करोड़ रु का बिजनेस कर चुकीं इरफान की फिल्में 2017 में रिलीज हुईं इरफान की दो हिट फिल्में\n",
            "Predicted Summary: Thoda aur qarib pic twitter com L3gpsF8h9g\n",
            "BLEU Score: 0\n",
            "ROUGE Scores: {'rouge1': Score(precision=0.0, recall=0.0, fmeasure=0.0), 'rouge2': Score(precision=0.0, recall=0.0, fmeasure=0.0), 'rougeL': Score(precision=0.0, recall=0.0, fmeasure=0.0)}\n",
            "--------------------------------------------------\n",
            "True Summary: सुरेश रैना ने सीनियर खिलाड़ियों के वेस्टइंडीज दौरे पर नहीं आने के उनके फैसले को उचित ठहराते हुए कहा कि वरिष्ठ खिलाड़ी आराम के हकदार हैं.\n",
            "Predicted Summary: भारत कार्यवाहक क्रिकेट कप्तान सुरेश रैना सचिन तेंदुलकर सहित सीनियर खिलाड़ियों वेस्टइंडीज दौरे आने फैसले उचित ठहराते वरिष्ठ खिलाड़ी आराम हकदार हैं.\n",
            "BLEU Score: 0.09721975921332798\n",
            "ROUGE Scores: {'rouge1': Score(precision=0.0, recall=0.0, fmeasure=0.0), 'rouge2': Score(precision=0.0, recall=0.0, fmeasure=0.0), 'rougeL': Score(precision=0, recall=0, fmeasure=0)}\n",
            "--------------------------------------------------\n",
            "True Summary: जायसवाल का कहना है कि कोयला आवंटन की जांच नहीं होगी. उनका यह भी कहना है कि अगर किसी को आपत्ति है तो वह कोर्ट की शरण में जा सकता है.\n",
            "Predicted Summary: कोल ब्लॉक आवंटन कोयला मंत्री श्रीप्रकाश जायसवाल बुधवार टीम अन्ना प्रधानमंत्री हमले सफाई दी है.टिप्पणियां जायसवाल कहना कोयला आवंटन जांच होगी.\n",
            "BLEU Score: 0.023169366422982226\n",
            "ROUGE Scores: {'rouge1': Score(precision=0.0, recall=0.0, fmeasure=0.0), 'rouge2': Score(precision=0.0, recall=0.0, fmeasure=0.0), 'rougeL': Score(precision=0, recall=0, fmeasure=0)}\n",
            "--------------------------------------------------\n",
            "True Summary: पाशा ने चेतावनीभरे लहजे में कहा कि अगर भारत ऐबटाबाद जैसे किसी हमले को अंजाम देता है तो पाकिस्तान की तरफ से भी उपयुक्त कार्रवाई की जाएगी.\n",
            "Predicted Summary: पाकिस्तानी खुफिया एजेंसी आईएसआई प्रमुख अहमद शुजा पाशा चेतावनीभरे लहजे भारत ऐबटाबाद हमले अंजाम देता पाकिस्तान तरफ उपयुक्त कार्रवाई जाएगी भारत लक्ष्यों पहचान चुकी अभ्यास कार्यक्रमों अंजाम चुका है.\n",
            "BLEU Score: 0.046743385214319165\n",
            "ROUGE Scores: {'rouge1': Score(precision=0.0, recall=0.0, fmeasure=0.0), 'rouge2': Score(precision=0.0, recall=0.0, fmeasure=0.0), 'rougeL': Score(precision=0, recall=0, fmeasure=0)}\n",
            "--------------------------------------------------\n",
            "Average BLEU Score: 0.055605083207835894\n",
            "Average ROUGE-1 Score: 0.10262746699333061\n",
            "Average ROUGE-2 Score: 0.03149350649350649\n",
            "Average ROUGE-L Score: 0.10212113787940658\n"
          ]
        }
      ]
    },
    {
      "cell_type": "code",
      "source": [
        "from transformers import MT5ForConditionalGeneration, MT5Tokenizer\n",
        "import nltk\n",
        "from nltk.translate.bleu_score import sentence_bleu, SmoothingFunction\n",
        "from rouge_score import rouge_scorer\n",
        "\n",
        "# Load mT5 model and tokenizer\n",
        "model_name = \"google/mt5-small\"\n",
        "tokenizer = MT5Tokenizer.from_pretrained(model_name)\n",
        "model = MT5ForConditionalGeneration.from_pretrained(model_name)\n",
        "\n",
        "# Define functions to calculate BLEU and ROUGE scores\n",
        "def calculate_bleu(reference, hypothesis):\n",
        "    reference_tokens = [reference.split()]\n",
        "    hypothesis_tokens = hypothesis.split()\n",
        "    smoothie = SmoothingFunction().method4\n",
        "    score = sentence_bleu(reference_tokens, hypothesis_tokens, smoothing_function=smoothie)\n",
        "    return score\n",
        "\n",
        "def calculate_rouge(reference, hypothesis):\n",
        "    scorer = rouge_scorer.RougeScorer(['rouge1', 'rouge2', 'rougeL'], use_stemmer=True)\n",
        "    scores = scorer.score(reference, hypothesis)\n",
        "    return scores\n",
        "\n",
        "# Initialize lists to store BLEU and ROUGE scores\n",
        "bleu_scores = []\n",
        "rouge_scores = []\n",
        "\n",
        "# Function to generate summary using mT5\n",
        "def generate_summary_mt5(article):\n",
        "    input_ids = tokenizer.encode(\"summarize: \" + article, return_tensors=\"pt\", max_length=512, truncation=True)\n",
        "    summary_ids = model.generate(input_ids, max_length=40, min_length=20, length_penalty=2.0, num_beams=4, early_stopping=True)\n",
        "    summary = tokenizer.decode(summary_ids[0], skip_special_tokens=True)\n",
        "    return summary\n",
        "\n",
        "# Loop over the first 50 articles and their summaries\n",
        "for i in range(50):\n",
        "    true_summary = summary_corpus[i]\n",
        "    article = article_corpus[i]\n",
        "\n",
        "    # Generate summary using mT5\n",
        "    predicted_summary = generate_summary_mt5(article)\n",
        "\n",
        "    # Calculate BLEU score\n",
        "    bleu_score = calculate_bleu(true_summary, predicted_summary)\n",
        "    bleu_scores.append(bleu_score)\n",
        "\n",
        "    # Calculate ROUGE scores\n",
        "    rouge_score = calculate_rouge(true_summary, predicted_summary)\n",
        "    rouge_scores.append(rouge_score)\n",
        "\n",
        "    print(f\"True Summary: {true_summary}\")\n",
        "    print(f\"Predicted Summary: {predicted_summary}\")\n",
        "    print(f\"BLEU Score: {bleu_score}\")\n",
        "    print(f\"ROUGE Scores: {rouge_score}\")\n",
        "    print(\"-\" * 50)\n",
        "\n",
        "# Calculate average BLEU score\n",
        "average_bleu = sum(bleu_scores) / len(bleu_scores)\n",
        "print(f\"Average BLEU Score: {average_bleu}\")\n",
        "\n",
        "# Calculate average ROUGE scores\n",
        "average_rouge1 = sum(score['rouge1'].fmeasure for score in rouge_scores) / len(rouge_scores)\n",
        "average_rouge2 = sum(score['rouge2'].fmeasure for score in rouge_scores) / len(rouge_scores)\n",
        "average_rougeL = sum(score['rougeL'].fmeasure for score in rouge_scores) / len(rouge_scores)\n",
        "print(f\"Average ROUGE-1 Score: {average_rouge1}\")\n",
        "print(f\"Average ROUGE-2 Score: {average_rouge2}\")\n",
        "print(f\"Average ROUGE-L Score: {average_rougeL}\")\n"
      ],
      "metadata": {
        "colab": {
          "base_uri": "https://localhost:8080/",
          "height": 1000,
          "referenced_widgets": [
            "72112c9148f74861b00c1ed8c1857c2b",
            "cc8b75f6627d4d4891294fe8dd4b5ee1",
            "39b8eaa1f4434d138d4f1e1783035941",
            "1f040646876742deb8c16a3284bb6469",
            "2994cde2a083499a908676c52349f357",
            "049bfc0493d543c493e74f40e4c5c160",
            "1db67e79291243a2a73c5851b38c246b",
            "449e5f916d8a42ba8506968bc1257a7e",
            "d258963364e141ee9c779d7c0b8dbfea",
            "1250d2f2cf4c409f9aa904a47a25678b",
            "2ea06b17d10842faba6916b4069d734e",
            "fd0bd66f25804b44965556f384d9f271",
            "1547ee6eb1a3460fb9908a6f0e7cb1e2",
            "9583e1ad67ac483dba836e49db14594a",
            "08848ec05e324995b81fc2b793b127de",
            "4798186e307046fca185533572021645",
            "b07b5d541d90488ebafbbeb63e749b5d",
            "984d2ea68f92445287445b5535952e5a",
            "2eabe437d32e4d8eb1c4e4b7dbef452b",
            "ac88a795ee18481f8bad37b96903d8aa",
            "d43c48973a44481bb053e181c611bec8",
            "b850148e486341deb189dd867e7ff33b",
            "66dc0a2fd04046f2ba5e53c2196c2b31",
            "32725718c31742c49c074a3df685c749",
            "da819a795fab490b8ac23b496bbf773f",
            "c45941fedb374b3f8f06344ffd44c4ac",
            "9bad222edb2e4a18a29b53feada3b3fc",
            "5ce62fd0ab2a4b53a0b098c3868d64d1",
            "c74bb1950e684ac1a3aa161246fd18ec",
            "8f5a0336e6bf4003b14eb87071d2e343",
            "099c0bb60298459e9cce807d3ab23edb",
            "5aea9c567b9b4691b3380e070ac7a495",
            "07789944a4ff4f59b8ecfa4e32bd1065",
            "920691db051b46e6b1ee73787d7a9acf",
            "edf46f9e5a144e038532960ac94bbbed",
            "f9b0829c06f9430b8ad30d91fcde3f26",
            "7946d0adcaf448868ac577e25bf8a09a",
            "dcc3d183a7514ef2a67800f987909837",
            "866b6727f0f844c1822742c6cac19add",
            "185cea9a346745a69d69e97520527fdd",
            "088bffc0e8034f08b4a484837c3a3456",
            "d6fdf3568b54463c8b67e6db70090ded",
            "87fd438fefac4f349c991642b79f978e",
            "12d20043176c4badb7611f96fe57999d",
            "c0726bdd4d084207b1df5a50b27cecbd",
            "5a279b36c88f4c06aba5bd4b67c15935",
            "18fe229218d9430fa2a784412a865332",
            "38137decec3e46d88b8658a0aef717f2",
            "e9bef515fa0a432a80dacd7082b325ed",
            "6e5ced90f9ba40c3adee867f8cecf609",
            "78ad603054594d858ca34fc22cdf5ee2",
            "73b26b629d58438e92f0ebd91f1ae9dd",
            "763f66b8b0514271895699984862dfb7",
            "d966bd0c38704787955dbb4f556222d7",
            "d028e17f386d468f8d1015ddc833b89a",
            "fdd360a68a1d4af1a6ad8a8f396a36ac",
            "9c2cb3a3f6bb47f8b59d3b6025596736",
            "3a2819866a854c79a41f8674fb774136",
            "bf64ed6dc6794c3592f759ee254d889a",
            "370e893a0f9446a78ad9084dcb5e3d56",
            "c7607f8228a04e11b6fd271ad55c42eb",
            "42005e2aeb454cfcb420e7e637c74d19",
            "7fe78a5c01f44749be96691ccdf4e70e",
            "205b762577594e03be242d6a99b10183",
            "ae4b0cdf1c1f4f3c9d9d1b253408774b",
            "04c2aa1218804bd5a9d0ecfbc6fbb920"
          ]
        },
        "id": "psqbIqzfguwh",
        "outputId": "88979561-1937-4bcd-8d61-54588fed156c"
      },
      "execution_count": null,
      "outputs": [
        {
          "output_type": "stream",
          "name": "stderr",
          "text": [
            "/usr/local/lib/python3.10/dist-packages/huggingface_hub/utils/_token.py:89: UserWarning: \n",
            "The secret `HF_TOKEN` does not exist in your Colab secrets.\n",
            "To authenticate with the Hugging Face Hub, create a token in your settings tab (https://huggingface.co/settings/tokens), set it as secret in your Google Colab and restart your session.\n",
            "You will be able to reuse this secret in all of your notebooks.\n",
            "Please note that authentication is recommended but still optional to access public models or datasets.\n",
            "  warnings.warn(\n"
          ]
        },
        {
          "output_type": "display_data",
          "data": {
            "text/plain": [
              "tokenizer_config.json:   0%|          | 0.00/82.0 [00:00<?, ?B/s]"
            ],
            "application/vnd.jupyter.widget-view+json": {
              "version_major": 2,
              "version_minor": 0,
              "model_id": "72112c9148f74861b00c1ed8c1857c2b"
            }
          },
          "metadata": {}
        },
        {
          "output_type": "display_data",
          "data": {
            "text/plain": [
              "spiece.model:   0%|          | 0.00/4.31M [00:00<?, ?B/s]"
            ],
            "application/vnd.jupyter.widget-view+json": {
              "version_major": 2,
              "version_minor": 0,
              "model_id": "fd0bd66f25804b44965556f384d9f271"
            }
          },
          "metadata": {}
        },
        {
          "output_type": "display_data",
          "data": {
            "text/plain": [
              "special_tokens_map.json:   0%|          | 0.00/99.0 [00:00<?, ?B/s]"
            ],
            "application/vnd.jupyter.widget-view+json": {
              "version_major": 2,
              "version_minor": 0,
              "model_id": "66dc0a2fd04046f2ba5e53c2196c2b31"
            }
          },
          "metadata": {}
        },
        {
          "output_type": "stream",
          "name": "stderr",
          "text": [
            "/usr/local/lib/python3.10/dist-packages/huggingface_hub/file_download.py:1132: FutureWarning: `resume_download` is deprecated and will be removed in version 1.0.0. Downloads always resume when possible. If you want to force a new download, use `force_download=True`.\n",
            "  warnings.warn(\n"
          ]
        },
        {
          "output_type": "display_data",
          "data": {
            "text/plain": [
              "config.json:   0%|          | 0.00/553 [00:00<?, ?B/s]"
            ],
            "application/vnd.jupyter.widget-view+json": {
              "version_major": 2,
              "version_minor": 0,
              "model_id": "920691db051b46e6b1ee73787d7a9acf"
            }
          },
          "metadata": {}
        },
        {
          "output_type": "stream",
          "name": "stderr",
          "text": [
            "You are using the default legacy behaviour of the <class 'transformers.models.t5.tokenization_t5.T5Tokenizer'>. This is expected, and simply means that the `legacy` (previous) behavior will be used so nothing changes for you. If you want to use the new behaviour, set `legacy=False`. This should only be set if you understand what it means, and thoroughly read the reason why this was added as explained in https://github.com/huggingface/transformers/pull/24565\n"
          ]
        },
        {
          "output_type": "display_data",
          "data": {
            "text/plain": [
              "pytorch_model.bin:   0%|          | 0.00/1.20G [00:00<?, ?B/s]"
            ],
            "application/vnd.jupyter.widget-view+json": {
              "version_major": 2,
              "version_minor": 0,
              "model_id": "c0726bdd4d084207b1df5a50b27cecbd"
            }
          },
          "metadata": {}
        },
        {
          "output_type": "display_data",
          "data": {
            "text/plain": [
              "generation_config.json:   0%|          | 0.00/147 [00:00<?, ?B/s]"
            ],
            "application/vnd.jupyter.widget-view+json": {
              "version_major": 2,
              "version_minor": 0,
              "model_id": "fdd360a68a1d4af1a6ad8a8f396a36ac"
            }
          },
          "metadata": {}
        },
        {
          "output_type": "stream",
          "name": "stdout",
          "text": [
            "True Summary: ब्लैकबेरी हैंडसेट बनाने वाली कनाडा की कंपनी रिसर्च इन मोशन रिम अपनी पुनर्गठन योजना के तहत अगले कुछ सप्ताह में वैश्विक स्तर पर 2 000 कर्मचारियों की छंटनी करेगी.\n",
            "Predicted Summary: <extra_id_0> योजना तहत अगले सप्ताह वैश्विक स्तर 2 000 कर्मचारियों छंटनी करेगी.\n",
            "BLEU Score: 0.044664612011723566\n",
            "ROUGE Scores: {'rouge1': Score(precision=0.4, recall=1.0, fmeasure=0.5714285714285715), 'rouge2': Score(precision=0.25, recall=1.0, fmeasure=0.4), 'rougeL': Score(precision=0.4, recall=1.0, fmeasure=0.5714285714285715)}\n",
            "--------------------------------------------------\n",
            "True Summary: श्रद्धांजलि सभा के दौरान अचानक खराब हुई हिलेरी क्लिंटन की तबीयत डॉक्टरों ने हिलेरी को निमोनिया होने की पुष्टि की है राष्ट्रपति पद के लिए डेमोक्रेटिक उम्मीदवार हैं क्लिंटन\n",
            "Predicted Summary: <extra_id_0> हिलेरी चिकित्सक लीसा बरडाक बयान पूर्व विदेश मंत्री एलर्जी\n",
            "BLEU Score: 0.0035085051637300736\n",
            "ROUGE Scores: {'rouge1': Score(precision=0.0, recall=0.0, fmeasure=0.0), 'rouge2': Score(precision=0.0, recall=0.0, fmeasure=0.0), 'rougeL': Score(precision=0, recall=0, fmeasure=0)}\n",
            "--------------------------------------------------\n",
            "True Summary: पूर्व भारतीय कप्तान अनिल कुंबले का मानना है कि भारत का स्पिन विभाग स्तरीय गेंदबाजों से भरा है और उन्होंने टीम में वापसी करने वाले ऑफ स्पिनर हरभजन सिंह को देश के सर्वश्रेष्ठ स्पिनरों में से एक करार दिया.\n",
            "Predicted Summary: <extra_id_0> स्पिनर अमित मिश्रा और चावला और चावला और\n",
            "BLEU Score: 0.0010916844358825168\n",
            "ROUGE Scores: {'rouge1': Score(precision=0.0, recall=0.0, fmeasure=0.0), 'rouge2': Score(precision=0.0, recall=0.0, fmeasure=0.0), 'rougeL': Score(precision=0, recall=0, fmeasure=0)}\n",
            "--------------------------------------------------\n",
            "True Summary: इंडिगो के ग्राउंड स्टाफ ने यात्री से की हाथापाई इंडिगो एयरलाइन ने इस घटना के लिए माफी मांग ली है 15 अक्टूबर की है ये घटना\n",
            "Predicted Summary: <extra_id_0> बंद हूं? <extra_id_10> बंद हूं! बंद हूं! बंद हंस\n",
            "BLEU Score: 0\n",
            "ROUGE Scores: {'rouge1': Score(precision=0.0, recall=0.0, fmeasure=0.0), 'rouge2': Score(precision=0.0, recall=0.0, fmeasure=0.0), 'rougeL': Score(precision=0.0, recall=0.0, fmeasure=0.0)}\n",
            "--------------------------------------------------\n",
            "True Summary: मीजान जाफरी ने किया खुलासा नव्या नंदा को बताया अच्छा दोस्त फिल्म मलाल से बॉलीवुड में एंट्री करेंगे मीजान जाफरी\n",
            "Predicted Summary: <extra_id_0> मिरर हाल बॉलीवुड एक्टर मीजान जाफरी Meezaan Jaffery\n",
            "BLEU Score: 0.0206067843108239\n",
            "ROUGE Scores: {'rouge1': Score(precision=0.0, recall=0.0, fmeasure=0.0), 'rouge2': Score(precision=0.0, recall=0.0, fmeasure=0.0), 'rougeL': Score(precision=0, recall=0, fmeasure=0)}\n",
            "--------------------------------------------------\n",
            "True Summary: 100 समर्थकों के साथ पुलिस अधिकारी के आवास के बाहर पहुंचे थे विधायक हंगामे के दौरान मीडिया से की बात कुलदीप सेंगर ने कहा मैं कोई भगोड़ा नहीं हूं\n",
            "Predicted Summary: <extra_id_0> रही एसआईटी रही एसआईटी रही एसआईटी रही एसआईटी\n",
            "BLEU Score: 0\n",
            "ROUGE Scores: {'rouge1': Score(precision=0.0, recall=0.0, fmeasure=0.0), 'rouge2': Score(precision=0.0, recall=0.0, fmeasure=0.0), 'rougeL': Score(precision=0.0, recall=0.0, fmeasure=0.0)}\n",
            "--------------------------------------------------\n",
            "True Summary: ज़ाकिर नाइक के 78 बैंक खातों की एनआईए जांच कर रही है नाइक के एनजीओ से जुड़े 23 लोगों से भी पूछताछ की जा रही है धर्म के नाम पर विदेशी चंदा जुटाने और लोगों को भड़काने का आरोप\n",
            "Predicted Summary: <extra_id_0> नाइक नाइक नाइक नाइक नाइक नाइक\n",
            "BLEU Score: 0.00039802565439443354\n",
            "ROUGE Scores: {'rouge1': Score(precision=0.0, recall=0.0, fmeasure=0.0), 'rouge2': Score(precision=0.0, recall=0.0, fmeasure=0.0), 'rougeL': Score(precision=0.0, recall=0.0, fmeasure=0.0)}\n",
            "--------------------------------------------------\n",
            "True Summary: राष्ट्रपति प्रतिभा पाटील रविवार सुबह सेशेल्स और दक्षिण अफ्रीका के नौ दिवसीय दौरे पर रवाना हुईं. वह दोनों देशों में अपने समकक्षों के साथ द्विपक्षीय क्षेत्रीय एवं अंतरराष्ट्रीय मुद्दों पर विचार विमर्श करेंगी.\n",
            "Predicted Summary: <extra_id_0> करेंगी. यहां तक कि यहां तक कि यात्रा करेंगी.\n",
            "BLEU Score: 0.0023518213428678214\n",
            "ROUGE Scores: {'rouge1': Score(precision=0.0, recall=0.0, fmeasure=0.0), 'rouge2': Score(precision=0.0, recall=0.0, fmeasure=0.0), 'rougeL': Score(precision=0, recall=0, fmeasure=0)}\n",
            "--------------------------------------------------\n",
            "True Summary: कहा जब संसद नहीं चल रही हो तो अपने क्षेत्र में लगातार जनता के बीच रहें क्षेत्र की समस्याओं का मंत्रियों और अफसरों से मुलाकात कर समाधान करें क्षेत्र के बीजेपी कार्यकर्ताओं के साथ मिलकर पार्टी के कार्यक्रम करते रहें\n",
            "Predicted Summary: <extra_id_0> करेंगे पीएम मोदी. <extra_id_10>  <extra_id_11>!!!!\n",
            "BLEU Score: 0\n",
            "ROUGE Scores: {'rouge1': Score(precision=0.0, recall=0.0, fmeasure=0.0), 'rouge2': Score(precision=0.0, recall=0.0, fmeasure=0.0), 'rougeL': Score(precision=0, recall=0, fmeasure=0)}\n",
            "--------------------------------------------------\n",
            "True Summary: सलमान खान दिखे बुजुर्ग के गेटअप में उनकी तस्वीर हुई वायरल फिल्म भारत में है उनका यह लुक\n",
            "Predicted Summary: <extra_id_0> तस्वीर शेयर ती तस्वीर शेयर ती तस्वीर शेयर\n",
            "BLEU Score: 0.009466586570724262\n",
            "ROUGE Scores: {'rouge1': Score(precision=0.0, recall=0.0, fmeasure=0.0), 'rouge2': Score(precision=0.0, recall=0.0, fmeasure=0.0), 'rougeL': Score(precision=0, recall=0, fmeasure=0)}\n",
            "--------------------------------------------------\n",
            "True Summary: फरवरी में इटली के इस जहाज का अपहरण किया गया था जिसमें पांच इटली के रहने वाले और 17 भारतीय थे.\n",
            "Predicted Summary: <extra_id_0> इटली तेल भरे जहाज अपहरण इटली था.\n",
            "BLEU Score: 0.007964283012618947\n",
            "ROUGE Scores: {'rouge1': Score(precision=0.0, recall=0.0, fmeasure=0.0), 'rouge2': Score(precision=0.0, recall=0.0, fmeasure=0.0), 'rougeL': Score(precision=0.0, recall=0.0, fmeasure=0.0)}\n",
            "--------------------------------------------------\n",
            "True Summary: पहले अमेरिका भारत पश्चिम तटीय शिखर सम्मेलन में जुटे दोनों देशों के 300 से अधिक प्रमुख उद्योगपतियों ने दोनों देशों के बीच मौजूदा और भावी सहयोग में उपस्थित अपार सम्भावनाओं को रेखांकित किया है.\n",
            "Predicted Summary: <extra_id_0> लिया. अमेरिका भारत व्यापार परिषद अमेरिका भारत व्यापार नीति\n",
            "BLEU Score: 0.005166464548479345\n",
            "ROUGE Scores: {'rouge1': Score(precision=0.0, recall=0.0, fmeasure=0.0), 'rouge2': Score(precision=0.0, recall=0.0, fmeasure=0.0), 'rougeL': Score(precision=0.0, recall=0.0, fmeasure=0.0)}\n",
            "--------------------------------------------------\n",
            "True Summary: हुंदै मोटर इंडिया अपने वाहनों की कीमत 1 फरवरी से 20 000 रुपये तक बढ़ाएगी. यह वृद्धि कंपनी के सभी मॉडलों के लिए होगी.\n",
            "Predicted Summary: <extra_id_0> वृद्धि कंपनी मॉडलों होगी.टिप्पणियां:\n",
            "BLEU Score: 0.0030008589713847737\n",
            "ROUGE Scores: {'rouge1': Score(precision=0.0, recall=0.0, fmeasure=0.0), 'rouge2': Score(precision=0.0, recall=0.0, fmeasure=0.0), 'rougeL': Score(precision=0.0, recall=0.0, fmeasure=0.0)}\n",
            "--------------------------------------------------\n",
            "True Summary: इस अयोजन में राष्ट्रपति भवन सहित कई इमारतों में एक घंटे के लिए बत्तियां बुझा दी जाएंगी. जनता से इस आयोजन को सफल बनाने की अपील की गई है.\n",
            "Predicted Summary: <extra_id_0> साल अर्थ ऑवर आयोजन है. साल अर्थ ऑवर आयोजन है.\n",
            "BLEU Score: 0.005000491204874355\n",
            "ROUGE Scores: {'rouge1': Score(precision=0.0, recall=0.0, fmeasure=0.0), 'rouge2': Score(precision=0.0, recall=0.0, fmeasure=0.0), 'rougeL': Score(precision=0, recall=0, fmeasure=0)}\n",
            "--------------------------------------------------\n",
            "True Summary: गुजरात के मुख्यमंत्री नरेंद्र मोदी ने कहा कि उत्तराखंड पर जो प्राकृतिक विपदा आई है वह राष्ट्रीय आपदा जैसी है. उन्होंने कहा हम इस संकट से निबटने में राज्य सरकार को जो भी मदद कर सकते हैं करेंगे.\n",
            "Predicted Summary: <extra_id_0> करेंगे. हम संकट घड़ी देश पर्वतीय राज्य खड़ा है.\n",
            "BLEU Score: 0.00213304288675432\n",
            "ROUGE Scores: {'rouge1': Score(precision=0.0, recall=0.0, fmeasure=0.0), 'rouge2': Score(precision=0.0, recall=0.0, fmeasure=0.0), 'rougeL': Score(precision=0, recall=0, fmeasure=0)}\n",
            "--------------------------------------------------\n",
            "True Summary: पुणे वॉरियर्स के कोच ज्यौफ मार्श ने कहा कि डेक्कन चार्जर्स के खिलाफ मंगलवार को आईपीएल मैच से पहले सौरव गांगुली काफी नर्वस थे.\n",
            "Predicted Summary: <extra_id_0> थे. मैंने यह भी पढ़ें :...\n",
            "BLEU Score: 0.0028528871888707954\n",
            "ROUGE Scores: {'rouge1': Score(precision=0.0, recall=0.0, fmeasure=0.0), 'rouge2': Score(precision=0.0, recall=0.0, fmeasure=0.0), 'rougeL': Score(precision=0, recall=0, fmeasure=0)}\n",
            "--------------------------------------------------\n",
            "True Summary: संयुक्त राष्ट्र महासचिव बान की मून ने पाक के पश्चिमोत्तर इलाके में स्थित एक सैन्य प्रशिक्षण केंद्र में हुए आत्मघाती हमले की कड़ी निंदा की है.\n",
            "Predicted Summary: <extra_id_0> समाचार समाचार समाचार समाचार समाचार समाचार समाचार समाचार समाचार समाचार\n",
            "BLEU Score: 0\n",
            "ROUGE Scores: {'rouge1': Score(precision=0.0, recall=0.0, fmeasure=0.0), 'rouge2': Score(precision=0.0, recall=0.0, fmeasure=0.0), 'rougeL': Score(precision=0, recall=0, fmeasure=0)}\n",
            "--------------------------------------------------\n",
            "True Summary: बेंगलुरू में नए साल की रात हुई छेड़खानी पर पीड़िता ने सुनाई आपबीती पीड़िता ने छेड़खानी करने वाले को पीटा तो लोगों ने उसका बचाव किया बेंगलुरू की शर्मनाक घटना की हो रही है चारों तरफ कड़ी निंदा\n",
            "Predicted Summary: <extra_id_0> रही थीं सी लड़कियों लड़कियों लड़कियों करती\n",
            "BLEU Score: 0.0006725985279883417\n",
            "ROUGE Scores: {'rouge1': Score(precision=0.0, recall=0.0, fmeasure=0.0), 'rouge2': Score(precision=0.0, recall=0.0, fmeasure=0.0), 'rougeL': Score(precision=0, recall=0, fmeasure=0)}\n",
            "--------------------------------------------------\n",
            "True Summary: फिलहाल इस योजना को 25 गांवों में आज़माया जा चुका है इस प्रोजेक्ट को ब्रसेल्स में हुए इनोवेशन चैलेंज में 82 लाख का इनाम मिला दावा है कि इससे कम खर्चे में 5जी भी इस्तेमाल में लाया जा सकता है\n",
            "Predicted Summary: <extra_id_0> योजना योजना योजना योजना योजना योजना योजना योजना योजना\n",
            "BLEU Score: 0.0011678799160111377\n",
            "ROUGE Scores: {'rouge1': Score(precision=0.0, recall=0.0, fmeasure=0.0), 'rouge2': Score(precision=0.0, recall=0.0, fmeasure=0.0), 'rougeL': Score(precision=0.0, recall=0.0, fmeasure=0.0)}\n",
            "--------------------------------------------------\n",
            "True Summary: उत्तर भारत में लगातार पारा 40 के पार रहने के कारण लोग भीषण गर्मी का सामना कर रहे हैं. तेज धूप के साथ लू ने लोगों का जीना मुहाल कर दिया है.\n",
            "Predicted Summary: <extra_id_0> राजधानी पटना समेत बिहार भीषण लू गर्मी दौर जारी है.\n",
            "BLEU Score: 0.004527163891876688\n",
            "ROUGE Scores: {'rouge1': Score(precision=0.0, recall=0.0, fmeasure=0.0), 'rouge2': Score(precision=0.0, recall=0.0, fmeasure=0.0), 'rougeL': Score(precision=0.0, recall=0.0, fmeasure=0.0)}\n",
            "--------------------------------------------------\n",
            "True Summary: दीवाली धन धना धन ऑफर लेकर आया है रिलायंस जियो कैशबैक वाउचर के रूप में मिलेगा 50 रुपये के 8 वाउचर मिलेंगे जिनका यूज कर सकेंगे\n",
            "Predicted Summary: <extra_id_0> रही बातें बातें बातें बातें बातें बातें\n",
            "BLEU Score: 0\n",
            "ROUGE Scores: {'rouge1': Score(precision=0.0, recall=0.0, fmeasure=0.0), 'rouge2': Score(precision=0.0, recall=0.0, fmeasure=0.0), 'rougeL': Score(precision=0.0, recall=0.0, fmeasure=0.0)}\n",
            "--------------------------------------------------\n",
            "True Summary: अजहर ने घंटी बजाकर की थी पहले टी20 मैच की शुरुआत मैच फिक्सिंग के आरोप में वे प्रतिबंधित किए जा चुके हैं गंभीर बोले टीम इंडिया जीती पर BCCI COA और CAB हारी\n",
            "Predicted Summary: <extra_id_0> गौतम गंभीर अब उन् होंने 4154 रन बनाए\n",
            "BLEU Score: 0.0017880072453595123\n",
            "ROUGE Scores: {'rouge1': Score(precision=0.0, recall=0.0, fmeasure=0.0), 'rouge2': Score(precision=0.0, recall=0.0, fmeasure=0.0), 'rougeL': Score(precision=0.0, recall=0.0, fmeasure=0.0)}\n",
            "--------------------------------------------------\n",
            "True Summary: शरीफ ने वानी को कश् मीर की मिट्टी का लाल कहा भारत पर युद्ध जैसा माहौल बनाने का लगाया आरोप पाक संसद के संयुक् त सत्र में दिया भाषण\n",
            "Predicted Summary: <extra_id_0> किया गया है. पाकिस्तानी प्रधानमंत्री नवाज शरीफ भारत\n",
            "BLEU Score: 0.003316244501901566\n",
            "ROUGE Scores: {'rouge1': Score(precision=0.0, recall=0.0, fmeasure=0.0), 'rouge2': Score(precision=0.0, recall=0.0, fmeasure=0.0), 'rougeL': Score(precision=0, recall=0, fmeasure=0)}\n",
            "--------------------------------------------------\n",
            "True Summary: संजय राउत का बीजेपी पर निशाना शिवसेना को सरकार बनाने का न्यौता कांग्रेस और एनसीपी दे सकती है समर्थन\n",
            "Predicted Summary: <extra_id_0> भाजपा सरकार बनाने कवायद बीच साथ साथ साथ साथ साथ\n",
            "BLEU Score: 0.025083219468082004\n",
            "ROUGE Scores: {'rouge1': Score(precision=0.0, recall=0.0, fmeasure=0.0), 'rouge2': Score(precision=0.0, recall=0.0, fmeasure=0.0), 'rougeL': Score(precision=0, recall=0, fmeasure=0)}\n",
            "--------------------------------------------------\n",
            "True Summary: मुंबई में एक चार मंजिला इमारत गिरने से चार लोगों की मौत हो गई है. यह हादसा मुंबई के भिंडी बाज़ार इलाक़े में हुआ.\n",
            "Predicted Summary: <extra_id_0> बंद है. बंद है <extra_id_10> बंद है! बंद है! बंद\n",
            "BLEU Score: 0.006624631899500607\n",
            "ROUGE Scores: {'rouge1': Score(precision=0.0, recall=0.0, fmeasure=0.0), 'rouge2': Score(precision=0.0, recall=0.0, fmeasure=0.0), 'rougeL': Score(precision=0, recall=0, fmeasure=0)}\n",
            "--------------------------------------------------\n",
            "True Summary: ईनामी बदमाश को पुलिस ने मार गिराया इस मुठभेड़ में दारोगा भी गंभीर रूप से जख्मी हो गए बदमाश पर था 50 हजार का ईनाम\n",
            "Predicted Summary: <extra_id_0> है. <extra_id_10>ें <extra_id_10>ें! - यह भी हैं....: <extra_id_51> है.\n",
            "BLEU Score: 0.0052340746550544525\n",
            "ROUGE Scores: {'rouge1': Score(precision=0.0, recall=0.0, fmeasure=0.0), 'rouge2': Score(precision=0.0, recall=0.0, fmeasure=0.0), 'rougeL': Score(precision=0.0, recall=0.0, fmeasure=0.0)}\n",
            "--------------------------------------------------\n",
            "True Summary: पड़ोसी ने घर में घुसकर किया कथित बलात्कार विरोध करने पर बच्ची के सिर में मारा पत्थर पुलिस ने आरोपी को गिरफ्तार कर लिया है\n",
            "Predicted Summary: <extra_id_0> करणीविहार थाना क्षेत्र युवक देर रात पड़ोसी\n",
            "BLEU Score: 0.0034157371689152944\n",
            "ROUGE Scores: {'rouge1': Score(precision=0.0, recall=0.0, fmeasure=0.0), 'rouge2': Score(precision=0.0, recall=0.0, fmeasure=0.0), 'rougeL': Score(precision=0, recall=0, fmeasure=0)}\n",
            "--------------------------------------------------\n",
            "True Summary: 1989 में जनता दल में शामिल होकर किया सियासी आगाज 2006 में समाजवादी पार्टी ने किया निष्कासित 2009 में मुलायम सिंह की बहू डिंपल यादव को हराया चुनाव\n",
            "Predicted Summary: <extra_id_0> किया किया किया किया किया किया किया किया किया\n",
            "BLEU Score: 0.0046111480588281505\n",
            "ROUGE Scores: {'rouge1': Score(precision=0.0, recall=0.0, fmeasure=0.0), 'rouge2': Score(precision=0.0, recall=0.0, fmeasure=0.0), 'rougeL': Score(precision=0.0, recall=0.0, fmeasure=0.0)}\n",
            "--------------------------------------------------\n",
            "True Summary: रक्षामंत्री एके एंटनी के नेतृत्व में बनाई गई उच्चस्तरीय समिति ने कहा कि उत्तर प्रदेश में पार्टी की बुरी हार के पीछे भ्रष्टाचार को लेकर बनी छवि महंगाई टिकटों का गलत वितरण और विवादित प्रचार मुख्य वजह थे.\n",
            "Predicted Summary: <extra_id_0> - ताज़ा खबरें - ताज़ा खबरें - ताजा\n",
            "BLEU Score: 0\n",
            "ROUGE Scores: {'rouge1': Score(precision=0.0, recall=0.0, fmeasure=0.0), 'rouge2': Score(precision=0.0, recall=0.0, fmeasure=0.0), 'rougeL': Score(precision=0, recall=0, fmeasure=0)}\n",
            "--------------------------------------------------\n",
            "True Summary: 18 सितंबर तक जमा कराने हैं पैसे सुप्रीम कोर्ट मुआवजे का मामला बाद में सुनेगा सुपरटेक की 5 करोड़ जमा करने की दलील को ठुकराया\n",
            "Predicted Summary: <extra_id_0> गिराने आदेश दिए सुप्रीम कोर्ट.नई दिल्ली.नई समाचार\n",
            "BLEU Score: 0.0034157371689152944\n",
            "ROUGE Scores: {'rouge1': Score(precision=0.0, recall=0.0, fmeasure=0.0), 'rouge2': Score(precision=0.0, recall=0.0, fmeasure=0.0), 'rougeL': Score(precision=0.0, recall=0.0, fmeasure=0.0)}\n",
            "--------------------------------------------------\n",
            "True Summary: शाहरुख खान के लाइव इंटरव् यू में बीच में आया बेटा अबराम अपने अंगूठे की चोट पापा शाहरुख को दिखाने आ गए अबराम अबराम शाहरुख के हर फोटो का हिस् सा बनना चाहता है\n",
            "Predicted Summary: <extra_id_0> शाहरुख खान और शाहरुख खान और शाहरुख खान और शाहरुख खान\n",
            "BLEU Score: 0.009078244552912389\n",
            "ROUGE Scores: {'rouge1': Score(precision=0.0, recall=0.0, fmeasure=0.0), 'rouge2': Score(precision=0.0, recall=0.0, fmeasure=0.0), 'rougeL': Score(precision=0, recall=0, fmeasure=0)}\n",
            "--------------------------------------------------\n",
            "True Summary: महाराष्ट्र विधानसभा में पेश सीएजी की रिपोर्ट ने सरकार को परेशानी में डाल दिया है. सीएजी का कहना है कि प्रोजेक्ट की लागत बेतहाशा बढ़ी है फिर भी 426 प्रोजेक्ट अधूरे हैं.\n",
            "Predicted Summary: <extra_id_0> सीएजी रिपोर्ट सीएजी रिपोर्ट सरकार परेशानी डाल है.\n",
            "BLEU Score: 0.003250114990254641\n",
            "ROUGE Scores: {'rouge1': Score(precision=0.0, recall=0.0, fmeasure=0.0), 'rouge2': Score(precision=0.0, recall=0.0, fmeasure=0.0), 'rougeL': Score(precision=0.0, recall=0.0, fmeasure=0.0)}\n",
            "--------------------------------------------------\n",
            "True Summary: पालघर लोकसभा उपचुनाव का मामला चुनाव अधिकारी ने प्रोटोकाल तोड़कर निजी कार का इस्तेमाल किया निर्वाचन अधिकारी के जरिए जांच के आदेश\n",
            "Predicted Summary: <extra_id_0> है <extra_id_10>ने... <extra_id_56>. <extra_id_55>, <extra_id_55>, <extra_id_55>  <extra_id_35>  <extra_id_35>  <extra_id_56>\n",
            "BLEU Score: 0\n",
            "ROUGE Scores: {'rouge1': Score(precision=0.0, recall=0.0, fmeasure=0.0), 'rouge2': Score(precision=0.0, recall=0.0, fmeasure=0.0), 'rougeL': Score(precision=0, recall=0, fmeasure=0)}\n",
            "--------------------------------------------------\n",
            "True Summary: पूछा मनोज तिवारी पीड़ित मां के साथ या फिर मैक्स प्रशासन के साथ बेहतर स्वास्थ्य सेवाएं देने में निजी अस्पताल भी सिस्टम का अहम हिस्सा नियमों का उल्लंघन होने पर सरकार न्यायसंगत कदम उठाएगी\n",
            "Predicted Summary: <extra_id_0> । <extra_id_11> : गोपाल राय - तैमूर! -\n",
            "BLEU Score: 0\n",
            "ROUGE Scores: {'rouge1': Score(precision=0.0, recall=0.0, fmeasure=0.0), 'rouge2': Score(precision=0.0, recall=0.0, fmeasure=0.0), 'rougeL': Score(precision=0, recall=0, fmeasure=0)}\n",
            "--------------------------------------------------\n",
            "True Summary: तीन तलाक बिल लोकसभा में पेश किया जाएगा सभी सांसदों को सदन में उपस्थित रहने के लिए व्हिप जारी तीन तलाक को गैरकानूनी और अमान्य करार दिया गया\n",
            "Predicted Summary: <extra_id_0> पास करेंगे बिल पास करेंगे पास करेंगे पास करेंगे पास\n",
            "BLEU Score: 0.004605072642815378\n",
            "ROUGE Scores: {'rouge1': Score(precision=0.0, recall=0.0, fmeasure=0.0), 'rouge2': Score(precision=0.0, recall=0.0, fmeasure=0.0), 'rougeL': Score(precision=0, recall=0, fmeasure=0)}\n",
            "--------------------------------------------------\n",
            "True Summary: एयर इंडिया ने एक विशेष किराया योजना पेश की जिसके तहत तीन या पांच दिन पहले टिकट बुक करवाने पर टिकटें अपेक्षाकृत सस्ती मिलेंगी.\n",
            "Predicted Summary: <extra_id_0> करते विशेष किराया योजना पेश है. यही ध्यान\n",
            "BLEU Score: 0.0563745680425794\n",
            "ROUGE Scores: {'rouge1': Score(precision=0.0, recall=0.0, fmeasure=0.0), 'rouge2': Score(precision=0.0, recall=0.0, fmeasure=0.0), 'rougeL': Score(precision=0, recall=0, fmeasure=0)}\n",
            "--------------------------------------------------\n",
            "True Summary: पूर्व राष्ट्रपति एपीजे अब्दुल कलाम ने कहा कि क्षेत्रीय स्तर पर शक्ति संतुलन स्थापित करने के लिए भारत को परमाणु हथियार और बैलेस्टिक मिसाइलें विकसित करनी पड़ीं.\n",
            "Predicted Summary: <extra_id_0> शक्ति संतुलन स्थापित है. कलाम अब समय आ क्षेत्रीय शांति\n",
            "BLEU Score: 0.030801735905683993\n",
            "ROUGE Scores: {'rouge1': Score(precision=0.0, recall=0.0, fmeasure=0.0), 'rouge2': Score(precision=0.0, recall=0.0, fmeasure=0.0), 'rougeL': Score(precision=0, recall=0, fmeasure=0)}\n",
            "--------------------------------------------------\n",
            "True Summary: अभिनेता अक्षय कुमार का कहना है कि वह स्वयं पर लगे खिलाड़ी के लेबल से अलग नहीं होना चाहते. वह अपने बैनर तले बन रही फिल्म खिलाड़ी 786 से एक बार फिर से इस दावे को मजबूत भी कर रहे हैं.\n",
            "Predicted Summary: <extra_id_0> 786 बार दावे मजबूत हैं. निर्देशन 786 बार दावे मजबूत हैं.\n",
            "BLEU Score: 0.002674258931606731\n",
            "ROUGE Scores: {'rouge1': Score(precision=0.2, recall=1.0, fmeasure=0.33333333333333337), 'rouge2': Score(precision=0.0, recall=0.0, fmeasure=0.0), 'rougeL': Score(precision=0.2, recall=1.0, fmeasure=0.33333333333333337)}\n",
            "--------------------------------------------------\n",
            "True Summary: फॉर्मूला वन रेस इंडियन ग्रां पी में सचिन तेंदुलकर सहित कई क्रिकेट खिलाड़ियों राजनेताओं फिल्मी सितारों और चर्चित हस्तियों के पहुंचने की उम्मीद है.\n",
            "Predicted Summary: <extra_id_0> बताया. रेस अंत तेंदुलकर झंडे लहराते नजर आ हैं.\n",
            "BLEU Score: 0.006879024558640436\n",
            "ROUGE Scores: {'rouge1': Score(precision=0.0, recall=0.0, fmeasure=0.0), 'rouge2': Score(precision=0.0, recall=0.0, fmeasure=0.0), 'rougeL': Score(precision=0, recall=0, fmeasure=0)}\n",
            "--------------------------------------------------\n",
            "True Summary: कर्नाटक में 12 मई को होने वाले विधानसभा चुनाव कर्नाटक चुनाव में कुल मिलाकर 2655 उम्मीदवार मैदान में है कर्नाटक में लगभग साढ़े चार करोड़ मतदाता मतदान करेंगे\n",
            "Predicted Summary: <extra_id_0> कांग्रेस पूर्ण बहुमत सरकार लड़ रही जबकि 1155 प्रत्याशी\n",
            "BLEU Score: 0\n",
            "ROUGE Scores: {'rouge1': Score(precision=0.0, recall=0.0, fmeasure=0.0), 'rouge2': Score(precision=0.0, recall=0.0, fmeasure=0.0), 'rougeL': Score(precision=0.0, recall=0.0, fmeasure=0.0)}\n",
            "--------------------------------------------------\n",
            "True Summary: बादशाह के गाने पर शाहरुख खान और काजोल ने किया डांस पागल पर शाहरुख खान और काजोल का वीडियो हुआ वायरल शाहरुख खान और काजोल का यह डांस देखकर रह जाएंगे हैरान\n",
            "Predicted Summary: <extra_id_0> शाहरुख खान Shah Rukh Khan Shah Rukh Khan Shah Rukh Khan Shah Rukh Khan\n",
            "BLEU Score: 0.01245351560717317\n",
            "ROUGE Scores: {'rouge1': Score(precision=0.0, recall=0.0, fmeasure=0.0), 'rouge2': Score(precision=0.0, recall=0.0, fmeasure=0.0), 'rougeL': Score(precision=0, recall=0, fmeasure=0)}\n",
            "--------------------------------------------------\n",
            "True Summary: उत्तराखंड में बाढ़ पीड़ितों की मदद के लिए जहां कुछ लोग पूरी कोशिश कर रहे हैं और उनकी रक्षा के लिए दुआएं की जा रही हैं वहीं प्राकृतिक आपदा की मार झेल रहे लोगों के प्रति मानव उदासीनता की शर्मनाक खबरें भी सामने आ रही हैं.\n",
            "Predicted Summary: <extra_id_0> हैं. हम असहाय हैं. हम असहाय हैं. हम असहाय हैं.\n",
            "BLEU Score: 0.0008965464344572143\n",
            "ROUGE Scores: {'rouge1': Score(precision=0.0, recall=0.0, fmeasure=0.0), 'rouge2': Score(precision=0.0, recall=0.0, fmeasure=0.0), 'rougeL': Score(precision=0, recall=0, fmeasure=0)}\n",
            "--------------------------------------------------\n",
            "True Summary: दिल्ली में आप कांग्रेस साथ नहीं लड़ेगी चुनाव राहुल गांधी ने गठबंधन नहीं करने की बताई वजह राहुल बोले डीपीसीसी आप से गठबंधन को तैयार नहीं\n",
            "Predicted Summary: <extra_id_0> पटरी कांग्रेस पार्टी गठबंधन बात पटरी कांग्रेस पार्टी गठबंधन\n",
            "BLEU Score: 0.006232908885590982\n",
            "ROUGE Scores: {'rouge1': Score(precision=0.0, recall=0.0, fmeasure=0.0), 'rouge2': Score(precision=0.0, recall=0.0, fmeasure=0.0), 'rougeL': Score(precision=0, recall=0, fmeasure=0)}\n",
            "--------------------------------------------------\n",
            "True Summary: केस को सुलझाने के लिए STF की मदद ली जा रही है चारों महिलाओं का मेडिकल हो चुका है बावरिया गैंग का हाथ होने का शक\n",
            "Predicted Summary: <extra_id_0> तक तक तक तक तक तक तक तक तक तक तक तक\n",
            "BLEU Score: 0\n",
            "ROUGE Scores: {'rouge1': Score(precision=0.0, recall=0.0, fmeasure=0.0), 'rouge2': Score(precision=0.0, recall=0.0, fmeasure=0.0), 'rougeL': Score(precision=0.0, recall=0.0, fmeasure=0.0)}\n",
            "--------------------------------------------------\n",
            "True Summary: विवादास्पद सीडी में लगे आरोपों के बाद शांतिभूषण का बचाव करते हुए बिहार के सीएम नीतीश कुमार ने कहा कि उनकी ईमानदारी पर शक नहीं किया जा सकता.\n",
            "Predicted Summary: <extra_id_0> बातचीत सीडी लगे आरोपों: लोकपाल विधेयक प्रारूप\n",
            "BLEU Score: 0.0027917820706311303\n",
            "ROUGE Scores: {'rouge1': Score(precision=0.0, recall=0.0, fmeasure=0.0), 'rouge2': Score(precision=0.0, recall=0.0, fmeasure=0.0), 'rougeL': Score(precision=0, recall=0, fmeasure=0)}\n",
            "--------------------------------------------------\n",
            "True Summary: पाकिस्तान पीपुल्स पार्टी के अध्यक्ष बिलावल भुट्टो जरदारी ने कहा है कि उनकी मां और पूर्व प्रधानमंत्री की हत्या के लिए पाकिस्तान के तत्कालीन राष्ट्रपति परवेज मुशर्रफ जिम्मेदार हैं.\n",
            "Predicted Summary: <extra_id_0> जाने बिलावल पाकिस्तानी सरकार है. पाकिस्तानी सरकार है. पाकिस्तान\n",
            "BLEU Score: 0.004172339303731591\n",
            "ROUGE Scores: {'rouge1': Score(precision=0.0, recall=0.0, fmeasure=0.0), 'rouge2': Score(precision=0.0, recall=0.0, fmeasure=0.0), 'rougeL': Score(precision=0, recall=0, fmeasure=0)}\n",
            "--------------------------------------------------\n",
            "True Summary: 50 साल के हुए इरफान खान दुनियाभर में कई हजार करोड़ रु का बिजनेस कर चुकीं इरफान की फिल्में 2017 में रिलीज हुईं इरफान की दो हिट फिल्में\n",
            "Predicted Summary: <extra_id_0>... <extra_id_37> : Thoda aur qarib pic twitter com L3gpsF8h9g\n",
            "BLEU Score: 0\n",
            "ROUGE Scores: {'rouge1': Score(precision=0.0, recall=0.0, fmeasure=0.0), 'rouge2': Score(precision=0.0, recall=0.0, fmeasure=0.0), 'rougeL': Score(precision=0.0, recall=0.0, fmeasure=0.0)}\n",
            "--------------------------------------------------\n",
            "True Summary: सुरेश रैना ने सीनियर खिलाड़ियों के वेस्टइंडीज दौरे पर नहीं आने के उनके फैसले को उचित ठहराते हुए कहा कि वरिष्ठ खिलाड़ी आराम के हकदार हैं.\n",
            "Predicted Summary: <extra_id_0> रैना सहित सीनियर खिलाड़ियों प्रदर्शन करके आगे आने\n",
            "BLEU Score: 0.011368816452986596\n",
            "ROUGE Scores: {'rouge1': Score(precision=0.0, recall=0.0, fmeasure=0.0), 'rouge2': Score(precision=0.0, recall=0.0, fmeasure=0.0), 'rougeL': Score(precision=0, recall=0, fmeasure=0)}\n",
            "--------------------------------------------------\n",
            "True Summary: जायसवाल का कहना है कि कोयला आवंटन की जांच नहीं होगी. उनका यह भी कहना है कि अगर किसी को आपत्ति है तो वह कोर्ट की शरण में जा सकता है.\n",
            "Predicted Summary: <extra_id_0> हमले हमले हमले हमले हमले हमले हमले हमले\n",
            "BLEU Score: 0\n",
            "ROUGE Scores: {'rouge1': Score(precision=0.0, recall=0.0, fmeasure=0.0), 'rouge2': Score(precision=0.0, recall=0.0, fmeasure=0.0), 'rougeL': Score(precision=0, recall=0, fmeasure=0)}\n",
            "--------------------------------------------------\n",
            "True Summary: पाशा ने चेतावनीभरे लहजे में कहा कि अगर भारत ऐबटाबाद जैसे किसी हमले को अंजाम देता है तो पाकिस्तान की तरफ से भी उपयुक्त कार्रवाई की जाएगी.\n",
            "Predicted Summary: <extra_id_0> बंद कमरे बंद कमरे बंद कमरे बंद कमरे बंद कमरे\n",
            "BLEU Score: 0\n",
            "ROUGE Scores: {'rouge1': Score(precision=0.0, recall=0.0, fmeasure=0.0), 'rouge2': Score(precision=0.0, recall=0.0, fmeasure=0.0), 'rougeL': Score(precision=0, recall=0, fmeasure=0)}\n",
            "--------------------------------------------------\n",
            "Average BLEU Score: 0.006392828363692515\n",
            "Average ROUGE-1 Score: 0.018095238095238098\n",
            "Average ROUGE-2 Score: 0.008\n",
            "Average ROUGE-L Score: 0.018095238095238098\n"
          ]
        }
      ]
    },
    {
      "cell_type": "code",
      "source": [
        "# !pip install datasets"
      ],
      "metadata": {
        "colab": {
          "base_uri": "https://localhost:8080/",
          "height": 1000
        },
        "id": "dgRLsvJmj3CC",
        "outputId": "446650a7-9803-4b0e-ebb8-3aeadda2e7d1"
      },
      "execution_count": null,
      "outputs": [
        {
          "output_type": "stream",
          "name": "stdout",
          "text": [
            "Collecting datasets\n",
            "  Downloading datasets-2.20.0-py3-none-any.whl (547 kB)\n",
            "\u001b[2K     \u001b[90m━━━━━━━━━━━━━━━━━━━━━━━━━━━━━━━━━━━━━━━━\u001b[0m \u001b[32m547.8/547.8 kB\u001b[0m \u001b[31m3.2 MB/s\u001b[0m eta \u001b[36m0:00:00\u001b[0m\n",
            "\u001b[?25hRequirement already satisfied: filelock in /usr/local/lib/python3.10/dist-packages (from datasets) (3.15.4)\n",
            "Requirement already satisfied: numpy>=1.17 in /usr/local/lib/python3.10/dist-packages (from datasets) (1.25.2)\n",
            "Collecting pyarrow>=15.0.0 (from datasets)\n",
            "  Downloading pyarrow-16.1.0-cp310-cp310-manylinux_2_28_x86_64.whl (40.8 MB)\n",
            "\u001b[2K     \u001b[90m━━━━━━━━━━━━━━━━━━━━━━━━━━━━━━━━━━━━━━━━\u001b[0m \u001b[32m40.8/40.8 MB\u001b[0m \u001b[31m8.7 MB/s\u001b[0m eta \u001b[36m0:00:00\u001b[0m\n",
            "\u001b[?25hRequirement already satisfied: pyarrow-hotfix in /usr/local/lib/python3.10/dist-packages (from datasets) (0.6)\n",
            "Collecting dill<0.3.9,>=0.3.0 (from datasets)\n",
            "  Downloading dill-0.3.8-py3-none-any.whl (116 kB)\n",
            "\u001b[2K     \u001b[90m━━━━━━━━━━━━━━━━━━━━━━━━━━━━━━━━━━━━━━━━\u001b[0m \u001b[32m116.3/116.3 kB\u001b[0m \u001b[31m10.3 MB/s\u001b[0m eta \u001b[36m0:00:00\u001b[0m\n",
            "\u001b[?25hRequirement already satisfied: pandas in /usr/local/lib/python3.10/dist-packages (from datasets) (2.0.3)\n",
            "Collecting requests>=2.32.2 (from datasets)\n",
            "  Downloading requests-2.32.3-py3-none-any.whl (64 kB)\n",
            "\u001b[2K     \u001b[90m━━━━━━━━━━━━━━━━━━━━━━━━━━━━━━━━━━━━━━━━\u001b[0m \u001b[32m64.9/64.9 kB\u001b[0m \u001b[31m6.0 MB/s\u001b[0m eta \u001b[36m0:00:00\u001b[0m\n",
            "\u001b[?25hRequirement already satisfied: tqdm>=4.66.3 in /usr/local/lib/python3.10/dist-packages (from datasets) (4.66.4)\n",
            "Collecting xxhash (from datasets)\n",
            "  Downloading xxhash-3.4.1-cp310-cp310-manylinux_2_17_x86_64.manylinux2014_x86_64.whl (194 kB)\n",
            "\u001b[2K     \u001b[90m━━━━━━━━━━━━━━━━━━━━━━━━━━━━━━━━━━━━━━━━\u001b[0m \u001b[32m194.1/194.1 kB\u001b[0m \u001b[31m12.9 MB/s\u001b[0m eta \u001b[36m0:00:00\u001b[0m\n",
            "\u001b[?25hCollecting multiprocess (from datasets)\n",
            "  Downloading multiprocess-0.70.16-py310-none-any.whl (134 kB)\n",
            "\u001b[2K     \u001b[90m━━━━━━━━━━━━━━━━━━━━━━━━━━━━━━━━━━━━━━━━\u001b[0m \u001b[32m134.8/134.8 kB\u001b[0m \u001b[31m11.1 MB/s\u001b[0m eta \u001b[36m0:00:00\u001b[0m\n",
            "\u001b[?25hRequirement already satisfied: fsspec[http]<=2024.5.0,>=2023.1.0 in /usr/local/lib/python3.10/dist-packages (from datasets) (2023.6.0)\n",
            "Requirement already satisfied: aiohttp in /usr/local/lib/python3.10/dist-packages (from datasets) (3.9.5)\n",
            "Requirement already satisfied: huggingface-hub>=0.21.2 in /usr/local/lib/python3.10/dist-packages (from datasets) (0.23.4)\n",
            "Requirement already satisfied: packaging in /usr/local/lib/python3.10/dist-packages (from datasets) (24.1)\n",
            "Requirement already satisfied: pyyaml>=5.1 in /usr/local/lib/python3.10/dist-packages (from datasets) (6.0.1)\n",
            "Requirement already satisfied: aiosignal>=1.1.2 in /usr/local/lib/python3.10/dist-packages (from aiohttp->datasets) (1.3.1)\n",
            "Requirement already satisfied: attrs>=17.3.0 in /usr/local/lib/python3.10/dist-packages (from aiohttp->datasets) (23.2.0)\n",
            "Requirement already satisfied: frozenlist>=1.1.1 in /usr/local/lib/python3.10/dist-packages (from aiohttp->datasets) (1.4.1)\n",
            "Requirement already satisfied: multidict<7.0,>=4.5 in /usr/local/lib/python3.10/dist-packages (from aiohttp->datasets) (6.0.5)\n",
            "Requirement already satisfied: yarl<2.0,>=1.0 in /usr/local/lib/python3.10/dist-packages (from aiohttp->datasets) (1.9.4)\n",
            "Requirement already satisfied: async-timeout<5.0,>=4.0 in /usr/local/lib/python3.10/dist-packages (from aiohttp->datasets) (4.0.3)\n",
            "Requirement already satisfied: typing-extensions>=3.7.4.3 in /usr/local/lib/python3.10/dist-packages (from huggingface-hub>=0.21.2->datasets) (4.12.2)\n",
            "Requirement already satisfied: charset-normalizer<4,>=2 in /usr/local/lib/python3.10/dist-packages (from requests>=2.32.2->datasets) (3.3.2)\n",
            "Requirement already satisfied: idna<4,>=2.5 in /usr/local/lib/python3.10/dist-packages (from requests>=2.32.2->datasets) (3.7)\n",
            "Requirement already satisfied: urllib3<3,>=1.21.1 in /usr/local/lib/python3.10/dist-packages (from requests>=2.32.2->datasets) (2.0.7)\n",
            "Requirement already satisfied: certifi>=2017.4.17 in /usr/local/lib/python3.10/dist-packages (from requests>=2.32.2->datasets) (2024.6.2)\n",
            "Requirement already satisfied: python-dateutil>=2.8.2 in /usr/local/lib/python3.10/dist-packages (from pandas->datasets) (2.8.2)\n",
            "Requirement already satisfied: pytz>=2020.1 in /usr/local/lib/python3.10/dist-packages (from pandas->datasets) (2023.4)\n",
            "Requirement already satisfied: tzdata>=2022.1 in /usr/local/lib/python3.10/dist-packages (from pandas->datasets) (2024.1)\n",
            "Requirement already satisfied: six>=1.5 in /usr/local/lib/python3.10/dist-packages (from python-dateutil>=2.8.2->pandas->datasets) (1.16.0)\n",
            "Installing collected packages: xxhash, requests, pyarrow, dill, multiprocess, datasets\n",
            "  Attempting uninstall: requests\n",
            "    Found existing installation: requests 2.31.0\n",
            "    Uninstalling requests-2.31.0:\n",
            "      Successfully uninstalled requests-2.31.0\n",
            "  Attempting uninstall: pyarrow\n",
            "    Found existing installation: pyarrow 14.0.2\n",
            "    Uninstalling pyarrow-14.0.2:\n",
            "      Successfully uninstalled pyarrow-14.0.2\n",
            "\u001b[31mERROR: pip's dependency resolver does not currently take into account all the packages that are installed. This behaviour is the source of the following dependency conflicts.\n",
            "cudf-cu12 24.4.1 requires pyarrow<15.0.0a0,>=14.0.1, but you have pyarrow 16.1.0 which is incompatible.\n",
            "google-colab 1.0.0 requires requests==2.31.0, but you have requests 2.32.3 which is incompatible.\n",
            "ibis-framework 8.0.0 requires pyarrow<16,>=2, but you have pyarrow 16.1.0 which is incompatible.\u001b[0m\u001b[31m\n",
            "\u001b[0mSuccessfully installed datasets-2.20.0 dill-0.3.8 multiprocess-0.70.16 pyarrow-16.1.0 requests-2.32.3 xxhash-3.4.1\n"
          ]
        },
        {
          "output_type": "display_data",
          "data": {
            "application/vnd.colab-display-data+json": {
              "pip_warning": {
                "packages": [
                  "pyarrow",
                  "requests"
                ]
              },
              "id": "ca1479944a3f46ffbdcfe1ed2deca2c5"
            }
          },
          "metadata": {}
        }
      ]
    },
    {
      "cell_type": "code",
      "source": [
        "import pandas as pd\n",
        "from transformers import MT5Tokenizer, MT5ForConditionalGeneration, Seq2SeqTrainingArguments, Seq2SeqTrainer\n",
        "from datasets import Dataset\n",
        "import torch\n",
        "\n",
        "# Load your dataset\n",
        "dataset = pd.read_csv('/content/drive/MyDrive/train_10000.csv')\n",
        "dataset_cleaned = dataset[dataset['summary'].notnull()]\n",
        "dataset_cleaned = dataset_cleaned[dataset_cleaned['article'].notnull()]\n",
        "dataset_cleaned = dataset_cleaned[dataset_cleaned['headline'].notnull()]\n",
        "\n",
        "# Prepare the dataset\n",
        "data = {\"article\": list(dataset_cleaned['article']), \"summary\": list(dataset_cleaned['summary'])}\n",
        "dataset = Dataset.from_pandas(pd.DataFrame(data))\n",
        "\n",
        "# Load tokenizer\n",
        "tokenizer = MT5Tokenizer.from_pretrained(\"google/mt5-small\")\n",
        "\n",
        "def preprocess_data(examples):\n",
        "    inputs = [\"summarize: \" + doc for doc in examples[\"article\"]]\n",
        "    model_inputs = tokenizer(inputs, max_length=512, truncation=True, padding=\"max_length\")\n",
        "\n",
        "    # Setup the tokenizer for targets\n",
        "    with tokenizer.as_target_tokenizer():\n",
        "        labels = tokenizer(examples[\"summary\"], max_length=150, truncation=True, padding=\"max_length\")\n",
        "\n",
        "    model_inputs[\"labels\"] = labels[\"input_ids\"]\n",
        "    return model_inputs\n",
        "\n",
        "# Preprocess the dataset\n",
        "tokenized_dataset = dataset.map(preprocess_data, batched=True)\n"
      ],
      "metadata": {
        "colab": {
          "base_uri": "https://localhost:8080/",
          "height": 105,
          "referenced_widgets": [
            "559bd49a8a8d45ef979d8430b8af8e8c",
            "d104a41c31374870acb31a54cb8a6867",
            "0fefd2aa3aad498895364a16ee1af685",
            "bff55b4c36cc41ca9cdb1945193d1a51",
            "9666b5ce70ab414d9cda4db4f5a016f2",
            "fdf80d275201444aba8840562fd66abd",
            "a45059aee37f4a9c9983f60619b21422",
            "967c6315568b48d8a641d5156ce4ea40",
            "34e0dc1f76a34c04a8d45bb38c3aad68",
            "8621c8d6f5d44c6fa6bc84bd2fef0324",
            "f999ecc339eb4374b0cfb15c2c6f74fd"
          ]
        },
        "id": "PCugJSuqjR2W",
        "outputId": "0f51285d-b0f1-40b2-b89e-bbbba483527f"
      },
      "execution_count": null,
      "outputs": [
        {
          "output_type": "display_data",
          "data": {
            "text/plain": [
              "Map:   0%|          | 0/4570 [00:00<?, ? examples/s]"
            ],
            "application/vnd.jupyter.widget-view+json": {
              "version_major": 2,
              "version_minor": 0,
              "model_id": "559bd49a8a8d45ef979d8430b8af8e8c"
            }
          },
          "metadata": {}
        },
        {
          "output_type": "stream",
          "name": "stderr",
          "text": [
            "/usr/local/lib/python3.10/dist-packages/transformers/tokenization_utils_base.py:3946: UserWarning: `as_target_tokenizer` is deprecated and will be removed in v5 of Transformers. You can tokenize your labels by using the argument `text_target` of the regular `__call__` method (either in the same call as your input texts if you use the same keyword arguments, or in a separate call.\n",
            "  warnings.warn(\n"
          ]
        }
      ]
    },
    {
      "cell_type": "code",
      "source": [
        "# !pip install transformers[torch]"
      ],
      "metadata": {
        "colab": {
          "base_uri": "https://localhost:8080/"
        },
        "id": "LK3v3N15k3JW",
        "outputId": "ae6ea2f6-0f09-48b4-d4a4-180a9ea2b35f"
      },
      "execution_count": null,
      "outputs": [
        {
          "output_type": "stream",
          "name": "stdout",
          "text": [
            "Requirement already satisfied: transformers[torch] in /usr/local/lib/python3.10/dist-packages (4.41.2)\n",
            "Requirement already satisfied: filelock in /usr/local/lib/python3.10/dist-packages (from transformers[torch]) (3.15.4)\n",
            "Requirement already satisfied: huggingface-hub<1.0,>=0.23.0 in /usr/local/lib/python3.10/dist-packages (from transformers[torch]) (0.23.4)\n",
            "Requirement already satisfied: numpy>=1.17 in /usr/local/lib/python3.10/dist-packages (from transformers[torch]) (1.25.2)\n",
            "Requirement already satisfied: packaging>=20.0 in /usr/local/lib/python3.10/dist-packages (from transformers[torch]) (24.1)\n",
            "Requirement already satisfied: pyyaml>=5.1 in /usr/local/lib/python3.10/dist-packages (from transformers[torch]) (6.0.1)\n",
            "Requirement already satisfied: regex!=2019.12.17 in /usr/local/lib/python3.10/dist-packages (from transformers[torch]) (2024.5.15)\n",
            "Requirement already satisfied: requests in /usr/local/lib/python3.10/dist-packages (from transformers[torch]) (2.32.3)\n",
            "Requirement already satisfied: tokenizers<0.20,>=0.19 in /usr/local/lib/python3.10/dist-packages (from transformers[torch]) (0.19.1)\n",
            "Requirement already satisfied: safetensors>=0.4.1 in /usr/local/lib/python3.10/dist-packages (from transformers[torch]) (0.4.3)\n",
            "Requirement already satisfied: tqdm>=4.27 in /usr/local/lib/python3.10/dist-packages (from transformers[torch]) (4.66.4)\n",
            "Requirement already satisfied: torch in /usr/local/lib/python3.10/dist-packages (from transformers[torch]) (2.3.0+cu121)\n",
            "Collecting accelerate>=0.21.0 (from transformers[torch])\n",
            "  Downloading accelerate-0.32.1-py3-none-any.whl (314 kB)\n",
            "\u001b[2K     \u001b[90m━━━━━━━━━━━━━━━━━━━━━━━━━━━━━━━━━━━━━━━━\u001b[0m \u001b[32m314.1/314.1 kB\u001b[0m \u001b[31m2.1 MB/s\u001b[0m eta \u001b[36m0:00:00\u001b[0m\n",
            "\u001b[?25hRequirement already satisfied: psutil in /usr/local/lib/python3.10/dist-packages (from accelerate>=0.21.0->transformers[torch]) (5.9.5)\n",
            "Requirement already satisfied: fsspec>=2023.5.0 in /usr/local/lib/python3.10/dist-packages (from huggingface-hub<1.0,>=0.23.0->transformers[torch]) (2023.6.0)\n",
            "Requirement already satisfied: typing-extensions>=3.7.4.3 in /usr/local/lib/python3.10/dist-packages (from huggingface-hub<1.0,>=0.23.0->transformers[torch]) (4.12.2)\n",
            "Requirement already satisfied: sympy in /usr/local/lib/python3.10/dist-packages (from torch->transformers[torch]) (1.12.1)\n",
            "Requirement already satisfied: networkx in /usr/local/lib/python3.10/dist-packages (from torch->transformers[torch]) (3.3)\n",
            "Requirement already satisfied: jinja2 in /usr/local/lib/python3.10/dist-packages (from torch->transformers[torch]) (3.1.4)\n",
            "Collecting nvidia-cuda-nvrtc-cu12==12.1.105 (from torch->transformers[torch])\n",
            "  Using cached nvidia_cuda_nvrtc_cu12-12.1.105-py3-none-manylinux1_x86_64.whl (23.7 MB)\n",
            "Collecting nvidia-cuda-runtime-cu12==12.1.105 (from torch->transformers[torch])\n",
            "  Using cached nvidia_cuda_runtime_cu12-12.1.105-py3-none-manylinux1_x86_64.whl (823 kB)\n",
            "Collecting nvidia-cuda-cupti-cu12==12.1.105 (from torch->transformers[torch])\n",
            "  Using cached nvidia_cuda_cupti_cu12-12.1.105-py3-none-manylinux1_x86_64.whl (14.1 MB)\n",
            "Collecting nvidia-cudnn-cu12==8.9.2.26 (from torch->transformers[torch])\n",
            "  Using cached nvidia_cudnn_cu12-8.9.2.26-py3-none-manylinux1_x86_64.whl (731.7 MB)\n",
            "Collecting nvidia-cublas-cu12==12.1.3.1 (from torch->transformers[torch])\n",
            "  Using cached nvidia_cublas_cu12-12.1.3.1-py3-none-manylinux1_x86_64.whl (410.6 MB)\n",
            "Collecting nvidia-cufft-cu12==11.0.2.54 (from torch->transformers[torch])\n",
            "  Using cached nvidia_cufft_cu12-11.0.2.54-py3-none-manylinux1_x86_64.whl (121.6 MB)\n",
            "Collecting nvidia-curand-cu12==10.3.2.106 (from torch->transformers[torch])\n",
            "  Using cached nvidia_curand_cu12-10.3.2.106-py3-none-manylinux1_x86_64.whl (56.5 MB)\n",
            "Collecting nvidia-cusolver-cu12==11.4.5.107 (from torch->transformers[torch])\n",
            "  Using cached nvidia_cusolver_cu12-11.4.5.107-py3-none-manylinux1_x86_64.whl (124.2 MB)\n",
            "Collecting nvidia-cusparse-cu12==12.1.0.106 (from torch->transformers[torch])\n",
            "  Using cached nvidia_cusparse_cu12-12.1.0.106-py3-none-manylinux1_x86_64.whl (196.0 MB)\n",
            "Collecting nvidia-nccl-cu12==2.20.5 (from torch->transformers[torch])\n",
            "  Using cached nvidia_nccl_cu12-2.20.5-py3-none-manylinux2014_x86_64.whl (176.2 MB)\n",
            "Collecting nvidia-nvtx-cu12==12.1.105 (from torch->transformers[torch])\n",
            "  Using cached nvidia_nvtx_cu12-12.1.105-py3-none-manylinux1_x86_64.whl (99 kB)\n",
            "Requirement already satisfied: triton==2.3.0 in /usr/local/lib/python3.10/dist-packages (from torch->transformers[torch]) (2.3.0)\n",
            "Collecting nvidia-nvjitlink-cu12 (from nvidia-cusolver-cu12==11.4.5.107->torch->transformers[torch])\n",
            "  Downloading nvidia_nvjitlink_cu12-12.5.82-py3-none-manylinux2014_x86_64.whl (21.3 MB)\n",
            "\u001b[2K     \u001b[90m━━━━━━━━━━━━━━━━━━━━━━━━━━━━━━━━━━━━━━━━\u001b[0m \u001b[32m21.3/21.3 MB\u001b[0m \u001b[31m42.8 MB/s\u001b[0m eta \u001b[36m0:00:00\u001b[0m\n",
            "\u001b[?25hRequirement already satisfied: charset-normalizer<4,>=2 in /usr/local/lib/python3.10/dist-packages (from requests->transformers[torch]) (3.3.2)\n",
            "Requirement already satisfied: idna<4,>=2.5 in /usr/local/lib/python3.10/dist-packages (from requests->transformers[torch]) (3.7)\n",
            "Requirement already satisfied: urllib3<3,>=1.21.1 in /usr/local/lib/python3.10/dist-packages (from requests->transformers[torch]) (2.0.7)\n",
            "Requirement already satisfied: certifi>=2017.4.17 in /usr/local/lib/python3.10/dist-packages (from requests->transformers[torch]) (2024.6.2)\n",
            "Requirement already satisfied: MarkupSafe>=2.0 in /usr/local/lib/python3.10/dist-packages (from jinja2->torch->transformers[torch]) (2.1.5)\n",
            "Requirement already satisfied: mpmath<1.4.0,>=1.1.0 in /usr/local/lib/python3.10/dist-packages (from sympy->torch->transformers[torch]) (1.3.0)\n",
            "Installing collected packages: nvidia-nvtx-cu12, nvidia-nvjitlink-cu12, nvidia-nccl-cu12, nvidia-curand-cu12, nvidia-cufft-cu12, nvidia-cuda-runtime-cu12, nvidia-cuda-nvrtc-cu12, nvidia-cuda-cupti-cu12, nvidia-cublas-cu12, nvidia-cusparse-cu12, nvidia-cudnn-cu12, nvidia-cusolver-cu12, accelerate\n",
            "Successfully installed accelerate-0.32.1 nvidia-cublas-cu12-12.1.3.1 nvidia-cuda-cupti-cu12-12.1.105 nvidia-cuda-nvrtc-cu12-12.1.105 nvidia-cuda-runtime-cu12-12.1.105 nvidia-cudnn-cu12-8.9.2.26 nvidia-cufft-cu12-11.0.2.54 nvidia-curand-cu12-10.3.2.106 nvidia-cusolver-cu12-11.4.5.107 nvidia-cusparse-cu12-12.1.0.106 nvidia-nccl-cu12-2.20.5 nvidia-nvjitlink-cu12-12.5.82 nvidia-nvtx-cu12-12.1.105\n"
          ]
        }
      ]
    },
    {
      "cell_type": "code",
      "source": [
        "# Load model\n",
        "model = MT5ForConditionalGeneration.from_pretrained(\"google/mt5-small\")\n",
        "\n",
        "# Define training arguments\n",
        "training_args = Seq2SeqTrainingArguments(\n",
        "    output_dir=\"./results\",\n",
        "    evaluation_strategy=\"epoch\",\n",
        "    learning_rate=2e-5,\n",
        "    per_device_train_batch_size=4,\n",
        "    per_device_eval_batch_size=4,\n",
        "    weight_decay=0.01,\n",
        "    save_total_limit=3,\n",
        "    num_train_epochs=3,\n",
        "    predict_with_generate=True\n",
        ")\n",
        "\n",
        "# Define the trainer\n",
        "trainer = Seq2SeqTrainer(\n",
        "    model=model,\n",
        "    args=training_args,\n",
        "    train_dataset=tokenized_dataset,\n",
        "    eval_dataset=tokenized_dataset,\n",
        "    tokenizer=tokenizer\n",
        ")\n",
        "\n",
        "# Fine-tune the model\n",
        "trainer.train()\n"
      ],
      "metadata": {
        "colab": {
          "base_uri": "https://localhost:8080/",
          "height": 502
        },
        "id": "gIBG5R2zjTG8",
        "outputId": "f5099a06-c6b2-4cad-f9c1-3f4514a9ddbe"
      },
      "execution_count": null,
      "outputs": [
        {
          "output_type": "stream",
          "name": "stderr",
          "text": [
            "/usr/local/lib/python3.10/dist-packages/transformers/training_args.py:1474: FutureWarning: `evaluation_strategy` is deprecated and will be removed in version 4.46 of 🤗 Transformers. Use `eval_strategy` instead\n",
            "  warnings.warn(\n"
          ]
        },
        {
          "output_type": "display_data",
          "data": {
            "text/plain": [
              "<IPython.core.display.HTML object>"
            ],
            "text/html": [
              "\n",
              "    <div>\n",
              "      \n",
              "      <progress value='42' max='3429' style='width:300px; height:20px; vertical-align: middle;'></progress>\n",
              "      [  42/3429 25:14 < 35:36:58, 0.03 it/s, Epoch 0.04/3]\n",
              "    </div>\n",
              "    <table border=\"1\" class=\"dataframe\">\n",
              "  <thead>\n",
              " <tr style=\"text-align: left;\">\n",
              "      <th>Epoch</th>\n",
              "      <th>Training Loss</th>\n",
              "      <th>Validation Loss</th>\n",
              "    </tr>\n",
              "  </thead>\n",
              "  <tbody>\n",
              "  </tbody>\n",
              "</table><p>"
            ]
          },
          "metadata": {}
        },
        {
          "output_type": "error",
          "ename": "KeyboardInterrupt",
          "evalue": "",
          "traceback": [
            "\u001b[0;31m---------------------------------------------------------------------------\u001b[0m",
            "\u001b[0;31mKeyboardInterrupt\u001b[0m                         Traceback (most recent call last)",
            "\u001b[0;32m<ipython-input-4-0c9cfe484ac9>\u001b[0m in \u001b[0;36m<cell line: 27>\u001b[0;34m()\u001b[0m\n\u001b[1;32m     25\u001b[0m \u001b[0;34m\u001b[0m\u001b[0m\n\u001b[1;32m     26\u001b[0m \u001b[0;31m# Fine-tune the model\u001b[0m\u001b[0;34m\u001b[0m\u001b[0;34m\u001b[0m\u001b[0m\n\u001b[0;32m---> 27\u001b[0;31m \u001b[0mtrainer\u001b[0m\u001b[0;34m.\u001b[0m\u001b[0mtrain\u001b[0m\u001b[0;34m(\u001b[0m\u001b[0;34m)\u001b[0m\u001b[0;34m\u001b[0m\u001b[0;34m\u001b[0m\u001b[0m\n\u001b[0m",
            "\u001b[0;32m/usr/local/lib/python3.10/dist-packages/transformers/trainer.py\u001b[0m in \u001b[0;36mtrain\u001b[0;34m(self, resume_from_checkpoint, trial, ignore_keys_for_eval, **kwargs)\u001b[0m\n\u001b[1;32m   1883\u001b[0m                 \u001b[0mhf_hub_utils\u001b[0m\u001b[0;34m.\u001b[0m\u001b[0menable_progress_bars\u001b[0m\u001b[0;34m(\u001b[0m\u001b[0;34m)\u001b[0m\u001b[0;34m\u001b[0m\u001b[0;34m\u001b[0m\u001b[0m\n\u001b[1;32m   1884\u001b[0m         \u001b[0;32melse\u001b[0m\u001b[0;34m:\u001b[0m\u001b[0;34m\u001b[0m\u001b[0;34m\u001b[0m\u001b[0m\n\u001b[0;32m-> 1885\u001b[0;31m             return inner_training_loop(\n\u001b[0m\u001b[1;32m   1886\u001b[0m                 \u001b[0margs\u001b[0m\u001b[0;34m=\u001b[0m\u001b[0margs\u001b[0m\u001b[0;34m,\u001b[0m\u001b[0;34m\u001b[0m\u001b[0;34m\u001b[0m\u001b[0m\n\u001b[1;32m   1887\u001b[0m                 \u001b[0mresume_from_checkpoint\u001b[0m\u001b[0;34m=\u001b[0m\u001b[0mresume_from_checkpoint\u001b[0m\u001b[0;34m,\u001b[0m\u001b[0;34m\u001b[0m\u001b[0;34m\u001b[0m\u001b[0m\n",
            "\u001b[0;32m/usr/local/lib/python3.10/dist-packages/transformers/trainer.py\u001b[0m in \u001b[0;36m_inner_training_loop\u001b[0;34m(self, batch_size, args, resume_from_checkpoint, trial, ignore_keys_for_eval)\u001b[0m\n\u001b[1;32m   2214\u001b[0m \u001b[0;34m\u001b[0m\u001b[0m\n\u001b[1;32m   2215\u001b[0m                 \u001b[0;32mwith\u001b[0m \u001b[0mself\u001b[0m\u001b[0;34m.\u001b[0m\u001b[0maccelerator\u001b[0m\u001b[0;34m.\u001b[0m\u001b[0maccumulate\u001b[0m\u001b[0;34m(\u001b[0m\u001b[0mmodel\u001b[0m\u001b[0;34m)\u001b[0m\u001b[0;34m:\u001b[0m\u001b[0;34m\u001b[0m\u001b[0;34m\u001b[0m\u001b[0m\n\u001b[0;32m-> 2216\u001b[0;31m                     \u001b[0mtr_loss_step\u001b[0m \u001b[0;34m=\u001b[0m \u001b[0mself\u001b[0m\u001b[0;34m.\u001b[0m\u001b[0mtraining_step\u001b[0m\u001b[0;34m(\u001b[0m\u001b[0mmodel\u001b[0m\u001b[0;34m,\u001b[0m \u001b[0minputs\u001b[0m\u001b[0;34m)\u001b[0m\u001b[0;34m\u001b[0m\u001b[0;34m\u001b[0m\u001b[0m\n\u001b[0m\u001b[1;32m   2217\u001b[0m \u001b[0;34m\u001b[0m\u001b[0m\n\u001b[1;32m   2218\u001b[0m                 if (\n",
            "\u001b[0;32m/usr/local/lib/python3.10/dist-packages/transformers/trainer.py\u001b[0m in \u001b[0;36mtraining_step\u001b[0;34m(***failed resolving arguments***)\u001b[0m\n\u001b[1;32m   3248\u001b[0m                 \u001b[0mscaled_loss\u001b[0m\u001b[0;34m.\u001b[0m\u001b[0mbackward\u001b[0m\u001b[0;34m(\u001b[0m\u001b[0;34m)\u001b[0m\u001b[0;34m\u001b[0m\u001b[0;34m\u001b[0m\u001b[0m\n\u001b[1;32m   3249\u001b[0m         \u001b[0;32melse\u001b[0m\u001b[0;34m:\u001b[0m\u001b[0;34m\u001b[0m\u001b[0;34m\u001b[0m\u001b[0m\n\u001b[0;32m-> 3250\u001b[0;31m             \u001b[0mself\u001b[0m\u001b[0;34m.\u001b[0m\u001b[0maccelerator\u001b[0m\u001b[0;34m.\u001b[0m\u001b[0mbackward\u001b[0m\u001b[0;34m(\u001b[0m\u001b[0mloss\u001b[0m\u001b[0;34m)\u001b[0m\u001b[0;34m\u001b[0m\u001b[0;34m\u001b[0m\u001b[0m\n\u001b[0m\u001b[1;32m   3251\u001b[0m \u001b[0;34m\u001b[0m\u001b[0m\n\u001b[1;32m   3252\u001b[0m         \u001b[0;32mreturn\u001b[0m \u001b[0mloss\u001b[0m\u001b[0;34m.\u001b[0m\u001b[0mdetach\u001b[0m\u001b[0;34m(\u001b[0m\u001b[0;34m)\u001b[0m \u001b[0;34m/\u001b[0m \u001b[0mself\u001b[0m\u001b[0;34m.\u001b[0m\u001b[0margs\u001b[0m\u001b[0;34m.\u001b[0m\u001b[0mgradient_accumulation_steps\u001b[0m\u001b[0;34m\u001b[0m\u001b[0;34m\u001b[0m\u001b[0m\n",
            "\u001b[0;32m/usr/local/lib/python3.10/dist-packages/accelerate/accelerator.py\u001b[0m in \u001b[0;36mbackward\u001b[0;34m(self, loss, **kwargs)\u001b[0m\n\u001b[1;32m   2149\u001b[0m             \u001b[0mself\u001b[0m\u001b[0;34m.\u001b[0m\u001b[0mlomo_backward\u001b[0m\u001b[0;34m(\u001b[0m\u001b[0mloss\u001b[0m\u001b[0;34m,\u001b[0m \u001b[0mlearning_rate\u001b[0m\u001b[0;34m)\u001b[0m\u001b[0;34m\u001b[0m\u001b[0;34m\u001b[0m\u001b[0m\n\u001b[1;32m   2150\u001b[0m         \u001b[0;32melse\u001b[0m\u001b[0;34m:\u001b[0m\u001b[0;34m\u001b[0m\u001b[0;34m\u001b[0m\u001b[0m\n\u001b[0;32m-> 2151\u001b[0;31m             \u001b[0mloss\u001b[0m\u001b[0;34m.\u001b[0m\u001b[0mbackward\u001b[0m\u001b[0;34m(\u001b[0m\u001b[0;34m**\u001b[0m\u001b[0mkwargs\u001b[0m\u001b[0;34m)\u001b[0m\u001b[0;34m\u001b[0m\u001b[0;34m\u001b[0m\u001b[0m\n\u001b[0m\u001b[1;32m   2152\u001b[0m \u001b[0;34m\u001b[0m\u001b[0m\n\u001b[1;32m   2153\u001b[0m     \u001b[0;32mdef\u001b[0m \u001b[0mset_trigger\u001b[0m\u001b[0;34m(\u001b[0m\u001b[0mself\u001b[0m\u001b[0;34m)\u001b[0m\u001b[0;34m:\u001b[0m\u001b[0;34m\u001b[0m\u001b[0;34m\u001b[0m\u001b[0m\n",
            "\u001b[0;32m/usr/local/lib/python3.10/dist-packages/torch/_tensor.py\u001b[0m in \u001b[0;36mbackward\u001b[0;34m(self, gradient, retain_graph, create_graph, inputs)\u001b[0m\n\u001b[1;32m    523\u001b[0m                 \u001b[0minputs\u001b[0m\u001b[0;34m=\u001b[0m\u001b[0minputs\u001b[0m\u001b[0;34m,\u001b[0m\u001b[0;34m\u001b[0m\u001b[0;34m\u001b[0m\u001b[0m\n\u001b[1;32m    524\u001b[0m             )\n\u001b[0;32m--> 525\u001b[0;31m         torch.autograd.backward(\n\u001b[0m\u001b[1;32m    526\u001b[0m             \u001b[0mself\u001b[0m\u001b[0;34m,\u001b[0m \u001b[0mgradient\u001b[0m\u001b[0;34m,\u001b[0m \u001b[0mretain_graph\u001b[0m\u001b[0;34m,\u001b[0m \u001b[0mcreate_graph\u001b[0m\u001b[0;34m,\u001b[0m \u001b[0minputs\u001b[0m\u001b[0;34m=\u001b[0m\u001b[0minputs\u001b[0m\u001b[0;34m\u001b[0m\u001b[0;34m\u001b[0m\u001b[0m\n\u001b[1;32m    527\u001b[0m         )\n",
            "\u001b[0;32m/usr/local/lib/python3.10/dist-packages/torch/autograd/__init__.py\u001b[0m in \u001b[0;36mbackward\u001b[0;34m(tensors, grad_tensors, retain_graph, create_graph, grad_variables, inputs)\u001b[0m\n\u001b[1;32m    265\u001b[0m     \u001b[0;31m# some Python versions print out the first line of a multi-line function\u001b[0m\u001b[0;34m\u001b[0m\u001b[0;34m\u001b[0m\u001b[0m\n\u001b[1;32m    266\u001b[0m     \u001b[0;31m# calls in the traceback and some print out the last line\u001b[0m\u001b[0;34m\u001b[0m\u001b[0;34m\u001b[0m\u001b[0m\n\u001b[0;32m--> 267\u001b[0;31m     _engine_run_backward(\n\u001b[0m\u001b[1;32m    268\u001b[0m         \u001b[0mtensors\u001b[0m\u001b[0;34m,\u001b[0m\u001b[0;34m\u001b[0m\u001b[0;34m\u001b[0m\u001b[0m\n\u001b[1;32m    269\u001b[0m         \u001b[0mgrad_tensors_\u001b[0m\u001b[0;34m,\u001b[0m\u001b[0;34m\u001b[0m\u001b[0;34m\u001b[0m\u001b[0m\n",
            "\u001b[0;32m/usr/local/lib/python3.10/dist-packages/torch/autograd/graph.py\u001b[0m in \u001b[0;36m_engine_run_backward\u001b[0;34m(t_outputs, *args, **kwargs)\u001b[0m\n\u001b[1;32m    742\u001b[0m         \u001b[0munregister_hooks\u001b[0m \u001b[0;34m=\u001b[0m \u001b[0m_register_logging_hooks_on_whole_graph\u001b[0m\u001b[0;34m(\u001b[0m\u001b[0mt_outputs\u001b[0m\u001b[0;34m)\u001b[0m\u001b[0;34m\u001b[0m\u001b[0;34m\u001b[0m\u001b[0m\n\u001b[1;32m    743\u001b[0m     \u001b[0;32mtry\u001b[0m\u001b[0;34m:\u001b[0m\u001b[0;34m\u001b[0m\u001b[0;34m\u001b[0m\u001b[0m\n\u001b[0;32m--> 744\u001b[0;31m         return Variable._execution_engine.run_backward(  # Calls into the C++ engine to run the backward pass\n\u001b[0m\u001b[1;32m    745\u001b[0m             \u001b[0mt_outputs\u001b[0m\u001b[0;34m,\u001b[0m \u001b[0;34m*\u001b[0m\u001b[0margs\u001b[0m\u001b[0;34m,\u001b[0m \u001b[0;34m**\u001b[0m\u001b[0mkwargs\u001b[0m\u001b[0;34m\u001b[0m\u001b[0;34m\u001b[0m\u001b[0m\n\u001b[1;32m    746\u001b[0m         )  # Calls into the C++ engine to run the backward pass\n",
            "\u001b[0;31mKeyboardInterrupt\u001b[0m: "
          ]
        }
      ]
    },
    {
      "cell_type": "code",
      "source": [
        "from nltk.translate.bleu_score import sentence_bleu, SmoothingFunction\n",
        "from rouge_score import rouge_scorer\n",
        "\n",
        "def generate_summary(article):\n",
        "    input_ids = tokenizer.encode(\"summarize: \" + article, return_tensors=\"pt\", max_length=512, truncation=True)\n",
        "    summary_ids = model.generate(input_ids, max_length=150, min_length=40, length_penalty=2.0, num_beams=4, early_stopping=True)\n",
        "    summary = tokenizer.decode(summary_ids[0], skip_special_tokens=True)\n",
        "    return summary\n",
        "\n",
        "# Functions to calculate BLEU and ROUGE scores\n",
        "def calculate_bleu(reference, hypothesis):\n",
        "    reference_tokens = [reference.split()]\n",
        "    hypothesis_tokens = hypothesis.split()\n",
        "    smoothie = SmoothingFunction().method4\n",
        "    score = sentence_bleu(reference_tokens, hypothesis_tokens, smoothing_function=smoothie)\n",
        "    return score\n",
        "\n",
        "def calculate_rouge(reference, hypothesis):\n",
        "    scorer = rouge_scorer.RougeScorer(['rouge1', 'rouge2', 'rougeL'], use_stemmer=True)\n",
        "    scores = scorer.score(reference, hypothesis)\n",
        "    return scores\n",
        "\n",
        "# Evaluate the fine-tuned model\n",
        "bleu_scores = []\n",
        "rouge_scores = []\n",
        "\n",
        "for i in range(50):\n",
        "    true_summary = summary_corpus[i]\n",
        "    article = article_corpus[i]\n",
        "\n",
        "    # Generate summary using the fine-tuned model\n",
        "    predicted_summary = generate_summary(article)\n",
        "\n",
        "    # Calculate BLEU score\n",
        "    bleu_score = calculate_bleu(true_summary, predicted_summary)\n",
        "    bleu_scores.append(bleu_score)\n",
        "\n",
        "    # Calculate ROUGE scores\n",
        "    rouge_score = calculate_rouge(true_summary, predicted_summary)\n",
        "    rouge_scores.append(rouge_score)\n",
        "\n",
        "    print(f\"True Summary: {true_summary}\")\n",
        "    print(f\"Predicted Summary: {predicted_summary}\")\n",
        "    print(f\"BLEU Score: {bleu_score}\")\n",
        "    print(f\"ROUGE Scores: {rouge_score}\")\n",
        "    print(\"-\" * 50)\n",
        "\n",
        "# Calculate average BLEU score\n",
        "average_bleu = sum(bleu_scores) / len(bleu_scores)\n",
        "print(f\"Average BLEU Score: {average_bleu}\")\n",
        "\n",
        "# Calculate average ROUGE scores\n",
        "average_rouge1\n"
      ],
      "metadata": {
        "colab": {
          "base_uri": "https://localhost:8080/",
          "height": 771
        },
        "id": "AkvOydWqjVRg",
        "outputId": "bfbca613-9866-4347-97de-d768f724ff34"
      },
      "execution_count": null,
      "outputs": [
        {
          "output_type": "stream",
          "name": "stdout",
          "text": [
            "True Summary: ब्लैकबेरी हैंडसेट बनाने वाली कनाडा की कंपनी रिसर्च इन मोशन रिम अपनी पुनर्गठन योजना के तहत अगले कुछ सप्ताह में वैश्विक स्तर पर 2 000 कर्मचारियों की छंटनी करेगी.\n",
            "Predicted Summary: <extra_id_0> और y- <extra_id_8>-' <extra_id_8>ैक्-nílyeln  <extra_id_29>velmente nto <extra_id_24> <extra_id_28>价  <extra_id_30>- zhd <extra_id_17> <extra_id_14>- <extra_id_4> <extra_id_5> <extra_id_23> <extra_id_48>  <extra_id_12>- परिn <extra_id_17>  ne <extra_id_53>&#; <extra_id_3> <extra_id_1> <extra_id_21>ित <extra_id_47>  <extra_id_8> <extra_id_47>urgu\n",
            "BLEU Score: 0\n",
            "ROUGE Scores: {'rouge1': Score(precision=0.0, recall=0.0, fmeasure=0.0), 'rouge2': Score(precision=0.0, recall=0.0, fmeasure=0.0), 'rougeL': Score(precision=0.0, recall=0.0, fmeasure=0.0)}\n",
            "--------------------------------------------------\n",
            "True Summary: श्रद्धांजलि सभा के दौरान अचानक खराब हुई हिलेरी क्लिंटन की तबीयत डॉक्टरों ने हिलेरी को निमोनिया होने की पुष्टि की है राष्ट्रपति पद के लिए डेमोक्रेटिक उम्मीदवार हैं क्लिंटन\n",
            "Predicted Summary: <extra_id_0> भी licituds.gså voted ल्लो  <extra_id_51> <extra_id_52>рівник  <extra_id_54> ієнт gøreällenंrtearsiасцюस <extra_id_31> নীয়दरших <extra_id_51> -नेलेदारemikalie  <extra_id_18>版权所有 हिलारी\n",
            "BLEU Score: 0\n",
            "ROUGE Scores: {'rouge1': Score(precision=0.0, recall=0.0, fmeasure=0.0), 'rouge2': Score(precision=0.0, recall=0.0, fmeasure=0.0), 'rougeL': Score(precision=0, recall=0, fmeasure=0)}\n",
            "--------------------------------------------------\n",
            "True Summary: पूर्व भारतीय कप्तान अनिल कुंबले का मानना है कि भारत का स्पिन विभाग स्तरीय गेंदबाजों से भरा है और उन्होंने टीम में वापसी करने वाले ऑफ स्पिनर हरभजन सिंह को देश के सर्वश्रेष्ठ स्पिनरों में से एक करार दिया.\n",
            "Predicted Summary: <extra_id_0>werpловнаkoseícióттардыännerτριν-पकडेмінал Prvnicznychntuzia <extra_id_49>ताfaza <extra_id_3> <extra_id_49>råderdytujैγλυध्यактовी Слу <extra_id_54> <extra_id_55>႑, <extra_id_56>утроП  <extra_id_37> <extra_id_29> отвориtöl <extra_id_37>KIEतिsequent ват讯 蓬 Büyü दी <extra_id_5>\n",
            "BLEU Score: 0\n",
            "ROUGE Scores: {'rouge1': Score(precision=0.0, recall=0.0, fmeasure=0.0), 'rouge2': Score(precision=0.0, recall=0.0, fmeasure=0.0), 'rougeL': Score(precision=0, recall=0, fmeasure=0)}\n",
            "--------------------------------------------------\n",
            "True Summary: इंडिगो के ग्राउंड स्टाफ ने यात्री से की हाथापाई इंडिगो एयरलाइन ने इस घटना के लिए माफी मांग ली है 15 अक्टूबर की है ये घटना\n",
            "Predicted Summary: <extra_id_0>  <extra_id_31>秸⸢ žai~$( nukle(0,_. <extra_id_46> gáz媚ギリギリ <extra_id_47>čarරවාudere:ිනා <extra_id_27>რავобрази <extra_id_27> <extra_id_31> <extra_id_56> <extra_id_56>gewerkissier <extra_id_11>ղարկ...ीिल्ला <extra_id_28>ෝර <extra_id_46>дырма៕ <extra_id_13> <extra_id_51>\n",
            "BLEU Score: 0\n",
            "ROUGE Scores: {'rouge1': Score(precision=0.0, recall=0.0, fmeasure=0.0), 'rouge2': Score(precision=0.0, recall=0.0, fmeasure=0.0), 'rougeL': Score(precision=0.0, recall=0.0, fmeasure=0.0)}\n",
            "--------------------------------------------------\n"
          ]
        },
        {
          "output_type": "error",
          "ename": "KeyboardInterrupt",
          "evalue": "",
          "traceback": [
            "\u001b[0;31m---------------------------------------------------------------------------\u001b[0m",
            "\u001b[0;31mKeyboardInterrupt\u001b[0m                         Traceback (most recent call last)",
            "\u001b[0;32m<ipython-input-12-bc8f4ae7dbb1>\u001b[0m in \u001b[0;36m<cell line: 27>\u001b[0;34m()\u001b[0m\n\u001b[1;32m     30\u001b[0m \u001b[0;34m\u001b[0m\u001b[0m\n\u001b[1;32m     31\u001b[0m     \u001b[0;31m# Generate summary using the fine-tuned model\u001b[0m\u001b[0;34m\u001b[0m\u001b[0;34m\u001b[0m\u001b[0m\n\u001b[0;32m---> 32\u001b[0;31m     \u001b[0mpredicted_summary\u001b[0m \u001b[0;34m=\u001b[0m \u001b[0mgenerate_summary\u001b[0m\u001b[0;34m(\u001b[0m\u001b[0marticle\u001b[0m\u001b[0;34m)\u001b[0m\u001b[0;34m\u001b[0m\u001b[0;34m\u001b[0m\u001b[0m\n\u001b[0m\u001b[1;32m     33\u001b[0m \u001b[0;34m\u001b[0m\u001b[0m\n\u001b[1;32m     34\u001b[0m     \u001b[0;31m# Calculate BLEU score\u001b[0m\u001b[0;34m\u001b[0m\u001b[0;34m\u001b[0m\u001b[0m\n",
            "\u001b[0;32m<ipython-input-12-bc8f4ae7dbb1>\u001b[0m in \u001b[0;36mgenerate_summary\u001b[0;34m(article)\u001b[0m\n\u001b[1;32m      4\u001b[0m \u001b[0;32mdef\u001b[0m \u001b[0mgenerate_summary\u001b[0m\u001b[0;34m(\u001b[0m\u001b[0marticle\u001b[0m\u001b[0;34m)\u001b[0m\u001b[0;34m:\u001b[0m\u001b[0;34m\u001b[0m\u001b[0;34m\u001b[0m\u001b[0m\n\u001b[1;32m      5\u001b[0m     \u001b[0minput_ids\u001b[0m \u001b[0;34m=\u001b[0m \u001b[0mtokenizer\u001b[0m\u001b[0;34m.\u001b[0m\u001b[0mencode\u001b[0m\u001b[0;34m(\u001b[0m\u001b[0;34m\"summarize: \"\u001b[0m \u001b[0;34m+\u001b[0m \u001b[0marticle\u001b[0m\u001b[0;34m,\u001b[0m \u001b[0mreturn_tensors\u001b[0m\u001b[0;34m=\u001b[0m\u001b[0;34m\"pt\"\u001b[0m\u001b[0;34m,\u001b[0m \u001b[0mmax_length\u001b[0m\u001b[0;34m=\u001b[0m\u001b[0;36m512\u001b[0m\u001b[0;34m,\u001b[0m \u001b[0mtruncation\u001b[0m\u001b[0;34m=\u001b[0m\u001b[0;32mTrue\u001b[0m\u001b[0;34m)\u001b[0m\u001b[0;34m\u001b[0m\u001b[0;34m\u001b[0m\u001b[0m\n\u001b[0;32m----> 6\u001b[0;31m     \u001b[0msummary_ids\u001b[0m \u001b[0;34m=\u001b[0m \u001b[0mmodel\u001b[0m\u001b[0;34m.\u001b[0m\u001b[0mgenerate\u001b[0m\u001b[0;34m(\u001b[0m\u001b[0minput_ids\u001b[0m\u001b[0;34m,\u001b[0m \u001b[0mmax_length\u001b[0m\u001b[0;34m=\u001b[0m\u001b[0;36m150\u001b[0m\u001b[0;34m,\u001b[0m \u001b[0mmin_length\u001b[0m\u001b[0;34m=\u001b[0m\u001b[0;36m40\u001b[0m\u001b[0;34m,\u001b[0m \u001b[0mlength_penalty\u001b[0m\u001b[0;34m=\u001b[0m\u001b[0;36m2.0\u001b[0m\u001b[0;34m,\u001b[0m \u001b[0mnum_beams\u001b[0m\u001b[0;34m=\u001b[0m\u001b[0;36m4\u001b[0m\u001b[0;34m,\u001b[0m \u001b[0mearly_stopping\u001b[0m\u001b[0;34m=\u001b[0m\u001b[0;32mTrue\u001b[0m\u001b[0;34m)\u001b[0m\u001b[0;34m\u001b[0m\u001b[0;34m\u001b[0m\u001b[0m\n\u001b[0m\u001b[1;32m      7\u001b[0m     \u001b[0msummary\u001b[0m \u001b[0;34m=\u001b[0m \u001b[0mtokenizer\u001b[0m\u001b[0;34m.\u001b[0m\u001b[0mdecode\u001b[0m\u001b[0;34m(\u001b[0m\u001b[0msummary_ids\u001b[0m\u001b[0;34m[\u001b[0m\u001b[0;36m0\u001b[0m\u001b[0;34m]\u001b[0m\u001b[0;34m,\u001b[0m \u001b[0mskip_special_tokens\u001b[0m\u001b[0;34m=\u001b[0m\u001b[0;32mTrue\u001b[0m\u001b[0;34m)\u001b[0m\u001b[0;34m\u001b[0m\u001b[0;34m\u001b[0m\u001b[0m\n\u001b[1;32m      8\u001b[0m     \u001b[0;32mreturn\u001b[0m \u001b[0msummary\u001b[0m\u001b[0;34m\u001b[0m\u001b[0;34m\u001b[0m\u001b[0m\n",
            "\u001b[0;32m/usr/local/lib/python3.10/dist-packages/torch/utils/_contextlib.py\u001b[0m in \u001b[0;36mdecorate_context\u001b[0;34m(*args, **kwargs)\u001b[0m\n\u001b[1;32m    113\u001b[0m     \u001b[0;32mdef\u001b[0m \u001b[0mdecorate_context\u001b[0m\u001b[0;34m(\u001b[0m\u001b[0;34m*\u001b[0m\u001b[0margs\u001b[0m\u001b[0;34m,\u001b[0m \u001b[0;34m**\u001b[0m\u001b[0mkwargs\u001b[0m\u001b[0;34m)\u001b[0m\u001b[0;34m:\u001b[0m\u001b[0;34m\u001b[0m\u001b[0;34m\u001b[0m\u001b[0m\n\u001b[1;32m    114\u001b[0m         \u001b[0;32mwith\u001b[0m \u001b[0mctx_factory\u001b[0m\u001b[0;34m(\u001b[0m\u001b[0;34m)\u001b[0m\u001b[0;34m:\u001b[0m\u001b[0;34m\u001b[0m\u001b[0;34m\u001b[0m\u001b[0m\n\u001b[0;32m--> 115\u001b[0;31m             \u001b[0;32mreturn\u001b[0m \u001b[0mfunc\u001b[0m\u001b[0;34m(\u001b[0m\u001b[0;34m*\u001b[0m\u001b[0margs\u001b[0m\u001b[0;34m,\u001b[0m \u001b[0;34m**\u001b[0m\u001b[0mkwargs\u001b[0m\u001b[0;34m)\u001b[0m\u001b[0;34m\u001b[0m\u001b[0;34m\u001b[0m\u001b[0m\n\u001b[0m\u001b[1;32m    116\u001b[0m \u001b[0;34m\u001b[0m\u001b[0m\n\u001b[1;32m    117\u001b[0m     \u001b[0;32mreturn\u001b[0m \u001b[0mdecorate_context\u001b[0m\u001b[0;34m\u001b[0m\u001b[0;34m\u001b[0m\u001b[0m\n",
            "\u001b[0;32m/usr/local/lib/python3.10/dist-packages/transformers/generation/utils.py\u001b[0m in \u001b[0;36mgenerate\u001b[0;34m(self, inputs, generation_config, logits_processor, stopping_criteria, prefix_allowed_tokens_fn, synced_gpus, assistant_model, streamer, negative_prompt_ids, negative_prompt_attention_mask, **kwargs)\u001b[0m\n\u001b[1;32m   1793\u001b[0m \u001b[0;34m\u001b[0m\u001b[0m\n\u001b[1;32m   1794\u001b[0m             \u001b[0;31m# 14. run beam sample\u001b[0m\u001b[0;34m\u001b[0m\u001b[0;34m\u001b[0m\u001b[0m\n\u001b[0;32m-> 1795\u001b[0;31m             result = self._beam_search(\n\u001b[0m\u001b[1;32m   1796\u001b[0m                 \u001b[0minput_ids\u001b[0m\u001b[0;34m,\u001b[0m\u001b[0;34m\u001b[0m\u001b[0;34m\u001b[0m\u001b[0m\n\u001b[1;32m   1797\u001b[0m                 \u001b[0mbeam_scorer\u001b[0m\u001b[0;34m,\u001b[0m\u001b[0;34m\u001b[0m\u001b[0;34m\u001b[0m\u001b[0m\n",
            "\u001b[0;32m/usr/local/lib/python3.10/dist-packages/transformers/generation/utils.py\u001b[0m in \u001b[0;36m_beam_search\u001b[0;34m(self, input_ids, beam_scorer, logits_processor, stopping_criteria, generation_config, synced_gpus, logits_warper, **model_kwargs)\u001b[0m\n\u001b[1;32m   2652\u001b[0m \u001b[0;34m\u001b[0m\u001b[0m\n\u001b[1;32m   2653\u001b[0m             \u001b[0;32melse\u001b[0m\u001b[0;34m:\u001b[0m  \u001b[0;31m# Unchanged original behavior\u001b[0m\u001b[0;34m\u001b[0m\u001b[0;34m\u001b[0m\u001b[0m\n\u001b[0;32m-> 2654\u001b[0;31m                 outputs = self(\n\u001b[0m\u001b[1;32m   2655\u001b[0m                     \u001b[0;34m**\u001b[0m\u001b[0mmodel_inputs\u001b[0m\u001b[0;34m,\u001b[0m\u001b[0;34m\u001b[0m\u001b[0;34m\u001b[0m\u001b[0m\n\u001b[1;32m   2656\u001b[0m                     \u001b[0mreturn_dict\u001b[0m\u001b[0;34m=\u001b[0m\u001b[0;32mTrue\u001b[0m\u001b[0;34m,\u001b[0m\u001b[0;34m\u001b[0m\u001b[0;34m\u001b[0m\u001b[0m\n",
            "\u001b[0;32m/usr/local/lib/python3.10/dist-packages/torch/nn/modules/module.py\u001b[0m in \u001b[0;36m_wrapped_call_impl\u001b[0;34m(self, *args, **kwargs)\u001b[0m\n\u001b[1;32m   1530\u001b[0m             \u001b[0;32mreturn\u001b[0m \u001b[0mself\u001b[0m\u001b[0;34m.\u001b[0m\u001b[0m_compiled_call_impl\u001b[0m\u001b[0;34m(\u001b[0m\u001b[0;34m*\u001b[0m\u001b[0margs\u001b[0m\u001b[0;34m,\u001b[0m \u001b[0;34m**\u001b[0m\u001b[0mkwargs\u001b[0m\u001b[0;34m)\u001b[0m  \u001b[0;31m# type: ignore[misc]\u001b[0m\u001b[0;34m\u001b[0m\u001b[0;34m\u001b[0m\u001b[0m\n\u001b[1;32m   1531\u001b[0m         \u001b[0;32melse\u001b[0m\u001b[0;34m:\u001b[0m\u001b[0;34m\u001b[0m\u001b[0;34m\u001b[0m\u001b[0m\n\u001b[0;32m-> 1532\u001b[0;31m             \u001b[0;32mreturn\u001b[0m \u001b[0mself\u001b[0m\u001b[0;34m.\u001b[0m\u001b[0m_call_impl\u001b[0m\u001b[0;34m(\u001b[0m\u001b[0;34m*\u001b[0m\u001b[0margs\u001b[0m\u001b[0;34m,\u001b[0m \u001b[0;34m**\u001b[0m\u001b[0mkwargs\u001b[0m\u001b[0;34m)\u001b[0m\u001b[0;34m\u001b[0m\u001b[0;34m\u001b[0m\u001b[0m\n\u001b[0m\u001b[1;32m   1533\u001b[0m \u001b[0;34m\u001b[0m\u001b[0m\n\u001b[1;32m   1534\u001b[0m     \u001b[0;32mdef\u001b[0m \u001b[0m_call_impl\u001b[0m\u001b[0;34m(\u001b[0m\u001b[0mself\u001b[0m\u001b[0;34m,\u001b[0m \u001b[0;34m*\u001b[0m\u001b[0margs\u001b[0m\u001b[0;34m,\u001b[0m \u001b[0;34m**\u001b[0m\u001b[0mkwargs\u001b[0m\u001b[0;34m)\u001b[0m\u001b[0;34m:\u001b[0m\u001b[0;34m\u001b[0m\u001b[0;34m\u001b[0m\u001b[0m\n",
            "\u001b[0;32m/usr/local/lib/python3.10/dist-packages/torch/nn/modules/module.py\u001b[0m in \u001b[0;36m_call_impl\u001b[0;34m(self, *args, **kwargs)\u001b[0m\n\u001b[1;32m   1539\u001b[0m                 \u001b[0;32mor\u001b[0m \u001b[0m_global_backward_pre_hooks\u001b[0m \u001b[0;32mor\u001b[0m \u001b[0m_global_backward_hooks\u001b[0m\u001b[0;34m\u001b[0m\u001b[0;34m\u001b[0m\u001b[0m\n\u001b[1;32m   1540\u001b[0m                 or _global_forward_hooks or _global_forward_pre_hooks):\n\u001b[0;32m-> 1541\u001b[0;31m             \u001b[0;32mreturn\u001b[0m \u001b[0mforward_call\u001b[0m\u001b[0;34m(\u001b[0m\u001b[0;34m*\u001b[0m\u001b[0margs\u001b[0m\u001b[0;34m,\u001b[0m \u001b[0;34m**\u001b[0m\u001b[0mkwargs\u001b[0m\u001b[0;34m)\u001b[0m\u001b[0;34m\u001b[0m\u001b[0;34m\u001b[0m\u001b[0m\n\u001b[0m\u001b[1;32m   1542\u001b[0m \u001b[0;34m\u001b[0m\u001b[0m\n\u001b[1;32m   1543\u001b[0m         \u001b[0;32mtry\u001b[0m\u001b[0;34m:\u001b[0m\u001b[0;34m\u001b[0m\u001b[0;34m\u001b[0m\u001b[0m\n",
            "\u001b[0;32m/usr/local/lib/python3.10/dist-packages/transformers/models/mt5/modeling_mt5.py\u001b[0m in \u001b[0;36mforward\u001b[0;34m(self, input_ids, attention_mask, decoder_input_ids, decoder_attention_mask, head_mask, decoder_head_mask, cross_attn_head_mask, encoder_outputs, past_key_values, inputs_embeds, decoder_inputs_embeds, labels, use_cache, output_attentions, output_hidden_states, return_dict)\u001b[0m\n\u001b[1;32m   1794\u001b[0m             \u001b[0msequence_output\u001b[0m \u001b[0;34m=\u001b[0m \u001b[0msequence_output\u001b[0m \u001b[0;34m*\u001b[0m \u001b[0;34m(\u001b[0m\u001b[0mself\u001b[0m\u001b[0;34m.\u001b[0m\u001b[0mmodel_dim\u001b[0m\u001b[0;34m**\u001b[0m\u001b[0;34m-\u001b[0m\u001b[0;36m0.5\u001b[0m\u001b[0;34m)\u001b[0m\u001b[0;34m\u001b[0m\u001b[0;34m\u001b[0m\u001b[0m\n\u001b[1;32m   1795\u001b[0m \u001b[0;34m\u001b[0m\u001b[0m\n\u001b[0;32m-> 1796\u001b[0;31m         \u001b[0mlm_logits\u001b[0m \u001b[0;34m=\u001b[0m \u001b[0mself\u001b[0m\u001b[0;34m.\u001b[0m\u001b[0mlm_head\u001b[0m\u001b[0;34m(\u001b[0m\u001b[0msequence_output\u001b[0m\u001b[0;34m)\u001b[0m\u001b[0;34m\u001b[0m\u001b[0;34m\u001b[0m\u001b[0m\n\u001b[0m\u001b[1;32m   1797\u001b[0m \u001b[0;34m\u001b[0m\u001b[0m\n\u001b[1;32m   1798\u001b[0m         \u001b[0mloss\u001b[0m \u001b[0;34m=\u001b[0m \u001b[0;32mNone\u001b[0m\u001b[0;34m\u001b[0m\u001b[0;34m\u001b[0m\u001b[0m\n",
            "\u001b[0;32m/usr/local/lib/python3.10/dist-packages/torch/nn/modules/module.py\u001b[0m in \u001b[0;36m_wrapped_call_impl\u001b[0;34m(self, *args, **kwargs)\u001b[0m\n\u001b[1;32m   1530\u001b[0m             \u001b[0;32mreturn\u001b[0m \u001b[0mself\u001b[0m\u001b[0;34m.\u001b[0m\u001b[0m_compiled_call_impl\u001b[0m\u001b[0;34m(\u001b[0m\u001b[0;34m*\u001b[0m\u001b[0margs\u001b[0m\u001b[0;34m,\u001b[0m \u001b[0;34m**\u001b[0m\u001b[0mkwargs\u001b[0m\u001b[0;34m)\u001b[0m  \u001b[0;31m# type: ignore[misc]\u001b[0m\u001b[0;34m\u001b[0m\u001b[0;34m\u001b[0m\u001b[0m\n\u001b[1;32m   1531\u001b[0m         \u001b[0;32melse\u001b[0m\u001b[0;34m:\u001b[0m\u001b[0;34m\u001b[0m\u001b[0;34m\u001b[0m\u001b[0m\n\u001b[0;32m-> 1532\u001b[0;31m             \u001b[0;32mreturn\u001b[0m \u001b[0mself\u001b[0m\u001b[0;34m.\u001b[0m\u001b[0m_call_impl\u001b[0m\u001b[0;34m(\u001b[0m\u001b[0;34m*\u001b[0m\u001b[0margs\u001b[0m\u001b[0;34m,\u001b[0m \u001b[0;34m**\u001b[0m\u001b[0mkwargs\u001b[0m\u001b[0;34m)\u001b[0m\u001b[0;34m\u001b[0m\u001b[0;34m\u001b[0m\u001b[0m\n\u001b[0m\u001b[1;32m   1533\u001b[0m \u001b[0;34m\u001b[0m\u001b[0m\n\u001b[1;32m   1534\u001b[0m     \u001b[0;32mdef\u001b[0m \u001b[0m_call_impl\u001b[0m\u001b[0;34m(\u001b[0m\u001b[0mself\u001b[0m\u001b[0;34m,\u001b[0m \u001b[0;34m*\u001b[0m\u001b[0margs\u001b[0m\u001b[0;34m,\u001b[0m \u001b[0;34m**\u001b[0m\u001b[0mkwargs\u001b[0m\u001b[0;34m)\u001b[0m\u001b[0;34m:\u001b[0m\u001b[0;34m\u001b[0m\u001b[0;34m\u001b[0m\u001b[0m\n",
            "\u001b[0;32m/usr/local/lib/python3.10/dist-packages/torch/nn/modules/module.py\u001b[0m in \u001b[0;36m_call_impl\u001b[0;34m(self, *args, **kwargs)\u001b[0m\n\u001b[1;32m   1539\u001b[0m                 \u001b[0;32mor\u001b[0m \u001b[0m_global_backward_pre_hooks\u001b[0m \u001b[0;32mor\u001b[0m \u001b[0m_global_backward_hooks\u001b[0m\u001b[0;34m\u001b[0m\u001b[0;34m\u001b[0m\u001b[0m\n\u001b[1;32m   1540\u001b[0m                 or _global_forward_hooks or _global_forward_pre_hooks):\n\u001b[0;32m-> 1541\u001b[0;31m             \u001b[0;32mreturn\u001b[0m \u001b[0mforward_call\u001b[0m\u001b[0;34m(\u001b[0m\u001b[0;34m*\u001b[0m\u001b[0margs\u001b[0m\u001b[0;34m,\u001b[0m \u001b[0;34m**\u001b[0m\u001b[0mkwargs\u001b[0m\u001b[0;34m)\u001b[0m\u001b[0;34m\u001b[0m\u001b[0;34m\u001b[0m\u001b[0m\n\u001b[0m\u001b[1;32m   1542\u001b[0m \u001b[0;34m\u001b[0m\u001b[0m\n\u001b[1;32m   1543\u001b[0m         \u001b[0;32mtry\u001b[0m\u001b[0;34m:\u001b[0m\u001b[0;34m\u001b[0m\u001b[0;34m\u001b[0m\u001b[0m\n",
            "\u001b[0;32m/usr/local/lib/python3.10/dist-packages/torch/nn/modules/linear.py\u001b[0m in \u001b[0;36mforward\u001b[0;34m(self, input)\u001b[0m\n\u001b[1;32m    114\u001b[0m \u001b[0;34m\u001b[0m\u001b[0m\n\u001b[1;32m    115\u001b[0m     \u001b[0;32mdef\u001b[0m \u001b[0mforward\u001b[0m\u001b[0;34m(\u001b[0m\u001b[0mself\u001b[0m\u001b[0;34m,\u001b[0m \u001b[0minput\u001b[0m\u001b[0;34m:\u001b[0m \u001b[0mTensor\u001b[0m\u001b[0;34m)\u001b[0m \u001b[0;34m->\u001b[0m \u001b[0mTensor\u001b[0m\u001b[0;34m:\u001b[0m\u001b[0;34m\u001b[0m\u001b[0;34m\u001b[0m\u001b[0m\n\u001b[0;32m--> 116\u001b[0;31m         \u001b[0;32mreturn\u001b[0m \u001b[0mF\u001b[0m\u001b[0;34m.\u001b[0m\u001b[0mlinear\u001b[0m\u001b[0;34m(\u001b[0m\u001b[0minput\u001b[0m\u001b[0;34m,\u001b[0m \u001b[0mself\u001b[0m\u001b[0;34m.\u001b[0m\u001b[0mweight\u001b[0m\u001b[0;34m,\u001b[0m \u001b[0mself\u001b[0m\u001b[0;34m.\u001b[0m\u001b[0mbias\u001b[0m\u001b[0;34m)\u001b[0m\u001b[0;34m\u001b[0m\u001b[0;34m\u001b[0m\u001b[0m\n\u001b[0m\u001b[1;32m    117\u001b[0m \u001b[0;34m\u001b[0m\u001b[0m\n\u001b[1;32m    118\u001b[0m     \u001b[0;32mdef\u001b[0m \u001b[0mextra_repr\u001b[0m\u001b[0;34m(\u001b[0m\u001b[0mself\u001b[0m\u001b[0;34m)\u001b[0m \u001b[0;34m->\u001b[0m \u001b[0mstr\u001b[0m\u001b[0;34m:\u001b[0m\u001b[0;34m\u001b[0m\u001b[0;34m\u001b[0m\u001b[0m\n",
            "\u001b[0;31mKeyboardInterrupt\u001b[0m: "
          ]
        }
      ]
    }
  ]
}